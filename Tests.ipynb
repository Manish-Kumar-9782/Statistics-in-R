{
 "cells": [
  {
   "cell_type": "code",
   "execution_count": 6,
   "id": "d72907b1",
   "metadata": {},
   "outputs": [],
   "source": [
    "timer = read.table(file='timer_data.csv', header=TRUE, fill=TRUE, sep=',')"
   ]
  },
  {
   "cell_type": "code",
   "execution_count": 9,
   "id": "73e7a7b6",
   "metadata": {},
   "outputs": [],
   "source": [
    "today = timer[timer[,\"Date\"] ==\"19-Oct-2021\",]"
   ]
  },
  {
   "cell_type": "code",
   "execution_count": 17,
   "id": "25031599",
   "metadata": {},
   "outputs": [],
   "source": [
    "Statistics = today[today[, \"Record.Topic\"] == \"Statistics In R\",]"
   ]
  },
  {
   "cell_type": "code",
   "execution_count": 18,
   "id": "8b13d159",
   "metadata": {},
   "outputs": [
    {
     "data": {
      "text/html": [
       "<table>\n",
       "<thead><tr><th></th><th scope=col>Record.Type</th><th scope=col>Record.Name</th><th scope=col>Record.Topic</th><th scope=col>Record.SubTopic</th><th scope=col>Date</th><th scope=col>Start.Time</th><th scope=col>TTime</th><th scope=col>CTime</th><th scope=col>End.Time</th><th scope=col>ETime</th><th scope=col>Total.Time</th><th scope=col>Restart.1</th><th scope=col>R1.Start.Time</th><th scope=col>R1.CTime</th><th scope=col>R1.End.Time</th><th scope=col>R1.ETime</th></tr></thead>\n",
       "<tbody>\n",
       "\t<tr><th scope=row>765</th><td>Subject                  </td><td>Root.Statistical Learning</td><td>Statistics In R          </td><td>                         </td><td>19-Oct-2021              </td><td>09:18:21 AM              </td><td>00:30:00                 </td><td>00:21:42                 </td><td>09:40:16 AM              </td><td>                         </td><td>1303                     </td><td>                         </td><td>                         </td><td>                         </td><td>                         </td><td>                         </td></tr>\n",
       "\t<tr><th scope=row>766</th><td>Subject                  </td><td>Root.Statistical Learning</td><td>Statistics In R          </td><td>                         </td><td>19-Oct-2021              </td><td>10:02:30 AM              </td><td>01:00:00                 </td><td>01:00:00                 </td><td>11:03:20 AM              </td><td>00:00:15                 </td><td>3616                     </td><td>                         </td><td>                         </td><td>                         </td><td>                         </td><td>                         </td></tr>\n",
       "\t<tr><th scope=row>767</th><td>Subject                  </td><td>Root.Statistical Learning</td><td>Statistics In R          </td><td>                         </td><td>19-Oct-2021              </td><td>11:11:10 AM              </td><td>01:00:00                 </td><td>01:00:00                 </td><td>12:55:00 PM              </td><td>00:43:17                 </td><td>6173                     </td><td>                         </td><td>                         </td><td>                         </td><td>                         </td><td>                         </td></tr>\n",
       "\t<tr><th scope=row>768</th><td>Subject                  </td><td>Root.Statistical Learning</td><td>Statistics In R          </td><td>                         </td><td>19-Oct-2021              </td><td>02:00:45 PM              </td><td>01:00:00                 </td><td>00:55:43                 </td><td>02:57:01 PM              </td><td>                         </td><td>3344                     </td><td>                         </td><td>                         </td><td>                         </td><td>                         </td><td>                         </td></tr>\n",
       "</tbody>\n",
       "</table>\n"
      ],
      "text/latex": [
       "\\begin{tabular}{r|llllllllllllllll}\n",
       "  & Record.Type & Record.Name & Record.Topic & Record.SubTopic & Date & Start.Time & TTime & CTime & End.Time & ETime & Total.Time & Restart.1 & R1.Start.Time & R1.CTime & R1.End.Time & R1.ETime\\\\\n",
       "\\hline\n",
       "\t765 & Subject                   & Root.Statistical Learning & Statistics In R           &                           & 19-Oct-2021               & 09:18:21 AM               & 00:30:00                  & 00:21:42                  & 09:40:16 AM               &                           & 1303                      &                           &                           &                           &                           &                          \\\\\n",
       "\t766 & Subject                   & Root.Statistical Learning & Statistics In R           &                           & 19-Oct-2021               & 10:02:30 AM               & 01:00:00                  & 01:00:00                  & 11:03:20 AM               & 00:00:15                  & 3616                      &                           &                           &                           &                           &                          \\\\\n",
       "\t767 & Subject                   & Root.Statistical Learning & Statistics In R           &                           & 19-Oct-2021               & 11:11:10 AM               & 01:00:00                  & 01:00:00                  & 12:55:00 PM               & 00:43:17                  & 6173                      &                           &                           &                           &                           &                          \\\\\n",
       "\t768 & Subject                   & Root.Statistical Learning & Statistics In R           &                           & 19-Oct-2021               & 02:00:45 PM               & 01:00:00                  & 00:55:43                  & 02:57:01 PM               &                           & 3344                      &                           &                           &                           &                           &                          \\\\\n",
       "\\end{tabular}\n"
      ],
      "text/markdown": [
       "\n",
       "| <!--/--> | Record.Type | Record.Name | Record.Topic | Record.SubTopic | Date | Start.Time | TTime | CTime | End.Time | ETime | Total.Time | Restart.1 | R1.Start.Time | R1.CTime | R1.End.Time | R1.ETime |\n",
       "|---|---|---|---|---|---|---|---|---|---|---|---|---|---|---|---|---|\n",
       "| 765 | Subject                   | Root.Statistical Learning | Statistics In R           |                           | 19-Oct-2021               | 09:18:21 AM               | 00:30:00                  | 00:21:42                  | 09:40:16 AM               |                           | 1303                      |                           |                           |                           |                           |                           |\n",
       "| 766 | Subject                   | Root.Statistical Learning | Statistics In R           |                           | 19-Oct-2021               | 10:02:30 AM               | 01:00:00                  | 01:00:00                  | 11:03:20 AM               | 00:00:15                  | 3616                      |                           |                           |                           |                           |                           |\n",
       "| 767 | Subject                   | Root.Statistical Learning | Statistics In R           |                           | 19-Oct-2021               | 11:11:10 AM               | 01:00:00                  | 01:00:00                  | 12:55:00 PM               | 00:43:17                  | 6173                      |                           |                           |                           |                           |                           |\n",
       "| 768 | Subject                   | Root.Statistical Learning | Statistics In R           |                           | 19-Oct-2021               | 02:00:45 PM               | 01:00:00                  | 00:55:43                  | 02:57:01 PM               |                           | 3344                      |                           |                           |                           |                           |                           |\n",
       "\n"
      ],
      "text/plain": [
       "    Record.Type Record.Name               Record.Topic    Record.SubTopic\n",
       "765 Subject     Root.Statistical Learning Statistics In R                \n",
       "766 Subject     Root.Statistical Learning Statistics In R                \n",
       "767 Subject     Root.Statistical Learning Statistics In R                \n",
       "768 Subject     Root.Statistical Learning Statistics In R                \n",
       "    Date        Start.Time  TTime    CTime    End.Time    ETime    Total.Time\n",
       "765 19-Oct-2021 09:18:21 AM 00:30:00 00:21:42 09:40:16 AM          1303      \n",
       "766 19-Oct-2021 10:02:30 AM 01:00:00 01:00:00 11:03:20 AM 00:00:15 3616      \n",
       "767 19-Oct-2021 11:11:10 AM 01:00:00 01:00:00 12:55:00 PM 00:43:17 6173      \n",
       "768 19-Oct-2021 02:00:45 PM 01:00:00 00:55:43 02:57:01 PM          3344      \n",
       "    Restart.1 R1.Start.Time R1.CTime R1.End.Time R1.ETime\n",
       "765                                                      \n",
       "766                                                      \n",
       "767                                                      \n",
       "768                                                      "
      ]
     },
     "metadata": {},
     "output_type": "display_data"
    }
   ],
   "source": [
    "Statistics"
   ]
  },
  {
   "cell_type": "code",
   "execution_count": 19,
   "id": "7e1e0fca",
   "metadata": {},
   "outputs": [
    {
     "data": {
      "text/html": [
       "14436"
      ],
      "text/latex": [
       "14436"
      ],
      "text/markdown": [
       "14436"
      ],
      "text/plain": [
       "[1] 14436"
      ]
     },
     "metadata": {},
     "output_type": "display_data"
    }
   ],
   "source": [
    "sum(Statistics$Total.Time)"
   ]
  },
  {
   "cell_type": "code",
   "execution_count": 20,
   "id": "3c345dfc",
   "metadata": {},
   "outputs": [
    {
     "data": {
      "text/html": [
       "15036"
      ],
      "text/latex": [
       "15036"
      ],
      "text/markdown": [
       "15036"
      ],
      "text/plain": [
       "[1] 15036"
      ]
     },
     "metadata": {},
     "output_type": "display_data"
    }
   ],
   "source": [
    "14436+600"
   ]
  },
  {
   "cell_type": "code",
   "execution_count": 22,
   "id": "55dd70b9",
   "metadata": {},
   "outputs": [
    {
     "data": {
      "text/html": [
       "4.17777777777778"
      ],
      "text/latex": [
       "4.17777777777778"
      ],
      "text/markdown": [
       "4.17777777777778"
      ],
      "text/plain": [
       "[1] 4.177778"
      ]
     },
     "metadata": {},
     "output_type": "display_data"
    }
   ],
   "source": [
    "15040/3600"
   ]
  },
  {
   "cell_type": "code",
   "execution_count": 23,
   "id": "edf9f14e",
   "metadata": {},
   "outputs": [
    {
     "data": {
      "text/html": [
       "46.6666666666667"
      ],
      "text/latex": [
       "46.6666666666667"
      ],
      "text/markdown": [
       "46.6666666666667"
      ],
      "text/plain": [
       "[1] 46.66667"
      ]
     },
     "metadata": {},
     "output_type": "display_data"
    }
   ],
   "source": [
    "2800/60"
   ]
  },
  {
   "cell_type": "code",
   "execution_count": null,
   "id": "e716e9cd",
   "metadata": {},
   "outputs": [],
   "source": []
  }
 ],
 "metadata": {
  "kernelspec": {
   "display_name": "R",
   "language": "R",
   "name": "ir"
  },
  "language_info": {
   "codemirror_mode": "r",
   "file_extension": ".r",
   "mimetype": "text/x-r-source",
   "name": "R",
   "pygments_lexer": "r",
   "version": "3.6.1"
  }
 },
 "nbformat": 4,
 "nbformat_minor": 5
}
