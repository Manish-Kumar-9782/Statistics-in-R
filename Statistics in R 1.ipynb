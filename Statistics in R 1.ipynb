{
 "cells": [
  {
   "cell_type": "markdown",
   "id": "cb506959",
   "metadata": {},
   "source": [
    "# Probability"
   ]
  },
  {
   "cell_type": "markdown",
   "id": "d5b746b7",
   "metadata": {},
   "source": [
    "## Infinite and Finite Probability"
   ]
  },
  {
   "cell_type": "markdown",
   "id": "61fb883f",
   "metadata": {},
   "source": [
    "### Simulation of flipping coins "
   ]
  },
  {
   "cell_type": "code",
   "execution_count": 1,
   "id": "dbd977c1",
   "metadata": {},
   "outputs": [],
   "source": [
    "# To fix the simulation result be reamin same we will set the seeds to 13579\n",
    "set.seed(13579)"
   ]
  },
  {
   "cell_type": "markdown",
   "id": "52bde02f",
   "metadata": {},
   "source": [
    "0. Setting the population probability in *Probability* variable."
   ]
  },
  {
   "cell_type": "code",
   "execution_count": 2,
   "id": "9978f9e1",
   "metadata": {},
   "outputs": [],
   "source": [
    "# there are ony two values in flipping coin 0 and 1, hence {0,1} is the population of the flipping coin.\n",
    "Population = c(0,1)\n",
    "\n",
    "# setting the probability for the population.\n",
    "Probability = c(0.5, 0.5)"
   ]
  },
  {
   "cell_type": "markdown",
   "id": "0e43956d",
   "metadata": {},
   "source": [
    "1. The population probability is set in the variable Probability and the SampleSizes are created by using the seq function. The seq function creates a vectro of values from 100 to 1000 with intervals of 100."
   ]
  },
  {
   "cell_type": "code",
   "execution_count": 3,
   "id": "5ff77704",
   "metadata": {},
   "outputs": [
    {
     "data": {
      "text/html": [
       "<ol class=list-inline>\n",
       "\t<li>100</li>\n",
       "\t<li>200</li>\n",
       "\t<li>300</li>\n",
       "\t<li>400</li>\n",
       "\t<li>500</li>\n",
       "\t<li>600</li>\n",
       "\t<li>700</li>\n",
       "\t<li>800</li>\n",
       "\t<li>900</li>\n",
       "\t<li>1000</li>\n",
       "</ol>\n"
      ],
      "text/latex": [
       "\\begin{enumerate*}\n",
       "\\item 100\n",
       "\\item 200\n",
       "\\item 300\n",
       "\\item 400\n",
       "\\item 500\n",
       "\\item 600\n",
       "\\item 700\n",
       "\\item 800\n",
       "\\item 900\n",
       "\\item 1000\n",
       "\\end{enumerate*}\n"
      ],
      "text/markdown": [
       "1. 100\n",
       "2. 200\n",
       "3. 300\n",
       "4. 400\n",
       "5. 500\n",
       "6. 600\n",
       "7. 700\n",
       "8. 800\n",
       "9. 900\n",
       "10. 1000\n",
       "\n",
       "\n"
      ],
      "text/plain": [
       " [1]  100  200  300  400  500  600  700  800  900 1000"
      ]
     },
     "metadata": {},
     "output_type": "display_data"
    }
   ],
   "source": [
    "# Creating sample size\n",
    "SampleSizes = seq(100, 1000, 100)\n",
    "SampleSizes"
   ]
  },
  {
   "cell_type": "markdown",
   "id": "fd97263c",
   "metadata": {},
   "source": [
    "2. Now we will create a SampleFreqs object and we will set it to NULL so that it may be constructed into a vector by appending values using the c function. "
   ]
  },
  {
   "cell_type": "code",
   "execution_count": 4,
   "id": "68d88059",
   "metadata": {},
   "outputs": [
    {
     "data": {
      "text/plain": [
       "NULL"
      ]
     },
     "metadata": {},
     "output_type": "display_data"
    }
   ],
   "source": [
    "# creating a SampleFreq object\n",
    "SampleFreqs = NULL\n",
    "SampleFreqs"
   ]
  },
  {
   "cell_type": "markdown",
   "id": "154b59f3",
   "metadata": {},
   "source": [
    "3. A `for` loop iterates through all values within the SampleSizes vector assigning each value in turn to the SampleSize variable.\n",
    "    * The SmapleFreqs vector is then increased by appending the sum of the samples of size SampleSize taken from the population of 0 and 1."
   ]
  },
  {
   "cell_type": "code",
   "execution_count": 5,
   "id": "2ee934ab",
   "metadata": {},
   "outputs": [
    {
     "ename": "ERROR",
     "evalue": "Error in eval(expr, envir, enclos): object 'RSampleFreqs' not found\n",
     "output_type": "error",
     "traceback": [
      "Error in eval(expr, envir, enclos): object 'RSampleFreqs' not found\nTraceback:\n"
     ]
    }
   ],
   "source": [
    "set.seed(13579)\n",
    "count = 0\n",
    "\n",
    "# first we will create a Errors Vector to sotre the errors\n",
    "Errors = vector(length = length(SampleSizes))\n",
    "\n",
    "for (SampleSize in SampleSizes){\n",
    "    \n",
    "    # making count variable to set the Samples on their position\n",
    "    count = count + 1\n",
    "    # Now SampleSize will hold the Size of the Samples one value in each iteration.\n",
    "    \n",
    "    # getting the Sample frequencies by using the smaple fucntion on the population.\n",
    "    Sample = sample(x=Population, size= SampleSize, prob = Probability, replace = TRUE)\n",
    "    \n",
    "    # replace: to make the sample larger than the population we need to make it True.\n",
    "    # x: Population vector from which we need to select 0 or 1 accoriding to the probability weight.'\n",
    "    # size: sample size, a not-negative integer giving the number of items to choose.\n",
    "    # prob: a vector of probaboility weights for obtaining the elements of the vector being smapled.\n",
    "    \n",
    "    \n",
    "    # Now we will get the sum of the Sample and we will put into the SampelFreqs variable.\n",
    "    SampleFreqs[count] = sum(Sample)\n",
    "    \n",
    "    # Calculating the errors\n",
    "    Errors = RSampleFreqs - Probability[2]\n",
    "\n",
    "}"
   ]
  },
  {
   "cell_type": "markdown",
   "id": "a698a87b",
   "metadata": {},
   "source": [
    "4. SampleFreqs contians 0 or 1 in which 0 having the probability of 0.50 and 1 also having the probability of 0.50, since coin is unbiased.\n",
    "    * Now we will devide the SampleFreq with Samplesize to get the relative sample frequecny."
   ]
  },
  {
   "cell_type": "code",
   "execution_count": 6,
   "id": "f3be80ac",
   "metadata": {},
   "outputs": [],
   "source": [
    "# Now we will get the relative frequency\n",
    "RSampleFreqs = SampleFreqs/SampleSizes"
   ]
  },
  {
   "cell_type": "code",
   "execution_count": 7,
   "id": "995fbfc7",
   "metadata": {},
   "outputs": [
    {
     "data": {
      "text/html": [
       "<ol class=list-inline>\n",
       "\t<li>0.52</li>\n",
       "\t<li>0.26</li>\n",
       "\t<li>0.173333333333333</li>\n",
       "\t<li>0.13</li>\n",
       "\t<li>0.104</li>\n",
       "\t<li>0.0866666666666667</li>\n",
       "\t<li>0.0742857142857143</li>\n",
       "\t<li>0.065</li>\n",
       "\t<li>0.0577777777777778</li>\n",
       "\t<li>0.052</li>\n",
       "</ol>\n"
      ],
      "text/latex": [
       "\\begin{enumerate*}\n",
       "\\item 0.52\n",
       "\\item 0.26\n",
       "\\item 0.173333333333333\n",
       "\\item 0.13\n",
       "\\item 0.104\n",
       "\\item 0.0866666666666667\n",
       "\\item 0.0742857142857143\n",
       "\\item 0.065\n",
       "\\item 0.0577777777777778\n",
       "\\item 0.052\n",
       "\\end{enumerate*}\n"
      ],
      "text/markdown": [
       "1. 0.52\n",
       "2. 0.26\n",
       "3. 0.173333333333333\n",
       "4. 0.13\n",
       "5. 0.104\n",
       "6. 0.0866666666666667\n",
       "7. 0.0742857142857143\n",
       "8. 0.065\n",
       "9. 0.0577777777777778\n",
       "10. 0.052\n",
       "\n",
       "\n"
      ],
      "text/plain": [
       " [1] 0.52000000 0.26000000 0.17333333 0.13000000 0.10400000 0.08666667\n",
       " [7] 0.07428571 0.06500000 0.05777778 0.05200000"
      ]
     },
     "metadata": {},
     "output_type": "display_data"
    }
   ],
   "source": [
    "RSampleFreqs"
   ]
  },
  {
   "cell_type": "markdown",
   "id": "1d12a975",
   "metadata": {},
   "source": [
    "5. These relative frequencies are plotted with a line graph using the generic plot function.\n",
    "    * Sample size is used for the data on the x-axis and SampleFreqs for the data on the y-axis.\n",
    "    * Type = 'l' is used to draw the lines instead of the dot points.\n",
    "    * ylim: is used to set the y-axis limits."
   ]
  },
  {
   "cell_type": "code",
   "execution_count": 8,
   "id": "f53d2328",
   "metadata": {},
   "outputs": [
    {
     "data": {
      "image/png": "[encoded data removed]",
      "text/plain": [
       "plot without title"
      ]
     },
     "metadata": {},
     "output_type": "display_data"
    }
   ],
   "source": [
    "results = plot(x=SampleSizes, y=RSampleFreqs, type='l', ylim= c(0.38, 0.63), col=3)"
   ]
  },
  {
   "cell_type": "markdown",
   "id": "46a142d8",
   "metadata": {},
   "source": [
    "6. Now we will construct a matrix containing SampleSize, realtive SampleFreq, Population Probability and Error.\n",
    "    * We will use the rbind function to bind the rows.\n",
    "    * we will make a row by uisng a cbind funciton.\n",
    "    * we will use a for loop to construct the matrix fo values."
   ]
  },
  {
   "cell_type": "code",
   "execution_count": 9,
   "id": "236ce807",
   "metadata": {},
   "outputs": [
    {
     "data": {
      "text/html": [
       "<ol class=list-inline>\n",
       "\t<li>100</li>\n",
       "\t<li>200</li>\n",
       "\t<li>300</li>\n",
       "\t<li>400</li>\n",
       "\t<li>500</li>\n",
       "\t<li>600</li>\n",
       "\t<li>700</li>\n",
       "\t<li>800</li>\n",
       "\t<li>900</li>\n",
       "\t<li>1000</li>\n",
       "</ol>\n"
      ],
      "text/latex": [
       "\\begin{enumerate*}\n",
       "\\item 100\n",
       "\\item 200\n",
       "\\item 300\n",
       "\\item 400\n",
       "\\item 500\n",
       "\\item 600\n",
       "\\item 700\n",
       "\\item 800\n",
       "\\item 900\n",
       "\\item 1000\n",
       "\\end{enumerate*}\n"
      ],
      "text/markdown": [
       "1. 100\n",
       "2. 200\n",
       "3. 300\n",
       "4. 400\n",
       "5. 500\n",
       "6. 600\n",
       "7. 700\n",
       "8. 800\n",
       "9. 900\n",
       "10. 1000\n",
       "\n",
       "\n"
      ],
      "text/plain": [
       " [1]  100  200  300  400  500  600  700  800  900 1000"
      ]
     },
     "metadata": {},
     "output_type": "display_data"
    }
   ],
   "source": [
    "SampleSizes"
   ]
  },
  {
   "cell_type": "code",
   "execution_count": 10,
   "id": "404011ad",
   "metadata": {},
   "outputs": [
    {
     "data": {
      "text/html": [
       "<ol class=list-inline>\n",
       "\t<li>0.52</li>\n",
       "\t<li>0.26</li>\n",
       "\t<li>0.173333333333333</li>\n",
       "\t<li>0.13</li>\n",
       "\t<li>0.104</li>\n",
       "\t<li>0.0866666666666667</li>\n",
       "\t<li>0.0742857142857143</li>\n",
       "\t<li>0.065</li>\n",
       "\t<li>0.0577777777777778</li>\n",
       "\t<li>0.052</li>\n",
       "</ol>\n"
      ],
      "text/latex": [
       "\\begin{enumerate*}\n",
       "\\item 0.52\n",
       "\\item 0.26\n",
       "\\item 0.173333333333333\n",
       "\\item 0.13\n",
       "\\item 0.104\n",
       "\\item 0.0866666666666667\n",
       "\\item 0.0742857142857143\n",
       "\\item 0.065\n",
       "\\item 0.0577777777777778\n",
       "\\item 0.052\n",
       "\\end{enumerate*}\n"
      ],
      "text/markdown": [
       "1. 0.52\n",
       "2. 0.26\n",
       "3. 0.173333333333333\n",
       "4. 0.13\n",
       "5. 0.104\n",
       "6. 0.0866666666666667\n",
       "7. 0.0742857142857143\n",
       "8. 0.065\n",
       "9. 0.0577777777777778\n",
       "10. 0.052\n",
       "\n",
       "\n"
      ],
      "text/plain": [
       " [1] 0.52000000 0.26000000 0.17333333 0.13000000 0.10400000 0.08666667\n",
       " [7] 0.07428571 0.06500000 0.05777778 0.05200000"
      ]
     },
     "metadata": {},
     "output_type": "display_data"
    }
   ],
   "source": [
    "RSampleFreqs"
   ]
  },
  {
   "cell_type": "code",
   "execution_count": 11,
   "id": "913b4b8f",
   "metadata": {},
   "outputs": [
    {
     "data": {
      "text/html": [
       "<ol class=list-inline>\n",
       "\t<li>0.5</li>\n",
       "\t<li>0.5</li>\n",
       "\t<li>0.5</li>\n",
       "\t<li>0.5</li>\n",
       "\t<li>0.5</li>\n",
       "\t<li>0.5</li>\n",
       "\t<li>0.5</li>\n",
       "\t<li>0.5</li>\n",
       "\t<li>0.5</li>\n",
       "\t<li>0.5</li>\n",
       "</ol>\n"
      ],
      "text/latex": [
       "\\begin{enumerate*}\n",
       "\\item 0.5\n",
       "\\item 0.5\n",
       "\\item 0.5\n",
       "\\item 0.5\n",
       "\\item 0.5\n",
       "\\item 0.5\n",
       "\\item 0.5\n",
       "\\item 0.5\n",
       "\\item 0.5\n",
       "\\item 0.5\n",
       "\\end{enumerate*}\n"
      ],
      "text/markdown": [
       "1. 0.5\n",
       "2. 0.5\n",
       "3. 0.5\n",
       "4. 0.5\n",
       "5. 0.5\n",
       "6. 0.5\n",
       "7. 0.5\n",
       "8. 0.5\n",
       "9. 0.5\n",
       "10. 0.5\n",
       "\n",
       "\n"
      ],
      "text/plain": [
       " [1] 0.5 0.5 0.5 0.5 0.5 0.5 0.5 0.5 0.5 0.5"
      ]
     },
     "metadata": {},
     "output_type": "display_data"
    }
   ],
   "source": [
    "# Now we need to make a Population Probability vector containing the probability of having head\n",
    "PProbability = vector(length = length(SampleSizes))\n",
    "PProbability[1:10] = Probability[2]\n",
    "\n",
    "# checking the probability\n",
    "PProbability"
   ]
  },
  {
   "cell_type": "code",
   "execution_count": 12,
   "id": "9dc44968",
   "metadata": {},
   "outputs": [
    {
     "data": {
      "text/html": [
       "<ol class=list-inline>\n",
       "\t<li>FALSE</li>\n",
       "\t<li>FALSE</li>\n",
       "\t<li>FALSE</li>\n",
       "\t<li>FALSE</li>\n",
       "\t<li>FALSE</li>\n",
       "\t<li>FALSE</li>\n",
       "\t<li>FALSE</li>\n",
       "\t<li>FALSE</li>\n",
       "\t<li>FALSE</li>\n",
       "\t<li>FALSE</li>\n",
       "</ol>\n"
      ],
      "text/latex": [
       "\\begin{enumerate*}\n",
       "\\item FALSE\n",
       "\\item FALSE\n",
       "\\item FALSE\n",
       "\\item FALSE\n",
       "\\item FALSE\n",
       "\\item FALSE\n",
       "\\item FALSE\n",
       "\\item FALSE\n",
       "\\item FALSE\n",
       "\\item FALSE\n",
       "\\end{enumerate*}\n"
      ],
      "text/markdown": [
       "1. FALSE\n",
       "2. FALSE\n",
       "3. FALSE\n",
       "4. FALSE\n",
       "5. FALSE\n",
       "6. FALSE\n",
       "7. FALSE\n",
       "8. FALSE\n",
       "9. FALSE\n",
       "10. FALSE\n",
       "\n",
       "\n"
      ],
      "text/plain": [
       " [1] FALSE FALSE FALSE FALSE FALSE FALSE FALSE FALSE FALSE FALSE"
      ]
     },
     "metadata": {},
     "output_type": "display_data"
    }
   ],
   "source": [
    "# checking the errors\n",
    "Errors"
   ]
  },
  {
   "cell_type": "code",
   "execution_count": 13,
   "id": "e3e27e17",
   "metadata": {},
   "outputs": [],
   "source": [
    "# Now we will bind each column by using the cbind.\n",
    "DataFrame = cbind(SampleSizes, RSampleFreqs, PProbability, Errors)"
   ]
  },
  {
   "cell_type": "code",
   "execution_count": 14,
   "id": "aa1a4501",
   "metadata": {},
   "outputs": [
    {
     "data": {
      "text/html": [
       "<table>\n",
       "<thead><tr><th scope=col>SampleSizes</th><th scope=col>RSampleFreqs</th><th scope=col>PProbability</th><th scope=col>Errors</th></tr></thead>\n",
       "<tbody>\n",
       "\t<tr><td> 100      </td><td>0.52000000</td><td>0.5       </td><td>0         </td></tr>\n",
       "\t<tr><td> 200      </td><td>0.26000000</td><td>0.5       </td><td>0         </td></tr>\n",
       "\t<tr><td> 300      </td><td>0.17333333</td><td>0.5       </td><td>0         </td></tr>\n",
       "\t<tr><td> 400      </td><td>0.13000000</td><td>0.5       </td><td>0         </td></tr>\n",
       "\t<tr><td> 500      </td><td>0.10400000</td><td>0.5       </td><td>0         </td></tr>\n",
       "\t<tr><td> 600      </td><td>0.08666667</td><td>0.5       </td><td>0         </td></tr>\n",
       "\t<tr><td> 700      </td><td>0.07428571</td><td>0.5       </td><td>0         </td></tr>\n",
       "\t<tr><td> 800      </td><td>0.06500000</td><td>0.5       </td><td>0         </td></tr>\n",
       "\t<tr><td> 900      </td><td>0.05777778</td><td>0.5       </td><td>0         </td></tr>\n",
       "\t<tr><td>1000      </td><td>0.05200000</td><td>0.5       </td><td>0         </td></tr>\n",
       "</tbody>\n",
       "</table>\n"
      ],
      "text/latex": [
       "\\begin{tabular}{llll}\n",
       " SampleSizes & RSampleFreqs & PProbability & Errors\\\\\n",
       "\\hline\n",
       "\t  100       & 0.52000000 & 0.5        & 0         \\\\\n",
       "\t  200       & 0.26000000 & 0.5        & 0         \\\\\n",
       "\t  300       & 0.17333333 & 0.5        & 0         \\\\\n",
       "\t  400       & 0.13000000 & 0.5        & 0         \\\\\n",
       "\t  500       & 0.10400000 & 0.5        & 0         \\\\\n",
       "\t  600       & 0.08666667 & 0.5        & 0         \\\\\n",
       "\t  700       & 0.07428571 & 0.5        & 0         \\\\\n",
       "\t  800       & 0.06500000 & 0.5        & 0         \\\\\n",
       "\t  900       & 0.05777778 & 0.5        & 0         \\\\\n",
       "\t 1000       & 0.05200000 & 0.5        & 0         \\\\\n",
       "\\end{tabular}\n"
      ],
      "text/markdown": [
       "\n",
       "| SampleSizes | RSampleFreqs | PProbability | Errors |\n",
       "|---|---|---|---|\n",
       "|  100       | 0.52000000 | 0.5        | 0          |\n",
       "|  200       | 0.26000000 | 0.5        | 0          |\n",
       "|  300       | 0.17333333 | 0.5        | 0          |\n",
       "|  400       | 0.13000000 | 0.5        | 0          |\n",
       "|  500       | 0.10400000 | 0.5        | 0          |\n",
       "|  600       | 0.08666667 | 0.5        | 0          |\n",
       "|  700       | 0.07428571 | 0.5        | 0          |\n",
       "|  800       | 0.06500000 | 0.5        | 0          |\n",
       "|  900       | 0.05777778 | 0.5        | 0          |\n",
       "| 1000       | 0.05200000 | 0.5        | 0          |\n",
       "\n"
      ],
      "text/plain": [
       "      SampleSizes RSampleFreqs PProbability Errors\n",
       " [1,]  100        0.52000000   0.5          0     \n",
       " [2,]  200        0.26000000   0.5          0     \n",
       " [3,]  300        0.17333333   0.5          0     \n",
       " [4,]  400        0.13000000   0.5          0     \n",
       " [5,]  500        0.10400000   0.5          0     \n",
       " [6,]  600        0.08666667   0.5          0     \n",
       " [7,]  700        0.07428571   0.5          0     \n",
       " [8,]  800        0.06500000   0.5          0     \n",
       " [9,]  900        0.05777778   0.5          0     \n",
       "[10,] 1000        0.05200000   0.5          0     "
      ]
     },
     "metadata": {},
     "output_type": "display_data"
    }
   ],
   "source": [
    "# checking the DataFrame\n",
    "DataFrame"
   ]
  },
  {
   "cell_type": "markdown",
   "id": "5a71ae0d",
   "metadata": {},
   "source": [
    "**Plotting the error vs sample size**"
   ]
  },
  {
   "cell_type": "code",
   "execution_count": 15,
   "id": "d0eeb93d",
   "metadata": {},
   "outputs": [
    {
     "data": {
      "image/png": "[encoded data removed]",
      "text/plain": [
       "plot without title"
      ]
     },
     "metadata": {},
     "output_type": "display_data"
    }
   ],
   "source": [
    "# plotting the Errors vs the Samplesizes\n",
    "plot(x=SampleSizes, y=Errors, type=\"l\", ylim = c(-0.05, 0.05) , col=3)\n",
    "\n",
    "# Now we will plot the points over the plot by using the points\n",
    "points(x=SampleSizes, y=Errors, col=2, pch=16)"
   ]
  },
  {
   "cell_type": "markdown",
   "id": "e9749443",
   "metadata": {},
   "source": [
    "#### Simulate a probability for 50 Smaples form 50 to 1000"
   ]
  },
  {
   "cell_type": "markdown",
   "id": "4356b7b0",
   "metadata": {},
   "source": [
    "* To do this exercise we will follow all the above steps and Now this time we will make a function which can be handle any number of sample.\n",
    "\n",
    "* `Arguments required in function:`\n",
    "    * Population\n",
    "    * Probability\n",
    "    * SampleSize\n",
    "    * Sample range"
   ]
  },
  {
   "cell_type": "code",
   "execution_count": 16,
   "id": "e13c7977",
   "metadata": {},
   "outputs": [],
   "source": [
    "ProbSim = function(Population, Probability, from=50, to=1000, SampleSize=50){\n",
    "    \n",
    "    # setting the seed to get the result same every time\n",
    "    set.seed(135790)\n",
    "    \n",
    "    count = 0\n",
    "    \n",
    "    # first we need to make the sequence \n",
    "    SampleSizes = seq(from=from, to=to, SampleSize)\n",
    "    \n",
    "    # Making a vector for storing the relative sample frequency\n",
    "    SampleFreqs = vector(length = length(SampleSizes))\n",
    "    \n",
    "     # probability vector \n",
    "    PProbability = vector(length = length(SampleSizes))\n",
    "    \n",
    "    # Now  we need to make the sample for  having head for each Sample Size by using for loop.\n",
    "    \n",
    "    # first we will create a Errors Vector to sotre the errors\n",
    "    Errors = vector(length = length(SampleSizes))\n",
    "\n",
    "    for (i in SampleSizes){\n",
    "\n",
    "        # making count variable to set the Samples on their position\n",
    "        count = count + 1\n",
    "        # Now SampleSize will hold the Size of the Samples one value in each iteration.\n",
    "\n",
    "        # getting the Sample frequencies by using the smaple fucntion on the population.\n",
    "        Sample = sample(x=Population, size= i, prob = Probability, replace = TRUE)\n",
    "\n",
    "        # replace: to make the sample larger than the population we need to make it True.\n",
    "        # x: Population vector from which we need to select 0 or 1 accoriding to the probability weight.'\n",
    "        # size: sample size, a not-negative integer giving the number of items to choose.\n",
    "        # prob: a vector of probaboility weights for obtaining the elements of the vector being smapled.\n",
    "\n",
    "\n",
    "        # Now we will get the sum of the Sample and we will put into the SampelFreqs variable.\n",
    "        SampleFreqs[count] = sum(Sample)\n",
    "\n",
    "       \n",
    "        \n",
    "        PProbability[count] = Probability[2]\n",
    "       \n",
    "    }\n",
    "    # Now we will calculate the relative Sample frequency\n",
    "    RSampleFreqs = SampleFreqs/SampleSizes\n",
    "    # Calculating the errors\n",
    "    Errors = RSampleFreqs - Probability[2]\n",
    "    \n",
    "    # Now we need to make a dataframe by using the cbind function\n",
    "    \n",
    "    Summary = cbind(SampleSizes, RSampleFreqs, PProbability, Errors)\n",
    "    \n",
    "    # Now we need to return the dataframe.\n",
    "    Summary\n",
    "    \n",
    "}"
   ]
  },
  {
   "cell_type": "code",
   "execution_count": 17,
   "id": "8e76bd89",
   "metadata": {},
   "outputs": [],
   "source": [
    "plot.Freqs = function(Values){\n",
    "    \n",
    "    plot(RSampleFreqs ~ SampleSizes, data=Values, col=3, type='l')\n",
    "    points(RSampleFreqs ~ SampleSizes, data=Values, col=2, pch=16, cex=0.5)\n",
    "    abline(a=1, b=0, h=Values$PProbability[1], lty=2, col=4)\n",
    "    \n",
    "}"
   ]
  },
  {
   "cell_type": "code",
   "execution_count": 18,
   "id": "14b661e7",
   "metadata": {},
   "outputs": [],
   "source": [
    "plot.Errors = function(Values){\n",
    "    plot(Errors ~ SampleSizes, data=Values, col=3, type='l')\n",
    "    points(Errors ~ SampleSizes, data=Values, col=2, pch=16, cex=0.5)\n",
    "    abline(a=1, b=0, h=0.00, lty=2, col=4)\n",
    "}"
   ]
  },
  {
   "cell_type": "code",
   "execution_count": 19,
   "id": "81de4b2c",
   "metadata": {},
   "outputs": [],
   "source": [
    "Summary = ProbSim(Population = c(0,1), Probability = c(0.5,0.5))\n",
    "Summary = data.frame(Summary)"
   ]
  },
  {
   "cell_type": "code",
   "execution_count": 20,
   "id": "860657ce",
   "metadata": {},
   "outputs": [
    {
     "data": {
      "text/html": [
       "<table>\n",
       "<thead><tr><th scope=col>SampleSizes</th><th scope=col>RSampleFreqs</th><th scope=col>PProbability</th><th scope=col>Errors</th></tr></thead>\n",
       "<tbody>\n",
       "\t<tr><td>  50        </td><td>0.5000000   </td><td>0.5         </td><td> 0.000000000</td></tr>\n",
       "\t<tr><td> 100        </td><td>0.4000000   </td><td>0.5         </td><td>-0.100000000</td></tr>\n",
       "\t<tr><td> 150        </td><td>0.4333333   </td><td>0.5         </td><td>-0.066666667</td></tr>\n",
       "\t<tr><td> 200        </td><td>0.4400000   </td><td>0.5         </td><td>-0.060000000</td></tr>\n",
       "\t<tr><td> 250        </td><td>0.4520000   </td><td>0.5         </td><td>-0.048000000</td></tr>\n",
       "\t<tr><td> 300        </td><td>0.4633333   </td><td>0.5         </td><td>-0.036666667</td></tr>\n",
       "\t<tr><td> 350        </td><td>0.4885714   </td><td>0.5         </td><td>-0.011428571</td></tr>\n",
       "\t<tr><td> 400        </td><td>0.4550000   </td><td>0.5         </td><td>-0.045000000</td></tr>\n",
       "\t<tr><td> 450        </td><td>0.4822222   </td><td>0.5         </td><td>-0.017777778</td></tr>\n",
       "\t<tr><td> 500        </td><td>0.4840000   </td><td>0.5         </td><td>-0.016000000</td></tr>\n",
       "\t<tr><td> 550        </td><td>0.4854545   </td><td>0.5         </td><td>-0.014545455</td></tr>\n",
       "\t<tr><td> 600        </td><td>0.4950000   </td><td>0.5         </td><td>-0.005000000</td></tr>\n",
       "\t<tr><td> 650        </td><td>0.4707692   </td><td>0.5         </td><td>-0.029230769</td></tr>\n",
       "\t<tr><td> 700        </td><td>0.4900000   </td><td>0.5         </td><td>-0.010000000</td></tr>\n",
       "\t<tr><td> 750        </td><td>0.4986667   </td><td>0.5         </td><td>-0.001333333</td></tr>\n",
       "\t<tr><td> 800        </td><td>0.4925000   </td><td>0.5         </td><td>-0.007500000</td></tr>\n",
       "\t<tr><td> 850        </td><td>0.4882353   </td><td>0.5         </td><td>-0.011764706</td></tr>\n",
       "\t<tr><td> 900        </td><td>0.4933333   </td><td>0.5         </td><td>-0.006666667</td></tr>\n",
       "\t<tr><td> 950        </td><td>0.5063158   </td><td>0.5         </td><td> 0.006315789</td></tr>\n",
       "\t<tr><td>1000        </td><td>0.5070000   </td><td>0.5         </td><td> 0.007000000</td></tr>\n",
       "</tbody>\n",
       "</table>\n"
      ],
      "text/latex": [
       "\\begin{tabular}{r|llll}\n",
       " SampleSizes & RSampleFreqs & PProbability & Errors\\\\\n",
       "\\hline\n",
       "\t   50         & 0.5000000    & 0.5          &  0.000000000\\\\\n",
       "\t  100         & 0.4000000    & 0.5          & -0.100000000\\\\\n",
       "\t  150         & 0.4333333    & 0.5          & -0.066666667\\\\\n",
       "\t  200         & 0.4400000    & 0.5          & -0.060000000\\\\\n",
       "\t  250         & 0.4520000    & 0.5          & -0.048000000\\\\\n",
       "\t  300         & 0.4633333    & 0.5          & -0.036666667\\\\\n",
       "\t  350         & 0.4885714    & 0.5          & -0.011428571\\\\\n",
       "\t  400         & 0.4550000    & 0.5          & -0.045000000\\\\\n",
       "\t  450         & 0.4822222    & 0.5          & -0.017777778\\\\\n",
       "\t  500         & 0.4840000    & 0.5          & -0.016000000\\\\\n",
       "\t  550         & 0.4854545    & 0.5          & -0.014545455\\\\\n",
       "\t  600         & 0.4950000    & 0.5          & -0.005000000\\\\\n",
       "\t  650         & 0.4707692    & 0.5          & -0.029230769\\\\\n",
       "\t  700         & 0.4900000    & 0.5          & -0.010000000\\\\\n",
       "\t  750         & 0.4986667    & 0.5          & -0.001333333\\\\\n",
       "\t  800         & 0.4925000    & 0.5          & -0.007500000\\\\\n",
       "\t  850         & 0.4882353    & 0.5          & -0.011764706\\\\\n",
       "\t  900         & 0.4933333    & 0.5          & -0.006666667\\\\\n",
       "\t  950         & 0.5063158    & 0.5          &  0.006315789\\\\\n",
       "\t 1000         & 0.5070000    & 0.5          &  0.007000000\\\\\n",
       "\\end{tabular}\n"
      ],
      "text/markdown": [
       "\n",
       "| SampleSizes | RSampleFreqs | PProbability | Errors |\n",
       "|---|---|---|---|\n",
       "|   50         | 0.5000000    | 0.5          |  0.000000000 |\n",
       "|  100         | 0.4000000    | 0.5          | -0.100000000 |\n",
       "|  150         | 0.4333333    | 0.5          | -0.066666667 |\n",
       "|  200         | 0.4400000    | 0.5          | -0.060000000 |\n",
       "|  250         | 0.4520000    | 0.5          | -0.048000000 |\n",
       "|  300         | 0.4633333    | 0.5          | -0.036666667 |\n",
       "|  350         | 0.4885714    | 0.5          | -0.011428571 |\n",
       "|  400         | 0.4550000    | 0.5          | -0.045000000 |\n",
       "|  450         | 0.4822222    | 0.5          | -0.017777778 |\n",
       "|  500         | 0.4840000    | 0.5          | -0.016000000 |\n",
       "|  550         | 0.4854545    | 0.5          | -0.014545455 |\n",
       "|  600         | 0.4950000    | 0.5          | -0.005000000 |\n",
       "|  650         | 0.4707692    | 0.5          | -0.029230769 |\n",
       "|  700         | 0.4900000    | 0.5          | -0.010000000 |\n",
       "|  750         | 0.4986667    | 0.5          | -0.001333333 |\n",
       "|  800         | 0.4925000    | 0.5          | -0.007500000 |\n",
       "|  850         | 0.4882353    | 0.5          | -0.011764706 |\n",
       "|  900         | 0.4933333    | 0.5          | -0.006666667 |\n",
       "|  950         | 0.5063158    | 0.5          |  0.006315789 |\n",
       "| 1000         | 0.5070000    | 0.5          |  0.007000000 |\n",
       "\n"
      ],
      "text/plain": [
       "   SampleSizes RSampleFreqs PProbability Errors      \n",
       "1    50        0.5000000    0.5           0.000000000\n",
       "2   100        0.4000000    0.5          -0.100000000\n",
       "3   150        0.4333333    0.5          -0.066666667\n",
       "4   200        0.4400000    0.5          -0.060000000\n",
       "5   250        0.4520000    0.5          -0.048000000\n",
       "6   300        0.4633333    0.5          -0.036666667\n",
       "7   350        0.4885714    0.5          -0.011428571\n",
       "8   400        0.4550000    0.5          -0.045000000\n",
       "9   450        0.4822222    0.5          -0.017777778\n",
       "10  500        0.4840000    0.5          -0.016000000\n",
       "11  550        0.4854545    0.5          -0.014545455\n",
       "12  600        0.4950000    0.5          -0.005000000\n",
       "13  650        0.4707692    0.5          -0.029230769\n",
       "14  700        0.4900000    0.5          -0.010000000\n",
       "15  750        0.4986667    0.5          -0.001333333\n",
       "16  800        0.4925000    0.5          -0.007500000\n",
       "17  850        0.4882353    0.5          -0.011764706\n",
       "18  900        0.4933333    0.5          -0.006666667\n",
       "19  950        0.5063158    0.5           0.006315789\n",
       "20 1000        0.5070000    0.5           0.007000000"
      ]
     },
     "metadata": {},
     "output_type": "display_data"
    }
   ],
   "source": [
    "Summary"
   ]
  },
  {
   "cell_type": "markdown",
   "id": "9382ef7f",
   "metadata": {},
   "source": [
    "**plot b/w SampleSize and Probability**"
   ]
  },
  {
   "cell_type": "code",
   "execution_count": 21,
   "id": "afd33c71",
   "metadata": {},
   "outputs": [
    {
     "data": {
      "image/png": "[encoded data removed]",
      "text/plain": [
       "plot without title"
      ]
     },
     "metadata": {},
     "output_type": "display_data"
    }
   ],
   "source": [
    "plot(RSampleFreqs ~ SampleSizes, data=Summary, col=3, type='l', ylim=c(0.40, 0.60))\n",
    "points(RSampleFreqs ~ SampleSizes, data=Summary, col=2, pch=16)"
   ]
  },
  {
   "cell_type": "markdown",
   "id": "b32cc4bf",
   "metadata": {},
   "source": [
    "**plot b/w SampleSize vs Errors.**"
   ]
  },
  {
   "cell_type": "code",
   "execution_count": 22,
   "id": "922d7bd3",
   "metadata": {},
   "outputs": [
    {
     "data": {
      "image/png": "[encoded data removed]",
      "text/plain": [
       "plot without title"
      ]
     },
     "metadata": {},
     "output_type": "display_data"
    }
   ],
   "source": [
    "plot(Errors ~ SampleSizes, data=Summary, col=3, type='l', ylim=c(-0.15, 0.05))\n",
    "points(Errors ~ SampleSizes, data=Summary, col=2, pch=16)"
   ]
  },
  {
   "cell_type": "markdown",
   "id": "37ba94d6",
   "metadata": {},
   "source": [
    "#### Simulating coin flipping for 50 sample size of from 1000 to 50000"
   ]
  },
  {
   "cell_type": "code",
   "execution_count": 23,
   "id": "fcd181e6",
   "metadata": {},
   "outputs": [
    {
     "data": {
      "text/html": [
       "<table>\n",
       "<thead><tr><th scope=col>SampleSizes</th><th scope=col>RSampleFreqs</th><th scope=col>PProbability</th><th scope=col>Errors</th></tr></thead>\n",
       "<tbody>\n",
       "\t<tr><td>1000        </td><td>0.4460000   </td><td>0.5         </td><td>-0.054000000</td></tr>\n",
       "\t<tr><td>2000        </td><td>0.4765000   </td><td>0.5         </td><td>-0.023500000</td></tr>\n",
       "\t<tr><td>3000        </td><td>0.4900000   </td><td>0.5         </td><td>-0.010000000</td></tr>\n",
       "\t<tr><td>4000        </td><td>0.5000000   </td><td>0.5         </td><td> 0.000000000</td></tr>\n",
       "\t<tr><td>5000        </td><td>0.4912000   </td><td>0.5         </td><td>-0.008800000</td></tr>\n",
       "\t<tr><td>6000        </td><td>0.4971667   </td><td>0.5         </td><td>-0.002833333</td></tr>\n",
       "</tbody>\n",
       "</table>\n"
      ],
      "text/latex": [
       "\\begin{tabular}{r|llll}\n",
       " SampleSizes & RSampleFreqs & PProbability & Errors\\\\\n",
       "\\hline\n",
       "\t 1000         & 0.4460000    & 0.5          & -0.054000000\\\\\n",
       "\t 2000         & 0.4765000    & 0.5          & -0.023500000\\\\\n",
       "\t 3000         & 0.4900000    & 0.5          & -0.010000000\\\\\n",
       "\t 4000         & 0.5000000    & 0.5          &  0.000000000\\\\\n",
       "\t 5000         & 0.4912000    & 0.5          & -0.008800000\\\\\n",
       "\t 6000         & 0.4971667    & 0.5          & -0.002833333\\\\\n",
       "\\end{tabular}\n"
      ],
      "text/markdown": [
       "\n",
       "| SampleSizes | RSampleFreqs | PProbability | Errors |\n",
       "|---|---|---|---|\n",
       "| 1000         | 0.4460000    | 0.5          | -0.054000000 |\n",
       "| 2000         | 0.4765000    | 0.5          | -0.023500000 |\n",
       "| 3000         | 0.4900000    | 0.5          | -0.010000000 |\n",
       "| 4000         | 0.5000000    | 0.5          |  0.000000000 |\n",
       "| 5000         | 0.4912000    | 0.5          | -0.008800000 |\n",
       "| 6000         | 0.4971667    | 0.5          | -0.002833333 |\n",
       "\n"
      ],
      "text/plain": [
       "  SampleSizes RSampleFreqs PProbability Errors      \n",
       "1 1000        0.4460000    0.5          -0.054000000\n",
       "2 2000        0.4765000    0.5          -0.023500000\n",
       "3 3000        0.4900000    0.5          -0.010000000\n",
       "4 4000        0.5000000    0.5           0.000000000\n",
       "5 5000        0.4912000    0.5          -0.008800000\n",
       "6 6000        0.4971667    0.5          -0.002833333"
      ]
     },
     "metadata": {},
     "output_type": "display_data"
    }
   ],
   "source": [
    "Summary = ProbSim(Population = c(0,1), Probability = c(0.5,0.5), from=1000, to=50000, SampleSize=1000)\n",
    "Summary = data.frame(Summary)\n",
    "head(Summary)"
   ]
  },
  {
   "cell_type": "markdown",
   "id": "bd67c7bf",
   "metadata": {},
   "source": [
    "**Plot b/w SampleSize and Relative Sample Frequencies**"
   ]
  },
  {
   "cell_type": "code",
   "execution_count": 24,
   "id": "ae28dd72",
   "metadata": {},
   "outputs": [
    {
     "data": {
      "image/png": "[encoded data removed]",
      "text/plain": [
       "plot without title"
      ]
     },
     "metadata": {},
     "output_type": "display_data"
    }
   ],
   "source": [
    "plot(RSampleFreqs ~ SampleSizes, data=Summary, col=3, type='l', ylim=c(0.45, 0.55))\n",
    "points(RSampleFreqs ~ SampleSizes, data=Summary, col=2, pch=16)\n",
    "abline(a=1, b=0, h=.50, lty=2, col=16)"
   ]
  },
  {
   "cell_type": "markdown",
   "id": "fdfd912b",
   "metadata": {},
   "source": [
    "**Plot b/w SampleSize and Errors**"
   ]
  },
  {
   "cell_type": "code",
   "execution_count": 25,
   "id": "c797d4aa",
   "metadata": {},
   "outputs": [
    {
     "data": {
      "image/png": "[encoded data removed]",
      "text/plain": [
       "plot without title"
      ]
     },
     "metadata": {},
     "output_type": "display_data"
    }
   ],
   "source": [
    "plot(Errors ~ SampleSizes, data=Summary, col=3, type='l', ylim=c(-0.07, 0.05))\n",
    "points(Errors ~ SampleSizes, data=Summary, col=2, pch=16)\n",
    "abline(a=1, b=0, h=0.00, lty=2, col=16)"
   ]
  },
  {
   "cell_type": "markdown",
   "id": "d984b75d",
   "metadata": {},
   "source": [
    "**`Conclusion:` From the above simulation we can say that as the Samplesize increase or we can say that we flip coin million time then the probability of having head will become 0.50.**"
   ]
  },
  {
   "cell_type": "markdown",
   "id": "063bf43f",
   "metadata": {},
   "source": [
    "___"
   ]
  },
  {
   "cell_type": "markdown",
   "id": "0caf2554",
   "metadata": {},
   "source": [
    "### Biased coin with *p*=0.25"
   ]
  },
  {
   "cell_type": "markdown",
   "id": "36831f45",
   "metadata": {},
   "source": [
    "Now this time we have a biased coin with p=0.25 probability, in this case we will see the graph of relative Sample frequency."
   ]
  },
  {
   "cell_type": "code",
   "execution_count": 26,
   "id": "bf1e5642",
   "metadata": {},
   "outputs": [
    {
     "data": {
      "text/html": [
       "<table>\n",
       "<thead><tr><th scope=col>SampleSizes</th><th scope=col>RSampleFreqs</th><th scope=col>PProbability</th><th scope=col>Errors</th></tr></thead>\n",
       "<tbody>\n",
       "\t<tr><td>1000         </td><td>0.2540000    </td><td>0.25         </td><td> 0.0040000000</td></tr>\n",
       "\t<tr><td>2000         </td><td>0.2690000    </td><td>0.25         </td><td> 0.0190000000</td></tr>\n",
       "\t<tr><td>3000         </td><td>0.2573333    </td><td>0.25         </td><td> 0.0073333333</td></tr>\n",
       "\t<tr><td>4000         </td><td>0.2447500    </td><td>0.25         </td><td>-0.0052500000</td></tr>\n",
       "\t<tr><td>5000         </td><td>0.2562000    </td><td>0.25         </td><td> 0.0062000000</td></tr>\n",
       "\t<tr><td>6000         </td><td>0.2498333    </td><td>0.25         </td><td>-0.0001666667</td></tr>\n",
       "</tbody>\n",
       "</table>\n"
      ],
      "text/latex": [
       "\\begin{tabular}{r|llll}\n",
       " SampleSizes & RSampleFreqs & PProbability & Errors\\\\\n",
       "\\hline\n",
       "\t 1000          & 0.2540000     & 0.25          &  0.0040000000\\\\\n",
       "\t 2000          & 0.2690000     & 0.25          &  0.0190000000\\\\\n",
       "\t 3000          & 0.2573333     & 0.25          &  0.0073333333\\\\\n",
       "\t 4000          & 0.2447500     & 0.25          & -0.0052500000\\\\\n",
       "\t 5000          & 0.2562000     & 0.25          &  0.0062000000\\\\\n",
       "\t 6000          & 0.2498333     & 0.25          & -0.0001666667\\\\\n",
       "\\end{tabular}\n"
      ],
      "text/markdown": [
       "\n",
       "| SampleSizes | RSampleFreqs | PProbability | Errors |\n",
       "|---|---|---|---|\n",
       "| 1000          | 0.2540000     | 0.25          |  0.0040000000 |\n",
       "| 2000          | 0.2690000     | 0.25          |  0.0190000000 |\n",
       "| 3000          | 0.2573333     | 0.25          |  0.0073333333 |\n",
       "| 4000          | 0.2447500     | 0.25          | -0.0052500000 |\n",
       "| 5000          | 0.2562000     | 0.25          |  0.0062000000 |\n",
       "| 6000          | 0.2498333     | 0.25          | -0.0001666667 |\n",
       "\n"
      ],
      "text/plain": [
       "  SampleSizes RSampleFreqs PProbability Errors       \n",
       "1 1000        0.2540000    0.25          0.0040000000\n",
       "2 2000        0.2690000    0.25          0.0190000000\n",
       "3 3000        0.2573333    0.25          0.0073333333\n",
       "4 4000        0.2447500    0.25         -0.0052500000\n",
       "5 5000        0.2562000    0.25          0.0062000000\n",
       "6 6000        0.2498333    0.25         -0.0001666667"
      ]
     },
     "metadata": {},
     "output_type": "display_data"
    }
   ],
   "source": [
    "Summary = ProbSim(Population = c(0,1), Probability = c(0.75,0.25), from=1000, to=500000, SampleSize = 1000)\n",
    "Summary = data.frame(Summary)\n",
    "head(Summary)"
   ]
  },
  {
   "cell_type": "code",
   "execution_count": 27,
   "id": "577272d6",
   "metadata": {},
   "outputs": [
    {
     "data": {
      "image/png": "[encoded data removed]",
      "text/plain": [
       "plot without title"
      ]
     },
     "metadata": {},
     "output_type": "display_data"
    }
   ],
   "source": [
    "plot.Freqs(Summary)"
   ]
  },
  {
   "cell_type": "markdown",
   "id": "01586aa1",
   "metadata": {},
   "source": [
    "### Baised coin with *p*=0.9"
   ]
  },
  {
   "cell_type": "code",
   "execution_count": 28,
   "id": "a289ea64",
   "metadata": {},
   "outputs": [
    {
     "data": {
      "text/html": [
       "<table>\n",
       "<thead><tr><th scope=col>SampleSizes</th><th scope=col>RSampleFreqs</th><th scope=col>PProbability</th><th scope=col>Errors</th></tr></thead>\n",
       "<tbody>\n",
       "\t<tr><td>1000        </td><td>0.9050000   </td><td>0.9         </td><td> 0.005000000</td></tr>\n",
       "\t<tr><td>2000        </td><td>0.8960000   </td><td>0.9         </td><td>-0.004000000</td></tr>\n",
       "\t<tr><td>3000        </td><td>0.8990000   </td><td>0.9         </td><td>-0.001000000</td></tr>\n",
       "\t<tr><td>4000        </td><td>0.9057500   </td><td>0.9         </td><td> 0.005750000</td></tr>\n",
       "\t<tr><td>5000        </td><td>0.9030000   </td><td>0.9         </td><td> 0.003000000</td></tr>\n",
       "\t<tr><td>6000        </td><td>0.9031667   </td><td>0.9         </td><td> 0.003166667</td></tr>\n",
       "</tbody>\n",
       "</table>\n"
      ],
      "text/latex": [
       "\\begin{tabular}{r|llll}\n",
       " SampleSizes & RSampleFreqs & PProbability & Errors\\\\\n",
       "\\hline\n",
       "\t 1000         & 0.9050000    & 0.9          &  0.005000000\\\\\n",
       "\t 2000         & 0.8960000    & 0.9          & -0.004000000\\\\\n",
       "\t 3000         & 0.8990000    & 0.9          & -0.001000000\\\\\n",
       "\t 4000         & 0.9057500    & 0.9          &  0.005750000\\\\\n",
       "\t 5000         & 0.9030000    & 0.9          &  0.003000000\\\\\n",
       "\t 6000         & 0.9031667    & 0.9          &  0.003166667\\\\\n",
       "\\end{tabular}\n"
      ],
      "text/markdown": [
       "\n",
       "| SampleSizes | RSampleFreqs | PProbability | Errors |\n",
       "|---|---|---|---|\n",
       "| 1000         | 0.9050000    | 0.9          |  0.005000000 |\n",
       "| 2000         | 0.8960000    | 0.9          | -0.004000000 |\n",
       "| 3000         | 0.8990000    | 0.9          | -0.001000000 |\n",
       "| 4000         | 0.9057500    | 0.9          |  0.005750000 |\n",
       "| 5000         | 0.9030000    | 0.9          |  0.003000000 |\n",
       "| 6000         | 0.9031667    | 0.9          |  0.003166667 |\n",
       "\n"
      ],
      "text/plain": [
       "  SampleSizes RSampleFreqs PProbability Errors      \n",
       "1 1000        0.9050000    0.9           0.005000000\n",
       "2 2000        0.8960000    0.9          -0.004000000\n",
       "3 3000        0.8990000    0.9          -0.001000000\n",
       "4 4000        0.9057500    0.9           0.005750000\n",
       "5 5000        0.9030000    0.9           0.003000000\n",
       "6 6000        0.9031667    0.9           0.003166667"
      ]
     },
     "metadata": {},
     "output_type": "display_data"
    }
   ],
   "source": [
    "Summary = ProbSim(Population = c(0,1), Probability = c(0.1,0.9), from=1000, to=500000, SampleSize = 1000)\n",
    "Summary = data.frame(Summary)\n",
    "head(Summary)"
   ]
  },
  {
   "cell_type": "code",
   "execution_count": 29,
   "id": "48bc416f",
   "metadata": {},
   "outputs": [
    {
     "data": {
      "image/png": "[encoded data removed]",
      "text/plain": [
       "plot without title"
      ]
     },
     "metadata": {},
     "output_type": "display_data"
    }
   ],
   "source": [
    "plot.Freqs(Summary)"
   ]
  },
  {
   "cell_type": "markdown",
   "id": "b413966d",
   "metadata": {},
   "source": [
    "___"
   ]
  },
  {
   "cell_type": "markdown",
   "id": "a2b026bb",
   "metadata": {},
   "source": [
    "## Joint Probability\n",
    "\n",
    "In this section we will discuss about the joint probability by Simulating tossing of two coin and by checking their probability.\n",
    "\n",
    "Tossing two coin will have events: {HH, TH, HT, TT} each having 1/4 probability if coins are fair.\n",
    "\n",
    "if we encode the events with {0,1,2}, in this 0 shows no head, 1 shows 1 head, 2 shows having 2 head in a event. "
   ]
  },
  {
   "cell_type": "markdown",
   "id": "5e83c244",
   "metadata": {},
   "source": [
    "1. First we will define how many times we need to simulate the toss of coins. lets say we want to check the probability in 1000 to 50000 toss of coins having a siample size of 5000."
   ]
  },
  {
   "cell_type": "code",
   "execution_count": 30,
   "id": "41e4d090",
   "metadata": {},
   "outputs": [],
   "source": [
    "rm(SampleSizes)"
   ]
  },
  {
   "cell_type": "code",
   "execution_count": 31,
   "id": "f0ea9b4b",
   "metadata": {},
   "outputs": [
    {
     "data": {
      "text/html": [
       "<ol class=list-inline>\n",
       "\t<li>1000</li>\n",
       "\t<li>3000</li>\n",
       "\t<li>5000</li>\n",
       "\t<li>7000</li>\n",
       "\t<li>9000</li>\n",
       "\t<li>11000</li>\n",
       "\t<li>13000</li>\n",
       "\t<li>15000</li>\n",
       "\t<li>17000</li>\n",
       "\t<li>19000</li>\n",
       "\t<li>21000</li>\n",
       "\t<li>23000</li>\n",
       "\t<li>25000</li>\n",
       "\t<li>27000</li>\n",
       "\t<li>29000</li>\n",
       "\t<li>31000</li>\n",
       "\t<li>33000</li>\n",
       "\t<li>35000</li>\n",
       "\t<li>37000</li>\n",
       "\t<li>39000</li>\n",
       "\t<li>41000</li>\n",
       "\t<li>43000</li>\n",
       "\t<li>45000</li>\n",
       "\t<li>47000</li>\n",
       "\t<li>49000</li>\n",
       "</ol>\n"
      ],
      "text/latex": [
       "\\begin{enumerate*}\n",
       "\\item 1000\n",
       "\\item 3000\n",
       "\\item 5000\n",
       "\\item 7000\n",
       "\\item 9000\n",
       "\\item 11000\n",
       "\\item 13000\n",
       "\\item 15000\n",
       "\\item 17000\n",
       "\\item 19000\n",
       "\\item 21000\n",
       "\\item 23000\n",
       "\\item 25000\n",
       "\\item 27000\n",
       "\\item 29000\n",
       "\\item 31000\n",
       "\\item 33000\n",
       "\\item 35000\n",
       "\\item 37000\n",
       "\\item 39000\n",
       "\\item 41000\n",
       "\\item 43000\n",
       "\\item 45000\n",
       "\\item 47000\n",
       "\\item 49000\n",
       "\\end{enumerate*}\n"
      ],
      "text/markdown": [
       "1. 1000\n",
       "2. 3000\n",
       "3. 5000\n",
       "4. 7000\n",
       "5. 9000\n",
       "6. 11000\n",
       "7. 13000\n",
       "8. 15000\n",
       "9. 17000\n",
       "10. 19000\n",
       "11. 21000\n",
       "12. 23000\n",
       "13. 25000\n",
       "14. 27000\n",
       "15. 29000\n",
       "16. 31000\n",
       "17. 33000\n",
       "18. 35000\n",
       "19. 37000\n",
       "20. 39000\n",
       "21. 41000\n",
       "22. 43000\n",
       "23. 45000\n",
       "24. 47000\n",
       "25. 49000\n",
       "\n",
       "\n"
      ],
      "text/plain": [
       " [1]  1000  3000  5000  7000  9000 11000 13000 15000 17000 19000 21000 23000\n",
       "[13] 25000 27000 29000 31000 33000 35000 37000 39000 41000 43000 45000 47000\n",
       "[25] 49000"
      ]
     },
     "metadata": {},
     "output_type": "display_data"
    }
   ],
   "source": [
    "SampleSizes = seq(1000, 50000, 2000)\n",
    "SampleSizes"
   ]
  },
  {
   "cell_type": "markdown",
   "id": "51f34c9c",
   "metadata": {},
   "source": [
    "2. Now we will generate two sample for each coin, this smaple will be the output of the events. each value will be the output of the event."
   ]
  },
  {
   "cell_type": "code",
   "execution_count": 110,
   "id": "61804dbc",
   "metadata": {},
   "outputs": [
    {
     "name": "stderr",
     "output_type": "stream",
     "text": [
      "Warning message in Samples$events <- Sample1 + Sample2:\n",
      "\"Coercing LHS to a list\"Warning message in Samples$events <- Sample1 + Sample2:\n",
      "\"Coercing LHS to a list\"Warning message in Samples$events <- Sample1 + Sample2:\n",
      "\"Coercing LHS to a list\"Warning message in Samples$events <- Sample1 + Sample2:\n",
      "\"Coercing LHS to a list\"Warning message in Samples$events <- Sample1 + Sample2:\n",
      "\"Coercing LHS to a list\"Warning message in Samples$events <- Sample1 + Sample2:\n",
      "\"Coercing LHS to a list\"Warning message in Samples$events <- Sample1 + Sample2:\n",
      "\"Coercing LHS to a list\"Warning message in Samples$events <- Sample1 + Sample2:\n",
      "\"Coercing LHS to a list\"Warning message in Samples$events <- Sample1 + Sample2:\n",
      "\"Coercing LHS to a list\"Warning message in Samples$events <- Sample1 + Sample2:\n",
      "\"Coercing LHS to a list\"Warning message in Samples$events <- Sample1 + Sample2:\n",
      "\"Coercing LHS to a list\"Warning message in Samples$events <- Sample1 + Sample2:\n",
      "\"Coercing LHS to a list\"Warning message in Samples$events <- Sample1 + Sample2:\n",
      "\"Coercing LHS to a list\"Warning message in Samples$events <- Sample1 + Sample2:\n",
      "\"Coercing LHS to a list\"Warning message in Samples$events <- Sample1 + Sample2:\n",
      "\"Coercing LHS to a list\"Warning message in Samples$events <- Sample1 + Sample2:\n",
      "\"Coercing LHS to a list\"Warning message in Samples$events <- Sample1 + Sample2:\n",
      "\"Coercing LHS to a list\"Warning message in Samples$events <- Sample1 + Sample2:\n",
      "\"Coercing LHS to a list\"Warning message in Samples$events <- Sample1 + Sample2:\n",
      "\"Coercing LHS to a list\"Warning message in Samples$events <- Sample1 + Sample2:\n",
      "\"Coercing LHS to a list\"Warning message in Samples$events <- Sample1 + Sample2:\n",
      "\"Coercing LHS to a list\"Warning message in Samples$events <- Sample1 + Sample2:\n",
      "\"Coercing LHS to a list\"Warning message in Samples$events <- Sample1 + Sample2:\n",
      "\"Coercing LHS to a list\"Warning message in Samples$events <- Sample1 + Sample2:\n",
      "\"Coercing LHS to a list\"Warning message in Samples$events <- Sample1 + Sample2:\n",
      "\"Coercing LHS to a list\""
     ]
    }
   ],
   "source": [
    "\n",
    "for (i in SampleSizes){\n",
    "    # Generating the Samples for both coins\n",
    "    Sample1 = sample(x=c(0,1), size= i, prob = c(0.50, 0.50), replace = TRUE)\n",
    "    Sample2 = sample(x=c(0,1), size= i, prob = c(0.50, 0.50), replace = TRUE)\n",
    "    \n",
    "    # Now we need to bind them together by using the cbind method,\n",
    "    Samples = cbind(Sample1, Sample2)\n",
    "    \n",
    "    # Now after combining we need to add them to make events.\n",
    "    Samples$events = Sample1 + Sample2\n",
    "    \n",
    "    # Now we need to make a table which will count the 0, 1, 2 events apperance.\n",
    "    Events = table(Samples$events)\n",
    "    \n",
    "    # Now this events contains the appearacne of each event, by dividing it with the number\n",
    "    # of tosses or Samplesize we can get the relative frequency or the probability.\n",
    "    \n",
    "    if (!exists('SampleData')){\n",
    "        SampleData = rbind(c(SampleSize=i, Events))\n",
    "    }\n",
    "    else{\n",
    "        SampleData = rbind(SampleData,c(SampleSize=i, Events))\n",
    "    }\n",
    "    \n",
    "    \n",
    "}\n"
   ]
  },
  {
   "cell_type": "code",
   "execution_count": null,
   "id": "81dce9d3",
   "metadata": {},
   "outputs": [],
   "source": []
  },
  {
   "cell_type": "code",
   "execution_count": 51,
   "id": "e15f3841",
   "metadata": {},
   "outputs": [],
   "source": [
    "CoinSim = function(Population = c(0,1), Probability = c(0.5,0.5), from=1000, to=50000, SampleSize=2000){\n",
    "    \n",
    "    # Generating the Sample Size for tossing of coins.\n",
    "    SampleSizes = seq(from, to, SampleSize)\n",
    "    \n",
    "    for (i in SampleSizes){\n",
    "    # Generating the Samples for both coins\n",
    "    Sample1 = sample(x=c(0,1), size= i, prob = c(0.50, 0.50), replace = TRUE)\n",
    "    Sample2 = sample(x=c(0,1), size= i, prob = c(0.50, 0.50), replace = TRUE)\n",
    "    \n",
    "    # Now we need to bind them together by using the cbind method,\n",
    "    Samples = cbind(Sample1, Sample2)\n",
    "    Samples = data.frame(Samples)\n",
    "    # Now after combining we need to add them to make events.\n",
    "    Samples$events = Samples$Sample1 + Samples$Sample2\n",
    "    \n",
    "    # Now we need to make a table which will count the 0, 1, 2 events apperance.\n",
    "    Events = table(Samples$events)\n",
    "    \n",
    "    # Now this events contains the appearacne of each event, by dividing it with the number\n",
    "    # of tosses or Samplesize we can get the relative frequency or the probability.\n",
    "    \n",
    "    if (!exists('SampleData')){\n",
    "            SampleData = rbind(c(SampleSize=i, Events/i))\n",
    "        # here i is the number of Samplesize\n",
    "        }\n",
    "    \n",
    "    else{\n",
    "            SampleData = rbind(SampleData,c(SampleSize=i, Events/i))\n",
    "        }\n",
    "    \n",
    "    \n",
    "    }\n",
    "    \n",
    "    SampleData\n",
    "}"
   ]
  },
  {
   "cell_type": "code",
   "execution_count": 52,
   "id": "38479929",
   "metadata": {},
   "outputs": [],
   "source": [
    "result = CoinSim(from=50, to=10000, SampleSize=50)"
   ]
  },
  {
   "cell_type": "code",
   "execution_count": 53,
   "id": "d877d552",
   "metadata": {},
   "outputs": [
    {
     "data": {
      "text/html": [
       "<table>\n",
       "<thead><tr><th scope=col>SampleSize</th><th scope=col>0</th><th scope=col>1</th><th scope=col>2</th></tr></thead>\n",
       "<tbody>\n",
       "\t<tr><td> 50      </td><td>0.2800000</td><td>0.5200000</td><td>0.20     </td></tr>\n",
       "\t<tr><td>100      </td><td>0.2600000</td><td>0.4900000</td><td>0.25     </td></tr>\n",
       "\t<tr><td>150      </td><td>0.2533333</td><td>0.4866667</td><td>0.26     </td></tr>\n",
       "\t<tr><td>200      </td><td>0.2000000</td><td>0.5600000</td><td>0.24     </td></tr>\n",
       "\t<tr><td>250      </td><td>0.2040000</td><td>0.5160000</td><td>0.28     </td></tr>\n",
       "\t<tr><td>300      </td><td>0.2766667</td><td>0.4833333</td><td>0.24     </td></tr>\n",
       "</tbody>\n",
       "</table>\n"
      ],
      "text/latex": [
       "\\begin{tabular}{llll}\n",
       " SampleSize & 0 & 1 & 2\\\\\n",
       "\\hline\n",
       "\t  50       & 0.2800000 & 0.5200000 & 0.20     \\\\\n",
       "\t 100       & 0.2600000 & 0.4900000 & 0.25     \\\\\n",
       "\t 150       & 0.2533333 & 0.4866667 & 0.26     \\\\\n",
       "\t 200       & 0.2000000 & 0.5600000 & 0.24     \\\\\n",
       "\t 250       & 0.2040000 & 0.5160000 & 0.28     \\\\\n",
       "\t 300       & 0.2766667 & 0.4833333 & 0.24     \\\\\n",
       "\\end{tabular}\n"
      ],
      "text/markdown": [
       "\n",
       "| SampleSize | 0 | 1 | 2 |\n",
       "|---|---|---|---|\n",
       "|  50       | 0.2800000 | 0.5200000 | 0.20      |\n",
       "| 100       | 0.2600000 | 0.4900000 | 0.25      |\n",
       "| 150       | 0.2533333 | 0.4866667 | 0.26      |\n",
       "| 200       | 0.2000000 | 0.5600000 | 0.24      |\n",
       "| 250       | 0.2040000 | 0.5160000 | 0.28      |\n",
       "| 300       | 0.2766667 | 0.4833333 | 0.24      |\n",
       "\n"
      ],
      "text/plain": [
       "     SampleSize 0         1         2   \n",
       "[1,]  50        0.2800000 0.5200000 0.20\n",
       "[2,] 100        0.2600000 0.4900000 0.25\n",
       "[3,] 150        0.2533333 0.4866667 0.26\n",
       "[4,] 200        0.2000000 0.5600000 0.24\n",
       "[5,] 250        0.2040000 0.5160000 0.28\n",
       "[6,] 300        0.2766667 0.4833333 0.24"
      ]
     },
     "metadata": {},
     "output_type": "display_data"
    }
   ],
   "source": [
    "head(result)"
   ]
  },
  {
   "cell_type": "code",
   "execution_count": null,
   "id": "658c555d",
   "metadata": {},
   "outputs": [],
   "source": []
  },
  {
   "cell_type": "markdown",
   "id": "81f0490d",
   "metadata": {},
   "source": [
    "**ploting the SampleSize vs relative frequency for each event.**"
   ]
  },
  {
   "cell_type": "code",
   "execution_count": null,
   "id": "f8bd3290",
   "metadata": {},
   "outputs": [],
   "source": [
    "# Plot SampleSize vs event 0\n",
    "#par(mfrow= c(3,1))\n",
    "\n",
    "# Plotting for event 0 or TT\n",
    "plot(x=result[,'SampleSize'], y=result[,'0'] ,type='l', xlab='SampleSize', ylab='TT', col=3)\n",
    "points(x=result[,'SampleSize'], y=result[,'0'], col=2, cex=0.50,pch=16)\n",
    "abline(a=1, b=0, h=0.25, lty=2, col=16)\n",
    "\n",
    "# Plotting for event 1 or HT + TH\n",
    "plot(x=result[,'SampleSize'], y=result[,'1'] ,type='l', xlab='SampleSize', ylab='HT + TH', col=3)\n",
    "points(x=result[,'SampleSize'], y=result[,'1'], col=2, cex=0.50,pch=16)\n",
    "abline(a=1, b=0, h=0.50, lty=2, col=16)\n",
    "\n",
    "# Plotting for event 2 or HH\n",
    "plot(x=result[,'SampleSize'], y=result[,'2'] ,type='l', xlab='SampleSize', ylab='HH', col=3)\n",
    "points(x=result[,'SampleSize'], y=result[,'2'], col=2, cex=0.50,pch=16)\n",
    "abline(a=1, b=0, h=0.25, lty=2, col=16)"
   ]
  },
  {
   "cell_type": "code",
   "execution_count": null,
   "id": "3b1fbd63",
   "metadata": {},
   "outputs": [],
   "source": [
    "Cols = colnames(result)[-1]\n",
    "for (i in Cols){\n",
    "    print(paste(\"mean probability of \",i,\": \",mean(result[,i])))\n",
    "}"
   ]
  },
  {
   "cell_type": "code",
   "execution_count": null,
   "id": "8ce9d8c2",
   "metadata": {},
   "outputs": [],
   "source": [
    "hist(result[,'0'], density=20, breaks=50, xlab=\"p(TT)\", main=\"Probability of having no Head\",,col=3)\n",
    "abline(b=1,v=mean(result[,'0']), col=2, lwd=2, lty=2)"
   ]
  },
  {
   "cell_type": "code",
   "execution_count": null,
   "id": "c828675c",
   "metadata": {},
   "outputs": [],
   "source": [
    "mean(result[,'1'])"
   ]
  },
  {
   "cell_type": "code",
   "execution_count": null,
   "id": "4257588c",
   "metadata": {},
   "outputs": [],
   "source": [
    "mean(result[,'2'])"
   ]
  },
  {
   "cell_type": "code",
   "execution_count": null,
   "id": "e2aba229",
   "metadata": {},
   "outputs": [],
   "source": [
    "CoinSim = function(Population = c(0,1), Probability = c(0.5,0.5), from=1000, to=50000, SampleSize=2000,\n",
    "                  SampleRepeat=1, SampleName='Sample'){\n",
    "    \n",
    "    # Generating the Sample Size for tossing of coins.\n",
    "    SampleSizes = seq(from, to, SampleSize)\n",
    "    \n",
    "    for (i in SampleRepeat){\n",
    "        \n",
    "        for (i in SampleSizes){\n",
    "            # Generating the Samples for both coins\n",
    "            Sample = sample(x=Population, size= i, prob = Probability, replace = TRUE)\n",
    "            \n",
    "            # Now here we e\n",
    "\n",
    "            \n",
    "\n",
    "\n",
    "            }\n",
    "        # Now we need to bind them together by using the cbind method,\n",
    "        Samples = cbind(Sample1, Sample2)\n",
    "        Samples = data.frame(Samples)\n",
    "        # Now after combining we need to add them to make events.\n",
    "        Samples$events = Samples$Sample1 + Samples$Sample2\n",
    "\n",
    "        # Now we need to make a table which will count the 0, 1, 2 events apperance.\n",
    "        Events = table(Samples$events)\n",
    "\n",
    "        # Now this events contains the appearacne of each event, by dividing it with the number\n",
    "        # of tosses or Samplesize we can get the relative frequency or the probability.\n",
    "\n",
    "        if (!exists('SampleData')){\n",
    "                SampleData = rbind(c(SampleSize=i, Events/i))\n",
    "            }\n",
    "\n",
    "        else{\n",
    "                SampleData = rbind(SampleData,c(SampleSize=i, Events/i))\n",
    "            }\n",
    "    \n",
    "    }\n",
    "    SampleData\n",
    "}"
   ]
  },
  {
   "cell_type": "markdown",
   "id": "b6ea7c4c",
   "metadata": {},
   "source": [
    "## Addition Law of Probability"
   ]
  },
  {
   "cell_type": "markdown",
   "id": "f68cef97",
   "metadata": {},
   "source": [
    "Now in this section we will see the addition law of probability by simulating the probability of sum of two individual rolled dice number sum.\n",
    "\n",
    "In this first we will make a sample by rolling (or choosing randomaly any number b/w 1 to 6) dice, and we will make the sum of the result and then we will make a final result which will help us to get the final result about the sum of two rolled dice numbers. "
   ]
  },
  {
   "cell_type": "markdown",
   "id": "8e41825a",
   "metadata": {},
   "source": [
    "**Now we will create a matrix of two dice to show the sample space**"
   ]
  },
  {
   "cell_type": "code",
   "execution_count": 43,
   "id": "48343148",
   "metadata": {},
   "outputs": [],
   "source": [
    "dice1 = matrix(c(1:6), nrow=6, ncol=6)\n",
    "dice2 = t(matrix(c(1:6), nrow=6, ncol=6))"
   ]
  },
  {
   "cell_type": "code",
   "execution_count": 44,
   "id": "13e5b408",
   "metadata": {},
   "outputs": [
    {
     "data": {
      "text/html": [
       "<table>\n",
       "<tbody>\n",
       "\t<tr><td>1</td><td>1</td><td>1</td><td>1</td><td>1</td><td>1</td></tr>\n",
       "\t<tr><td>2</td><td>2</td><td>2</td><td>2</td><td>2</td><td>2</td></tr>\n",
       "\t<tr><td>3</td><td>3</td><td>3</td><td>3</td><td>3</td><td>3</td></tr>\n",
       "\t<tr><td>4</td><td>4</td><td>4</td><td>4</td><td>4</td><td>4</td></tr>\n",
       "\t<tr><td>5</td><td>5</td><td>5</td><td>5</td><td>5</td><td>5</td></tr>\n",
       "\t<tr><td>6</td><td>6</td><td>6</td><td>6</td><td>6</td><td>6</td></tr>\n",
       "</tbody>\n",
       "</table>\n"
      ],
      "text/latex": [
       "\\begin{tabular}{llllll}\n",
       "\t 1 & 1 & 1 & 1 & 1 & 1\\\\\n",
       "\t 2 & 2 & 2 & 2 & 2 & 2\\\\\n",
       "\t 3 & 3 & 3 & 3 & 3 & 3\\\\\n",
       "\t 4 & 4 & 4 & 4 & 4 & 4\\\\\n",
       "\t 5 & 5 & 5 & 5 & 5 & 5\\\\\n",
       "\t 6 & 6 & 6 & 6 & 6 & 6\\\\\n",
       "\\end{tabular}\n"
      ],
      "text/markdown": [
       "\n",
       "| 1 | 1 | 1 | 1 | 1 | 1 |\n",
       "| 2 | 2 | 2 | 2 | 2 | 2 |\n",
       "| 3 | 3 | 3 | 3 | 3 | 3 |\n",
       "| 4 | 4 | 4 | 4 | 4 | 4 |\n",
       "| 5 | 5 | 5 | 5 | 5 | 5 |\n",
       "| 6 | 6 | 6 | 6 | 6 | 6 |\n",
       "\n"
      ],
      "text/plain": [
       "     [,1] [,2] [,3] [,4] [,5] [,6]\n",
       "[1,] 1    1    1    1    1    1   \n",
       "[2,] 2    2    2    2    2    2   \n",
       "[3,] 3    3    3    3    3    3   \n",
       "[4,] 4    4    4    4    4    4   \n",
       "[5,] 5    5    5    5    5    5   \n",
       "[6,] 6    6    6    6    6    6   "
      ]
     },
     "metadata": {},
     "output_type": "display_data"
    }
   ],
   "source": [
    "dice1"
   ]
  },
  {
   "cell_type": "code",
   "execution_count": 45,
   "id": "3bc1fa92",
   "metadata": {},
   "outputs": [
    {
     "data": {
      "text/html": [
       "<table>\n",
       "<tbody>\n",
       "\t<tr><td>1</td><td>2</td><td>3</td><td>4</td><td>5</td><td>6</td></tr>\n",
       "\t<tr><td>1</td><td>2</td><td>3</td><td>4</td><td>5</td><td>6</td></tr>\n",
       "\t<tr><td>1</td><td>2</td><td>3</td><td>4</td><td>5</td><td>6</td></tr>\n",
       "\t<tr><td>1</td><td>2</td><td>3</td><td>4</td><td>5</td><td>6</td></tr>\n",
       "\t<tr><td>1</td><td>2</td><td>3</td><td>4</td><td>5</td><td>6</td></tr>\n",
       "\t<tr><td>1</td><td>2</td><td>3</td><td>4</td><td>5</td><td>6</td></tr>\n",
       "</tbody>\n",
       "</table>\n"
      ],
      "text/latex": [
       "\\begin{tabular}{llllll}\n",
       "\t 1 & 2 & 3 & 4 & 5 & 6\\\\\n",
       "\t 1 & 2 & 3 & 4 & 5 & 6\\\\\n",
       "\t 1 & 2 & 3 & 4 & 5 & 6\\\\\n",
       "\t 1 & 2 & 3 & 4 & 5 & 6\\\\\n",
       "\t 1 & 2 & 3 & 4 & 5 & 6\\\\\n",
       "\t 1 & 2 & 3 & 4 & 5 & 6\\\\\n",
       "\\end{tabular}\n"
      ],
      "text/markdown": [
       "\n",
       "| 1 | 2 | 3 | 4 | 5 | 6 |\n",
       "| 1 | 2 | 3 | 4 | 5 | 6 |\n",
       "| 1 | 2 | 3 | 4 | 5 | 6 |\n",
       "| 1 | 2 | 3 | 4 | 5 | 6 |\n",
       "| 1 | 2 | 3 | 4 | 5 | 6 |\n",
       "| 1 | 2 | 3 | 4 | 5 | 6 |\n",
       "\n"
      ],
      "text/plain": [
       "     [,1] [,2] [,3] [,4] [,5] [,6]\n",
       "[1,] 1    2    3    4    5    6   \n",
       "[2,] 1    2    3    4    5    6   \n",
       "[3,] 1    2    3    4    5    6   \n",
       "[4,] 1    2    3    4    5    6   \n",
       "[5,] 1    2    3    4    5    6   \n",
       "[6,] 1    2    3    4    5    6   "
      ]
     },
     "metadata": {},
     "output_type": "display_data"
    }
   ],
   "source": [
    "dice2"
   ]
  },
  {
   "cell_type": "markdown",
   "id": "46885a7a",
   "metadata": {},
   "source": [
    "**Now we will add them both to show the sample space of sum of the two rolled dice**"
   ]
  },
  {
   "cell_type": "code",
   "execution_count": 123,
   "id": "185c165b",
   "metadata": {},
   "outputs": [
    {
     "data": {
      "text/html": [
       "<table>\n",
       "<thead><tr><th scope=col>1</th><th scope=col>2</th><th scope=col>3</th><th scope=col>4</th><th scope=col>5</th><th scope=col>6</th></tr></thead>\n",
       "<tbody>\n",
       "\t<tr><td>2 </td><td>3 </td><td>4 </td><td> 5</td><td> 6</td><td> 7</td></tr>\n",
       "\t<tr><td>3 </td><td>4 </td><td>5 </td><td> 6</td><td> 7</td><td> 8</td></tr>\n",
       "\t<tr><td>4 </td><td>5 </td><td>6 </td><td> 7</td><td> 8</td><td> 9</td></tr>\n",
       "\t<tr><td>5 </td><td>6 </td><td>7 </td><td> 8</td><td> 9</td><td>10</td></tr>\n",
       "\t<tr><td>6 </td><td>7 </td><td>8 </td><td> 9</td><td>10</td><td>11</td></tr>\n",
       "\t<tr><td>7 </td><td>8 </td><td>9 </td><td>10</td><td>11</td><td>12</td></tr>\n",
       "</tbody>\n",
       "</table>\n"
      ],
      "text/latex": [
       "\\begin{tabular}{r|llllll}\n",
       " 1 & 2 & 3 & 4 & 5 & 6\\\\\n",
       "\\hline\n",
       "\t 2  & 3  & 4  &  5 &  6 &  7\\\\\n",
       "\t 3  & 4  & 5  &  6 &  7 &  8\\\\\n",
       "\t 4  & 5  & 6  &  7 &  8 &  9\\\\\n",
       "\t 5  & 6  & 7  &  8 &  9 & 10\\\\\n",
       "\t 6  & 7  & 8  &  9 & 10 & 11\\\\\n",
       "\t 7  & 8  & 9  & 10 & 11 & 12\\\\\n",
       "\\end{tabular}\n"
      ],
      "text/markdown": [
       "\n",
       "| 1 | 2 | 3 | 4 | 5 | 6 |\n",
       "|---|---|---|---|---|---|\n",
       "| 2  | 3  | 4  |  5 |  6 |  7 |\n",
       "| 3  | 4  | 5  |  6 |  7 |  8 |\n",
       "| 4  | 5  | 6  |  7 |  8 |  9 |\n",
       "| 5  | 6  | 7  |  8 |  9 | 10 |\n",
       "| 6  | 7  | 8  |  9 | 10 | 11 |\n",
       "| 7  | 8  | 9  | 10 | 11 | 12 |\n",
       "\n"
      ],
      "text/plain": [
       "  1 2 3 4  5  6 \n",
       "1 2 3 4  5  6  7\n",
       "2 3 4 5  6  7  8\n",
       "3 4 5 6  7  8  9\n",
       "4 5 6 7  8  9 10\n",
       "5 6 7 8  9 10 11\n",
       "6 7 8 9 10 11 12"
      ]
     },
     "metadata": {},
     "output_type": "display_data"
    }
   ],
   "source": [
    "output = dice1+dice2\n",
    "colnames(output) = c(1:6)\n",
    "rownames(output) = c(1:6)\n",
    "output"
   ]
  },
  {
   "cell_type": "markdown",
   "id": "8b1de6f6",
   "metadata": {},
   "source": []
  },
  {
   "cell_type": "markdown",
   "id": "ac6d0a03",
   "metadata": {},
   "source": [
    "**Steps:**\n",
    "1. Make sample for both the dice say dice1 and dice2.\n",
    "2. add them and add it to the dataframe.\n",
    "3. compute the probability for each number.\n",
    "4. plot the graph b/w probability and number samplesize.\n",
    "\n",
    "**We will use our CoinSim function a little bit modification.**"
   ]
  },
  {
   "cell_type": "code",
   "execution_count": 193,
   "id": "55cd6be3",
   "metadata": {},
   "outputs": [],
   "source": [
    "DiceSim = function(Population = c(0,1), Probability = c(0.5,0.5), from=1000, to=50000, SampleSize=2000,\n",
    "                  SampleRepeat=1, SampleName='Sample'){\n",
    "    \n",
    "    # Generating the Sample Size for tossing of coins.\n",
    "    SampleSizes = seq(from, to, SampleSize)\n",
    "    \n",
    "    # Now we need a vector to store all the smaple names.\n",
    "    SNames = vector(length=SampleRepeat)\n",
    "    \n",
    "    for (j in SampleSizes){\n",
    "        \n",
    "        # initializing the Sample data which will store the appearence of the Samples\n",
    "        SampleData = NULL\n",
    "        # We need to make it NULL after every \n",
    "        for (i in 1:SampleRepeat){\n",
    "            # Generating the Samples for both coins\n",
    "            Sample = sample(x=Population, size= j, prob = Probability, replace = TRUE)\n",
    "            \n",
    "            # Now here we need to pack it by using cbind method which will be used to bind all the Samples.\n",
    "            SNames[i] = paste(SampleName,i,sep='')\n",
    "            \n",
    "            # Now we need to bind all the sample together\n",
    "             if (!exists('SampleData')){\n",
    "                    SampleData = cbind(Sample)\n",
    "                }\n",
    "\n",
    "            else{\n",
    "                    SampleData = cbind(SampleData,Sample)\n",
    "                }\n",
    "            }\n",
    "        \n",
    "        # Now we need to add the event result\n",
    "        Events = table(rowSums(SampleData))\n",
    "        \n",
    "        # now we need to combine all the events together with sample size\n",
    "        if (!exists('EventsData')){\n",
    "                eventi= type.convert(format(round(Events/j, 3), nsmall = 3))\n",
    "                EventsData = rbind(c(SampleSize=j, eventi))\n",
    "                # here format is used to handle the format of the decimal number\n",
    "            \n",
    "            }\n",
    "\n",
    "        else{\n",
    "                eventi= type.convert(format(round(Events/j, 3), nsmall = 3))\n",
    "                EventsData = rbind(EventsData,c(SampleSize=j, eventi))\n",
    "            }\n",
    "        \n",
    "        \n",
    "    }\n",
    "    # Here Now we need to rename all the samples.\n",
    "    #colnames(SampleData) = SNames  # the number of columns are equal to length of SNames.\n",
    "    #SampleData = data.frame(SampleData)\n",
    "    # Now to add another \n",
    "        \n",
    "    EventsData\n",
    "}"
   ]
  },
  {
   "cell_type": "code",
   "execution_count": 234,
   "id": "60131f96",
   "metadata": {},
   "outputs": [],
   "source": [
    "EventsProb = DiceSim(Population = c(1:6), Probability = c(1/6,1/6,1/6,1/6,1/6,1/6),  SampleRepeat = 2, SampleName = \"Dice\",\n",
    "                    from=500, to=50000,SampleSize=1000)"
   ]
  },
  {
   "cell_type": "code",
   "execution_count": 235,
   "id": "d4c786d1",
   "metadata": {},
   "outputs": [
    {
     "data": {
      "text/html": [
       "<table>\n",
       "<thead><tr><th scope=col>SampleSize</th><th scope=col>2</th><th scope=col>3</th><th scope=col>4</th><th scope=col>5</th><th scope=col>6</th><th scope=col>7</th><th scope=col>8</th><th scope=col>9</th><th scope=col>10</th><th scope=col>11</th><th scope=col>12</th></tr></thead>\n",
       "<tbody>\n",
       "\t<tr><td>  500</td><td>0.028</td><td>0.040</td><td>0.088</td><td>0.102</td><td>0.162</td><td>0.144</td><td>0.134</td><td>0.134</td><td>0.084</td><td>0.064</td><td>0.020</td></tr>\n",
       "\t<tr><td> 1500</td><td>0.036</td><td>0.051</td><td>0.078</td><td>0.113</td><td>0.135</td><td>0.167</td><td>0.133</td><td>0.111</td><td>0.089</td><td>0.062</td><td>0.024</td></tr>\n",
       "\t<tr><td> 2500</td><td>0.029</td><td>0.057</td><td>0.078</td><td>0.112</td><td>0.135</td><td>0.165</td><td>0.135</td><td>0.118</td><td>0.084</td><td>0.061</td><td>0.025</td></tr>\n",
       "\t<tr><td> 3500</td><td>0.024</td><td>0.052</td><td>0.084</td><td>0.112</td><td>0.136</td><td>0.179</td><td>0.149</td><td>0.116</td><td>0.070</td><td>0.048</td><td>0.029</td></tr>\n",
       "\t<tr><td> 4500</td><td>0.031</td><td>0.053</td><td>0.081</td><td>0.112</td><td>0.135</td><td>0.172</td><td>0.137</td><td>0.108</td><td>0.082</td><td>0.057</td><td>0.031</td></tr>\n",
       "\t<tr><td> 5500</td><td>0.027</td><td>0.059</td><td>0.086</td><td>0.115</td><td>0.135</td><td>0.165</td><td>0.143</td><td>0.114</td><td>0.078</td><td>0.054</td><td>0.025</td></tr>\n",
       "\t<tr><td> 6500</td><td>0.029</td><td>0.054</td><td>0.080</td><td>0.108</td><td>0.138</td><td>0.159</td><td>0.143</td><td>0.116</td><td>0.082</td><td>0.057</td><td>0.032</td></tr>\n",
       "\t<tr><td> 7500</td><td>0.026</td><td>0.052</td><td>0.080</td><td>0.113</td><td>0.137</td><td>0.175</td><td>0.134</td><td>0.114</td><td>0.081</td><td>0.054</td><td>0.033</td></tr>\n",
       "\t<tr><td> 8500</td><td>0.030</td><td>0.055</td><td>0.087</td><td>0.108</td><td>0.143</td><td>0.165</td><td>0.133</td><td>0.106</td><td>0.086</td><td>0.055</td><td>0.031</td></tr>\n",
       "\t<tr><td> 9500</td><td>0.027</td><td>0.055</td><td>0.087</td><td>0.116</td><td>0.141</td><td>0.158</td><td>0.140</td><td>0.112</td><td>0.082</td><td>0.056</td><td>0.027</td></tr>\n",
       "\t<tr><td>10500</td><td>0.029</td><td>0.058</td><td>0.076</td><td>0.115</td><td>0.140</td><td>0.164</td><td>0.140</td><td>0.111</td><td>0.085</td><td>0.055</td><td>0.027</td></tr>\n",
       "\t<tr><td>11500</td><td>0.028</td><td>0.057</td><td>0.083</td><td>0.115</td><td>0.143</td><td>0.165</td><td>0.139</td><td>0.111</td><td>0.078</td><td>0.052</td><td>0.029</td></tr>\n",
       "\t<tr><td>12500</td><td>0.028</td><td>0.061</td><td>0.081</td><td>0.111</td><td>0.141</td><td>0.164</td><td>0.135</td><td>0.111</td><td>0.082</td><td>0.055</td><td>0.031</td></tr>\n",
       "\t<tr><td>13500</td><td>0.027</td><td>0.055</td><td>0.082</td><td>0.109</td><td>0.136</td><td>0.164</td><td>0.140</td><td>0.111</td><td>0.084</td><td>0.062</td><td>0.029</td></tr>\n",
       "\t<tr><td>14500</td><td>0.027</td><td>0.055</td><td>0.085</td><td>0.115</td><td>0.136</td><td>0.164</td><td>0.138</td><td>0.111</td><td>0.084</td><td>0.057</td><td>0.029</td></tr>\n",
       "\t<tr><td>15500</td><td>0.029</td><td>0.057</td><td>0.083</td><td>0.111</td><td>0.139</td><td>0.163</td><td>0.139</td><td>0.115</td><td>0.081</td><td>0.054</td><td>0.029</td></tr>\n",
       "\t<tr><td>16500</td><td>0.026</td><td>0.059</td><td>0.082</td><td>0.109</td><td>0.140</td><td>0.165</td><td>0.143</td><td>0.113</td><td>0.081</td><td>0.053</td><td>0.029</td></tr>\n",
       "\t<tr><td>17500</td><td>0.027</td><td>0.055</td><td>0.086</td><td>0.115</td><td>0.139</td><td>0.164</td><td>0.138</td><td>0.111</td><td>0.083</td><td>0.056</td><td>0.027</td></tr>\n",
       "\t<tr><td>18500</td><td>0.029</td><td>0.057</td><td>0.082</td><td>0.106</td><td>0.138</td><td>0.165</td><td>0.140</td><td>0.114</td><td>0.085</td><td>0.056</td><td>0.028</td></tr>\n",
       "\t<tr><td>19500</td><td>0.026</td><td>0.056</td><td>0.084</td><td>0.114</td><td>0.143</td><td>0.165</td><td>0.136</td><td>0.114</td><td>0.081</td><td>0.051</td><td>0.029</td></tr>\n",
       "\t<tr><td>20500</td><td>0.027</td><td>0.054</td><td>0.082</td><td>0.113</td><td>0.138</td><td>0.169</td><td>0.137</td><td>0.111</td><td>0.087</td><td>0.054</td><td>0.028</td></tr>\n",
       "\t<tr><td>21500</td><td>0.028</td><td>0.053</td><td>0.079</td><td>0.111</td><td>0.140</td><td>0.169</td><td>0.140</td><td>0.112</td><td>0.084</td><td>0.053</td><td>0.030</td></tr>\n",
       "\t<tr><td>22500</td><td>0.029</td><td>0.057</td><td>0.084</td><td>0.111</td><td>0.140</td><td>0.163</td><td>0.139</td><td>0.114</td><td>0.082</td><td>0.056</td><td>0.026</td></tr>\n",
       "\t<tr><td>23500</td><td>0.029</td><td>0.056</td><td>0.084</td><td>0.111</td><td>0.136</td><td>0.171</td><td>0.137</td><td>0.108</td><td>0.082</td><td>0.059</td><td>0.026</td></tr>\n",
       "\t<tr><td>24500</td><td>0.029</td><td>0.056</td><td>0.083</td><td>0.112</td><td>0.138</td><td>0.168</td><td>0.136</td><td>0.110</td><td>0.084</td><td>0.058</td><td>0.026</td></tr>\n",
       "\t<tr><td>25500</td><td>0.028</td><td>0.055</td><td>0.082</td><td>0.110</td><td>0.139</td><td>0.171</td><td>0.137</td><td>0.114</td><td>0.083</td><td>0.056</td><td>0.025</td></tr>\n",
       "\t<tr><td>26500</td><td>0.027</td><td>0.058</td><td>0.082</td><td>0.114</td><td>0.137</td><td>0.168</td><td>0.137</td><td>0.112</td><td>0.082</td><td>0.055</td><td>0.029</td></tr>\n",
       "\t<tr><td>27500</td><td>0.028</td><td>0.053</td><td>0.085</td><td>0.114</td><td>0.138</td><td>0.169</td><td>0.139</td><td>0.111</td><td>0.082</td><td>0.055</td><td>0.026</td></tr>\n",
       "\t<tr><td>28500</td><td>0.027</td><td>0.056</td><td>0.084</td><td>0.112</td><td>0.141</td><td>0.169</td><td>0.136</td><td>0.110</td><td>0.081</td><td>0.056</td><td>0.027</td></tr>\n",
       "\t<tr><td>29500</td><td>0.026</td><td>0.054</td><td>0.084</td><td>0.110</td><td>0.141</td><td>0.166</td><td>0.140</td><td>0.113</td><td>0.082</td><td>0.054</td><td>0.028</td></tr>\n",
       "\t<tr><td>30500</td><td>0.027</td><td>0.057</td><td>0.086</td><td>0.107</td><td>0.136</td><td>0.163</td><td>0.139</td><td>0.112</td><td>0.087</td><td>0.058</td><td>0.028</td></tr>\n",
       "\t<tr><td>31500</td><td>0.027</td><td>0.055</td><td>0.083</td><td>0.110</td><td>0.142</td><td>0.168</td><td>0.136</td><td>0.111</td><td>0.085</td><td>0.056</td><td>0.027</td></tr>\n",
       "\t<tr><td>32500</td><td>0.029</td><td>0.054</td><td>0.084</td><td>0.111</td><td>0.137</td><td>0.166</td><td>0.141</td><td>0.110</td><td>0.082</td><td>0.058</td><td>0.026</td></tr>\n",
       "\t<tr><td>33500</td><td>0.027</td><td>0.055</td><td>0.084</td><td>0.113</td><td>0.140</td><td>0.164</td><td>0.138</td><td>0.111</td><td>0.085</td><td>0.054</td><td>0.028</td></tr>\n",
       "\t<tr><td>34500</td><td>0.028</td><td>0.055</td><td>0.082</td><td>0.115</td><td>0.137</td><td>0.162</td><td>0.139</td><td>0.113</td><td>0.085</td><td>0.057</td><td>0.027</td></tr>\n",
       "\t<tr><td>35500</td><td>0.028</td><td>0.058</td><td>0.085</td><td>0.110</td><td>0.136</td><td>0.165</td><td>0.140</td><td>0.113</td><td>0.083</td><td>0.056</td><td>0.027</td></tr>\n",
       "\t<tr><td>36500</td><td>0.028</td><td>0.055</td><td>0.082</td><td>0.113</td><td>0.140</td><td>0.165</td><td>0.139</td><td>0.112</td><td>0.080</td><td>0.054</td><td>0.031</td></tr>\n",
       "\t<tr><td>37500</td><td>0.027</td><td>0.057</td><td>0.085</td><td>0.111</td><td>0.139</td><td>0.166</td><td>0.137</td><td>0.111</td><td>0.082</td><td>0.055</td><td>0.030</td></tr>\n",
       "\t<tr><td>38500</td><td>0.028</td><td>0.056</td><td>0.084</td><td>0.112</td><td>0.139</td><td>0.165</td><td>0.141</td><td>0.110</td><td>0.082</td><td>0.055</td><td>0.028</td></tr>\n",
       "\t<tr><td>39500</td><td>0.027</td><td>0.052</td><td>0.081</td><td>0.112</td><td>0.141</td><td>0.167</td><td>0.140</td><td>0.111</td><td>0.084</td><td>0.057</td><td>0.027</td></tr>\n",
       "\t<tr><td>40500</td><td>0.028</td><td>0.055</td><td>0.084</td><td>0.112</td><td>0.140</td><td>0.169</td><td>0.137</td><td>0.111</td><td>0.082</td><td>0.055</td><td>0.027</td></tr>\n",
       "\t<tr><td>41500</td><td>0.027</td><td>0.056</td><td>0.082</td><td>0.112</td><td>0.136</td><td>0.171</td><td>0.139</td><td>0.109</td><td>0.085</td><td>0.056</td><td>0.029</td></tr>\n",
       "\t<tr><td>42500</td><td>0.027</td><td>0.055</td><td>0.082</td><td>0.111</td><td>0.141</td><td>0.167</td><td>0.140</td><td>0.108</td><td>0.084</td><td>0.056</td><td>0.029</td></tr>\n",
       "\t<tr><td>43500</td><td>0.028</td><td>0.056</td><td>0.084</td><td>0.112</td><td>0.139</td><td>0.168</td><td>0.139</td><td>0.109</td><td>0.081</td><td>0.058</td><td>0.027</td></tr>\n",
       "\t<tr><td>44500</td><td>0.027</td><td>0.055</td><td>0.082</td><td>0.113</td><td>0.139</td><td>0.165</td><td>0.140</td><td>0.114</td><td>0.081</td><td>0.057</td><td>0.028</td></tr>\n",
       "\t<tr><td>45500</td><td>0.028</td><td>0.056</td><td>0.083</td><td>0.113</td><td>0.137</td><td>0.165</td><td>0.138</td><td>0.112</td><td>0.083</td><td>0.058</td><td>0.028</td></tr>\n",
       "\t<tr><td>46500</td><td>0.027</td><td>0.055</td><td>0.083</td><td>0.113</td><td>0.136</td><td>0.170</td><td>0.140</td><td>0.110</td><td>0.083</td><td>0.056</td><td>0.027</td></tr>\n",
       "\t<tr><td>47500</td><td>0.028</td><td>0.056</td><td>0.083</td><td>0.110</td><td>0.140</td><td>0.165</td><td>0.140</td><td>0.112</td><td>0.085</td><td>0.055</td><td>0.026</td></tr>\n",
       "\t<tr><td>48500</td><td>0.028</td><td>0.055</td><td>0.083</td><td>0.112</td><td>0.138</td><td>0.165</td><td>0.141</td><td>0.113</td><td>0.084</td><td>0.056</td><td>0.026</td></tr>\n",
       "\t<tr><td>49500</td><td>0.028</td><td>0.055</td><td>0.082</td><td>0.112</td><td>0.137</td><td>0.168</td><td>0.140</td><td>0.111</td><td>0.084</td><td>0.057</td><td>0.029</td></tr>\n",
       "</tbody>\n",
       "</table>\n"
      ],
      "text/latex": [
       "\\begin{tabular}{llllllllllll}\n",
       " SampleSize & 2 & 3 & 4 & 5 & 6 & 7 & 8 & 9 & 10 & 11 & 12\\\\\n",
       "\\hline\n",
       "\t   500 & 0.028 & 0.040 & 0.088 & 0.102 & 0.162 & 0.144 & 0.134 & 0.134 & 0.084 & 0.064 & 0.020\\\\\n",
       "\t  1500 & 0.036 & 0.051 & 0.078 & 0.113 & 0.135 & 0.167 & 0.133 & 0.111 & 0.089 & 0.062 & 0.024\\\\\n",
       "\t  2500 & 0.029 & 0.057 & 0.078 & 0.112 & 0.135 & 0.165 & 0.135 & 0.118 & 0.084 & 0.061 & 0.025\\\\\n",
       "\t  3500 & 0.024 & 0.052 & 0.084 & 0.112 & 0.136 & 0.179 & 0.149 & 0.116 & 0.070 & 0.048 & 0.029\\\\\n",
       "\t  4500 & 0.031 & 0.053 & 0.081 & 0.112 & 0.135 & 0.172 & 0.137 & 0.108 & 0.082 & 0.057 & 0.031\\\\\n",
       "\t  5500 & 0.027 & 0.059 & 0.086 & 0.115 & 0.135 & 0.165 & 0.143 & 0.114 & 0.078 & 0.054 & 0.025\\\\\n",
       "\t  6500 & 0.029 & 0.054 & 0.080 & 0.108 & 0.138 & 0.159 & 0.143 & 0.116 & 0.082 & 0.057 & 0.032\\\\\n",
       "\t  7500 & 0.026 & 0.052 & 0.080 & 0.113 & 0.137 & 0.175 & 0.134 & 0.114 & 0.081 & 0.054 & 0.033\\\\\n",
       "\t  8500 & 0.030 & 0.055 & 0.087 & 0.108 & 0.143 & 0.165 & 0.133 & 0.106 & 0.086 & 0.055 & 0.031\\\\\n",
       "\t  9500 & 0.027 & 0.055 & 0.087 & 0.116 & 0.141 & 0.158 & 0.140 & 0.112 & 0.082 & 0.056 & 0.027\\\\\n",
       "\t 10500 & 0.029 & 0.058 & 0.076 & 0.115 & 0.140 & 0.164 & 0.140 & 0.111 & 0.085 & 0.055 & 0.027\\\\\n",
       "\t 11500 & 0.028 & 0.057 & 0.083 & 0.115 & 0.143 & 0.165 & 0.139 & 0.111 & 0.078 & 0.052 & 0.029\\\\\n",
       "\t 12500 & 0.028 & 0.061 & 0.081 & 0.111 & 0.141 & 0.164 & 0.135 & 0.111 & 0.082 & 0.055 & 0.031\\\\\n",
       "\t 13500 & 0.027 & 0.055 & 0.082 & 0.109 & 0.136 & 0.164 & 0.140 & 0.111 & 0.084 & 0.062 & 0.029\\\\\n",
       "\t 14500 & 0.027 & 0.055 & 0.085 & 0.115 & 0.136 & 0.164 & 0.138 & 0.111 & 0.084 & 0.057 & 0.029\\\\\n",
       "\t 15500 & 0.029 & 0.057 & 0.083 & 0.111 & 0.139 & 0.163 & 0.139 & 0.115 & 0.081 & 0.054 & 0.029\\\\\n",
       "\t 16500 & 0.026 & 0.059 & 0.082 & 0.109 & 0.140 & 0.165 & 0.143 & 0.113 & 0.081 & 0.053 & 0.029\\\\\n",
       "\t 17500 & 0.027 & 0.055 & 0.086 & 0.115 & 0.139 & 0.164 & 0.138 & 0.111 & 0.083 & 0.056 & 0.027\\\\\n",
       "\t 18500 & 0.029 & 0.057 & 0.082 & 0.106 & 0.138 & 0.165 & 0.140 & 0.114 & 0.085 & 0.056 & 0.028\\\\\n",
       "\t 19500 & 0.026 & 0.056 & 0.084 & 0.114 & 0.143 & 0.165 & 0.136 & 0.114 & 0.081 & 0.051 & 0.029\\\\\n",
       "\t 20500 & 0.027 & 0.054 & 0.082 & 0.113 & 0.138 & 0.169 & 0.137 & 0.111 & 0.087 & 0.054 & 0.028\\\\\n",
       "\t 21500 & 0.028 & 0.053 & 0.079 & 0.111 & 0.140 & 0.169 & 0.140 & 0.112 & 0.084 & 0.053 & 0.030\\\\\n",
       "\t 22500 & 0.029 & 0.057 & 0.084 & 0.111 & 0.140 & 0.163 & 0.139 & 0.114 & 0.082 & 0.056 & 0.026\\\\\n",
       "\t 23500 & 0.029 & 0.056 & 0.084 & 0.111 & 0.136 & 0.171 & 0.137 & 0.108 & 0.082 & 0.059 & 0.026\\\\\n",
       "\t 24500 & 0.029 & 0.056 & 0.083 & 0.112 & 0.138 & 0.168 & 0.136 & 0.110 & 0.084 & 0.058 & 0.026\\\\\n",
       "\t 25500 & 0.028 & 0.055 & 0.082 & 0.110 & 0.139 & 0.171 & 0.137 & 0.114 & 0.083 & 0.056 & 0.025\\\\\n",
       "\t 26500 & 0.027 & 0.058 & 0.082 & 0.114 & 0.137 & 0.168 & 0.137 & 0.112 & 0.082 & 0.055 & 0.029\\\\\n",
       "\t 27500 & 0.028 & 0.053 & 0.085 & 0.114 & 0.138 & 0.169 & 0.139 & 0.111 & 0.082 & 0.055 & 0.026\\\\\n",
       "\t 28500 & 0.027 & 0.056 & 0.084 & 0.112 & 0.141 & 0.169 & 0.136 & 0.110 & 0.081 & 0.056 & 0.027\\\\\n",
       "\t 29500 & 0.026 & 0.054 & 0.084 & 0.110 & 0.141 & 0.166 & 0.140 & 0.113 & 0.082 & 0.054 & 0.028\\\\\n",
       "\t 30500 & 0.027 & 0.057 & 0.086 & 0.107 & 0.136 & 0.163 & 0.139 & 0.112 & 0.087 & 0.058 & 0.028\\\\\n",
       "\t 31500 & 0.027 & 0.055 & 0.083 & 0.110 & 0.142 & 0.168 & 0.136 & 0.111 & 0.085 & 0.056 & 0.027\\\\\n",
       "\t 32500 & 0.029 & 0.054 & 0.084 & 0.111 & 0.137 & 0.166 & 0.141 & 0.110 & 0.082 & 0.058 & 0.026\\\\\n",
       "\t 33500 & 0.027 & 0.055 & 0.084 & 0.113 & 0.140 & 0.164 & 0.138 & 0.111 & 0.085 & 0.054 & 0.028\\\\\n",
       "\t 34500 & 0.028 & 0.055 & 0.082 & 0.115 & 0.137 & 0.162 & 0.139 & 0.113 & 0.085 & 0.057 & 0.027\\\\\n",
       "\t 35500 & 0.028 & 0.058 & 0.085 & 0.110 & 0.136 & 0.165 & 0.140 & 0.113 & 0.083 & 0.056 & 0.027\\\\\n",
       "\t 36500 & 0.028 & 0.055 & 0.082 & 0.113 & 0.140 & 0.165 & 0.139 & 0.112 & 0.080 & 0.054 & 0.031\\\\\n",
       "\t 37500 & 0.027 & 0.057 & 0.085 & 0.111 & 0.139 & 0.166 & 0.137 & 0.111 & 0.082 & 0.055 & 0.030\\\\\n",
       "\t 38500 & 0.028 & 0.056 & 0.084 & 0.112 & 0.139 & 0.165 & 0.141 & 0.110 & 0.082 & 0.055 & 0.028\\\\\n",
       "\t 39500 & 0.027 & 0.052 & 0.081 & 0.112 & 0.141 & 0.167 & 0.140 & 0.111 & 0.084 & 0.057 & 0.027\\\\\n",
       "\t 40500 & 0.028 & 0.055 & 0.084 & 0.112 & 0.140 & 0.169 & 0.137 & 0.111 & 0.082 & 0.055 & 0.027\\\\\n",
       "\t 41500 & 0.027 & 0.056 & 0.082 & 0.112 & 0.136 & 0.171 & 0.139 & 0.109 & 0.085 & 0.056 & 0.029\\\\\n",
       "\t 42500 & 0.027 & 0.055 & 0.082 & 0.111 & 0.141 & 0.167 & 0.140 & 0.108 & 0.084 & 0.056 & 0.029\\\\\n",
       "\t 43500 & 0.028 & 0.056 & 0.084 & 0.112 & 0.139 & 0.168 & 0.139 & 0.109 & 0.081 & 0.058 & 0.027\\\\\n",
       "\t 44500 & 0.027 & 0.055 & 0.082 & 0.113 & 0.139 & 0.165 & 0.140 & 0.114 & 0.081 & 0.057 & 0.028\\\\\n",
       "\t 45500 & 0.028 & 0.056 & 0.083 & 0.113 & 0.137 & 0.165 & 0.138 & 0.112 & 0.083 & 0.058 & 0.028\\\\\n",
       "\t 46500 & 0.027 & 0.055 & 0.083 & 0.113 & 0.136 & 0.170 & 0.140 & 0.110 & 0.083 & 0.056 & 0.027\\\\\n",
       "\t 47500 & 0.028 & 0.056 & 0.083 & 0.110 & 0.140 & 0.165 & 0.140 & 0.112 & 0.085 & 0.055 & 0.026\\\\\n",
       "\t 48500 & 0.028 & 0.055 & 0.083 & 0.112 & 0.138 & 0.165 & 0.141 & 0.113 & 0.084 & 0.056 & 0.026\\\\\n",
       "\t 49500 & 0.028 & 0.055 & 0.082 & 0.112 & 0.137 & 0.168 & 0.140 & 0.111 & 0.084 & 0.057 & 0.029\\\\\n",
       "\\end{tabular}\n"
      ],
      "text/markdown": [
       "\n",
       "| SampleSize | 2 | 3 | 4 | 5 | 6 | 7 | 8 | 9 | 10 | 11 | 12 |\n",
       "|---|---|---|---|---|---|---|---|---|---|---|---|\n",
       "|   500 | 0.028 | 0.040 | 0.088 | 0.102 | 0.162 | 0.144 | 0.134 | 0.134 | 0.084 | 0.064 | 0.020 |\n",
       "|  1500 | 0.036 | 0.051 | 0.078 | 0.113 | 0.135 | 0.167 | 0.133 | 0.111 | 0.089 | 0.062 | 0.024 |\n",
       "|  2500 | 0.029 | 0.057 | 0.078 | 0.112 | 0.135 | 0.165 | 0.135 | 0.118 | 0.084 | 0.061 | 0.025 |\n",
       "|  3500 | 0.024 | 0.052 | 0.084 | 0.112 | 0.136 | 0.179 | 0.149 | 0.116 | 0.070 | 0.048 | 0.029 |\n",
       "|  4500 | 0.031 | 0.053 | 0.081 | 0.112 | 0.135 | 0.172 | 0.137 | 0.108 | 0.082 | 0.057 | 0.031 |\n",
       "|  5500 | 0.027 | 0.059 | 0.086 | 0.115 | 0.135 | 0.165 | 0.143 | 0.114 | 0.078 | 0.054 | 0.025 |\n",
       "|  6500 | 0.029 | 0.054 | 0.080 | 0.108 | 0.138 | 0.159 | 0.143 | 0.116 | 0.082 | 0.057 | 0.032 |\n",
       "|  7500 | 0.026 | 0.052 | 0.080 | 0.113 | 0.137 | 0.175 | 0.134 | 0.114 | 0.081 | 0.054 | 0.033 |\n",
       "|  8500 | 0.030 | 0.055 | 0.087 | 0.108 | 0.143 | 0.165 | 0.133 | 0.106 | 0.086 | 0.055 | 0.031 |\n",
       "|  9500 | 0.027 | 0.055 | 0.087 | 0.116 | 0.141 | 0.158 | 0.140 | 0.112 | 0.082 | 0.056 | 0.027 |\n",
       "| 10500 | 0.029 | 0.058 | 0.076 | 0.115 | 0.140 | 0.164 | 0.140 | 0.111 | 0.085 | 0.055 | 0.027 |\n",
       "| 11500 | 0.028 | 0.057 | 0.083 | 0.115 | 0.143 | 0.165 | 0.139 | 0.111 | 0.078 | 0.052 | 0.029 |\n",
       "| 12500 | 0.028 | 0.061 | 0.081 | 0.111 | 0.141 | 0.164 | 0.135 | 0.111 | 0.082 | 0.055 | 0.031 |\n",
       "| 13500 | 0.027 | 0.055 | 0.082 | 0.109 | 0.136 | 0.164 | 0.140 | 0.111 | 0.084 | 0.062 | 0.029 |\n",
       "| 14500 | 0.027 | 0.055 | 0.085 | 0.115 | 0.136 | 0.164 | 0.138 | 0.111 | 0.084 | 0.057 | 0.029 |\n",
       "| 15500 | 0.029 | 0.057 | 0.083 | 0.111 | 0.139 | 0.163 | 0.139 | 0.115 | 0.081 | 0.054 | 0.029 |\n",
       "| 16500 | 0.026 | 0.059 | 0.082 | 0.109 | 0.140 | 0.165 | 0.143 | 0.113 | 0.081 | 0.053 | 0.029 |\n",
       "| 17500 | 0.027 | 0.055 | 0.086 | 0.115 | 0.139 | 0.164 | 0.138 | 0.111 | 0.083 | 0.056 | 0.027 |\n",
       "| 18500 | 0.029 | 0.057 | 0.082 | 0.106 | 0.138 | 0.165 | 0.140 | 0.114 | 0.085 | 0.056 | 0.028 |\n",
       "| 19500 | 0.026 | 0.056 | 0.084 | 0.114 | 0.143 | 0.165 | 0.136 | 0.114 | 0.081 | 0.051 | 0.029 |\n",
       "| 20500 | 0.027 | 0.054 | 0.082 | 0.113 | 0.138 | 0.169 | 0.137 | 0.111 | 0.087 | 0.054 | 0.028 |\n",
       "| 21500 | 0.028 | 0.053 | 0.079 | 0.111 | 0.140 | 0.169 | 0.140 | 0.112 | 0.084 | 0.053 | 0.030 |\n",
       "| 22500 | 0.029 | 0.057 | 0.084 | 0.111 | 0.140 | 0.163 | 0.139 | 0.114 | 0.082 | 0.056 | 0.026 |\n",
       "| 23500 | 0.029 | 0.056 | 0.084 | 0.111 | 0.136 | 0.171 | 0.137 | 0.108 | 0.082 | 0.059 | 0.026 |\n",
       "| 24500 | 0.029 | 0.056 | 0.083 | 0.112 | 0.138 | 0.168 | 0.136 | 0.110 | 0.084 | 0.058 | 0.026 |\n",
       "| 25500 | 0.028 | 0.055 | 0.082 | 0.110 | 0.139 | 0.171 | 0.137 | 0.114 | 0.083 | 0.056 | 0.025 |\n",
       "| 26500 | 0.027 | 0.058 | 0.082 | 0.114 | 0.137 | 0.168 | 0.137 | 0.112 | 0.082 | 0.055 | 0.029 |\n",
       "| 27500 | 0.028 | 0.053 | 0.085 | 0.114 | 0.138 | 0.169 | 0.139 | 0.111 | 0.082 | 0.055 | 0.026 |\n",
       "| 28500 | 0.027 | 0.056 | 0.084 | 0.112 | 0.141 | 0.169 | 0.136 | 0.110 | 0.081 | 0.056 | 0.027 |\n",
       "| 29500 | 0.026 | 0.054 | 0.084 | 0.110 | 0.141 | 0.166 | 0.140 | 0.113 | 0.082 | 0.054 | 0.028 |\n",
       "| 30500 | 0.027 | 0.057 | 0.086 | 0.107 | 0.136 | 0.163 | 0.139 | 0.112 | 0.087 | 0.058 | 0.028 |\n",
       "| 31500 | 0.027 | 0.055 | 0.083 | 0.110 | 0.142 | 0.168 | 0.136 | 0.111 | 0.085 | 0.056 | 0.027 |\n",
       "| 32500 | 0.029 | 0.054 | 0.084 | 0.111 | 0.137 | 0.166 | 0.141 | 0.110 | 0.082 | 0.058 | 0.026 |\n",
       "| 33500 | 0.027 | 0.055 | 0.084 | 0.113 | 0.140 | 0.164 | 0.138 | 0.111 | 0.085 | 0.054 | 0.028 |\n",
       "| 34500 | 0.028 | 0.055 | 0.082 | 0.115 | 0.137 | 0.162 | 0.139 | 0.113 | 0.085 | 0.057 | 0.027 |\n",
       "| 35500 | 0.028 | 0.058 | 0.085 | 0.110 | 0.136 | 0.165 | 0.140 | 0.113 | 0.083 | 0.056 | 0.027 |\n",
       "| 36500 | 0.028 | 0.055 | 0.082 | 0.113 | 0.140 | 0.165 | 0.139 | 0.112 | 0.080 | 0.054 | 0.031 |\n",
       "| 37500 | 0.027 | 0.057 | 0.085 | 0.111 | 0.139 | 0.166 | 0.137 | 0.111 | 0.082 | 0.055 | 0.030 |\n",
       "| 38500 | 0.028 | 0.056 | 0.084 | 0.112 | 0.139 | 0.165 | 0.141 | 0.110 | 0.082 | 0.055 | 0.028 |\n",
       "| 39500 | 0.027 | 0.052 | 0.081 | 0.112 | 0.141 | 0.167 | 0.140 | 0.111 | 0.084 | 0.057 | 0.027 |\n",
       "| 40500 | 0.028 | 0.055 | 0.084 | 0.112 | 0.140 | 0.169 | 0.137 | 0.111 | 0.082 | 0.055 | 0.027 |\n",
       "| 41500 | 0.027 | 0.056 | 0.082 | 0.112 | 0.136 | 0.171 | 0.139 | 0.109 | 0.085 | 0.056 | 0.029 |\n",
       "| 42500 | 0.027 | 0.055 | 0.082 | 0.111 | 0.141 | 0.167 | 0.140 | 0.108 | 0.084 | 0.056 | 0.029 |\n",
       "| 43500 | 0.028 | 0.056 | 0.084 | 0.112 | 0.139 | 0.168 | 0.139 | 0.109 | 0.081 | 0.058 | 0.027 |\n",
       "| 44500 | 0.027 | 0.055 | 0.082 | 0.113 | 0.139 | 0.165 | 0.140 | 0.114 | 0.081 | 0.057 | 0.028 |\n",
       "| 45500 | 0.028 | 0.056 | 0.083 | 0.113 | 0.137 | 0.165 | 0.138 | 0.112 | 0.083 | 0.058 | 0.028 |\n",
       "| 46500 | 0.027 | 0.055 | 0.083 | 0.113 | 0.136 | 0.170 | 0.140 | 0.110 | 0.083 | 0.056 | 0.027 |\n",
       "| 47500 | 0.028 | 0.056 | 0.083 | 0.110 | 0.140 | 0.165 | 0.140 | 0.112 | 0.085 | 0.055 | 0.026 |\n",
       "| 48500 | 0.028 | 0.055 | 0.083 | 0.112 | 0.138 | 0.165 | 0.141 | 0.113 | 0.084 | 0.056 | 0.026 |\n",
       "| 49500 | 0.028 | 0.055 | 0.082 | 0.112 | 0.137 | 0.168 | 0.140 | 0.111 | 0.084 | 0.057 | 0.029 |\n",
       "\n"
      ],
      "text/plain": [
       "      SampleSize 2     3     4     5     6     7     8     9     10    11   \n",
       " [1,]   500      0.028 0.040 0.088 0.102 0.162 0.144 0.134 0.134 0.084 0.064\n",
       " [2,]  1500      0.036 0.051 0.078 0.113 0.135 0.167 0.133 0.111 0.089 0.062\n",
       " [3,]  2500      0.029 0.057 0.078 0.112 0.135 0.165 0.135 0.118 0.084 0.061\n",
       " [4,]  3500      0.024 0.052 0.084 0.112 0.136 0.179 0.149 0.116 0.070 0.048\n",
       " [5,]  4500      0.031 0.053 0.081 0.112 0.135 0.172 0.137 0.108 0.082 0.057\n",
       " [6,]  5500      0.027 0.059 0.086 0.115 0.135 0.165 0.143 0.114 0.078 0.054\n",
       " [7,]  6500      0.029 0.054 0.080 0.108 0.138 0.159 0.143 0.116 0.082 0.057\n",
       " [8,]  7500      0.026 0.052 0.080 0.113 0.137 0.175 0.134 0.114 0.081 0.054\n",
       " [9,]  8500      0.030 0.055 0.087 0.108 0.143 0.165 0.133 0.106 0.086 0.055\n",
       "[10,]  9500      0.027 0.055 0.087 0.116 0.141 0.158 0.140 0.112 0.082 0.056\n",
       "[11,] 10500      0.029 0.058 0.076 0.115 0.140 0.164 0.140 0.111 0.085 0.055\n",
       "[12,] 11500      0.028 0.057 0.083 0.115 0.143 0.165 0.139 0.111 0.078 0.052\n",
       "[13,] 12500      0.028 0.061 0.081 0.111 0.141 0.164 0.135 0.111 0.082 0.055\n",
       "[14,] 13500      0.027 0.055 0.082 0.109 0.136 0.164 0.140 0.111 0.084 0.062\n",
       "[15,] 14500      0.027 0.055 0.085 0.115 0.136 0.164 0.138 0.111 0.084 0.057\n",
       "[16,] 15500      0.029 0.057 0.083 0.111 0.139 0.163 0.139 0.115 0.081 0.054\n",
       "[17,] 16500      0.026 0.059 0.082 0.109 0.140 0.165 0.143 0.113 0.081 0.053\n",
       "[18,] 17500      0.027 0.055 0.086 0.115 0.139 0.164 0.138 0.111 0.083 0.056\n",
       "[19,] 18500      0.029 0.057 0.082 0.106 0.138 0.165 0.140 0.114 0.085 0.056\n",
       "[20,] 19500      0.026 0.056 0.084 0.114 0.143 0.165 0.136 0.114 0.081 0.051\n",
       "[21,] 20500      0.027 0.054 0.082 0.113 0.138 0.169 0.137 0.111 0.087 0.054\n",
       "[22,] 21500      0.028 0.053 0.079 0.111 0.140 0.169 0.140 0.112 0.084 0.053\n",
       "[23,] 22500      0.029 0.057 0.084 0.111 0.140 0.163 0.139 0.114 0.082 0.056\n",
       "[24,] 23500      0.029 0.056 0.084 0.111 0.136 0.171 0.137 0.108 0.082 0.059\n",
       "[25,] 24500      0.029 0.056 0.083 0.112 0.138 0.168 0.136 0.110 0.084 0.058\n",
       "[26,] 25500      0.028 0.055 0.082 0.110 0.139 0.171 0.137 0.114 0.083 0.056\n",
       "[27,] 26500      0.027 0.058 0.082 0.114 0.137 0.168 0.137 0.112 0.082 0.055\n",
       "[28,] 27500      0.028 0.053 0.085 0.114 0.138 0.169 0.139 0.111 0.082 0.055\n",
       "[29,] 28500      0.027 0.056 0.084 0.112 0.141 0.169 0.136 0.110 0.081 0.056\n",
       "[30,] 29500      0.026 0.054 0.084 0.110 0.141 0.166 0.140 0.113 0.082 0.054\n",
       "[31,] 30500      0.027 0.057 0.086 0.107 0.136 0.163 0.139 0.112 0.087 0.058\n",
       "[32,] 31500      0.027 0.055 0.083 0.110 0.142 0.168 0.136 0.111 0.085 0.056\n",
       "[33,] 32500      0.029 0.054 0.084 0.111 0.137 0.166 0.141 0.110 0.082 0.058\n",
       "[34,] 33500      0.027 0.055 0.084 0.113 0.140 0.164 0.138 0.111 0.085 0.054\n",
       "[35,] 34500      0.028 0.055 0.082 0.115 0.137 0.162 0.139 0.113 0.085 0.057\n",
       "[36,] 35500      0.028 0.058 0.085 0.110 0.136 0.165 0.140 0.113 0.083 0.056\n",
       "[37,] 36500      0.028 0.055 0.082 0.113 0.140 0.165 0.139 0.112 0.080 0.054\n",
       "[38,] 37500      0.027 0.057 0.085 0.111 0.139 0.166 0.137 0.111 0.082 0.055\n",
       "[39,] 38500      0.028 0.056 0.084 0.112 0.139 0.165 0.141 0.110 0.082 0.055\n",
       "[40,] 39500      0.027 0.052 0.081 0.112 0.141 0.167 0.140 0.111 0.084 0.057\n",
       "[41,] 40500      0.028 0.055 0.084 0.112 0.140 0.169 0.137 0.111 0.082 0.055\n",
       "[42,] 41500      0.027 0.056 0.082 0.112 0.136 0.171 0.139 0.109 0.085 0.056\n",
       "[43,] 42500      0.027 0.055 0.082 0.111 0.141 0.167 0.140 0.108 0.084 0.056\n",
       "[44,] 43500      0.028 0.056 0.084 0.112 0.139 0.168 0.139 0.109 0.081 0.058\n",
       "[45,] 44500      0.027 0.055 0.082 0.113 0.139 0.165 0.140 0.114 0.081 0.057\n",
       "[46,] 45500      0.028 0.056 0.083 0.113 0.137 0.165 0.138 0.112 0.083 0.058\n",
       "[47,] 46500      0.027 0.055 0.083 0.113 0.136 0.170 0.140 0.110 0.083 0.056\n",
       "[48,] 47500      0.028 0.056 0.083 0.110 0.140 0.165 0.140 0.112 0.085 0.055\n",
       "[49,] 48500      0.028 0.055 0.083 0.112 0.138 0.165 0.141 0.113 0.084 0.056\n",
       "[50,] 49500      0.028 0.055 0.082 0.112 0.137 0.168 0.140 0.111 0.084 0.057\n",
       "      12   \n",
       " [1,] 0.020\n",
       " [2,] 0.024\n",
       " [3,] 0.025\n",
       " [4,] 0.029\n",
       " [5,] 0.031\n",
       " [6,] 0.025\n",
       " [7,] 0.032\n",
       " [8,] 0.033\n",
       " [9,] 0.031\n",
       "[10,] 0.027\n",
       "[11,] 0.027\n",
       "[12,] 0.029\n",
       "[13,] 0.031\n",
       "[14,] 0.029\n",
       "[15,] 0.029\n",
       "[16,] 0.029\n",
       "[17,] 0.029\n",
       "[18,] 0.027\n",
       "[19,] 0.028\n",
       "[20,] 0.029\n",
       "[21,] 0.028\n",
       "[22,] 0.030\n",
       "[23,] 0.026\n",
       "[24,] 0.026\n",
       "[25,] 0.026\n",
       "[26,] 0.025\n",
       "[27,] 0.029\n",
       "[28,] 0.026\n",
       "[29,] 0.027\n",
       "[30,] 0.028\n",
       "[31,] 0.028\n",
       "[32,] 0.027\n",
       "[33,] 0.026\n",
       "[34,] 0.028\n",
       "[35,] 0.027\n",
       "[36,] 0.027\n",
       "[37,] 0.031\n",
       "[38,] 0.030\n",
       "[39,] 0.028\n",
       "[40,] 0.027\n",
       "[41,] 0.027\n",
       "[42,] 0.029\n",
       "[43,] 0.029\n",
       "[44,] 0.027\n",
       "[45,] 0.028\n",
       "[46,] 0.028\n",
       "[47,] 0.027\n",
       "[48,] 0.026\n",
       "[49,] 0.026\n",
       "[50,] 0.029"
      ]
     },
     "metadata": {},
     "output_type": "display_data"
    }
   ],
   "source": [
    "EventsProb"
   ]
  },
  {
   "cell_type": "code",
   "execution_count": 236,
   "id": "e6dc0125",
   "metadata": {},
   "outputs": [],
   "source": [
    "Columns = colnames(EventsProb[,2:12])"
   ]
  },
  {
   "cell_type": "code",
   "execution_count": 237,
   "id": "b5873d9f",
   "metadata": {},
   "outputs": [
    {
     "data": {
      "image/png": "[encoded data removed]",
      "text/plain": [
       "plot without title"
      ]
     },
     "metadata": {},
     "output_type": "display_data"
    }
   ],
   "source": [
    "# Now we will make a fully detailed plot b/w samplesize and all events probability.\n",
    "\n",
    "# making a blank plot with both axis.\n",
    "plot(x= EventsProb[,1], y=EventsProb[,2], type='n', ylim=c(0,0.20))\n",
    "count = 2\n",
    "col_num = 2\n",
    "for (i in Columns){\n",
    "    count = count+1\n",
    "    \n",
    "    # Now we will use for loop to draw all the probability lines with points.\n",
    "    lines(x=EventsProb[,1], y=EventsProb[,i], col=count)\n",
    "    points(x=EventsProb[,1], y=EventsProb[,i], col=2, cex = 0.5,pch=16) # points on the prob. lines.\n",
    "    abline(a=1,b=0, h=mean(EventsProb[,i]), lty=2)  # making a porb line.\n",
    "    text(y=mean(EventsProb[,i]),x=50000,label=c(i))\n",
    "    prob_i = format(round(mean(EventsProb[,i]),2), nsmall=3)\n",
    "    if (col_num > 7){\n",
    "        text(y=mean(EventsProb[,i])-0.01,x=15000,label=c(paste(prob_i,\"(\",i,\")\")),col=count)\n",
    "    }\n",
    "    else{\n",
    "        text(y=mean(EventsProb[,i])-0.01,x=35000,label=c(paste(prob_i,\"(\",i,\")\")),col=count)\n",
    "    }\n",
    "    col_num = col_num+1\n",
    "    \n",
    "}\n",
    "\n"
   ]
  },
  {
   "cell_type": "markdown",
   "id": "4e66b187",
   "metadata": {},
   "source": [
    "**Task: The addition law for mutually exclusive events states that the sum of relatve frequencies for even number should be about 50% and the sum of relative frequencies for odd numbers should be about 50%**\n",
    "\n",
    "* **Check the sum of relative frequencies for odd numbers(1,3,5,7,9,11)**\n",
    "* **Check the sum of relative frequencies for even numbers(2,4,6,8,10,12)**"
   ]
  },
  {
   "cell_type": "code",
   "execution_count": 262,
   "id": "c94dc7ce",
   "metadata": {},
   "outputs": [],
   "source": [
    "# Sum of relative frequencies for odd numbers\n",
    "# first we will get the oddEvents\n",
    "oddEvents = EventsProb[,c(3,5,7,9,11)]\n",
    "\n",
    "# Now we will sum all the Sample size, and we will bind it with SampleSizes\n",
    "\n",
    "oddEventsr = cbind(SampleSize = EventsProb[,1], OddEventSum = rowSums(oddEvents))\n"
   ]
  },
  {
   "cell_type": "markdown",
   "id": "00ca706b",
   "metadata": {},
   "source": [
    "NOw we will get the probability sum for even number of events."
   ]
  },
  {
   "cell_type": "code",
   "execution_count": 263,
   "id": "46f029c7",
   "metadata": {},
   "outputs": [],
   "source": [
    "# Sum of relative frequencies for odd numbers\n",
    "# first we will get the oddEvents\n",
    "evenEvents = EventsProb[,c(2,4,6,8,10,12)]\n",
    "\n",
    "# Now we will sum all the Sample size, and we will bind it with SampleSizes\n",
    "\n",
    "evenEventsr = cbind(SampleSize = EventsProb[,1], EvenEventSum = rowSums(evenEvents))"
   ]
  },
  {
   "cell_type": "markdown",
   "id": "80550e4b",
   "metadata": {},
   "source": [
    "**Combining the sum of odd and even events results for each number of sample size**"
   ]
  },
  {
   "cell_type": "code",
   "execution_count": 265,
   "id": "7cee1a45",
   "metadata": {},
   "outputs": [
    {
     "data": {
      "text/html": [
       "<table>\n",
       "<thead><tr><th scope=col>SampleSize</th><th scope=col>OddEventSum</th><th scope=col>EvenEventSum</th><th scope=col>OddEvenSum</th></tr></thead>\n",
       "<tbody>\n",
       "\t<tr><td>  500</td><td>0.484</td><td>0.516</td><td>1.000</td></tr>\n",
       "\t<tr><td> 1500</td><td>0.504</td><td>0.495</td><td>0.999</td></tr>\n",
       "\t<tr><td> 2500</td><td>0.513</td><td>0.486</td><td>0.999</td></tr>\n",
       "\t<tr><td> 3500</td><td>0.507</td><td>0.492</td><td>0.999</td></tr>\n",
       "\t<tr><td> 4500</td><td>0.502</td><td>0.497</td><td>0.999</td></tr>\n",
       "\t<tr><td> 5500</td><td>0.507</td><td>0.494</td><td>1.001</td></tr>\n",
       "\t<tr><td> 6500</td><td>0.494</td><td>0.504</td><td>0.998</td></tr>\n",
       "\t<tr><td> 7500</td><td>0.508</td><td>0.491</td><td>0.999</td></tr>\n",
       "\t<tr><td> 8500</td><td>0.489</td><td>0.510</td><td>0.999</td></tr>\n",
       "\t<tr><td> 9500</td><td>0.497</td><td>0.504</td><td>1.001</td></tr>\n",
       "\t<tr><td>10500</td><td>0.503</td><td>0.497</td><td>1.000</td></tr>\n",
       "\t<tr><td>11500</td><td>0.500</td><td>0.500</td><td>1.000</td></tr>\n",
       "\t<tr><td>12500</td><td>0.502</td><td>0.498</td><td>1.000</td></tr>\n",
       "\t<tr><td>13500</td><td>0.501</td><td>0.498</td><td>0.999</td></tr>\n",
       "\t<tr><td>14500</td><td>0.502</td><td>0.499</td><td>1.001</td></tr>\n",
       "\t<tr><td>15500</td><td>0.500</td><td>0.500</td><td>1.000</td></tr>\n",
       "\t<tr><td>16500</td><td>0.499</td><td>0.501</td><td>1.000</td></tr>\n",
       "\t<tr><td>17500</td><td>0.501</td><td>0.500</td><td>1.001</td></tr>\n",
       "\t<tr><td>18500</td><td>0.498</td><td>0.502</td><td>1.000</td></tr>\n",
       "\t<tr><td>19500</td><td>0.500</td><td>0.499</td><td>0.999</td></tr>\n",
       "\t<tr><td>20500</td><td>0.501</td><td>0.499</td><td>1.000</td></tr>\n",
       "\t<tr><td>21500</td><td>0.498</td><td>0.501</td><td>0.999</td></tr>\n",
       "\t<tr><td>22500</td><td>0.501</td><td>0.500</td><td>1.001</td></tr>\n",
       "\t<tr><td>23500</td><td>0.505</td><td>0.494</td><td>0.999</td></tr>\n",
       "\t<tr><td>24500</td><td>0.504</td><td>0.496</td><td>1.000</td></tr>\n",
       "\t<tr><td>25500</td><td>0.506</td><td>0.494</td><td>1.000</td></tr>\n",
       "\t<tr><td>26500</td><td>0.507</td><td>0.494</td><td>1.001</td></tr>\n",
       "\t<tr><td>27500</td><td>0.502</td><td>0.498</td><td>1.000</td></tr>\n",
       "\t<tr><td>28500</td><td>0.503</td><td>0.496</td><td>0.999</td></tr>\n",
       "\t<tr><td>29500</td><td>0.497</td><td>0.501</td><td>0.998</td></tr>\n",
       "\t<tr><td>30500</td><td>0.497</td><td>0.503</td><td>1.000</td></tr>\n",
       "\t<tr><td>31500</td><td>0.500</td><td>0.500</td><td>1.000</td></tr>\n",
       "\t<tr><td>32500</td><td>0.499</td><td>0.499</td><td>0.998</td></tr>\n",
       "\t<tr><td>33500</td><td>0.497</td><td>0.502</td><td>0.999</td></tr>\n",
       "\t<tr><td>34500</td><td>0.502</td><td>0.498</td><td>1.000</td></tr>\n",
       "\t<tr><td>35500</td><td>0.502</td><td>0.499</td><td>1.001</td></tr>\n",
       "\t<tr><td>36500</td><td>0.499</td><td>0.500</td><td>0.999</td></tr>\n",
       "\t<tr><td>37500</td><td>0.500</td><td>0.500</td><td>1.000</td></tr>\n",
       "\t<tr><td>38500</td><td>0.498</td><td>0.502</td><td>1.000</td></tr>\n",
       "\t<tr><td>39500</td><td>0.499</td><td>0.500</td><td>0.999</td></tr>\n",
       "\t<tr><td>40500</td><td>0.502</td><td>0.498</td><td>1.000</td></tr>\n",
       "\t<tr><td>41500</td><td>0.504</td><td>0.498</td><td>1.002</td></tr>\n",
       "\t<tr><td>42500</td><td>0.497</td><td>0.503</td><td>1.000</td></tr>\n",
       "\t<tr><td>43500</td><td>0.503</td><td>0.498</td><td>1.001</td></tr>\n",
       "\t<tr><td>44500</td><td>0.504</td><td>0.497</td><td>1.001</td></tr>\n",
       "\t<tr><td>45500</td><td>0.504</td><td>0.497</td><td>1.001</td></tr>\n",
       "\t<tr><td>46500</td><td>0.504</td><td>0.496</td><td>1.000</td></tr>\n",
       "\t<tr><td>47500</td><td>0.498</td><td>0.502</td><td>1.000</td></tr>\n",
       "\t<tr><td>48500</td><td>0.501</td><td>0.500</td><td>1.001</td></tr>\n",
       "\t<tr><td>49500</td><td>0.503</td><td>0.500</td><td>1.003</td></tr>\n",
       "</tbody>\n",
       "</table>\n"
      ],
      "text/latex": [
       "\\begin{tabular}{r|llll}\n",
       " SampleSize & OddEventSum & EvenEventSum & OddEvenSum\\\\\n",
       "\\hline\n",
       "\t   500 & 0.484 & 0.516 & 1.000\\\\\n",
       "\t  1500 & 0.504 & 0.495 & 0.999\\\\\n",
       "\t  2500 & 0.513 & 0.486 & 0.999\\\\\n",
       "\t  3500 & 0.507 & 0.492 & 0.999\\\\\n",
       "\t  4500 & 0.502 & 0.497 & 0.999\\\\\n",
       "\t  5500 & 0.507 & 0.494 & 1.001\\\\\n",
       "\t  6500 & 0.494 & 0.504 & 0.998\\\\\n",
       "\t  7500 & 0.508 & 0.491 & 0.999\\\\\n",
       "\t  8500 & 0.489 & 0.510 & 0.999\\\\\n",
       "\t  9500 & 0.497 & 0.504 & 1.001\\\\\n",
       "\t 10500 & 0.503 & 0.497 & 1.000\\\\\n",
       "\t 11500 & 0.500 & 0.500 & 1.000\\\\\n",
       "\t 12500 & 0.502 & 0.498 & 1.000\\\\\n",
       "\t 13500 & 0.501 & 0.498 & 0.999\\\\\n",
       "\t 14500 & 0.502 & 0.499 & 1.001\\\\\n",
       "\t 15500 & 0.500 & 0.500 & 1.000\\\\\n",
       "\t 16500 & 0.499 & 0.501 & 1.000\\\\\n",
       "\t 17500 & 0.501 & 0.500 & 1.001\\\\\n",
       "\t 18500 & 0.498 & 0.502 & 1.000\\\\\n",
       "\t 19500 & 0.500 & 0.499 & 0.999\\\\\n",
       "\t 20500 & 0.501 & 0.499 & 1.000\\\\\n",
       "\t 21500 & 0.498 & 0.501 & 0.999\\\\\n",
       "\t 22500 & 0.501 & 0.500 & 1.001\\\\\n",
       "\t 23500 & 0.505 & 0.494 & 0.999\\\\\n",
       "\t 24500 & 0.504 & 0.496 & 1.000\\\\\n",
       "\t 25500 & 0.506 & 0.494 & 1.000\\\\\n",
       "\t 26500 & 0.507 & 0.494 & 1.001\\\\\n",
       "\t 27500 & 0.502 & 0.498 & 1.000\\\\\n",
       "\t 28500 & 0.503 & 0.496 & 0.999\\\\\n",
       "\t 29500 & 0.497 & 0.501 & 0.998\\\\\n",
       "\t 30500 & 0.497 & 0.503 & 1.000\\\\\n",
       "\t 31500 & 0.500 & 0.500 & 1.000\\\\\n",
       "\t 32500 & 0.499 & 0.499 & 0.998\\\\\n",
       "\t 33500 & 0.497 & 0.502 & 0.999\\\\\n",
       "\t 34500 & 0.502 & 0.498 & 1.000\\\\\n",
       "\t 35500 & 0.502 & 0.499 & 1.001\\\\\n",
       "\t 36500 & 0.499 & 0.500 & 0.999\\\\\n",
       "\t 37500 & 0.500 & 0.500 & 1.000\\\\\n",
       "\t 38500 & 0.498 & 0.502 & 1.000\\\\\n",
       "\t 39500 & 0.499 & 0.500 & 0.999\\\\\n",
       "\t 40500 & 0.502 & 0.498 & 1.000\\\\\n",
       "\t 41500 & 0.504 & 0.498 & 1.002\\\\\n",
       "\t 42500 & 0.497 & 0.503 & 1.000\\\\\n",
       "\t 43500 & 0.503 & 0.498 & 1.001\\\\\n",
       "\t 44500 & 0.504 & 0.497 & 1.001\\\\\n",
       "\t 45500 & 0.504 & 0.497 & 1.001\\\\\n",
       "\t 46500 & 0.504 & 0.496 & 1.000\\\\\n",
       "\t 47500 & 0.498 & 0.502 & 1.000\\\\\n",
       "\t 48500 & 0.501 & 0.500 & 1.001\\\\\n",
       "\t 49500 & 0.503 & 0.500 & 1.003\\\\\n",
       "\\end{tabular}\n"
      ],
      "text/markdown": [
       "\n",
       "| SampleSize | OddEventSum | EvenEventSum | OddEvenSum |\n",
       "|---|---|---|---|\n",
       "|   500 | 0.484 | 0.516 | 1.000 |\n",
       "|  1500 | 0.504 | 0.495 | 0.999 |\n",
       "|  2500 | 0.513 | 0.486 | 0.999 |\n",
       "|  3500 | 0.507 | 0.492 | 0.999 |\n",
       "|  4500 | 0.502 | 0.497 | 0.999 |\n",
       "|  5500 | 0.507 | 0.494 | 1.001 |\n",
       "|  6500 | 0.494 | 0.504 | 0.998 |\n",
       "|  7500 | 0.508 | 0.491 | 0.999 |\n",
       "|  8500 | 0.489 | 0.510 | 0.999 |\n",
       "|  9500 | 0.497 | 0.504 | 1.001 |\n",
       "| 10500 | 0.503 | 0.497 | 1.000 |\n",
       "| 11500 | 0.500 | 0.500 | 1.000 |\n",
       "| 12500 | 0.502 | 0.498 | 1.000 |\n",
       "| 13500 | 0.501 | 0.498 | 0.999 |\n",
       "| 14500 | 0.502 | 0.499 | 1.001 |\n",
       "| 15500 | 0.500 | 0.500 | 1.000 |\n",
       "| 16500 | 0.499 | 0.501 | 1.000 |\n",
       "| 17500 | 0.501 | 0.500 | 1.001 |\n",
       "| 18500 | 0.498 | 0.502 | 1.000 |\n",
       "| 19500 | 0.500 | 0.499 | 0.999 |\n",
       "| 20500 | 0.501 | 0.499 | 1.000 |\n",
       "| 21500 | 0.498 | 0.501 | 0.999 |\n",
       "| 22500 | 0.501 | 0.500 | 1.001 |\n",
       "| 23500 | 0.505 | 0.494 | 0.999 |\n",
       "| 24500 | 0.504 | 0.496 | 1.000 |\n",
       "| 25500 | 0.506 | 0.494 | 1.000 |\n",
       "| 26500 | 0.507 | 0.494 | 1.001 |\n",
       "| 27500 | 0.502 | 0.498 | 1.000 |\n",
       "| 28500 | 0.503 | 0.496 | 0.999 |\n",
       "| 29500 | 0.497 | 0.501 | 0.998 |\n",
       "| 30500 | 0.497 | 0.503 | 1.000 |\n",
       "| 31500 | 0.500 | 0.500 | 1.000 |\n",
       "| 32500 | 0.499 | 0.499 | 0.998 |\n",
       "| 33500 | 0.497 | 0.502 | 0.999 |\n",
       "| 34500 | 0.502 | 0.498 | 1.000 |\n",
       "| 35500 | 0.502 | 0.499 | 1.001 |\n",
       "| 36500 | 0.499 | 0.500 | 0.999 |\n",
       "| 37500 | 0.500 | 0.500 | 1.000 |\n",
       "| 38500 | 0.498 | 0.502 | 1.000 |\n",
       "| 39500 | 0.499 | 0.500 | 0.999 |\n",
       "| 40500 | 0.502 | 0.498 | 1.000 |\n",
       "| 41500 | 0.504 | 0.498 | 1.002 |\n",
       "| 42500 | 0.497 | 0.503 | 1.000 |\n",
       "| 43500 | 0.503 | 0.498 | 1.001 |\n",
       "| 44500 | 0.504 | 0.497 | 1.001 |\n",
       "| 45500 | 0.504 | 0.497 | 1.001 |\n",
       "| 46500 | 0.504 | 0.496 | 1.000 |\n",
       "| 47500 | 0.498 | 0.502 | 1.000 |\n",
       "| 48500 | 0.501 | 0.500 | 1.001 |\n",
       "| 49500 | 0.503 | 0.500 | 1.003 |\n",
       "\n"
      ],
      "text/plain": [
       "   SampleSize OddEventSum EvenEventSum OddEvenSum\n",
       "1    500      0.484       0.516        1.000     \n",
       "2   1500      0.504       0.495        0.999     \n",
       "3   2500      0.513       0.486        0.999     \n",
       "4   3500      0.507       0.492        0.999     \n",
       "5   4500      0.502       0.497        0.999     \n",
       "6   5500      0.507       0.494        1.001     \n",
       "7   6500      0.494       0.504        0.998     \n",
       "8   7500      0.508       0.491        0.999     \n",
       "9   8500      0.489       0.510        0.999     \n",
       "10  9500      0.497       0.504        1.001     \n",
       "11 10500      0.503       0.497        1.000     \n",
       "12 11500      0.500       0.500        1.000     \n",
       "13 12500      0.502       0.498        1.000     \n",
       "14 13500      0.501       0.498        0.999     \n",
       "15 14500      0.502       0.499        1.001     \n",
       "16 15500      0.500       0.500        1.000     \n",
       "17 16500      0.499       0.501        1.000     \n",
       "18 17500      0.501       0.500        1.001     \n",
       "19 18500      0.498       0.502        1.000     \n",
       "20 19500      0.500       0.499        0.999     \n",
       "21 20500      0.501       0.499        1.000     \n",
       "22 21500      0.498       0.501        0.999     \n",
       "23 22500      0.501       0.500        1.001     \n",
       "24 23500      0.505       0.494        0.999     \n",
       "25 24500      0.504       0.496        1.000     \n",
       "26 25500      0.506       0.494        1.000     \n",
       "27 26500      0.507       0.494        1.001     \n",
       "28 27500      0.502       0.498        1.000     \n",
       "29 28500      0.503       0.496        0.999     \n",
       "30 29500      0.497       0.501        0.998     \n",
       "31 30500      0.497       0.503        1.000     \n",
       "32 31500      0.500       0.500        1.000     \n",
       "33 32500      0.499       0.499        0.998     \n",
       "34 33500      0.497       0.502        0.999     \n",
       "35 34500      0.502       0.498        1.000     \n",
       "36 35500      0.502       0.499        1.001     \n",
       "37 36500      0.499       0.500        0.999     \n",
       "38 37500      0.500       0.500        1.000     \n",
       "39 38500      0.498       0.502        1.000     \n",
       "40 39500      0.499       0.500        0.999     \n",
       "41 40500      0.502       0.498        1.000     \n",
       "42 41500      0.504       0.498        1.002     \n",
       "43 42500      0.497       0.503        1.000     \n",
       "44 43500      0.503       0.498        1.001     \n",
       "45 44500      0.504       0.497        1.001     \n",
       "46 45500      0.504       0.497        1.001     \n",
       "47 46500      0.504       0.496        1.000     \n",
       "48 47500      0.498       0.502        1.000     \n",
       "49 48500      0.501       0.500        1.001     \n",
       "50 49500      0.503       0.500        1.003     "
      ]
     },
     "metadata": {},
     "output_type": "display_data"
    }
   ],
   "source": [
    "# here we will use merge function instead of using cbind to aviod double column for SampleSize.\n",
    "EventsSum = merge(oddEventsr, evenEventsr)\n",
    "EventsSum = cbind(EventsSum, \"OddEvenSum\"= EventsSum[,2]+EventsSum[,3])\n",
    "EventsSum"
   ]
  },
  {
   "cell_type": "markdown",
   "id": "1fdf524c",
   "metadata": {},
   "source": [
    "___"
   ]
  },
  {
   "cell_type": "markdown",
   "id": "2173fd3f",
   "metadata": {},
   "source": [
    "## Multiplication Law of Probability"
   ]
  },
  {
   "cell_type": "markdown",
   "id": "0fc6b855",
   "metadata": {},
   "source": [
    "Now we will see the Multiplication law probability which is one of the basic properties of probability.\n",
    "\n",
    "For example: \n",
    "    \n",
    "    A: An odd number on the first die.\n",
    "    B: An odd number on the second die.\n",
    "    C: An odd nember on the both die.\n",
    "    \n",
    "    Then the multiplication law for independent events states that: P(Event C)=P(Event A) X P(Event B).\n",
    "    \n",
    "This multiplication law of probability reflects the properties of relative frequency in practice. if two dice are tossed a large number of times, the relative frequencies of eventsA, B, and C should approximate the probabilities of these events. Also, the product relative frequency of A times the relative frequency of B should approximate the relative frequency of C.\n",
    "\n",
    "* This can be stated as: Relative frequency of C = Relative frequency of A X relative frequency of B\n",
    "\n",
    "The multiplication law for independent events states that if two envents are independents then `P(A and B) = P(A) x P(B)`.\n",
    "\n",
    "The multiplication law for independent events is modeled on the behavior of relative frequency.\n",
    "\n",
    "* For relative frequency, RelativeFrequency(A and B) is approximately RelativeFrequency(A) X RelativeFrequency(B). As Sample size increases, RelativeFrequency(A and B) tends to be closer to RelativeFrequency(A) X RelativeFrequency(B). "
   ]
  },
  {
   "cell_type": "markdown",
   "id": "0dc412bd",
   "metadata": {},
   "source": [
    "**In this section also we will use the DicSim function with some little changes**"
   ]
  },
  {
   "cell_type": "code",
   "execution_count": 438,
   "id": "818044a0",
   "metadata": {},
   "outputs": [],
   "source": [
    "DiceSim = function(Population = c(0,1), Probability = c(0.5,0.5), from=1000, to=50000, SampleSize=2000,\n",
    "                  SampleRepeat=1, SampleName='Sample'){\n",
    "    \n",
    "    # Generating the Sample Size for tossing of coins.\n",
    "    SampleSizes = seq(from, to, SampleSize)\n",
    "    \n",
    "    # Now we need a vector to store all the smaple names.\n",
    "    SNames = vector(length=SampleRepeat)\n",
    "    \n",
    "    for (j in SampleSizes){\n",
    "        \n",
    "        # initializing the Sample data which will store the appearence of the Samples\n",
    "        SampleData = NULL\n",
    "        # We need to make it NULL after every \n",
    "        for (i in 1:SampleRepeat){\n",
    "            # Generating the Samples for both coins\n",
    "            Sample = sample(x=Population, size= j, prob = Probability, replace = TRUE)\n",
    "            \n",
    "            # Now here we need to pack it by using cbind method which will be used to bind all the Samples.\n",
    "            SNames[i] = paste(SampleName,i,sep='')\n",
    "            \n",
    "            # Now we need to bind all the sample together\n",
    "             if (!exists('SampleData')){\n",
    "                    SampleData = cbind(Sample)\n",
    "                }\n",
    "\n",
    "            else{\n",
    "                    SampleData = cbind(SampleData,Sample)\n",
    "                }\n",
    "            }\n",
    "        \n",
    "        # Now we need to add the event result\n",
    "        colnames(SampleData) = SNames\n",
    "        \n",
    "        # We also need get odd number apperaence for the individual dice\n",
    "        \n",
    "        for (CName in SNames){\n",
    "            \n",
    "            # Now here we need to make a vector which will contain the frequency of add numbers \n",
    "            # for each and individual dice.\n",
    "            DiceData = SampleData[SampleData[,CName]%%2 != 0,CName]\n",
    "            # Now after getting the individual data for each dice we need to make a table and add them.\n",
    "            DiceData = table(DiceData)\n",
    "            # Now we need to sum them with rowSums which will give us the frequency of appearence of odd numbers.\n",
    "            \n",
    "            #print(DiceData)\n",
    "            #print(paste(\"Sum of dice odd freq: \",sum(DiceData)))\n",
    "            \n",
    "            DiceData = sum(DiceData)\n",
    "            \n",
    "            if (!exists(\"DiceFreq\")){\n",
    "                \n",
    "                DiceFreq = cbind(Dice = DiceData)\n",
    "            }\n",
    "            else{\n",
    "                DiceFreq = cbind(DiceFreq, Dicex=DiceData)\n",
    "            }\n",
    "            \n",
    "        }\n",
    "        colnames(DiceFreq) = SNames  # renaming DiceFreq columns names.\n",
    "        #print(DiceFreq)\n",
    "        DiceFreq2 = DiceFreq\n",
    "        DiceFreq = NULL  # Now we need to make DiceFreq as NULL for another SampleSize Data\n",
    "        \n",
    "        \n",
    "        #colnames(DiceFreq) = SNames\n",
    "        \n",
    "        # Now we will select only odd number of events\n",
    "        SampleData = SampleData[SampleData[,'Dice1']%%2 != 0 & SampleData[,'Dice2']%%2 != 0,] \n",
    "        # selected only odd number if ther is an odd number in all dices. \n",
    "        Events = table(SampleData)\n",
    "        \n",
    "        # now we need to combine all the events together with sample size\n",
    "        if (!exists('EventsData')){\n",
    "                eventi= type.convert(format(round(Events/j, 3), nsmall = 3))\n",
    "            \n",
    "                EventsData = rbind(c(SampleSize=j, Events,Dice=DiceFreq2))\n",
    "                # here format is used to handle the format of the decimal number\n",
    "            \n",
    "            }\n",
    "\n",
    "        else{\n",
    "                eventi= type.convert(format(round(Events/j, 3), nsmall = 3))\n",
    "                EventsData = rbind(EventsData,c(SampleSize=j, Events,Dice=DiceFreq2))\n",
    "            }\n",
    "        \n",
    "        \n",
    "    }\n",
    "    # Here Now we need to rename all the samples.\n",
    "    #colnames(SampleData) = SNames  # the number of columns are equal to length of SNames.\n",
    "    #SampleData = data.frame(SampleData)\n",
    "    # Now to add another \n",
    "        \n",
    "    EventsData\n",
    "    #SampleData\n",
    "}"
   ]
  },
  {
   "cell_type": "code",
   "execution_count": 465,
   "id": "296e15b1",
   "metadata": {},
   "outputs": [],
   "source": [
    "EventsProb = DiceSim(Population = c(1:6), Probability = c(1/6,1/6,1/6,1/6,1/6,1/6),  SampleRepeat = 2, SampleName = \"Dice\",\n",
    "                    from=1000, to=50000,SampleSize=1000)\n",
    "EventsProb = data.frame(EventsProb)"
   ]
  },
  {
   "cell_type": "code",
   "execution_count": 466,
   "id": "b393d10b",
   "metadata": {},
   "outputs": [
    {
     "data": {
      "text/html": [
       "<table>\n",
       "<thead><tr><th scope=col>SampleSize</th><th scope=col>X1</th><th scope=col>X3</th><th scope=col>X5</th><th scope=col>Dice1</th><th scope=col>Dice2</th></tr></thead>\n",
       "<tbody>\n",
       "\t<tr><td>1000</td><td>157 </td><td> 144</td><td> 145</td><td> 483</td><td> 476</td></tr>\n",
       "\t<tr><td>2000</td><td>376 </td><td> 316</td><td> 314</td><td> 984</td><td>1008</td></tr>\n",
       "\t<tr><td>3000</td><td>507 </td><td> 497</td><td> 534</td><td>1509</td><td>1518</td></tr>\n",
       "\t<tr><td>4000</td><td>699 </td><td> 676</td><td> 653</td><td>1973</td><td>2064</td></tr>\n",
       "\t<tr><td>5000</td><td>871 </td><td> 839</td><td> 836</td><td>2522</td><td>2542</td></tr>\n",
       "\t<tr><td>6000</td><td>999 </td><td>1004</td><td>1025</td><td>2989</td><td>2972</td></tr>\n",
       "</tbody>\n",
       "</table>\n"
      ],
      "text/latex": [
       "\\begin{tabular}{r|llllll}\n",
       " SampleSize & X1 & X3 & X5 & Dice1 & Dice2\\\\\n",
       "\\hline\n",
       "\t 1000 & 157  &  144 &  145 &  483 &  476\\\\\n",
       "\t 2000 & 376  &  316 &  314 &  984 & 1008\\\\\n",
       "\t 3000 & 507  &  497 &  534 & 1509 & 1518\\\\\n",
       "\t 4000 & 699  &  676 &  653 & 1973 & 2064\\\\\n",
       "\t 5000 & 871  &  839 &  836 & 2522 & 2542\\\\\n",
       "\t 6000 & 999  & 1004 & 1025 & 2989 & 2972\\\\\n",
       "\\end{tabular}\n"
      ],
      "text/markdown": [
       "\n",
       "| SampleSize | X1 | X3 | X5 | Dice1 | Dice2 |\n",
       "|---|---|---|---|---|---|\n",
       "| 1000 | 157  |  144 |  145 |  483 |  476 |\n",
       "| 2000 | 376  |  316 |  314 |  984 | 1008 |\n",
       "| 3000 | 507  |  497 |  534 | 1509 | 1518 |\n",
       "| 4000 | 699  |  676 |  653 | 1973 | 2064 |\n",
       "| 5000 | 871  |  839 |  836 | 2522 | 2542 |\n",
       "| 6000 | 999  | 1004 | 1025 | 2989 | 2972 |\n",
       "\n"
      ],
      "text/plain": [
       "  SampleSize X1  X3   X5   Dice1 Dice2\n",
       "1 1000       157  144  145  483   476 \n",
       "2 2000       376  316  314  984  1008 \n",
       "3 3000       507  497  534 1509  1518 \n",
       "4 4000       699  676  653 1973  2064 \n",
       "5 5000       871  839  836 2522  2542 \n",
       "6 6000       999 1004 1025 2989  2972 "
      ]
     },
     "metadata": {},
     "output_type": "display_data"
    }
   ],
   "source": [
    "head(EventsProb)"
   ]
  },
  {
   "cell_type": "code",
   "execution_count": 467,
   "id": "314d52aa",
   "metadata": {},
   "outputs": [],
   "source": [
    "#EventsProb[EventsProb[,'Dice1']%%2 !=0 && EventsProb[,'Dice2']%%2 !=0]"
   ]
  },
  {
   "cell_type": "code",
   "execution_count": 468,
   "id": "b3178cdb",
   "metadata": {},
   "outputs": [],
   "source": [
    "columnNames = colnames(EventsProb)"
   ]
  },
  {
   "cell_type": "code",
   "execution_count": null,
   "id": "c3726cc8",
   "metadata": {},
   "outputs": [],
   "source": []
  },
  {
   "cell_type": "code",
   "execution_count": 469,
   "id": "a961b5a0",
   "metadata": {},
   "outputs": [
    {
     "name": "stdout",
     "output_type": "stream",
     "text": [
      "[1] \"1 is a odd number\"\n",
      "[1] \"2 is an even numbrer\"\n",
      "[1] \"3 is a odd number\"\n",
      "[1] \"4 is an even numbrer\"\n",
      "[1] \"5 is a odd number\"\n",
      "[1] \"6 is an even numbrer\"\n",
      "[1] \"7 is a odd number\"\n",
      "[1] \"8 is an even numbrer\"\n",
      "[1] \"9 is a odd number\"\n",
      "[1] \"10 is an even numbrer\"\n"
     ]
    }
   ],
   "source": [
    "for (i in 1:10){\n",
    "    \n",
    "    if (i%%2 == 0){\n",
    "        print(paste(i, \"is an even numbrer\"))\n",
    "    }\n",
    "    else{\n",
    "        print(paste(i, \"is a odd number\"))\n",
    "    }\n",
    "}"
   ]
  },
  {
   "cell_type": "code",
   "execution_count": 470,
   "id": "5d5edf7b",
   "metadata": {},
   "outputs": [],
   "source": [
    "EventsProb$TotalEvents = EventsProb$SampleSize*2"
   ]
  },
  {
   "cell_type": "code",
   "execution_count": 473,
   "id": "2cafc2cd",
   "metadata": {},
   "outputs": [],
   "source": [
    "colnames(EventsProb) = c(columnNames,'TotalEvents')"
   ]
  },
  {
   "cell_type": "code",
   "execution_count": 474,
   "id": "4f6c2a32",
   "metadata": {},
   "outputs": [
    {
     "data": {
      "text/html": [
       "<table>\n",
       "<thead><tr><th scope=col>SampleSize</th><th scope=col>X1</th><th scope=col>X3</th><th scope=col>X5</th><th scope=col>Dice1</th><th scope=col>Dice2</th><th scope=col>TotalEvents</th></tr></thead>\n",
       "<tbody>\n",
       "\t<tr><td>1000 </td><td>157  </td><td> 144 </td><td> 145 </td><td> 483 </td><td> 476 </td><td> 2000</td></tr>\n",
       "\t<tr><td>2000 </td><td>376  </td><td> 316 </td><td> 314 </td><td> 984 </td><td>1008 </td><td> 4000</td></tr>\n",
       "\t<tr><td>3000 </td><td>507  </td><td> 497 </td><td> 534 </td><td>1509 </td><td>1518 </td><td> 6000</td></tr>\n",
       "\t<tr><td>4000 </td><td>699  </td><td> 676 </td><td> 653 </td><td>1973 </td><td>2064 </td><td> 8000</td></tr>\n",
       "\t<tr><td>5000 </td><td>871  </td><td> 839 </td><td> 836 </td><td>2522 </td><td>2542 </td><td>10000</td></tr>\n",
       "\t<tr><td>6000 </td><td>999  </td><td>1004 </td><td>1025 </td><td>2989 </td><td>2972 </td><td>12000</td></tr>\n",
       "</tbody>\n",
       "</table>\n"
      ],
      "text/latex": [
       "\\begin{tabular}{r|lllllll}\n",
       " SampleSize & X1 & X3 & X5 & Dice1 & Dice2 & TotalEvents\\\\\n",
       "\\hline\n",
       "\t 1000  & 157   &  144  &  145  &  483  &  476  &  2000\\\\\n",
       "\t 2000  & 376   &  316  &  314  &  984  & 1008  &  4000\\\\\n",
       "\t 3000  & 507   &  497  &  534  & 1509  & 1518  &  6000\\\\\n",
       "\t 4000  & 699   &  676  &  653  & 1973  & 2064  &  8000\\\\\n",
       "\t 5000  & 871   &  839  &  836  & 2522  & 2542  & 10000\\\\\n",
       "\t 6000  & 999   & 1004  & 1025  & 2989  & 2972  & 12000\\\\\n",
       "\\end{tabular}\n"
      ],
      "text/markdown": [
       "\n",
       "| SampleSize | X1 | X3 | X5 | Dice1 | Dice2 | TotalEvents |\n",
       "|---|---|---|---|---|---|---|\n",
       "| 1000  | 157   |  144  |  145  |  483  |  476  |  2000 |\n",
       "| 2000  | 376   |  316  |  314  |  984  | 1008  |  4000 |\n",
       "| 3000  | 507   |  497  |  534  | 1509  | 1518  |  6000 |\n",
       "| 4000  | 699   |  676  |  653  | 1973  | 2064  |  8000 |\n",
       "| 5000  | 871   |  839  |  836  | 2522  | 2542  | 10000 |\n",
       "| 6000  | 999   | 1004  | 1025  | 2989  | 2972  | 12000 |\n",
       "\n"
      ],
      "text/plain": [
       "  SampleSize X1  X3   X5   Dice1 Dice2 TotalEvents\n",
       "1 1000       157  144  145  483   476   2000      \n",
       "2 2000       376  316  314  984  1008   4000      \n",
       "3 3000       507  497  534 1509  1518   6000      \n",
       "4 4000       699  676  653 1973  2064   8000      \n",
       "5 5000       871  839  836 2522  2542  10000      \n",
       "6 6000       999 1004 1025 2989  2972  12000      "
      ]
     },
     "metadata": {},
     "output_type": "display_data"
    }
   ],
   "source": [
    "head(EventsProb)"
   ]
  },
  {
   "cell_type": "code",
   "execution_count": 404,
   "id": "b1f3f3ad",
   "metadata": {},
   "outputs": [],
   "source": []
  },
  {
   "cell_type": "markdown",
   "id": "07855be7",
   "metadata": {},
   "source": [
    "**Getting the frequency of having odd events and event 'Dice1 x Dice2'.**"
   ]
  },
  {
   "cell_type": "code",
   "execution_count": 478,
   "id": "7fff077e",
   "metadata": {},
   "outputs": [
    {
     "data": {
      "text/html": [
       "<table>\n",
       "<thead><tr><th scope=col>SampleSize</th><th scope=col>OddEventFreq</th><th scope=col>TotalEvents</th><th scope=col>MulFreq</th></tr></thead>\n",
       "<tbody>\n",
       "\t<tr><td>1000     </td><td> 446     </td><td> 2000    </td><td>0.2299080</td></tr>\n",
       "\t<tr><td>2000     </td><td>1006     </td><td> 4000    </td><td>0.2479680</td></tr>\n",
       "\t<tr><td>3000     </td><td>1538     </td><td> 6000    </td><td>0.2545180</td></tr>\n",
       "\t<tr><td>4000     </td><td>2028     </td><td> 8000    </td><td>0.2545170</td></tr>\n",
       "\t<tr><td>5000     </td><td>2546     </td><td>10000    </td><td>0.2564370</td></tr>\n",
       "\t<tr><td>6000     </td><td>3028     </td><td>12000    </td><td>0.2467586</td></tr>\n",
       "</tbody>\n",
       "</table>\n"
      ],
      "text/latex": [
       "\\begin{tabular}{llll}\n",
       " SampleSize & OddEventFreq & TotalEvents & MulFreq\\\\\n",
       "\\hline\n",
       "\t 1000      &  446      &  2000     & 0.2299080\\\\\n",
       "\t 2000      & 1006      &  4000     & 0.2479680\\\\\n",
       "\t 3000      & 1538      &  6000     & 0.2545180\\\\\n",
       "\t 4000      & 2028      &  8000     & 0.2545170\\\\\n",
       "\t 5000      & 2546      & 10000     & 0.2564370\\\\\n",
       "\t 6000      & 3028      & 12000     & 0.2467586\\\\\n",
       "\\end{tabular}\n"
      ],
      "text/markdown": [
       "\n",
       "| SampleSize | OddEventFreq | TotalEvents | MulFreq |\n",
       "|---|---|---|---|\n",
       "| 1000      |  446      |  2000     | 0.2299080 |\n",
       "| 2000      | 1006      |  4000     | 0.2479680 |\n",
       "| 3000      | 1538      |  6000     | 0.2545180 |\n",
       "| 4000      | 2028      |  8000     | 0.2545170 |\n",
       "| 5000      | 2546      | 10000     | 0.2564370 |\n",
       "| 6000      | 3028      | 12000     | 0.2467586 |\n",
       "\n"
      ],
      "text/plain": [
       "     SampleSize OddEventFreq TotalEvents MulFreq  \n",
       "[1,] 1000        446          2000       0.2299080\n",
       "[2,] 2000       1006          4000       0.2479680\n",
       "[3,] 3000       1538          6000       0.2545180\n",
       "[4,] 4000       2028          8000       0.2545170\n",
       "[5,] 5000       2546         10000       0.2564370\n",
       "[6,] 6000       3028         12000       0.2467586"
      ]
     },
     "metadata": {},
     "output_type": "display_data"
    }
   ],
   "source": [
    "# adding all the odd number frequency and binding them with SampleSize and TotalEvents.\n",
    "OddEventsFreq = cbind(SampleSize = EventsProb$SampleSize, OddEventFreq = rowSums(EventsProb[,2:4]), \n",
    "                      TotalEvents=EventsProb$TotalEvents, \n",
    "                      MulFreq = (EventsProb$Dice1/EventsProb$SampleSize)*(EventsProb$Dice2/EventsProb$SampleSize))\n",
    "head(OddEventsFreq)"
   ]
  },
  {
   "cell_type": "markdown",
   "id": "41e0f185",
   "metadata": {},
   "source": [
    "**Getting the Relative Frequency for odd envents.**"
   ]
  },
  {
   "cell_type": "code",
   "execution_count": 480,
   "id": "00957a69",
   "metadata": {},
   "outputs": [
    {
     "data": {
      "text/html": [
       "<table>\n",
       "<thead><tr><th scope=col>SampleSize</th><th scope=col>OddEventFreq</th><th scope=col>TotalEvents</th><th scope=col>MulFreq</th></tr></thead>\n",
       "<tbody>\n",
       "\t<tr><td>1000     </td><td>0.2230000</td><td> 2000    </td><td>0.2299080</td></tr>\n",
       "\t<tr><td>2000     </td><td>0.2515000</td><td> 4000    </td><td>0.2479680</td></tr>\n",
       "\t<tr><td>3000     </td><td>0.2563333</td><td> 6000    </td><td>0.2545180</td></tr>\n",
       "\t<tr><td>4000     </td><td>0.2535000</td><td> 8000    </td><td>0.2545170</td></tr>\n",
       "\t<tr><td>5000     </td><td>0.2546000</td><td>10000    </td><td>0.2564370</td></tr>\n",
       "\t<tr><td>6000     </td><td>0.2523333</td><td>12000    </td><td>0.2467586</td></tr>\n",
       "</tbody>\n",
       "</table>\n"
      ],
      "text/latex": [
       "\\begin{tabular}{llll}\n",
       " SampleSize & OddEventFreq & TotalEvents & MulFreq\\\\\n",
       "\\hline\n",
       "\t 1000      & 0.2230000 &  2000     & 0.2299080\\\\\n",
       "\t 2000      & 0.2515000 &  4000     & 0.2479680\\\\\n",
       "\t 3000      & 0.2563333 &  6000     & 0.2545180\\\\\n",
       "\t 4000      & 0.2535000 &  8000     & 0.2545170\\\\\n",
       "\t 5000      & 0.2546000 & 10000     & 0.2564370\\\\\n",
       "\t 6000      & 0.2523333 & 12000     & 0.2467586\\\\\n",
       "\\end{tabular}\n"
      ],
      "text/markdown": [
       "\n",
       "| SampleSize | OddEventFreq | TotalEvents | MulFreq |\n",
       "|---|---|---|---|\n",
       "| 1000      | 0.2230000 |  2000     | 0.2299080 |\n",
       "| 2000      | 0.2515000 |  4000     | 0.2479680 |\n",
       "| 3000      | 0.2563333 |  6000     | 0.2545180 |\n",
       "| 4000      | 0.2535000 |  8000     | 0.2545170 |\n",
       "| 5000      | 0.2546000 | 10000     | 0.2564370 |\n",
       "| 6000      | 0.2523333 | 12000     | 0.2467586 |\n",
       "\n"
      ],
      "text/plain": [
       "     SampleSize OddEventFreq TotalEvents MulFreq  \n",
       "[1,] 1000       0.2230000     2000       0.2299080\n",
       "[2,] 2000       0.2515000     4000       0.2479680\n",
       "[3,] 3000       0.2563333     6000       0.2545180\n",
       "[4,] 4000       0.2535000     8000       0.2545170\n",
       "[5,] 5000       0.2546000    10000       0.2564370\n",
       "[6,] 6000       0.2523333    12000       0.2467586"
      ]
     },
     "metadata": {},
     "output_type": "display_data"
    }
   ],
   "source": [
    "# adding all the odd number frequency and binding them with SampleSize and TotalEvents.\n",
    "OddEventsRFreq = cbind(SampleSize = OddEventsFreq[,'SampleSize'], \n",
    "                      OddEventFreq = OddEventsFreq[,\"OddEventFreq\"]/OddEventsFreq[,'TotalEvents'], \n",
    "                      TotalEvents=OddEventsFreq[,'TotalEvents'], MulFreq = OddEventsFreq[,\"MulFreq\"])\n",
    "head(OddEventsRFreq)"
   ]
  },
  {
   "cell_type": "markdown",
   "id": "da48f9e7",
   "metadata": {},
   "source": [
    "**Getting Error in b/w Relative frequency of P(A and B) = P(A) x P(B)**"
   ]
  },
  {
   "cell_type": "code",
   "execution_count": 481,
   "id": "3d11b04d",
   "metadata": {},
   "outputs": [
    {
     "data": {
      "text/html": [
       "<table>\n",
       "<thead><tr><th scope=col>SampleSize</th><th scope=col>OddEventFreq</th><th scope=col>TotalEvents</th><th scope=col>MulFreq</th><th scope=col>Errors</th></tr></thead>\n",
       "<tbody>\n",
       "\t<tr><td>1000        </td><td>0.2230000   </td><td> 2000       </td><td>0.2299080   </td><td>-0.006908000</td></tr>\n",
       "\t<tr><td>2000        </td><td>0.2515000   </td><td> 4000       </td><td>0.2479680   </td><td> 0.003532000</td></tr>\n",
       "\t<tr><td>3000        </td><td>0.2563333   </td><td> 6000       </td><td>0.2545180   </td><td> 0.001815333</td></tr>\n",
       "\t<tr><td>4000        </td><td>0.2535000   </td><td> 8000       </td><td>0.2545170   </td><td>-0.001017000</td></tr>\n",
       "\t<tr><td>5000        </td><td>0.2546000   </td><td>10000       </td><td>0.2564370   </td><td>-0.001836960</td></tr>\n",
       "\t<tr><td>6000        </td><td>0.2523333   </td><td>12000       </td><td>0.2467586   </td><td> 0.005574778</td></tr>\n",
       "</tbody>\n",
       "</table>\n"
      ],
      "text/latex": [
       "\\begin{tabular}{lllll}\n",
       " SampleSize & OddEventFreq & TotalEvents & MulFreq & Errors\\\\\n",
       "\\hline\n",
       "\t 1000         & 0.2230000    &  2000        & 0.2299080    & -0.006908000\\\\\n",
       "\t 2000         & 0.2515000    &  4000        & 0.2479680    &  0.003532000\\\\\n",
       "\t 3000         & 0.2563333    &  6000        & 0.2545180    &  0.001815333\\\\\n",
       "\t 4000         & 0.2535000    &  8000        & 0.2545170    & -0.001017000\\\\\n",
       "\t 5000         & 0.2546000    & 10000        & 0.2564370    & -0.001836960\\\\\n",
       "\t 6000         & 0.2523333    & 12000        & 0.2467586    &  0.005574778\\\\\n",
       "\\end{tabular}\n"
      ],
      "text/markdown": [
       "\n",
       "| SampleSize | OddEventFreq | TotalEvents | MulFreq | Errors |\n",
       "|---|---|---|---|---|\n",
       "| 1000         | 0.2230000    |  2000        | 0.2299080    | -0.006908000 |\n",
       "| 2000         | 0.2515000    |  4000        | 0.2479680    |  0.003532000 |\n",
       "| 3000         | 0.2563333    |  6000        | 0.2545180    |  0.001815333 |\n",
       "| 4000         | 0.2535000    |  8000        | 0.2545170    | -0.001017000 |\n",
       "| 5000         | 0.2546000    | 10000        | 0.2564370    | -0.001836960 |\n",
       "| 6000         | 0.2523333    | 12000        | 0.2467586    |  0.005574778 |\n",
       "\n"
      ],
      "text/plain": [
       "     SampleSize OddEventFreq TotalEvents MulFreq   Errors      \n",
       "[1,] 1000       0.2230000     2000       0.2299080 -0.006908000\n",
       "[2,] 2000       0.2515000     4000       0.2479680  0.003532000\n",
       "[3,] 3000       0.2563333     6000       0.2545180  0.001815333\n",
       "[4,] 4000       0.2535000     8000       0.2545170 -0.001017000\n",
       "[5,] 5000       0.2546000    10000       0.2564370 -0.001836960\n",
       "[6,] 6000       0.2523333    12000       0.2467586  0.005574778"
      ]
     },
     "metadata": {},
     "output_type": "display_data"
    }
   ],
   "source": [
    "OddEventsRFreq = cbind(OddEventsRFreq, Errors = OddEventsRFreq[,\"OddEventFreq\"]-OddEventsRFreq[,'MulFreq'])\n",
    "head(OddEventsRFreq)"
   ]
  },
  {
   "cell_type": "markdown",
   "id": "ac98df50",
   "metadata": {},
   "source": [
    "**Making the chart b/w SampleSize and OddEvents relative frequency.**"
   ]
  },
  {
   "cell_type": "code",
   "execution_count": 489,
   "id": "f50e68bc",
   "metadata": {},
   "outputs": [
    {
     "data": {
      "image/png": "[encoded data removed]",
      "text/plain": [
       "plot without title"
      ]
     },
     "metadata": {},
     "output_type": "display_data"
    }
   ],
   "source": [
    "plot(OddEventsRFreq[,\"SampleSize\"], OddEventsRFreq[,\"OddEventFreq\"], type='l', col=3,\n",
    "    xlab='SampleSize', ylab=\"OddEventFreq\")\n",
    "abline(a=1,b=0,h=mean(OddEventsRFreq[,\"OddEventFreq\"]), lty=2, col=12)\n",
    "points(OddEventsRFreq[,\"SampleSize\"], OddEventsRFreq[,\"OddEventFreq\"], pch=16, col=2, cex=.5)"
   ]
  },
  {
   "cell_type": "markdown",
   "id": "13199bd2",
   "metadata": {},
   "source": [
    "**Plotting chart with Errors and SampleSize**"
   ]
  },
  {
   "cell_type": "code",
   "execution_count": 493,
   "id": "b20b5ac3",
   "metadata": {},
   "outputs": [
    {
     "data": {
      "image/png": "[encoded data removed]",
      "text/plain": [
       "plot without title"
      ]
     },
     "metadata": {},
     "output_type": "display_data"
    }
   ],
   "source": [
    "plot(OddEventsRFreq[,\"SampleSize\"], OddEventsRFreq[,\"Errors\"], type='l', col=3, ylim=c(-0.1,0.1),\n",
    "    xlab='SampleSize', ylab=\"Errors\")\n",
    "abline(a=1,b=0,h=0.00, lty=2, col=12)\n",
    "points(OddEventsRFreq[,\"SampleSize\"], OddEventsRFreq[,\"Errors\"], pch=16, col=2, cex=.5)"
   ]
  },
  {
   "cell_type": "code",
   "execution_count": 496,
   "id": "31af1aa3",
   "metadata": {},
   "outputs": [
    {
     "data": {
      "text/html": [
       "<table>\n",
       "<thead><tr><th scope=col>SampleSize</th><th scope=col>OddEventFreq</th><th scope=col>TotalEvents</th><th scope=col>MulFreq</th><th scope=col>Errors</th></tr></thead>\n",
       "<tbody>\n",
       "\t<tr><td> 1000        </td><td>0.2230000    </td><td>  2000       </td><td>0.2299080    </td><td>-0.0069080000</td></tr>\n",
       "\t<tr><td> 4000        </td><td>0.2535000    </td><td>  8000       </td><td>0.2545170    </td><td>-0.0010170000</td></tr>\n",
       "\t<tr><td> 5000        </td><td>0.2546000    </td><td> 10000       </td><td>0.2564370    </td><td>-0.0018369600</td></tr>\n",
       "\t<tr><td> 7000        </td><td>0.2521429    </td><td> 14000       </td><td>0.2548804    </td><td>-0.0027375510</td></tr>\n",
       "\t<tr><td> 8000        </td><td>0.2421250    </td><td> 16000       </td><td>0.2458864    </td><td>-0.0037613750</td></tr>\n",
       "\t<tr><td> 9000        </td><td>0.2378889    </td><td> 18000       </td><td>0.2406114    </td><td>-0.0027224815</td></tr>\n",
       "\t<tr><td>10000        </td><td>0.2462000    </td><td> 20000       </td><td>0.2462136    </td><td>-0.0000136300</td></tr>\n",
       "\t<tr><td>13000        </td><td>0.2496923    </td><td> 26000       </td><td>0.2493458    </td><td> 0.0003465089</td></tr>\n",
       "\t<tr><td>14000        </td><td>0.2493571    </td><td> 28000       </td><td>0.2531142    </td><td>-0.0037570714</td></tr>\n",
       "\t<tr><td>16000        </td><td>0.2445000    </td><td> 32000       </td><td>0.2463880    </td><td>-0.0018880430</td></tr>\n",
       "\t<tr><td>18000        </td><td>0.2464444    </td><td> 36000       </td><td>0.2488804    </td><td>-0.0024360000</td></tr>\n",
       "\t<tr><td>19000        </td><td>0.2521579    </td><td> 38000       </td><td>0.2517887    </td><td> 0.0003692188</td></tr>\n",
       "\t<tr><td>20000        </td><td>0.2541000    </td><td> 40000       </td><td>0.2531294    </td><td> 0.0009706400</td></tr>\n",
       "\t<tr><td>21000        </td><td>0.2476667    </td><td> 42000       </td><td>0.2491173    </td><td>-0.0014506122</td></tr>\n",
       "\t<tr><td>22000        </td><td>0.2507727    </td><td> 44000       </td><td>0.2524362    </td><td>-0.0016634421</td></tr>\n",
       "\t<tr><td>23000        </td><td>0.2497826    </td><td> 46000       </td><td>0.2503479    </td><td>-0.0005653365</td></tr>\n",
       "\t<tr><td>24000        </td><td>0.2497500    </td><td> 48000       </td><td>0.2509787    </td><td>-0.0012287153</td></tr>\n",
       "\t<tr><td>29000        </td><td>0.2467241    </td><td> 58000       </td><td>0.2470874    </td><td>-0.0003632319</td></tr>\n",
       "\t<tr><td>30000        </td><td>0.2499000    </td><td> 60000       </td><td>0.2508698    </td><td>-0.0009698000</td></tr>\n",
       "\t<tr><td>31000        </td><td>0.2493226    </td><td> 62000       </td><td>0.2501103    </td><td>-0.0007876816</td></tr>\n",
       "\t<tr><td>33000        </td><td>0.2505455    </td><td> 66000       </td><td>0.2511457    </td><td>-0.0006002755</td></tr>\n",
       "\t<tr><td>34000        </td><td>0.2452353    </td><td> 68000       </td><td>0.2481334    </td><td>-0.0028980709</td></tr>\n",
       "\t<tr><td>35000        </td><td>0.2491143    </td><td> 70000       </td><td>0.2484161    </td><td> 0.0006981486</td></tr>\n",
       "\t<tr><td>37000        </td><td>0.2491622    </td><td> 74000       </td><td>0.2504849    </td><td>-0.0013227348</td></tr>\n",
       "\t<tr><td>38000        </td><td>0.2490000    </td><td> 76000       </td><td>0.2491947    </td><td>-0.0001946676</td></tr>\n",
       "\t<tr><td>39000        </td><td>0.2510769    </td><td> 78000       </td><td>0.2508322    </td><td> 0.0002447074</td></tr>\n",
       "\t<tr><td>41000        </td><td>0.2514634    </td><td> 82000       </td><td>0.2504959    </td><td> 0.0009675479</td></tr>\n",
       "\t<tr><td>42000        </td><td>0.2486190    </td><td> 84000       </td><td>0.2517762    </td><td>-0.0031571111</td></tr>\n",
       "\t<tr><td>44000        </td><td>0.2502727    </td><td> 88000       </td><td>0.2512537    </td><td>-0.0009810217</td></tr>\n",
       "\t<tr><td>45000        </td><td>0.2506222    </td><td> 90000       </td><td>0.2520023    </td><td>-0.0013801165</td></tr>\n",
       "\t<tr><td>46000        </td><td>0.2471957    </td><td> 92000       </td><td>0.2466144    </td><td> 0.0005812741</td></tr>\n",
       "\t<tr><td>47000        </td><td>0.2461064    </td><td> 94000       </td><td>0.2464395    </td><td>-0.0003331661</td></tr>\n",
       "\t<tr><td>49000        </td><td>0.2499592    </td><td> 98000       </td><td>0.2511711    </td><td>-0.0012119434</td></tr>\n",
       "\t<tr><td>50000        </td><td>0.2505800    </td><td>100000       </td><td>0.2503200    </td><td> 0.0002599876</td></tr>\n",
       "</tbody>\n",
       "</table>\n"
      ],
      "text/latex": [
       "\\begin{tabular}{lllll}\n",
       " SampleSize & OddEventFreq & TotalEvents & MulFreq & Errors\\\\\n",
       "\\hline\n",
       "\t  1000         & 0.2230000     &   2000        & 0.2299080     & -0.0069080000\\\\\n",
       "\t  4000         & 0.2535000     &   8000        & 0.2545170     & -0.0010170000\\\\\n",
       "\t  5000         & 0.2546000     &  10000        & 0.2564370     & -0.0018369600\\\\\n",
       "\t  7000         & 0.2521429     &  14000        & 0.2548804     & -0.0027375510\\\\\n",
       "\t  8000         & 0.2421250     &  16000        & 0.2458864     & -0.0037613750\\\\\n",
       "\t  9000         & 0.2378889     &  18000        & 0.2406114     & -0.0027224815\\\\\n",
       "\t 10000         & 0.2462000     &  20000        & 0.2462136     & -0.0000136300\\\\\n",
       "\t 13000         & 0.2496923     &  26000        & 0.2493458     &  0.0003465089\\\\\n",
       "\t 14000         & 0.2493571     &  28000        & 0.2531142     & -0.0037570714\\\\\n",
       "\t 16000         & 0.2445000     &  32000        & 0.2463880     & -0.0018880430\\\\\n",
       "\t 18000         & 0.2464444     &  36000        & 0.2488804     & -0.0024360000\\\\\n",
       "\t 19000         & 0.2521579     &  38000        & 0.2517887     &  0.0003692188\\\\\n",
       "\t 20000         & 0.2541000     &  40000        & 0.2531294     &  0.0009706400\\\\\n",
       "\t 21000         & 0.2476667     &  42000        & 0.2491173     & -0.0014506122\\\\\n",
       "\t 22000         & 0.2507727     &  44000        & 0.2524362     & -0.0016634421\\\\\n",
       "\t 23000         & 0.2497826     &  46000        & 0.2503479     & -0.0005653365\\\\\n",
       "\t 24000         & 0.2497500     &  48000        & 0.2509787     & -0.0012287153\\\\\n",
       "\t 29000         & 0.2467241     &  58000        & 0.2470874     & -0.0003632319\\\\\n",
       "\t 30000         & 0.2499000     &  60000        & 0.2508698     & -0.0009698000\\\\\n",
       "\t 31000         & 0.2493226     &  62000        & 0.2501103     & -0.0007876816\\\\\n",
       "\t 33000         & 0.2505455     &  66000        & 0.2511457     & -0.0006002755\\\\\n",
       "\t 34000         & 0.2452353     &  68000        & 0.2481334     & -0.0028980709\\\\\n",
       "\t 35000         & 0.2491143     &  70000        & 0.2484161     &  0.0006981486\\\\\n",
       "\t 37000         & 0.2491622     &  74000        & 0.2504849     & -0.0013227348\\\\\n",
       "\t 38000         & 0.2490000     &  76000        & 0.2491947     & -0.0001946676\\\\\n",
       "\t 39000         & 0.2510769     &  78000        & 0.2508322     &  0.0002447074\\\\\n",
       "\t 41000         & 0.2514634     &  82000        & 0.2504959     &  0.0009675479\\\\\n",
       "\t 42000         & 0.2486190     &  84000        & 0.2517762     & -0.0031571111\\\\\n",
       "\t 44000         & 0.2502727     &  88000        & 0.2512537     & -0.0009810217\\\\\n",
       "\t 45000         & 0.2506222     &  90000        & 0.2520023     & -0.0013801165\\\\\n",
       "\t 46000         & 0.2471957     &  92000        & 0.2466144     &  0.0005812741\\\\\n",
       "\t 47000         & 0.2461064     &  94000        & 0.2464395     & -0.0003331661\\\\\n",
       "\t 49000         & 0.2499592     &  98000        & 0.2511711     & -0.0012119434\\\\\n",
       "\t 50000         & 0.2505800     & 100000        & 0.2503200     &  0.0002599876\\\\\n",
       "\\end{tabular}\n"
      ],
      "text/markdown": [
       "\n",
       "| SampleSize | OddEventFreq | TotalEvents | MulFreq | Errors |\n",
       "|---|---|---|---|---|\n",
       "|  1000         | 0.2230000     |   2000        | 0.2299080     | -0.0069080000 |\n",
       "|  4000         | 0.2535000     |   8000        | 0.2545170     | -0.0010170000 |\n",
       "|  5000         | 0.2546000     |  10000        | 0.2564370     | -0.0018369600 |\n",
       "|  7000         | 0.2521429     |  14000        | 0.2548804     | -0.0027375510 |\n",
       "|  8000         | 0.2421250     |  16000        | 0.2458864     | -0.0037613750 |\n",
       "|  9000         | 0.2378889     |  18000        | 0.2406114     | -0.0027224815 |\n",
       "| 10000         | 0.2462000     |  20000        | 0.2462136     | -0.0000136300 |\n",
       "| 13000         | 0.2496923     |  26000        | 0.2493458     |  0.0003465089 |\n",
       "| 14000         | 0.2493571     |  28000        | 0.2531142     | -0.0037570714 |\n",
       "| 16000         | 0.2445000     |  32000        | 0.2463880     | -0.0018880430 |\n",
       "| 18000         | 0.2464444     |  36000        | 0.2488804     | -0.0024360000 |\n",
       "| 19000         | 0.2521579     |  38000        | 0.2517887     |  0.0003692188 |\n",
       "| 20000         | 0.2541000     |  40000        | 0.2531294     |  0.0009706400 |\n",
       "| 21000         | 0.2476667     |  42000        | 0.2491173     | -0.0014506122 |\n",
       "| 22000         | 0.2507727     |  44000        | 0.2524362     | -0.0016634421 |\n",
       "| 23000         | 0.2497826     |  46000        | 0.2503479     | -0.0005653365 |\n",
       "| 24000         | 0.2497500     |  48000        | 0.2509787     | -0.0012287153 |\n",
       "| 29000         | 0.2467241     |  58000        | 0.2470874     | -0.0003632319 |\n",
       "| 30000         | 0.2499000     |  60000        | 0.2508698     | -0.0009698000 |\n",
       "| 31000         | 0.2493226     |  62000        | 0.2501103     | -0.0007876816 |\n",
       "| 33000         | 0.2505455     |  66000        | 0.2511457     | -0.0006002755 |\n",
       "| 34000         | 0.2452353     |  68000        | 0.2481334     | -0.0028980709 |\n",
       "| 35000         | 0.2491143     |  70000        | 0.2484161     |  0.0006981486 |\n",
       "| 37000         | 0.2491622     |  74000        | 0.2504849     | -0.0013227348 |\n",
       "| 38000         | 0.2490000     |  76000        | 0.2491947     | -0.0001946676 |\n",
       "| 39000         | 0.2510769     |  78000        | 0.2508322     |  0.0002447074 |\n",
       "| 41000         | 0.2514634     |  82000        | 0.2504959     |  0.0009675479 |\n",
       "| 42000         | 0.2486190     |  84000        | 0.2517762     | -0.0031571111 |\n",
       "| 44000         | 0.2502727     |  88000        | 0.2512537     | -0.0009810217 |\n",
       "| 45000         | 0.2506222     |  90000        | 0.2520023     | -0.0013801165 |\n",
       "| 46000         | 0.2471957     |  92000        | 0.2466144     |  0.0005812741 |\n",
       "| 47000         | 0.2461064     |  94000        | 0.2464395     | -0.0003331661 |\n",
       "| 49000         | 0.2499592     |  98000        | 0.2511711     | -0.0012119434 |\n",
       "| 50000         | 0.2505800     | 100000        | 0.2503200     |  0.0002599876 |\n",
       "\n"
      ],
      "text/plain": [
       "      SampleSize OddEventFreq TotalEvents MulFreq   Errors       \n",
       " [1,]  1000      0.2230000      2000      0.2299080 -0.0069080000\n",
       " [2,]  4000      0.2535000      8000      0.2545170 -0.0010170000\n",
       " [3,]  5000      0.2546000     10000      0.2564370 -0.0018369600\n",
       " [4,]  7000      0.2521429     14000      0.2548804 -0.0027375510\n",
       " [5,]  8000      0.2421250     16000      0.2458864 -0.0037613750\n",
       " [6,]  9000      0.2378889     18000      0.2406114 -0.0027224815\n",
       " [7,] 10000      0.2462000     20000      0.2462136 -0.0000136300\n",
       " [8,] 13000      0.2496923     26000      0.2493458  0.0003465089\n",
       " [9,] 14000      0.2493571     28000      0.2531142 -0.0037570714\n",
       "[10,] 16000      0.2445000     32000      0.2463880 -0.0018880430\n",
       "[11,] 18000      0.2464444     36000      0.2488804 -0.0024360000\n",
       "[12,] 19000      0.2521579     38000      0.2517887  0.0003692188\n",
       "[13,] 20000      0.2541000     40000      0.2531294  0.0009706400\n",
       "[14,] 21000      0.2476667     42000      0.2491173 -0.0014506122\n",
       "[15,] 22000      0.2507727     44000      0.2524362 -0.0016634421\n",
       "[16,] 23000      0.2497826     46000      0.2503479 -0.0005653365\n",
       "[17,] 24000      0.2497500     48000      0.2509787 -0.0012287153\n",
       "[18,] 29000      0.2467241     58000      0.2470874 -0.0003632319\n",
       "[19,] 30000      0.2499000     60000      0.2508698 -0.0009698000\n",
       "[20,] 31000      0.2493226     62000      0.2501103 -0.0007876816\n",
       "[21,] 33000      0.2505455     66000      0.2511457 -0.0006002755\n",
       "[22,] 34000      0.2452353     68000      0.2481334 -0.0028980709\n",
       "[23,] 35000      0.2491143     70000      0.2484161  0.0006981486\n",
       "[24,] 37000      0.2491622     74000      0.2504849 -0.0013227348\n",
       "[25,] 38000      0.2490000     76000      0.2491947 -0.0001946676\n",
       "[26,] 39000      0.2510769     78000      0.2508322  0.0002447074\n",
       "[27,] 41000      0.2514634     82000      0.2504959  0.0009675479\n",
       "[28,] 42000      0.2486190     84000      0.2517762 -0.0031571111\n",
       "[29,] 44000      0.2502727     88000      0.2512537 -0.0009810217\n",
       "[30,] 45000      0.2506222     90000      0.2520023 -0.0013801165\n",
       "[31,] 46000      0.2471957     92000      0.2466144  0.0005812741\n",
       "[32,] 47000      0.2461064     94000      0.2464395 -0.0003331661\n",
       "[33,] 49000      0.2499592     98000      0.2511711 -0.0012119434\n",
       "[34,] 50000      0.2505800    100000      0.2503200  0.0002599876"
      ]
     },
     "metadata": {},
     "output_type": "display_data"
    }
   ],
   "source": [
    "OddEventsRFreq[OddEventsRFreq[,\"Errors\"]<=0.001,]"
   ]
  },
  {
   "cell_type": "markdown",
   "id": "2f24318c-e4e8-4c00-9ded-caa9cbcb96f1",
   "metadata": {},
   "source": [
    "## Conditional probability"
   ]
  },
  {
   "cell_type": "markdown",
   "id": "1c1746c6-f89f-4ceb-8dcd-b976dc03fb9d",
   "metadata": {},
   "source": [
    "**Task: Suppose that a child has a toy train that requires six 'C' battries to run. The child has acccidentally mixed four good batteries with two bad batteries. if we were to randomly select two of the six batteries without replacement, the ood of getting a bad battery are conditionally determined.**\n",
    "\n",
    "* Let's assume that the first barttery chosen is bas (Event A)  and the second battery chosen is good (Event B). The two selection fo the two batteries are dependent events.\n",
    "\n",
    "* The probability of event B has two differnt values depending upon whether  or not event  A occures. \n",
    "* If event A occurs, then there are four good batteries among the remaining five batteries, and the probability of event B is 4/5. \n",
    "* if a battery is chosen and event A does not occur, then there are only three good batteries remaining among the five batteries, and the probability fo B is 3/5.\n",
    "* Conditional probabilities are related to joint probabilities and marginal probabilities. This relationship can be illustrated by follwing example:\n",
    "    * Consider a sample space that contains all pairs of batteries selected from the six batteries without replacement. "
   ]
  },
  {
   "cell_type": "markdown",
   "id": "9b05636e-6ad6-4090-bb22-18a58aef3d8f",
   "metadata": {},
   "source": [
    "Now here we will make a sample space of choosing 'Good' and 'Dead' batteries by using the matirx. we can do this thing by using the rbind method inside the for loop but we will see the simple approach."
   ]
  },
  {
   "cell_type": "code",
   "execution_count": 125,
   "id": "33973c81-3050-4edf-8158-0c5a3847841a",
   "metadata": {},
   "outputs": [],
   "source": [
    "# creating the chooice sample.\n",
    "choice1 = matrix(c(1:6), nrow=6, ncol=6)\n",
    "choice2 = t( matrix(c(1:6), nrow=6, ncol=6))"
   ]
  },
  {
   "cell_type": "markdown",
   "id": "aef5469e-7095-44d4-a216-71507d1e5a48",
   "metadata": {},
   "source": []
  },
  {
   "cell_type": "code",
   "execution_count": 126,
   "id": "6d68867a-0b59-45a1-9a51-3fd9eb03e31d",
   "metadata": {},
   "outputs": [
    {
     "data": {
      "text/html": [
       "<table>\n",
       "<tbody>\n",
       "\t<tr><td>1</td><td>1</td><td>1</td><td>1</td><td>1</td><td>1</td></tr>\n",
       "\t<tr><td>2</td><td>2</td><td>2</td><td>2</td><td>2</td><td>2</td></tr>\n",
       "\t<tr><td>3</td><td>3</td><td>3</td><td>3</td><td>3</td><td>3</td></tr>\n",
       "\t<tr><td>4</td><td>4</td><td>4</td><td>4</td><td>4</td><td>4</td></tr>\n",
       "\t<tr><td>5</td><td>5</td><td>5</td><td>5</td><td>5</td><td>5</td></tr>\n",
       "\t<tr><td>6</td><td>6</td><td>6</td><td>6</td><td>6</td><td>6</td></tr>\n",
       "</tbody>\n",
       "</table>\n"
      ],
      "text/latex": [
       "\\begin{tabular}{llllll}\n",
       "\t 1 & 1 & 1 & 1 & 1 & 1\\\\\n",
       "\t 2 & 2 & 2 & 2 & 2 & 2\\\\\n",
       "\t 3 & 3 & 3 & 3 & 3 & 3\\\\\n",
       "\t 4 & 4 & 4 & 4 & 4 & 4\\\\\n",
       "\t 5 & 5 & 5 & 5 & 5 & 5\\\\\n",
       "\t 6 & 6 & 6 & 6 & 6 & 6\\\\\n",
       "\\end{tabular}\n"
      ],
      "text/markdown": [
       "\n",
       "| 1 | 1 | 1 | 1 | 1 | 1 |\n",
       "| 2 | 2 | 2 | 2 | 2 | 2 |\n",
       "| 3 | 3 | 3 | 3 | 3 | 3 |\n",
       "| 4 | 4 | 4 | 4 | 4 | 4 |\n",
       "| 5 | 5 | 5 | 5 | 5 | 5 |\n",
       "| 6 | 6 | 6 | 6 | 6 | 6 |\n",
       "\n"
      ],
      "text/plain": [
       "     [,1] [,2] [,3] [,4] [,5] [,6]\n",
       "[1,] 1    1    1    1    1    1   \n",
       "[2,] 2    2    2    2    2    2   \n",
       "[3,] 3    3    3    3    3    3   \n",
       "[4,] 4    4    4    4    4    4   \n",
       "[5,] 5    5    5    5    5    5   \n",
       "[6,] 6    6    6    6    6    6   "
      ]
     },
     "metadata": {},
     "output_type": "display_data"
    }
   ],
   "source": [
    "choice1"
   ]
  },
  {
   "cell_type": "code",
   "execution_count": 127,
   "id": "6c68a586-cb76-4ae3-badf-21fe5c60ba7c",
   "metadata": {},
   "outputs": [
    {
     "data": {
      "text/html": [
       "<table>\n",
       "<tbody>\n",
       "\t<tr><td>1</td><td>2</td><td>3</td><td>4</td><td>5</td><td>6</td></tr>\n",
       "\t<tr><td>1</td><td>2</td><td>3</td><td>4</td><td>5</td><td>6</td></tr>\n",
       "\t<tr><td>1</td><td>2</td><td>3</td><td>4</td><td>5</td><td>6</td></tr>\n",
       "\t<tr><td>1</td><td>2</td><td>3</td><td>4</td><td>5</td><td>6</td></tr>\n",
       "\t<tr><td>1</td><td>2</td><td>3</td><td>4</td><td>5</td><td>6</td></tr>\n",
       "\t<tr><td>1</td><td>2</td><td>3</td><td>4</td><td>5</td><td>6</td></tr>\n",
       "</tbody>\n",
       "</table>\n"
      ],
      "text/latex": [
       "\\begin{tabular}{llllll}\n",
       "\t 1 & 2 & 3 & 4 & 5 & 6\\\\\n",
       "\t 1 & 2 & 3 & 4 & 5 & 6\\\\\n",
       "\t 1 & 2 & 3 & 4 & 5 & 6\\\\\n",
       "\t 1 & 2 & 3 & 4 & 5 & 6\\\\\n",
       "\t 1 & 2 & 3 & 4 & 5 & 6\\\\\n",
       "\t 1 & 2 & 3 & 4 & 5 & 6\\\\\n",
       "\\end{tabular}\n"
      ],
      "text/markdown": [
       "\n",
       "| 1 | 2 | 3 | 4 | 5 | 6 |\n",
       "| 1 | 2 | 3 | 4 | 5 | 6 |\n",
       "| 1 | 2 | 3 | 4 | 5 | 6 |\n",
       "| 1 | 2 | 3 | 4 | 5 | 6 |\n",
       "| 1 | 2 | 3 | 4 | 5 | 6 |\n",
       "| 1 | 2 | 3 | 4 | 5 | 6 |\n",
       "\n"
      ],
      "text/plain": [
       "     [,1] [,2] [,3] [,4] [,5] [,6]\n",
       "[1,] 1    2    3    4    5    6   \n",
       "[2,] 1    2    3    4    5    6   \n",
       "[3,] 1    2    3    4    5    6   \n",
       "[4,] 1    2    3    4    5    6   \n",
       "[5,] 1    2    3    4    5    6   \n",
       "[6,] 1    2    3    4    5    6   "
      ]
     },
     "metadata": {},
     "output_type": "display_data"
    }
   ],
   "source": [
    "choice2"
   ]
  },
  {
   "cell_type": "code",
   "execution_count": 128,
   "id": "60dd24ba-ae95-49dc-a665-22c95e684a22",
   "metadata": {},
   "outputs": [
    {
     "data": {
      "text/html": [
       "<table>\n",
       "<tbody>\n",
       "\t<tr><td>1</td><td>1</td><td>1</td><td>1</td><td>1</td><td>1</td></tr>\n",
       "\t<tr><td>1</td><td>1</td><td>1</td><td>1</td><td>1</td><td>1</td></tr>\n",
       "\t<tr><td>1</td><td>1</td><td>1</td><td>1</td><td>1</td><td>1</td></tr>\n",
       "\t<tr><td>1</td><td>1</td><td>1</td><td>1</td><td>1</td><td>1</td></tr>\n",
       "\t<tr><td>1</td><td>1</td><td>1</td><td>1</td><td>1</td><td>1</td></tr>\n",
       "\t<tr><td>1</td><td>1</td><td>1</td><td>1</td><td>1</td><td>1</td></tr>\n",
       "</tbody>\n",
       "</table>\n"
      ],
      "text/latex": [
       "\\begin{tabular}{llllll}\n",
       "\t 1 & 1 & 1 & 1 & 1 & 1\\\\\n",
       "\t 1 & 1 & 1 & 1 & 1 & 1\\\\\n",
       "\t 1 & 1 & 1 & 1 & 1 & 1\\\\\n",
       "\t 1 & 1 & 1 & 1 & 1 & 1\\\\\n",
       "\t 1 & 1 & 1 & 1 & 1 & 1\\\\\n",
       "\t 1 & 1 & 1 & 1 & 1 & 1\\\\\n",
       "\\end{tabular}\n"
      ],
      "text/markdown": [
       "\n",
       "| 1 | 1 | 1 | 1 | 1 | 1 |\n",
       "| 1 | 1 | 1 | 1 | 1 | 1 |\n",
       "| 1 | 1 | 1 | 1 | 1 | 1 |\n",
       "| 1 | 1 | 1 | 1 | 1 | 1 |\n",
       "| 1 | 1 | 1 | 1 | 1 | 1 |\n",
       "| 1 | 1 | 1 | 1 | 1 | 1 |\n",
       "\n"
      ],
      "text/plain": [
       "     [,1] [,2] [,3] [,4] [,5] [,6]\n",
       "[1,] 1    1    1    1    1    1   \n",
       "[2,] 1    1    1    1    1    1   \n",
       "[3,] 1    1    1    1    1    1   \n",
       "[4,] 1    1    1    1    1    1   \n",
       "[5,] 1    1    1    1    1    1   \n",
       "[6,] 1    1    1    1    1    1   "
      ]
     },
     "metadata": {},
     "output_type": "display_data"
    }
   ],
   "source": [
    "events = matrix(c(1,1,1,1,1,1), nrow=6, ncol=6)\n",
    "events"
   ]
  },
  {
   "cell_type": "code",
   "execution_count": 129,
   "id": "5a5c26a3-0c34-48a9-84fb-39d8fe861bb9",
   "metadata": {},
   "outputs": [],
   "source": [
    "colnames(events)  = c(\"DEAD1\", \"DEAD2\", \"GOOD1\", \"GOOD2\", \"GOOD3\", \"GOOD4\")\n",
    "rownames(events) = c(\"DEAD1\", \"DEAD2\", \"GOOD1\", \"GOOD2\", \"GOOD3\", \"GOOD4\")"
   ]
  },
  {
   "cell_type": "code",
   "execution_count": 130,
   "id": "72e8eecc-0f58-4a75-a5bb-3eaa64d2f39b",
   "metadata": {},
   "outputs": [],
   "source": [
    "# Now we will encode our in which we will choose a battery without replacement\n",
    "for (i in 1:6){\n",
    "    \n",
    "    for (j in 1:6){\n",
    "        \n",
    "        if (choice1[i,j] == choice2[i,j]){\n",
    "            events[i,j]=0\n",
    "        }\n",
    "    }\n",
    "}"
   ]
  },
  {
   "cell_type": "code",
   "execution_count": 131,
   "id": "919747ea-8273-4f21-b300-413bf5d02ea0",
   "metadata": {},
   "outputs": [
    {
     "data": {
      "text/html": [
       "<table>\n",
       "<thead><tr><th></th><th scope=col>DEAD1</th><th scope=col>DEAD2</th><th scope=col>GOOD1</th><th scope=col>GOOD2</th><th scope=col>GOOD3</th><th scope=col>GOOD4</th></tr></thead>\n",
       "<tbody>\n",
       "\t<tr><th scope=row>DEAD1</th><td>0</td><td>1</td><td>1</td><td>1</td><td>1</td><td>1</td></tr>\n",
       "\t<tr><th scope=row>DEAD2</th><td>1</td><td>0</td><td>1</td><td>1</td><td>1</td><td>1</td></tr>\n",
       "\t<tr><th scope=row>GOOD1</th><td>1</td><td>1</td><td>0</td><td>1</td><td>1</td><td>1</td></tr>\n",
       "\t<tr><th scope=row>GOOD2</th><td>1</td><td>1</td><td>1</td><td>0</td><td>1</td><td>1</td></tr>\n",
       "\t<tr><th scope=row>GOOD3</th><td>1</td><td>1</td><td>1</td><td>1</td><td>0</td><td>1</td></tr>\n",
       "\t<tr><th scope=row>GOOD4</th><td>1</td><td>1</td><td>1</td><td>1</td><td>1</td><td>0</td></tr>\n",
       "</tbody>\n",
       "</table>\n"
      ],
      "text/latex": [
       "\\begin{tabular}{r|llllll}\n",
       "  & DEAD1 & DEAD2 & GOOD1 & GOOD2 & GOOD3 & GOOD4\\\\\n",
       "\\hline\n",
       "\tDEAD1 & 0 & 1 & 1 & 1 & 1 & 1\\\\\n",
       "\tDEAD2 & 1 & 0 & 1 & 1 & 1 & 1\\\\\n",
       "\tGOOD1 & 1 & 1 & 0 & 1 & 1 & 1\\\\\n",
       "\tGOOD2 & 1 & 1 & 1 & 0 & 1 & 1\\\\\n",
       "\tGOOD3 & 1 & 1 & 1 & 1 & 0 & 1\\\\\n",
       "\tGOOD4 & 1 & 1 & 1 & 1 & 1 & 0\\\\\n",
       "\\end{tabular}\n"
      ],
      "text/markdown": [
       "\n",
       "| <!--/--> | DEAD1 | DEAD2 | GOOD1 | GOOD2 | GOOD3 | GOOD4 |\n",
       "|---|---|---|---|---|---|---|\n",
       "| DEAD1 | 0 | 1 | 1 | 1 | 1 | 1 |\n",
       "| DEAD2 | 1 | 0 | 1 | 1 | 1 | 1 |\n",
       "| GOOD1 | 1 | 1 | 0 | 1 | 1 | 1 |\n",
       "| GOOD2 | 1 | 1 | 1 | 0 | 1 | 1 |\n",
       "| GOOD3 | 1 | 1 | 1 | 1 | 0 | 1 |\n",
       "| GOOD4 | 1 | 1 | 1 | 1 | 1 | 0 |\n",
       "\n"
      ],
      "text/plain": [
       "      DEAD1 DEAD2 GOOD1 GOOD2 GOOD3 GOOD4\n",
       "DEAD1 0     1     1     1     1     1    \n",
       "DEAD2 1     0     1     1     1     1    \n",
       "GOOD1 1     1     0     1     1     1    \n",
       "GOOD2 1     1     1     0     1     1    \n",
       "GOOD3 1     1     1     1     0     1    \n",
       "GOOD4 1     1     1     1     1     0    "
      ]
     },
     "metadata": {},
     "output_type": "display_data"
    }
   ],
   "source": [
    "events"
   ]
  },
  {
   "cell_type": "markdown",
   "id": "62bf42c9-3b9c-479d-ad36-0403bd6cde74",
   "metadata": {},
   "source": [
    "Note: Not the in above matrix diagonal having 0 values because we are selecting items without replacement. if we have selected 'DEAD1' in first choice then we can choose 'DEAD1' again in second choice."
   ]
  },
  {
   "cell_type": "markdown",
   "id": "e483e5f2-e73a-472d-9d46-7d80ced46aa4",
   "metadata": {},
   "source": [
    "* **Columns heading shows the first choice with second choice.**\n",
    "* **Rows heading shows the second choice with first choice.** "
   ]
  },
  {
   "cell_type": "markdown",
   "id": "118d2235-5e29-4ee5-8740-421a971ea651",
   "metadata": {},
   "source": [
    "Now we need to caculate the marginal probability for first and second choice by checking that first choice is 'DEAD' or 'GOOD'."
   ]
  },
  {
   "cell_type": "code",
   "execution_count": 132,
   "id": "2682a2fe-a696-4fba-902d-2b6690df3d11",
   "metadata": {},
   "outputs": [],
   "source": [
    "events = data.frame(events)"
   ]
  },
  {
   "cell_type": "code",
   "execution_count": 133,
   "id": "8f1fd519-ea19-4df6-b869-6cd30f77065d",
   "metadata": {},
   "outputs": [
    {
     "data": {
      "text/html": [
       "<table>\n",
       "<thead><tr><th></th><th scope=col>DEAD1</th><th scope=col>DEAD2</th><th scope=col>GOOD1</th><th scope=col>GOOD2</th><th scope=col>GOOD3</th><th scope=col>GOOD4</th></tr></thead>\n",
       "<tbody>\n",
       "\t<tr><th scope=row>DEAD1</th><td>0</td><td>1</td><td>1</td><td>1</td><td>1</td><td>1</td></tr>\n",
       "\t<tr><th scope=row>DEAD2</th><td>1</td><td>0</td><td>1</td><td>1</td><td>1</td><td>1</td></tr>\n",
       "\t<tr><th scope=row>GOOD1</th><td>1</td><td>1</td><td>0</td><td>1</td><td>1</td><td>1</td></tr>\n",
       "\t<tr><th scope=row>GOOD2</th><td>1</td><td>1</td><td>1</td><td>0</td><td>1</td><td>1</td></tr>\n",
       "\t<tr><th scope=row>GOOD3</th><td>1</td><td>1</td><td>1</td><td>1</td><td>0</td><td>1</td></tr>\n",
       "\t<tr><th scope=row>GOOD4</th><td>1</td><td>1</td><td>1</td><td>1</td><td>1</td><td>0</td></tr>\n",
       "</tbody>\n",
       "</table>\n"
      ],
      "text/latex": [
       "\\begin{tabular}{r|llllll}\n",
       "  & DEAD1 & DEAD2 & GOOD1 & GOOD2 & GOOD3 & GOOD4\\\\\n",
       "\\hline\n",
       "\tDEAD1 & 0 & 1 & 1 & 1 & 1 & 1\\\\\n",
       "\tDEAD2 & 1 & 0 & 1 & 1 & 1 & 1\\\\\n",
       "\tGOOD1 & 1 & 1 & 0 & 1 & 1 & 1\\\\\n",
       "\tGOOD2 & 1 & 1 & 1 & 0 & 1 & 1\\\\\n",
       "\tGOOD3 & 1 & 1 & 1 & 1 & 0 & 1\\\\\n",
       "\tGOOD4 & 1 & 1 & 1 & 1 & 1 & 0\\\\\n",
       "\\end{tabular}\n"
      ],
      "text/markdown": [
       "\n",
       "| <!--/--> | DEAD1 | DEAD2 | GOOD1 | GOOD2 | GOOD3 | GOOD4 |\n",
       "|---|---|---|---|---|---|---|\n",
       "| DEAD1 | 0 | 1 | 1 | 1 | 1 | 1 |\n",
       "| DEAD2 | 1 | 0 | 1 | 1 | 1 | 1 |\n",
       "| GOOD1 | 1 | 1 | 0 | 1 | 1 | 1 |\n",
       "| GOOD2 | 1 | 1 | 1 | 0 | 1 | 1 |\n",
       "| GOOD3 | 1 | 1 | 1 | 1 | 0 | 1 |\n",
       "| GOOD4 | 1 | 1 | 1 | 1 | 1 | 0 |\n",
       "\n"
      ],
      "text/plain": [
       "      DEAD1 DEAD2 GOOD1 GOOD2 GOOD3 GOOD4\n",
       "DEAD1 0     1     1     1     1     1    \n",
       "DEAD2 1     0     1     1     1     1    \n",
       "GOOD1 1     1     0     1     1     1    \n",
       "GOOD2 1     1     1     0     1     1    \n",
       "GOOD3 1     1     1     1     0     1    \n",
       "GOOD4 1     1     1     1     1     0    "
      ]
     },
     "metadata": {},
     "output_type": "display_data"
    }
   ],
   "source": [
    "events"
   ]
  },
  {
   "cell_type": "code",
   "execution_count": 134,
   "id": "fca4753d-5261-42df-99b5-4609c1810aa8",
   "metadata": {},
   "outputs": [],
   "source": [
    "FirstDead = rowSums(events[,c(1,2)])"
   ]
  },
  {
   "cell_type": "code",
   "execution_count": 135,
   "id": "7cb283dd-82b9-4456-8f4a-6e0c60422d08",
   "metadata": {},
   "outputs": [
    {
     "data": {
      "text/html": [
       "<dl class=dl-horizontal>\n",
       "\t<dt>DEAD1</dt>\n",
       "\t\t<dd>1</dd>\n",
       "\t<dt>DEAD2</dt>\n",
       "\t\t<dd>1</dd>\n",
       "\t<dt>GOOD1</dt>\n",
       "\t\t<dd>2</dd>\n",
       "\t<dt>GOOD2</dt>\n",
       "\t\t<dd>2</dd>\n",
       "\t<dt>GOOD3</dt>\n",
       "\t\t<dd>2</dd>\n",
       "\t<dt>GOOD4</dt>\n",
       "\t\t<dd>2</dd>\n",
       "</dl>\n"
      ],
      "text/latex": [
       "\\begin{description*}\n",
       "\\item[DEAD1] 1\n",
       "\\item[DEAD2] 1\n",
       "\\item[GOOD1] 2\n",
       "\\item[GOOD2] 2\n",
       "\\item[GOOD3] 2\n",
       "\\item[GOOD4] 2\n",
       "\\end{description*}\n"
      ],
      "text/markdown": [
       "DEAD1\n",
       ":   1DEAD2\n",
       ":   1GOOD1\n",
       ":   2GOOD2\n",
       ":   2GOOD3\n",
       ":   2GOOD4\n",
       ":   2\n",
       "\n"
      ],
      "text/plain": [
       "DEAD1 DEAD2 GOOD1 GOOD2 GOOD3 GOOD4 \n",
       "    1     1     2     2     2     2 "
      ]
     },
     "metadata": {},
     "output_type": "display_data"
    }
   ],
   "source": [
    "FirstDead"
   ]
  },
  {
   "cell_type": "code",
   "execution_count": 136,
   "id": "2ce352df-c6f0-4de7-8974-7cc076537259",
   "metadata": {},
   "outputs": [],
   "source": [
    "FirstGood = rowSums(events[,c(3:6)])"
   ]
  },
  {
   "cell_type": "code",
   "execution_count": 137,
   "id": "bbfbc9de-6ffe-4756-b895-deecec41b5a4",
   "metadata": {},
   "outputs": [
    {
     "data": {
      "text/html": [
       "<dl class=dl-horizontal>\n",
       "\t<dt>DEAD1</dt>\n",
       "\t\t<dd>4</dd>\n",
       "\t<dt>DEAD2</dt>\n",
       "\t\t<dd>4</dd>\n",
       "\t<dt>GOOD1</dt>\n",
       "\t\t<dd>3</dd>\n",
       "\t<dt>GOOD2</dt>\n",
       "\t\t<dd>3</dd>\n",
       "\t<dt>GOOD3</dt>\n",
       "\t\t<dd>3</dd>\n",
       "\t<dt>GOOD4</dt>\n",
       "\t\t<dd>3</dd>\n",
       "</dl>\n"
      ],
      "text/latex": [
       "\\begin{description*}\n",
       "\\item[DEAD1] 4\n",
       "\\item[DEAD2] 4\n",
       "\\item[GOOD1] 3\n",
       "\\item[GOOD2] 3\n",
       "\\item[GOOD3] 3\n",
       "\\item[GOOD4] 3\n",
       "\\end{description*}\n"
      ],
      "text/markdown": [
       "DEAD1\n",
       ":   4DEAD2\n",
       ":   4GOOD1\n",
       ":   3GOOD2\n",
       ":   3GOOD3\n",
       ":   3GOOD4\n",
       ":   3\n",
       "\n"
      ],
      "text/plain": [
       "DEAD1 DEAD2 GOOD1 GOOD2 GOOD3 GOOD4 \n",
       "    4     4     3     3     3     3 "
      ]
     },
     "metadata": {},
     "output_type": "display_data"
    }
   ],
   "source": [
    "FirstGood"
   ]
  },
  {
   "cell_type": "code",
   "execution_count": 138,
   "id": "e0ecdfc1-bb0a-4817-a65e-f48ac3e0056f",
   "metadata": {},
   "outputs": [],
   "source": [
    "events = cbind(FirstDead, FirstGood)"
   ]
  },
  {
   "cell_type": "code",
   "execution_count": 139,
   "id": "a4a5089d-c800-4638-acce-0d1df32f5e4c",
   "metadata": {},
   "outputs": [
    {
     "data": {
      "text/html": [
       "<dl class=dl-horizontal>\n",
       "\t<dt>FirstDead</dt>\n",
       "\t\t<dd>2</dd>\n",
       "\t<dt>FirstGood</dt>\n",
       "\t\t<dd>8</dd>\n",
       "</dl>\n"
      ],
      "text/latex": [
       "\\begin{description*}\n",
       "\\item[FirstDead] 2\n",
       "\\item[FirstGood] 8\n",
       "\\end{description*}\n"
      ],
      "text/markdown": [
       "FirstDead\n",
       ":   2FirstGood\n",
       ":   8\n",
       "\n"
      ],
      "text/plain": [
       "FirstDead FirstGood \n",
       "        2         8 "
      ]
     },
     "metadata": {},
     "output_type": "display_data"
    }
   ],
   "source": [
    "SecondDead = colSums(events[1:2,])\n",
    "SecondDead"
   ]
  },
  {
   "cell_type": "code",
   "execution_count": 140,
   "id": "d8ffe254-b52b-4a96-9099-e58204387679",
   "metadata": {},
   "outputs": [],
   "source": [
    "SecondGood = colSums(events[3:6,])"
   ]
  },
  {
   "cell_type": "code",
   "execution_count": 141,
   "id": "84f8a22e-8fea-4290-a97e-d03a63f7ed24",
   "metadata": {},
   "outputs": [
    {
     "data": {
      "text/html": [
       "<dl class=dl-horizontal>\n",
       "\t<dt>FirstDead</dt>\n",
       "\t\t<dd>8</dd>\n",
       "\t<dt>FirstGood</dt>\n",
       "\t\t<dd>12</dd>\n",
       "</dl>\n"
      ],
      "text/latex": [
       "\\begin{description*}\n",
       "\\item[FirstDead] 8\n",
       "\\item[FirstGood] 12\n",
       "\\end{description*}\n"
      ],
      "text/markdown": [
       "FirstDead\n",
       ":   8FirstGood\n",
       ":   12\n",
       "\n"
      ],
      "text/plain": [
       "FirstDead FirstGood \n",
       "        8        12 "
      ]
     },
     "metadata": {},
     "output_type": "display_data"
    }
   ],
   "source": [
    "SecondGood"
   ]
  },
  {
   "cell_type": "code",
   "execution_count": 142,
   "id": "9c6e214f-cd21-43fd-ae84-daa26ced115f",
   "metadata": {},
   "outputs": [],
   "source": [
    "JointEvents = rbind(SecondDead, SecondGood)"
   ]
  },
  {
   "cell_type": "code",
   "execution_count": 143,
   "id": "0c810694-89f9-4073-987b-0f2205c3b317",
   "metadata": {},
   "outputs": [
    {
     "data": {
      "text/html": [
       "<table>\n",
       "<thead><tr><th></th><th scope=col>FirstDead</th><th scope=col>FirstGood</th></tr></thead>\n",
       "<tbody>\n",
       "\t<tr><th scope=row>SecondDead</th><td>2 </td><td> 8</td></tr>\n",
       "\t<tr><th scope=row>SecondGood</th><td>8 </td><td>12</td></tr>\n",
       "</tbody>\n",
       "</table>\n"
      ],
      "text/latex": [
       "\\begin{tabular}{r|ll}\n",
       "  & FirstDead & FirstGood\\\\\n",
       "\\hline\n",
       "\tSecondDead & 2  &  8\\\\\n",
       "\tSecondGood & 8  & 12\\\\\n",
       "\\end{tabular}\n"
      ],
      "text/markdown": [
       "\n",
       "| <!--/--> | FirstDead | FirstGood |\n",
       "|---|---|---|\n",
       "| SecondDead | 2  |  8 |\n",
       "| SecondGood | 8  | 12 |\n",
       "\n"
      ],
      "text/plain": [
       "           FirstDead FirstGood\n",
       "SecondDead 2          8       \n",
       "SecondGood 8         12       "
      ]
     },
     "metadata": {},
     "output_type": "display_data"
    }
   ],
   "source": [
    "JointEvents"
   ]
  },
  {
   "cell_type": "markdown",
   "id": "e4eedacc-1171-4134-9589-36ecccaf8d41",
   "metadata": {},
   "source": [
    "**Finally we have got the joint event with there join appearence Now by divinding them 30(total number of events) we will find out the probability.** "
   ]
  },
  {
   "cell_type": "code",
   "execution_count": 144,
   "id": "62d060e8-5486-4b88-94e0-76b76300b44f",
   "metadata": {},
   "outputs": [],
   "source": [
    "JointEvents = round(x=JointEvents/30, 3)"
   ]
  },
  {
   "cell_type": "code",
   "execution_count": 145,
   "id": "6985a70e-985a-4af7-b23a-5730727d9702",
   "metadata": {},
   "outputs": [
    {
     "data": {
      "text/html": [
       "<table>\n",
       "<thead><tr><th></th><th scope=col>FirstDead</th><th scope=col>FirstGood</th></tr></thead>\n",
       "<tbody>\n",
       "\t<tr><th scope=row>SecondDead</th><td>0.067</td><td>0.267</td></tr>\n",
       "\t<tr><th scope=row>SecondGood</th><td>0.267</td><td>0.400</td></tr>\n",
       "</tbody>\n",
       "</table>\n"
      ],
      "text/latex": [
       "\\begin{tabular}{r|ll}\n",
       "  & FirstDead & FirstGood\\\\\n",
       "\\hline\n",
       "\tSecondDead & 0.067 & 0.267\\\\\n",
       "\tSecondGood & 0.267 & 0.400\\\\\n",
       "\\end{tabular}\n"
      ],
      "text/markdown": [
       "\n",
       "| <!--/--> | FirstDead | FirstGood |\n",
       "|---|---|---|\n",
       "| SecondDead | 0.067 | 0.267 |\n",
       "| SecondGood | 0.267 | 0.400 |\n",
       "\n"
      ],
      "text/plain": [
       "           FirstDead FirstGood\n",
       "SecondDead 0.067     0.267    \n",
       "SecondGood 0.267     0.400    "
      ]
     },
     "metadata": {},
     "output_type": "display_data"
    }
   ],
   "source": [
    "JointEvents"
   ]
  },
  {
   "cell_type": "code",
   "execution_count": 146,
   "id": "5a9e2154-6474-4f71-9776-6960fd6618e5",
   "metadata": {},
   "outputs": [
    {
     "data": {
      "text/html": [
       "1.001"
      ],
      "text/latex": [
       "1.001"
      ],
      "text/markdown": [
       "1.001"
      ],
      "text/plain": [
       "[1] 1.001"
      ]
     },
     "metadata": {},
     "output_type": "display_data"
    }
   ],
   "source": [
    "sum(JointEvents)"
   ]
  },
  {
   "cell_type": "markdown",
   "id": "819f4396-d587-4cd2-9016-e58c4363ded4",
   "metadata": {},
   "source": [
    "Now from above output we can see the joint probability for both choices.  "
   ]
  },
  {
   "cell_type": "code",
   "execution_count": 149,
   "id": "1bfa9e31-c913-49c5-bd2e-d25c0d3404d4",
   "metadata": {},
   "outputs": [],
   "source": [
    "JointEvents = rbind(JointEvents,MGPSB= colSums(JointEvents))\n",
    "JointEvents = cbind(JointEvents,MGPFB= rowSums(JointEvents))"
   ]
  },
  {
   "cell_type": "code",
   "execution_count": 150,
   "id": "fcc78b1a-38b8-4c60-995f-dd80533b4ff1",
   "metadata": {},
   "outputs": [
    {
     "data": {
      "text/html": [
       "<table>\n",
       "<thead><tr><th></th><th scope=col>FirstDead</th><th scope=col>FirstGood</th><th scope=col>MGPFB</th></tr></thead>\n",
       "<tbody>\n",
       "\t<tr><th scope=row>SecondDead</th><td>0.067</td><td>0.267</td><td>0.334</td></tr>\n",
       "\t<tr><th scope=row>SecondGood</th><td>0.267</td><td>0.400</td><td>0.667</td></tr>\n",
       "\t<tr><th scope=row>MGPSB</th><td>0.334</td><td>0.667</td><td>1.001</td></tr>\n",
       "</tbody>\n",
       "</table>\n"
      ],
      "text/latex": [
       "\\begin{tabular}{r|lll}\n",
       "  & FirstDead & FirstGood & MGPFB\\\\\n",
       "\\hline\n",
       "\tSecondDead & 0.067 & 0.267 & 0.334\\\\\n",
       "\tSecondGood & 0.267 & 0.400 & 0.667\\\\\n",
       "\tMGPSB & 0.334 & 0.667 & 1.001\\\\\n",
       "\\end{tabular}\n"
      ],
      "text/markdown": [
       "\n",
       "| <!--/--> | FirstDead | FirstGood | MGPFB |\n",
       "|---|---|---|---|\n",
       "| SecondDead | 0.067 | 0.267 | 0.334 |\n",
       "| SecondGood | 0.267 | 0.400 | 0.667 |\n",
       "| MGPSB | 0.334 | 0.667 | 1.001 |\n",
       "\n"
      ],
      "text/plain": [
       "           FirstDead FirstGood MGPFB\n",
       "SecondDead 0.067     0.267     0.334\n",
       "SecondGood 0.267     0.400     0.667\n",
       "MGPSB      0.334     0.667     1.001"
      ]
     },
     "metadata": {},
     "output_type": "display_data"
    }
   ],
   "source": [
    "JointEvents"
   ]
  },
  {
   "cell_type": "markdown",
   "id": "2a5b8f8d-b83b-407d-942a-02709d9a9d1a",
   "metadata": {},
   "source": [
    "**`Note:` Now until this we have seen this a theoritical approach for the conditionaly probability from now we will see the simulation approach**"
   ]
  },
  {
   "cell_type": "markdown",
   "id": "1ab990cd-2fb5-40f0-925f-f1dfd04b946c",
   "metadata": {},
   "source": [
    "The conditional probabilities are theoretical probabilitiers assigned to the events by making use of the definition of probability for equally likely events.\n",
    "\n",
    "* if these conditional probabilities are reasonable, they should reflect what happen in practice.\n",
    "* Consequently, given a large number of replications in which two batteries are selected from a group of six batteries.(in which two of the batteries are dead.) "
   ]
  },
  {
   "cell_type": "markdown",
   "id": "7493f7d6-a3b5-412f-95f9-7abca3a24ef8",
   "metadata": {},
   "source": [
    "Now we need to make our Population which is (\"DEAD1\", \"DEAD2\", \"GOOD1\", \"GOOD2\", \"GOOD3\", \"GOOD4\")."
   ]
  },
  {
   "cell_type": "code",
   "execution_count": 151,
   "id": "a370a554-cbb4-46c8-857c-4fb185fc34e6",
   "metadata": {},
   "outputs": [],
   "source": [
    "Population = c(\"DEAD1\", \"DEAD2\", \"GOOD1\", \"GOOD2\", \"GOOD3\", \"GOOD4\")"
   ]
  },
  {
   "cell_type": "markdown",
   "id": "92181548-e0cc-4729-bd99-8b2116268a7c",
   "metadata": {},
   "source": [
    "all have the probability equally likely to be choosen."
   ]
  },
  {
   "cell_type": "code",
   "execution_count": 154,
   "id": "694c0b4c-c5f2-4c48-8319-2c432de3824e",
   "metadata": {},
   "outputs": [
    {
     "data": {
      "text/html": [
       "<ol class=list-inline>\n",
       "\t<li>1</li>\n",
       "\t<li>1</li>\n",
       "</ol>\n"
      ],
      "text/latex": [
       "\\begin{enumerate*}\n",
       "\\item 1\n",
       "\\item 1\n",
       "\\end{enumerate*}\n"
      ],
      "text/markdown": [
       "1. 1\n",
       "2. 1\n",
       "\n",
       "\n"
      ],
      "text/plain": [
       "[1] 1 1"
      ]
     },
     "metadata": {},
     "output_type": "display_data"
    }
   ],
   "source": [
    "rep(1,2)"
   ]
  },
  {
   "cell_type": "code",
   "execution_count": 157,
   "id": "0ddac21c-7874-46f0-88ae-d22cd92b6ee5",
   "metadata": {},
   "outputs": [],
   "source": [
    "# generating a sample of choosing two batteries without replacement.\n",
    "choice = sample(x=Population, prob=rep(1/6,6), size=2 ) \n",
    "\n"
   ]
  },
  {
   "cell_type": "code",
   "execution_count": 158,
   "id": "91367274-cd10-4e9e-990f-54216349b063",
   "metadata": {},
   "outputs": [
    {
     "data": {
      "text/html": [
       "<ol class=list-inline>\n",
       "\t<li>'GOOD3'</li>\n",
       "\t<li>'GOOD4'</li>\n",
       "</ol>\n"
      ],
      "text/latex": [
       "\\begin{enumerate*}\n",
       "\\item 'GOOD3'\n",
       "\\item 'GOOD4'\n",
       "\\end{enumerate*}\n"
      ],
      "text/markdown": [
       "1. 'GOOD3'\n",
       "2. 'GOOD4'\n",
       "\n",
       "\n"
      ],
      "text/plain": [
       "[1] \"GOOD3\" \"GOOD4\""
      ]
     },
     "metadata": {},
     "output_type": "display_data"
    }
   ],
   "source": [
    "choice"
   ]
  },
  {
   "cell_type": "code",
   "execution_count": 166,
   "id": "dd6e9dc4-9a3b-4d9b-946f-40c5bf7a8044",
   "metadata": {},
   "outputs": [
    {
     "data": {
      "text/html": [
       "<ol class=list-inline>\n",
       "\t<li>0</li>\n",
       "\t<li>0</li>\n",
       "\t<li>1</li>\n",
       "\t<li>1</li>\n",
       "\t<li>1</li>\n",
       "\t<li>1</li>\n",
       "</ol>\n"
      ],
      "text/latex": [
       "\\begin{enumerate*}\n",
       "\\item 0\n",
       "\\item 0\n",
       "\\item 1\n",
       "\\item 1\n",
       "\\item 1\n",
       "\\item 1\n",
       "\\end{enumerate*}\n"
      ],
      "text/markdown": [
       "1. 0\n",
       "2. 0\n",
       "3. 1\n",
       "4. 1\n",
       "5. 1\n",
       "6. 1\n",
       "\n",
       "\n"
      ],
      "text/plain": [
       "[1] 0 0 1 1 1 1"
      ]
     },
     "metadata": {},
     "output_type": "display_data"
    }
   ],
   "source": [
    "Population = c(0, 0, 1, 1, 1, 1)\n",
    "Population"
   ]
  },
  {
   "cell_type": "code",
   "execution_count": 233,
   "id": "cf52b86e-5de6-4bb4-b956-da422603882b",
   "metadata": {},
   "outputs": [
    {
     "data": {
      "text/html": [
       "<table>\n",
       "<thead><tr><th scope=col>FirstBattery</th><th scope=col>SecondBattery</th></tr></thead>\n",
       "<tbody>\n",
       "\t<tr><td>1</td><td>0</td></tr>\n",
       "\t<tr><td>0</td><td>1</td></tr>\n",
       "\t<tr><td>1</td><td>1</td></tr>\n",
       "\t<tr><td>1</td><td>0</td></tr>\n",
       "\t<tr><td>0</td><td>1</td></tr>\n",
       "\t<tr><td>0</td><td>1</td></tr>\n",
       "</tbody>\n",
       "</table>\n"
      ],
      "text/latex": [
       "\\begin{tabular}{r|ll}\n",
       " FirstBattery & SecondBattery\\\\\n",
       "\\hline\n",
       "\t 1 & 0\\\\\n",
       "\t 0 & 1\\\\\n",
       "\t 1 & 1\\\\\n",
       "\t 1 & 0\\\\\n",
       "\t 0 & 1\\\\\n",
       "\t 0 & 1\\\\\n",
       "\\end{tabular}\n"
      ],
      "text/markdown": [
       "\n",
       "| FirstBattery | SecondBattery |\n",
       "|---|---|\n",
       "| 1 | 0 |\n",
       "| 0 | 1 |\n",
       "| 1 | 1 |\n",
       "| 1 | 0 |\n",
       "| 0 | 1 |\n",
       "| 0 | 1 |\n",
       "\n"
      ],
      "text/plain": [
       "  FirstBattery SecondBattery\n",
       "1 1            0            \n",
       "2 0            1            \n",
       "3 1            1            \n",
       "4 1            0            \n",
       "5 0            1            \n",
       "6 0            1            "
      ]
     },
     "metadata": {},
     "output_type": "display_data"
    }
   ],
   "source": [
    "# Now we will do this thing for 100 times by using a for loop\n",
    "Population = c(0, 0, 1, 1, 1, 1)\n",
    "Choices=NULL\n",
    "for (i in 1:100){\n",
    "    \n",
    "    choice = sample(x=Population, prob=rep(1/6,6), size=2 ) \n",
    "\n",
    "    if (!exists('Choices')){\n",
    "\n",
    "        Choices = rbind(choice)\n",
    "    }\n",
    "    else{\n",
    "        Choices = rbind(Choices,choice)\n",
    "    }\n",
    "\n",
    "}\n",
    "\n",
    "# chekcing the Choices\n",
    "rownames(Choices) = 1:length(Choices[,1])\n",
    "colnames(Choices) = c(\"FirstBattery\", \"SecondBattery\")\n",
    "head(Choices)"
   ]
  },
  {
   "cell_type": "markdown",
   "id": "a8e81ce5-71c4-4132-95a7-348b24b405b3",
   "metadata": {},
   "source": [
    "**making a function for above code**"
   ]
  },
  {
   "cell_type": "code",
   "execution_count": 239,
   "id": "618cabb8-41c4-4f49-a5a5-26d9e70107fe",
   "metadata": {},
   "outputs": [],
   "source": [
    "GenAttempts = function(Pop, prob, choices = 2, size=100){\n",
    "    \n",
    "    # Pop means polulation, prob means probability, size mean slecting items from population.\n",
    "    \n",
    "    # Creating a variable to store all the GenAttempts\n",
    "    \n",
    "    Choices=NULL\n",
    "    for (i in 1:size){\n",
    "\n",
    "        choice = sample(x=Pop, prob=prob, size=choices ) \n",
    "\n",
    "        if (is.null(Choices)){\n",
    "\n",
    "            Choices = rbind(choice)\n",
    "        }\n",
    "        else{\n",
    "            Choices = rbind(Choices,choice)\n",
    "        }\n",
    "\n",
    "    }\n",
    "\n",
    "    # chekcing the Choices\n",
    "    rownames(Choices) = 1:length(Choices[,1])\n",
    "    colnames(Choices) = c(\"FirstBattery\", \"SecondBattery\")\n",
    "    Choices\n",
    "}"
   ]
  },
  {
   "cell_type": "code",
   "execution_count": 242,
   "id": "65f43efe-4feb-491d-94ce-0565de06ce14",
   "metadata": {},
   "outputs": [],
   "source": [
    "#GenAttempts(Pop= c(0,0,1,1,1,1),prob = rep(1/6,6),size= 100)"
   ]
  },
  {
   "cell_type": "code",
   "execution_count": null,
   "id": "a8727ee2-c144-41ad-8359-028a6b13b112",
   "metadata": {},
   "outputs": [],
   "source": []
  },
  {
   "cell_type": "code",
   "execution_count": null,
   "id": "386f0043-1109-4510-a45f-e3ac5d7c1844",
   "metadata": {},
   "outputs": [],
   "source": []
  },
  {
   "cell_type": "code",
   "execution_count": 169,
   "id": "c8d4c2ad-b19a-476f-9730-14df9885c450",
   "metadata": {},
   "outputs": [
    {
     "data": {
      "text/html": [
       "<ol class=list-inline>\n",
       "\t<li>100</li>\n",
       "\t<li>2</li>\n",
       "</ol>\n"
      ],
      "text/latex": [
       "\\begin{enumerate*}\n",
       "\\item 100\n",
       "\\item 2\n",
       "\\end{enumerate*}\n"
      ],
      "text/markdown": [
       "1. 100\n",
       "2. 2\n",
       "\n",
       "\n"
      ],
      "text/plain": [
       "[1] 100   2"
      ]
     },
     "metadata": {},
     "output_type": "display_data"
    }
   ],
   "source": [
    "# Now we need to check the dimension of the Choices\n",
    "dim(Choices)"
   ]
  },
  {
   "cell_type": "markdown",
   "id": "d272aa34-38bc-498e-a53b-2fe07993d04b",
   "metadata": {},
   "source": [
    "In this we have 100 rows and 2 columns."
   ]
  },
  {
   "cell_type": "code",
   "execution_count": 171,
   "id": "a870f799-83ed-4fd4-8b8b-e59fc09e03c9",
   "metadata": {},
   "outputs": [
    {
     "name": "stdout",
     "output_type": "stream",
     "text": [
      "[1] \"Total attempts 100\"\n"
     ]
    }
   ],
   "source": [
    "# we need the value of total number of rows to check the frequecncy of corresponding event.\n",
    "attempts = dim(Choices)[1]\n",
    "print(paste(\"Total attempts\",attempts))"
   ]
  },
  {
   "cell_type": "markdown",
   "id": "c621ae3b-d92d-4621-850e-5a181049c38e",
   "metadata": {},
   "source": [
    "**Tasks:**"
   ]
  },
  {
   "cell_type": "markdown",
   "id": "45409210-0cb9-45c5-9a6e-f3c4f82199cb",
   "metadata": {},
   "source": [
    "1. First battery is Dead and second is Good (FDSG)\n",
    "2. First battery is Good and second is Dead (FGSD)\n",
    "3. Both the batteries are Dead (FDSD)\n",
    "4. Both the batteries are Good. (FGSG)"
   ]
  },
  {
   "cell_type": "markdown",
   "id": "e7239fde-399b-437e-975a-735a0f1cc480",
   "metadata": {},
   "source": [
    "**Now we will see above result and match them with our theoritical probabilities.**"
   ]
  },
  {
   "cell_type": "code",
   "execution_count": 174,
   "id": "817eb496-8e98-419a-bef7-3db74b9a352a",
   "metadata": {},
   "outputs": [],
   "source": [
    "# Now we will secect only those rows in which 1 means good battery and 0 means bad battery.\n",
    "FDSG = Choices[Choices[,'FirstBattery'] == 0 & Choices[,'SecondBattery']==1,]\n",
    "FGSD = Choices[Choices[,'FirstBattery'] == 1 & Choices[,'SecondBattery']==0,]\n",
    "FDSD = Choices[Choices[,'FirstBattery'] == 0 & Choices[,'SecondBattery']==0,]\n",
    "FGSG = Choices[Choices[,'FirstBattery'] == 1 & Choices[,'SecondBattery']==1,]"
   ]
  },
  {
   "cell_type": "code",
   "execution_count": 258,
   "id": "11b85595-fa34-4ac5-a0e7-ecf40ae4ef51",
   "metadata": {},
   "outputs": [],
   "source": [
    "AllEvents = function(AllAttempts,Echoices=c('FirstBattery','SecondBattery')){\n",
    "    FDSG = AllAttempts[AllAttempts[,Echoices[1]] == 0 & AllAttempts[,Echoices[2]]==1,]\n",
    "    FGSD = AllAttempts[AllAttempts[,Echoices[1]] == 1 & AllAttempts[,Echoices[2]]==0,]\n",
    "    FDSD = AllAttempts[AllAttempts[,Echoices[1]] == 0 & AllAttempts[,Echoices[2]]==0,]\n",
    "    FGSG = AllAttempts[AllAttempts[,Echoices[1]] == 1 & AllAttempts[,Echoices[2]]==1,]\n",
    "    \n",
    "    #AEvents = list(FDSG,FGSD,FGSG, FDSD)\n",
    "    #EventNames = c(\"FDSG\",\"FGSD\",\"FGSG\", \"FDSD\")\n",
    "    \n",
    "    allEvents = list(FDSG,FGSD,FGSG, FDSD)\n",
    "    allEvents\n",
    "}"
   ]
  },
  {
   "cell_type": "markdown",
   "id": "b877d09c-27f1-46f6-8e3d-9c9ccae6aef6",
   "metadata": {},
   "source": [
    "**checking all the values**"
   ]
  },
  {
   "cell_type": "code",
   "execution_count": 176,
   "id": "d9be7831-787c-478e-854d-6c1dfe15cc27",
   "metadata": {},
   "outputs": [
    {
     "data": {
      "text/html": [
       "<table>\n",
       "<thead><tr><th></th><th scope=col>FirstBattery</th><th scope=col>SecondBattery</th></tr></thead>\n",
       "<tbody>\n",
       "\t<tr><th scope=row>15</th><td>0</td><td>1</td></tr>\n",
       "\t<tr><th scope=row>18</th><td>0</td><td>1</td></tr>\n",
       "\t<tr><th scope=row>24</th><td>0</td><td>1</td></tr>\n",
       "\t<tr><th scope=row>25</th><td>0</td><td>1</td></tr>\n",
       "\t<tr><th scope=row>28</th><td>0</td><td>1</td></tr>\n",
       "\t<tr><th scope=row>31</th><td>0</td><td>1</td></tr>\n",
       "</tbody>\n",
       "</table>\n"
      ],
      "text/latex": [
       "\\begin{tabular}{r|ll}\n",
       "  & FirstBattery & SecondBattery\\\\\n",
       "\\hline\n",
       "\t15 & 0 & 1\\\\\n",
       "\t18 & 0 & 1\\\\\n",
       "\t24 & 0 & 1\\\\\n",
       "\t25 & 0 & 1\\\\\n",
       "\t28 & 0 & 1\\\\\n",
       "\t31 & 0 & 1\\\\\n",
       "\\end{tabular}\n"
      ],
      "text/markdown": [
       "\n",
       "| <!--/--> | FirstBattery | SecondBattery |\n",
       "|---|---|---|\n",
       "| 15 | 0 | 1 |\n",
       "| 18 | 0 | 1 |\n",
       "| 24 | 0 | 1 |\n",
       "| 25 | 0 | 1 |\n",
       "| 28 | 0 | 1 |\n",
       "| 31 | 0 | 1 |\n",
       "\n"
      ],
      "text/plain": [
       "   FirstBattery SecondBattery\n",
       "15 0            1            \n",
       "18 0            1            \n",
       "24 0            1            \n",
       "25 0            1            \n",
       "28 0            1            \n",
       "31 0            1            "
      ]
     },
     "metadata": {},
     "output_type": "display_data"
    }
   ],
   "source": [
    "head(FDSG)"
   ]
  },
  {
   "cell_type": "code",
   "execution_count": 177,
   "id": "cee941e2-c9ba-4693-b9ad-05470f2e0732",
   "metadata": {},
   "outputs": [
    {
     "data": {
      "text/html": [
       "<table>\n",
       "<thead><tr><th></th><th scope=col>FirstBattery</th><th scope=col>SecondBattery</th></tr></thead>\n",
       "<tbody>\n",
       "\t<tr><th scope=row>2</th><td>1</td><td>0</td></tr>\n",
       "\t<tr><th scope=row>3</th><td>1</td><td>0</td></tr>\n",
       "\t<tr><th scope=row>5</th><td>1</td><td>0</td></tr>\n",
       "\t<tr><th scope=row>6</th><td>1</td><td>0</td></tr>\n",
       "\t<tr><th scope=row>10</th><td>1</td><td>0</td></tr>\n",
       "\t<tr><th scope=row>13</th><td>1</td><td>0</td></tr>\n",
       "</tbody>\n",
       "</table>\n"
      ],
      "text/latex": [
       "\\begin{tabular}{r|ll}\n",
       "  & FirstBattery & SecondBattery\\\\\n",
       "\\hline\n",
       "\t2 & 1 & 0\\\\\n",
       "\t3 & 1 & 0\\\\\n",
       "\t5 & 1 & 0\\\\\n",
       "\t6 & 1 & 0\\\\\n",
       "\t10 & 1 & 0\\\\\n",
       "\t13 & 1 & 0\\\\\n",
       "\\end{tabular}\n"
      ],
      "text/markdown": [
       "\n",
       "| <!--/--> | FirstBattery | SecondBattery |\n",
       "|---|---|---|\n",
       "| 2 | 1 | 0 |\n",
       "| 3 | 1 | 0 |\n",
       "| 5 | 1 | 0 |\n",
       "| 6 | 1 | 0 |\n",
       "| 10 | 1 | 0 |\n",
       "| 13 | 1 | 0 |\n",
       "\n"
      ],
      "text/plain": [
       "   FirstBattery SecondBattery\n",
       "2  1            0            \n",
       "3  1            0            \n",
       "5  1            0            \n",
       "6  1            0            \n",
       "10 1            0            \n",
       "13 1            0            "
      ]
     },
     "metadata": {},
     "output_type": "display_data"
    }
   ],
   "source": [
    "head(FGSD)"
   ]
  },
  {
   "cell_type": "code",
   "execution_count": 178,
   "id": "9ef7161d-9c71-455d-b9b0-ebcedb3ad3b5",
   "metadata": {},
   "outputs": [
    {
     "data": {
      "text/html": [
       "<table>\n",
       "<thead><tr><th></th><th scope=col>FirstBattery</th><th scope=col>SecondBattery</th></tr></thead>\n",
       "<tbody>\n",
       "\t<tr><th scope=row>1</th><td>1</td><td>1</td></tr>\n",
       "\t<tr><th scope=row>4</th><td>1</td><td>1</td></tr>\n",
       "\t<tr><th scope=row>7</th><td>1</td><td>1</td></tr>\n",
       "\t<tr><th scope=row>8</th><td>1</td><td>1</td></tr>\n",
       "\t<tr><th scope=row>9</th><td>1</td><td>1</td></tr>\n",
       "\t<tr><th scope=row>11</th><td>1</td><td>1</td></tr>\n",
       "</tbody>\n",
       "</table>\n"
      ],
      "text/latex": [
       "\\begin{tabular}{r|ll}\n",
       "  & FirstBattery & SecondBattery\\\\\n",
       "\\hline\n",
       "\t1 & 1 & 1\\\\\n",
       "\t4 & 1 & 1\\\\\n",
       "\t7 & 1 & 1\\\\\n",
       "\t8 & 1 & 1\\\\\n",
       "\t9 & 1 & 1\\\\\n",
       "\t11 & 1 & 1\\\\\n",
       "\\end{tabular}\n"
      ],
      "text/markdown": [
       "\n",
       "| <!--/--> | FirstBattery | SecondBattery |\n",
       "|---|---|---|\n",
       "| 1 | 1 | 1 |\n",
       "| 4 | 1 | 1 |\n",
       "| 7 | 1 | 1 |\n",
       "| 8 | 1 | 1 |\n",
       "| 9 | 1 | 1 |\n",
       "| 11 | 1 | 1 |\n",
       "\n"
      ],
      "text/plain": [
       "   FirstBattery SecondBattery\n",
       "1  1            1            \n",
       "4  1            1            \n",
       "7  1            1            \n",
       "8  1            1            \n",
       "9  1            1            \n",
       "11 1            1            "
      ]
     },
     "metadata": {},
     "output_type": "display_data"
    }
   ],
   "source": [
    "head(FGSG)"
   ]
  },
  {
   "cell_type": "code",
   "execution_count": 179,
   "id": "d3b1841d-9f52-4dfa-bc37-6e86d0bae76a",
   "metadata": {},
   "outputs": [
    {
     "data": {
      "text/html": [
       "<table>\n",
       "<thead><tr><th></th><th scope=col>FirstBattery</th><th scope=col>SecondBattery</th></tr></thead>\n",
       "<tbody>\n",
       "\t<tr><th scope=row>16</th><td>0</td><td>0</td></tr>\n",
       "\t<tr><th scope=row>26</th><td>0</td><td>0</td></tr>\n",
       "\t<tr><th scope=row>33</th><td>0</td><td>0</td></tr>\n",
       "\t<tr><th scope=row>81</th><td>0</td><td>0</td></tr>\n",
       "</tbody>\n",
       "</table>\n"
      ],
      "text/latex": [
       "\\begin{tabular}{r|ll}\n",
       "  & FirstBattery & SecondBattery\\\\\n",
       "\\hline\n",
       "\t16 & 0 & 0\\\\\n",
       "\t26 & 0 & 0\\\\\n",
       "\t33 & 0 & 0\\\\\n",
       "\t81 & 0 & 0\\\\\n",
       "\\end{tabular}\n"
      ],
      "text/markdown": [
       "\n",
       "| <!--/--> | FirstBattery | SecondBattery |\n",
       "|---|---|---|\n",
       "| 16 | 0 | 0 |\n",
       "| 26 | 0 | 0 |\n",
       "| 33 | 0 | 0 |\n",
       "| 81 | 0 | 0 |\n",
       "\n"
      ],
      "text/plain": [
       "   FirstBattery SecondBattery\n",
       "16 0            0            \n",
       "26 0            0            \n",
       "33 0            0            \n",
       "81 0            0            "
      ]
     },
     "metadata": {},
     "output_type": "display_data"
    }
   ],
   "source": [
    "head(FDSD)"
   ]
  },
  {
   "cell_type": "markdown",
   "id": "2c94c11e-3c8d-44aa-95c7-a85f64733c87",
   "metadata": {},
   "source": [
    "**Now we need to count the frequency of apperaence of all four conditions.**"
   ]
  },
  {
   "cell_type": "code",
   "execution_count": 188,
   "id": "170e872c-9085-4818-9030-d01fe86df15a",
   "metadata": {},
   "outputs": [],
   "source": [
    "AEvents = list(FDSG,FGSD,FGSG, FDSD)\n",
    "EventNames = c(\"FDSG\",\"FGSD\",\"FGSG\", \"FDSD\")"
   ]
  },
  {
   "cell_type": "code",
   "execution_count": 207,
   "id": "f6feb099-3502-4da9-a493-82171d6febb3",
   "metadata": {},
   "outputs": [
    {
     "data": {
      "text/html": [
       "'NULL'"
      ],
      "text/latex": [
       "'NULL'"
      ],
      "text/markdown": [
       "'NULL'"
      ],
      "text/plain": [
       "[1] \"NULL\""
      ]
     },
     "metadata": {},
     "output_type": "display_data"
    }
   ],
   "source": [
    "ApFreq = NULL\n",
    "class(ApFreq)"
   ]
  },
  {
   "cell_type": "code",
   "execution_count": 212,
   "id": "d253c275-eea7-4b68-ae88-3ac90916474d",
   "metadata": {},
   "outputs": [
    {
     "data": {
      "text/html": [
       "TRUE"
      ],
      "text/latex": [
       "TRUE"
      ],
      "text/markdown": [
       "TRUE"
      ],
      "text/plain": [
       "[1] TRUE"
      ]
     },
     "metadata": {},
     "output_type": "display_data"
    }
   ],
   "source": [
    "is.null(ApFreq) "
   ]
  },
  {
   "cell_type": "code",
   "execution_count": 230,
   "id": "d62e36af-1a6f-4886-9412-b5bbc5af4bad",
   "metadata": {},
   "outputs": [
    {
     "data": {
      "text/html": [
       "<table>\n",
       "<thead><tr><th scope=col>TotalAttempts</th><th scope=col>FDSG</th><th scope=col>FGSD</th><th scope=col>FGSG</th><th scope=col>FDSD</th></tr></thead>\n",
       "<tbody>\n",
       "\t<tr><td>100</td><td>24 </td><td>29 </td><td>43 </td><td>4  </td></tr>\n",
       "</tbody>\n",
       "</table>\n"
      ],
      "text/latex": [
       "\\begin{tabular}{lllll}\n",
       " TotalAttempts & FDSG & FGSD & FGSG & FDSD\\\\\n",
       "\\hline\n",
       "\t 100 & 24  & 29  & 43  & 4  \\\\\n",
       "\\end{tabular}\n"
      ],
      "text/markdown": [
       "\n",
       "| TotalAttempts | FDSG | FGSD | FGSG | FDSD |\n",
       "|---|---|---|---|---|\n",
       "| 100 | 24  | 29  | 43  | 4   |\n",
       "\n"
      ],
      "text/plain": [
       "     TotalAttempts FDSG FGSD FGSG FDSD\n",
       "[1,] 100           24   29   43   4   "
      ]
     },
     "metadata": {},
     "output_type": "display_data"
    }
   ],
   "source": [
    "count = 0\n",
    "ApFreq = NULL\n",
    "for (i in AEvents){\n",
    "    count = count +1 \n",
    "    # Now we will count all the events frequency in simulation\n",
    "    \n",
    "    if (is.null(ApFreq)){\n",
    "        # if Apfreq is null then we will add the total number of events with first event frequency\n",
    "        ApFreq = cbind(Tevents=100, xevent=dim(i)[1])\n",
    "        \n",
    "    }\n",
    "    else{\n",
    "        ApFreq = cbind(ApFreq, xevent=dim(i)[1])\n",
    "    }\n",
    "    \n",
    "}to\n",
    "\n",
    "# renaming all the events\n",
    "colnames(ApFreq) = c(\"TotalAttempts\",EventNames)\n",
    "ApFreq"
   ]
  },
  {
   "cell_type": "code",
   "execution_count": 255,
   "id": "20f0b469-e118-475b-a53e-d549c9fea0ad",
   "metadata": {},
   "outputs": [],
   "source": [
    "# makign Apperance frequency function\n",
    "ApFrequency = function(allevents, eventsattempts){\n",
    "    \n",
    "    count = 0\n",
    "    ApFreq = NULL\n",
    "    EventNames = c(\"FDSG\",\"FGSD\",\"FGSG\", \"FDSD\")\n",
    "    for (i in allevents){\n",
    "        count = count +1 \n",
    "        # Now we will count all the events frequency in simulation\n",
    "\n",
    "        if (is.null(ApFreq)){\n",
    "            # if Apfreq is null then we will add the total number of events with first event frequency\n",
    "            ApFreq = cbind(Tevents=eventsattempts, xevent=dim(i)[1])\n",
    "\n",
    "        }\n",
    "        else{\n",
    "            ApFreq = cbind(ApFreq, xevent=dim(i)[1])\n",
    "        }\n",
    "\n",
    "    }\n",
    "\n",
    "    # renaming all the events\n",
    "    colnames(ApFreq) = c(\"TotalAttempts\",EventNames)\n",
    "    \n",
    "    ApFreq\n",
    "}"
   ]
  },
  {
   "cell_type": "markdown",
   "id": "f221d566-921e-4527-8c18-f62722bcae86",
   "metadata": {},
   "source": [
    "**Now we need put all the above code into a single function**"
   ]
  },
  {
   "cell_type": "code",
   "execution_count": 287,
   "id": "72c410d0-d5f2-48fa-b27d-47f387696777",
   "metadata": {},
   "outputs": [],
   "source": [
    "batteryAttempts = function(Pop, prob, from=100,to=5000,size=100, choices=2){\n",
    "    set.seed(13579)\n",
    "    # Now first of all we need to make the sequence\n",
    "    Attempts = seq(from=from, to=to, size)\n",
    "    \n",
    "    allEventData = NULL  # to store all events frequency record.\n",
    "    # Now after this we need to iterate over Attempts and need to make sample for each attemptsize\n",
    "    \n",
    "    for (attmp in Attempts){\n",
    "        \n",
    "        # Now we will use GenAttempts function to get all the attempts \n",
    "        choice_attempts = GenAttempts(Pop= Pop,prob = prob,size= attmp, choices = choices)\n",
    "        \n",
    "        # Now we have choice_attempts so now we need to get all the events.\n",
    "        all_events = AllEvents(choice_attempts)\n",
    "        \n",
    "        # Now we need to count apperance frequnecy for all evnets.\n",
    "        frequency = ApFrequency(all_events, eventsattempts=attmp)\n",
    "        \n",
    "        # Now we need to append all the result by using rbind.\n",
    "        # since from now all the steps going to repeat.\n",
    "        \n",
    "        if (is.null(allEventData)){\n",
    "            allEventData = rbind(frequency)\n",
    "        }\n",
    "        else{\n",
    "            allEventData = rbind(allEventData, frequency)\n",
    "        }\n",
    "    }\n",
    "    allEventData = data.frame(allEventData)\n",
    "    allEventDataRF  = cbind(Attempts=allEventData$TotalAttempts, round(x=allEventData[,2:5]/allEventData[,1], 3))\n",
    "}"
   ]
  },
  {
   "cell_type": "code",
   "execution_count": 288,
   "id": "b3f2cdf3-4e44-44dd-ae6e-34ebf00e1d8f",
   "metadata": {},
   "outputs": [
    {
     "data": {
      "text/html": [
       "<table>\n",
       "<thead><tr><th scope=col>Attempts</th><th scope=col>FDSG</th><th scope=col>FGSD</th><th scope=col>FGSG</th><th scope=col>FDSD</th></tr></thead>\n",
       "<tbody>\n",
       "\t<tr><td> 100 </td><td>0.240</td><td>0.250</td><td>0.410</td><td>0.100</td></tr>\n",
       "\t<tr><td> 200 </td><td>0.265</td><td>0.300</td><td>0.395</td><td>0.040</td></tr>\n",
       "\t<tr><td> 300 </td><td>0.263</td><td>0.267</td><td>0.383</td><td>0.087</td></tr>\n",
       "\t<tr><td> 400 </td><td>0.268</td><td>0.258</td><td>0.412</td><td>0.062</td></tr>\n",
       "\t<tr><td> 500 </td><td>0.266</td><td>0.282</td><td>0.380</td><td>0.072</td></tr>\n",
       "\t<tr><td> 600 </td><td>0.253</td><td>0.228</td><td>0.445</td><td>0.073</td></tr>\n",
       "\t<tr><td> 700 </td><td>0.286</td><td>0.291</td><td>0.371</td><td>0.051</td></tr>\n",
       "\t<tr><td> 800 </td><td>0.276</td><td>0.285</td><td>0.385</td><td>0.054</td></tr>\n",
       "\t<tr><td> 900 </td><td>0.259</td><td>0.271</td><td>0.401</td><td>0.069</td></tr>\n",
       "\t<tr><td>1000 </td><td>0.240</td><td>0.273</td><td>0.424</td><td>0.063</td></tr>\n",
       "\t<tr><td>1100 </td><td>0.292</td><td>0.274</td><td>0.369</td><td>0.065</td></tr>\n",
       "\t<tr><td>1200 </td><td>0.269</td><td>0.274</td><td>0.388</td><td>0.068</td></tr>\n",
       "\t<tr><td>1300 </td><td>0.255</td><td>0.255</td><td>0.426</td><td>0.064</td></tr>\n",
       "\t<tr><td>1400 </td><td>0.266</td><td>0.273</td><td>0.395</td><td>0.066</td></tr>\n",
       "\t<tr><td>1500 </td><td>0.259</td><td>0.251</td><td>0.427</td><td>0.063</td></tr>\n",
       "\t<tr><td>1600 </td><td>0.243</td><td>0.264</td><td>0.422</td><td>0.071</td></tr>\n",
       "\t<tr><td>1700 </td><td>0.276</td><td>0.271</td><td>0.379</td><td>0.073</td></tr>\n",
       "\t<tr><td>1800 </td><td>0.263</td><td>0.266</td><td>0.407</td><td>0.064</td></tr>\n",
       "\t<tr><td>1900 </td><td>0.255</td><td>0.291</td><td>0.390</td><td>0.065</td></tr>\n",
       "\t<tr><td>2000 </td><td>0.274</td><td>0.256</td><td>0.403</td><td>0.067</td></tr>\n",
       "\t<tr><td>2100 </td><td>0.274</td><td>0.275</td><td>0.380</td><td>0.072</td></tr>\n",
       "\t<tr><td>2200 </td><td>0.255</td><td>0.267</td><td>0.408</td><td>0.070</td></tr>\n",
       "\t<tr><td>2300 </td><td>0.257</td><td>0.281</td><td>0.393</td><td>0.069</td></tr>\n",
       "\t<tr><td>2400 </td><td>0.280</td><td>0.272</td><td>0.388</td><td>0.060</td></tr>\n",
       "\t<tr><td>2500 </td><td>0.267</td><td>0.270</td><td>0.398</td><td>0.065</td></tr>\n",
       "\t<tr><td>2600 </td><td>0.253</td><td>0.258</td><td>0.417</td><td>0.072</td></tr>\n",
       "\t<tr><td>2700 </td><td>0.269</td><td>0.262</td><td>0.402</td><td>0.066</td></tr>\n",
       "\t<tr><td>2800 </td><td>0.262</td><td>0.259</td><td>0.414</td><td>0.065</td></tr>\n",
       "\t<tr><td>2900 </td><td>0.260</td><td>0.261</td><td>0.409</td><td>0.070</td></tr>\n",
       "\t<tr><td>3000 </td><td>0.263</td><td>0.272</td><td>0.399</td><td>0.066</td></tr>\n",
       "\t<tr><td>...</td><td>...</td><td>...</td><td>...</td><td>...</td></tr>\n",
       "\t<tr><td> 7100</td><td>0.267</td><td>0.264</td><td>0.402</td><td>0.067</td></tr>\n",
       "\t<tr><td> 7200</td><td>0.254</td><td>0.267</td><td>0.409</td><td>0.070</td></tr>\n",
       "\t<tr><td> 7300</td><td>0.259</td><td>0.272</td><td>0.400</td><td>0.068</td></tr>\n",
       "\t<tr><td> 7400</td><td>0.267</td><td>0.269</td><td>0.394</td><td>0.069</td></tr>\n",
       "\t<tr><td> 7500</td><td>0.268</td><td>0.273</td><td>0.395</td><td>0.064</td></tr>\n",
       "\t<tr><td> 7600</td><td>0.260</td><td>0.267</td><td>0.405</td><td>0.067</td></tr>\n",
       "\t<tr><td> 7700</td><td>0.270</td><td>0.260</td><td>0.404</td><td>0.066</td></tr>\n",
       "\t<tr><td> 7800</td><td>0.269</td><td>0.267</td><td>0.401</td><td>0.063</td></tr>\n",
       "\t<tr><td> 7900</td><td>0.272</td><td>0.258</td><td>0.402</td><td>0.067</td></tr>\n",
       "\t<tr><td> 8000</td><td>0.265</td><td>0.268</td><td>0.403</td><td>0.064</td></tr>\n",
       "\t<tr><td> 8100</td><td>0.269</td><td>0.265</td><td>0.400</td><td>0.066</td></tr>\n",
       "\t<tr><td> 8200</td><td>0.266</td><td>0.274</td><td>0.394</td><td>0.066</td></tr>\n",
       "\t<tr><td> 8300</td><td>0.269</td><td>0.271</td><td>0.397</td><td>0.063</td></tr>\n",
       "\t<tr><td> 8400</td><td>0.259</td><td>0.274</td><td>0.401</td><td>0.066</td></tr>\n",
       "\t<tr><td> 8500</td><td>0.272</td><td>0.261</td><td>0.401</td><td>0.066</td></tr>\n",
       "\t<tr><td> 8600</td><td>0.262</td><td>0.275</td><td>0.396</td><td>0.066</td></tr>\n",
       "\t<tr><td> 8700</td><td>0.265</td><td>0.263</td><td>0.405</td><td>0.067</td></tr>\n",
       "\t<tr><td> 8800</td><td>0.259</td><td>0.276</td><td>0.400</td><td>0.066</td></tr>\n",
       "\t<tr><td> 8900</td><td>0.267</td><td>0.268</td><td>0.400</td><td>0.066</td></tr>\n",
       "\t<tr><td> 9000</td><td>0.269</td><td>0.272</td><td>0.398</td><td>0.061</td></tr>\n",
       "\t<tr><td> 9100</td><td>0.266</td><td>0.263</td><td>0.410</td><td>0.060</td></tr>\n",
       "\t<tr><td> 9200</td><td>0.268</td><td>0.265</td><td>0.397</td><td>0.071</td></tr>\n",
       "\t<tr><td> 9300</td><td>0.263</td><td>0.262</td><td>0.409</td><td>0.066</td></tr>\n",
       "\t<tr><td> 9400</td><td>0.259</td><td>0.271</td><td>0.401</td><td>0.068</td></tr>\n",
       "\t<tr><td> 9500</td><td>0.271</td><td>0.261</td><td>0.404</td><td>0.064</td></tr>\n",
       "\t<tr><td> 9600</td><td>0.265</td><td>0.266</td><td>0.402</td><td>0.067</td></tr>\n",
       "\t<tr><td> 9700</td><td>0.262</td><td>0.272</td><td>0.401</td><td>0.064</td></tr>\n",
       "\t<tr><td> 9800</td><td>0.273</td><td>0.266</td><td>0.393</td><td>0.068</td></tr>\n",
       "\t<tr><td> 9900</td><td>0.273</td><td>0.265</td><td>0.399</td><td>0.062</td></tr>\n",
       "\t<tr><td>10000</td><td>0.274</td><td>0.259</td><td>0.396</td><td>0.071</td></tr>\n",
       "</tbody>\n",
       "</table>\n"
      ],
      "text/latex": [
       "\\begin{tabular}{r|lllll}\n",
       " Attempts & FDSG & FGSD & FGSG & FDSD\\\\\n",
       "\\hline\n",
       "\t  100  & 0.240 & 0.250 & 0.410 & 0.100\\\\\n",
       "\t  200  & 0.265 & 0.300 & 0.395 & 0.040\\\\\n",
       "\t  300  & 0.263 & 0.267 & 0.383 & 0.087\\\\\n",
       "\t  400  & 0.268 & 0.258 & 0.412 & 0.062\\\\\n",
       "\t  500  & 0.266 & 0.282 & 0.380 & 0.072\\\\\n",
       "\t  600  & 0.253 & 0.228 & 0.445 & 0.073\\\\\n",
       "\t  700  & 0.286 & 0.291 & 0.371 & 0.051\\\\\n",
       "\t  800  & 0.276 & 0.285 & 0.385 & 0.054\\\\\n",
       "\t  900  & 0.259 & 0.271 & 0.401 & 0.069\\\\\n",
       "\t 1000  & 0.240 & 0.273 & 0.424 & 0.063\\\\\n",
       "\t 1100  & 0.292 & 0.274 & 0.369 & 0.065\\\\\n",
       "\t 1200  & 0.269 & 0.274 & 0.388 & 0.068\\\\\n",
       "\t 1300  & 0.255 & 0.255 & 0.426 & 0.064\\\\\n",
       "\t 1400  & 0.266 & 0.273 & 0.395 & 0.066\\\\\n",
       "\t 1500  & 0.259 & 0.251 & 0.427 & 0.063\\\\\n",
       "\t 1600  & 0.243 & 0.264 & 0.422 & 0.071\\\\\n",
       "\t 1700  & 0.276 & 0.271 & 0.379 & 0.073\\\\\n",
       "\t 1800  & 0.263 & 0.266 & 0.407 & 0.064\\\\\n",
       "\t 1900  & 0.255 & 0.291 & 0.390 & 0.065\\\\\n",
       "\t 2000  & 0.274 & 0.256 & 0.403 & 0.067\\\\\n",
       "\t 2100  & 0.274 & 0.275 & 0.380 & 0.072\\\\\n",
       "\t 2200  & 0.255 & 0.267 & 0.408 & 0.070\\\\\n",
       "\t 2300  & 0.257 & 0.281 & 0.393 & 0.069\\\\\n",
       "\t 2400  & 0.280 & 0.272 & 0.388 & 0.060\\\\\n",
       "\t 2500  & 0.267 & 0.270 & 0.398 & 0.065\\\\\n",
       "\t 2600  & 0.253 & 0.258 & 0.417 & 0.072\\\\\n",
       "\t 2700  & 0.269 & 0.262 & 0.402 & 0.066\\\\\n",
       "\t 2800  & 0.262 & 0.259 & 0.414 & 0.065\\\\\n",
       "\t 2900  & 0.260 & 0.261 & 0.409 & 0.070\\\\\n",
       "\t 3000  & 0.263 & 0.272 & 0.399 & 0.066\\\\\n",
       "\t ... & ... & ... & ... & ...\\\\\n",
       "\t  7100 & 0.267 & 0.264 & 0.402 & 0.067\\\\\n",
       "\t  7200 & 0.254 & 0.267 & 0.409 & 0.070\\\\\n",
       "\t  7300 & 0.259 & 0.272 & 0.400 & 0.068\\\\\n",
       "\t  7400 & 0.267 & 0.269 & 0.394 & 0.069\\\\\n",
       "\t  7500 & 0.268 & 0.273 & 0.395 & 0.064\\\\\n",
       "\t  7600 & 0.260 & 0.267 & 0.405 & 0.067\\\\\n",
       "\t  7700 & 0.270 & 0.260 & 0.404 & 0.066\\\\\n",
       "\t  7800 & 0.269 & 0.267 & 0.401 & 0.063\\\\\n",
       "\t  7900 & 0.272 & 0.258 & 0.402 & 0.067\\\\\n",
       "\t  8000 & 0.265 & 0.268 & 0.403 & 0.064\\\\\n",
       "\t  8100 & 0.269 & 0.265 & 0.400 & 0.066\\\\\n",
       "\t  8200 & 0.266 & 0.274 & 0.394 & 0.066\\\\\n",
       "\t  8300 & 0.269 & 0.271 & 0.397 & 0.063\\\\\n",
       "\t  8400 & 0.259 & 0.274 & 0.401 & 0.066\\\\\n",
       "\t  8500 & 0.272 & 0.261 & 0.401 & 0.066\\\\\n",
       "\t  8600 & 0.262 & 0.275 & 0.396 & 0.066\\\\\n",
       "\t  8700 & 0.265 & 0.263 & 0.405 & 0.067\\\\\n",
       "\t  8800 & 0.259 & 0.276 & 0.400 & 0.066\\\\\n",
       "\t  8900 & 0.267 & 0.268 & 0.400 & 0.066\\\\\n",
       "\t  9000 & 0.269 & 0.272 & 0.398 & 0.061\\\\\n",
       "\t  9100 & 0.266 & 0.263 & 0.410 & 0.060\\\\\n",
       "\t  9200 & 0.268 & 0.265 & 0.397 & 0.071\\\\\n",
       "\t  9300 & 0.263 & 0.262 & 0.409 & 0.066\\\\\n",
       "\t  9400 & 0.259 & 0.271 & 0.401 & 0.068\\\\\n",
       "\t  9500 & 0.271 & 0.261 & 0.404 & 0.064\\\\\n",
       "\t  9600 & 0.265 & 0.266 & 0.402 & 0.067\\\\\n",
       "\t  9700 & 0.262 & 0.272 & 0.401 & 0.064\\\\\n",
       "\t  9800 & 0.273 & 0.266 & 0.393 & 0.068\\\\\n",
       "\t  9900 & 0.273 & 0.265 & 0.399 & 0.062\\\\\n",
       "\t 10000 & 0.274 & 0.259 & 0.396 & 0.071\\\\\n",
       "\\end{tabular}\n"
      ],
      "text/markdown": [
       "\n",
       "| Attempts | FDSG | FGSD | FGSG | FDSD |\n",
       "|---|---|---|---|---|\n",
       "|  100  | 0.240 | 0.250 | 0.410 | 0.100 |\n",
       "|  200  | 0.265 | 0.300 | 0.395 | 0.040 |\n",
       "|  300  | 0.263 | 0.267 | 0.383 | 0.087 |\n",
       "|  400  | 0.268 | 0.258 | 0.412 | 0.062 |\n",
       "|  500  | 0.266 | 0.282 | 0.380 | 0.072 |\n",
       "|  600  | 0.253 | 0.228 | 0.445 | 0.073 |\n",
       "|  700  | 0.286 | 0.291 | 0.371 | 0.051 |\n",
       "|  800  | 0.276 | 0.285 | 0.385 | 0.054 |\n",
       "|  900  | 0.259 | 0.271 | 0.401 | 0.069 |\n",
       "| 1000  | 0.240 | 0.273 | 0.424 | 0.063 |\n",
       "| 1100  | 0.292 | 0.274 | 0.369 | 0.065 |\n",
       "| 1200  | 0.269 | 0.274 | 0.388 | 0.068 |\n",
       "| 1300  | 0.255 | 0.255 | 0.426 | 0.064 |\n",
       "| 1400  | 0.266 | 0.273 | 0.395 | 0.066 |\n",
       "| 1500  | 0.259 | 0.251 | 0.427 | 0.063 |\n",
       "| 1600  | 0.243 | 0.264 | 0.422 | 0.071 |\n",
       "| 1700  | 0.276 | 0.271 | 0.379 | 0.073 |\n",
       "| 1800  | 0.263 | 0.266 | 0.407 | 0.064 |\n",
       "| 1900  | 0.255 | 0.291 | 0.390 | 0.065 |\n",
       "| 2000  | 0.274 | 0.256 | 0.403 | 0.067 |\n",
       "| 2100  | 0.274 | 0.275 | 0.380 | 0.072 |\n",
       "| 2200  | 0.255 | 0.267 | 0.408 | 0.070 |\n",
       "| 2300  | 0.257 | 0.281 | 0.393 | 0.069 |\n",
       "| 2400  | 0.280 | 0.272 | 0.388 | 0.060 |\n",
       "| 2500  | 0.267 | 0.270 | 0.398 | 0.065 |\n",
       "| 2600  | 0.253 | 0.258 | 0.417 | 0.072 |\n",
       "| 2700  | 0.269 | 0.262 | 0.402 | 0.066 |\n",
       "| 2800  | 0.262 | 0.259 | 0.414 | 0.065 |\n",
       "| 2900  | 0.260 | 0.261 | 0.409 | 0.070 |\n",
       "| 3000  | 0.263 | 0.272 | 0.399 | 0.066 |\n",
       "| ... | ... | ... | ... | ... |\n",
       "|  7100 | 0.267 | 0.264 | 0.402 | 0.067 |\n",
       "|  7200 | 0.254 | 0.267 | 0.409 | 0.070 |\n",
       "|  7300 | 0.259 | 0.272 | 0.400 | 0.068 |\n",
       "|  7400 | 0.267 | 0.269 | 0.394 | 0.069 |\n",
       "|  7500 | 0.268 | 0.273 | 0.395 | 0.064 |\n",
       "|  7600 | 0.260 | 0.267 | 0.405 | 0.067 |\n",
       "|  7700 | 0.270 | 0.260 | 0.404 | 0.066 |\n",
       "|  7800 | 0.269 | 0.267 | 0.401 | 0.063 |\n",
       "|  7900 | 0.272 | 0.258 | 0.402 | 0.067 |\n",
       "|  8000 | 0.265 | 0.268 | 0.403 | 0.064 |\n",
       "|  8100 | 0.269 | 0.265 | 0.400 | 0.066 |\n",
       "|  8200 | 0.266 | 0.274 | 0.394 | 0.066 |\n",
       "|  8300 | 0.269 | 0.271 | 0.397 | 0.063 |\n",
       "|  8400 | 0.259 | 0.274 | 0.401 | 0.066 |\n",
       "|  8500 | 0.272 | 0.261 | 0.401 | 0.066 |\n",
       "|  8600 | 0.262 | 0.275 | 0.396 | 0.066 |\n",
       "|  8700 | 0.265 | 0.263 | 0.405 | 0.067 |\n",
       "|  8800 | 0.259 | 0.276 | 0.400 | 0.066 |\n",
       "|  8900 | 0.267 | 0.268 | 0.400 | 0.066 |\n",
       "|  9000 | 0.269 | 0.272 | 0.398 | 0.061 |\n",
       "|  9100 | 0.266 | 0.263 | 0.410 | 0.060 |\n",
       "|  9200 | 0.268 | 0.265 | 0.397 | 0.071 |\n",
       "|  9300 | 0.263 | 0.262 | 0.409 | 0.066 |\n",
       "|  9400 | 0.259 | 0.271 | 0.401 | 0.068 |\n",
       "|  9500 | 0.271 | 0.261 | 0.404 | 0.064 |\n",
       "|  9600 | 0.265 | 0.266 | 0.402 | 0.067 |\n",
       "|  9700 | 0.262 | 0.272 | 0.401 | 0.064 |\n",
       "|  9800 | 0.273 | 0.266 | 0.393 | 0.068 |\n",
       "|  9900 | 0.273 | 0.265 | 0.399 | 0.062 |\n",
       "| 10000 | 0.274 | 0.259 | 0.396 | 0.071 |\n",
       "\n"
      ],
      "text/plain": [
       "    Attempts FDSG  FGSD  FGSG  FDSD \n",
       "1    100     0.240 0.250 0.410 0.100\n",
       "2    200     0.265 0.300 0.395 0.040\n",
       "3    300     0.263 0.267 0.383 0.087\n",
       "4    400     0.268 0.258 0.412 0.062\n",
       "5    500     0.266 0.282 0.380 0.072\n",
       "6    600     0.253 0.228 0.445 0.073\n",
       "7    700     0.286 0.291 0.371 0.051\n",
       "8    800     0.276 0.285 0.385 0.054\n",
       "9    900     0.259 0.271 0.401 0.069\n",
       "10  1000     0.240 0.273 0.424 0.063\n",
       "11  1100     0.292 0.274 0.369 0.065\n",
       "12  1200     0.269 0.274 0.388 0.068\n",
       "13  1300     0.255 0.255 0.426 0.064\n",
       "14  1400     0.266 0.273 0.395 0.066\n",
       "15  1500     0.259 0.251 0.427 0.063\n",
       "16  1600     0.243 0.264 0.422 0.071\n",
       "17  1700     0.276 0.271 0.379 0.073\n",
       "18  1800     0.263 0.266 0.407 0.064\n",
       "19  1900     0.255 0.291 0.390 0.065\n",
       "20  2000     0.274 0.256 0.403 0.067\n",
       "21  2100     0.274 0.275 0.380 0.072\n",
       "22  2200     0.255 0.267 0.408 0.070\n",
       "23  2300     0.257 0.281 0.393 0.069\n",
       "24  2400     0.280 0.272 0.388 0.060\n",
       "25  2500     0.267 0.270 0.398 0.065\n",
       "26  2600     0.253 0.258 0.417 0.072\n",
       "27  2700     0.269 0.262 0.402 0.066\n",
       "28  2800     0.262 0.259 0.414 0.065\n",
       "29  2900     0.260 0.261 0.409 0.070\n",
       "30  3000     0.263 0.272 0.399 0.066\n",
       "... ...      ...   ...   ...   ...  \n",
       "71   7100    0.267 0.264 0.402 0.067\n",
       "72   7200    0.254 0.267 0.409 0.070\n",
       "73   7300    0.259 0.272 0.400 0.068\n",
       "74   7400    0.267 0.269 0.394 0.069\n",
       "75   7500    0.268 0.273 0.395 0.064\n",
       "76   7600    0.260 0.267 0.405 0.067\n",
       "77   7700    0.270 0.260 0.404 0.066\n",
       "78   7800    0.269 0.267 0.401 0.063\n",
       "79   7900    0.272 0.258 0.402 0.067\n",
       "80   8000    0.265 0.268 0.403 0.064\n",
       "81   8100    0.269 0.265 0.400 0.066\n",
       "82   8200    0.266 0.274 0.394 0.066\n",
       "83   8300    0.269 0.271 0.397 0.063\n",
       "84   8400    0.259 0.274 0.401 0.066\n",
       "85   8500    0.272 0.261 0.401 0.066\n",
       "86   8600    0.262 0.275 0.396 0.066\n",
       "87   8700    0.265 0.263 0.405 0.067\n",
       "88   8800    0.259 0.276 0.400 0.066\n",
       "89   8900    0.267 0.268 0.400 0.066\n",
       "90   9000    0.269 0.272 0.398 0.061\n",
       "91   9100    0.266 0.263 0.410 0.060\n",
       "92   9200    0.268 0.265 0.397 0.071\n",
       "93   9300    0.263 0.262 0.409 0.066\n",
       "94   9400    0.259 0.271 0.401 0.068\n",
       "95   9500    0.271 0.261 0.404 0.064\n",
       "96   9600    0.265 0.266 0.402 0.067\n",
       "97   9700    0.262 0.272 0.401 0.064\n",
       "98   9800    0.273 0.266 0.393 0.068\n",
       "99   9900    0.273 0.265 0.399 0.062\n",
       "100 10000    0.274 0.259 0.396 0.071"
      ]
     },
     "metadata": {},
     "output_type": "display_data"
    }
   ],
   "source": [
    "batterychoices = batteryAttempts(Pop=c(0,0,1,1,1,1), prob=rep(1/6, 6), from=100, to=10000, size=100, choices=2)\n",
    "batterychoices"
   ]
  },
  {
   "cell_type": "code",
   "execution_count": 289,
   "id": "54673b82-f626-4ace-a0bc-aa99e933b572",
   "metadata": {},
   "outputs": [
    {
     "data": {
      "text/html": [
       "<table>\n",
       "<thead><tr><th></th><th scope=col>FirstDead</th><th scope=col>FirstGood</th><th scope=col>MGPFB</th></tr></thead>\n",
       "<tbody>\n",
       "\t<tr><th scope=row>SecondDead</th><td>0.067</td><td>0.267</td><td>0.334</td></tr>\n",
       "\t<tr><th scope=row>SecondGood</th><td>0.267</td><td>0.400</td><td>0.667</td></tr>\n",
       "\t<tr><th scope=row>MGPSB</th><td>0.334</td><td>0.667</td><td>1.001</td></tr>\n",
       "</tbody>\n",
       "</table>\n"
      ],
      "text/latex": [
       "\\begin{tabular}{r|lll}\n",
       "  & FirstDead & FirstGood & MGPFB\\\\\n",
       "\\hline\n",
       "\tSecondDead & 0.067 & 0.267 & 0.334\\\\\n",
       "\tSecondGood & 0.267 & 0.400 & 0.667\\\\\n",
       "\tMGPSB & 0.334 & 0.667 & 1.001\\\\\n",
       "\\end{tabular}\n"
      ],
      "text/markdown": [
       "\n",
       "| <!--/--> | FirstDead | FirstGood | MGPFB |\n",
       "|---|---|---|---|\n",
       "| SecondDead | 0.067 | 0.267 | 0.334 |\n",
       "| SecondGood | 0.267 | 0.400 | 0.667 |\n",
       "| MGPSB | 0.334 | 0.667 | 1.001 |\n",
       "\n"
      ],
      "text/plain": [
       "           FirstDead FirstGood MGPFB\n",
       "SecondDead 0.067     0.267     0.334\n",
       "SecondGood 0.267     0.400     0.667\n",
       "MGPSB      0.334     0.667     1.001"
      ]
     },
     "metadata": {},
     "output_type": "display_data"
    }
   ],
   "source": [
    "JointEvents"
   ]
  },
  {
   "cell_type": "code",
   "execution_count": 293,
   "id": "ef8d310a-4268-4429-a074-c4e59aa60703",
   "metadata": {},
   "outputs": [
    {
     "data": {
      "image/png": "[encoded data removed]",
      "text/plain": [
       "plot without title"
      ]
     },
     "metadata": {},
     "output_type": "display_data"
    }
   ],
   "source": [
    "# Now we will make a fully detailed plot b/w samplesize and all events probability.\n",
    "\n",
    "# making a blank plot with both axis.\n",
    "plot(x= batterychoices[,1], y=batterychoices[,2], type='n', ylim=c(0,0.5))\n",
    "count = 2\n",
    "col_num = 2\n",
    "EventNames = c(\"FDSG\",\"FGSD\",\"FGSG\", \"FDSD\")\n",
    "for (i in EventNames){\n",
    "    count = count+1\n",
    "    \n",
    "    # Now we will use for loop to draw all the probability lines with points.\n",
    "    lines(x=batterychoices[,1], y=batterychoices[,i], col=count+8)\n",
    "    points(x=batterychoices[,1], y=batterychoices[,i], col=2, cex = 0.5,pch=16) # points on the prob. lines.\n",
    "    abline(a=1,b=0, h=mean(batterychoices[,i]), lty=2)  # making a porb line.\n",
    "    \n",
    "    #text(y=mean(EventsProb[,i]),x=50000,label=c(i))\n",
    "    #prob_i = format(round(mean(EventsProb[,i]),2), nsmall=3)\n",
    "    col_num = col_num+1\n",
    "    \n",
    "}\n"
   ]
  },
  {
   "cell_type": "code",
   "execution_count": null,
   "id": "9e67818c-ad1b-4995-81c2-e3eff7443bd3",
   "metadata": {},
   "outputs": [],
   "source": []
  },
  {
   "cell_type": "code",
   "execution_count": null,
   "id": "1d64086b-a249-412e-aeed-c4d779bc6a94",
   "metadata": {},
   "outputs": [],
   "source": []
  },
  {
   "cell_type": "markdown",
   "id": "391a1a79-a97f-4299-a1da-7a6565ad194b",
   "metadata": {},
   "source": [
    "## Combination and Permutations"
   ]
  },
  {
   "cell_type": "markdown",
   "id": "c871be70-708b-4232-909f-d5c03fe453cf",
   "metadata": {},
   "source": [
    "Probability theory helps us to determine characterstics of a population from a random sample. A random sample is chosen so that every object, event, or individual in the population has an equal chnace of being selected.\n",
    "\n",
    "The probability that the object, event, or individual will be selected is based upon the relative frequency of occurence of the object, envent, or individual in the propulation.\n",
    "\n",
    "        For example:\n",
    "            \n",
    "            IF population consisted of 1,000 individuals with 700 mens and 300 womens. then the probability of selecting a male is .70% and selecting the women is .30%.\n",
    "\n",
    "\n",
    "**Probability theory operates under seven fundamental rules.**\n",
    "\n",
    "1. The probability of a single event occurring in a set of equally likely events is one divided by the number of events.\n",
    "    * For example: a single marble from a set of 100 marbles ahs 1/100 chance of being selected.\n",
    "    * P(single event) = 1/N\n",
    "    \n",
    "2. if there is more than one event in a group, then the probability of selecting an event from the group is equal to the group frequency divided by the number of events.\n",
    "    * For example: a set of 100 marbles contian 29 red,5 green, 20 yellow, and 10 black. The probabillity of picking a black marble is 10/100 or 1/10.\n",
    "    * P(Group|Single event) = group frequency/N\n",
    "\n",
    "3. The probability of an event ranges b/w 0 and 1, ther is no negative probabilities and no probabilities greater than 1, probability ranges b/w 0 and 1 in equally likely chance events.\n",
    "\n",
    "4. The sum of the probabilities in a population equal one, the sum of all frequencies of occurrence equal 1.\n",
    "\n",
    "5. The probability of an event occuring plus the probability of an event not occuring is equal to one. if probability of selecting a black marble is 1/10, then the probability of not selecting a black marble is 9/10. (*P + Q = 1*)\n",
    "    * where P = probability\n",
    "    * Q = 1- probability\n",
    "\n",
    "\n",
    "6. `Addition law of probability:`The probability  that any one event from a set of mutually exclusive events will occur is the sum of porbabilities.\n",
    "    * The probability of selecting a black marble (10/100) or yellow marble (20/100)  is the sum of their individual probabilities.\n",
    "    * P(B or Y) = P(B) + P(Y)\n",
    "    \n",
    "7. `Multiplication law of probability:`The probability that a combination of independent events will occur is the product of their separate probabilities.\n",
    "    * Assuming sampling with replacement, the probability that a yellow marble will be selected the first time (2/10) and the probability that a yellow marble will be selected the second time (2/10) combine by multiplication to produce the probabiltiy of getting a yellow marble on both selection.\n",
    "    * p(Y and Y) = p(Y) x p(Y)"
   ]
  },
  {
   "cell_type": "code",
   "execution_count": null,
   "id": "28168a49-cbb5-463d-a3a4-cd8ec83cb47d",
   "metadata": {},
   "outputs": [],
   "source": []
  },
  {
   "cell_type": "markdown",
   "id": "6242b2fb-c384-4b42-9ec6-d4fee491a11f",
   "metadata": {},
   "source": [
    "___"
   ]
  },
  {
   "cell_type": "markdown",
   "id": "63df309a-e683-4401-99e9-658b968d83d9",
   "metadata": {},
   "source": [
    "### Birthday Problem\n",
    "\n",
    "In birthday problem we will check that randomaly chosen two man or women have common birthday or not. for this we will make a simulation program in which we will selecet randomaly from 2 to 50 in  each iteration. we will generate 1000 sample to get the better result."
   ]
  },
  {
   "cell_type": "markdown",
   "id": "77eec9c0-c2ec-439d-ab53-621bed82ab16",
   "metadata": {},
   "source": [
    "**Steps:**"
   ]
  },
  {
   "cell_type": "markdown",
   "id": "75d5be27-2bbd-4b95-9038-51e7b1b40a49",
   "metadata": {},
   "source": [
    "1. First we need to generate to vector numPeople or replicationSize. numPeople contain the number of people to be choosen in a each iteration and replicationSize define the total sample size or we can say that how many times we have seleted people on same numPeople.\n",
    "\n",
    "2. After generating the seq for numPeople and replication we need to make sample of number of randomaly selected people events.\n",
    "3. Now we need to calculate that how many time we have duplicate in our randomaly selected .\n",
    "4. Now we will count occurance of duplicate with each iteration.\n",
    "5. Now after loop we need to devide the total numbero of occurance of duplicate we need to devide it with total number of iteration or replication value.\n",
    "6. Now we have the probability of having duplicate in a given samplesize.\n",
    "\n",
    "Note: Probability of having common birthday will increase by increasing then number of samplesize.\n",
    "\n",
    "Note: we will make function for each steps so we can avoide any mistakes. or also to avoid the too much complex fucntoin structure."
   ]
  },
  {
   "cell_type": "markdown",
   "id": "ba444d75-9123-47a2-ab06-57186d32245c",
   "metadata": {},
   "source": [
    "**Task:1 Generating numPeople and replication vector**"
   ]
  },
  {
   "cell_type": "code",
   "execution_count": 1,
   "id": "cbb8e045-f8d7-4e77-876c-7209771dbb32",
   "metadata": {},
   "outputs": [],
   "source": [
    "numPeople = c(1:50) # we will choose up to 50 men \n",
    "replicationSize = 1000 # we will generate 1000 selection from a sample\n",
    "Population = c(1:365)  # we have total 365 day (birthdates.) "
   ]
  },
  {
   "cell_type": "code",
   "execution_count": 19,
   "id": "5cf2724f-5eff-44c2-92de-b33d79e720a7",
   "metadata": {},
   "outputs": [],
   "source": [
    "# This problem can be taken in different case but in this we will have a class of 30 student.\\\n",
    "StudentClassSize = sample(x=c(1:365), prob=rep(1/365,365), size=30, replace=TRUE)"
   ]
  },
  {
   "cell_type": "code",
   "execution_count": 21,
   "id": "4f62f43d-ff3d-4111-a926-3378d9350580",
   "metadata": {},
   "outputs": [
    {
     "name": "stdout",
     "output_type": "stream",
     "text": [
      " [1] 243 231  11  99 128 308 232 172 262 247   1  22 173 315  28 167 141  27  23\n",
      "[20] 205 145 211 355 341 211 361  93 153 214 132\n"
     ]
    }
   ],
   "source": [
    "print(StudentClassSize)"
   ]
  },
  {
   "cell_type": "markdown",
   "id": "d6f49339-0483-40a3-892c-723ce2249c5d",
   "metadata": {},
   "source": [
    "**Task:2 Now we need to generate a sample for each iteration.**\n",
    "\n",
    "first we will test our code then we will put it into a function."
   ]
  },
  {
   "cell_type": "code",
   "execution_count": 85,
   "id": "f9d6a298-fc11-489a-bb98-14129a9c8748",
   "metadata": {},
   "outputs": [
    {
     "data": {
      "text/html": [
       "0.704"
      ],
      "text/latex": [
       "0.704"
      ],
      "text/markdown": [
       "0.704"
      ],
      "text/plain": [
       "[1] 0.704"
      ]
     },
     "metadata": {},
     "output_type": "display_data"
    }
   ],
   "source": [
    "# generating sample for selection two birthday date.\n",
    "\n",
    "# Now we need to make a for loop to run 1000 time to generate a sample of choosen bdays.\n",
    "Probfactor = length(StudentClassSize)\n",
    "Duplication = vector(length= replicationSize)  # to store the values of True or False of having duplicate in a sample \n",
    "for (i in 1:replicationSize){\n",
    "    \n",
    "    StudentClassSize = sample(x=Population, prob=rep(1/365,365), size=30, replace=TRUE)\n",
    "\n",
    "   # Now we need check that we have any duplicate or not\n",
    "    DupResult = duplicated(StudentClassSize)\n",
    "    \n",
    "    # Now if we have any duplicate then we need to count it and we need to put into the duplication vector\n",
    "    Duplication[i] = any(DupResult)\n",
    "}\n",
    "# **Now we need to get the frequency of getting duplicate**\n",
    "# deviding the sum of Duplication with total number of repitation.\n",
    "DupFreq = sum(Duplication)/replicationSize\n",
    "DupFreq"
   ]
  },
  {
   "cell_type": "markdown",
   "id": "a8a59ad0-2885-43ab-9e0e-069e29f09727",
   "metadata": {},
   "source": [
    "**Now we will put the above code into a function**"
   ]
  },
  {
   "cell_type": "code",
   "execution_count": 86,
   "id": "2dd00b2d-d430-40bd-be83-a7eee0498e06",
   "metadata": {},
   "outputs": [],
   "source": [
    "DuplicateFreq = function(Population, SampleSize=30, replicationSize=1000){\n",
    "    \n",
    "    # Population: it the population of all the birthday dates form 1 to 365\n",
    "    # SampleSize: it the size of sample which defines that how many people will be selected from the population\n",
    "    \n",
    "    # Now we need a vector which will store the duplication result TRUE , FALSE values.\n",
    "    Duplication = vector(length= SampleSize)\n",
    "    \n",
    "    # Now we need to  run the for loop \n",
    "    \n",
    "    for (i in 1:replicationSize){\n",
    "        \n",
    "        PeopleSample = sample(x=Population, prob=rep(1/365,365), size=SampleSize, replace=TRUE)\n",
    "\n",
    "       # Now we need check that we have any duplicate or not\n",
    "        DupResult = duplicated(PeopleSample)\n",
    "\n",
    "        # Now if we have any duplicate then we need to count it and we need to put into the duplication vector\n",
    "        Duplication[i] = any(DupResult)\n",
    "               \n",
    "    }\n",
    "    \n",
    "    # Now we need to return the final relative frequency of duplication.\n",
    "    # **Now we need to get the frequency of getting duplicate**\n",
    "    # deviding the sum of Duplication with total number of repitation.\n",
    "    DupFreq = sum(Duplication)/replicationSize\n",
    "    DupFreq\n",
    "}"
   ]
  },
  {
   "cell_type": "markdown",
   "id": "43edf94d-c8d4-4ea5-a90d-af1a823661ce",
   "metadata": {},
   "source": [
    "**testing our code**"
   ]
  },
  {
   "cell_type": "code",
   "execution_count": 88,
   "id": "869a8e94-21fe-4868-acf0-f921077b26f4",
   "metadata": {},
   "outputs": [
    {
     "data": {
      "text/html": [
       "0.687"
      ],
      "text/latex": [
       "0.687"
      ],
      "text/markdown": [
       "0.687"
      ],
      "text/plain": [
       "[1] 0.687"
      ]
     },
     "metadata": {},
     "output_type": "display_data"
    }
   ],
   "source": [
    "DuplicateFreq(Population=Population)"
   ]
  },
  {
   "cell_type": "markdown",
   "id": "4cd066f4-9138-450b-b75a-955856d0b028",
   "metadata": {},
   "source": [
    "Our code is working great, now we need to move on next step."
   ]
  },
  {
   "cell_type": "markdown",
   "id": "50efde7f-5b0d-45f7-920d-f7e250d017bc",
   "metadata": {},
   "source": [
    "**Generate the relative frequency of having duplicate of 2 values form 5 to 60 number of people samplesize**  "
   ]
  },
  {
   "cell_type": "markdown",
   "id": "a983e385-44c8-43f0-a048-9e8614fefe09",
   "metadata": {},
   "source": [
    "Now we need to run a loop on the DuplicateFreq function which will give us the probability of having duplicate with corresponding sample size"
   ]
  },
  {
   "cell_type": "code",
   "execution_count": 92,
   "id": "3ab56c53-a78d-41b7-90e2-3f878e36a701",
   "metadata": {},
   "outputs": [],
   "source": [
    "# running for loop in a seq of 5 to 60 with a step of 5.\n",
    "SampleSizes = seq(0, 60, 5)\n",
    "Dupdata = NULL\n",
    "for (i in SampleSizes){\n",
    "    \n",
    "    result = DuplicateFreq(Population=Population, SampleSize = i)\n",
    "    \n",
    "    # now we need to store the result with corresponding SampleSizes.\n",
    "    \n",
    "    if (is.null(Dupdata)){\n",
    "        \n",
    "        # if Dupdata is null then we need to intiate it.\n",
    "        Dupdata = rbind(c(SampleSize=i, Pobability_of_common_Bday=result))\n",
    "    }\n",
    "    else{\n",
    "        Dupdata = rbind(Dupdata, c(SampleSize=i, Pobability_of_common_Bday=result))\n",
    "    }\n",
    "    \n",
    "}"
   ]
  },
  {
   "cell_type": "code",
   "execution_count": 93,
   "id": "05441bac-1761-492d-99c4-0a3a48dc0813",
   "metadata": {},
   "outputs": [
    {
     "data": {
      "text/html": [
       "<table>\n",
       "<thead><tr><th scope=col>SampleSize</th><th scope=col>Pobability_of_common_Bday</th></tr></thead>\n",
       "<tbody>\n",
       "\t<tr><td> 0   </td><td>0.000</td></tr>\n",
       "\t<tr><td> 5   </td><td>0.033</td></tr>\n",
       "\t<tr><td>10   </td><td>0.123</td></tr>\n",
       "\t<tr><td>15   </td><td>0.246</td></tr>\n",
       "\t<tr><td>20   </td><td>0.439</td></tr>\n",
       "\t<tr><td>25   </td><td>0.541</td></tr>\n",
       "\t<tr><td>30   </td><td>0.698</td></tr>\n",
       "\t<tr><td>35   </td><td>0.793</td></tr>\n",
       "\t<tr><td>40   </td><td>0.880</td></tr>\n",
       "\t<tr><td>45   </td><td>0.940</td></tr>\n",
       "\t<tr><td>50   </td><td>0.967</td></tr>\n",
       "\t<tr><td>55   </td><td>0.984</td></tr>\n",
       "\t<tr><td>60   </td><td>0.992</td></tr>\n",
       "</tbody>\n",
       "</table>\n"
      ],
      "text/latex": [
       "\\begin{tabular}{ll}\n",
       " SampleSize & Pobability\\_of\\_common\\_Bday\\\\\n",
       "\\hline\n",
       "\t  0    & 0.000\\\\\n",
       "\t  5    & 0.033\\\\\n",
       "\t 10    & 0.123\\\\\n",
       "\t 15    & 0.246\\\\\n",
       "\t 20    & 0.439\\\\\n",
       "\t 25    & 0.541\\\\\n",
       "\t 30    & 0.698\\\\\n",
       "\t 35    & 0.793\\\\\n",
       "\t 40    & 0.880\\\\\n",
       "\t 45    & 0.940\\\\\n",
       "\t 50    & 0.967\\\\\n",
       "\t 55    & 0.984\\\\\n",
       "\t 60    & 0.992\\\\\n",
       "\\end{tabular}\n"
      ],
      "text/markdown": [
       "\n",
       "| SampleSize | Pobability_of_common_Bday |\n",
       "|---|---|\n",
       "|  0    | 0.000 |\n",
       "|  5    | 0.033 |\n",
       "| 10    | 0.123 |\n",
       "| 15    | 0.246 |\n",
       "| 20    | 0.439 |\n",
       "| 25    | 0.541 |\n",
       "| 30    | 0.698 |\n",
       "| 35    | 0.793 |\n",
       "| 40    | 0.880 |\n",
       "| 45    | 0.940 |\n",
       "| 50    | 0.967 |\n",
       "| 55    | 0.984 |\n",
       "| 60    | 0.992 |\n",
       "\n"
      ],
      "text/plain": [
       "      SampleSize Pobability_of_common_Bday\n",
       " [1,]  0         0.000                    \n",
       " [2,]  5         0.033                    \n",
       " [3,] 10         0.123                    \n",
       " [4,] 15         0.246                    \n",
       " [5,] 20         0.439                    \n",
       " [6,] 25         0.541                    \n",
       " [7,] 30         0.698                    \n",
       " [8,] 35         0.793                    \n",
       " [9,] 40         0.880                    \n",
       "[10,] 45         0.940                    \n",
       "[11,] 50         0.967                    \n",
       "[12,] 55         0.984                    \n",
       "[13,] 60         0.992                    "
      ]
     },
     "metadata": {},
     "output_type": "display_data"
    }
   ],
   "source": [
    "Dupdata"
   ]
  },
  {
   "cell_type": "markdown",
   "id": "c880b59b-cb26-4668-b802-3837ad79dc84",
   "metadata": {},
   "source": [
    "**puting the above code into a single funciton `BdaySim`**"
   ]
  },
  {
   "cell_type": "code",
   "execution_count": 101,
   "id": "12e84a83-b6cf-44e9-ae17-d844e623ee7f",
   "metadata": {},
   "outputs": [],
   "source": [
    "BdaySim = function(Population, SampleSizes , replicationSize = 1000){\n",
    "\n",
    "    # SampleSizes can be a single value of smaple size or a vector type array.\n",
    "\n",
    "Dupdata = NULL  # an vector to store the all the finale result.\n",
    "for (i in SampleSizes){\n",
    "    \n",
    "        result = DuplicateFreq(Population=Population, SampleSize = i, replicationSize=replicationSize)\n",
    "\n",
    "        # now we need to store the result with corresponding SampleSizes.\n",
    "\n",
    "        if (is.null(Dupdata)){\n",
    "\n",
    "            # if Dupdata is null then we need to intiate it.\n",
    "            Dupdata = rbind(c(SampleSize=i, Pobability_of_common_Bday=result))\n",
    "        }\n",
    "        else{\n",
    "            Dupdata = rbind(Dupdata, c(SampleSize=i, Pobability_of_common_Bday=result))\n",
    "        }\n",
    "\n",
    "    }\n",
    "    # Now we need to return the final result\n",
    "    Dupdata\n",
    "}"
   ]
  },
  {
   "cell_type": "code",
   "execution_count": 102,
   "id": "34664158-cf13-4b3d-84af-e1b1194bad6a",
   "metadata": {},
   "outputs": [],
   "source": [
    "Bdayresult = BdaySim(Population=Population, SampleSizes = seq(0,150,5), replicationSize = 10000)"
   ]
  },
  {
   "cell_type": "code",
   "execution_count": 103,
   "id": "3c481fb5-7638-4d13-986a-09f71eb7d9dd",
   "metadata": {},
   "outputs": [
    {
     "data": {
      "text/html": [
       "<table>\n",
       "<thead><tr><th scope=col>SampleSize</th><th scope=col>Pobability_of_common_Bday</th></tr></thead>\n",
       "<tbody>\n",
       "\t<tr><td>  0   </td><td>0.0000</td></tr>\n",
       "\t<tr><td>  5   </td><td>0.0243</td></tr>\n",
       "\t<tr><td> 10   </td><td>0.1193</td></tr>\n",
       "\t<tr><td> 15   </td><td>0.2541</td></tr>\n",
       "\t<tr><td> 20   </td><td>0.4080</td></tr>\n",
       "\t<tr><td> 25   </td><td>0.5657</td></tr>\n",
       "\t<tr><td> 30   </td><td>0.7043</td></tr>\n",
       "\t<tr><td> 35   </td><td>0.8180</td></tr>\n",
       "\t<tr><td> 40   </td><td>0.8992</td></tr>\n",
       "\t<tr><td> 45   </td><td>0.9438</td></tr>\n",
       "\t<tr><td> 50   </td><td>0.9713</td></tr>\n",
       "\t<tr><td> 55   </td><td>0.9851</td></tr>\n",
       "\t<tr><td> 60   </td><td>0.9944</td></tr>\n",
       "\t<tr><td> 65   </td><td>0.9975</td></tr>\n",
       "\t<tr><td> 70   </td><td>0.9993</td></tr>\n",
       "\t<tr><td> 75   </td><td>0.9996</td></tr>\n",
       "\t<tr><td> 80   </td><td>1.0000</td></tr>\n",
       "\t<tr><td> 85   </td><td>1.0000</td></tr>\n",
       "\t<tr><td> 90   </td><td>1.0000</td></tr>\n",
       "\t<tr><td> 95   </td><td>1.0000</td></tr>\n",
       "\t<tr><td>100   </td><td>1.0000</td></tr>\n",
       "\t<tr><td>105   </td><td>1.0000</td></tr>\n",
       "\t<tr><td>110   </td><td>1.0000</td></tr>\n",
       "\t<tr><td>115   </td><td>1.0000</td></tr>\n",
       "\t<tr><td>120   </td><td>1.0000</td></tr>\n",
       "\t<tr><td>125   </td><td>1.0000</td></tr>\n",
       "\t<tr><td>130   </td><td>1.0000</td></tr>\n",
       "\t<tr><td>135   </td><td>1.0000</td></tr>\n",
       "\t<tr><td>140   </td><td>1.0000</td></tr>\n",
       "\t<tr><td>145   </td><td>1.0000</td></tr>\n",
       "\t<tr><td>150   </td><td>1.0000</td></tr>\n",
       "</tbody>\n",
       "</table>\n"
      ],
      "text/latex": [
       "\\begin{tabular}{ll}\n",
       " SampleSize & Pobability\\_of\\_common\\_Bday\\\\\n",
       "\\hline\n",
       "\t   0    & 0.0000\\\\\n",
       "\t   5    & 0.0243\\\\\n",
       "\t  10    & 0.1193\\\\\n",
       "\t  15    & 0.2541\\\\\n",
       "\t  20    & 0.4080\\\\\n",
       "\t  25    & 0.5657\\\\\n",
       "\t  30    & 0.7043\\\\\n",
       "\t  35    & 0.8180\\\\\n",
       "\t  40    & 0.8992\\\\\n",
       "\t  45    & 0.9438\\\\\n",
       "\t  50    & 0.9713\\\\\n",
       "\t  55    & 0.9851\\\\\n",
       "\t  60    & 0.9944\\\\\n",
       "\t  65    & 0.9975\\\\\n",
       "\t  70    & 0.9993\\\\\n",
       "\t  75    & 0.9996\\\\\n",
       "\t  80    & 1.0000\\\\\n",
       "\t  85    & 1.0000\\\\\n",
       "\t  90    & 1.0000\\\\\n",
       "\t  95    & 1.0000\\\\\n",
       "\t 100    & 1.0000\\\\\n",
       "\t 105    & 1.0000\\\\\n",
       "\t 110    & 1.0000\\\\\n",
       "\t 115    & 1.0000\\\\\n",
       "\t 120    & 1.0000\\\\\n",
       "\t 125    & 1.0000\\\\\n",
       "\t 130    & 1.0000\\\\\n",
       "\t 135    & 1.0000\\\\\n",
       "\t 140    & 1.0000\\\\\n",
       "\t 145    & 1.0000\\\\\n",
       "\t 150    & 1.0000\\\\\n",
       "\\end{tabular}\n"
      ],
      "text/markdown": [
       "\n",
       "| SampleSize | Pobability_of_common_Bday |\n",
       "|---|---|\n",
       "|   0    | 0.0000 |\n",
       "|   5    | 0.0243 |\n",
       "|  10    | 0.1193 |\n",
       "|  15    | 0.2541 |\n",
       "|  20    | 0.4080 |\n",
       "|  25    | 0.5657 |\n",
       "|  30    | 0.7043 |\n",
       "|  35    | 0.8180 |\n",
       "|  40    | 0.8992 |\n",
       "|  45    | 0.9438 |\n",
       "|  50    | 0.9713 |\n",
       "|  55    | 0.9851 |\n",
       "|  60    | 0.9944 |\n",
       "|  65    | 0.9975 |\n",
       "|  70    | 0.9993 |\n",
       "|  75    | 0.9996 |\n",
       "|  80    | 1.0000 |\n",
       "|  85    | 1.0000 |\n",
       "|  90    | 1.0000 |\n",
       "|  95    | 1.0000 |\n",
       "| 100    | 1.0000 |\n",
       "| 105    | 1.0000 |\n",
       "| 110    | 1.0000 |\n",
       "| 115    | 1.0000 |\n",
       "| 120    | 1.0000 |\n",
       "| 125    | 1.0000 |\n",
       "| 130    | 1.0000 |\n",
       "| 135    | 1.0000 |\n",
       "| 140    | 1.0000 |\n",
       "| 145    | 1.0000 |\n",
       "| 150    | 1.0000 |\n",
       "\n"
      ],
      "text/plain": [
       "      SampleSize Pobability_of_common_Bday\n",
       " [1,]   0        0.0000                   \n",
       " [2,]   5        0.0243                   \n",
       " [3,]  10        0.1193                   \n",
       " [4,]  15        0.2541                   \n",
       " [5,]  20        0.4080                   \n",
       " [6,]  25        0.5657                   \n",
       " [7,]  30        0.7043                   \n",
       " [8,]  35        0.8180                   \n",
       " [9,]  40        0.8992                   \n",
       "[10,]  45        0.9438                   \n",
       "[11,]  50        0.9713                   \n",
       "[12,]  55        0.9851                   \n",
       "[13,]  60        0.9944                   \n",
       "[14,]  65        0.9975                   \n",
       "[15,]  70        0.9993                   \n",
       "[16,]  75        0.9996                   \n",
       "[17,]  80        1.0000                   \n",
       "[18,]  85        1.0000                   \n",
       "[19,]  90        1.0000                   \n",
       "[20,]  95        1.0000                   \n",
       "[21,] 100        1.0000                   \n",
       "[22,] 105        1.0000                   \n",
       "[23,] 110        1.0000                   \n",
       "[24,] 115        1.0000                   \n",
       "[25,] 120        1.0000                   \n",
       "[26,] 125        1.0000                   \n",
       "[27,] 130        1.0000                   \n",
       "[28,] 135        1.0000                   \n",
       "[29,] 140        1.0000                   \n",
       "[30,] 145        1.0000                   \n",
       "[31,] 150        1.0000                   "
      ]
     },
     "metadata": {},
     "output_type": "display_data"
    }
   ],
   "source": [
    "Bdayresult"
   ]
  },
  {
   "cell_type": "code",
   "execution_count": 112,
   "id": "6b500ec0-0365-4ce4-b42f-08da0c718265",
   "metadata": {},
   "outputs": [
    {
     "data": {
      "image/png": "[encoded data removed]",
      "text/plain": [
       "plot without title"
      ]
     },
     "metadata": {},
     "output_type": "display_data"
    }
   ],
   "source": [
    "plot(Bdayresult, type='l', col=2, xlab=\"SampleSize\", ylab=\"Probability of having duplicate Bday\")\n",
    "points(Bdayresult, pch=16, cex=.5, col=3)"
   ]
  },
  {
   "cell_type": "code",
   "execution_count": null,
   "id": "7c6f2301-1f61-48b7-94e3-f24fe10de893",
   "metadata": {},
   "outputs": [],
   "source": []
  }
 ],
 "metadata": {
  "kernelspec": {
   "display_name": "R",
   "language": "R",
   "name": "ir"
  },
  "language_info": {
   "codemirror_mode": "r",
   "file_extension": ".r",
   "mimetype": "text/x-r-source",
   "name": "R",
   "pygments_lexer": "r",
   "version": "3.6.1"
  }
 },
 "nbformat": 4,
 "nbformat_minor": 5
}
