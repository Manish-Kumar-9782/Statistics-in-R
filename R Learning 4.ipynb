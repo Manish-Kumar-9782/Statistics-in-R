{
 "cells": [
  {
   "cell_type": "markdown",
   "id": "0da04ff8",
   "metadata": {},
   "source": [
    "# Graphing Tools\n",
    "\n",
    "In this section we will see graphing technique which are usefull in various kind of situation, every type of graphing technique is different and used to define different kind of information.\n",
    "\n",
    "**We will see**\n",
    "* Pie chart\n",
    "* Bar and Strip chart\n",
    "* Boxplot\n",
    "* Cleeland Dotplots\n",
    "* Pairplot\n",
    "* Coplot\n",
    "* Combination of plots"
   ]
  },
  {
   "cell_type": "markdown",
   "id": "53aa8ec1",
   "metadata": {},
   "source": [
    "Before ploting chart we will import a BirdFluCases dataset (avian influenza dataset) in b/w 2003 to 2008 reproduced by WHO. "
   ]
  },
  {
   "cell_type": "code",
   "execution_count": 1,
   "id": "f4ea3468",
   "metadata": {},
   "outputs": [],
   "source": [
    "# Importing the dataset\n",
    "BFcases  <- read.table(file = \"RBook/RBook/BirdFluCases.txt\", header=TRUE, fill=TRUE)\n",
    "# fill is used to fill the blank spots presentd in the dataset."
   ]
  },
  {
   "cell_type": "code",
   "execution_count": 2,
   "id": "4db340f2",
   "metadata": {},
   "outputs": [
    {
     "data": {
      "text/html": [
       "<table>\n",
       "<thead><tr><th scope=col>Year</th><th scope=col>Azerbaijan</th><th scope=col>Bangladesh</th><th scope=col>Cambodia</th><th scope=col>China</th><th scope=col>Djibouti</th><th scope=col>Egypt</th><th scope=col>Indonesia</th><th scope=col>Iraq</th><th scope=col>LaoPDR</th><th scope=col>Myanmar</th><th scope=col>Nigeria</th><th scope=col>Pakistan</th><th scope=col>Thailand</th><th scope=col>Turkey</th><th scope=col>VietNam</th></tr></thead>\n",
       "<tbody>\n",
       "\t<tr><td>2003</td><td>0   </td><td>0   </td><td>0   </td><td> 1  </td><td>0   </td><td> 0  </td><td> 0  </td><td>0   </td><td>0   </td><td>0   </td><td>0   </td><td>0   </td><td> 0  </td><td> 0  </td><td> 3  </td></tr>\n",
       "\t<tr><td>2004</td><td>0   </td><td>0   </td><td>0   </td><td> 0  </td><td>0   </td><td> 0  </td><td> 0  </td><td>0   </td><td>0   </td><td>0   </td><td>0   </td><td>0   </td><td>17  </td><td> 0  </td><td>29  </td></tr>\n",
       "\t<tr><td>2005</td><td>0   </td><td>0   </td><td>4   </td><td> 8  </td><td>0   </td><td> 0  </td><td>20  </td><td>0   </td><td>0   </td><td>0   </td><td>0   </td><td>0   </td><td> 5  </td><td> 0  </td><td>61  </td></tr>\n",
       "\t<tr><td>2006</td><td>8   </td><td>0   </td><td>2   </td><td>13  </td><td>1   </td><td>18  </td><td>55  </td><td>3   </td><td>0   </td><td>0   </td><td>0   </td><td>0   </td><td> 3  </td><td>12  </td><td> 0  </td></tr>\n",
       "\t<tr><td>2007</td><td>0   </td><td>0   </td><td>1   </td><td> 5  </td><td>0   </td><td>25  </td><td>42  </td><td>0   </td><td>2   </td><td>1   </td><td>1   </td><td>3   </td><td> 0  </td><td> 0  </td><td> 8  </td></tr>\n",
       "\t<tr><td>2008</td><td>0   </td><td>1   </td><td>0   </td><td> 3  </td><td>0   </td><td> 7  </td><td>18  </td><td>0   </td><td>0   </td><td>0   </td><td>0   </td><td>0   </td><td> 0  </td><td> 0  </td><td> 5  </td></tr>\n",
       "</tbody>\n",
       "</table>\n"
      ],
      "text/latex": [
       "\\begin{tabular}{r|llllllllllllllll}\n",
       " Year & Azerbaijan & Bangladesh & Cambodia & China & Djibouti & Egypt & Indonesia & Iraq & LaoPDR & Myanmar & Nigeria & Pakistan & Thailand & Turkey & VietNam\\\\\n",
       "\\hline\n",
       "\t 2003 & 0    & 0    & 0    &  1   & 0    &  0   &  0   & 0    & 0    & 0    & 0    & 0    &  0   &  0   &  3  \\\\\n",
       "\t 2004 & 0    & 0    & 0    &  0   & 0    &  0   &  0   & 0    & 0    & 0    & 0    & 0    & 17   &  0   & 29  \\\\\n",
       "\t 2005 & 0    & 0    & 4    &  8   & 0    &  0   & 20   & 0    & 0    & 0    & 0    & 0    &  5   &  0   & 61  \\\\\n",
       "\t 2006 & 8    & 0    & 2    & 13   & 1    & 18   & 55   & 3    & 0    & 0    & 0    & 0    &  3   & 12   &  0  \\\\\n",
       "\t 2007 & 0    & 0    & 1    &  5   & 0    & 25   & 42   & 0    & 2    & 1    & 1    & 3    &  0   &  0   &  8  \\\\\n",
       "\t 2008 & 0    & 1    & 0    &  3   & 0    &  7   & 18   & 0    & 0    & 0    & 0    & 0    &  0   &  0   &  5  \\\\\n",
       "\\end{tabular}\n"
      ],
      "text/markdown": [
       "\n",
       "| Year | Azerbaijan | Bangladesh | Cambodia | China | Djibouti | Egypt | Indonesia | Iraq | LaoPDR | Myanmar | Nigeria | Pakistan | Thailand | Turkey | VietNam |\n",
       "|---|---|---|---|---|---|---|---|---|---|---|---|---|---|---|---|\n",
       "| 2003 | 0    | 0    | 0    |  1   | 0    |  0   |  0   | 0    | 0    | 0    | 0    | 0    |  0   |  0   |  3   |\n",
       "| 2004 | 0    | 0    | 0    |  0   | 0    |  0   |  0   | 0    | 0    | 0    | 0    | 0    | 17   |  0   | 29   |\n",
       "| 2005 | 0    | 0    | 4    |  8   | 0    |  0   | 20   | 0    | 0    | 0    | 0    | 0    |  5   |  0   | 61   |\n",
       "| 2006 | 8    | 0    | 2    | 13   | 1    | 18   | 55   | 3    | 0    | 0    | 0    | 0    |  3   | 12   |  0   |\n",
       "| 2007 | 0    | 0    | 1    |  5   | 0    | 25   | 42   | 0    | 2    | 1    | 1    | 3    |  0   |  0   |  8   |\n",
       "| 2008 | 0    | 1    | 0    |  3   | 0    |  7   | 18   | 0    | 0    | 0    | 0    | 0    |  0   |  0   |  5   |\n",
       "\n"
      ],
      "text/plain": [
       "  Year Azerbaijan Bangladesh Cambodia China Djibouti Egypt Indonesia Iraq\n",
       "1 2003 0          0          0         1    0         0     0        0   \n",
       "2 2004 0          0          0         0    0         0     0        0   \n",
       "3 2005 0          0          4         8    0         0    20        0   \n",
       "4 2006 8          0          2        13    1        18    55        3   \n",
       "5 2007 0          0          1         5    0        25    42        0   \n",
       "6 2008 0          1          0         3    0         7    18        0   \n",
       "  LaoPDR Myanmar Nigeria Pakistan Thailand Turkey VietNam\n",
       "1 0      0       0       0         0        0      3     \n",
       "2 0      0       0       0        17        0     29     \n",
       "3 0      0       0       0         5        0     61     \n",
       "4 0      0       0       0         3       12      0     \n",
       "5 2      1       1       3         0        0      8     \n",
       "6 0      0       0       0         0        0      5     "
      ]
     },
     "metadata": {},
     "output_type": "display_data"
    }
   ],
   "source": [
    "head(BFcases)"
   ]
  },
  {
   "cell_type": "code",
   "execution_count": 3,
   "id": "c50d37a3",
   "metadata": {},
   "outputs": [
    {
     "name": "stdout",
     "output_type": "stream",
     "text": [
      "'data.frame':\t6 obs. of  16 variables:\n",
      " $ Year      : int  2003 2004 2005 2006 2007 2008\n",
      " $ Azerbaijan: int  0 0 0 8 0 0\n",
      " $ Bangladesh: int  0 0 0 0 0 1\n",
      " $ Cambodia  : int  0 0 4 2 1 0\n",
      " $ China     : int  1 0 8 13 5 3\n",
      " $ Djibouti  : int  0 0 0 1 0 0\n",
      " $ Egypt     : int  0 0 0 18 25 7\n",
      " $ Indonesia : int  0 0 20 55 42 18\n",
      " $ Iraq      : int  0 0 0 3 0 0\n",
      " $ LaoPDR    : int  0 0 0 0 2 0\n",
      " $ Myanmar   : int  0 0 0 0 1 0\n",
      " $ Nigeria   : int  0 0 0 0 1 0\n",
      " $ Pakistan  : int  0 0 0 0 3 0\n",
      " $ Thailand  : int  0 17 5 3 0 0\n",
      " $ Turkey    : int  0 0 0 12 0 0\n",
      " $ VietNam   : int  3 29 61 0 8 5\n"
     ]
    }
   ],
   "source": [
    "str(BFcases)"
   ]
  },
  {
   "cell_type": "markdown",
   "id": "86fba426",
   "metadata": {},
   "source": [
    "* In this data set we have 1st column as time variable in Year and all the other column represent the cases in different country  in different year."
   ]
  },
  {
   "cell_type": "markdown",
   "id": "9ffb8b48",
   "metadata": {},
   "source": [
    "## 1. Pie Chart\n",
    "\n",
    "**Task 1:** We can show the cases vs year behviour for per country\n",
    "\n",
    "**Task 2:** we can show all the cases in a year.\n",
    "\n",
    "For our purpose (for now ) we will to the second task which can show us an overall information. To plot a pit chart we need to use `pie()` function and in this we need to pass the vector."
   ]
  },
  {
   "cell_type": "code",
   "execution_count": 4,
   "id": "d778d562",
   "metadata": {},
   "outputs": [
    {
     "data": {
      "text/html": [
       "<dl class=dl-horizontal>\n",
       "\t<dt>2003</dt>\n",
       "\t\t<dd>4</dd>\n",
       "\t<dt>2004</dt>\n",
       "\t\t<dd>46</dd>\n",
       "\t<dt>2005</dt>\n",
       "\t\t<dd>98</dd>\n",
       "\t<dt>2006</dt>\n",
       "\t\t<dd>115</dd>\n",
       "\t<dt>2007</dt>\n",
       "\t\t<dd>88</dd>\n",
       "\t<dt>2008</dt>\n",
       "\t\t<dd>34</dd>\n",
       "</dl>\n"
      ],
      "text/latex": [
       "\\begin{description*}\n",
       "\\item[2003] 4\n",
       "\\item[2004] 46\n",
       "\\item[2005] 98\n",
       "\\item[2006] 115\n",
       "\\item[2007] 88\n",
       "\\item[2008] 34\n",
       "\\end{description*}\n"
      ],
      "text/markdown": [
       "2003\n",
       ":   42004\n",
       ":   462005\n",
       ":   982006\n",
       ":   1152007\n",
       ":   882008\n",
       ":   34\n",
       "\n"
      ],
      "text/plain": [
       "2003 2004 2005 2006 2007 2008 \n",
       "   4   46   98  115   88   34 "
      ]
     },
     "metadata": {},
     "output_type": "display_data"
    }
   ],
   "source": [
    "# first we need to get all the cases recorded in a year.\n",
    "Cases = rowSums(BFcases[, 2:16], na.rm=TRUE)\n",
    "\n",
    "# Now we need to add the year, that in which year these cases are recorded by using names() function\n",
    "names(Cases) = BFcases[,1]\n",
    "\n",
    "# Now we will check the output\n",
    "Cases"
   ]
  },
  {
   "cell_type": "markdown",
   "id": "0ec55e85",
   "metadata": {},
   "source": [
    "As we can see that we have got the vector having all the cases recorded per year. Now we need to plot it by using pie chart."
   ]
  },
  {
   "cell_type": "code",
   "execution_count": 5,
   "id": "c133af38",
   "metadata": {},
   "outputs": [
    {
     "data": {
      "image/png": "[encoded data removed]",
      "text/plain": [
       "Plot with title \"BirdFluCases per year\""
      ]
     },
     "metadata": {},
     "output_type": "display_data"
    }
   ],
   "source": [
    "# making pie chart\n",
    "pie(Cases, main=\"BirdFluCases per year\")"
   ]
  },
  {
   "cell_type": "markdown",
   "id": "f97f1f7e",
   "metadata": {},
   "source": [
    "As we can see that most of the cases are recorded in 2005, 2006, 2007 after that bird flu cases are dropping.\n",
    "\n",
    "Note: in this pie chart year are represented in reverse order, we need to change this by using `clockwise` argument."
   ]
  },
  {
   "cell_type": "code",
   "execution_count": 6,
   "id": "0b3a84c9",
   "metadata": {},
   "outputs": [
    {
     "data": {
      "image/png": "[encoded data removed]",
      "text/plain": [
       "Plot with title \"BirdFluCases per year\""
      ]
     },
     "metadata": {},
     "output_type": "display_data"
    }
   ],
   "source": [
    "pie(Cases, main=\"BirdFluCases per year\", clockwise=TRUE)"
   ]
  },
  {
   "cell_type": "markdown",
   "id": "9dc63603",
   "metadata": {},
   "source": [
    "##### Making different kind of pie chart in same grap"
   ]
  },
  {
   "cell_type": "code",
   "execution_count": 7,
   "id": "3427d78e",
   "metadata": {},
   "outputs": [],
   "source": [
    "# if we want to make multiple chart in the same figure or graph \n",
    "# then first we need to define it that how many chart we are going to make by using par() function\n",
    "\n",
    "# in par() function we need to define 'mfrow' which is used to define row for the graph\n",
    "par(mfrow = c(2,2)) # 2x2 means we have two row and each row contain 2 chart."
   ]
  },
  {
   "cell_type": "code",
   "execution_count": 8,
   "id": "f91c9756",
   "metadata": {},
   "outputs": [
    {
     "data": {
      "image/png": "[encoded data removed]",
      "text/plain": [
       "Plot with title \"Rainbow Chart\""
      ]
     },
     "metadata": {},
     "output_type": "display_data"
    }
   ],
   "source": [
    "# Now we will make some chart\n",
    "par(mfrow = c(2,2)) # 2x2 means we have two row and each row contain 2 chart.\n",
    "pie(Cases, main=\"Default Chart\", clockwise=TRUE)  # the default chart\n",
    "pie(Cases, main=\"Gray Chart\", clockwise=TRUE, col = gray(seq(0.4, 1.0, length=6)))\n",
    "pie(Cases, main=\"Rainbow Chart\", clockwise=TRUE, col=rainbow(6))"
   ]
  },
  {
   "cell_type": "markdown",
   "id": "831bfb2f",
   "metadata": {},
   "source": [
    "## 2. Bar Chart and Strip Chart\n",
    "\n",
    "In this section we will use two example:\n",
    "\n",
    "1. Bar chart using the avian influenze data.\n",
    "2. Bar chart using Benthic data."
   ]
  },
  {
   "cell_type": "markdown",
   "id": "d8c78635",
   "metadata": {},
   "source": [
    "### 2.1 The bar chart using the Avian Influenza data."
   ]
  },
  {
   "cell_type": "markdown",
   "id": "67f18f42",
   "metadata": {},
   "source": [
    "In this section we will compare bird flu case with death. So to do this we need to import another dataset `BirdFluDeaths`"
   ]
  },
  {
   "cell_type": "code",
   "execution_count": 9,
   "id": "e8ad66f6",
   "metadata": {},
   "outputs": [],
   "source": [
    "BFdeaths  = read.table(file = \"RBook/RBook/BirdFluDeaths.txt\", header=TRUE, fill=TRUE)"
   ]
  },
  {
   "cell_type": "code",
   "execution_count": 10,
   "id": "c183f948",
   "metadata": {},
   "outputs": [
    {
     "data": {
      "text/html": [
       "<table>\n",
       "<thead><tr><th scope=col>Year</th><th scope=col>Azerbaijan</th><th scope=col>Bangladesh</th><th scope=col>Cambodia</th><th scope=col>China</th><th scope=col>Djibouti</th><th scope=col>Egypt</th><th scope=col>Indonesia</th><th scope=col>Iraq</th><th scope=col>LaoPDR</th><th scope=col>Myanmar</th><th scope=col>Nigeria</th><th scope=col>Pakistan</th><th scope=col>Thailand</th><th scope=col>Turkey</th><th scope=col>VietNam</th></tr></thead>\n",
       "<tbody>\n",
       "\t<tr><td>2003</td><td>0   </td><td>0   </td><td>0   </td><td>1   </td><td>0   </td><td> 0  </td><td> 0  </td><td>0   </td><td>0   </td><td>0   </td><td>0   </td><td>0   </td><td> 0  </td><td>0   </td><td> 3  </td></tr>\n",
       "\t<tr><td>2004</td><td>0   </td><td>0   </td><td>0   </td><td>0   </td><td>0   </td><td> 0  </td><td> 0  </td><td>0   </td><td>0   </td><td>0   </td><td>0   </td><td>0   </td><td>12  </td><td>0   </td><td>20  </td></tr>\n",
       "\t<tr><td>2005</td><td>0   </td><td>0   </td><td>4   </td><td>5   </td><td>0   </td><td> 0  </td><td>13  </td><td>0   </td><td>0   </td><td>0   </td><td>0   </td><td>0   </td><td> 2  </td><td>0   </td><td>19  </td></tr>\n",
       "\t<tr><td>2006</td><td>5   </td><td>0   </td><td>2   </td><td>8   </td><td>0   </td><td>10  </td><td>45  </td><td>2   </td><td>0   </td><td>0   </td><td>0   </td><td>0   </td><td> 3  </td><td>4   </td><td> 0  </td></tr>\n",
       "\t<tr><td>2007</td><td>0   </td><td>0   </td><td>1   </td><td>3   </td><td>0   </td><td> 9  </td><td>37  </td><td>0   </td><td>2   </td><td>0   </td><td>1   </td><td>1   </td><td> 0  </td><td>0   </td><td> 5  </td></tr>\n",
       "\t<tr><td>2008</td><td>0   </td><td>0   </td><td>0   </td><td>3   </td><td>0   </td><td> 3  </td><td>15  </td><td>0   </td><td>0   </td><td>0   </td><td>0   </td><td>0   </td><td> 0  </td><td>0   </td><td> 5  </td></tr>\n",
       "</tbody>\n",
       "</table>\n"
      ],
      "text/latex": [
       "\\begin{tabular}{r|llllllllllllllll}\n",
       " Year & Azerbaijan & Bangladesh & Cambodia & China & Djibouti & Egypt & Indonesia & Iraq & LaoPDR & Myanmar & Nigeria & Pakistan & Thailand & Turkey & VietNam\\\\\n",
       "\\hline\n",
       "\t 2003 & 0    & 0    & 0    & 1    & 0    &  0   &  0   & 0    & 0    & 0    & 0    & 0    &  0   & 0    &  3  \\\\\n",
       "\t 2004 & 0    & 0    & 0    & 0    & 0    &  0   &  0   & 0    & 0    & 0    & 0    & 0    & 12   & 0    & 20  \\\\\n",
       "\t 2005 & 0    & 0    & 4    & 5    & 0    &  0   & 13   & 0    & 0    & 0    & 0    & 0    &  2   & 0    & 19  \\\\\n",
       "\t 2006 & 5    & 0    & 2    & 8    & 0    & 10   & 45   & 2    & 0    & 0    & 0    & 0    &  3   & 4    &  0  \\\\\n",
       "\t 2007 & 0    & 0    & 1    & 3    & 0    &  9   & 37   & 0    & 2    & 0    & 1    & 1    &  0   & 0    &  5  \\\\\n",
       "\t 2008 & 0    & 0    & 0    & 3    & 0    &  3   & 15   & 0    & 0    & 0    & 0    & 0    &  0   & 0    &  5  \\\\\n",
       "\\end{tabular}\n"
      ],
      "text/markdown": [
       "\n",
       "| Year | Azerbaijan | Bangladesh | Cambodia | China | Djibouti | Egypt | Indonesia | Iraq | LaoPDR | Myanmar | Nigeria | Pakistan | Thailand | Turkey | VietNam |\n",
       "|---|---|---|---|---|---|---|---|---|---|---|---|---|---|---|---|\n",
       "| 2003 | 0    | 0    | 0    | 1    | 0    |  0   |  0   | 0    | 0    | 0    | 0    | 0    |  0   | 0    |  3   |\n",
       "| 2004 | 0    | 0    | 0    | 0    | 0    |  0   |  0   | 0    | 0    | 0    | 0    | 0    | 12   | 0    | 20   |\n",
       "| 2005 | 0    | 0    | 4    | 5    | 0    |  0   | 13   | 0    | 0    | 0    | 0    | 0    |  2   | 0    | 19   |\n",
       "| 2006 | 5    | 0    | 2    | 8    | 0    | 10   | 45   | 2    | 0    | 0    | 0    | 0    |  3   | 4    |  0   |\n",
       "| 2007 | 0    | 0    | 1    | 3    | 0    |  9   | 37   | 0    | 2    | 0    | 1    | 1    |  0   | 0    |  5   |\n",
       "| 2008 | 0    | 0    | 0    | 3    | 0    |  3   | 15   | 0    | 0    | 0    | 0    | 0    |  0   | 0    |  5   |\n",
       "\n"
      ],
      "text/plain": [
       "  Year Azerbaijan Bangladesh Cambodia China Djibouti Egypt Indonesia Iraq\n",
       "1 2003 0          0          0        1     0         0     0        0   \n",
       "2 2004 0          0          0        0     0         0     0        0   \n",
       "3 2005 0          0          4        5     0         0    13        0   \n",
       "4 2006 5          0          2        8     0        10    45        2   \n",
       "5 2007 0          0          1        3     0         9    37        0   \n",
       "6 2008 0          0          0        3     0         3    15        0   \n",
       "  LaoPDR Myanmar Nigeria Pakistan Thailand Turkey VietNam\n",
       "1 0      0       0       0         0       0       3     \n",
       "2 0      0       0       0        12       0      20     \n",
       "3 0      0       0       0         2       0      19     \n",
       "4 0      0       0       0         3       4       0     \n",
       "5 2      0       1       1         0       0       5     \n",
       "6 0      0       0       0         0       0       5     "
      ]
     },
     "metadata": {},
     "output_type": "display_data"
    }
   ],
   "source": [
    "head(BFdeaths)"
   ]
  },
  {
   "cell_type": "code",
   "execution_count": 11,
   "id": "bbb958e8",
   "metadata": {},
   "outputs": [
    {
     "name": "stdout",
     "output_type": "stream",
     "text": [
      "'data.frame':\t6 obs. of  16 variables:\n",
      " $ Year      : int  2003 2004 2005 2006 2007 2008\n",
      " $ Azerbaijan: int  0 0 0 5 0 0\n",
      " $ Bangladesh: int  0 0 0 0 0 0\n",
      " $ Cambodia  : int  0 0 4 2 1 0\n",
      " $ China     : int  1 0 5 8 3 3\n",
      " $ Djibouti  : int  0 0 0 0 0 0\n",
      " $ Egypt     : int  0 0 0 10 9 3\n",
      " $ Indonesia : int  0 0 13 45 37 15\n",
      " $ Iraq      : int  0 0 0 2 0 0\n",
      " $ LaoPDR    : int  0 0 0 0 2 0\n",
      " $ Myanmar   : int  0 0 0 0 0 0\n",
      " $ Nigeria   : int  0 0 0 0 1 0\n",
      " $ Pakistan  : int  0 0 0 0 1 0\n",
      " $ Thailand  : int  0 12 2 3 0 0\n",
      " $ Turkey    : int  0 0 0 4 0 0\n",
      " $ VietNam   : int  3 20 19 0 5 5\n"
     ]
    }
   ],
   "source": [
    "str(BFdeaths)"
   ]
  },
  {
   "cell_type": "markdown",
   "id": "2dadd2a4",
   "metadata": {},
   "source": [
    "Now we will get the total deaths per year as we did in previous  section."
   ]
  },
  {
   "cell_type": "code",
   "execution_count": 12,
   "id": "308ef8c1",
   "metadata": {},
   "outputs": [],
   "source": [
    "Deaths = rowSums(BFdeaths[,2:16])\n",
    "names(Deaths)  = BFdeaths[,1]"
   ]
  },
  {
   "cell_type": "code",
   "execution_count": 13,
   "id": "b737678e",
   "metadata": {},
   "outputs": [
    {
     "data": {
      "text/html": [
       "<dl class=dl-horizontal>\n",
       "\t<dt>2003</dt>\n",
       "\t\t<dd>4</dd>\n",
       "\t<dt>2004</dt>\n",
       "\t\t<dd>32</dd>\n",
       "\t<dt>2005</dt>\n",
       "\t\t<dd>43</dd>\n",
       "\t<dt>2006</dt>\n",
       "\t\t<dd>79</dd>\n",
       "\t<dt>2007</dt>\n",
       "\t\t<dd>59</dd>\n",
       "\t<dt>2008</dt>\n",
       "\t\t<dd>26</dd>\n",
       "</dl>\n"
      ],
      "text/latex": [
       "\\begin{description*}\n",
       "\\item[2003] 4\n",
       "\\item[2004] 32\n",
       "\\item[2005] 43\n",
       "\\item[2006] 79\n",
       "\\item[2007] 59\n",
       "\\item[2008] 26\n",
       "\\end{description*}\n"
      ],
      "text/markdown": [
       "2003\n",
       ":   42004\n",
       ":   322005\n",
       ":   432006\n",
       ":   792007\n",
       ":   592008\n",
       ":   26\n",
       "\n"
      ],
      "text/plain": [
       "2003 2004 2005 2006 2007 2008 \n",
       "   4   32   43   79   59   26 "
      ]
     },
     "metadata": {},
     "output_type": "display_data"
    }
   ],
   "source": [
    "Deaths"
   ]
  },
  {
   "cell_type": "code",
   "execution_count": 14,
   "id": "83f0567b",
   "metadata": {},
   "outputs": [
    {
     "data": {
      "text/html": [
       "<table>\n",
       "<thead><tr><th></th><th scope=col>Cases</th><th scope=col>Deaths</th></tr></thead>\n",
       "<tbody>\n",
       "\t<tr><th scope=row>2003</th><td>  4</td><td> 4 </td></tr>\n",
       "\t<tr><th scope=row>2004</th><td> 46</td><td>32 </td></tr>\n",
       "\t<tr><th scope=row>2005</th><td> 98</td><td>43 </td></tr>\n",
       "\t<tr><th scope=row>2006</th><td>115</td><td>79 </td></tr>\n",
       "\t<tr><th scope=row>2007</th><td> 88</td><td>59 </td></tr>\n",
       "\t<tr><th scope=row>2008</th><td> 34</td><td>26 </td></tr>\n",
       "</tbody>\n",
       "</table>\n"
      ],
      "text/latex": [
       "\\begin{tabular}{r|ll}\n",
       "  & Cases & Deaths\\\\\n",
       "\\hline\n",
       "\t2003 &   4 &  4 \\\\\n",
       "\t2004 &  46 & 32 \\\\\n",
       "\t2005 &  98 & 43 \\\\\n",
       "\t2006 & 115 & 79 \\\\\n",
       "\t2007 &  88 & 59 \\\\\n",
       "\t2008 &  34 & 26 \\\\\n",
       "\\end{tabular}\n"
      ],
      "text/markdown": [
       "\n",
       "| <!--/--> | Cases | Deaths |\n",
       "|---|---|---|\n",
       "| 2003 |   4 |  4  |\n",
       "| 2004 |  46 | 32  |\n",
       "| 2005 |  98 | 43  |\n",
       "| 2006 | 115 | 79  |\n",
       "| 2007 |  88 | 59  |\n",
       "| 2008 |  34 | 26  |\n",
       "\n"
      ],
      "text/plain": [
       "     Cases Deaths\n",
       "2003   4    4    \n",
       "2004  46   32    \n",
       "2005  98   43    \n",
       "2006 115   79    \n",
       "2007  88   59    \n",
       "2008  34   26    "
      ]
     },
     "metadata": {},
     "output_type": "display_data"
    }
   ],
   "source": [
    "# Now we have got the total noumber of deaths also now we will combine boths deaths and cases data.\n",
    "Counts = cbind(Cases, Deaths)\n",
    "Counts"
   ]
  },
  {
   "cell_type": "code",
   "execution_count": 15,
   "id": "ca0dc020",
   "metadata": {},
   "outputs": [
    {
     "data": {
      "text/html": [
       "<table>\n",
       "<thead><tr><th></th><th scope=col>2003</th><th scope=col>2004</th><th scope=col>2005</th><th scope=col>2006</th><th scope=col>2007</th><th scope=col>2008</th></tr></thead>\n",
       "<tbody>\n",
       "\t<tr><th scope=row>Cases</th><td>4  </td><td>46 </td><td>98 </td><td>115</td><td>88 </td><td>34 </td></tr>\n",
       "\t<tr><th scope=row>Deaths</th><td>4  </td><td>32 </td><td>43 </td><td> 79</td><td>59 </td><td>26 </td></tr>\n",
       "</tbody>\n",
       "</table>\n"
      ],
      "text/latex": [
       "\\begin{tabular}{r|llllll}\n",
       "  & 2003 & 2004 & 2005 & 2006 & 2007 & 2008\\\\\n",
       "\\hline\n",
       "\tCases & 4   & 46  & 98  & 115 & 88  & 34 \\\\\n",
       "\tDeaths & 4   & 32  & 43  &  79 & 59  & 26 \\\\\n",
       "\\end{tabular}\n"
      ],
      "text/markdown": [
       "\n",
       "| <!--/--> | 2003 | 2004 | 2005 | 2006 | 2007 | 2008 |\n",
       "|---|---|---|---|---|---|---|\n",
       "| Cases | 4   | 46  | 98  | 115 | 88  | 34  |\n",
       "| Deaths | 4   | 32  | 43  |  79 | 59  | 26  |\n",
       "\n"
      ],
      "text/plain": [
       "       2003 2004 2005 2006 2007 2008\n",
       "Cases  4    46   98   115  88   34  \n",
       "Deaths 4    32   43    79  59   26  "
      ]
     },
     "metadata": {},
     "output_type": "display_data"
    }
   ],
   "source": [
    "# Showing that how transpose look \n",
    "t(Counts)"
   ]
  },
  {
   "cell_type": "code",
   "execution_count": 16,
   "id": "32741512",
   "metadata": {},
   "outputs": [
    {
     "data": {
      "image/png": "[encoded data removed]",
      "text/plain": [
       "Plot with title \"Bird flu cases\""
      ]
     },
     "metadata": {},
     "output_type": "display_data"
    }
   ],
   "source": [
    "# NOw we will make subplot by using the par() function \n",
    "par(mfrow = c(2,2), mar=c(3,3,2,1))\n",
    "\n",
    "# 1. first we will plot only of cases \n",
    "barplot(Cases, main=\"Bird flu cases\")\n",
    "\n",
    "# 2. in this we will combine both cases and deaths and plot them \n",
    "barplot(Counts)\n",
    "\n",
    "# 3. in 3rd plot we will make a trasnpose of the Counts so we will get the data by year\n",
    "barplot(t(Counts))\n",
    "\n",
    "# 4. in 4th plot we will use the beside parameter which will show the cases and deaths alogside to each other.\n",
    "barplot(t(Counts), beside=TRUE)"
   ]
  },
  {
   "cell_type": "markdown",
   "id": "25643052",
   "metadata": {},
   "source": [
    "As we can see that 4th bar chart is showing clearly of cases and deaths over the year. but in many cases 3rd type of bar chart also usefull. we will see more variation as we go in more detail of the analyais."
   ]
  },
  {
   "cell_type": "markdown",
   "id": "393fc3cd",
   "metadata": {},
   "source": [
    "### 2.2 A bar chart showing mean values with standard deviations."
   ]
  },
  {
   "cell_type": "markdown",
   "id": "5a76e2e3",
   "metadata": {},
   "source": [
    "In this section we will use benthic data which is used in previous sections, but in this cases we have developed another dataset contians the richness values for the 45 stations and also a column identifying the beach."
   ]
  },
  {
   "cell_type": "code",
   "execution_count": 17,
   "id": "3c3d7237",
   "metadata": {},
   "outputs": [],
   "source": [
    "# Import the second data of benthic.\n",
    "Benthic  <- read.table(file = \"RBook/RBook/RIKZ2.txt\", header=TRUE, fill=TRUE)"
   ]
  },
  {
   "cell_type": "code",
   "execution_count": 18,
   "id": "e8cef328",
   "metadata": {},
   "outputs": [
    {
     "data": {
      "text/html": [
       "<table>\n",
       "<thead><tr><th scope=col>Sample</th><th scope=col>Richness</th><th scope=col>Exposure</th><th scope=col>NAP</th><th scope=col>Beach</th><th scope=col>grainsize</th><th scope=col>humus</th><th scope=col>chalk</th><th scope=col>sorting1</th></tr></thead>\n",
       "<tbody>\n",
       "\t<tr><td>1     </td><td>11    </td><td>10    </td><td> 0.045</td><td>1     </td><td>222.5 </td><td>0.05  </td><td>2.05  </td><td>69.830</td></tr>\n",
       "\t<tr><td>2     </td><td>10    </td><td>10    </td><td>-1.036</td><td>1     </td><td>200.0 </td><td>0.30  </td><td>2.50  </td><td>59.000</td></tr>\n",
       "\t<tr><td>3     </td><td>13    </td><td>10    </td><td>-1.336</td><td>1     </td><td>194.5 </td><td>0.10  </td><td>3.45  </td><td>59.220</td></tr>\n",
       "\t<tr><td>4     </td><td>11    </td><td>10    </td><td> 0.616</td><td>1     </td><td>221.0 </td><td>0.15  </td><td>1.60  </td><td>67.750</td></tr>\n",
       "\t<tr><td>5     </td><td>10    </td><td>10    </td><td>-0.684</td><td>1     </td><td>202.0 </td><td>0.05  </td><td>2.45  </td><td>57.760</td></tr>\n",
       "\t<tr><td>6     </td><td> 8    </td><td> 8    </td><td> 1.190</td><td>2     </td><td>192.5 </td><td>0.10  </td><td>2.50  </td><td>53.075</td></tr>\n",
       "</tbody>\n",
       "</table>\n"
      ],
      "text/latex": [
       "\\begin{tabular}{r|lllllllll}\n",
       " Sample & Richness & Exposure & NAP & Beach & grainsize & humus & chalk & sorting1\\\\\n",
       "\\hline\n",
       "\t 1      & 11     & 10     &  0.045 & 1      & 222.5  & 0.05   & 2.05   & 69.830\\\\\n",
       "\t 2      & 10     & 10     & -1.036 & 1      & 200.0  & 0.30   & 2.50   & 59.000\\\\\n",
       "\t 3      & 13     & 10     & -1.336 & 1      & 194.5  & 0.10   & 3.45   & 59.220\\\\\n",
       "\t 4      & 11     & 10     &  0.616 & 1      & 221.0  & 0.15   & 1.60   & 67.750\\\\\n",
       "\t 5      & 10     & 10     & -0.684 & 1      & 202.0  & 0.05   & 2.45   & 57.760\\\\\n",
       "\t 6      &  8     &  8     &  1.190 & 2      & 192.5  & 0.10   & 2.50   & 53.075\\\\\n",
       "\\end{tabular}\n"
      ],
      "text/markdown": [
       "\n",
       "| Sample | Richness | Exposure | NAP | Beach | grainsize | humus | chalk | sorting1 |\n",
       "|---|---|---|---|---|---|---|---|---|\n",
       "| 1      | 11     | 10     |  0.045 | 1      | 222.5  | 0.05   | 2.05   | 69.830 |\n",
       "| 2      | 10     | 10     | -1.036 | 1      | 200.0  | 0.30   | 2.50   | 59.000 |\n",
       "| 3      | 13     | 10     | -1.336 | 1      | 194.5  | 0.10   | 3.45   | 59.220 |\n",
       "| 4      | 11     | 10     |  0.616 | 1      | 221.0  | 0.15   | 1.60   | 67.750 |\n",
       "| 5      | 10     | 10     | -0.684 | 1      | 202.0  | 0.05   | 2.45   | 57.760 |\n",
       "| 6      |  8     |  8     |  1.190 | 2      | 192.5  | 0.10   | 2.50   | 53.075 |\n",
       "\n"
      ],
      "text/plain": [
       "  Sample Richness Exposure NAP    Beach grainsize humus chalk sorting1\n",
       "1 1      11       10        0.045 1     222.5     0.05  2.05  69.830  \n",
       "2 2      10       10       -1.036 1     200.0     0.30  2.50  59.000  \n",
       "3 3      13       10       -1.336 1     194.5     0.10  3.45  59.220  \n",
       "4 4      11       10        0.616 1     221.0     0.15  1.60  67.750  \n",
       "5 5      10       10       -0.684 1     202.0     0.05  2.45  57.760  \n",
       "6 6       8        8        1.190 2     192.5     0.10  2.50  53.075  "
      ]
     },
     "metadata": {},
     "output_type": "display_data"
    }
   ],
   "source": [
    "head(Benthic)"
   ]
  },
  {
   "cell_type": "code",
   "execution_count": 19,
   "id": "ccf9928d",
   "metadata": {},
   "outputs": [
    {
     "name": "stdout",
     "output_type": "stream",
     "text": [
      "'data.frame':\t45 obs. of  9 variables:\n",
      " $ Sample   : int  1 2 3 4 5 6 7 8 9 10 ...\n",
      " $ Richness : int  11 10 13 11 10 8 9 8 19 17 ...\n",
      " $ Exposure : int  10 10 10 10 10 8 8 8 8 8 ...\n",
      " $ NAP      : num  0.045 -1.036 -1.336 0.616 -0.684 ...\n",
      " $ Beach    : int  1 1 1 1 1 2 2 2 2 2 ...\n",
      " $ grainsize: num  222 200 194 221 202 ...\n",
      " $ humus    : num  0.05 0.3 0.1 0.15 0.05 0.1 0.1 0.1 0.15 0 ...\n",
      " $ chalk    : num  2.05 2.5 3.45 1.6 2.45 2.5 1.85 1.7 2.3 2.6 ...\n",
      " $ sorting1 : num  69.8 59 59.2 67.8 57.8 ...\n"
     ]
    }
   ],
   "source": [
    "str(Benthic)"
   ]
  },
  {
   "cell_type": "code",
   "execution_count": 20,
   "id": "105e1f91",
   "metadata": {},
   "outputs": [
    {
     "data": {
      "text/html": [
       "<ol class=list-inline>\n",
       "\t<li>1</li>\n",
       "\t<li>2</li>\n",
       "\t<li>3</li>\n",
       "\t<li>4</li>\n",
       "\t<li>5</li>\n",
       "\t<li>6</li>\n",
       "\t<li>7</li>\n",
       "\t<li>8</li>\n",
       "\t<li>9</li>\n",
       "</ol>\n"
      ],
      "text/latex": [
       "\\begin{enumerate*}\n",
       "\\item 1\n",
       "\\item 2\n",
       "\\item 3\n",
       "\\item 4\n",
       "\\item 5\n",
       "\\item 6\n",
       "\\item 7\n",
       "\\item 8\n",
       "\\item 9\n",
       "\\end{enumerate*}\n"
      ],
      "text/markdown": [
       "1. 1\n",
       "2. 2\n",
       "3. 3\n",
       "4. 4\n",
       "5. 5\n",
       "6. 6\n",
       "7. 7\n",
       "8. 8\n",
       "9. 9\n",
       "\n",
       "\n"
      ],
      "text/plain": [
       "[1] 1 2 3 4 5 6 7 8 9"
      ]
     },
     "metadata": {},
     "output_type": "display_data"
    }
   ],
   "source": [
    "# Now we need to find out the mean and the standard deviation by per beach\n",
    "# but before that first we should check that how many beach are available in the datasetst\n",
    "unique(Benthic$Beach)"
   ]
  },
  {
   "cell_type": "markdown",
   "id": "a30299d3",
   "metadata": {},
   "source": [
    "Now we now that we have total 9 beach, so we need to find the mean and standard deviation by per beach, for this computation tapply function is best approach."
   ]
  },
  {
   "cell_type": "code",
   "execution_count": 21,
   "id": "0c301b27",
   "metadata": {},
   "outputs": [],
   "source": [
    "# applying the tapply() function.\n",
    "\n",
    "# Getting mean per beach\n",
    "Bent.mean = tapply(Benthic$Richness, INDEX = Benthic$Beach, FUN=mean)\n",
    "\n",
    "# Getting standard deviation per beach \n",
    "Bent.std = tapply(Benthic$Richness, INDEX = Benthic$Beach, FUN=sd)\n",
    "\n",
    "# Note: in the above code we have used the INDEX argument, this argument will group the data according to the beach data."
   ]
  },
  {
   "cell_type": "code",
   "execution_count": 22,
   "id": "334bc18f",
   "metadata": {},
   "outputs": [
    {
     "data": {
      "text/html": [
       "<table>\n",
       "<thead><tr><th scope=col>Bent.mean</th><th scope=col>Bent.std</th></tr></thead>\n",
       "<tbody>\n",
       "\t<tr><td>11.0    </td><td>1.224745</td></tr>\n",
       "\t<tr><td>12.2    </td><td>5.357238</td></tr>\n",
       "\t<tr><td> 3.4    </td><td>1.816590</td></tr>\n",
       "\t<tr><td> 2.4    </td><td>1.341641</td></tr>\n",
       "\t<tr><td> 7.4    </td><td>8.532292</td></tr>\n",
       "\t<tr><td> 4.0    </td><td>1.870829</td></tr>\n",
       "\t<tr><td> 2.2    </td><td>1.303840</td></tr>\n",
       "\t<tr><td> 4.0    </td><td>2.645751</td></tr>\n",
       "\t<tr><td> 4.6    </td><td>4.393177</td></tr>\n",
       "</tbody>\n",
       "</table>\n"
      ],
      "text/latex": [
       "\\begin{tabular}{r|ll}\n",
       " Bent.mean & Bent.std\\\\\n",
       "\\hline\n",
       "\t 11.0     & 1.224745\\\\\n",
       "\t 12.2     & 5.357238\\\\\n",
       "\t  3.4     & 1.816590\\\\\n",
       "\t  2.4     & 1.341641\\\\\n",
       "\t  7.4     & 8.532292\\\\\n",
       "\t  4.0     & 1.870829\\\\\n",
       "\t  2.2     & 1.303840\\\\\n",
       "\t  4.0     & 2.645751\\\\\n",
       "\t  4.6     & 4.393177\\\\\n",
       "\\end{tabular}\n"
      ],
      "text/markdown": [
       "\n",
       "| Bent.mean | Bent.std |\n",
       "|---|---|\n",
       "| 11.0     | 1.224745 |\n",
       "| 12.2     | 5.357238 |\n",
       "|  3.4     | 1.816590 |\n",
       "|  2.4     | 1.341641 |\n",
       "|  7.4     | 8.532292 |\n",
       "|  4.0     | 1.870829 |\n",
       "|  2.2     | 1.303840 |\n",
       "|  4.0     | 2.645751 |\n",
       "|  4.6     | 4.393177 |\n",
       "\n"
      ],
      "text/plain": [
       "  Bent.mean Bent.std\n",
       "1 11.0      1.224745\n",
       "2 12.2      5.357238\n",
       "3  3.4      1.816590\n",
       "4  2.4      1.341641\n",
       "5  7.4      8.532292\n",
       "6  4.0      1.870829\n",
       "7  2.2      1.303840\n",
       "8  4.0      2.645751\n",
       "9  4.6      4.393177"
      ]
     },
     "metadata": {},
     "output_type": "display_data"
    }
   ],
   "source": [
    "# Now we will combine both the mean and std data\n",
    "MSD = cbind(Bent.mean, Bent.std)\n",
    "rownames(MSD) = c(1:9)\n",
    "MSD"
   ]
  },
  {
   "cell_type": "code",
   "execution_count": 23,
   "id": "98191060",
   "metadata": {},
   "outputs": [
    {
     "data": {
      "text/html": [
       "<dl class=dl-horizontal>\n",
       "\t<dt>1</dt>\n",
       "\t\t<dd>11</dd>\n",
       "\t<dt>2</dt>\n",
       "\t\t<dd>12.2</dd>\n",
       "\t<dt>3</dt>\n",
       "\t\t<dd>3.4</dd>\n",
       "\t<dt>4</dt>\n",
       "\t\t<dd>2.4</dd>\n",
       "\t<dt>5</dt>\n",
       "\t\t<dd>7.4</dd>\n",
       "\t<dt>6</dt>\n",
       "\t\t<dd>4</dd>\n",
       "\t<dt>7</dt>\n",
       "\t\t<dd>2.2</dd>\n",
       "\t<dt>8</dt>\n",
       "\t\t<dd>4</dd>\n",
       "\t<dt>9</dt>\n",
       "\t\t<dd>4.6</dd>\n",
       "</dl>\n"
      ],
      "text/latex": [
       "\\begin{description*}\n",
       "\\item[1] 11\n",
       "\\item[2] 12.2\n",
       "\\item[3] 3.4\n",
       "\\item[4] 2.4\n",
       "\\item[5] 7.4\n",
       "\\item[6] 4\n",
       "\\item[7] 2.2\n",
       "\\item[8] 4\n",
       "\\item[9] 4.6\n",
       "\\end{description*}\n"
      ],
      "text/markdown": [
       "1\n",
       ":   112\n",
       ":   12.23\n",
       ":   3.44\n",
       ":   2.45\n",
       ":   7.46\n",
       ":   47\n",
       ":   2.28\n",
       ":   49\n",
       ":   4.6\n",
       "\n"
      ],
      "text/plain": [
       "   1    2    3    4    5    6    7    8    9 \n",
       "11.0 12.2  3.4  2.4  7.4  4.0  2.2  4.0  4.6 "
      ]
     },
     "metadata": {},
     "output_type": "display_data"
    }
   ],
   "source": [
    "Bent.mean"
   ]
  },
  {
   "cell_type": "markdown",
   "id": "e9d3eb2e",
   "metadata": {},
   "source": [
    "Now we will plot the mean richness and standard deviation data by using the box plot which will show us more information."
   ]
  },
  {
   "cell_type": "code",
   "execution_count": 24,
   "id": "b2fe5db3",
   "metadata": {},
   "outputs": [
    {
     "data": {
      "image/png": "[encoded data removed]",
      "text/plain": [
       "plot without title"
      ]
     },
     "metadata": {},
     "output_type": "display_data"
    }
   ],
   "source": [
    "# mean richness of the benthic dataset\n",
    "barplot(Bent.mean, xlab=\"Beach\", ylab=\"Richness\", col=rainbow(10))"
   ]
  },
  {
   "cell_type": "markdown",
   "id": "e8ae79c0",
   "metadata": {},
   "source": [
    "**Showing the standard deviation**\n",
    "\n",
    "Now we need to show the standard deviation which can be shown by vertical line over each bar.\n",
    "\n",
    "* WE can draw the std line by using (x,y1) and (x,y2) coordinates.'\n",
    "* x is the mid point of the bar.\n",
    "* y1 is the mean and y2 is the mean+std."
   ]
  },
  {
   "cell_type": "code",
   "execution_count": 25,
   "id": "0e18676c",
   "metadata": {},
   "outputs": [
    {
     "data": {
      "image/png": "[encoded data removed]",
      "text/plain": [
       "plot without title"
      ]
     },
     "metadata": {},
     "output_type": "display_data"
    }
   ],
   "source": [
    "# Now we need to get the x value which is the mid point of the each bar.\n",
    "# luckly barplot() gives us the mid points of each bar\n",
    "\n",
    "bp = barplot(Bent.mean, xlab=\"Beach\", ylab=\"Richness\", col=rainbow(10))\n",
    "# bp is used for bar points on x-axis.\n",
    "\n",
    "# Now we will draw a line by using arrows() function.\n",
    "arrows(bp, Bent.mean, bp, Bent.mean+Bent.std, lwd=1.5)"
   ]
  },
  {
   "cell_type": "markdown",
   "id": "8fe0a72b",
   "metadata": {},
   "source": [
    "As results shows that we have drawn std lines but we need to remove arrow sign instead of this we need a horizontal line on the tip of the line. we can do this by using `angle=90` and to short the length of the hr line use `length=0.1`"
   ]
  },
  {
   "cell_type": "code",
   "execution_count": 26,
   "id": "bbe60b33",
   "metadata": {},
   "outputs": [
    {
     "data": {
      "image/png": "[encoded data removed]",
      "text/plain": [
       "plot without title"
      ]
     },
     "metadata": {},
     "output_type": "display_data"
    }
   ],
   "source": [
    "bp = barplot(Bent.mean, xlab=\"Beach\", ylab=\"Richness\", col=rainbow(10), ylim= c(0, 20))\n",
    "arrows(bp, Bent.mean, bp, Bent.mean+Bent.std, lwd=1.5, angle=90, length=0.1)\n",
    "\n",
    "# drawing the box around the graph\n",
    "box()"
   ]
  },
  {
   "cell_type": "markdown",
   "id": "19f1813a",
   "metadata": {},
   "source": [
    "___\n",
    "\n",
    "### 2.3 The strip chart for the Benthic Data."
   ]
  },
  {
   "cell_type": "markdown",
   "id": "860de20f",
   "metadata": {},
   "source": [
    "**stripchart:** stripchart produces one dimensional scatter plots (or dot plots) of the given data. These plots are good alternative to boxplots S when sample sizes are small.\n",
    "\n",
    "by using the strip chart we will plot a graph showing the mean richness per site and it will also show the standard error.\n",
    "\n",
    "* Standard Error (SE) = Standard Deviation/sqrt(Number of observation)"
   ]
  },
  {
   "cell_type": "code",
   "execution_count": 27,
   "id": "5e186397",
   "metadata": {},
   "outputs": [],
   "source": [
    "# Not to calculate the standard first we need to calculate the total number of observation per site.\n",
    "# to do that we will use tapply() function to get the length\n",
    "\n",
    "Benth.le = tapply(Benthic$Richness, INDEX=Benthic$Beach, FUN=length)"
   ]
  },
  {
   "cell_type": "code",
   "execution_count": 28,
   "id": "ae3ff72b",
   "metadata": {},
   "outputs": [
    {
     "data": {
      "text/html": [
       "<dl class=dl-horizontal>\n",
       "\t<dt>1</dt>\n",
       "\t\t<dd>5</dd>\n",
       "\t<dt>2</dt>\n",
       "\t\t<dd>5</dd>\n",
       "\t<dt>3</dt>\n",
       "\t\t<dd>5</dd>\n",
       "\t<dt>4</dt>\n",
       "\t\t<dd>5</dd>\n",
       "\t<dt>5</dt>\n",
       "\t\t<dd>5</dd>\n",
       "\t<dt>6</dt>\n",
       "\t\t<dd>5</dd>\n",
       "\t<dt>7</dt>\n",
       "\t\t<dd>5</dd>\n",
       "\t<dt>8</dt>\n",
       "\t\t<dd>5</dd>\n",
       "\t<dt>9</dt>\n",
       "\t\t<dd>5</dd>\n",
       "</dl>\n"
      ],
      "text/latex": [
       "\\begin{description*}\n",
       "\\item[1] 5\n",
       "\\item[2] 5\n",
       "\\item[3] 5\n",
       "\\item[4] 5\n",
       "\\item[5] 5\n",
       "\\item[6] 5\n",
       "\\item[7] 5\n",
       "\\item[8] 5\n",
       "\\item[9] 5\n",
       "\\end{description*}\n"
      ],
      "text/markdown": [
       "1\n",
       ":   52\n",
       ":   53\n",
       ":   54\n",
       ":   55\n",
       ":   56\n",
       ":   57\n",
       ":   58\n",
       ":   59\n",
       ":   5\n",
       "\n"
      ],
      "text/plain": [
       "1 2 3 4 5 6 7 8 9 \n",
       "5 5 5 5 5 5 5 5 5 "
      ]
     },
     "metadata": {},
     "output_type": "display_data"
    }
   ],
   "source": [
    "# Now this gives us length for each site\n",
    "Benth.le"
   ]
  },
  {
   "cell_type": "code",
   "execution_count": 29,
   "id": "91a0acd6",
   "metadata": {},
   "outputs": [
    {
     "data": {
      "text/html": [
       "<dl class=dl-horizontal>\n",
       "\t<dt>1</dt>\n",
       "\t\t<dd>0.547722557505166</dd>\n",
       "\t<dt>2</dt>\n",
       "\t\t<dd>2.39582971014219</dd>\n",
       "\t<dt>3</dt>\n",
       "\t\t<dd>0.812403840463596</dd>\n",
       "\t<dt>4</dt>\n",
       "\t\t<dd>0.6</dd>\n",
       "\t<dt>5</dt>\n",
       "\t\t<dd>3.81575680566778</dd>\n",
       "\t<dt>6</dt>\n",
       "\t\t<dd>0.836660026534075</dd>\n",
       "\t<dt>7</dt>\n",
       "\t\t<dd>0.58309518948453</dd>\n",
       "\t<dt>8</dt>\n",
       "\t\t<dd>1.18321595661992</dd>\n",
       "\t<dt>9</dt>\n",
       "\t\t<dd>1.96468827043885</dd>\n",
       "</dl>\n"
      ],
      "text/latex": [
       "\\begin{description*}\n",
       "\\item[1] 0.547722557505166\n",
       "\\item[2] 2.39582971014219\n",
       "\\item[3] 0.812403840463596\n",
       "\\item[4] 0.6\n",
       "\\item[5] 3.81575680566778\n",
       "\\item[6] 0.836660026534075\n",
       "\\item[7] 0.58309518948453\n",
       "\\item[8] 1.18321595661992\n",
       "\\item[9] 1.96468827043885\n",
       "\\end{description*}\n"
      ],
      "text/markdown": [
       "1\n",
       ":   0.5477225575051662\n",
       ":   2.395829710142193\n",
       ":   0.8124038404635964\n",
       ":   0.65\n",
       ":   3.815756805667786\n",
       ":   0.8366600265340757\n",
       ":   0.583095189484538\n",
       ":   1.183215956619929\n",
       ":   1.96468827043885\n",
       "\n"
      ],
      "text/plain": [
       "        1         2         3         4         5         6         7         8 \n",
       "0.5477226 2.3958297 0.8124038 0.6000000 3.8157568 0.8366600 0.5830952 1.1832160 \n",
       "        9 \n",
       "1.9646883 "
      ]
     },
     "metadata": {},
     "output_type": "display_data"
    }
   ],
   "source": [
    "# Now we need to calculate the Standard Error for each site\n",
    "Benth.Se = Bent.std/sqrt(Benth.le)\n",
    "\n",
    "# checking the standard error for each site\n",
    "Benth.Se"
   ]
  },
  {
   "cell_type": "markdown",
   "id": "1a52425b",
   "metadata": {},
   "source": [
    "**Now we will plot the stripchart to show the standard error with mean values.**"
   ]
  },
  {
   "cell_type": "code",
   "execution_count": 30,
   "id": "c657bcfb",
   "metadata": {},
   "outputs": [
    {
     "data": {
      "image/png": "[encoded data removed]",
      "text/plain": [
       "plot without title"
      ]
     },
     "metadata": {},
     "output_type": "display_data"
    }
   ],
   "source": [
    "# Now we need to pot the Beach as a function of Richness\n",
    "stripchart(Benthic$Richness ~ Benthic$Beach, vert=TRUE,  method='jitter',pch=1, jit=0.5, xlab='Beach', ylab='Richness')"
   ]
  },
  {
   "cell_type": "markdown",
   "id": "a1b7dd37",
   "metadata": {},
   "source": [
    "This is similar to the plot() function output, In this stripchart() there are some new argument which will be discussed.\n",
    "\n",
    "* `method`: The method to be used to separate coincident points. The default method \"overplot\" causes such points to be overplotted, but it is also possible to specity \"jitter\" to jitter the points or \"stack\" have coincident points stacked. The last method only makes sense for very granualar data.\n",
    "\n",
    "* `jit or jitter`: When method='jitter' is used, jitter hives the amount of jittering applied.\n",
    "* `vert or vertical`: When vertical is TRUE the plots are drawn vertically rather than the default horizontal."
   ]
  },
  {
   "cell_type": "code",
   "execution_count": 31,
   "id": "997159d5",
   "metadata": {},
   "outputs": [
    {
     "data": {
      "image/png": "[encoded data removed]",
      "text/plain": [
       "plot without title"
      ]
     },
     "metadata": {},
     "output_type": "display_data"
    }
   ],
   "source": [
    "stripchart(Benthic$Richness ~ Benthic$Beach, vert=TRUE,  method='jitter',pch=1, jit=0.5, xlab='Beach', ylab='Richness')\n",
    "\n",
    "# Now we need to make solid points for the mean Richness per site on the graph.\n",
    "Sites = c(1:9)\n",
    "\n",
    "# making mean Richness soild dot points per site\n",
    "points(Sites, Bent.mean, pch=16, cex=1.5, col=2)"
   ]
  },
  {
   "cell_type": "markdown",
   "id": "4c2d382a",
   "metadata": {},
   "source": [
    "As we can see that we have solid red dots for mean Richness for per site, now we need to add the standard error vertically on these points."
   ]
  },
  {
   "cell_type": "code",
   "execution_count": 32,
   "id": "2e0814e3",
   "metadata": {},
   "outputs": [
    {
     "data": {
      "image/png": "[encoded data removed]",
      "text/plain": [
       "plot without title"
      ]
     },
     "metadata": {},
     "output_type": "display_data"
    }
   ],
   "source": [
    "stripchart(Benthic$Richness ~ Benthic$Beach, vert=TRUE,  method='jitter',pch=1, jit=0.5, xlab='Beach', ylab='Richness')\n",
    "\n",
    "# Now we need to make solid points for the mean Richness per site on the graph.\n",
    "Sites = c(1:9)\n",
    "\n",
    "# making mean Richness soild dot points per site\n",
    "points(Sites, Bent.mean, pch=16, cex=1.5, col=2)\n",
    "\n",
    "# adding vertical line above the mean point\n",
    "arrows(Sites, Bent.mean, Sites, Bent.mean+Benth.Se, angle=90, length=0.1, col=3, lwd=1.5)\n",
    "\n",
    "# adding vertical line below the mean point\n",
    "arrows(Sites, Bent.mean, Sites, Bent.mean-Benth.Se, angle=90, length=0.1, col=4, lwd=1.5)"
   ]
  },
  {
   "cell_type": "markdown",
   "id": "8ee156e6",
   "metadata": {},
   "source": [
    "## 3. Boxplot"
   ]
  },
  {
   "cell_type": "markdown",
   "id": "5aaee1fc",
   "metadata": {},
   "source": [
    "### 3.1 Boxplot Showing the Owl Data\n",
    "\n",
    "In this section we will use the boxplot(), boxplot is mostly used in every analysis to identify the outliers, spread of the data around mean, difference b/w 25th and 75th quartile.\n",
    "\n",
    "In this we will use the dataset of Owls siblings negotiation:\n",
    "\n",
    "`Description:` Roulin and Bersier(2007) looked at how nestlings responds to the presence of the father and of the mother. Using microphones inside and a video outside the nests, they sampled 27 nests, and studied vocal begging behaviour when the parents brought pery. Sampling took place b/w 21.30 hours and 05.30 hours on two nights. \n",
    "    \n",
    "Half the nests were food deprived and the other half food statiated(This was reversed on the second night). \n",
    "\n",
    "* The variable ArrivalTime shows the time when a parent arrived at the perch with pery. \n",
    "* Nestling Negotiation idicated the average number of calls per nest.\n",
    "\n",
    "**Possible question:** One of the main questions posed is whether there is a feeding protocol effect and a sex of parent effect."
   ]
  },
  {
   "cell_type": "code",
   "execution_count": 33,
   "id": "0278cbaf",
   "metadata": {},
   "outputs": [],
   "source": [
    "# Now we will import the dataset \n",
    "Owls = read.table(file=\"RBook/RBook/Owls.txt\", header=TRUE)"
   ]
  },
  {
   "cell_type": "code",
   "execution_count": 34,
   "id": "7b61af89",
   "metadata": {},
   "outputs": [
    {
     "data": {
      "text/html": [
       "<table>\n",
       "<thead><tr><th scope=col>Nest</th><th scope=col>FoodTreatment</th><th scope=col>SexParent</th><th scope=col>ArrivalTime</th><th scope=col>SiblingNegotiation</th><th scope=col>BroodSize</th><th scope=col>NegPerChick</th></tr></thead>\n",
       "<tbody>\n",
       "\t<tr><td>AutavauxTV</td><td>Deprived  </td><td>Male      </td><td>22.25     </td><td>4         </td><td>5         </td><td>0.8       </td></tr>\n",
       "\t<tr><td>AutavauxTV</td><td>Satiated  </td><td>Male      </td><td>22.38     </td><td>0         </td><td>5         </td><td>0.0       </td></tr>\n",
       "\t<tr><td>AutavauxTV</td><td>Deprived  </td><td>Male      </td><td>22.53     </td><td>2         </td><td>5         </td><td>0.4       </td></tr>\n",
       "\t<tr><td>AutavauxTV</td><td>Deprived  </td><td>Male      </td><td>22.56     </td><td>2         </td><td>5         </td><td>0.4       </td></tr>\n",
       "\t<tr><td>AutavauxTV</td><td>Deprived  </td><td>Male      </td><td>22.61     </td><td>2         </td><td>5         </td><td>0.4       </td></tr>\n",
       "\t<tr><td>AutavauxTV</td><td>Deprived  </td><td>Male      </td><td>22.65     </td><td>2         </td><td>5         </td><td>0.4       </td></tr>\n",
       "</tbody>\n",
       "</table>\n"
      ],
      "text/latex": [
       "\\begin{tabular}{r|lllllll}\n",
       " Nest & FoodTreatment & SexParent & ArrivalTime & SiblingNegotiation & BroodSize & NegPerChick\\\\\n",
       "\\hline\n",
       "\t AutavauxTV & Deprived   & Male       & 22.25      & 4          & 5          & 0.8       \\\\\n",
       "\t AutavauxTV & Satiated   & Male       & 22.38      & 0          & 5          & 0.0       \\\\\n",
       "\t AutavauxTV & Deprived   & Male       & 22.53      & 2          & 5          & 0.4       \\\\\n",
       "\t AutavauxTV & Deprived   & Male       & 22.56      & 2          & 5          & 0.4       \\\\\n",
       "\t AutavauxTV & Deprived   & Male       & 22.61      & 2          & 5          & 0.4       \\\\\n",
       "\t AutavauxTV & Deprived   & Male       & 22.65      & 2          & 5          & 0.4       \\\\\n",
       "\\end{tabular}\n"
      ],
      "text/markdown": [
       "\n",
       "| Nest | FoodTreatment | SexParent | ArrivalTime | SiblingNegotiation | BroodSize | NegPerChick |\n",
       "|---|---|---|---|---|---|---|\n",
       "| AutavauxTV | Deprived   | Male       | 22.25      | 4          | 5          | 0.8        |\n",
       "| AutavauxTV | Satiated   | Male       | 22.38      | 0          | 5          | 0.0        |\n",
       "| AutavauxTV | Deprived   | Male       | 22.53      | 2          | 5          | 0.4        |\n",
       "| AutavauxTV | Deprived   | Male       | 22.56      | 2          | 5          | 0.4        |\n",
       "| AutavauxTV | Deprived   | Male       | 22.61      | 2          | 5          | 0.4        |\n",
       "| AutavauxTV | Deprived   | Male       | 22.65      | 2          | 5          | 0.4        |\n",
       "\n"
      ],
      "text/plain": [
       "  Nest       FoodTreatment SexParent ArrivalTime SiblingNegotiation BroodSize\n",
       "1 AutavauxTV Deprived      Male      22.25       4                  5        \n",
       "2 AutavauxTV Satiated      Male      22.38       0                  5        \n",
       "3 AutavauxTV Deprived      Male      22.53       2                  5        \n",
       "4 AutavauxTV Deprived      Male      22.56       2                  5        \n",
       "5 AutavauxTV Deprived      Male      22.61       2                  5        \n",
       "6 AutavauxTV Deprived      Male      22.65       2                  5        \n",
       "  NegPerChick\n",
       "1 0.8        \n",
       "2 0.0        \n",
       "3 0.4        \n",
       "4 0.4        \n",
       "5 0.4        \n",
       "6 0.4        "
      ]
     },
     "metadata": {},
     "output_type": "display_data"
    }
   ],
   "source": [
    "# checking the head \n",
    "head(Owls)"
   ]
  },
  {
   "cell_type": "code",
   "execution_count": 35,
   "id": "28562f95",
   "metadata": {},
   "outputs": [
    {
     "name": "stdout",
     "output_type": "stream",
     "text": [
      "'data.frame':\t599 obs. of  7 variables:\n",
      " $ Nest              : Factor w/ 27 levels \"AutavauxTV\",\"Bochet\",..: 1 1 1 1 1 1 1 1 1 1 ...\n",
      " $ FoodTreatment     : Factor w/ 2 levels \"Deprived\",\"Satiated\": 1 2 1 1 1 1 1 2 1 2 ...\n",
      " $ SexParent         : Factor w/ 2 levels \"Female\",\"Male\": 2 2 2 2 2 2 2 1 2 1 ...\n",
      " $ ArrivalTime       : num  22.2 22.4 22.5 22.6 22.6 ...\n",
      " $ SiblingNegotiation: int  4 0 2 2 2 2 18 4 18 0 ...\n",
      " $ BroodSize         : int  5 5 5 5 5 5 5 5 5 5 ...\n",
      " $ NegPerChick       : num  0.8 0 0.4 0.4 0.4 0.4 3.6 0.8 3.6 0 ...\n"
     ]
    }
   ],
   "source": [
    "# checking the structure of the data\n",
    "str(Owls)"
   ]
  },
  {
   "cell_type": "code",
   "execution_count": 36,
   "id": "896918e1",
   "metadata": {},
   "outputs": [
    {
     "data": {
      "image/png": "[encoded data removed]",
      "text/plain": [
       "Plot with title \"NegPerChick\""
      ]
     },
     "metadata": {},
     "output_type": "display_data"
    }
   ],
   "source": [
    "# Now we will plot a boxplot on NegPerChick variable.\n",
    "\n",
    "boxplot(Owls$NegPerChick, main=\"NegPerChick\")"
   ]
  },
  {
   "cell_type": "markdown",
   "id": "1c2830a1",
   "metadata": {},
   "source": [
    "As we can see that there are about 5 possible outlier and the mean of the NegPerChick is about 1.7, we can alos make NegPerChick  as they are female or male."
   ]
  },
  {
   "cell_type": "markdown",
   "id": "46cd4175",
   "metadata": {},
   "source": [
    "**NegPerChick as they are male or female**"
   ]
  },
  {
   "cell_type": "code",
   "execution_count": 37,
   "id": "f1c97deb",
   "metadata": {},
   "outputs": [
    {
     "data": {
      "image/png": "[encoded data removed]",
      "text/plain": [
       "plot without title"
      ]
     },
     "metadata": {},
     "output_type": "display_data"
    }
   ],
   "source": [
    "# to plot the NegPerChic as sex of the parent we need to define NegPerChick as the function SexParent\n",
    "boxplot(NegPerChick ~ SexParent, data=Owls)"
   ]
  },
  {
   "cell_type": "markdown",
   "id": "5ca11b34",
   "metadata": {},
   "source": [
    "As we can see that there a little bit difference b/w the Male and Female observation and both the boxplots contains some outliers, we can get more clear output if we had more data on it. "
   ]
  },
  {
   "cell_type": "markdown",
   "id": "9f78b56c",
   "metadata": {},
   "source": [
    "**NegPerChick as a function of food treatment**"
   ]
  },
  {
   "cell_type": "code",
   "execution_count": 38,
   "id": "7e7a5819",
   "metadata": {},
   "outputs": [
    {
     "data": {
      "image/png": "[encoded data removed]",
      "text/plain": [
       "plot without title"
      ]
     },
     "metadata": {},
     "output_type": "display_data"
    }
   ],
   "source": [
    "# Now in this case we will use FoodTreatment instead SexParent.\n",
    "boxplot(NegPerChick ~ FoodTreatment, data=Owls)"
   ]
  },
  {
   "cell_type": "markdown",
   "id": "a4ac3d55",
   "metadata": {},
   "source": [
    "As we can see that there is a clear difference of NegPerChick when then are Deprived and Satiated. this information can be usefull in some modeling."
   ]
  },
  {
   "cell_type": "markdown",
   "id": "6c9552e6",
   "metadata": {},
   "source": [
    "**NegPerChick as a function of SexParent and FoodTreatment**"
   ]
  },
  {
   "cell_type": "code",
   "execution_count": 39,
   "id": "a83effeb",
   "metadata": {},
   "outputs": [
    {
     "data": {
      "image/png": "[encoded data removed]",
      "text/plain": [
       "plot without title"
      ]
     },
     "metadata": {},
     "output_type": "display_data"
    }
   ],
   "source": [
    "# Now in this case we will make boxplot by using SexParent and FoodTreatment\n",
    "boxplot(NegPerChick ~ SexParent*FoodTreatment, data=Owls)"
   ]
  },
  {
   "cell_type": "markdown",
   "id": "ee05cfea",
   "metadata": {},
   "source": [
    "**NegPerChick as a function of Nest**"
   ]
  },
  {
   "cell_type": "markdown",
   "id": "5ad805f3",
   "metadata": {},
   "source": [
    "Sometime getting all the labels onto a boxplot calls for more creativity, in this we will show the nestling negotiation conditional on nest.  "
   ]
  },
  {
   "cell_type": "code",
   "execution_count": 40,
   "id": "28d8e534",
   "metadata": {},
   "outputs": [
    {
     "data": {
      "image/png": "[encoded data removed]",
      "text/plain": [
       "plot without title"
      ]
     },
     "metadata": {},
     "output_type": "display_data"
    }
   ],
   "source": [
    "boxplot(NegPerChick ~ Nest, data=Owls)"
   ]
  },
  {
   "cell_type": "markdown",
   "id": "56f032bd",
   "metadata": {},
   "source": [
    "Now Since all the labels are not visible so now we need to make some modification."
   ]
  },
  {
   "cell_type": "code",
   "execution_count": 41,
   "id": "dcaa9f7b",
   "metadata": {},
   "outputs": [
    {
     "data": {
      "image/png": "[encoded data removed]",
      "text/plain": [
       "plot without title"
      ]
     },
     "metadata": {},
     "output_type": "display_data"
    }
   ],
   "source": [
    "# adjusting the plot\n",
    "boxplot(NegPerChick ~ Nest, data=Owls, axes=FALSE, ylim=c(-3, 8.5))\n",
    "\n",
    "axis(2, at=c(0,2,4,6,8))\n",
    "text(x=1:27, y = -2, labels = levels(Owls$Nest), cex=0.75, srt=75)"
   ]
  },
  {
   "cell_type": "markdown",
   "id": "dae32404",
   "metadata": {},
   "source": [
    "As We are seeing there is no relation b/w NegPerChick and Nest data, So this analysis will be not usefull in our modeling."
   ]
  },
  {
   "cell_type": "markdown",
   "id": "f56c4ab6",
   "metadata": {},
   "source": [
    "`Code explanation:` \n",
    "* Because we used the option **axes=FALSE**, the boxplot function drew the boxplot without axes line.\n",
    "* The **ylim** specifies the lower and upper limits of the vertical axis.\n",
    "* In this case we used the **ylim** as -3 to 8.5, This allowed us to put the labels in the lower part of th graph.\n",
    "* The **axis** function draws an axis, Because we entered 2 as the first argument, the vertical axis on the left is drawn.\n",
    "* The **at** argument specifies where the tick marks should be.\n",
    "* The **text** command places all the labels at the appropriate coordinates.\n",
    "* The **cex** argument specifies the font.\n",
    "* The **srt** defines the angle."
   ]
  },
  {
   "cell_type": "markdown",
   "id": "787b382c",
   "metadata": {},
   "source": [
    "### 3.2 Boxplots Showing the Benthic Data\n",
    "\n",
    "In the marine bentihic dataset, species richness is was measured (in previous sections) at none beaches. We new make a box plot for each beach.\n",
    "\n",
    "Note that there are only five observation per beach. Because this is a low number for boxplots, we specify the `varwidth=TRUE` option in the boxplot function to make the width of each box proportional to the number of observations on the beach.\n",
    "\n"
   ]
  },
  {
   "cell_type": "code",
   "execution_count": 42,
   "id": "b47a8e7f",
   "metadata": {},
   "outputs": [],
   "source": [
    "# Importing the data\n",
    "Benthic = read.table(file=\"RBook/RBook/RIKZ2.txt\", header=TRUE)"
   ]
  },
  {
   "cell_type": "code",
   "execution_count": 43,
   "id": "41586475",
   "metadata": {},
   "outputs": [
    {
     "data": {
      "text/html": [
       "<table>\n",
       "<thead><tr><th scope=col>Sample</th><th scope=col>Richness</th><th scope=col>Exposure</th><th scope=col>NAP</th><th scope=col>Beach</th><th scope=col>grainsize</th><th scope=col>humus</th><th scope=col>chalk</th><th scope=col>sorting1</th></tr></thead>\n",
       "<tbody>\n",
       "\t<tr><td>1     </td><td>11    </td><td>10    </td><td> 0.045</td><td>1     </td><td>222.5 </td><td>0.05  </td><td>2.05  </td><td>69.830</td></tr>\n",
       "\t<tr><td>2     </td><td>10    </td><td>10    </td><td>-1.036</td><td>1     </td><td>200.0 </td><td>0.30  </td><td>2.50  </td><td>59.000</td></tr>\n",
       "\t<tr><td>3     </td><td>13    </td><td>10    </td><td>-1.336</td><td>1     </td><td>194.5 </td><td>0.10  </td><td>3.45  </td><td>59.220</td></tr>\n",
       "\t<tr><td>4     </td><td>11    </td><td>10    </td><td> 0.616</td><td>1     </td><td>221.0 </td><td>0.15  </td><td>1.60  </td><td>67.750</td></tr>\n",
       "\t<tr><td>5     </td><td>10    </td><td>10    </td><td>-0.684</td><td>1     </td><td>202.0 </td><td>0.05  </td><td>2.45  </td><td>57.760</td></tr>\n",
       "\t<tr><td>6     </td><td> 8    </td><td> 8    </td><td> 1.190</td><td>2     </td><td>192.5 </td><td>0.10  </td><td>2.50  </td><td>53.075</td></tr>\n",
       "</tbody>\n",
       "</table>\n"
      ],
      "text/latex": [
       "\\begin{tabular}{r|lllllllll}\n",
       " Sample & Richness & Exposure & NAP & Beach & grainsize & humus & chalk & sorting1\\\\\n",
       "\\hline\n",
       "\t 1      & 11     & 10     &  0.045 & 1      & 222.5  & 0.05   & 2.05   & 69.830\\\\\n",
       "\t 2      & 10     & 10     & -1.036 & 1      & 200.0  & 0.30   & 2.50   & 59.000\\\\\n",
       "\t 3      & 13     & 10     & -1.336 & 1      & 194.5  & 0.10   & 3.45   & 59.220\\\\\n",
       "\t 4      & 11     & 10     &  0.616 & 1      & 221.0  & 0.15   & 1.60   & 67.750\\\\\n",
       "\t 5      & 10     & 10     & -0.684 & 1      & 202.0  & 0.05   & 2.45   & 57.760\\\\\n",
       "\t 6      &  8     &  8     &  1.190 & 2      & 192.5  & 0.10   & 2.50   & 53.075\\\\\n",
       "\\end{tabular}\n"
      ],
      "text/markdown": [
       "\n",
       "| Sample | Richness | Exposure | NAP | Beach | grainsize | humus | chalk | sorting1 |\n",
       "|---|---|---|---|---|---|---|---|---|\n",
       "| 1      | 11     | 10     |  0.045 | 1      | 222.5  | 0.05   | 2.05   | 69.830 |\n",
       "| 2      | 10     | 10     | -1.036 | 1      | 200.0  | 0.30   | 2.50   | 59.000 |\n",
       "| 3      | 13     | 10     | -1.336 | 1      | 194.5  | 0.10   | 3.45   | 59.220 |\n",
       "| 4      | 11     | 10     |  0.616 | 1      | 221.0  | 0.15   | 1.60   | 67.750 |\n",
       "| 5      | 10     | 10     | -0.684 | 1      | 202.0  | 0.05   | 2.45   | 57.760 |\n",
       "| 6      |  8     |  8     |  1.190 | 2      | 192.5  | 0.10   | 2.50   | 53.075 |\n",
       "\n"
      ],
      "text/plain": [
       "  Sample Richness Exposure NAP    Beach grainsize humus chalk sorting1\n",
       "1 1      11       10        0.045 1     222.5     0.05  2.05  69.830  \n",
       "2 2      10       10       -1.036 1     200.0     0.30  2.50  59.000  \n",
       "3 3      13       10       -1.336 1     194.5     0.10  3.45  59.220  \n",
       "4 4      11       10        0.616 1     221.0     0.15  1.60  67.750  \n",
       "5 5      10       10       -0.684 1     202.0     0.05  2.45  57.760  \n",
       "6 6       8        8        1.190 2     192.5     0.10  2.50  53.075  "
      ]
     },
     "metadata": {},
     "output_type": "display_data"
    }
   ],
   "source": [
    "head(Benthic)"
   ]
  },
  {
   "cell_type": "code",
   "execution_count": 44,
   "id": "5983bcfc",
   "metadata": {},
   "outputs": [
    {
     "name": "stdout",
     "output_type": "stream",
     "text": [
      "'data.frame':\t45 obs. of  9 variables:\n",
      " $ Sample   : int  1 2 3 4 5 6 7 8 9 10 ...\n",
      " $ Richness : int  11 10 13 11 10 8 9 8 19 17 ...\n",
      " $ Exposure : int  10 10 10 10 10 8 8 8 8 8 ...\n",
      " $ NAP      : num  0.045 -1.036 -1.336 0.616 -0.684 ...\n",
      " $ Beach    : int  1 1 1 1 1 2 2 2 2 2 ...\n",
      " $ grainsize: num  222 200 194 221 202 ...\n",
      " $ humus    : num  0.05 0.3 0.1 0.15 0.05 0.1 0.1 0.1 0.15 0 ...\n",
      " $ chalk    : num  2.05 2.5 3.45 1.6 2.45 2.5 1.85 1.7 2.3 2.6 ...\n",
      " $ sorting1 : num  69.8 59 59.2 67.8 57.8 ...\n"
     ]
    }
   ],
   "source": [
    "str(Benthic)"
   ]
  },
  {
   "cell_type": "code",
   "execution_count": 45,
   "id": "163f10af",
   "metadata": {},
   "outputs": [],
   "source": [
    "# Now we need number of observation per beach\n",
    "# This can be done by using the tapply() function using length as FUN.\n",
    "\n",
    "# Getting the observation of richness per beach\n",
    "Bent.le = tapply(Benthic$Richness, Benthic$Beach, FUN=length)"
   ]
  },
  {
   "cell_type": "code",
   "execution_count": 46,
   "id": "8ea2e8d9",
   "metadata": {},
   "outputs": [
    {
     "data": {
      "text/html": [
       "<dl class=dl-horizontal>\n",
       "\t<dt>1</dt>\n",
       "\t\t<dd>5</dd>\n",
       "\t<dt>2</dt>\n",
       "\t\t<dd>5</dd>\n",
       "\t<dt>3</dt>\n",
       "\t\t<dd>5</dd>\n",
       "\t<dt>4</dt>\n",
       "\t\t<dd>5</dd>\n",
       "\t<dt>5</dt>\n",
       "\t\t<dd>5</dd>\n",
       "\t<dt>6</dt>\n",
       "\t\t<dd>5</dd>\n",
       "\t<dt>7</dt>\n",
       "\t\t<dd>5</dd>\n",
       "\t<dt>8</dt>\n",
       "\t\t<dd>5</dd>\n",
       "\t<dt>9</dt>\n",
       "\t\t<dd>5</dd>\n",
       "</dl>\n"
      ],
      "text/latex": [
       "\\begin{description*}\n",
       "\\item[1] 5\n",
       "\\item[2] 5\n",
       "\\item[3] 5\n",
       "\\item[4] 5\n",
       "\\item[5] 5\n",
       "\\item[6] 5\n",
       "\\item[7] 5\n",
       "\\item[8] 5\n",
       "\\item[9] 5\n",
       "\\end{description*}\n"
      ],
      "text/markdown": [
       "1\n",
       ":   52\n",
       ":   53\n",
       ":   54\n",
       ":   55\n",
       ":   56\n",
       ":   57\n",
       ":   58\n",
       ":   59\n",
       ":   5\n",
       "\n"
      ],
      "text/plain": [
       "1 2 3 4 5 6 7 8 9 \n",
       "5 5 5 5 5 5 5 5 5 "
      ]
     },
     "metadata": {},
     "output_type": "display_data"
    }
   ],
   "source": [
    "Bent.le"
   ]
  },
  {
   "cell_type": "markdown",
   "id": "a16b45eb",
   "metadata": {},
   "source": [
    "As we have seen before that each beach has 5 observation. Now we need to plot the richness using the boxplot."
   ]
  },
  {
   "cell_type": "code",
   "execution_count": 47,
   "id": "3faa3cc2",
   "metadata": {},
   "outputs": [
    {
     "data": {
      "image/png": "[encoded data removed]",
      "text/plain": [
       "plot without title"
      ]
     },
     "metadata": {},
     "output_type": "display_data"
    }
   ],
   "source": [
    "# plotting the boxplot having Richness as a function of Beach.\n",
    "boxplot(Richness ~ Beach, data=Benthic)"
   ]
  },
  {
   "cell_type": "markdown",
   "id": "e52bbce0",
   "metadata": {},
   "source": [
    "Since our dataset is too small so we need to add some more detail on the graph, showing our observation on boxplot.\n",
    "\n",
    "To place the number of observation on the boxplot we need its coordinate, since we want to show it at the middle of the boxplot which can be calculated by (upper hings values - lower hings value) this will give us the middle point for each boxplot if we apply this for each boxplot.\n",
    "\n",
    "Note: upper hings and lower hings values are stored in the boxplot output."
   ]
  },
  {
   "cell_type": "code",
   "execution_count": 48,
   "id": "6806bc70",
   "metadata": {},
   "outputs": [
    {
     "data": {
      "image/png": "[encoded data removed]",
      "text/plain": [
       "plot without title"
      ]
     },
     "metadata": {},
     "output_type": "display_data"
    }
   ],
   "source": [
    "# storing the boxplot info into BP.info variable\n",
    "BP.info  = boxplot(Richness ~ Beach, data=Benthic, col=3)"
   ]
  },
  {
   "cell_type": "code",
   "execution_count": 49,
   "id": "83b4fa45",
   "metadata": {},
   "outputs": [
    {
     "data": {
      "text/html": [
       "<dl>\n",
       "\t<dt>$stats</dt>\n",
       "\t\t<dd><ol class=list-inline>\n",
       "\t<li>10</li>\n",
       "\t<li>10</li>\n",
       "\t<li>11</li>\n",
       "\t<li>11</li>\n",
       "\t<li>11</li>\n",
       "\t<li>8</li>\n",
       "\t<li>8</li>\n",
       "\t<li>9</li>\n",
       "\t<li>17</li>\n",
       "\t<li>19</li>\n",
       "\t<li>3</li>\n",
       "\t<li>3</li>\n",
       "\t<li>3</li>\n",
       "\t<li>4</li>\n",
       "\t<li>4</li>\n",
       "\t<li>1</li>\n",
       "\t<li>1</li>\n",
       "\t<li>3</li>\n",
       "\t<li>3</li>\n",
       "\t<li>4</li>\n",
       "\t<li>0</li>\n",
       "\t<li>3</li>\n",
       "\t<li>6</li>\n",
       "\t<li>6</li>\n",
       "\t<li>6</li>\n",
       "\t<li>4</li>\n",
       "\t<li>4</li>\n",
       "\t<li>4</li>\n",
       "\t<li>5</li>\n",
       "\t<li>6</li>\n",
       "\t<li>1</li>\n",
       "\t<li>1</li>\n",
       "\t<li>2</li>\n",
       "\t<li>3</li>\n",
       "\t<li>4</li>\n",
       "\t<li>0</li>\n",
       "\t<li>3</li>\n",
       "\t<li>5</li>\n",
       "\t<li>5</li>\n",
       "\t<li>7</li>\n",
       "\t<li>0</li>\n",
       "\t<li>2</li>\n",
       "\t<li>3</li>\n",
       "\t<li>7</li>\n",
       "\t<li>11</li>\n",
       "</ol>\n",
       "</dd>\n",
       "\t<dt>$n</dt>\n",
       "\t\t<dd><ol class=list-inline>\n",
       "\t<li>5</li>\n",
       "\t<li>5</li>\n",
       "\t<li>5</li>\n",
       "\t<li>5</li>\n",
       "\t<li>5</li>\n",
       "\t<li>5</li>\n",
       "\t<li>5</li>\n",
       "\t<li>5</li>\n",
       "\t<li>5</li>\n",
       "</ol>\n",
       "</dd>\n",
       "\t<dt>$conf</dt>\n",
       "\t\t<dd><table>\n",
       "<tbody>\n",
       "\t<tr><td>10.2934   </td><td> 2.640623 </td><td>2.293403  </td><td>1.586805  </td><td>3.880208  </td><td>3.293403  </td><td>0.586805  </td><td>3.586805  </td><td>-0.5329874</td></tr>\n",
       "\t<tr><td>11.7066   </td><td>15.359377 </td><td>3.706597  </td><td>4.413195  </td><td>8.119792  </td><td>4.706597  </td><td>3.413195  </td><td>6.413195  </td><td> 6.5329874</td></tr>\n",
       "</tbody>\n",
       "</table>\n",
       "</dd>\n",
       "\t<dt>$out</dt>\n",
       "\t\t<dd><ol class=list-inline>\n",
       "\t<li>13</li>\n",
       "\t<li>6</li>\n",
       "\t<li>1</li>\n",
       "\t<li>22</li>\n",
       "\t<li>1</li>\n",
       "</ol>\n",
       "</dd>\n",
       "\t<dt>$group</dt>\n",
       "\t\t<dd><ol class=list-inline>\n",
       "\t<li>1</li>\n",
       "\t<li>3</li>\n",
       "\t<li>3</li>\n",
       "\t<li>5</li>\n",
       "\t<li>6</li>\n",
       "</ol>\n",
       "</dd>\n",
       "\t<dt>$names</dt>\n",
       "\t\t<dd><ol class=list-inline>\n",
       "\t<li>'1'</li>\n",
       "\t<li>'2'</li>\n",
       "\t<li>'3'</li>\n",
       "\t<li>'4'</li>\n",
       "\t<li>'5'</li>\n",
       "\t<li>'6'</li>\n",
       "\t<li>'7'</li>\n",
       "\t<li>'8'</li>\n",
       "\t<li>'9'</li>\n",
       "</ol>\n",
       "</dd>\n",
       "</dl>\n"
      ],
      "text/latex": [
       "\\begin{description}\n",
       "\\item[\\$stats] \\begin{enumerate*}\n",
       "\\item 10\n",
       "\\item 10\n",
       "\\item 11\n",
       "\\item 11\n",
       "\\item 11\n",
       "\\item 8\n",
       "\\item 8\n",
       "\\item 9\n",
       "\\item 17\n",
       "\\item 19\n",
       "\\item 3\n",
       "\\item 3\n",
       "\\item 3\n",
       "\\item 4\n",
       "\\item 4\n",
       "\\item 1\n",
       "\\item 1\n",
       "\\item 3\n",
       "\\item 3\n",
       "\\item 4\n",
       "\\item 0\n",
       "\\item 3\n",
       "\\item 6\n",
       "\\item 6\n",
       "\\item 6\n",
       "\\item 4\n",
       "\\item 4\n",
       "\\item 4\n",
       "\\item 5\n",
       "\\item 6\n",
       "\\item 1\n",
       "\\item 1\n",
       "\\item 2\n",
       "\\item 3\n",
       "\\item 4\n",
       "\\item 0\n",
       "\\item 3\n",
       "\\item 5\n",
       "\\item 5\n",
       "\\item 7\n",
       "\\item 0\n",
       "\\item 2\n",
       "\\item 3\n",
       "\\item 7\n",
       "\\item 11\n",
       "\\end{enumerate*}\n",
       "\n",
       "\\item[\\$n] \\begin{enumerate*}\n",
       "\\item 5\n",
       "\\item 5\n",
       "\\item 5\n",
       "\\item 5\n",
       "\\item 5\n",
       "\\item 5\n",
       "\\item 5\n",
       "\\item 5\n",
       "\\item 5\n",
       "\\end{enumerate*}\n",
       "\n",
       "\\item[\\$conf] \\begin{tabular}{lllllllll}\n",
       "\t 10.2934    &  2.640623  & 2.293403   & 1.586805   & 3.880208   & 3.293403   & 0.586805   & 3.586805   & -0.5329874\\\\\n",
       "\t 11.7066    & 15.359377  & 3.706597   & 4.413195   & 8.119792   & 4.706597   & 3.413195   & 6.413195   &  6.5329874\\\\\n",
       "\\end{tabular}\n",
       "\n",
       "\\item[\\$out] \\begin{enumerate*}\n",
       "\\item 13\n",
       "\\item 6\n",
       "\\item 1\n",
       "\\item 22\n",
       "\\item 1\n",
       "\\end{enumerate*}\n",
       "\n",
       "\\item[\\$group] \\begin{enumerate*}\n",
       "\\item 1\n",
       "\\item 3\n",
       "\\item 3\n",
       "\\item 5\n",
       "\\item 6\n",
       "\\end{enumerate*}\n",
       "\n",
       "\\item[\\$names] \\begin{enumerate*}\n",
       "\\item '1'\n",
       "\\item '2'\n",
       "\\item '3'\n",
       "\\item '4'\n",
       "\\item '5'\n",
       "\\item '6'\n",
       "\\item '7'\n",
       "\\item '8'\n",
       "\\item '9'\n",
       "\\end{enumerate*}\n",
       "\n",
       "\\end{description}\n"
      ],
      "text/markdown": [
       "$stats\n",
       ":   1. 10\n",
       "2. 10\n",
       "3. 11\n",
       "4. 11\n",
       "5. 11\n",
       "6. 8\n",
       "7. 8\n",
       "8. 9\n",
       "9. 17\n",
       "10. 19\n",
       "11. 3\n",
       "12. 3\n",
       "13. 3\n",
       "14. 4\n",
       "15. 4\n",
       "16. 1\n",
       "17. 1\n",
       "18. 3\n",
       "19. 3\n",
       "20. 4\n",
       "21. 0\n",
       "22. 3\n",
       "23. 6\n",
       "24. 6\n",
       "25. 6\n",
       "26. 4\n",
       "27. 4\n",
       "28. 4\n",
       "29. 5\n",
       "30. 6\n",
       "31. 1\n",
       "32. 1\n",
       "33. 2\n",
       "34. 3\n",
       "35. 4\n",
       "36. 0\n",
       "37. 3\n",
       "38. 5\n",
       "39. 5\n",
       "40. 7\n",
       "41. 0\n",
       "42. 2\n",
       "43. 3\n",
       "44. 7\n",
       "45. 11\n",
       "\n",
       "\n",
       "\n",
       "$n\n",
       ":   1. 5\n",
       "2. 5\n",
       "3. 5\n",
       "4. 5\n",
       "5. 5\n",
       "6. 5\n",
       "7. 5\n",
       "8. 5\n",
       "9. 5\n",
       "\n",
       "\n",
       "\n",
       "$conf\n",
       ":   \n",
       "| 10.2934    |  2.640623  | 2.293403   | 1.586805   | 3.880208   | 3.293403   | 0.586805   | 3.586805   | -0.5329874 |\n",
       "| 11.7066    | 15.359377  | 3.706597   | 4.413195   | 8.119792   | 4.706597   | 3.413195   | 6.413195   |  6.5329874 |\n",
       "\n",
       "\n",
       "$out\n",
       ":   1. 13\n",
       "2. 6\n",
       "3. 1\n",
       "4. 22\n",
       "5. 1\n",
       "\n",
       "\n",
       "\n",
       "$group\n",
       ":   1. 1\n",
       "2. 3\n",
       "3. 3\n",
       "4. 5\n",
       "5. 6\n",
       "\n",
       "\n",
       "\n",
       "$names\n",
       ":   1. '1'\n",
       "2. '2'\n",
       "3. '3'\n",
       "4. '4'\n",
       "5. '5'\n",
       "6. '6'\n",
       "7. '7'\n",
       "8. '8'\n",
       "9. '9'\n",
       "\n",
       "\n",
       "\n",
       "\n",
       "\n"
      ],
      "text/plain": [
       "$stats\n",
       "     [,1] [,2] [,3] [,4] [,5] [,6] [,7] [,8] [,9]\n",
       "[1,]   10    8    3    1    0    4    1    0    0\n",
       "[2,]   10    8    3    1    3    4    1    3    2\n",
       "[3,]   11    9    3    3    6    4    2    5    3\n",
       "[4,]   11   17    4    3    6    5    3    5    7\n",
       "[5,]   11   19    4    4    6    6    4    7   11\n",
       "attr(,\"class\")\n",
       "        1 \n",
       "\"integer\" \n",
       "\n",
       "$n\n",
       "[1] 5 5 5 5 5 5 5 5 5\n",
       "\n",
       "$conf\n",
       "        [,1]      [,2]     [,3]     [,4]     [,5]     [,6]     [,7]     [,8]\n",
       "[1,] 10.2934  2.640623 2.293403 1.586805 3.880208 3.293403 0.586805 3.586805\n",
       "[2,] 11.7066 15.359377 3.706597 4.413195 8.119792 4.706597 3.413195 6.413195\n",
       "           [,9]\n",
       "[1,] -0.5329874\n",
       "[2,]  6.5329874\n",
       "\n",
       "$out\n",
       "[1] 13  6  1 22  1\n",
       "\n",
       "$group\n",
       "[1] 1 3 3 5 6\n",
       "\n",
       "$names\n",
       "[1] \"1\" \"2\" \"3\" \"4\" \"5\" \"6\" \"7\" \"8\" \"9\"\n"
      ]
     },
     "metadata": {},
     "output_type": "display_data"
    }
   ],
   "source": [
    "# Checking the BP.info\n",
    "BP.info"
   ]
  },
  {
   "cell_type": "markdown",
   "id": "60759b72",
   "metadata": {},
   "source": [
    "Now BP.info contains many values from them we only need hings vlaue which are available in $stats. Now we will access the $stats."
   ]
  },
  {
   "cell_type": "code",
   "execution_count": 50,
   "id": "958e2e5b",
   "metadata": {},
   "outputs": [
    {
     "data": {
      "text/html": [
       "<ol class=list-inline>\n",
       "\t<li>10</li>\n",
       "\t<li>10</li>\n",
       "\t<li>11</li>\n",
       "\t<li>11</li>\n",
       "\t<li>11</li>\n",
       "\t<li>8</li>\n",
       "\t<li>8</li>\n",
       "\t<li>9</li>\n",
       "\t<li>17</li>\n",
       "\t<li>19</li>\n",
       "\t<li>3</li>\n",
       "\t<li>3</li>\n",
       "\t<li>3</li>\n",
       "\t<li>4</li>\n",
       "\t<li>4</li>\n",
       "\t<li>1</li>\n",
       "\t<li>1</li>\n",
       "\t<li>3</li>\n",
       "\t<li>3</li>\n",
       "\t<li>4</li>\n",
       "\t<li>0</li>\n",
       "\t<li>3</li>\n",
       "\t<li>6</li>\n",
       "\t<li>6</li>\n",
       "\t<li>6</li>\n",
       "\t<li>4</li>\n",
       "\t<li>4</li>\n",
       "\t<li>4</li>\n",
       "\t<li>5</li>\n",
       "\t<li>6</li>\n",
       "\t<li>1</li>\n",
       "\t<li>1</li>\n",
       "\t<li>2</li>\n",
       "\t<li>3</li>\n",
       "\t<li>4</li>\n",
       "\t<li>0</li>\n",
       "\t<li>3</li>\n",
       "\t<li>5</li>\n",
       "\t<li>5</li>\n",
       "\t<li>7</li>\n",
       "\t<li>0</li>\n",
       "\t<li>2</li>\n",
       "\t<li>3</li>\n",
       "\t<li>7</li>\n",
       "\t<li>11</li>\n",
       "</ol>\n"
      ],
      "text/latex": [
       "\\begin{enumerate*}\n",
       "\\item 10\n",
       "\\item 10\n",
       "\\item 11\n",
       "\\item 11\n",
       "\\item 11\n",
       "\\item 8\n",
       "\\item 8\n",
       "\\item 9\n",
       "\\item 17\n",
       "\\item 19\n",
       "\\item 3\n",
       "\\item 3\n",
       "\\item 3\n",
       "\\item 4\n",
       "\\item 4\n",
       "\\item 1\n",
       "\\item 1\n",
       "\\item 3\n",
       "\\item 3\n",
       "\\item 4\n",
       "\\item 0\n",
       "\\item 3\n",
       "\\item 6\n",
       "\\item 6\n",
       "\\item 6\n",
       "\\item 4\n",
       "\\item 4\n",
       "\\item 4\n",
       "\\item 5\n",
       "\\item 6\n",
       "\\item 1\n",
       "\\item 1\n",
       "\\item 2\n",
       "\\item 3\n",
       "\\item 4\n",
       "\\item 0\n",
       "\\item 3\n",
       "\\item 5\n",
       "\\item 5\n",
       "\\item 7\n",
       "\\item 0\n",
       "\\item 2\n",
       "\\item 3\n",
       "\\item 7\n",
       "\\item 11\n",
       "\\end{enumerate*}\n"
      ],
      "text/markdown": [
       "1. 10\n",
       "2. 10\n",
       "3. 11\n",
       "4. 11\n",
       "5. 11\n",
       "6. 8\n",
       "7. 8\n",
       "8. 9\n",
       "9. 17\n",
       "10. 19\n",
       "11. 3\n",
       "12. 3\n",
       "13. 3\n",
       "14. 4\n",
       "15. 4\n",
       "16. 1\n",
       "17. 1\n",
       "18. 3\n",
       "19. 3\n",
       "20. 4\n",
       "21. 0\n",
       "22. 3\n",
       "23. 6\n",
       "24. 6\n",
       "25. 6\n",
       "26. 4\n",
       "27. 4\n",
       "28. 4\n",
       "29. 5\n",
       "30. 6\n",
       "31. 1\n",
       "32. 1\n",
       "33. 2\n",
       "34. 3\n",
       "35. 4\n",
       "36. 0\n",
       "37. 3\n",
       "38. 5\n",
       "39. 5\n",
       "40. 7\n",
       "41. 0\n",
       "42. 2\n",
       "43. 3\n",
       "44. 7\n",
       "45. 11\n",
       "\n",
       "\n"
      ],
      "text/plain": [
       "     [,1] [,2] [,3] [,4] [,5] [,6] [,7] [,8] [,9]\n",
       "[1,]   10    8    3    1    0    4    1    0    0\n",
       "[2,]   10    8    3    1    3    4    1    3    2\n",
       "[3,]   11    9    3    3    6    4    2    5    3\n",
       "[4,]   11   17    4    3    6    5    3    5    7\n",
       "[5,]   11   19    4    4    6    6    4    7   11\n",
       "attr(,\"class\")\n",
       "        1 \n",
       "\"integer\" "
      ]
     },
     "metadata": {},
     "output_type": "display_data"
    }
   ],
   "source": [
    "BP.info$stats"
   ]
  },
  {
   "cell_type": "code",
   "execution_count": 51,
   "id": "6686fbcc",
   "metadata": {},
   "outputs": [],
   "source": [
    "# Getting the 4th row data upper hings data\n",
    "UPH = BP.info$stats[4,]"
   ]
  },
  {
   "cell_type": "code",
   "execution_count": 52,
   "id": "b6b2918e",
   "metadata": {},
   "outputs": [],
   "source": [
    "# Getting the 2nd row data lower hings data\n",
    "LWH = BP.info$stats[2,]"
   ]
  },
  {
   "cell_type": "code",
   "execution_count": 53,
   "id": "2f240958",
   "metadata": {},
   "outputs": [],
   "source": [
    "# getting the mid point for each boxplot\n",
    "BP.mid = LWH + (UPH-LWH)/2"
   ]
  },
  {
   "cell_type": "code",
   "execution_count": 54,
   "id": "59866a9e",
   "metadata": {},
   "outputs": [
    {
     "data": {
      "image/png": "[encoded data removed]",
      "text/plain": [
       "plot without title"
      ]
     },
     "metadata": {},
     "output_type": "display_data"
    }
   ],
   "source": [
    "# Placing the text on the boxplot at mid point.\n",
    "boxplot(Richness ~ Beach, data=Benthic, col=3)\n",
    "text(c(1:9), BP.mid, Benth.le, col=0)"
   ]
  },
  {
   "cell_type": "markdown",
   "id": "257bc70a",
   "metadata": {},
   "source": [
    "___"
   ]
  },
  {
   "cell_type": "markdown",
   "id": "8592ff41",
   "metadata": {},
   "source": [
    "### 4. Cleveland Dotplots\n",
    "\n",
    "Dotplots, also known as Cleveland dotplots, are excellent tools for outliers detection. \n",
    "\n",
    "In this section we will use deer dataset which is already used in previous section. this data were from multiple farms, months, years, and sexes.\n",
    "\n",
    "One of the aims of the study was to assess the relationship b/w the number of E. *cervi* parasites in deer and the length of the animal.\n",
    "\n",
    "Before doing any analysis, we should inspect each sontinuous variable in the dataset for outliers. This can be done with the help of boxplot or cleveland dotplot.\n",
    "\n",
    "Now we will import the data."
   ]
  },
  {
   "cell_type": "code",
   "execution_count": 55,
   "id": "6da47bce",
   "metadata": {},
   "outputs": [],
   "source": [
    "Deer = read.table(file=\"RBook/RBook/Deer.txt\", header=TRUE)"
   ]
  },
  {
   "cell_type": "code",
   "execution_count": 56,
   "id": "235a18d6",
   "metadata": {},
   "outputs": [
    {
     "data": {
      "text/html": [
       "<table>\n",
       "<thead><tr><th scope=col>Farm</th><th scope=col>Month</th><th scope=col>Year</th><th scope=col>Sex</th><th scope=col>clas1_4</th><th scope=col>LCT</th><th scope=col>KFI</th><th scope=col>Ecervi</th><th scope=col>Tb</th></tr></thead>\n",
       "<tbody>\n",
       "\t<tr><td>AL   </td><td>10   </td><td>0    </td><td>1    </td><td>4    </td><td>191  </td><td>20.45</td><td>0.00 </td><td> 0   </td></tr>\n",
       "\t<tr><td>AL   </td><td>10   </td><td>0    </td><td>1    </td><td>4    </td><td>180  </td><td>16.40</td><td>0.00 </td><td> 0   </td></tr>\n",
       "\t<tr><td>AL   </td><td>10   </td><td>0    </td><td>1    </td><td>3    </td><td>192  </td><td>15.90</td><td>2.38 </td><td> 0   </td></tr>\n",
       "\t<tr><td>AL   </td><td>10   </td><td>0    </td><td>1    </td><td>4    </td><td>196  </td><td>17.30</td><td>0.00 </td><td> 0   </td></tr>\n",
       "\t<tr><td>AL   </td><td>10   </td><td>0    </td><td>1    </td><td>4    </td><td>204  </td><td>   NA</td><td>0.00 </td><td>NA   </td></tr>\n",
       "\t<tr><td>AL   </td><td>10   </td><td>0    </td><td>1    </td><td>4    </td><td>190  </td><td>16.30</td><td>0.00 </td><td> 0   </td></tr>\n",
       "</tbody>\n",
       "</table>\n"
      ],
      "text/latex": [
       "\\begin{tabular}{r|lllllllll}\n",
       " Farm & Month & Year & Sex & clas1\\_4 & LCT & KFI & Ecervi & Tb\\\\\n",
       "\\hline\n",
       "\t AL    & 10    & 0     & 1     & 4     & 191   & 20.45 & 0.00  &  0   \\\\\n",
       "\t AL    & 10    & 0     & 1     & 4     & 180   & 16.40 & 0.00  &  0   \\\\\n",
       "\t AL    & 10    & 0     & 1     & 3     & 192   & 15.90 & 2.38  &  0   \\\\\n",
       "\t AL    & 10    & 0     & 1     & 4     & 196   & 17.30 & 0.00  &  0   \\\\\n",
       "\t AL    & 10    & 0     & 1     & 4     & 204   &    NA & 0.00  & NA   \\\\\n",
       "\t AL    & 10    & 0     & 1     & 4     & 190   & 16.30 & 0.00  &  0   \\\\\n",
       "\\end{tabular}\n"
      ],
      "text/markdown": [
       "\n",
       "| Farm | Month | Year | Sex | clas1_4 | LCT | KFI | Ecervi | Tb |\n",
       "|---|---|---|---|---|---|---|---|---|\n",
       "| AL    | 10    | 0     | 1     | 4     | 191   | 20.45 | 0.00  |  0    |\n",
       "| AL    | 10    | 0     | 1     | 4     | 180   | 16.40 | 0.00  |  0    |\n",
       "| AL    | 10    | 0     | 1     | 3     | 192   | 15.90 | 2.38  |  0    |\n",
       "| AL    | 10    | 0     | 1     | 4     | 196   | 17.30 | 0.00  |  0    |\n",
       "| AL    | 10    | 0     | 1     | 4     | 204   |    NA | 0.00  | NA    |\n",
       "| AL    | 10    | 0     | 1     | 4     | 190   | 16.30 | 0.00  |  0    |\n",
       "\n"
      ],
      "text/plain": [
       "  Farm Month Year Sex clas1_4 LCT KFI   Ecervi Tb\n",
       "1 AL   10    0    1   4       191 20.45 0.00    0\n",
       "2 AL   10    0    1   4       180 16.40 0.00    0\n",
       "3 AL   10    0    1   3       192 15.90 2.38    0\n",
       "4 AL   10    0    1   4       196 17.30 0.00    0\n",
       "5 AL   10    0    1   4       204    NA 0.00   NA\n",
       "6 AL   10    0    1   4       190 16.30 0.00    0"
      ]
     },
     "metadata": {},
     "output_type": "display_data"
    }
   ],
   "source": [
    "head(Deer)"
   ]
  },
  {
   "cell_type": "code",
   "execution_count": 57,
   "id": "d2c05558",
   "metadata": {},
   "outputs": [
    {
     "name": "stdout",
     "output_type": "stream",
     "text": [
      "'data.frame':\t1182 obs. of  9 variables:\n",
      " $ Farm   : Factor w/ 27 levels \"AL\",\"AU\",\"BA\",..: 1 1 1 1 1 1 1 1 1 1 ...\n",
      " $ Month  : int  10 10 10 10 10 10 10 10 10 10 ...\n",
      " $ Year   : int  0 0 0 0 0 0 0 0 0 0 ...\n",
      " $ Sex    : int  1 1 1 1 1 1 1 1 1 1 ...\n",
      " $ clas1_4: int  4 4 3 4 4 4 4 4 4 4 ...\n",
      " $ LCT    : num  191 180 192 196 204 190 196 200 197 208 ...\n",
      " $ KFI    : num  20.4 16.4 15.9 17.3 NA ...\n",
      " $ Ecervi : num  0 0 2.38 0 0 0 1.21 0 0.8 0 ...\n",
      " $ Tb     : int  0 0 0 0 NA 0 NA 1 0 0 ...\n"
     ]
    }
   ],
   "source": [
    "str(Deer)"
   ]
  },
  {
   "cell_type": "markdown",
   "id": "2a2d6308",
   "metadata": {},
   "source": [
    "**Plotting dotplot for length variable (LCT)**"
   ]
  },
  {
   "cell_type": "code",
   "execution_count": 58,
   "id": "012b7f7a",
   "metadata": {},
   "outputs": [
    {
     "data": {
      "image/png": "[encoded data removed]",
      "text/plain": [
       "Plot with title \"Dotplot for Length\""
      ]
     },
     "metadata": {},
     "output_type": "display_data"
    }
   ],
   "source": [
    "# Now we will plot the dotplot for length variable \n",
    "dotchart(Deer$LCT, col=2, xlab=\"Length (cm)\", ylab='Observation number', main=\"Dotplot for Length\")"
   ]
  },
  {
   "cell_type": "markdown",
   "id": "607476ef",
   "metadata": {},
   "source": [
    "From the above result we can see that most of the observation (Deer) lies on 150cm, so we can say that mostly Deer lengths are is about to 150cm.\n",
    "\n",
    "Note: we should notice that there are some outliers on both side, from the observation we can say  that a few Deer are very small as well as a few are very long."
   ]
  },
  {
   "cell_type": "markdown",
   "id": "b4902e17",
   "metadata": {},
   "source": [
    "**Ploting Dotplot by Sex category**"
   ]
  },
  {
   "cell_type": "code",
   "execution_count": 59,
   "id": "db7b46b3",
   "metadata": {},
   "outputs": [
    {
     "data": {
      "text/html": [
       "<dl class=dl-horizontal>\n",
       "\t<dt>Farm</dt>\n",
       "\t\t<dd>0</dd>\n",
       "\t<dt>Month</dt>\n",
       "\t\t<dd>61</dd>\n",
       "\t<dt>Year</dt>\n",
       "\t\t<dd>60</dd>\n",
       "\t<dt>Sex</dt>\n",
       "\t\t<dd>30</dd>\n",
       "\t<dt>clas1_4</dt>\n",
       "\t\t<dd>54</dd>\n",
       "\t<dt>LCT</dt>\n",
       "\t\t<dd>104</dd>\n",
       "\t<dt>KFI</dt>\n",
       "\t\t<dd>335</dd>\n",
       "\t<dt>Ecervi</dt>\n",
       "\t\t<dd>318</dd>\n",
       "\t<dt>Tb</dt>\n",
       "\t\t<dd>288</dd>\n",
       "</dl>\n"
      ],
      "text/latex": [
       "\\begin{description*}\n",
       "\\item[Farm] 0\n",
       "\\item[Month] 61\n",
       "\\item[Year] 60\n",
       "\\item[Sex] 30\n",
       "\\item[clas1\\textbackslash{}\\_4] 54\n",
       "\\item[LCT] 104\n",
       "\\item[KFI] 335\n",
       "\\item[Ecervi] 318\n",
       "\\item[Tb] 288\n",
       "\\end{description*}\n"
      ],
      "text/markdown": [
       "Farm\n",
       ":   0Month\n",
       ":   61Year\n",
       ":   60Sex\n",
       ":   30clas1_4\n",
       ":   54LCT\n",
       ":   104KFI\n",
       ":   335Ecervi\n",
       ":   318Tb\n",
       ":   288\n",
       "\n"
      ],
      "text/plain": [
       "   Farm   Month    Year     Sex clas1_4     LCT     KFI  Ecervi      Tb \n",
       "      0      61      60      30      54     104     335     318     288 "
      ]
     },
     "metadata": {},
     "output_type": "display_data"
    }
   ],
   "source": [
    "# Since Deer$Sex having some NA values so we need to remove them\n",
    "# first we need to check how many NA values are presented in the data.\n",
    "colSums(is.na(Deer))"
   ]
  },
  {
   "cell_type": "code",
   "execution_count": 60,
   "id": "3a59f8ba",
   "metadata": {},
   "outputs": [
    {
     "data": {
      "text/html": [
       "30"
      ],
      "text/latex": [
       "30"
      ],
      "text/markdown": [
       "30"
      ],
      "text/plain": [
       "[1] 30"
      ]
     },
     "metadata": {},
     "output_type": "display_data"
    }
   ],
   "source": [
    "sum(is.na(Deer$Sex))"
   ]
  },
  {
   "cell_type": "code",
   "execution_count": 61,
   "id": "b51a1ca9",
   "metadata": {},
   "outputs": [],
   "source": [
    "# we can plot the dotplot by grouping categories by using group argument available in the function.\n",
    "isna = is.na(Deer$Sex) # This will give us the vector of boolean values"
   ]
  },
  {
   "cell_type": "code",
   "execution_count": 62,
   "id": "cabbfc43",
   "metadata": {},
   "outputs": [
    {
     "data": {
      "image/png": "[encoded data removed]",
      "text/plain": [
       "plot without title"
      ]
     },
     "metadata": {},
     "output_type": "display_data"
    }
   ],
   "source": [
    "\n",
    "# Now we will use those values which are not having NA values\n",
    "# We need to reverse isna with by using !isna, this will select only those row \n",
    "# which are not having NA value in the Data\n",
    "dotchart(Deer$LCT[!isna], groups= factor(Deer$Sex[!isna]), col=2, xlab=\"Length(cm)\", ylab='Observation number grouped by Sex')"
   ]
  },
  {
   "cell_type": "markdown",
   "id": "2485f62c",
   "metadata": {},
   "source": [
    "From the output we can see the one sex call is clearly longer than the other one, this is also a very important information."
   ]
  },
  {
   "cell_type": "markdown",
   "id": "0be92a9f",
   "metadata": {},
   "source": [
    "___"
   ]
  },
  {
   "cell_type": "markdown",
   "id": "8c35c8cc",
   "metadata": {},
   "source": [
    "### 4.1 Adding the Mean to a Cleveland Dotplot\n",
    "\n",
    "Since cleveland dotplot are alternative to the boxplot that's why we will use this plot to analysis the benthic species richness per site with mean value. In this case we will plot all the data by using the dotplot."
   ]
  },
  {
   "cell_type": "code",
   "execution_count": 63,
   "id": "2479e61f",
   "metadata": {},
   "outputs": [],
   "source": [
    "# importing the data\n",
    "Benthic = read.table(file='RBook/RBook/RIKZ2.txt', header=TRUE)"
   ]
  },
  {
   "cell_type": "code",
   "execution_count": 64,
   "id": "fbc9c1c8",
   "metadata": {},
   "outputs": [
    {
     "data": {
      "text/html": [
       "<table>\n",
       "<thead><tr><th scope=col>Sample</th><th scope=col>Richness</th><th scope=col>Exposure</th><th scope=col>NAP</th><th scope=col>Beach</th><th scope=col>grainsize</th><th scope=col>humus</th><th scope=col>chalk</th><th scope=col>sorting1</th></tr></thead>\n",
       "<tbody>\n",
       "\t<tr><td>1     </td><td>11    </td><td>10    </td><td> 0.045</td><td>1     </td><td>222.5 </td><td>0.05  </td><td>2.05  </td><td>69.830</td></tr>\n",
       "\t<tr><td>2     </td><td>10    </td><td>10    </td><td>-1.036</td><td>1     </td><td>200.0 </td><td>0.30  </td><td>2.50  </td><td>59.000</td></tr>\n",
       "\t<tr><td>3     </td><td>13    </td><td>10    </td><td>-1.336</td><td>1     </td><td>194.5 </td><td>0.10  </td><td>3.45  </td><td>59.220</td></tr>\n",
       "\t<tr><td>4     </td><td>11    </td><td>10    </td><td> 0.616</td><td>1     </td><td>221.0 </td><td>0.15  </td><td>1.60  </td><td>67.750</td></tr>\n",
       "\t<tr><td>5     </td><td>10    </td><td>10    </td><td>-0.684</td><td>1     </td><td>202.0 </td><td>0.05  </td><td>2.45  </td><td>57.760</td></tr>\n",
       "\t<tr><td>6     </td><td> 8    </td><td> 8    </td><td> 1.190</td><td>2     </td><td>192.5 </td><td>0.10  </td><td>2.50  </td><td>53.075</td></tr>\n",
       "</tbody>\n",
       "</table>\n"
      ],
      "text/latex": [
       "\\begin{tabular}{r|lllllllll}\n",
       " Sample & Richness & Exposure & NAP & Beach & grainsize & humus & chalk & sorting1\\\\\n",
       "\\hline\n",
       "\t 1      & 11     & 10     &  0.045 & 1      & 222.5  & 0.05   & 2.05   & 69.830\\\\\n",
       "\t 2      & 10     & 10     & -1.036 & 1      & 200.0  & 0.30   & 2.50   & 59.000\\\\\n",
       "\t 3      & 13     & 10     & -1.336 & 1      & 194.5  & 0.10   & 3.45   & 59.220\\\\\n",
       "\t 4      & 11     & 10     &  0.616 & 1      & 221.0  & 0.15   & 1.60   & 67.750\\\\\n",
       "\t 5      & 10     & 10     & -0.684 & 1      & 202.0  & 0.05   & 2.45   & 57.760\\\\\n",
       "\t 6      &  8     &  8     &  1.190 & 2      & 192.5  & 0.10   & 2.50   & 53.075\\\\\n",
       "\\end{tabular}\n"
      ],
      "text/markdown": [
       "\n",
       "| Sample | Richness | Exposure | NAP | Beach | grainsize | humus | chalk | sorting1 |\n",
       "|---|---|---|---|---|---|---|---|---|\n",
       "| 1      | 11     | 10     |  0.045 | 1      | 222.5  | 0.05   | 2.05   | 69.830 |\n",
       "| 2      | 10     | 10     | -1.036 | 1      | 200.0  | 0.30   | 2.50   | 59.000 |\n",
       "| 3      | 13     | 10     | -1.336 | 1      | 194.5  | 0.10   | 3.45   | 59.220 |\n",
       "| 4      | 11     | 10     |  0.616 | 1      | 221.0  | 0.15   | 1.60   | 67.750 |\n",
       "| 5      | 10     | 10     | -0.684 | 1      | 202.0  | 0.05   | 2.45   | 57.760 |\n",
       "| 6      |  8     |  8     |  1.190 | 2      | 192.5  | 0.10   | 2.50   | 53.075 |\n",
       "\n"
      ],
      "text/plain": [
       "  Sample Richness Exposure NAP    Beach grainsize humus chalk sorting1\n",
       "1 1      11       10        0.045 1     222.5     0.05  2.05  69.830  \n",
       "2 2      10       10       -1.036 1     200.0     0.30  2.50  59.000  \n",
       "3 3      13       10       -1.336 1     194.5     0.10  3.45  59.220  \n",
       "4 4      11       10        0.616 1     221.0     0.15  1.60  67.750  \n",
       "5 5      10       10       -0.684 1     202.0     0.05  2.45  57.760  \n",
       "6 6       8        8        1.190 2     192.5     0.10  2.50  53.075  "
      ]
     },
     "metadata": {},
     "output_type": "display_data"
    }
   ],
   "source": [
    "head(Benthic)"
   ]
  },
  {
   "cell_type": "code",
   "execution_count": 65,
   "id": "bccf821e",
   "metadata": {},
   "outputs": [
    {
     "name": "stdout",
     "output_type": "stream",
     "text": [
      "'data.frame':\t45 obs. of  9 variables:\n",
      " $ Sample   : int  1 2 3 4 5 6 7 8 9 10 ...\n",
      " $ Richness : int  11 10 13 11 10 8 9 8 19 17 ...\n",
      " $ Exposure : int  10 10 10 10 10 8 8 8 8 8 ...\n",
      " $ NAP      : num  0.045 -1.036 -1.336 0.616 -0.684 ...\n",
      " $ Beach    : int  1 1 1 1 1 2 2 2 2 2 ...\n",
      " $ grainsize: num  222 200 194 221 202 ...\n",
      " $ humus    : num  0.05 0.3 0.1 0.15 0.05 0.1 0.1 0.1 0.15 0 ...\n",
      " $ chalk    : num  2.05 2.5 3.45 1.6 2.45 2.5 1.85 1.7 2.3 2.6 ...\n",
      " $ sorting1 : num  69.8 59 59.2 67.8 57.8 ...\n"
     ]
    }
   ],
   "source": [
    "str(Benthic)"
   ]
  },
  {
   "cell_type": "markdown",
   "id": "a22ed2e1",
   "metadata": {},
   "source": [
    "**Plotting the Richness**"
   ]
  },
  {
   "cell_type": "code",
   "execution_count": 66,
   "id": "7acfe7f7",
   "metadata": {},
   "outputs": [
    {
     "data": {
      "image/png": "[encoded data removed]",
      "text/plain": [
       "plot without title"
      ]
     },
     "metadata": {},
     "output_type": "display_data"
    }
   ],
   "source": [
    "# first we will plot the richness before ploting the mean per site.\n",
    "# but we will plot the richness by using per beach\n",
    "dotchart(Benthic$Richness, groups = Benthic$Beach, xlab=\"Richness\", ylab=\"Beach\", col=3)"
   ]
  },
  {
   "cell_type": "markdown",
   "id": "9fc13090",
   "metadata": {},
   "source": [
    "Note: Beach values are not showing in this because we haven't factorised them to which makes labels for each leavel."
   ]
  },
  {
   "cell_type": "code",
   "execution_count": 67,
   "id": "179382b4",
   "metadata": {},
   "outputs": [
    {
     "data": {
      "image/png": "[encoded data removed]",
      "text/plain": [
       "plot without title"
      ]
     },
     "metadata": {},
     "output_type": "display_data"
    }
   ],
   "source": [
    "# first we will plot the richness before ploting the mean per site.\n",
    "# but we will plot the richness by using per beach\n",
    "# with factor()\n",
    "dotchart(Benthic$Richness, groups = factor(Benthic$Beach), xlab=\"Richness\", ylab=\"Beach\", col=3)"
   ]
  },
  {
   "cell_type": "markdown",
   "id": "e912c3ed",
   "metadata": {},
   "source": [
    "Now we will calculate the mean of richness per site."
   ]
  },
  {
   "cell_type": "code",
   "execution_count": 68,
   "id": "f670419f",
   "metadata": {},
   "outputs": [],
   "source": [
    "Bent.mean = tapply(Benthic$Richness, Benthic$Beach, FUN=mean)"
   ]
  },
  {
   "cell_type": "code",
   "execution_count": 69,
   "id": "500a87e1",
   "metadata": {},
   "outputs": [
    {
     "data": {
      "text/html": [
       "<dl class=dl-horizontal>\n",
       "\t<dt>1</dt>\n",
       "\t\t<dd>11</dd>\n",
       "\t<dt>2</dt>\n",
       "\t\t<dd>12.2</dd>\n",
       "\t<dt>3</dt>\n",
       "\t\t<dd>3.4</dd>\n",
       "\t<dt>4</dt>\n",
       "\t\t<dd>2.4</dd>\n",
       "\t<dt>5</dt>\n",
       "\t\t<dd>7.4</dd>\n",
       "\t<dt>6</dt>\n",
       "\t\t<dd>4</dd>\n",
       "\t<dt>7</dt>\n",
       "\t\t<dd>2.2</dd>\n",
       "\t<dt>8</dt>\n",
       "\t\t<dd>4</dd>\n",
       "\t<dt>9</dt>\n",
       "\t\t<dd>4.6</dd>\n",
       "</dl>\n"
      ],
      "text/latex": [
       "\\begin{description*}\n",
       "\\item[1] 11\n",
       "\\item[2] 12.2\n",
       "\\item[3] 3.4\n",
       "\\item[4] 2.4\n",
       "\\item[5] 7.4\n",
       "\\item[6] 4\n",
       "\\item[7] 2.2\n",
       "\\item[8] 4\n",
       "\\item[9] 4.6\n",
       "\\end{description*}\n"
      ],
      "text/markdown": [
       "1\n",
       ":   112\n",
       ":   12.23\n",
       ":   3.44\n",
       ":   2.45\n",
       ":   7.46\n",
       ":   47\n",
       ":   2.28\n",
       ":   49\n",
       ":   4.6\n",
       "\n"
      ],
      "text/plain": [
       "   1    2    3    4    5    6    7    8    9 \n",
       "11.0 12.2  3.4  2.4  7.4  4.0  2.2  4.0  4.6 "
      ]
     },
     "metadata": {},
     "output_type": "display_data"
    }
   ],
   "source": [
    "Bent.mean"
   ]
  },
  {
   "cell_type": "code",
   "execution_count": 70,
   "id": "7a049a82",
   "metadata": {},
   "outputs": [
    {
     "data": {
      "image/png": "[encoded data removed]",
      "text/plain": [
       "plot without title"
      ]
     },
     "metadata": {},
     "output_type": "display_data"
    }
   ],
   "source": [
    "# now we will put this mean values in the dotplot, by using gdata.\n",
    "dotchart(Benthic$Richness, groups = factor(Benthic$Beach), xlab=\"Richness\", ylab=\"Beach\", col=3,\n",
    "        gdata=Bent.mean, gpch=16, gcol=2)\n",
    "\n",
    "# Now we will put the legent to distinguish mean and local values.\n",
    "legend(\"bottomright\", c(\"Values\",\"Means\"), pch=c(1,16), bg='white', col=c(3,2))"
   ]
  },
  {
   "cell_type": "markdown",
   "id": "c3427b53",
   "metadata": {},
   "source": [
    "## 5. Plot Function"
   ]
  },
  {
   "cell_type": "markdown",
   "id": "4ffd6f7e",
   "metadata": {},
   "source": [
    "### 5.1 The Generic plot function\n",
    "In R plot() function is the mostly used function, R provides many method for plot function to see them we can use methods(plot)."
   ]
  },
  {
   "cell_type": "code",
   "execution_count": 71,
   "id": "cdaaa3de",
   "metadata": {},
   "outputs": [
    {
     "data": {
      "text/plain": [
       " [1] plot.acf*           plot.data.frame*    plot.decomposed.ts*\n",
       " [4] plot.default        plot.dendrogram*    plot.density*      \n",
       " [7] plot.ecdf           plot.factor*        plot.formula*      \n",
       "[10] plot.function       plot.hclust*        plot.histogram*    \n",
       "[13] plot.HoltWinters*   plot.isoreg*        plot.lm*           \n",
       "[16] plot.medpolish*     plot.mlm*           plot.ppr*          \n",
       "[19] plot.prcomp*        plot.princomp*      plot.profile.nls*  \n",
       "[22] plot.raster*        plot.spec*          plot.stepfun       \n",
       "[25] plot.stl*           plot.table*         plot.ts            \n",
       "[28] plot.tskernel*      plot.TukeyHSD*     \n",
       "see '?methods' for accessing help and source code"
      ]
     },
     "metadata": {},
     "output_type": "display_data"
    }
   ],
   "source": [
    "methods(plot)"
   ]
  },
  {
   "cell_type": "markdown",
   "id": "4b4acfcc",
   "metadata": {},
   "source": [
    "As we can see the R provide a various kind of methods to for plot() function to make it more advance. for now we will not use any of them. For now we will use some more argument available in the plot() function."
   ]
  },
  {
   "cell_type": "markdown",
   "id": "4461baad",
   "metadata": {},
   "source": [
    "In this section we will use the Benthic species dadasets."
   ]
  },
  {
   "cell_type": "code",
   "execution_count": 72,
   "id": "fe137f47",
   "metadata": {},
   "outputs": [],
   "source": [
    "# importing the data\n",
    "Benthic = read.table(file=\"RBook/RBook/RIKZ2.txt\", header=TRUE)"
   ]
  },
  {
   "cell_type": "code",
   "execution_count": 73,
   "id": "eca00bf8",
   "metadata": {},
   "outputs": [
    {
     "data": {
      "text/html": [
       "<table>\n",
       "<thead><tr><th scope=col>Sample</th><th scope=col>Richness</th><th scope=col>Exposure</th><th scope=col>NAP</th><th scope=col>Beach</th><th scope=col>grainsize</th><th scope=col>humus</th><th scope=col>chalk</th><th scope=col>sorting1</th></tr></thead>\n",
       "<tbody>\n",
       "\t<tr><td>1     </td><td>11    </td><td>10    </td><td> 0.045</td><td>1     </td><td>222.5 </td><td>0.05  </td><td>2.05  </td><td>69.830</td></tr>\n",
       "\t<tr><td>2     </td><td>10    </td><td>10    </td><td>-1.036</td><td>1     </td><td>200.0 </td><td>0.30  </td><td>2.50  </td><td>59.000</td></tr>\n",
       "\t<tr><td>3     </td><td>13    </td><td>10    </td><td>-1.336</td><td>1     </td><td>194.5 </td><td>0.10  </td><td>3.45  </td><td>59.220</td></tr>\n",
       "\t<tr><td>4     </td><td>11    </td><td>10    </td><td> 0.616</td><td>1     </td><td>221.0 </td><td>0.15  </td><td>1.60  </td><td>67.750</td></tr>\n",
       "\t<tr><td>5     </td><td>10    </td><td>10    </td><td>-0.684</td><td>1     </td><td>202.0 </td><td>0.05  </td><td>2.45  </td><td>57.760</td></tr>\n",
       "\t<tr><td>6     </td><td> 8    </td><td> 8    </td><td> 1.190</td><td>2     </td><td>192.5 </td><td>0.10  </td><td>2.50  </td><td>53.075</td></tr>\n",
       "</tbody>\n",
       "</table>\n"
      ],
      "text/latex": [
       "\\begin{tabular}{r|lllllllll}\n",
       " Sample & Richness & Exposure & NAP & Beach & grainsize & humus & chalk & sorting1\\\\\n",
       "\\hline\n",
       "\t 1      & 11     & 10     &  0.045 & 1      & 222.5  & 0.05   & 2.05   & 69.830\\\\\n",
       "\t 2      & 10     & 10     & -1.036 & 1      & 200.0  & 0.30   & 2.50   & 59.000\\\\\n",
       "\t 3      & 13     & 10     & -1.336 & 1      & 194.5  & 0.10   & 3.45   & 59.220\\\\\n",
       "\t 4      & 11     & 10     &  0.616 & 1      & 221.0  & 0.15   & 1.60   & 67.750\\\\\n",
       "\t 5      & 10     & 10     & -0.684 & 1      & 202.0  & 0.05   & 2.45   & 57.760\\\\\n",
       "\t 6      &  8     &  8     &  1.190 & 2      & 192.5  & 0.10   & 2.50   & 53.075\\\\\n",
       "\\end{tabular}\n"
      ],
      "text/markdown": [
       "\n",
       "| Sample | Richness | Exposure | NAP | Beach | grainsize | humus | chalk | sorting1 |\n",
       "|---|---|---|---|---|---|---|---|---|\n",
       "| 1      | 11     | 10     |  0.045 | 1      | 222.5  | 0.05   | 2.05   | 69.830 |\n",
       "| 2      | 10     | 10     | -1.036 | 1      | 200.0  | 0.30   | 2.50   | 59.000 |\n",
       "| 3      | 13     | 10     | -1.336 | 1      | 194.5  | 0.10   | 3.45   | 59.220 |\n",
       "| 4      | 11     | 10     |  0.616 | 1      | 221.0  | 0.15   | 1.60   | 67.750 |\n",
       "| 5      | 10     | 10     | -0.684 | 1      | 202.0  | 0.05   | 2.45   | 57.760 |\n",
       "| 6      |  8     |  8     |  1.190 | 2      | 192.5  | 0.10   | 2.50   | 53.075 |\n",
       "\n"
      ],
      "text/plain": [
       "  Sample Richness Exposure NAP    Beach grainsize humus chalk sorting1\n",
       "1 1      11       10        0.045 1     222.5     0.05  2.05  69.830  \n",
       "2 2      10       10       -1.036 1     200.0     0.30  2.50  59.000  \n",
       "3 3      13       10       -1.336 1     194.5     0.10  3.45  59.220  \n",
       "4 4      11       10        0.616 1     221.0     0.15  1.60  67.750  \n",
       "5 5      10       10       -0.684 1     202.0     0.05  2.45  57.760  \n",
       "6 6       8        8        1.190 2     192.5     0.10  2.50  53.075  "
      ]
     },
     "metadata": {},
     "output_type": "display_data"
    }
   ],
   "source": [
    "head(Benthic)"
   ]
  },
  {
   "cell_type": "markdown",
   "id": "84e4f159",
   "metadata": {},
   "source": [
    "**Plotting scatterplot b/w richness and beach**"
   ]
  },
  {
   "cell_type": "code",
   "execution_count": 74,
   "id": "4eb4a87b",
   "metadata": {},
   "outputs": [
    {
     "data": {
      "image/png": "[encoded data removed]",
      "text/plain": [
       "plot without title"
      ]
     },
     "metadata": {},
     "output_type": "display_data"
    }
   ],
   "source": [
    "# Now we will draw a graph by using plot() function b/w Richness and Beach\n",
    "plot(Benthic$Richness ~ Benthic$Beach)"
   ]
  },
  {
   "cell_type": "markdown",
   "id": "24e00416",
   "metadata": {},
   "source": [
    "`Note:`Output gives us a scatter plot as we expected but if we applty factor() function on the Beach data then this will check the formula and it will draw a boxplot, this is the automation functionallity of the plot() function it detectes the formula or given data and gives output according to it."
   ]
  },
  {
   "cell_type": "code",
   "execution_count": 75,
   "id": "3399e19c",
   "metadata": {},
   "outputs": [
    {
     "data": {
      "image/png": "[encoded data removed]",
      "text/plain": [
       "plot without title"
      ]
     },
     "metadata": {},
     "output_type": "display_data"
    }
   ],
   "source": [
    "# Drawing the plot() which factorisation on the beach data.\n",
    "plot(Benthic$Richness ~ factor(Benthic$Beach))"
   ]
  },
  {
   "cell_type": "markdown",
   "id": "dc05a73f",
   "metadata": {},
   "source": [
    "Now as we can see that instead of scatter plot we have got a boxplot, since this time we passed a labeld data not just the numbers.\n",
    "\n",
    "* We should know that plot() function gives the different result according the data type.\n",
    "* Note: if we pass a datafram inside the plot() function it will give us a pairplot output.\n",
    "\n",
    "**Passing the dataframe inside the plot function**"
   ]
  },
  {
   "cell_type": "code",
   "execution_count": 76,
   "id": "d4c574dd",
   "metadata": {},
   "outputs": [
    {
     "data": {
      "image/png": "[encoded data removed]",
      "text/plain": [
       "plot without title"
      ]
     },
     "metadata": {},
     "output_type": "display_data"
    }
   ],
   "source": [
    "plot(Benthic)"
   ]
  },
  {
   "cell_type": "markdown",
   "id": "09d43ba3",
   "metadata": {},
   "source": [
    "We will see the pairplot in detail later in this section."
   ]
  },
  {
   "cell_type": "markdown",
   "id": "1b94d3eb",
   "metadata": {},
   "source": [
    "___\n",
    "\n",
    "**More Options ofr the plot function**"
   ]
  },
  {
   "cell_type": "markdown",
   "id": "7921e6c4",
   "metadata": {},
   "source": [
    "plot function comes with various kind of functionallity, now we will see some of them."
   ]
  },
  {
   "cell_type": "markdown",
   "id": "27053a6d",
   "metadata": {},
   "source": [
    "##### plot b/w Richness and mean high tide(m)"
   ]
  },
  {
   "cell_type": "code",
   "execution_count": 77,
   "id": "d3f96c7e",
   "metadata": {},
   "outputs": [
    {
     "data": {
      "image/png": "[encoded data removed]",
      "text/plain": [
       "Plot with title \"Benthic Data\""
      ]
     },
     "metadata": {},
     "output_type": "display_data"
    }
   ],
   "source": [
    "# Now we will plot a graph b/w the Richness and NAP data and we will see the more argument of plot. \n",
    "\n",
    "plot(y = Benthic$Richness  , x=Benthic$NAP, xlab='mean high tide(m)', ylab='Species Richness',\n",
    "        main='Benthic Data')"
   ]
  },
  {
   "cell_type": "code",
   "execution_count": 78,
   "id": "ed70620e",
   "metadata": {},
   "outputs": [
    {
     "data": {
      "image/png": "[encoded data removed]",
      "text/plain": [
       "Plot with title \"Benthic Data\""
      ]
     },
     "metadata": {},
     "output_type": "display_data"
    }
   ],
   "source": [
    "# Now we will plot a graph b/w the Richness and NAP data and we will see the more argument of plot. \n",
    "\n",
    "plot(y = Benthic$Richness  , x=Benthic$NAP, xlab='mean high tide(m)', ylab='Species Richness',\n",
    "        main='Benthic Data', col=3)\n",
    "\n",
    "# Now we will drawa linear regression line by using the lm and abline.\n",
    "# lm will fit the regression on the data and abline will use the regressed data and it will draw a regression line.\n",
    "\n",
    "regg0 = lm(Richness ~ NAP, data=Benthic)\n",
    "\n",
    "# using the regg0 to draw the regression line\n",
    "abline(regg0, col=2, lwd=2)"
   ]
  },
  {
   "cell_type": "markdown",
   "id": "8c8e64fb",
   "metadata": {},
   "source": [
    "2. Now we will increase the limts of the x and y axis"
   ]
  },
  {
   "cell_type": "code",
   "execution_count": 79,
   "id": "c502def5",
   "metadata": {},
   "outputs": [
    {
     "data": {
      "image/png": "[encoded data removed]",
      "text/plain": [
       "Plot with title \"Benthic Data\""
      ]
     },
     "metadata": {},
     "output_type": "display_data"
    }
   ],
   "source": [
    "# Now we will plot a graph b/w the Richness and NAP data and we will see the more argument of plot.\n",
    "# increasing the limits of x and y axis by using the xlim and ylim argument.\n",
    "\n",
    "plot(y = Benthic$Richness  , x=Benthic$NAP, xlab='mean high tide(m)', ylab='Species Richness',\n",
    "        main='Benthic Data', col=3, xlim = c(-3, 3.0), ylim= c(-1, 25))\n",
    "\n",
    "# Now we will drawa linear regression line by using the lm and abline.\n",
    "# lm will fit the regression on the data and abline will use the regressed data and it will draw a regression line.\n",
    "\n",
    "regg0 = lm(Richness ~ NAP, data=Benthic)\n",
    "\n",
    "# using the regg0 to draw the regression line\n",
    "abline(regg0, col=2, lwd=2)"
   ]
  },
  {
   "cell_type": "markdown",
   "id": "031e80a2",
   "metadata": {},
   "source": [
    "3. Using type = 'n' and axes=FALSE to draw the graph without axis and data."
   ]
  },
  {
   "cell_type": "code",
   "execution_count": 80,
   "id": "d992d07c",
   "metadata": {},
   "outputs": [
    {
     "data": {
      "image/png": "[encoded data removed]",
      "text/plain": [
       "Plot with title \"Benthic Data\""
      ]
     },
     "metadata": {},
     "output_type": "display_data"
    }
   ],
   "source": [
    "# Now we will plot a graph b/w the Richness and NAP data and we will see the more argument of plot. \n",
    "# using type='n' and axes=FALSE\n",
    "\n",
    "plot(y = Benthic$Richness  , x=Benthic$NAP, xlab='mean high tide(m)', ylab='Species Richness',\n",
    "        main='Benthic Data', col=3, type='n', axes=FALSE)"
   ]
  },
  {
   "cell_type": "markdown",
   "id": "2a8bc333",
   "metadata": {},
   "source": [
    "Now we have a blank check type grap in which we can drwa anything we want. type='n' option is usefull when we want to draw the data by ourself by using the another function, (R provides many functions to draw different kind of data and patterns.)\n",
    "\n",
    "* we just want to hide the data and show axes of the graph then we need to give axes=TRUE  or do not give any value in the axes argument.\n",
    "\n",
    "* To show the data just dont use `type` option. \n",
    "* Note: type argument has many other option and each have their own uses. by default it is 'p'.\n",
    "\n",
    "`type`\\\n",
    "what type of plot should be drawn. Possible types are\n",
    "\n",
    "* \"p\" for points,\n",
    "\n",
    "* \"l\" for lines,\n",
    "\n",
    "* \"b\" for both,\n",
    "\n",
    "* \"c\" for the lines part alone of \"b\",\n",
    "\n",
    "* \"o\" for both ‘overplotted’,\n",
    "\n",
    "* \"h\" for ‘histogram’ like (or ‘high-density’) vertical lines,\n",
    "\n",
    "* \"s\" for stair steps,\n",
    "\n",
    "* \"S\" for other steps, see ‘Details’ below,\n",
    "\n",
    "* \"n\" for no plotting."
   ]
  },
  {
   "cell_type": "code",
   "execution_count": 81,
   "id": "e5d67100",
   "metadata": {},
   "outputs": [
    {
     "data": {
      "image/png": "[encoded data removed]",
      "text/plain": [
       "Plot with title \"Benthic Data\""
      ]
     },
     "metadata": {},
     "output_type": "display_data"
    }
   ],
   "source": [
    "# Now we will plot a graph b/w the Richness and NAP data and we will see the more argument of plot. \n",
    "# using type='n' and axes=FALSE\n",
    "\n",
    "plot(y = Benthic$Richness  , x=Benthic$NAP, xlab='mean high tide(m)', ylab='Species Richness',\n",
    "        main='Benthic Data', col=3, type='n', axes=FALSE, xlim= c(-1.80, 2))\n",
    "\n",
    "# Now if we use points() function on the above plot then it will superimpose the data on the graph.\n",
    "points(y=Benthic$Richness, x=Benthic$NAP, col=3)\n",
    "\n",
    "# to draw the axes of the graph we can use axis function\n",
    "# axis function only can draw one axis at a time so to draw \n",
    "\n",
    "axis(2, at = c(0, 10, 20), tcl=-1) # To draw to vertical axis\n",
    "axis(1, at = c(-1.75, 0, 2), labels= c(\"Sea\", \"Water Line\", \"Dunes\")) # To draw the horizontal axis"
   ]
  },
  {
   "cell_type": "markdown",
   "id": "2b920e11",
   "metadata": {},
   "source": [
    "**Description:**\n",
    "\n",
    "1. `plot:`\n",
    "    * `type='n'` is used to do not draw the data on the graph\n",
    "    * `axes = FALSE` is used to do not show the x and y axis on the graph\n",
    "    * `xlim` is used to increase the limit of the x-axis\n",
    "\n",
    "\n",
    "2. `points:` points function is used to draw new data points on the graph and superimpose them on the existing data.\n",
    "   \n",
    "   \n",
    "3. `axis:` axis function is used to draw new axis on the graph. it draws only one axis at a time.\n",
    "    * `1` is used to draw x-bottom axis.\n",
    "    * `2` is used to draw y-left axis.\n",
    "    * `at` is used to draw new tic marks on the axis, it need a vector containing the position of the tic marks.\n",
    "    * `labels` is used to put tic labels instead of the numeric values. position of the labels will be defined by the position of the tic marks.\n",
    "    * `tcl` is used to give the length and direction of the ticks of axis. -ve values make it outsie and +ve values make it inside the graph. tcl=0 does not put any ticks. \n"
   ]
  },
  {
   "cell_type": "markdown",
   "id": "b93b41a3",
   "metadata": {},
   "source": [
    "#### Some usefull more function \n",
    "\n",
    "there are many function which can be used to custumize the graph, some of them are described below.\n"
   ]
  },
  {
   "cell_type": "markdown",
   "id": "2e9451de",
   "metadata": {},
   "source": [
    "* `abline` Adds an a,b (intercept, slope) line, mainly regressin, but also vertical and horizontal lines.\n",
    "* `arrows` Adds arrows and modifies the head styles.\n",
    "* `Axis` Generic function to add an axis to a plot.\n",
    "* `axis` adds axes line.\n",
    "* `box` Adds different sytle boxes.\n",
    "* `contour` Creats a contour plot, or adds contour lines to an existing plot.\n",
    "* `curve` Draws a curve corresponding to the given function or expression\n",
    "* `grid` Adds grid to a plot\n",
    "* `legends` Adds legend to a plot\n",
    "* `lines` Adds lines\n",
    "* `mtext` Inserts text into the margins of the figure or in the margin of the plot device.\n",
    "* `points` Adds points, but mau include type command\n",
    "* `polygon` Draws polygon with vertices defined by x and y.\n",
    "* `rect` Draes rectangles.\n",
    "* `rug` Adds a one dimensional representation of the data to the plot on one of the two axes.\n",
    "* `Segments` Adds line segments\n",
    "* `text` Adds text inside the plot\n",
    "* `title` Adds a title."
   ]
  },
  {
   "cell_type": "markdown",
   "id": "27abd960",
   "metadata": {},
   "source": [
    "___"
   ]
  },
  {
   "cell_type": "markdown",
   "id": "b04921cf",
   "metadata": {},
   "source": [
    "### 5.2 Legends\n",
    "\n",
    "Legends are very usefull thing to distinguish the information and make it understandable when the too much information is presented on the graph, it can be used to show the type of information with label which avoids the confiusion that , which data or pattern shows what type of information.\n",
    "\n",
    "To illustrate the legends importance we will use a bird dataset.\n",
    "\n",
    "`Bird dataset:` Forest bird densities were measured in 56 forest patches in southeastern victoria. Austrialia. The aim of the study was to relate bird densities to six habitat variable.\n",
    "\n",
    "    1. Size of the forest patch\n",
    "    2. distance of the nearest patch.\n",
    "    3. distance to the nearest larger patch.\n",
    "    4. mean altitude of the patch. \n",
    "    5. year of isolation by clearing.\n",
    "    6. an index of stock grazing history  (1=light, 5=intesive)\n",
    "    \n",
    "The optimal linear regression model containd LOGAREA and GRAZE (categorical). To visualise what this model is doing, we plot the fitted values.\n",
    "\n",
    "Now we will import the data."
   ]
  },
  {
   "cell_type": "code",
   "execution_count": 82,
   "id": "8ba220ee",
   "metadata": {},
   "outputs": [],
   "source": [
    "# importing the dataset (bird dataset)\n",
    "Birds = read.table(file=\"RBook/RBook/loyn.txt\", header=TRUE)"
   ]
  },
  {
   "cell_type": "code",
   "execution_count": 83,
   "id": "6940b75a",
   "metadata": {},
   "outputs": [
    {
     "data": {
      "text/html": [
       "<table>\n",
       "<thead><tr><th scope=col>Site</th><th scope=col>ABUND</th><th scope=col>AREA</th><th scope=col>DIST</th><th scope=col>LDIST</th><th scope=col>YR.ISOL</th><th scope=col>GRAZE</th><th scope=col>ALT</th></tr></thead>\n",
       "<tbody>\n",
       "\t<tr><td>1   </td><td> 5.3</td><td>0.1 </td><td> 39 </td><td> 39 </td><td>1968</td><td>2   </td><td>160 </td></tr>\n",
       "\t<tr><td>2   </td><td> 2.0</td><td>0.5 </td><td>234 </td><td>234 </td><td>1920</td><td>5   </td><td> 60 </td></tr>\n",
       "\t<tr><td>3   </td><td> 1.5</td><td>0.5 </td><td>104 </td><td>311 </td><td>1900</td><td>5   </td><td>140 </td></tr>\n",
       "\t<tr><td>4   </td><td>17.1</td><td>1.0 </td><td> 66 </td><td> 66 </td><td>1966</td><td>3   </td><td>160 </td></tr>\n",
       "\t<tr><td>5   </td><td>13.8</td><td>1.0 </td><td>246 </td><td>246 </td><td>1918</td><td>5   </td><td>140 </td></tr>\n",
       "\t<tr><td>6   </td><td>14.1</td><td>1.0 </td><td>234 </td><td>285 </td><td>1965</td><td>3   </td><td>130 </td></tr>\n",
       "</tbody>\n",
       "</table>\n"
      ],
      "text/latex": [
       "\\begin{tabular}{r|llllllll}\n",
       " Site & ABUND & AREA & DIST & LDIST & YR.ISOL & GRAZE & ALT\\\\\n",
       "\\hline\n",
       "\t 1    &  5.3 & 0.1  &  39  &  39  & 1968 & 2    & 160 \\\\\n",
       "\t 2    &  2.0 & 0.5  & 234  & 234  & 1920 & 5    &  60 \\\\\n",
       "\t 3    &  1.5 & 0.5  & 104  & 311  & 1900 & 5    & 140 \\\\\n",
       "\t 4    & 17.1 & 1.0  &  66  &  66  & 1966 & 3    & 160 \\\\\n",
       "\t 5    & 13.8 & 1.0  & 246  & 246  & 1918 & 5    & 140 \\\\\n",
       "\t 6    & 14.1 & 1.0  & 234  & 285  & 1965 & 3    & 130 \\\\\n",
       "\\end{tabular}\n"
      ],
      "text/markdown": [
       "\n",
       "| Site | ABUND | AREA | DIST | LDIST | YR.ISOL | GRAZE | ALT |\n",
       "|---|---|---|---|---|---|---|---|\n",
       "| 1    |  5.3 | 0.1  |  39  |  39  | 1968 | 2    | 160  |\n",
       "| 2    |  2.0 | 0.5  | 234  | 234  | 1920 | 5    |  60  |\n",
       "| 3    |  1.5 | 0.5  | 104  | 311  | 1900 | 5    | 140  |\n",
       "| 4    | 17.1 | 1.0  |  66  |  66  | 1966 | 3    | 160  |\n",
       "| 5    | 13.8 | 1.0  | 246  | 246  | 1918 | 5    | 140  |\n",
       "| 6    | 14.1 | 1.0  | 234  | 285  | 1965 | 3    | 130  |\n",
       "\n"
      ],
      "text/plain": [
       "  Site ABUND AREA DIST LDIST YR.ISOL GRAZE ALT\n",
       "1 1     5.3  0.1   39   39   1968    2     160\n",
       "2 2     2.0  0.5  234  234   1920    5      60\n",
       "3 3     1.5  0.5  104  311   1900    5     140\n",
       "4 4    17.1  1.0   66   66   1966    3     160\n",
       "5 5    13.8  1.0  246  246   1918    5     140\n",
       "6 6    14.1  1.0  234  285   1965    3     130"
      ]
     },
     "metadata": {},
     "output_type": "display_data"
    }
   ],
   "source": [
    "head(Birds)"
   ]
  },
  {
   "cell_type": "code",
   "execution_count": 84,
   "id": "2a676789",
   "metadata": {},
   "outputs": [],
   "source": [
    "# Now we need to plot the data b/w LOGAREA so we need to claculate the log10(AREA)\n",
    "\n",
    "Birds$LOGAREA = log10(Birds$AREA) "
   ]
  },
  {
   "cell_type": "code",
   "execution_count": 85,
   "id": "37abf3af",
   "metadata": {},
   "outputs": [
    {
     "data": {
      "text/html": [
       "<table>\n",
       "<thead><tr><th scope=col>Site</th><th scope=col>ABUND</th><th scope=col>AREA</th><th scope=col>DIST</th><th scope=col>LDIST</th><th scope=col>YR.ISOL</th><th scope=col>GRAZE</th><th scope=col>ALT</th><th scope=col>LOGAREA</th></tr></thead>\n",
       "<tbody>\n",
       "\t<tr><td>1       </td><td> 5.3    </td><td>0.1     </td><td> 39     </td><td> 39     </td><td>1968    </td><td>2       </td><td>160     </td><td>-1.00000</td></tr>\n",
       "\t<tr><td>2       </td><td> 2.0    </td><td>0.5     </td><td>234     </td><td>234     </td><td>1920    </td><td>5       </td><td> 60     </td><td>-0.30103</td></tr>\n",
       "\t<tr><td>3       </td><td> 1.5    </td><td>0.5     </td><td>104     </td><td>311     </td><td>1900    </td><td>5       </td><td>140     </td><td>-0.30103</td></tr>\n",
       "\t<tr><td>4       </td><td>17.1    </td><td>1.0     </td><td> 66     </td><td> 66     </td><td>1966    </td><td>3       </td><td>160     </td><td> 0.00000</td></tr>\n",
       "\t<tr><td>5       </td><td>13.8    </td><td>1.0     </td><td>246     </td><td>246     </td><td>1918    </td><td>5       </td><td>140     </td><td> 0.00000</td></tr>\n",
       "\t<tr><td>6       </td><td>14.1    </td><td>1.0     </td><td>234     </td><td>285     </td><td>1965    </td><td>3       </td><td>130     </td><td> 0.00000</td></tr>\n",
       "</tbody>\n",
       "</table>\n"
      ],
      "text/latex": [
       "\\begin{tabular}{r|lllllllll}\n",
       " Site & ABUND & AREA & DIST & LDIST & YR.ISOL & GRAZE & ALT & LOGAREA\\\\\n",
       "\\hline\n",
       "\t 1        &  5.3     & 0.1      &  39      &  39      & 1968     & 2        & 160      & -1.00000\\\\\n",
       "\t 2        &  2.0     & 0.5      & 234      & 234      & 1920     & 5        &  60      & -0.30103\\\\\n",
       "\t 3        &  1.5     & 0.5      & 104      & 311      & 1900     & 5        & 140      & -0.30103\\\\\n",
       "\t 4        & 17.1     & 1.0      &  66      &  66      & 1966     & 3        & 160      &  0.00000\\\\\n",
       "\t 5        & 13.8     & 1.0      & 246      & 246      & 1918     & 5        & 140      &  0.00000\\\\\n",
       "\t 6        & 14.1     & 1.0      & 234      & 285      & 1965     & 3        & 130      &  0.00000\\\\\n",
       "\\end{tabular}\n"
      ],
      "text/markdown": [
       "\n",
       "| Site | ABUND | AREA | DIST | LDIST | YR.ISOL | GRAZE | ALT | LOGAREA |\n",
       "|---|---|---|---|---|---|---|---|---|\n",
       "| 1        |  5.3     | 0.1      |  39      |  39      | 1968     | 2        | 160      | -1.00000 |\n",
       "| 2        |  2.0     | 0.5      | 234      | 234      | 1920     | 5        |  60      | -0.30103 |\n",
       "| 3        |  1.5     | 0.5      | 104      | 311      | 1900     | 5        | 140      | -0.30103 |\n",
       "| 4        | 17.1     | 1.0      |  66      |  66      | 1966     | 3        | 160      |  0.00000 |\n",
       "| 5        | 13.8     | 1.0      | 246      | 246      | 1918     | 5        | 140      |  0.00000 |\n",
       "| 6        | 14.1     | 1.0      | 234      | 285      | 1965     | 3        | 130      |  0.00000 |\n",
       "\n"
      ],
      "text/plain": [
       "  Site ABUND AREA DIST LDIST YR.ISOL GRAZE ALT LOGAREA \n",
       "1 1     5.3  0.1   39   39   1968    2     160 -1.00000\n",
       "2 2     2.0  0.5  234  234   1920    5      60 -0.30103\n",
       "3 3     1.5  0.5  104  311   1900    5     140 -0.30103\n",
       "4 4    17.1  1.0   66   66   1966    3     160  0.00000\n",
       "5 5    13.8  1.0  246  246   1918    5     140  0.00000\n",
       "6 6    14.1  1.0  234  285   1965    3     130  0.00000"
      ]
     },
     "metadata": {},
     "output_type": "display_data"
    }
   ],
   "source": [
    "head(Birds)"
   ]
  },
  {
   "cell_type": "markdown",
   "id": "6d199876",
   "metadata": {},
   "source": [
    "Now we have the LOGAREA in the dataset, we will use this data to plot the graph with four steps.\n",
    "\n",
    "1. plot the ABUNDANCE data vs LOGAREA.\n",
    "2. Calculate fitted values for the five grazing regimes.\n",
    "3. Add the fie lines.\n",
    "4. Add legends."
   ]
  },
  {
   "cell_type": "code",
   "execution_count": 86,
   "id": "392acdc6",
   "metadata": {},
   "outputs": [
    {
     "data": {
      "image/png": "[encoded data removed]",
      "text/plain": [
       "plot without title"
      ]
     },
     "metadata": {},
     "output_type": "display_data"
    }
   ],
   "source": [
    "# plotting the grpah b/w LOGAREA and ABUNDACE.\n",
    "plot(x=Birds$LOGAREA , y=Birds$ABUND, xlab=\"log transformed area\", ylab=\"birds abundance\", col=3, pch=16)"
   ]
  },
  {
   "cell_type": "markdown",
   "id": "5e9ab026",
   "metadata": {},
   "source": [
    "Now we will perform the linear regressin on the abundace , logarea and graze data. before regression we will factorise the data so we can get the labesl for each levels."
   ]
  },
  {
   "cell_type": "code",
   "execution_count": 87,
   "id": "4bc0f8ff",
   "metadata": {},
   "outputs": [
    {
     "data": {
      "text/plain": [
       "\n",
       "Call:\n",
       "lm(formula = ABUND ~ LOGAREA + fGRAZE, data = Birds)\n",
       "\n",
       "Residuals:\n",
       "     Min       1Q   Median       3Q      Max \n",
       "-16.0849  -2.4793  -0.0817   2.6486  11.6344 \n",
       "\n",
       "Coefficients:\n",
       "            Estimate Std. Error t value Pr(>|t|)    \n",
       "(Intercept)  15.7164     2.7674   5.679 6.87e-07 ***\n",
       "LOGAREA       7.2472     1.2551   5.774 4.90e-07 ***\n",
       "fGRAZE2       0.3826     2.9123   0.131 0.895993    \n",
       "fGRAZE3      -0.1893     2.5498  -0.074 0.941119    \n",
       "fGRAZE4      -1.5916     2.9762  -0.535 0.595182    \n",
       "fGRAZE5     -11.8938     2.9311  -4.058 0.000174 ***\n",
       "---\n",
       "Signif. codes:  0 '***' 0.001 '**' 0.01 '*' 0.05 '.' 0.1 ' ' 1\n",
       "\n",
       "Residual standard error: 5.883 on 50 degrees of freedom\n",
       "Multiple R-squared:  0.727,\tAdjusted R-squared:  0.6997 \n",
       "F-statistic: 26.63 on 5 and 50 DF,  p-value: 5.148e-13\n"
      ]
     },
     "metadata": {},
     "output_type": "display_data"
    }
   ],
   "source": [
    "# factorising the GRAZE data.\n",
    "Birds$fGRAZE = factor(Birds$GRAZE)\n",
    "\n",
    "# Performaing linear regression\n",
    "LM = lm(ABUND ~ LOGAREA + fGRAZE, data = Birds)\n",
    "\n",
    "# getting the summary of the linear regression\n",
    "summary(LM)"
   ]
  },
  {
   "cell_type": "code",
   "execution_count": 88,
   "id": "bd902b5f",
   "metadata": {},
   "outputs": [
    {
     "data": {
      "text/html": [
       "<ol class=list-inline>\n",
       "\t<li>-1</li>\n",
       "\t<li>0</li>\n",
       "\t<li>1</li>\n",
       "\t<li>2</li>\n",
       "\t<li>3</li>\n",
       "</ol>\n"
      ],
      "text/latex": [
       "\\begin{enumerate*}\n",
       "\\item -1\n",
       "\\item 0\n",
       "\\item 1\n",
       "\\item 2\n",
       "\\item 3\n",
       "\\end{enumerate*}\n"
      ],
      "text/markdown": [
       "1. -1\n",
       "2. 0\n",
       "3. 1\n",
       "4. 2\n",
       "5. 3\n",
       "\n",
       "\n"
      ],
      "text/plain": [
       "[1] -1  0  1  2  3"
      ]
     },
     "metadata": {},
     "output_type": "display_data"
    }
   ],
   "source": [
    "# Now arbitrary data values within the range of the observed data.\n",
    "LAR = seq(from=-1, to = 3, by =1)\n",
    "LAR"
   ]
  },
  {
   "cell_type": "markdown",
   "id": "6b740b5c",
   "metadata": {},
   "source": [
    "* Now we determine the abundance values per grazing level using simple calculus and R."
   ]
  },
  {
   "cell_type": "code",
   "execution_count": 89,
   "id": "16298405",
   "metadata": {},
   "outputs": [],
   "source": [
    "ABUND1 <- 15.7 + 7.2 * LAR\n",
    "ABUND2 <- 16.1 + 7.2 * LAR\n",
    "ABUND3 <- 15.5 + 7.2 * LAR\n",
    "ABUND4 <- 14.1 + 7.2 * LAR\n",
    "ABUND5 <- 3.8 + 7.2 * LAR"
   ]
  },
  {
   "cell_type": "markdown",
   "id": "1893b407",
   "metadata": {},
   "source": [
    "* Adding the fitted values as line of the graph. Note: we need to re-plot the data."
   ]
  },
  {
   "cell_type": "code",
   "execution_count": 90,
   "id": "6f66070b",
   "metadata": {},
   "outputs": [
    {
     "data": {
      "image/png": "[encoded data removed]",
      "text/plain": [
       "plot without title"
      ]
     },
     "metadata": {},
     "output_type": "display_data"
    }
   ],
   "source": [
    "# plotting the grpah b/w LOGAREA and ABUNDACE.\n",
    "plot(x=Birds$LOGAREA , y=Birds$ABUND, xlab=\"log transformed area\", ylab=\"birds abundance\", col=3, pch=16)\n",
    "\n",
    "lines(LAR, ABUND1, lty = 1, lwd = 1, col =1)\n",
    "lines(LAR, ABUND2, lty = 2, lwd = 2, col =2)\n",
    "lines(LAR, ABUND3, lty = 3, lwd = 3, col =3)\n",
    "lines(LAR, ABUND4, lty = 4, lwd = 4, col =4)\n",
    "lines(LAR, ABUND5, lty = 5, lwd = 5, col =5)"
   ]
  },
  {
   "cell_type": "code",
   "execution_count": 91,
   "id": "54862c61",
   "metadata": {},
   "outputs": [],
   "source": [
    "legend.txt <- c(\"Graze 1\", \"Graze 2\",\n",
    "\"Graze 3\", \"Graze 4\", \"Graze 5\")"
   ]
  },
  {
   "cell_type": "markdown",
   "id": "a34829c7",
   "metadata": {},
   "source": [
    "* Now we will put the legends for each fitted line which shows the different GRAZE line."
   ]
  },
  {
   "cell_type": "code",
   "execution_count": 92,
   "id": "c1fcca6c",
   "metadata": {},
   "outputs": [
    {
     "data": {
      "image/png": "[encoded data removed]",
      "text/plain": [
       "plot without title"
      ]
     },
     "metadata": {},
     "output_type": "display_data"
    }
   ],
   "source": [
    "# plotting the grpah b/w LOGAREA and ABUNDACE.\n",
    "plot(x=Birds$LOGAREA , y=Birds$ABUND, xlab=\"log transformed area\", ylab=\"birds abundance\", col=3, pch=16)\n",
    "\n",
    "lines(LAR, ABUND1, lty = 1, lwd = 1, col =4)\n",
    "lines(LAR, ABUND2, lty = 2, lwd = 2, col =5)\n",
    "lines(LAR, ABUND3, lty = 3, lwd = 3, col =6)\n",
    "lines(LAR, ABUND4, lty = 4, lwd = 4, col =7)\n",
    "lines(LAR, ABUND5, lty = 5, lwd = 5, col =8)\n",
    "\n",
    "legend(\"topleft\", legend=legend.txt, \n",
    "       col = c(4:8), lty=c(1:5), lwd=c(1:5), bty='o', cex=0.8)"
   ]
  },
  {
   "cell_type": "markdown",
   "id": "e6b00838",
   "metadata": {},
   "source": [
    "___"
   ]
  },
  {
   "cell_type": "markdown",
   "id": "9b1c7ddb",
   "metadata": {},
   "source": [
    "## 6. Pairplot\n",
    "\n",
    "If we want to plot a variable as a function of different variable in a single graph together without using the par function then we need to use the pairplot functionallity which can plot the scatter and other plot in very less effort. \n",
    "\n",
    "Note: pairplot is very usefull to see the relationship b/w variables, it can gives the over all idea that on which variable we should work mostly.\n",
    "\n",
    "NOw we will use the Benthic species data set to plot the pairplots. by using pairs() function."
   ]
  },
  {
   "cell_type": "code",
   "execution_count": 93,
   "id": "fe1318bf",
   "metadata": {},
   "outputs": [
    {
     "data": {
      "text/html": [
       "<table>\n",
       "<thead><tr><th scope=col>Sample</th><th scope=col>Richness</th><th scope=col>Exposure</th><th scope=col>NAP</th><th scope=col>Beach</th><th scope=col>grainsize</th><th scope=col>humus</th><th scope=col>chalk</th><th scope=col>sorting1</th></tr></thead>\n",
       "<tbody>\n",
       "\t<tr><td>1     </td><td>11    </td><td>10    </td><td> 0.045</td><td>1     </td><td>222.5 </td><td>0.05  </td><td>2.05  </td><td>69.830</td></tr>\n",
       "\t<tr><td>2     </td><td>10    </td><td>10    </td><td>-1.036</td><td>1     </td><td>200.0 </td><td>0.30  </td><td>2.50  </td><td>59.000</td></tr>\n",
       "\t<tr><td>3     </td><td>13    </td><td>10    </td><td>-1.336</td><td>1     </td><td>194.5 </td><td>0.10  </td><td>3.45  </td><td>59.220</td></tr>\n",
       "\t<tr><td>4     </td><td>11    </td><td>10    </td><td> 0.616</td><td>1     </td><td>221.0 </td><td>0.15  </td><td>1.60  </td><td>67.750</td></tr>\n",
       "\t<tr><td>5     </td><td>10    </td><td>10    </td><td>-0.684</td><td>1     </td><td>202.0 </td><td>0.05  </td><td>2.45  </td><td>57.760</td></tr>\n",
       "\t<tr><td>6     </td><td> 8    </td><td> 8    </td><td> 1.190</td><td>2     </td><td>192.5 </td><td>0.10  </td><td>2.50  </td><td>53.075</td></tr>\n",
       "</tbody>\n",
       "</table>\n"
      ],
      "text/latex": [
       "\\begin{tabular}{r|lllllllll}\n",
       " Sample & Richness & Exposure & NAP & Beach & grainsize & humus & chalk & sorting1\\\\\n",
       "\\hline\n",
       "\t 1      & 11     & 10     &  0.045 & 1      & 222.5  & 0.05   & 2.05   & 69.830\\\\\n",
       "\t 2      & 10     & 10     & -1.036 & 1      & 200.0  & 0.30   & 2.50   & 59.000\\\\\n",
       "\t 3      & 13     & 10     & -1.336 & 1      & 194.5  & 0.10   & 3.45   & 59.220\\\\\n",
       "\t 4      & 11     & 10     &  0.616 & 1      & 221.0  & 0.15   & 1.60   & 67.750\\\\\n",
       "\t 5      & 10     & 10     & -0.684 & 1      & 202.0  & 0.05   & 2.45   & 57.760\\\\\n",
       "\t 6      &  8     &  8     &  1.190 & 2      & 192.5  & 0.10   & 2.50   & 53.075\\\\\n",
       "\\end{tabular}\n"
      ],
      "text/markdown": [
       "\n",
       "| Sample | Richness | Exposure | NAP | Beach | grainsize | humus | chalk | sorting1 |\n",
       "|---|---|---|---|---|---|---|---|---|\n",
       "| 1      | 11     | 10     |  0.045 | 1      | 222.5  | 0.05   | 2.05   | 69.830 |\n",
       "| 2      | 10     | 10     | -1.036 | 1      | 200.0  | 0.30   | 2.50   | 59.000 |\n",
       "| 3      | 13     | 10     | -1.336 | 1      | 194.5  | 0.10   | 3.45   | 59.220 |\n",
       "| 4      | 11     | 10     |  0.616 | 1      | 221.0  | 0.15   | 1.60   | 67.750 |\n",
       "| 5      | 10     | 10     | -0.684 | 1      | 202.0  | 0.05   | 2.45   | 57.760 |\n",
       "| 6      |  8     |  8     |  1.190 | 2      | 192.5  | 0.10   | 2.50   | 53.075 |\n",
       "\n"
      ],
      "text/plain": [
       "  Sample Richness Exposure NAP    Beach grainsize humus chalk sorting1\n",
       "1 1      11       10        0.045 1     222.5     0.05  2.05  69.830  \n",
       "2 2      10       10       -1.036 1     200.0     0.30  2.50  59.000  \n",
       "3 3      13       10       -1.336 1     194.5     0.10  3.45  59.220  \n",
       "4 4      11       10        0.616 1     221.0     0.15  1.60  67.750  \n",
       "5 5      10       10       -0.684 1     202.0     0.05  2.45  57.760  \n",
       "6 6       8        8        1.190 2     192.5     0.10  2.50  53.075  "
      ]
     },
     "metadata": {},
     "output_type": "display_data"
    }
   ],
   "source": [
    "Benthic = read.table(file='RBook/RBook/RIKZ2.txt', header=TRUE)\n",
    "head(Benthic)"
   ]
  },
  {
   "cell_type": "code",
   "execution_count": 94,
   "id": "860a6c0a",
   "metadata": {},
   "outputs": [
    {
     "data": {
      "image/png": "[encoded data removed]",
      "text/plain": [
       "plot without title"
      ]
     },
     "metadata": {},
     "output_type": "display_data"
    }
   ],
   "source": [
    "# drawing the pairplot.\n",
    "\n",
    "pairs(Benthic[, 2:9]) # only removed Sample column."
   ]
  },
  {
   "cell_type": "markdown",
   "id": "785fc611",
   "metadata": {},
   "source": [
    "From this pair plot we can easily say that there is a some kind of relation b/w sorting and chalk, grainsize and chalk, grainsize and sorting, richness and NAP etc.\n",
    "\n",
    "Note: \n",
    "* Diagonale shows the variable names.\n",
    "* we can see the relation b/w variable twice one relation is showing above the diagonal and other is below the diagonal.\n",
    "* All the relation showing below the diagonal are in reverse order of variable from the above one.\n",
    "* We can plot many other things in this pair plot by using the pairs methods."
   ]
  },
  {
   "cell_type": "markdown",
   "id": "ebfcbece",
   "metadata": {},
   "source": [
    "**Adding some functionality to pairs function**"
   ]
  },
  {
   "cell_type": "code",
   "execution_count": 100,
   "id": "94fee1e6",
   "metadata": {},
   "outputs": [
    {
     "data": {
      "image/png": "[encoded data removed]",
      "text/plain": [
       "plot without title"
      ]
     },
     "metadata": {},
     "output_type": "display_data"
    }
   ],
   "source": [
    "# adding upper.panel\n",
    "pairs(Benthic[,2:9], upper.panel = panel.smooth)"
   ]
  },
  {
   "cell_type": "markdown",
   "id": "6d0f0818",
   "metadata": {},
   "source": [
    "As we can see that by using a smooth function on the upper panel we can see the relation clearly. Now we will make two more function to apply them on the diagonal and lower panel."
   ]
  },
  {
   "cell_type": "markdown",
   "id": "7ba35c7c",
   "metadata": {},
   "source": [
    "* lower.panel and upper.panel: separate panel functions (or NULL) to be used to below and above the diagonal respectively.\n",
    "* diag.panel: optional function to be applied on the diagonals.\n",
    "* text.panel: optinal function to be applied on the diagonals."
   ]
  },
  {
   "cell_type": "code",
   "execution_count": 106,
   "id": "cd9adec3",
   "metadata": {},
   "outputs": [],
   "source": [
    "# making a panel.hist function to draw histogram on the diagonals.\n",
    "\n",
    "panel.hist = function(x, ...)\n",
    "    {\n",
    "    usr <- par(\"usr\"); on.exit(par(usr))\n",
    "    par(usr = c(usr[1:2], 0, 1.5) )\n",
    "    h <- hist(x, plot = FALSE)\n",
    "    breaks <- h$breaks; nB <- length(breaks)\n",
    "    y <- h$counts; y <- y/max(y)\n",
    "    rect(breaks[-nB], 0, breaks[-1], y, col=\"cyan\", ...)\n",
    "}"
   ]
  },
  {
   "cell_type": "code",
   "execution_count": 107,
   "id": "0e7616dc",
   "metadata": {},
   "outputs": [],
   "source": [
    "# Making a correlation function to show correlation  on the lower.panel\n",
    "\n",
    "panel.cor <- function(x, y, digits=2, prefix=\"\", cex.cor)\n",
    "{\n",
    "    usr <- par(\"usr\"); on.exit(par(usr))\n",
    "    par(usr = c(0, 1, 0, 1))\n",
    "    r <- abs(cor(x, y))\n",
    "    txt <- format(c(r, 0.123456789), digits=digits)[1]\n",
    "    txt <- paste(prefix, txt, sep=\"\")\n",
    "    if(missing(cex.cor)) cex <- 0.8/strwidth(txt)\n",
    "    text(0.5, 0.5, txt, cex = cex * r)\n",
    "}"
   ]
  },
  {
   "cell_type": "code",
   "execution_count": 108,
   "id": "1a61d232",
   "metadata": {},
   "outputs": [
    {
     "data": {
      "image/png": "[encoded data removed]",
      "text/plain": [
       "plot without title"
      ]
     },
     "metadata": {},
     "output_type": "display_data"
    }
   ],
   "source": [
    "# Now using the pair plot again.\n",
    "pairs(Benthic[, 2:9], diag.panel = panel.hist,\n",
    "      upper.panel = panel.smooth, lower.panel = panel.cor)"
   ]
  },
  {
   "cell_type": "markdown",
   "id": "8e3d6e8f",
   "metadata": {},
   "source": [
    "Now this pairplot give us very usefull infomation about the relation ship b/w the variable, by using this infomation we can make a good statistical model."
   ]
  },
  {
   "cell_type": "markdown",
   "id": "deae8df0",
   "metadata": {},
   "source": [
    "___"
   ]
  },
  {
   "cell_type": "markdown",
   "id": "649f9e8d",
   "metadata": {},
   "source": [
    "## 7. The Coplot\n",
    "\n",
    "The pairs function shows only two-way relationships. The next plottings tools we discuss can illustrate three-way, or even four-way, relationships. This type of plot is called a conditioning plot or coplot and is especially well suited to visualizing how a response variable depends on a predictor given other predictor."
   ]
  },
  {
   "cell_type": "markdown",
   "id": "86b311b2",
   "metadata": {},
   "source": [
    "Now we will plot a graph by using the Benthic dataset in b/w Richness vs NAP by using the group of Beach, it means we wil use three variable to plot the graph which will plot a three-way graph."
   ]
  },
  {
   "cell_type": "code",
   "execution_count": 110,
   "id": "0c0a7d85",
   "metadata": {},
   "outputs": [
    {
     "data": {
      "image/png": "[encoded data removed]",
      "text/plain": [
       "plot without title"
      ]
     },
     "metadata": {},
     "output_type": "display_data"
    }
   ],
   "source": [
    "# here Richness is a function of NAP by group of beach.\n",
    "coplot(Richness ~ NAP|as.factor(Beach) , data=Benthic)\n",
    "\n",
    "# as.factor() is used to make categorical data."
   ]
  },
  {
   "cell_type": "markdown",
   "id": "df14a331",
   "metadata": {},
   "source": [
    "Summary: In this graph we have total 9-sub graph which shows the relationship b/w the Richness and NAP accroding the groups of Beach. \n",
    "\n",
    "* Counting of beach starts from the very bottom row left to right. (1-3)\n",
    "* second row from bottom show 4-6 beach.\n",
    "* top row shows 7-9 beach.\n",
    "* all the levels of the beach are shown top of the graph which defines the order of counting from left to right."
   ]
  },
  {
   "cell_type": "markdown",
   "id": "85f0673b",
   "metadata": {},
   "source": [
    "**Continuous variable instead of categorical**\n",
    "\n",
    "We can use continuous variable instead of the categorical variable for the conditioning variable, we can use a continuous variable.\n",
    "\n",
    "For example, Richness vs NAP by group of grainsize."
   ]
  },
  {
   "cell_type": "code",
   "execution_count": 112,
   "id": "5e40a135",
   "metadata": {},
   "outputs": [
    {
     "data": {
      "image/png": "[encoded data removed]",
      "text/plain": [
       "plot without title"
      ]
     },
     "metadata": {},
     "output_type": "display_data"
    }
   ],
   "source": [
    "coplot(Richness ~ NAP|grainsize , data=Benthic)"
   ]
  },
  {
   "cell_type": "markdown",
   "id": "26332825",
   "metadata": {},
   "source": [
    "Now we can see the realtion b/w the Richness vs NAP by grouping of grainsize.\n",
    "\n",
    "`Conclusion:` To analysis the relationship b/w three variable we can use coplot which can shows the relationship very clearly. it can be usefull in a detailed analysis."
   ]
  },
  {
   "cell_type": "code",
   "execution_count": null,
   "id": "63b4bb79",
   "metadata": {},
   "outputs": [],
   "source": []
  }
 ],
 "metadata": {
  "kernelspec": {
   "display_name": "R",
   "language": "R",
   "name": "ir"
  },
  "language_info": {
   "codemirror_mode": "r",
   "file_extension": ".r",
   "mimetype": "text/x-r-source",
   "name": "R",
   "pygments_lexer": "r",
   "version": "3.6.1"
  }
 },
 "nbformat": 4,
 "nbformat_minor": 5
}
