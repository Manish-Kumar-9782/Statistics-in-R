{
 "cells": [
  {
   "cell_type": "markdown",
   "id": "f602ba46",
   "metadata": {},
   "source": [
    "# Loop, Function and Conditions.\n",
    "\n",
    "In this section we will see how can we make our R code very simple make it automated with the help of the loop, we will reduce the typing time by defining a function for a task and we use it again and again for these particular tasks.\n",
    "\n",
    "To make our function or code we will use conditions available in the R languge which will help us to decide that which part of the R code need to be excuted it will save a lots of time and also save us to make error in the Code."
   ]
  },
  {
   "cell_type": "markdown",
   "id": "83200e4a",
   "metadata": {},
   "source": [
    "## 1. For Loop\n",
    "\n",
    "suppose that we want to print 1 - 100 automatically then in this condition we can't type it manually it will be tedious. So to this  we need to follow below syntax.\n",
    "\n",
    "```ruby\n",
    "for (variable_name in collection) {\n",
    "    \n",
    "    statment using variable_name\n",
    "}\n",
    "\n",
    "```\n",
    "\n",
    "* Like we will see in below cell"
   ]
  },
  {
   "cell_type": "code",
   "execution_count": 1,
   "id": "6559ba9b",
   "metadata": {},
   "outputs": [
    {
     "name": "stdout",
     "output_type": "stream",
     "text": [
      "[1] 1\n",
      "[1] 2\n",
      "[1] 3\n",
      "[1] 4\n",
      "[1] 5\n",
      "[1] 6\n",
      "[1] 7\n",
      "[1] 8\n",
      "[1] 9\n",
      "[1] 10\n",
      "[1] 11\n",
      "[1] 12\n",
      "[1] 13\n",
      "[1] 14\n",
      "[1] 15\n",
      "[1] 16\n",
      "[1] 17\n",
      "[1] 18\n",
      "[1] 19\n",
      "[1] 20\n",
      "[1] 21\n",
      "[1] 22\n",
      "[1] 23\n",
      "[1] 24\n",
      "[1] 25\n",
      "[1] 26\n",
      "[1] 27\n",
      "[1] 28\n",
      "[1] 29\n",
      "[1] 30\n",
      "[1] 31\n",
      "[1] 32\n",
      "[1] 33\n",
      "[1] 34\n",
      "[1] 35\n",
      "[1] 36\n",
      "[1] 37\n",
      "[1] 38\n",
      "[1] 39\n",
      "[1] 40\n",
      "[1] 41\n",
      "[1] 42\n",
      "[1] 43\n",
      "[1] 44\n",
      "[1] 45\n",
      "[1] 46\n",
      "[1] 47\n",
      "[1] 48\n",
      "[1] 49\n",
      "[1] 50\n",
      "[1] 51\n",
      "[1] 52\n",
      "[1] 53\n",
      "[1] 54\n",
      "[1] 55\n",
      "[1] 56\n",
      "[1] 57\n",
      "[1] 58\n",
      "[1] 59\n",
      "[1] 60\n",
      "[1] 61\n",
      "[1] 62\n",
      "[1] 63\n",
      "[1] 64\n",
      "[1] 65\n",
      "[1] 66\n",
      "[1] 67\n",
      "[1] 68\n",
      "[1] 69\n",
      "[1] 70\n",
      "[1] 71\n",
      "[1] 72\n",
      "[1] 73\n",
      "[1] 74\n",
      "[1] 75\n",
      "[1] 76\n",
      "[1] 77\n",
      "[1] 78\n",
      "[1] 79\n",
      "[1] 80\n",
      "[1] 81\n",
      "[1] 82\n",
      "[1] 83\n",
      "[1] 84\n",
      "[1] 85\n",
      "[1] 86\n",
      "[1] 87\n",
      "[1] 88\n",
      "[1] 89\n",
      "[1] 90\n",
      "[1] 91\n",
      "[1] 92\n",
      "[1] 93\n",
      "[1] 94\n",
      "[1] 95\n",
      "[1] 96\n",
      "[1] 97\n",
      "[1] 98\n",
      "[1] 99\n",
      "[1] 100\n"
     ]
    }
   ],
   "source": [
    "for (i in c(1:100)){\n",
    "    print(i)\n",
    "}"
   ]
  },
  {
   "cell_type": "code",
   "execution_count": 2,
   "id": "0033d23c",
   "metadata": {},
   "outputs": [
    {
     "name": "stdout",
     "output_type": "stream",
     "text": [
      "[1] 1\n",
      "[1] 2\n",
      "[1] 3\n",
      "[1] 4\n",
      "[1] 5\n",
      "[1] 6\n",
      "[1] 7\n",
      "[1] 8\n",
      "[1] 9\n",
      "[1] 10\n"
     ]
    }
   ],
   "source": [
    "Vx = c(1:10)\n",
    "for (i in Vx){\n",
    "    print(i)\n",
    "}"
   ]
  },
  {
   "cell_type": "markdown",
   "id": "144d025a",
   "metadata": {},
   "source": [
    "As you can see that we have printed 100 vlaues by using a simple for loop, this for loop can be used anywhere, where we want to do some operation automated."
   ]
  },
  {
   "cell_type": "markdown",
   "id": "9aa92a1d",
   "metadata": {},
   "source": [
    "## 2. Function\n",
    "\n",
    "Functions are a set of code block which is executed together in a sequential order untill all the statements are executed.\n",
    "\n",
    "In another words, A function is a set of statements combined together to perform a specific task.\n",
    "\n",
    "* syntex of the function.\n",
    "\n",
    "```ruby\n",
    "\n",
    "FunctionName <- function(arguments_optional){\n",
    "    //statement one\n",
    "    // statement two\n",
    "}\n",
    "\n",
    "```"
   ]
  },
  {
   "cell_type": "markdown",
   "id": "08352b5e",
   "metadata": {},
   "source": [
    "**Example:** Like suppose that we need to calculate the sum of two vectors of equal length to according to their corresponding index"
   ]
  },
  {
   "cell_type": "code",
   "execution_count": 3,
   "id": "008d8371",
   "metadata": {},
   "outputs": [],
   "source": [
    "# Now we need to make two differnt vector.\n",
    "v1 = c(1:20)\n",
    "v2 = c(101:120)"
   ]
  },
  {
   "cell_type": "code",
   "execution_count": 4,
   "id": "1b654ebd",
   "metadata": {},
   "outputs": [],
   "source": [
    "# Now we have created two different vector now we need to make a function\n",
    "# which will return the sum of the vector and its result will also be a vector.\n",
    "\n",
    "AddVector = function(v1, v2){\n",
    "    Size = length(v1)\n",
    "    \n",
    "    # creating a vector in which we will save our result\n",
    "    Sum = vector(length=Size)\n",
    "    \n",
    "    # we need to length of the vector so we can iterate over the vector\n",
    "    # according to their size\n",
    "    for (i in 1:Size){\n",
    "        Sum[i] = v1[i] + v2[i]\n",
    "    }\n",
    "    Sum\n",
    "}"
   ]
  },
  {
   "cell_type": "code",
   "execution_count": 5,
   "id": "acd15dad",
   "metadata": {},
   "outputs": [
    {
     "data": {
      "text/html": [
       "<ol class=list-inline>\n",
       "\t<li>102</li>\n",
       "\t<li>104</li>\n",
       "\t<li>106</li>\n",
       "\t<li>108</li>\n",
       "\t<li>110</li>\n",
       "\t<li>112</li>\n",
       "\t<li>114</li>\n",
       "\t<li>116</li>\n",
       "\t<li>118</li>\n",
       "\t<li>120</li>\n",
       "\t<li>122</li>\n",
       "\t<li>124</li>\n",
       "\t<li>126</li>\n",
       "\t<li>128</li>\n",
       "\t<li>130</li>\n",
       "\t<li>132</li>\n",
       "\t<li>134</li>\n",
       "\t<li>136</li>\n",
       "\t<li>138</li>\n",
       "\t<li>140</li>\n",
       "</ol>\n"
      ],
      "text/latex": [
       "\\begin{enumerate*}\n",
       "\\item 102\n",
       "\\item 104\n",
       "\\item 106\n",
       "\\item 108\n",
       "\\item 110\n",
       "\\item 112\n",
       "\\item 114\n",
       "\\item 116\n",
       "\\item 118\n",
       "\\item 120\n",
       "\\item 122\n",
       "\\item 124\n",
       "\\item 126\n",
       "\\item 128\n",
       "\\item 130\n",
       "\\item 132\n",
       "\\item 134\n",
       "\\item 136\n",
       "\\item 138\n",
       "\\item 140\n",
       "\\end{enumerate*}\n"
      ],
      "text/markdown": [
       "1. 102\n",
       "2. 104\n",
       "3. 106\n",
       "4. 108\n",
       "5. 110\n",
       "6. 112\n",
       "7. 114\n",
       "8. 116\n",
       "9. 118\n",
       "10. 120\n",
       "11. 122\n",
       "12. 124\n",
       "13. 126\n",
       "14. 128\n",
       "15. 130\n",
       "16. 132\n",
       "17. 134\n",
       "18. 136\n",
       "19. 138\n",
       "20. 140\n",
       "\n",
       "\n"
      ],
      "text/plain": [
       " [1] 102 104 106 108 110 112 114 116 118 120 122 124 126 128 130 132 134 136 138\n",
       "[20] 140"
      ]
     },
     "metadata": {},
     "output_type": "display_data"
    }
   ],
   "source": [
    "# Now we will call the AddVector function\n",
    "AddVector(v1, v2)"
   ]
  },
  {
   "cell_type": "markdown",
   "id": "98e18038",
   "metadata": {},
   "source": [
    "## 3. Conditonal Statement (if statement) \n",
    "\n",
    "Sometimes we need to control our code to choose some statement according to the condition, this kind of statement in R is called Conditional Statement which is used often in every function which increases the efficiency of our code and reduce the computation time."
   ]
  },
  {
   "cell_type": "markdown",
   "id": "da93974b",
   "metadata": {},
   "source": [
    "### 1. Simple if statement"
   ]
  },
  {
   "cell_type": "code",
   "execution_count": 6,
   "id": "ead5f243",
   "metadata": {},
   "outputs": [],
   "source": [
    "# making a function in which we will create three chooice.\n",
    "\n",
    "SelectOption = function(x){\n",
    "    if (x==1){print(\"selected 1\")}\n",
    "    if (x==2){print(\"selected 2\")}\n",
    "    if (x==3){print(\"selected 3\")}\n",
    "}"
   ]
  },
  {
   "cell_type": "code",
   "execution_count": 7,
   "id": "3d48eba5",
   "metadata": {},
   "outputs": [
    {
     "name": "stdout",
     "output_type": "stream",
     "text": [
      "[1] \"selected 1\"\n"
     ]
    }
   ],
   "source": [
    "SelectOption(1)"
   ]
  },
  {
   "cell_type": "code",
   "execution_count": 8,
   "id": "aa9ddd11",
   "metadata": {},
   "outputs": [
    {
     "name": "stdout",
     "output_type": "stream",
     "text": [
      "[1] \"selected 2\"\n"
     ]
    }
   ],
   "source": [
    "SelectOption(2)"
   ]
  },
  {
   "cell_type": "code",
   "execution_count": 9,
   "id": "e9ac6cc8",
   "metadata": {},
   "outputs": [
    {
     "name": "stdout",
     "output_type": "stream",
     "text": [
      "[1] \"selected 3\"\n"
     ]
    }
   ],
   "source": [
    "SelectOption(3)"
   ]
  },
  {
   "cell_type": "markdown",
   "id": "6ad1aa99",
   "metadata": {},
   "source": [
    "As you can see that how we can control our code with the help of the if control statement, although This is a very simple if statement which is not suitable for multiple condition as in this situation."
   ]
  },
  {
   "cell_type": "markdown",
   "id": "1dced1b4",
   "metadata": {},
   "source": [
    "### 2. if else statement\n",
    "\n",
    "Suppose that we have two condition and we need to execute only one of them according to our condition meet and we want ot ignore the other one condition. In this situation we need to use if else control statement.\n",
    "\n",
    "ifelse returns a value with the same shape as test which is filled with elements selected from either yes or no depending on whether the element of test is TRUE or FALSE.\n",
    "\n",
    "syntex:\n",
    "```ruby\n",
    "ifelse(test, yes, no)\n",
    "```\n",
    "\n",
    "it takes three argument test is the condition, if condition is satisfied then it will return yes(True) statement other wise it will return no(False) value.\n",
    "\n",
    "ifelse is usefull whenever we want to compare only two condition."
   ]
  },
  {
   "cell_type": "code",
   "execution_count": 10,
   "id": "fba7ff3e",
   "metadata": {},
   "outputs": [],
   "source": [
    "# In this we will selecte two option like password \n",
    "\n",
    "Password = function(x){\n",
    "    ifelse(x==\"manish\", \n",
    "          print(\"Access Granted!\"),\n",
    "          print(\"Access Denied!\"))\n",
    "    \n",
    "}"
   ]
  },
  {
   "cell_type": "code",
   "execution_count": 11,
   "id": "3b4be9e7",
   "metadata": {},
   "outputs": [
    {
     "name": "stdout",
     "output_type": "stream",
     "text": [
      "[1] \"Access Granted!\"\n"
     ]
    },
    {
     "data": {
      "text/html": [
       "'Access Granted!'"
      ],
      "text/latex": [
       "'Access Granted!'"
      ],
      "text/markdown": [
       "'Access Granted!'"
      ],
      "text/plain": [
       "[1] \"Access Granted!\""
      ]
     },
     "metadata": {},
     "output_type": "display_data"
    }
   ],
   "source": [
    "Password(\"manish\")"
   ]
  },
  {
   "cell_type": "code",
   "execution_count": 12,
   "id": "1d6ed7a6",
   "metadata": {},
   "outputs": [
    {
     "name": "stdout",
     "output_type": "stream",
     "text": [
      "[1] \"Access Denied!\"\n"
     ]
    },
    {
     "data": {
      "text/html": [
       "'Access Denied!'"
      ],
      "text/latex": [
       "'Access Denied!'"
      ],
      "text/markdown": [
       "'Access Denied!'"
      ],
      "text/plain": [
       "[1] \"Access Denied!\""
      ]
     },
     "metadata": {},
     "output_type": "display_data"
    }
   ],
   "source": [
    "Password(\"Manish\")"
   ]
  },
  {
   "cell_type": "markdown",
   "id": "77e23e1c",
   "metadata": {},
   "source": [
    "### 3. if elseif control statement\n",
    "\n",
    "whenever we want to control more than two statement with more efficently then we need to use the `if elseif` control statement.\n",
    "\n",
    "**syntex:**\n",
    "```ruby\n",
    "if(condition1){\n",
    "    //statement one\n",
    "}\n",
    "elseif(condition2){\n",
    "    //statement two\n",
    "}\n",
    "elseif(condition3){\n",
    "    //statement three\n",
    "}\n",
    "elseif(condition4){\n",
    "    //statement four\n",
    "}\n",
    "    .....\n",
    "```"
   ]
  },
  {
   "cell_type": "code",
   "execution_count": 13,
   "id": "d79db776",
   "metadata": {},
   "outputs": [],
   "source": [
    "# Again we will make a control statement to select one option from 4 available.\n",
    "\n",
    "SelectOption = function(x){\n",
    "    \n",
    "    if(x==1){print(\"OPtion 1 is selected\")}else\n",
    "    if(x==2){print(\"OPtion 2 is selected\")}else\n",
    "    if(x==3){print(\"OPtion 3 is selected\")}else\n",
    "    if(x==4){print(\"OPtion 4 is selected\")}\n",
    "        \n",
    "}"
   ]
  },
  {
   "cell_type": "code",
   "execution_count": 14,
   "id": "b656dd25",
   "metadata": {},
   "outputs": [
    {
     "name": "stdout",
     "output_type": "stream",
     "text": [
      "[1] \"OPtion 1 is selected\"\n"
     ]
    }
   ],
   "source": [
    "SelectOption(1)"
   ]
  },
  {
   "cell_type": "code",
   "execution_count": 15,
   "id": "f821ba90",
   "metadata": {},
   "outputs": [
    {
     "name": "stdout",
     "output_type": "stream",
     "text": [
      "[1] \"OPtion 4 is selected\"\n"
     ]
    }
   ],
   "source": [
    "SelectOption(4)"
   ]
  },
  {
   "cell_type": "markdown",
   "id": "bf6a2c28",
   "metadata": {},
   "source": [
    "**Another style to write if elseif control statement**"
   ]
  },
  {
   "cell_type": "code",
   "execution_count": 16,
   "id": "aad67164",
   "metadata": {},
   "outputs": [],
   "source": [
    "# Again we will make a control statement to select one option from 4 available.\n",
    "\n",
    "SelectOption = function(x){\n",
    "    \n",
    "    if(x==1){print(\"OPtion 1 is selected\")}\n",
    "    else if(x==2){print(\"OPtion 2 is selected\")}\n",
    "    else if(x==3){print(\"OPtion 3 is selected\")}\n",
    "    else if(x==4){print(\"OPtion 4 is selected\")}\n",
    "        \n",
    "}\n",
    "\n",
    "# This style is more readable than the other one."
   ]
  },
  {
   "cell_type": "code",
   "execution_count": 17,
   "id": "ee7d32d5",
   "metadata": {},
   "outputs": [
    {
     "name": "stdout",
     "output_type": "stream",
     "text": [
      "[1] \"OPtion 1 is selected\"\n",
      "[1] \"OPtion 4 is selected\"\n"
     ]
    }
   ],
   "source": [
    "SelectOption(1)\n",
    "SelectOption(4)"
   ]
  },
  {
   "cell_type": "markdown",
   "id": "fe48912c",
   "metadata": {},
   "source": [
    "## 4. Application of Loop, Fucntion and control statement in Data analysis\n",
    "\n",
    "Now we will work on some dataset to using the application of loops, functions and control statements.\n",
    "\n",
    "**Task 1:** For basic illustration we will work with the Owls dataset.."
   ]
  },
  {
   "cell_type": "markdown",
   "id": "1981ca1d",
   "metadata": {},
   "source": [
    "##### 1. importing the Owls dataset"
   ]
  },
  {
   "cell_type": "code",
   "execution_count": 18,
   "id": "dc572ea9",
   "metadata": {},
   "outputs": [
    {
     "data": {
      "text/html": [
       "<table>\n",
       "<thead><tr><th scope=col>Nest</th><th scope=col>FoodTreatment</th><th scope=col>SexParent</th><th scope=col>ArrivalTime</th><th scope=col>SiblingNegotiation</th><th scope=col>BroodSize</th><th scope=col>NegPerChick</th></tr></thead>\n",
       "<tbody>\n",
       "\t<tr><td>AutavauxTV</td><td>Deprived  </td><td>Male      </td><td>22.25     </td><td>4         </td><td>5         </td><td>0.8       </td></tr>\n",
       "\t<tr><td>AutavauxTV</td><td>Satiated  </td><td>Male      </td><td>22.38     </td><td>0         </td><td>5         </td><td>0.0       </td></tr>\n",
       "\t<tr><td>AutavauxTV</td><td>Deprived  </td><td>Male      </td><td>22.53     </td><td>2         </td><td>5         </td><td>0.4       </td></tr>\n",
       "\t<tr><td>AutavauxTV</td><td>Deprived  </td><td>Male      </td><td>22.56     </td><td>2         </td><td>5         </td><td>0.4       </td></tr>\n",
       "\t<tr><td>AutavauxTV</td><td>Deprived  </td><td>Male      </td><td>22.61     </td><td>2         </td><td>5         </td><td>0.4       </td></tr>\n",
       "\t<tr><td>AutavauxTV</td><td>Deprived  </td><td>Male      </td><td>22.65     </td><td>2         </td><td>5         </td><td>0.4       </td></tr>\n",
       "</tbody>\n",
       "</table>\n"
      ],
      "text/latex": [
       "\\begin{tabular}{r|lllllll}\n",
       " Nest & FoodTreatment & SexParent & ArrivalTime & SiblingNegotiation & BroodSize & NegPerChick\\\\\n",
       "\\hline\n",
       "\t AutavauxTV & Deprived   & Male       & 22.25      & 4          & 5          & 0.8       \\\\\n",
       "\t AutavauxTV & Satiated   & Male       & 22.38      & 0          & 5          & 0.0       \\\\\n",
       "\t AutavauxTV & Deprived   & Male       & 22.53      & 2          & 5          & 0.4       \\\\\n",
       "\t AutavauxTV & Deprived   & Male       & 22.56      & 2          & 5          & 0.4       \\\\\n",
       "\t AutavauxTV & Deprived   & Male       & 22.61      & 2          & 5          & 0.4       \\\\\n",
       "\t AutavauxTV & Deprived   & Male       & 22.65      & 2          & 5          & 0.4       \\\\\n",
       "\\end{tabular}\n"
      ],
      "text/markdown": [
       "\n",
       "| Nest | FoodTreatment | SexParent | ArrivalTime | SiblingNegotiation | BroodSize | NegPerChick |\n",
       "|---|---|---|---|---|---|---|\n",
       "| AutavauxTV | Deprived   | Male       | 22.25      | 4          | 5          | 0.8        |\n",
       "| AutavauxTV | Satiated   | Male       | 22.38      | 0          | 5          | 0.0        |\n",
       "| AutavauxTV | Deprived   | Male       | 22.53      | 2          | 5          | 0.4        |\n",
       "| AutavauxTV | Deprived   | Male       | 22.56      | 2          | 5          | 0.4        |\n",
       "| AutavauxTV | Deprived   | Male       | 22.61      | 2          | 5          | 0.4        |\n",
       "| AutavauxTV | Deprived   | Male       | 22.65      | 2          | 5          | 0.4        |\n",
       "\n"
      ],
      "text/plain": [
       "  Nest       FoodTreatment SexParent ArrivalTime SiblingNegotiation BroodSize\n",
       "1 AutavauxTV Deprived      Male      22.25       4                  5        \n",
       "2 AutavauxTV Satiated      Male      22.38       0                  5        \n",
       "3 AutavauxTV Deprived      Male      22.53       2                  5        \n",
       "4 AutavauxTV Deprived      Male      22.56       2                  5        \n",
       "5 AutavauxTV Deprived      Male      22.61       2                  5        \n",
       "6 AutavauxTV Deprived      Male      22.65       2                  5        \n",
       "  NegPerChick\n",
       "1 0.8        \n",
       "2 0.0        \n",
       "3 0.4        \n",
       "4 0.4        \n",
       "5 0.4        \n",
       "6 0.4        "
      ]
     },
     "metadata": {},
     "output_type": "display_data"
    }
   ],
   "source": [
    "Owls = read.table(file=\"RBook/RBook/Owls.txt\", header=TRUE)\n",
    "\n",
    "# checking  the head of the Owls\n",
    "head(Owls)"
   ]
  },
  {
   "cell_type": "markdown",
   "id": "5998ec31",
   "metadata": {},
   "source": [
    "##### 2. checking the structure of the dataset"
   ]
  },
  {
   "cell_type": "code",
   "execution_count": 19,
   "id": "091deb30",
   "metadata": {},
   "outputs": [
    {
     "name": "stdout",
     "output_type": "stream",
     "text": [
      "'data.frame':\t599 obs. of  7 variables:\n",
      " $ Nest              : Factor w/ 27 levels \"AutavauxTV\",\"Bochet\",..: 1 1 1 1 1 1 1 1 1 1 ...\n",
      " $ FoodTreatment     : Factor w/ 2 levels \"Deprived\",\"Satiated\": 1 2 1 1 1 1 1 2 1 2 ...\n",
      " $ SexParent         : Factor w/ 2 levels \"Female\",\"Male\": 2 2 2 2 2 2 2 1 2 1 ...\n",
      " $ ArrivalTime       : num  22.2 22.4 22.5 22.6 22.6 ...\n",
      " $ SiblingNegotiation: int  4 0 2 2 2 2 18 4 18 0 ...\n",
      " $ BroodSize         : int  5 5 5 5 5 5 5 5 5 5 ...\n",
      " $ NegPerChick       : num  0.8 0 0.4 0.4 0.4 0.4 3.6 0.8 3.6 0 ...\n"
     ]
    }
   ],
   "source": [
    "\n",
    "str(Owls)"
   ]
  },
  {
   "cell_type": "markdown",
   "id": "330f6a33",
   "metadata": {},
   "source": [
    "In this dataset we have some Factor values which are encoded as string values. There are 599 observation with 7 variable as showing in the structure output.\n",
    "\n",
    "This can be seen by using the dim() function."
   ]
  },
  {
   "cell_type": "code",
   "execution_count": 20,
   "id": "7f3d1ad8",
   "metadata": {},
   "outputs": [
    {
     "data": {
      "text/html": [
       "<ol class=list-inline>\n",
       "\t<li>599</li>\n",
       "\t<li>7</li>\n",
       "</ol>\n"
      ],
      "text/latex": [
       "\\begin{enumerate*}\n",
       "\\item 599\n",
       "\\item 7\n",
       "\\end{enumerate*}\n"
      ],
      "text/markdown": [
       "1. 599\n",
       "2. 7\n",
       "\n",
       "\n"
      ],
      "text/plain": [
       "[1] 599   7"
      ]
     },
     "metadata": {},
     "output_type": "display_data"
    }
   ],
   "source": [
    "dim(Owls)"
   ]
  },
  {
   "cell_type": "code",
   "execution_count": null,
   "id": "46e697d3",
   "metadata": {},
   "outputs": [],
   "source": []
  },
  {
   "cell_type": "markdown",
   "id": "8ac5cbf1",
   "metadata": {},
   "source": [
    "Note: This output can be used in furthur analysis so for best practice save this output in a variable."
   ]
  },
  {
   "cell_type": "markdown",
   "id": "682446c4",
   "metadata": {},
   "source": [
    "**Task 1: Our first task is to plot a graph b/w the ArriavalTime of parent and negotiation of siblings.**  "
   ]
  },
  {
   "cell_type": "markdown",
   "id": "5b786297",
   "metadata": {},
   "source": [
    "To do this task we can follow some steps mentioned below.\n",
    "\n",
    "1. Import the Owls data by using read.table function.\n",
    "2. Check the structure of the dataset by using str function.\n",
    "3. Get the names of the variable by using names().\n",
    "4. Get the Each nest name by using the unique() function.\n",
    "5. Extract the data of each nest and make a scattered plot b/w arriaval time and negotiation.\n",
    "6. Save the graph for each nest plot.\n",
    "7. Repeat all above 3-6 steps by using a loop.\n",
    "\n",
    "Note: Since we have already did 1 and 2 steps. So we will go to step 3."
   ]
  },
  {
   "cell_type": "markdown",
   "id": "18750bd3",
   "metadata": {},
   "source": [
    "##### 3. Getting the names of the variables by using the names() function."
   ]
  },
  {
   "cell_type": "code",
   "execution_count": 21,
   "id": "81a0934e",
   "metadata": {},
   "outputs": [
    {
     "data": {
      "text/html": [
       "<ol class=list-inline>\n",
       "\t<li>'Nest'</li>\n",
       "\t<li>'FoodTreatment'</li>\n",
       "\t<li>'SexParent'</li>\n",
       "\t<li>'ArrivalTime'</li>\n",
       "\t<li>'SiblingNegotiation'</li>\n",
       "\t<li>'BroodSize'</li>\n",
       "\t<li>'NegPerChick'</li>\n",
       "</ol>\n"
      ],
      "text/latex": [
       "\\begin{enumerate*}\n",
       "\\item 'Nest'\n",
       "\\item 'FoodTreatment'\n",
       "\\item 'SexParent'\n",
       "\\item 'ArrivalTime'\n",
       "\\item 'SiblingNegotiation'\n",
       "\\item 'BroodSize'\n",
       "\\item 'NegPerChick'\n",
       "\\end{enumerate*}\n"
      ],
      "text/markdown": [
       "1. 'Nest'\n",
       "2. 'FoodTreatment'\n",
       "3. 'SexParent'\n",
       "4. 'ArrivalTime'\n",
       "5. 'SiblingNegotiation'\n",
       "6. 'BroodSize'\n",
       "7. 'NegPerChick'\n",
       "\n",
       "\n"
      ],
      "text/plain": [
       "[1] \"Nest\"               \"FoodTreatment\"      \"SexParent\"         \n",
       "[4] \"ArrivalTime\"        \"SiblingNegotiation\" \"BroodSize\"         \n",
       "[7] \"NegPerChick\"       "
      ]
     },
     "metadata": {},
     "output_type": "display_data"
    }
   ],
   "source": [
    "\n",
    "\n",
    "VNames = names(Owls)\n",
    "VNames"
   ]
  },
  {
   "cell_type": "code",
   "execution_count": 22,
   "id": "f38ba692",
   "metadata": {},
   "outputs": [
    {
     "data": {
      "text/html": [
       "<ol class=list-inline>\n",
       "\t<li>AutavauxTV</li>\n",
       "\t<li>Bochet</li>\n",
       "\t<li>Champmartin</li>\n",
       "\t<li>ChEsard</li>\n",
       "\t<li>Chevroux</li>\n",
       "\t<li>CorcellesFavres</li>\n",
       "\t<li>Etrabloz</li>\n",
       "\t<li>Forel</li>\n",
       "\t<li>Franex</li>\n",
       "\t<li>GDLV</li>\n",
       "\t<li>Gletterens</li>\n",
       "\t<li>Henniez</li>\n",
       "\t<li>Jeuss</li>\n",
       "\t<li>LesPlanches</li>\n",
       "\t<li>Lucens</li>\n",
       "\t<li>Lully</li>\n",
       "\t<li>Marnand</li>\n",
       "\t<li>Moutet</li>\n",
       "\t<li>Murist</li>\n",
       "\t<li>Oleyes</li>\n",
       "\t<li>Payerne</li>\n",
       "\t<li>Rueyes</li>\n",
       "\t<li>Seiry</li>\n",
       "\t<li>SEvaz</li>\n",
       "\t<li>StAubin</li>\n",
       "\t<li>Trey</li>\n",
       "\t<li>Yvonnand</li>\n",
       "</ol>\n",
       "\n",
       "<details>\n",
       "\t<summary style=display:list-item;cursor:pointer>\n",
       "\t\t<strong>Levels</strong>:\n",
       "\t</summary>\n",
       "\t<ol class=list-inline>\n",
       "\t\t<li>'AutavauxTV'</li>\n",
       "\t\t<li>'Bochet'</li>\n",
       "\t\t<li>'Champmartin'</li>\n",
       "\t\t<li>'ChEsard'</li>\n",
       "\t\t<li>'Chevroux'</li>\n",
       "\t\t<li>'CorcellesFavres'</li>\n",
       "\t\t<li>'Etrabloz'</li>\n",
       "\t\t<li>'Forel'</li>\n",
       "\t\t<li>'Franex'</li>\n",
       "\t\t<li>'GDLV'</li>\n",
       "\t\t<li>'Gletterens'</li>\n",
       "\t\t<li>'Henniez'</li>\n",
       "\t\t<li>'Jeuss'</li>\n",
       "\t\t<li>'LesPlanches'</li>\n",
       "\t\t<li>'Lucens'</li>\n",
       "\t\t<li>'Lully'</li>\n",
       "\t\t<li>'Marnand'</li>\n",
       "\t\t<li>'Moutet'</li>\n",
       "\t\t<li>'Murist'</li>\n",
       "\t\t<li>'Oleyes'</li>\n",
       "\t\t<li>'Payerne'</li>\n",
       "\t\t<li>'Rueyes'</li>\n",
       "\t\t<li>'Seiry'</li>\n",
       "\t\t<li>'SEvaz'</li>\n",
       "\t\t<li>'StAubin'</li>\n",
       "\t\t<li>'Trey'</li>\n",
       "\t\t<li>'Yvonnand'</li>\n",
       "\t</ol>\n",
       "</details>"
      ],
      "text/latex": [
       "\\begin{enumerate*}\n",
       "\\item AutavauxTV\n",
       "\\item Bochet\n",
       "\\item Champmartin\n",
       "\\item ChEsard\n",
       "\\item Chevroux\n",
       "\\item CorcellesFavres\n",
       "\\item Etrabloz\n",
       "\\item Forel\n",
       "\\item Franex\n",
       "\\item GDLV\n",
       "\\item Gletterens\n",
       "\\item Henniez\n",
       "\\item Jeuss\n",
       "\\item LesPlanches\n",
       "\\item Lucens\n",
       "\\item Lully\n",
       "\\item Marnand\n",
       "\\item Moutet\n",
       "\\item Murist\n",
       "\\item Oleyes\n",
       "\\item Payerne\n",
       "\\item Rueyes\n",
       "\\item Seiry\n",
       "\\item SEvaz\n",
       "\\item StAubin\n",
       "\\item Trey\n",
       "\\item Yvonnand\n",
       "\\end{enumerate*}\n",
       "\n",
       "\\emph{Levels}: \\begin{enumerate*}\n",
       "\\item 'AutavauxTV'\n",
       "\\item 'Bochet'\n",
       "\\item 'Champmartin'\n",
       "\\item 'ChEsard'\n",
       "\\item 'Chevroux'\n",
       "\\item 'CorcellesFavres'\n",
       "\\item 'Etrabloz'\n",
       "\\item 'Forel'\n",
       "\\item 'Franex'\n",
       "\\item 'GDLV'\n",
       "\\item 'Gletterens'\n",
       "\\item 'Henniez'\n",
       "\\item 'Jeuss'\n",
       "\\item 'LesPlanches'\n",
       "\\item 'Lucens'\n",
       "\\item 'Lully'\n",
       "\\item 'Marnand'\n",
       "\\item 'Moutet'\n",
       "\\item 'Murist'\n",
       "\\item 'Oleyes'\n",
       "\\item 'Payerne'\n",
       "\\item 'Rueyes'\n",
       "\\item 'Seiry'\n",
       "\\item 'SEvaz'\n",
       "\\item 'StAubin'\n",
       "\\item 'Trey'\n",
       "\\item 'Yvonnand'\n",
       "\\end{enumerate*}\n"
      ],
      "text/markdown": [
       "1. AutavauxTV\n",
       "2. Bochet\n",
       "3. Champmartin\n",
       "4. ChEsard\n",
       "5. Chevroux\n",
       "6. CorcellesFavres\n",
       "7. Etrabloz\n",
       "8. Forel\n",
       "9. Franex\n",
       "10. GDLV\n",
       "11. Gletterens\n",
       "12. Henniez\n",
       "13. Jeuss\n",
       "14. LesPlanches\n",
       "15. Lucens\n",
       "16. Lully\n",
       "17. Marnand\n",
       "18. Moutet\n",
       "19. Murist\n",
       "20. Oleyes\n",
       "21. Payerne\n",
       "22. Rueyes\n",
       "23. Seiry\n",
       "24. SEvaz\n",
       "25. StAubin\n",
       "26. Trey\n",
       "27. Yvonnand\n",
       "\n",
       "\n",
       "\n",
       "**Levels**: 1. 'AutavauxTV'\n",
       "2. 'Bochet'\n",
       "3. 'Champmartin'\n",
       "4. 'ChEsard'\n",
       "5. 'Chevroux'\n",
       "6. 'CorcellesFavres'\n",
       "7. 'Etrabloz'\n",
       "8. 'Forel'\n",
       "9. 'Franex'\n",
       "10. 'GDLV'\n",
       "11. 'Gletterens'\n",
       "12. 'Henniez'\n",
       "13. 'Jeuss'\n",
       "14. 'LesPlanches'\n",
       "15. 'Lucens'\n",
       "16. 'Lully'\n",
       "17. 'Marnand'\n",
       "18. 'Moutet'\n",
       "19. 'Murist'\n",
       "20. 'Oleyes'\n",
       "21. 'Payerne'\n",
       "22. 'Rueyes'\n",
       "23. 'Seiry'\n",
       "24. 'SEvaz'\n",
       "25. 'StAubin'\n",
       "26. 'Trey'\n",
       "27. 'Yvonnand'\n",
       "\n",
       "\n"
      ],
      "text/plain": [
       " [1] AutavauxTV      Bochet          Champmartin     ChEsard        \n",
       " [5] Chevroux        CorcellesFavres Etrabloz        Forel          \n",
       " [9] Franex          GDLV            Gletterens      Henniez        \n",
       "[13] Jeuss           LesPlanches     Lucens          Lully          \n",
       "[17] Marnand         Moutet          Murist          Oleyes         \n",
       "[21] Payerne         Rueyes          Seiry           SEvaz          \n",
       "[25] StAubin         Trey            Yvonnand       \n",
       "27 Levels: AutavauxTV Bochet Champmartin ChEsard Chevroux ... Yvonnand"
      ]
     },
     "metadata": {},
     "output_type": "display_data"
    }
   ],
   "source": [
    "# 4. Getting the name of each nest\n",
    "NestNames = unique(Owls$Nest)\n",
    "NestNames"
   ]
  },
  {
   "cell_type": "code",
   "execution_count": null,
   "id": "91d5fc33",
   "metadata": {},
   "outputs": [],
   "source": []
  },
  {
   "cell_type": "markdown",
   "id": "070f1440",
   "metadata": {},
   "source": [
    "#####  5. Making the Scattered plot b/w arrival time and negotiation "
   ]
  },
  {
   "cell_type": "code",
   "execution_count": 23,
   "id": "54eb311b",
   "metadata": {},
   "outputs": [],
   "source": [
    "\n",
    "# To do this we need to import the data for a particular Nest Like 'Bochet'\n",
    "\n",
    "OwlsNest = \"Bochet\"\n",
    "\n",
    "# Now we need to get all the data only Bochet nest\n",
    "\n",
    "OwlsBochet = Owls[Owls$Nest == OwlsNest, ] # we need to select all the column and selected rows."
   ]
  },
  {
   "cell_type": "code",
   "execution_count": 24,
   "id": "8150ce67",
   "metadata": {
    "scrolled": true
   },
   "outputs": [
    {
     "data": {
      "text/html": [
       "<table>\n",
       "<thead><tr><th></th><th scope=col>Nest</th><th scope=col>FoodTreatment</th><th scope=col>SexParent</th><th scope=col>ArrivalTime</th><th scope=col>SiblingNegotiation</th><th scope=col>BroodSize</th><th scope=col>NegPerChick</th></tr></thead>\n",
       "<tbody>\n",
       "\t<tr><th scope=row>29</th><td>Bochet  </td><td>Satiated</td><td>Female  </td><td>22.81   </td><td> 3      </td><td>4       </td><td>0.75    </td></tr>\n",
       "\t<tr><th scope=row>30</th><td>Bochet  </td><td>Satiated</td><td>Male    </td><td>23.20   </td><td> 2      </td><td>4       </td><td>0.50    </td></tr>\n",
       "\t<tr><th scope=row>31</th><td>Bochet  </td><td>Deprived</td><td>Male    </td><td>23.22   </td><td>13      </td><td>4       </td><td>3.25    </td></tr>\n",
       "\t<tr><th scope=row>32</th><td>Bochet  </td><td>Deprived</td><td>Female  </td><td>23.23   </td><td>13      </td><td>4       </td><td>3.25    </td></tr>\n",
       "\t<tr><th scope=row>33</th><td>Bochet  </td><td>Deprived</td><td>Male    </td><td>23.33   </td><td>22      </td><td>4       </td><td>5.50    </td></tr>\n",
       "\t<tr><th scope=row>34</th><td>Bochet  </td><td>Satiated</td><td>Male    </td><td>23.36   </td><td> 2      </td><td>4       </td><td>0.50    </td></tr>\n",
       "</tbody>\n",
       "</table>\n"
      ],
      "text/latex": [
       "\\begin{tabular}{r|lllllll}\n",
       "  & Nest & FoodTreatment & SexParent & ArrivalTime & SiblingNegotiation & BroodSize & NegPerChick\\\\\n",
       "\\hline\n",
       "\t29 & Bochet   & Satiated & Female   & 22.81    &  3       & 4        & 0.75    \\\\\n",
       "\t30 & Bochet   & Satiated & Male     & 23.20    &  2       & 4        & 0.50    \\\\\n",
       "\t31 & Bochet   & Deprived & Male     & 23.22    & 13       & 4        & 3.25    \\\\\n",
       "\t32 & Bochet   & Deprived & Female   & 23.23    & 13       & 4        & 3.25    \\\\\n",
       "\t33 & Bochet   & Deprived & Male     & 23.33    & 22       & 4        & 5.50    \\\\\n",
       "\t34 & Bochet   & Satiated & Male     & 23.36    &  2       & 4        & 0.50    \\\\\n",
       "\\end{tabular}\n"
      ],
      "text/markdown": [
       "\n",
       "| <!--/--> | Nest | FoodTreatment | SexParent | ArrivalTime | SiblingNegotiation | BroodSize | NegPerChick |\n",
       "|---|---|---|---|---|---|---|---|\n",
       "| 29 | Bochet   | Satiated | Female   | 22.81    |  3       | 4        | 0.75     |\n",
       "| 30 | Bochet   | Satiated | Male     | 23.20    |  2       | 4        | 0.50     |\n",
       "| 31 | Bochet   | Deprived | Male     | 23.22    | 13       | 4        | 3.25     |\n",
       "| 32 | Bochet   | Deprived | Female   | 23.23    | 13       | 4        | 3.25     |\n",
       "| 33 | Bochet   | Deprived | Male     | 23.33    | 22       | 4        | 5.50     |\n",
       "| 34 | Bochet   | Satiated | Male     | 23.36    |  2       | 4        | 0.50     |\n",
       "\n"
      ],
      "text/plain": [
       "   Nest   FoodTreatment SexParent ArrivalTime SiblingNegotiation BroodSize\n",
       "29 Bochet Satiated      Female    22.81        3                 4        \n",
       "30 Bochet Satiated      Male      23.20        2                 4        \n",
       "31 Bochet Deprived      Male      23.22       13                 4        \n",
       "32 Bochet Deprived      Female    23.23       13                 4        \n",
       "33 Bochet Deprived      Male      23.33       22                 4        \n",
       "34 Bochet Satiated      Male      23.36        2                 4        \n",
       "   NegPerChick\n",
       "29 0.75       \n",
       "30 0.50       \n",
       "31 3.25       \n",
       "32 3.25       \n",
       "33 5.50       \n",
       "34 0.50       "
      ]
     },
     "metadata": {},
     "output_type": "display_data"
    }
   ],
   "source": [
    "head(OwlsBochet)"
   ]
  },
  {
   "cell_type": "code",
   "execution_count": 25,
   "id": "eb0c0908",
   "metadata": {},
   "outputs": [
    {
     "data": {
      "image/png": "[encoded data removed]",
      "text/plain": [
       "Plot with title \"OwlsBochet\""
      ]
     },
     "metadata": {},
     "output_type": "display_data"
    }
   ],
   "source": [
    "# Now we need to make the plot b/w arrival time and negotiation.\n",
    "plot(x=OwlsBochet$ArrivalTime , y= OwlsBochet$NegPerChick, \n",
    "     xlab= \"Arrival time\", ylab=\"Negotiation behaviour\",\n",
    "    main=\"OwlsBochet\", pch=16, col=2)"
   ]
  },
  {
   "cell_type": "markdown",
   "id": "c62c7869",
   "metadata": {},
   "source": [
    "##### 6. Saving the scattered plot "
   ]
  },
  {
   "cell_type": "code",
   "execution_count": 26,
   "id": "d513de03",
   "metadata": {},
   "outputs": [
    {
     "data": {
      "text/html": [
       "<strong>png:</strong> 2"
      ],
      "text/latex": [
       "\\textbf{png:} 2"
      ],
      "text/markdown": [
       "**png:** 2"
      ],
      "text/plain": [
       "png \n",
       "  2 "
      ]
     },
     "metadata": {},
     "output_type": "display_data"
    }
   ],
   "source": [
    "# To save the scattered plot first we need to open a jpeg file (if want to save the graph in jpeg format.)\n",
    "# opening the jpeg file by using below code\n",
    "jpeg(file=\"Owls/Arrival vs Negotiation/Bochet.jpeg\")\n",
    "\n",
    "# now we need to use the plot again\n",
    "plot(x=OwlsBochet$ArrivalTime , y= OwlsBochet$NegPerChick, \n",
    "     xlab= \"Arrival time\", ylab=\"Negotiation behaviour\",\n",
    "    main=\"OwlsBochet\", pch=16, col=2)\n",
    "\n",
    "# Note in this code we will not see the graph in notebook as output\n",
    "\n",
    "# to close the jpeg file we need to use dev.off()\n",
    "dev.off()"
   ]
  },
  {
   "cell_type": "markdown",
   "id": "3305516f",
   "metadata": {},
   "source": [
    "##### 7. Now we need to put all the code together and need to plot the graph for each nest"
   ]
  },
  {
   "cell_type": "code",
   "execution_count": 27,
   "id": "ddaa913b",
   "metadata": {},
   "outputs": [],
   "source": [
    "# To do this we can make a fucntion named as Negotiation\n",
    "\n",
    "# This function will need some argument to do automation calculations.\n",
    "Negotiation = function(Dataset){\n",
    "    \n",
    "    # Now we need to use a for loop to perform furthur steps on each nest\n",
    "    \n",
    "    # Storing all the Nest names\n",
    "    NestNames = unique(Owls$Nest)\n",
    "    \n",
    "    # Now we need to get the length of the all nest names\n",
    "    Length = length(NestNames)\n",
    "    \n",
    "    # Now using for loop\n",
    "    for (i in NestNames){\n",
    "        # Now we need to get the data for each nest\n",
    "        Nest.i = Owls[Owls$Nest == i ,]\n",
    "        \n",
    "        # Now we will plot the scattered plot graph and save it\n",
    "        \n",
    "        # in jpeg function we need to save the file by using the name and extension \n",
    "        # we need to join them together by using paste() function.\n",
    "        \n",
    "        FileName = paste(\"Owls/Arrival vs Negotiation/\",i,\".jpeg\", sep=\"\")\n",
    "        \n",
    "        # opening the jpeg file\n",
    "        jpeg(FileName)\n",
    "        \n",
    "        plot(x=Nest.i$ArrivalTime , y=Nest.i$NegPerChick, \n",
    "                    xlab= \"Arrival time\", ylab=\"Negotiation behaviour\",\n",
    "                    main=i, pch=16, col=2)\n",
    "        dev.off()\n",
    "    }\n",
    "    \n",
    "}"
   ]
  },
  {
   "cell_type": "code",
   "execution_count": 28,
   "id": "e8d15f56",
   "metadata": {},
   "outputs": [],
   "source": [
    "# Now we will execute the Negotiation function\n",
    "Negotiation(Owls)"
   ]
  },
  {
   "cell_type": "markdown",
   "id": "b3fa8509",
   "metadata": {},
   "source": [
    "`Note:` Now if we check in **\"Owls/Arrival vs Negotiation/\"** directory we will see all the plot graph b/w arrival time and negotiation."
   ]
  },
  {
   "cell_type": "markdown",
   "id": "d2cc0142",
   "metadata": {},
   "source": [
    "## Finding Zeros and Nas.\n",
    "\n",
    "There are often a situation where we need to find and remove the zeros and NA present in the datasets. Most of the function have the ability to remove these zeros and NA but there are some case where we need to remove them by ourself."
   ]
  },
  {
   "cell_type": "markdown",
   "id": "de12e63d",
   "metadata": {},
   "source": [
    "* There are many methods to find and create a table for each column or row but we will use colSums and rowSums function and also we can make our own function to create a table of Zeros and NAs. "
   ]
  },
  {
   "cell_type": "code",
   "execution_count": 30,
   "id": "21203255",
   "metadata": {},
   "outputs": [],
   "source": [
    "# we will perform This on vegetation dataset\n",
    "veg = read.table(file=\"RBook/RBook/Vegetation2.txt\", header=TRUE)"
   ]
  },
  {
   "cell_type": "code",
   "execution_count": 31,
   "id": "4a37ee60",
   "metadata": {},
   "outputs": [
    {
     "data": {
      "text/html": [
       "<table>\n",
       "<thead><tr><th scope=col>TransectName</th><th scope=col>Samples</th><th scope=col>Transect</th><th scope=col>Time</th><th scope=col>R</th><th scope=col>ROCK</th><th scope=col>LITTER</th><th scope=col>ML</th><th scope=col>BARESOIL</th><th scope=col>FallPrec</th><th scope=col>...</th><th scope=col>SprTmax</th><th scope=col>SumTmax</th><th scope=col>WinTmax</th><th scope=col>FallTmin</th><th scope=col>SprTmin</th><th scope=col>SumTmin</th><th scope=col>WinTmin</th><th scope=col>PCTSAND</th><th scope=col>PCTSILT</th><th scope=col>PCTOrgC</th></tr></thead>\n",
       "<tbody>\n",
       "\t<tr><td>A_22_58</td><td>1      </td><td>1      </td><td>1958   </td><td> 8     </td><td>27     </td><td>30     </td><td>0      </td><td>26     </td><td>30.22  </td><td>...    </td><td>15.77  </td><td>25.17  </td><td>3.47   </td><td> 0.49  </td><td> 0.36  </td><td>6.97   </td><td> -8.54 </td><td>24     </td><td>30     </td><td>0.03459</td></tr>\n",
       "\t<tr><td>A_22_62</td><td>2      </td><td>1      </td><td>1962   </td><td> 6     </td><td>26     </td><td>20     </td><td>0      </td><td>28     </td><td>99.56  </td><td>...    </td><td>15.21  </td><td>24.85  </td><td>1.16   </td><td>-0.18  </td><td> 0.18  </td><td>6.40   </td><td>-10.76 </td><td>24     </td><td>30     </td><td>0.03459</td></tr>\n",
       "\t<tr><td>A_22_67</td><td>3      </td><td>1      </td><td>1967   </td><td> 8     </td><td>30     </td><td>24     </td><td>0      </td><td>30     </td><td>43.43  </td><td>...    </td><td>12.76  </td><td>25.51  </td><td>3.09   </td><td> 1.23  </td><td>-1.86  </td><td>7.12   </td><td> -8.50 </td><td>24     </td><td>30     </td><td>0.03459</td></tr>\n",
       "\t<tr><td>A_22_74</td><td>4      </td><td>1      </td><td>1974   </td><td> 8     </td><td>18     </td><td>35     </td><td>0      </td><td>16     </td><td>54.86  </td><td>...    </td><td>14.00  </td><td>26.67  </td><td>2.46   </td><td> 1.43  </td><td>-0.53  </td><td>7.20   </td><td> -8.28 </td><td>24     </td><td>30     </td><td>0.03459</td></tr>\n",
       "\t<tr><td>A_22_81</td><td>5      </td><td>1      </td><td>1981   </td><td>10     </td><td>23     </td><td>22     </td><td>4      </td><td> 9     </td><td>24.38  </td><td>...    </td><td>14.33  </td><td>26.02  </td><td>5.72   </td><td> 1.09  </td><td> 0.75  </td><td>6.90   </td><td> -7.56 </td><td>24     </td><td>30     </td><td>0.03459</td></tr>\n",
       "\t<tr><td>A_22_94</td><td>6      </td><td>1      </td><td>1994   </td><td> 7     </td><td>26     </td><td>26     </td><td>0      </td><td>23     </td><td>10.16  </td><td>...    </td><td>16.91  </td><td>26.78  </td><td>3.64   </td><td> 0.28  </td><td> 0.64  </td><td>6.94   </td><td> -9.21 </td><td>24     </td><td>30     </td><td>0.03459</td></tr>\n",
       "</tbody>\n",
       "</table>\n"
      ],
      "text/latex": [
       "\\begin{tabular}{r|llllllllllllllllllllllll}\n",
       " TransectName & Samples & Transect & Time & R & ROCK & LITTER & ML & BARESOIL & FallPrec & ... & SprTmax & SumTmax & WinTmax & FallTmin & SprTmin & SumTmin & WinTmin & PCTSAND & PCTSILT & PCTOrgC\\\\\n",
       "\\hline\n",
       "\t A\\_22\\_58 & 1           & 1           & 1958        &  8          & 27          & 30          & 0           & 26          & 30.22       & ...         & 15.77       & 25.17       & 3.47        &  0.49       &  0.36       & 6.97        &  -8.54      & 24          & 30          & 0.03459    \\\\\n",
       "\t A\\_22\\_62 & 2           & 1           & 1962        &  6          & 26          & 20          & 0           & 28          & 99.56       & ...         & 15.21       & 24.85       & 1.16        & -0.18       &  0.18       & 6.40        & -10.76      & 24          & 30          & 0.03459    \\\\\n",
       "\t A\\_22\\_67 & 3           & 1           & 1967        &  8          & 30          & 24          & 0           & 30          & 43.43       & ...         & 12.76       & 25.51       & 3.09        &  1.23       & -1.86       & 7.12        &  -8.50      & 24          & 30          & 0.03459    \\\\\n",
       "\t A\\_22\\_74 & 4           & 1           & 1974        &  8          & 18          & 35          & 0           & 16          & 54.86       & ...         & 14.00       & 26.67       & 2.46        &  1.43       & -0.53       & 7.20        &  -8.28      & 24          & 30          & 0.03459    \\\\\n",
       "\t A\\_22\\_81 & 5           & 1           & 1981        & 10          & 23          & 22          & 4           &  9          & 24.38       & ...         & 14.33       & 26.02       & 5.72        &  1.09       &  0.75       & 6.90        &  -7.56      & 24          & 30          & 0.03459    \\\\\n",
       "\t A\\_22\\_94 & 6           & 1           & 1994        &  7          & 26          & 26          & 0           & 23          & 10.16       & ...         & 16.91       & 26.78       & 3.64        &  0.28       &  0.64       & 6.94        &  -9.21      & 24          & 30          & 0.03459    \\\\\n",
       "\\end{tabular}\n"
      ],
      "text/markdown": [
       "\n",
       "| TransectName | Samples | Transect | Time | R | ROCK | LITTER | ML | BARESOIL | FallPrec | ... | SprTmax | SumTmax | WinTmax | FallTmin | SprTmin | SumTmin | WinTmin | PCTSAND | PCTSILT | PCTOrgC |\n",
       "|---|---|---|---|---|---|---|---|---|---|---|---|---|---|---|---|---|---|---|---|---|\n",
       "| A_22_58 | 1       | 1       | 1958    |  8      | 27      | 30      | 0       | 26      | 30.22   | ...     | 15.77   | 25.17   | 3.47    |  0.49   |  0.36   | 6.97    |  -8.54  | 24      | 30      | 0.03459 |\n",
       "| A_22_62 | 2       | 1       | 1962    |  6      | 26      | 20      | 0       | 28      | 99.56   | ...     | 15.21   | 24.85   | 1.16    | -0.18   |  0.18   | 6.40    | -10.76  | 24      | 30      | 0.03459 |\n",
       "| A_22_67 | 3       | 1       | 1967    |  8      | 30      | 24      | 0       | 30      | 43.43   | ...     | 12.76   | 25.51   | 3.09    |  1.23   | -1.86   | 7.12    |  -8.50  | 24      | 30      | 0.03459 |\n",
       "| A_22_74 | 4       | 1       | 1974    |  8      | 18      | 35      | 0       | 16      | 54.86   | ...     | 14.00   | 26.67   | 2.46    |  1.43   | -0.53   | 7.20    |  -8.28  | 24      | 30      | 0.03459 |\n",
       "| A_22_81 | 5       | 1       | 1981    | 10      | 23      | 22      | 4       |  9      | 24.38   | ...     | 14.33   | 26.02   | 5.72    |  1.09   |  0.75   | 6.90    |  -7.56  | 24      | 30      | 0.03459 |\n",
       "| A_22_94 | 6       | 1       | 1994    |  7      | 26      | 26      | 0       | 23      | 10.16   | ...     | 16.91   | 26.78   | 3.64    |  0.28   |  0.64   | 6.94    |  -9.21  | 24      | 30      | 0.03459 |\n",
       "\n"
      ],
      "text/plain": [
       "  TransectName Samples Transect Time R  ROCK LITTER ML BARESOIL FallPrec ...\n",
       "1 A_22_58      1       1        1958  8 27   30     0  26       30.22    ...\n",
       "2 A_22_62      2       1        1962  6 26   20     0  28       99.56    ...\n",
       "3 A_22_67      3       1        1967  8 30   24     0  30       43.43    ...\n",
       "4 A_22_74      4       1        1974  8 18   35     0  16       54.86    ...\n",
       "5 A_22_81      5       1        1981 10 23   22     4   9       24.38    ...\n",
       "6 A_22_94      6       1        1994  7 26   26     0  23       10.16    ...\n",
       "  SprTmax SumTmax WinTmax FallTmin SprTmin SumTmin WinTmin PCTSAND PCTSILT\n",
       "1 15.77   25.17   3.47     0.49     0.36   6.97     -8.54  24      30     \n",
       "2 15.21   24.85   1.16    -0.18     0.18   6.40    -10.76  24      30     \n",
       "3 12.76   25.51   3.09     1.23    -1.86   7.12     -8.50  24      30     \n",
       "4 14.00   26.67   2.46     1.43    -0.53   7.20     -8.28  24      30     \n",
       "5 14.33   26.02   5.72     1.09     0.75   6.90     -7.56  24      30     \n",
       "6 16.91   26.78   3.64     0.28     0.64   6.94     -9.21  24      30     \n",
       "  PCTOrgC\n",
       "1 0.03459\n",
       "2 0.03459\n",
       "3 0.03459\n",
       "4 0.03459\n",
       "5 0.03459\n",
       "6 0.03459"
      ]
     },
     "metadata": {},
     "output_type": "display_data"
    }
   ],
   "source": [
    "# checking the head of the data\n",
    "head(veg)"
   ]
  },
  {
   "cell_type": "code",
   "execution_count": 32,
   "id": "fd5b11af",
   "metadata": {},
   "outputs": [
    {
     "name": "stdout",
     "output_type": "stream",
     "text": [
      "'data.frame':\t58 obs. of  24 variables:\n",
      " $ TransectName: Factor w/ 58 levels \"A_22_02\",\"A_22_58\",..: 2 3 4 5 6 7 1 9 10 11 ...\n",
      " $ Samples     : int  1 2 3 4 5 6 7 8 9 10 ...\n",
      " $ Transect    : int  1 1 1 1 1 1 1 2 2 2 ...\n",
      " $ Time        : int  1958 1962 1967 1974 1981 1994 2002 1958 1962 1967 ...\n",
      " $ R           : int  8 6 8 8 10 7 6 5 8 6 ...\n",
      " $ ROCK        : num  27 26 30 18 23 26 39 25 24 21 ...\n",
      " $ LITTER      : num  30 20 24 35 22 26 19 26 24 16 ...\n",
      " $ ML          : int  0 0 0 0 4 0 4 0 2 1 ...\n",
      " $ BARESOIL    : num  26 28 30 16 9 23 19 33 29 41 ...\n",
      " $ FallPrec    : num  30.2 99.6 43.4 54.9 24.4 ...\n",
      " $ SprPrec     : num  75.4 56.1 65 58.7 87.6 ...\n",
      " $ SumPrec     : num  125.5 95 112.3 70.3 81.8 ...\n",
      " $ WinPrec     : num  39.6 107.4 76.7 90.7 46 ...\n",
      " $ FallTmax    : num  17 14.6 18.4 17.2 18.5 ...\n",
      " $ SprTmax     : num  15.8 15.2 12.8 14 14.3 ...\n",
      " $ SumTmax     : num  25.2 24.9 25.5 26.7 26 ...\n",
      " $ WinTmax     : num  3.47 1.16 3.09 2.46 5.72 ...\n",
      " $ FallTmin    : num  0.49 -0.18 1.23 1.43 1.09 ...\n",
      " $ SprTmin     : num  0.36 0.18 -1.86 -0.53 0.75 ...\n",
      " $ SumTmin     : num  6.97 6.4 7.12 7.2 6.9 ...\n",
      " $ WinTmin     : num  -8.54 -10.76 -8.5 -8.28 -7.56 ...\n",
      " $ PCTSAND     : int  24 24 24 24 24 24 24 20 20 20 ...\n",
      " $ PCTSILT     : int  30 30 30 30 30 30 30 34 34 34 ...\n",
      " $ PCTOrgC     : num  0.0346 0.0346 0.0346 0.0346 0.0346 ...\n"
     ]
    }
   ],
   "source": [
    "# checking the structure of the data\n",
    "str(veg)"
   ]
  },
  {
   "cell_type": "code",
   "execution_count": 44,
   "id": "24ba3f90",
   "metadata": {},
   "outputs": [],
   "source": [
    "# For now we will use the colSums() function to to get the total number of NA per variable.\n",
    "\n",
    "NApervariable = function(Dataset){\n",
    "    \n",
    "    # Now we need to get the NA values.\n",
    "    isna = is.na(Dataset)\n",
    "    \n",
    "    # Now we need to add them by column\n",
    "    \n",
    "    colSums(isna) # This will return a table of number of NA presented per columns\n",
    "}\n",
    "\n",
    "\n",
    "# To check the Zeros in the data\n",
    "Zerospervariable = function(Dataset){\n",
    "    \n",
    "    # Now we need to get the NA values.\n",
    "    isna = (Dataset == 0)\n",
    "    \n",
    "    # Now we need to add them by column\n",
    "    \n",
    "    colSums(isna) # This will return a table of number of NA presented per columns\n",
    "}\n"
   ]
  },
  {
   "cell_type": "code",
   "execution_count": 43,
   "id": "163158ed",
   "metadata": {},
   "outputs": [
    {
     "data": {
      "text/html": [
       "<dl class=dl-horizontal>\n",
       "\t<dt>R</dt>\n",
       "\t\t<dd>0</dd>\n",
       "\t<dt>ROCK</dt>\n",
       "\t\t<dd>0</dd>\n",
       "\t<dt>LITTER</dt>\n",
       "\t\t<dd>0</dd>\n",
       "\t<dt>ML</dt>\n",
       "\t\t<dd>0</dd>\n",
       "\t<dt>BARESOIL</dt>\n",
       "\t\t<dd>0</dd>\n",
       "\t<dt>FallPrec</dt>\n",
       "\t\t<dd>0</dd>\n",
       "\t<dt>SprPrec</dt>\n",
       "\t\t<dd>0</dd>\n",
       "\t<dt>SumPrec</dt>\n",
       "\t\t<dd>0</dd>\n",
       "\t<dt>WinPrec</dt>\n",
       "\t\t<dd>0</dd>\n",
       "\t<dt>FallTmax</dt>\n",
       "\t\t<dd>0</dd>\n",
       "\t<dt>SprTmax</dt>\n",
       "\t\t<dd>0</dd>\n",
       "\t<dt>SumTmax</dt>\n",
       "\t\t<dd>0</dd>\n",
       "\t<dt>WinTmax</dt>\n",
       "\t\t<dd>0</dd>\n",
       "\t<dt>FallTmin</dt>\n",
       "\t\t<dd>0</dd>\n",
       "\t<dt>SprTmin</dt>\n",
       "\t\t<dd>0</dd>\n",
       "\t<dt>SumTmin</dt>\n",
       "\t\t<dd>0</dd>\n",
       "\t<dt>WinTmin</dt>\n",
       "\t\t<dd>0</dd>\n",
       "\t<dt>PCTSAND</dt>\n",
       "\t\t<dd>0</dd>\n",
       "\t<dt>PCTSILT</dt>\n",
       "\t\t<dd>0</dd>\n",
       "\t<dt>PCTOrgC</dt>\n",
       "\t\t<dd>0</dd>\n",
       "</dl>\n"
      ],
      "text/latex": [
       "\\begin{description*}\n",
       "\\item[R] 0\n",
       "\\item[ROCK] 0\n",
       "\\item[LITTER] 0\n",
       "\\item[ML] 0\n",
       "\\item[BARESOIL] 0\n",
       "\\item[FallPrec] 0\n",
       "\\item[SprPrec] 0\n",
       "\\item[SumPrec] 0\n",
       "\\item[WinPrec] 0\n",
       "\\item[FallTmax] 0\n",
       "\\item[SprTmax] 0\n",
       "\\item[SumTmax] 0\n",
       "\\item[WinTmax] 0\n",
       "\\item[FallTmin] 0\n",
       "\\item[SprTmin] 0\n",
       "\\item[SumTmin] 0\n",
       "\\item[WinTmin] 0\n",
       "\\item[PCTSAND] 0\n",
       "\\item[PCTSILT] 0\n",
       "\\item[PCTOrgC] 0\n",
       "\\end{description*}\n"
      ],
      "text/markdown": [
       "R\n",
       ":   0ROCK\n",
       ":   0LITTER\n",
       ":   0ML\n",
       ":   0BARESOIL\n",
       ":   0FallPrec\n",
       ":   0SprPrec\n",
       ":   0SumPrec\n",
       ":   0WinPrec\n",
       ":   0FallTmax\n",
       ":   0SprTmax\n",
       ":   0SumTmax\n",
       ":   0WinTmax\n",
       ":   0FallTmin\n",
       ":   0SprTmin\n",
       ":   0SumTmin\n",
       ":   0WinTmin\n",
       ":   0PCTSAND\n",
       ":   0PCTSILT\n",
       ":   0PCTOrgC\n",
       ":   0\n",
       "\n"
      ],
      "text/plain": [
       "       R     ROCK   LITTER       ML BARESOIL FallPrec  SprPrec  SumPrec \n",
       "       0        0        0        0        0        0        0        0 \n",
       " WinPrec FallTmax  SprTmax  SumTmax  WinTmax FallTmin  SprTmin  SumTmin \n",
       "       0        0        0        0        0        0        0        0 \n",
       " WinTmin  PCTSAND  PCTSILT  PCTOrgC \n",
       "       0        0        0        0 "
      ]
     },
     "metadata": {},
     "output_type": "display_data"
    }
   ],
   "source": [
    "NApervariable(veg[,5:24])"
   ]
  },
  {
   "cell_type": "markdown",
   "id": "ebf2b7fb",
   "metadata": {},
   "source": [
    "As We can see that there is no NA presented in the vegetation data now we will see the Zeros in this dataset."
   ]
  },
  {
   "cell_type": "code",
   "execution_count": 47,
   "id": "13f1ffef",
   "metadata": {},
   "outputs": [
    {
     "data": {
      "text/html": [
       "<dl class=dl-horizontal>\n",
       "\t<dt>R</dt>\n",
       "\t\t<dd>0</dd>\n",
       "\t<dt>ROCK</dt>\n",
       "\t\t<dd>2</dd>\n",
       "\t<dt>LITTER</dt>\n",
       "\t\t<dd>0</dd>\n",
       "\t<dt>ML</dt>\n",
       "\t\t<dd>38</dd>\n",
       "\t<dt>BARESOIL</dt>\n",
       "\t\t<dd>3</dd>\n",
       "\t<dt>FallPrec</dt>\n",
       "\t\t<dd>0</dd>\n",
       "\t<dt>SprPrec</dt>\n",
       "\t\t<dd>0</dd>\n",
       "\t<dt>SumPrec</dt>\n",
       "\t\t<dd>0</dd>\n",
       "\t<dt>WinPrec</dt>\n",
       "\t\t<dd>0</dd>\n",
       "\t<dt>FallTmax</dt>\n",
       "\t\t<dd>0</dd>\n",
       "\t<dt>SprTmax</dt>\n",
       "\t\t<dd>0</dd>\n",
       "\t<dt>SumTmax</dt>\n",
       "\t\t<dd>0</dd>\n",
       "\t<dt>WinTmax</dt>\n",
       "\t\t<dd>0</dd>\n",
       "\t<dt>FallTmin</dt>\n",
       "\t\t<dd>0</dd>\n",
       "\t<dt>SprTmin</dt>\n",
       "\t\t<dd>0</dd>\n",
       "\t<dt>SumTmin</dt>\n",
       "\t\t<dd>0</dd>\n",
       "\t<dt>WinTmin</dt>\n",
       "\t\t<dd>0</dd>\n",
       "\t<dt>PCTSAND</dt>\n",
       "\t\t<dd>0</dd>\n",
       "\t<dt>PCTSILT</dt>\n",
       "\t\t<dd>0</dd>\n",
       "\t<dt>PCTOrgC</dt>\n",
       "\t\t<dd>0</dd>\n",
       "</dl>\n"
      ],
      "text/latex": [
       "\\begin{description*}\n",
       "\\item[R] 0\n",
       "\\item[ROCK] 2\n",
       "\\item[LITTER] 0\n",
       "\\item[ML] 38\n",
       "\\item[BARESOIL] 3\n",
       "\\item[FallPrec] 0\n",
       "\\item[SprPrec] 0\n",
       "\\item[SumPrec] 0\n",
       "\\item[WinPrec] 0\n",
       "\\item[FallTmax] 0\n",
       "\\item[SprTmax] 0\n",
       "\\item[SumTmax] 0\n",
       "\\item[WinTmax] 0\n",
       "\\item[FallTmin] 0\n",
       "\\item[SprTmin] 0\n",
       "\\item[SumTmin] 0\n",
       "\\item[WinTmin] 0\n",
       "\\item[PCTSAND] 0\n",
       "\\item[PCTSILT] 0\n",
       "\\item[PCTOrgC] 0\n",
       "\\end{description*}\n"
      ],
      "text/markdown": [
       "R\n",
       ":   0ROCK\n",
       ":   2LITTER\n",
       ":   0ML\n",
       ":   38BARESOIL\n",
       ":   3FallPrec\n",
       ":   0SprPrec\n",
       ":   0SumPrec\n",
       ":   0WinPrec\n",
       ":   0FallTmax\n",
       ":   0SprTmax\n",
       ":   0SumTmax\n",
       ":   0WinTmax\n",
       ":   0FallTmin\n",
       ":   0SprTmin\n",
       ":   0SumTmin\n",
       ":   0WinTmin\n",
       ":   0PCTSAND\n",
       ":   0PCTSILT\n",
       ":   0PCTOrgC\n",
       ":   0\n",
       "\n"
      ],
      "text/plain": [
       "       R     ROCK   LITTER       ML BARESOIL FallPrec  SprPrec  SumPrec \n",
       "       0        2        0       38        3        0        0        0 \n",
       " WinPrec FallTmax  SprTmax  SumTmax  WinTmax FallTmin  SprTmin  SumTmin \n",
       "       0        0        0        0        0        0        0        0 \n",
       " WinTmin  PCTSAND  PCTSILT  PCTOrgC \n",
       "       0        0        0        0 "
      ]
     },
     "metadata": {},
     "output_type": "display_data"
    }
   ],
   "source": [
    "Zerospervariable(veg[5:24])"
   ]
  },
  {
   "cell_type": "markdown",
   "id": "06dabedc",
   "metadata": {},
   "source": [
    "As we can see that we have got 38 zeros in ML and 3 zeros in BARESOIL these zeros can lead us to wrong approximation , therefor we need to remove them."
   ]
  },
  {
   "cell_type": "markdown",
   "id": "2f888168",
   "metadata": {},
   "source": [
    "**Another example on zeros and NA**\n",
    "\n",
    "This time we will find the zeros and NAs presented in the CodParasite dataset."
   ]
  },
  {
   "cell_type": "code",
   "execution_count": 48,
   "id": "723cb6a0",
   "metadata": {},
   "outputs": [],
   "source": [
    "Parasite = read.table(file=\"RBook/RBook/CodParasite.txt\", header=TRUE)"
   ]
  },
  {
   "cell_type": "code",
   "execution_count": 49,
   "id": "3cff9a4f",
   "metadata": {},
   "outputs": [
    {
     "data": {
      "text/html": [
       "<table>\n",
       "<thead><tr><th scope=col>Sample</th><th scope=col>Intensity</th><th scope=col>Prevalence</th><th scope=col>Year</th><th scope=col>Depth</th><th scope=col>Weight</th><th scope=col>Length</th><th scope=col>Sex</th><th scope=col>Stage</th><th scope=col>Age</th><th scope=col>Area</th></tr></thead>\n",
       "<tbody>\n",
       "\t<tr><td>1   </td><td>0   </td><td>0   </td><td>1999</td><td>220 </td><td>148 </td><td>26  </td><td>0   </td><td>0   </td><td>0   </td><td>2   </td></tr>\n",
       "\t<tr><td>2   </td><td>0   </td><td>0   </td><td>1999</td><td>220 </td><td>144 </td><td>26  </td><td>0   </td><td>0   </td><td>0   </td><td>2   </td></tr>\n",
       "\t<tr><td>3   </td><td>0   </td><td>0   </td><td>1999</td><td>220 </td><td>146 </td><td>27  </td><td>0   </td><td>0   </td><td>0   </td><td>2   </td></tr>\n",
       "\t<tr><td>4   </td><td>0   </td><td>0   </td><td>1999</td><td>220 </td><td>138 </td><td>26  </td><td>0   </td><td>0   </td><td>0   </td><td>2   </td></tr>\n",
       "\t<tr><td>5   </td><td>0   </td><td>0   </td><td>1999</td><td>220 </td><td> 40 </td><td>17  </td><td>0   </td><td>0   </td><td>0   </td><td>2   </td></tr>\n",
       "\t<tr><td>6   </td><td>0   </td><td>0   </td><td>1999</td><td>220 </td><td> 68 </td><td>20  </td><td>0   </td><td>0   </td><td>0   </td><td>2   </td></tr>\n",
       "</tbody>\n",
       "</table>\n"
      ],
      "text/latex": [
       "\\begin{tabular}{r|lllllllllll}\n",
       " Sample & Intensity & Prevalence & Year & Depth & Weight & Length & Sex & Stage & Age & Area\\\\\n",
       "\\hline\n",
       "\t 1    & 0    & 0    & 1999 & 220  & 148  & 26   & 0    & 0    & 0    & 2   \\\\\n",
       "\t 2    & 0    & 0    & 1999 & 220  & 144  & 26   & 0    & 0    & 0    & 2   \\\\\n",
       "\t 3    & 0    & 0    & 1999 & 220  & 146  & 27   & 0    & 0    & 0    & 2   \\\\\n",
       "\t 4    & 0    & 0    & 1999 & 220  & 138  & 26   & 0    & 0    & 0    & 2   \\\\\n",
       "\t 5    & 0    & 0    & 1999 & 220  &  40  & 17   & 0    & 0    & 0    & 2   \\\\\n",
       "\t 6    & 0    & 0    & 1999 & 220  &  68  & 20   & 0    & 0    & 0    & 2   \\\\\n",
       "\\end{tabular}\n"
      ],
      "text/markdown": [
       "\n",
       "| Sample | Intensity | Prevalence | Year | Depth | Weight | Length | Sex | Stage | Age | Area |\n",
       "|---|---|---|---|---|---|---|---|---|---|---|\n",
       "| 1    | 0    | 0    | 1999 | 220  | 148  | 26   | 0    | 0    | 0    | 2    |\n",
       "| 2    | 0    | 0    | 1999 | 220  | 144  | 26   | 0    | 0    | 0    | 2    |\n",
       "| 3    | 0    | 0    | 1999 | 220  | 146  | 27   | 0    | 0    | 0    | 2    |\n",
       "| 4    | 0    | 0    | 1999 | 220  | 138  | 26   | 0    | 0    | 0    | 2    |\n",
       "| 5    | 0    | 0    | 1999 | 220  |  40  | 17   | 0    | 0    | 0    | 2    |\n",
       "| 6    | 0    | 0    | 1999 | 220  |  68  | 20   | 0    | 0    | 0    | 2    |\n",
       "\n"
      ],
      "text/plain": [
       "  Sample Intensity Prevalence Year Depth Weight Length Sex Stage Age Area\n",
       "1 1      0         0          1999 220   148    26     0   0     0   2   \n",
       "2 2      0         0          1999 220   144    26     0   0     0   2   \n",
       "3 3      0         0          1999 220   146    27     0   0     0   2   \n",
       "4 4      0         0          1999 220   138    26     0   0     0   2   \n",
       "5 5      0         0          1999 220    40    17     0   0     0   2   \n",
       "6 6      0         0          1999 220    68    20     0   0     0   2   "
      ]
     },
     "metadata": {},
     "output_type": "display_data"
    }
   ],
   "source": [
    "head(Parasite)"
   ]
  },
  {
   "cell_type": "code",
   "execution_count": 50,
   "id": "32970ecc",
   "metadata": {},
   "outputs": [
    {
     "name": "stdout",
     "output_type": "stream",
     "text": [
      "'data.frame':\t1254 obs. of  11 variables:\n",
      " $ Sample    : int  1 2 3 4 5 6 7 8 9 10 ...\n",
      " $ Intensity : int  0 0 0 0 0 0 0 0 0 0 ...\n",
      " $ Prevalence: int  0 0 0 0 0 0 0 0 0 0 ...\n",
      " $ Year      : int  1999 1999 1999 1999 1999 1999 1999 1999 1999 1999 ...\n",
      " $ Depth     : int  220 220 220 220 220 220 220 194 194 194 ...\n",
      " $ Weight    : int  148 144 146 138 40 68 52 3848 2576 1972 ...\n",
      " $ Length    : int  26 26 27 26 17 20 19 77 67 60 ...\n",
      " $ Sex       : int  0 0 0 0 0 0 0 0 0 0 ...\n",
      " $ Stage     : int  0 0 0 0 0 0 0 0 0 0 ...\n",
      " $ Age       : int  0 0 0 0 0 0 0 0 0 0 ...\n",
      " $ Area      : int  2 2 2 2 2 2 2 3 3 3 ...\n"
     ]
    }
   ],
   "source": [
    "str(Parasite)"
   ]
  },
  {
   "cell_type": "code",
   "execution_count": 51,
   "id": "59267856",
   "metadata": {},
   "outputs": [
    {
     "data": {
      "text/html": [
       "<dl class=dl-horizontal>\n",
       "\t<dt>Sample</dt>\n",
       "\t\t<dd>0</dd>\n",
       "\t<dt>Intensity</dt>\n",
       "\t\t<dd>57</dd>\n",
       "\t<dt>Prevalence</dt>\n",
       "\t\t<dd>0</dd>\n",
       "\t<dt>Year</dt>\n",
       "\t\t<dd>0</dd>\n",
       "\t<dt>Depth</dt>\n",
       "\t\t<dd>0</dd>\n",
       "\t<dt>Weight</dt>\n",
       "\t\t<dd>6</dd>\n",
       "\t<dt>Length</dt>\n",
       "\t\t<dd>6</dd>\n",
       "\t<dt>Sex</dt>\n",
       "\t\t<dd>0</dd>\n",
       "\t<dt>Stage</dt>\n",
       "\t\t<dd>0</dd>\n",
       "\t<dt>Age</dt>\n",
       "\t\t<dd>0</dd>\n",
       "\t<dt>Area</dt>\n",
       "\t\t<dd>0</dd>\n",
       "</dl>\n"
      ],
      "text/latex": [
       "\\begin{description*}\n",
       "\\item[Sample] 0\n",
       "\\item[Intensity] 57\n",
       "\\item[Prevalence] 0\n",
       "\\item[Year] 0\n",
       "\\item[Depth] 0\n",
       "\\item[Weight] 6\n",
       "\\item[Length] 6\n",
       "\\item[Sex] 0\n",
       "\\item[Stage] 0\n",
       "\\item[Age] 0\n",
       "\\item[Area] 0\n",
       "\\end{description*}\n"
      ],
      "text/markdown": [
       "Sample\n",
       ":   0Intensity\n",
       ":   57Prevalence\n",
       ":   0Year\n",
       ":   0Depth\n",
       ":   0Weight\n",
       ":   6Length\n",
       ":   6Sex\n",
       ":   0Stage\n",
       ":   0Age\n",
       ":   0Area\n",
       ":   0\n",
       "\n"
      ],
      "text/plain": [
       "    Sample  Intensity Prevalence       Year      Depth     Weight     Length \n",
       "         0         57          0          0          0          6          6 \n",
       "       Sex      Stage        Age       Area \n",
       "         0          0          0          0 "
      ]
     },
     "metadata": {},
     "output_type": "display_data"
    }
   ],
   "source": [
    "NApervariable(Parasite)"
   ]
  },
  {
   "cell_type": "code",
   "execution_count": 53,
   "id": "c12c0fcd",
   "metadata": {},
   "outputs": [
    {
     "data": {
      "text/html": [
       "<dl class=dl-horizontal>\n",
       "\t<dt>Sample</dt>\n",
       "\t\t<dd>0</dd>\n",
       "\t<dt>Intensity</dt>\n",
       "\t\t<dd>&lt;NA&gt;</dd>\n",
       "\t<dt>Prevalence</dt>\n",
       "\t\t<dd>654</dd>\n",
       "\t<dt>Year</dt>\n",
       "\t\t<dd>0</dd>\n",
       "\t<dt>Depth</dt>\n",
       "\t\t<dd>0</dd>\n",
       "\t<dt>Weight</dt>\n",
       "\t\t<dd>&lt;NA&gt;</dd>\n",
       "\t<dt>Length</dt>\n",
       "\t\t<dd>&lt;NA&gt;</dd>\n",
       "\t<dt>Sex</dt>\n",
       "\t\t<dd>82</dd>\n",
       "\t<dt>Stage</dt>\n",
       "\t\t<dd>82</dd>\n",
       "\t<dt>Age</dt>\n",
       "\t\t<dd>84</dd>\n",
       "\t<dt>Area</dt>\n",
       "\t\t<dd>0</dd>\n",
       "</dl>\n"
      ],
      "text/latex": [
       "\\begin{description*}\n",
       "\\item[Sample] 0\n",
       "\\item[Intensity] <NA>\n",
       "\\item[Prevalence] 654\n",
       "\\item[Year] 0\n",
       "\\item[Depth] 0\n",
       "\\item[Weight] <NA>\n",
       "\\item[Length] <NA>\n",
       "\\item[Sex] 82\n",
       "\\item[Stage] 82\n",
       "\\item[Age] 84\n",
       "\\item[Area] 0\n",
       "\\end{description*}\n"
      ],
      "text/markdown": [
       "Sample\n",
       ":   0Intensity\n",
       ":   &lt;NA&gt;Prevalence\n",
       ":   654Year\n",
       ":   0Depth\n",
       ":   0Weight\n",
       ":   &lt;NA&gt;Length\n",
       ":   &lt;NA&gt;Sex\n",
       ":   82Stage\n",
       ":   82Age\n",
       ":   84Area\n",
       ":   0\n",
       "\n"
      ],
      "text/plain": [
       "    Sample  Intensity Prevalence       Year      Depth     Weight     Length \n",
       "         0         NA        654          0          0         NA         NA \n",
       "       Sex      Stage        Age       Area \n",
       "        82         82         84          0 "
      ]
     },
     "metadata": {},
     "output_type": "display_data"
    }
   ],
   "source": [
    "Zerospervariable(Parasite)"
   ]
  },
  {
   "cell_type": "markdown",
   "id": "cb7e45d0",
   "metadata": {},
   "source": [
    "As you can see that there are some zeros presented in many variable but we have some NA values, these values are shown here becauese there are NA presented in this dataset so we need to remove them if we want to count all the zeros. To do this we need to use `na.rm=TRUE` in our colSums function."
   ]
  },
  {
   "cell_type": "code",
   "execution_count": 54,
   "id": "f41325f1",
   "metadata": {},
   "outputs": [],
   "source": [
    "# Rewriting the function for zeors\n",
    "Zerospervariable = function(Dataset){\n",
    "    \n",
    "    # Now we need to get the NA values.\n",
    "    iszero = (Dataset == 0)\n",
    "    \n",
    "    # Now we need to add them by column\n",
    "    \n",
    "    colSums(iszero, na.rm=TRUE) # This will return a table of number of NA presented per columns\n",
    "}\n"
   ]
  },
  {
   "cell_type": "code",
   "execution_count": 55,
   "id": "5ef319af",
   "metadata": {},
   "outputs": [
    {
     "data": {
      "text/html": [
       "<dl class=dl-horizontal>\n",
       "\t<dt>Sample</dt>\n",
       "\t\t<dd>0</dd>\n",
       "\t<dt>Intensity</dt>\n",
       "\t\t<dd>654</dd>\n",
       "\t<dt>Prevalence</dt>\n",
       "\t\t<dd>654</dd>\n",
       "\t<dt>Year</dt>\n",
       "\t\t<dd>0</dd>\n",
       "\t<dt>Depth</dt>\n",
       "\t\t<dd>0</dd>\n",
       "\t<dt>Weight</dt>\n",
       "\t\t<dd>0</dd>\n",
       "\t<dt>Length</dt>\n",
       "\t\t<dd>0</dd>\n",
       "\t<dt>Sex</dt>\n",
       "\t\t<dd>82</dd>\n",
       "\t<dt>Stage</dt>\n",
       "\t\t<dd>82</dd>\n",
       "\t<dt>Age</dt>\n",
       "\t\t<dd>84</dd>\n",
       "\t<dt>Area</dt>\n",
       "\t\t<dd>0</dd>\n",
       "</dl>\n"
      ],
      "text/latex": [
       "\\begin{description*}\n",
       "\\item[Sample] 0\n",
       "\\item[Intensity] 654\n",
       "\\item[Prevalence] 654\n",
       "\\item[Year] 0\n",
       "\\item[Depth] 0\n",
       "\\item[Weight] 0\n",
       "\\item[Length] 0\n",
       "\\item[Sex] 82\n",
       "\\item[Stage] 82\n",
       "\\item[Age] 84\n",
       "\\item[Area] 0\n",
       "\\end{description*}\n"
      ],
      "text/markdown": [
       "Sample\n",
       ":   0Intensity\n",
       ":   654Prevalence\n",
       ":   654Year\n",
       ":   0Depth\n",
       ":   0Weight\n",
       ":   0Length\n",
       ":   0Sex\n",
       ":   82Stage\n",
       ":   82Age\n",
       ":   84Area\n",
       ":   0\n",
       "\n"
      ],
      "text/plain": [
       "    Sample  Intensity Prevalence       Year      Depth     Weight     Length \n",
       "         0        654        654          0          0          0          0 \n",
       "       Sex      Stage        Age       Area \n",
       "        82         82         84          0 "
      ]
     },
     "metadata": {},
     "output_type": "display_data"
    }
   ],
   "source": [
    "# Now we will get the true result.\n",
    "Zerospervariable(Parasite)"
   ]
  },
  {
   "cell_type": "markdown",
   "id": "df3eeeef",
   "metadata": {},
   "source": [
    "As you can see that we have got Zeros values in those variable where NA was showing."
   ]
  },
  {
   "cell_type": "markdown",
   "id": "a970d2b9",
   "metadata": {},
   "source": [
    "**Combining both the functionlality in one function**\n",
    "\n",
    "Now by using the control statement we can combine both the function together and can get NAs and Zeros according to our chooice.\n",
    "\n",
    "This functionality can save our lots of time."
   ]
  },
  {
   "cell_type": "code",
   "execution_count": 98,
   "id": "2bb73b29",
   "metadata": {},
   "outputs": [],
   "source": [
    "VariableInfo = function(Dataset, option=\"NAs\"){\n",
    "    \n",
    "    # It is good practice to haveing a default option to avoid the errors in case of forgeting the options.\n",
    "    \n",
    "    # Now we need to make the control statement to select the option.\n",
    "    \n",
    "    if (option == \"NAs\"){\n",
    "        \n",
    "        result = is.na(Dataset)  \n",
    "    }\n",
    "    else if (option ==\"Zeros\"){\n",
    "        result = (Dataset == 0)\n",
    "    }\n",
    "    else{\n",
    "        print(\"Please select the valid option,\")\n",
    "    }\n",
    "    \n",
    "    # Now here we need to confirm that result is defined or not\n",
    "    # for that we will use exists() function which will check that give variable is defined or not.\n",
    "    if (exists(\"result\")){\n",
    "        colSums(result, na.rm='TRUE')\n",
    "    }\n",
    "    \n",
    "}"
   ]
  },
  {
   "cell_type": "code",
   "execution_count": 99,
   "id": "89d35a03",
   "metadata": {},
   "outputs": [
    {
     "data": {
      "text/html": [
       "<dl class=dl-horizontal>\n",
       "\t<dt>Sample</dt>\n",
       "\t\t<dd>0</dd>\n",
       "\t<dt>Intensity</dt>\n",
       "\t\t<dd>57</dd>\n",
       "\t<dt>Prevalence</dt>\n",
       "\t\t<dd>0</dd>\n",
       "\t<dt>Year</dt>\n",
       "\t\t<dd>0</dd>\n",
       "\t<dt>Depth</dt>\n",
       "\t\t<dd>0</dd>\n",
       "\t<dt>Weight</dt>\n",
       "\t\t<dd>6</dd>\n",
       "\t<dt>Length</dt>\n",
       "\t\t<dd>6</dd>\n",
       "\t<dt>Sex</dt>\n",
       "\t\t<dd>0</dd>\n",
       "\t<dt>Stage</dt>\n",
       "\t\t<dd>0</dd>\n",
       "\t<dt>Age</dt>\n",
       "\t\t<dd>0</dd>\n",
       "\t<dt>Area</dt>\n",
       "\t\t<dd>0</dd>\n",
       "</dl>\n"
      ],
      "text/latex": [
       "\\begin{description*}\n",
       "\\item[Sample] 0\n",
       "\\item[Intensity] 57\n",
       "\\item[Prevalence] 0\n",
       "\\item[Year] 0\n",
       "\\item[Depth] 0\n",
       "\\item[Weight] 6\n",
       "\\item[Length] 6\n",
       "\\item[Sex] 0\n",
       "\\item[Stage] 0\n",
       "\\item[Age] 0\n",
       "\\item[Area] 0\n",
       "\\end{description*}\n"
      ],
      "text/markdown": [
       "Sample\n",
       ":   0Intensity\n",
       ":   57Prevalence\n",
       ":   0Year\n",
       ":   0Depth\n",
       ":   0Weight\n",
       ":   6Length\n",
       ":   6Sex\n",
       ":   0Stage\n",
       ":   0Age\n",
       ":   0Area\n",
       ":   0\n",
       "\n"
      ],
      "text/plain": [
       "    Sample  Intensity Prevalence       Year      Depth     Weight     Length \n",
       "         0         57          0          0          0          6          6 \n",
       "       Sex      Stage        Age       Area \n",
       "         0          0          0          0 "
      ]
     },
     "metadata": {},
     "output_type": "display_data"
    }
   ],
   "source": [
    "# by default the option is selected as NAs values.\n",
    "# If we want to get the Zeros value then we need to change the option\n",
    "VariableInfo(Parasite)"
   ]
  },
  {
   "cell_type": "code",
   "execution_count": 100,
   "id": "e9d83d63",
   "metadata": {},
   "outputs": [
    {
     "data": {
      "text/html": [
       "<dl class=dl-horizontal>\n",
       "\t<dt>Sample</dt>\n",
       "\t\t<dd>0</dd>\n",
       "\t<dt>Intensity</dt>\n",
       "\t\t<dd>654</dd>\n",
       "\t<dt>Prevalence</dt>\n",
       "\t\t<dd>654</dd>\n",
       "\t<dt>Year</dt>\n",
       "\t\t<dd>0</dd>\n",
       "\t<dt>Depth</dt>\n",
       "\t\t<dd>0</dd>\n",
       "\t<dt>Weight</dt>\n",
       "\t\t<dd>0</dd>\n",
       "\t<dt>Length</dt>\n",
       "\t\t<dd>0</dd>\n",
       "\t<dt>Sex</dt>\n",
       "\t\t<dd>82</dd>\n",
       "\t<dt>Stage</dt>\n",
       "\t\t<dd>82</dd>\n",
       "\t<dt>Age</dt>\n",
       "\t\t<dd>84</dd>\n",
       "\t<dt>Area</dt>\n",
       "\t\t<dd>0</dd>\n",
       "</dl>\n"
      ],
      "text/latex": [
       "\\begin{description*}\n",
       "\\item[Sample] 0\n",
       "\\item[Intensity] 654\n",
       "\\item[Prevalence] 654\n",
       "\\item[Year] 0\n",
       "\\item[Depth] 0\n",
       "\\item[Weight] 0\n",
       "\\item[Length] 0\n",
       "\\item[Sex] 82\n",
       "\\item[Stage] 82\n",
       "\\item[Age] 84\n",
       "\\item[Area] 0\n",
       "\\end{description*}\n"
      ],
      "text/markdown": [
       "Sample\n",
       ":   0Intensity\n",
       ":   654Prevalence\n",
       ":   654Year\n",
       ":   0Depth\n",
       ":   0Weight\n",
       ":   0Length\n",
       ":   0Sex\n",
       ":   82Stage\n",
       ":   82Age\n",
       ":   84Area\n",
       ":   0\n",
       "\n"
      ],
      "text/plain": [
       "    Sample  Intensity Prevalence       Year      Depth     Weight     Length \n",
       "         0        654        654          0          0          0          0 \n",
       "       Sex      Stage        Age       Area \n",
       "        82         82         84          0 "
      ]
     },
     "metadata": {},
     "output_type": "display_data"
    }
   ],
   "source": [
    "VariableInfo(Parasite, option=\"Zeros\")"
   ]
  },
  {
   "cell_type": "code",
   "execution_count": 101,
   "id": "51c7f72b",
   "metadata": {},
   "outputs": [
    {
     "name": "stdout",
     "output_type": "stream",
     "text": [
      "[1] \"Please select the valid option,\"\n"
     ]
    }
   ],
   "source": [
    "VariableInfo(Parasite, option=\"Manish\")"
   ]
  },
  {
   "cell_type": "markdown",
   "id": "a9463731",
   "metadata": {},
   "source": [
    "### Diversity Index\n",
    "\n",
    "Now we will perform a simple diversity index task on the RIKZ dataset "
   ]
  },
  {
   "cell_type": "code",
   "execution_count": 102,
   "id": "91616825",
   "metadata": {},
   "outputs": [],
   "source": [
    "Benthic = read.table(file=\"RBook/RBook/RIKZ.txt\", header=TRUE)"
   ]
  },
  {
   "cell_type": "code",
   "execution_count": 103,
   "id": "0f4a6ca1",
   "metadata": {},
   "outputs": [
    {
     "data": {
      "text/html": [
       "<table>\n",
       "<thead><tr><th scope=col>Sample</th><th scope=col>C1</th><th scope=col>P1</th><th scope=col>P2</th><th scope=col>P3</th><th scope=col>P4</th><th scope=col>P5</th><th scope=col>P6</th><th scope=col>P7</th><th scope=col>P8</th><th scope=col>...</th><th scope=col>exposure</th><th scope=col>salinity</th><th scope=col>temperature</th><th scope=col>NAP</th><th scope=col>penetrability</th><th scope=col>grainsize</th><th scope=col>humus</th><th scope=col>chalk</th><th scope=col>sorting1</th><th scope=col>Beach</th></tr></thead>\n",
       "<tbody>\n",
       "\t<tr><td>1     </td><td>4     </td><td>0     </td><td>0     </td><td>0     </td><td>0     </td><td>0     </td><td>1     </td><td>0     </td><td>0     </td><td>...   </td><td>10    </td><td>29.4  </td><td>17.5  </td><td> 0.045</td><td>253.9 </td><td>222.5 </td><td>0.05  </td><td>2.05  </td><td>69.830</td><td>1     </td></tr>\n",
       "\t<tr><td>2     </td><td>0     </td><td>0     </td><td>1     </td><td>0     </td><td>0     </td><td>0     </td><td>0     </td><td>0     </td><td>0     </td><td>...   </td><td>10    </td><td>29.4  </td><td>17.5  </td><td>-1.036</td><td>226.9 </td><td>200.0 </td><td>0.30  </td><td>2.50  </td><td>59.000</td><td>1     </td></tr>\n",
       "\t<tr><td>3     </td><td>0     </td><td>0     </td><td>3     </td><td>0     </td><td>0     </td><td>0     </td><td>0     </td><td>0     </td><td>0     </td><td>...   </td><td>10    </td><td>29.4  </td><td>17.5  </td><td>-1.336</td><td>237.1 </td><td>194.5 </td><td>0.10  </td><td>3.45  </td><td>59.220</td><td>1     </td></tr>\n",
       "\t<tr><td>4     </td><td>0     </td><td>0     </td><td>0     </td><td>0     </td><td>0     </td><td>0     </td><td>0     </td><td>0     </td><td>0     </td><td>...   </td><td>10    </td><td>29.4  </td><td>17.5  </td><td> 0.616</td><td>248.6 </td><td>221.0 </td><td>0.15  </td><td>1.60  </td><td>67.750</td><td>1     </td></tr>\n",
       "\t<tr><td>5     </td><td>1     </td><td>0     </td><td>0     </td><td>0     </td><td>0     </td><td>0     </td><td>0     </td><td>0     </td><td>0     </td><td>...   </td><td>10    </td><td>29.4  </td><td>17.5  </td><td>-0.684</td><td>251.9 </td><td>202.0 </td><td>0.05  </td><td>2.45  </td><td>57.760</td><td>1     </td></tr>\n",
       "\t<tr><td>6     </td><td>0     </td><td>0     </td><td>0     </td><td>0     </td><td>0     </td><td>1     </td><td>0     </td><td>0     </td><td>0     </td><td>...   </td><td> 8    </td><td>29.6  </td><td>20.8  </td><td> 1.190</td><td>250.1 </td><td>192.5 </td><td>0.10  </td><td>2.50  </td><td>53.075</td><td>2     </td></tr>\n",
       "</tbody>\n",
       "</table>\n"
      ],
      "text/latex": [
       "\\begin{tabular}{r|lllllllllllllllllllllllllllllllllllllllllllllllllllllllllllllllllllllllllllllllllllllllll}\n",
       " Sample & C1 & P1 & P2 & P3 & P4 & P5 & P6 & P7 & P8 & ... & exposure & salinity & temperature & NAP & penetrability & grainsize & humus & chalk & sorting1 & Beach\\\\\n",
       "\\hline\n",
       "\t 1      & 4      & 0      & 0      & 0      & 0      & 0      & 1      & 0      & 0      & ...    & 10     & 29.4   & 17.5   &  0.045 & 253.9  & 222.5  & 0.05   & 2.05   & 69.830 & 1     \\\\\n",
       "\t 2      & 0      & 0      & 1      & 0      & 0      & 0      & 0      & 0      & 0      & ...    & 10     & 29.4   & 17.5   & -1.036 & 226.9  & 200.0  & 0.30   & 2.50   & 59.000 & 1     \\\\\n",
       "\t 3      & 0      & 0      & 3      & 0      & 0      & 0      & 0      & 0      & 0      & ...    & 10     & 29.4   & 17.5   & -1.336 & 237.1  & 194.5  & 0.10   & 3.45   & 59.220 & 1     \\\\\n",
       "\t 4      & 0      & 0      & 0      & 0      & 0      & 0      & 0      & 0      & 0      & ...    & 10     & 29.4   & 17.5   &  0.616 & 248.6  & 221.0  & 0.15   & 1.60   & 67.750 & 1     \\\\\n",
       "\t 5      & 1      & 0      & 0      & 0      & 0      & 0      & 0      & 0      & 0      & ...    & 10     & 29.4   & 17.5   & -0.684 & 251.9  & 202.0  & 0.05   & 2.45   & 57.760 & 1     \\\\\n",
       "\t 6      & 0      & 0      & 0      & 0      & 0      & 1      & 0      & 0      & 0      & ...    &  8     & 29.6   & 20.8   &  1.190 & 250.1  & 192.5  & 0.10   & 2.50   & 53.075 & 2     \\\\\n",
       "\\end{tabular}\n"
      ],
      "text/markdown": [
       "\n",
       "| Sample | C1 | P1 | P2 | P3 | P4 | P5 | P6 | P7 | P8 | ... | exposure | salinity | temperature | NAP | penetrability | grainsize | humus | chalk | sorting1 | Beach |\n",
       "|---|---|---|---|---|---|---|---|---|---|---|---|---|---|---|---|---|---|---|---|---|\n",
       "| 1      | 4      | 0      | 0      | 0      | 0      | 0      | 1      | 0      | 0      | ...    | 10     | 29.4   | 17.5   |  0.045 | 253.9  | 222.5  | 0.05   | 2.05   | 69.830 | 1      |\n",
       "| 2      | 0      | 0      | 1      | 0      | 0      | 0      | 0      | 0      | 0      | ...    | 10     | 29.4   | 17.5   | -1.036 | 226.9  | 200.0  | 0.30   | 2.50   | 59.000 | 1      |\n",
       "| 3      | 0      | 0      | 3      | 0      | 0      | 0      | 0      | 0      | 0      | ...    | 10     | 29.4   | 17.5   | -1.336 | 237.1  | 194.5  | 0.10   | 3.45   | 59.220 | 1      |\n",
       "| 4      | 0      | 0      | 0      | 0      | 0      | 0      | 0      | 0      | 0      | ...    | 10     | 29.4   | 17.5   |  0.616 | 248.6  | 221.0  | 0.15   | 1.60   | 67.750 | 1      |\n",
       "| 5      | 1      | 0      | 0      | 0      | 0      | 0      | 0      | 0      | 0      | ...    | 10     | 29.4   | 17.5   | -0.684 | 251.9  | 202.0  | 0.05   | 2.45   | 57.760 | 1      |\n",
       "| 6      | 0      | 0      | 0      | 0      | 0      | 1      | 0      | 0      | 0      | ...    |  8     | 29.6   | 20.8   |  1.190 | 250.1  | 192.5  | 0.10   | 2.50   | 53.075 | 2      |\n",
       "\n"
      ],
      "text/plain": [
       "  Sample C1 P1 P2 P3 P4 P5 P6 P7 P8 ... exposure salinity temperature NAP   \n",
       "1 1      4  0  0  0  0  0  1  0  0  ... 10       29.4     17.5         0.045\n",
       "2 2      0  0  1  0  0  0  0  0  0  ... 10       29.4     17.5        -1.036\n",
       "3 3      0  0  3  0  0  0  0  0  0  ... 10       29.4     17.5        -1.336\n",
       "4 4      0  0  0  0  0  0  0  0  0  ... 10       29.4     17.5         0.616\n",
       "5 5      1  0  0  0  0  0  0  0  0  ... 10       29.4     17.5        -0.684\n",
       "6 6      0  0  0  0  0  1  0  0  0  ...  8       29.6     20.8         1.190\n",
       "  penetrability grainsize humus chalk sorting1 Beach\n",
       "1 253.9         222.5     0.05  2.05  69.830   1    \n",
       "2 226.9         200.0     0.30  2.50  59.000   1    \n",
       "3 237.1         194.5     0.10  3.45  59.220   1    \n",
       "4 248.6         221.0     0.15  1.60  67.750   1    \n",
       "5 251.9         202.0     0.05  2.45  57.760   1    \n",
       "6 250.1         192.5     0.10  2.50  53.075   2    "
      ]
     },
     "metadata": {},
     "output_type": "display_data"
    }
   ],
   "source": [
    "head(Benthic)"
   ]
  },
  {
   "cell_type": "code",
   "execution_count": 104,
   "id": "e8aa0f5f",
   "metadata": {},
   "outputs": [
    {
     "name": "stdout",
     "output_type": "stream",
     "text": [
      "'data.frame':\t45 obs. of  89 variables:\n",
      " $ Sample       : int  1 2 3 4 5 6 7 8 9 10 ...\n",
      " $ C1           : num  4 0 0 0 1 0 0 0 0 0 ...\n",
      " $ P1           : num  0 0 0 0 0 0 0 0 0 2 ...\n",
      " $ P2           : num  0 1 3 0 0 0 0 0 0 0 ...\n",
      " $ P3           : num  0 0 0 0 0 0 1 0 21 2 ...\n",
      " $ P4           : num  0 0 0 0 0 0 1 0 11 0 ...\n",
      " $ P5           : num  0 0 0 0 0 1 0 0 3 0 ...\n",
      " $ P6           : num  1 0 0 0 0 0 0 0 0 0 ...\n",
      " $ P7           : num  0 0 0 0 0 0 0 0 34 7 ...\n",
      " $ P8           : num  0 0 0 0 0 0 0 0 0 0 ...\n",
      " $ P9           : num  0 0 0 0 0 0 0 0 0 0 ...\n",
      " $ P10          : num  0 2 1 0 1 0 0 0 0 2 ...\n",
      " $ P11          : num  0 0 0 0 0 0 0 0 0 0 ...\n",
      " $ P12          : num  0 0 0 0 0 1 3 0 14 0 ...\n",
      " $ P13          : num  0 0 0 0 0 0 0 5 16 0 ...\n",
      " $ P14          : num  0 0 0 0 0 889 21 10 49 0 ...\n",
      " $ P15          : num  4 0 0 0 0 0 0 0 1 0 ...\n",
      " $ P16          : num  32 22 16 79 15 0 3 7 1 0 ...\n",
      " $ P17          : num  0 0 0 0 0 0 0 0 0 16 ...\n",
      " $ P18          : num  0 0 0 0 0 0 0 0 0 0 ...\n",
      " $ P19          : num  0 0 1 0 0 0 0 0 1 0 ...\n",
      " $ P20          : num  0 0 0 0 0 0 0 0 0 2 ...\n",
      " $ P21          : num  0 0 0 0 0 0 0 0 0 0 ...\n",
      " $ P22          : num  0 0 0 0 0 0 0 0 0 0 ...\n",
      " $ P24          : num  0 0 0 92 0 0 0 0 0 0 ...\n",
      " $ P25          : num  50 12 7 1 0 0 0 0 0 0 ...\n",
      " $ N1           : num  0 0 0 0 0 0 0 1 0 0 ...\n",
      " $ CR1          : num  2 0 0 0 0 0 0 0 0 0 ...\n",
      " $ CR2          : num  0 0 0 2 0 0 0 0 0 0 ...\n",
      " $ CR3          : num  0 1 2 0 25 1 0 0 0 0 ...\n",
      " $ CR4          : num  0 8 25 0 13 0 0 0 0 0 ...\n",
      " $ CR5          : num  0 0 0 1 1 0 175 163 0 0 ...\n",
      " $ CR6          : num  0 0 0 1 0 0 0 0 0 0 ...\n",
      " $ CR7          : num  0 0 1 0 0 0 0 0 0 0 ...\n",
      " $ CR8          : num  0 0 0 0 0 0 0 0 0 1 ...\n",
      " $ CR9          : num  0 0 0 1 4 0 0 0 0 0 ...\n",
      " $ CR10         : num  0 0 0 0 0 0 0 0 0 0 ...\n",
      " $ CR11         : num  0 0 0 0 0 0 0 0 2 0 ...\n",
      " $ CR12         : num  0 0 0 0 0 25 35 4 17 0 ...\n",
      " $ CR13         : num  0 0 0 0 0 0 0 0 1 0 ...\n",
      " $ CR14         : num  30 3 2 4 2 0 0 1 1 1 ...\n",
      " $ CR15         : num  9 0 0 15 4 0 1 1 0 0 ...\n",
      " $ CR16         : num  0 0 0 0 0 0 0 0 0 0 ...\n",
      " $ CR17         : num  0 0 0 0 0 0 0 0 0 0 ...\n",
      " $ CR18         : num  0 0 2 0 0 0 0 0 0 1 ...\n",
      " $ CR19         : num  8 0 0 0 0 0 0 0 0 0 ...\n",
      " $ CR20         : num  0 0 2 0 0 0 0 0 0 0 ...\n",
      " $ CR21         : num  0 1 7 0 1 0 0 0 0 0 ...\n",
      " $ CR22         : num  0 0 0 0 0 0 0 0 0 0 ...\n",
      " $ CR23         : num  0 0 0 0 0 0 0 0 0 0 ...\n",
      " $ CR24         : num  0 0 0 0 0 0 0 0 0 1 ...\n",
      " $ CR25         : num  0 1 0 0 0 0 0 0 0 0 ...\n",
      " $ CR26         : num  2 0 0 1 0 0 0 0 0 0 ...\n",
      " $ CR27         : num  0 0 0 0 0 0 0 0 0 0 ...\n",
      " $ CR28         : num  0 0 1 0 0 0 0 0 0 0 ...\n",
      " $ M1           : num  0 0 0 0 0 0 0 0 2 1 ...\n",
      " $ M2           : num  0 0 0 0 0 0 0 0 2 0 ...\n",
      " $ M3           : num  0 0 0 0 0 0 0 0 0 1 ...\n",
      " $ M4           : num  0 0 0 0 0 0 0 0 0 1 ...\n",
      " $ M5           : num  0 0 0 0 0 0 0 0 0 1 ...\n",
      " $ M6           : num  0 0 0 0 0 0 0 0 0 0 ...\n",
      " $ M7           : num  0 0 0 0 0 0 0 0 0 0 ...\n",
      " $ M8           : num  0 0 0 0 0 0 0 0 0 0 ...\n",
      " $ M9           : num  0 0 0 0 0 0 0 0 0 0 ...\n",
      " $ M10          : num  0 0 0 0 0 0 0 0 16 6 ...\n",
      " $ M11          : num  0 0 0 0 0 0 1 0 18 0 ...\n",
      " $ M12          : num  0 0 0 0 0 0 0 0 0 0 ...\n",
      " $ M14          : num  0 1 0 0 0 0 0 0 0 1 ...\n",
      " $ M15          : num  0 0 0 0 0 0 0 0 0 0 ...\n",
      " $ M16          : num  0 0 0 0 0 0 0 0 0 2 ...\n",
      " $ M17          : num  0 0 0 0 0 0 0 0 1 0 ...\n",
      " $ I1           : num  0 0 0 0 0 0 0 0 0 0 ...\n",
      " $ I2           : num  0 0 0 0 0 1 0 0 0 0 ...\n",
      " $ I3           : num  1 0 0 2 0 24 0 0 0 0 ...\n",
      " $ I4           : num  0 0 0 0 0 2 0 0 0 0 ...\n",
      " $ I5           : num  0 0 0 0 0 0 0 0 0 0 ...\n",
      " $ week         : int  1 1 1 1 1 1 1 1 1 1 ...\n",
      " $ angle1       : int  32 62 65 55 23 129 126 52 26 143 ...\n",
      " $ angle2       : int  96 96 96 96 96 89 89 89 89 89 ...\n",
      " $ exposure     : int  10 10 10 10 10 8 8 8 8 8 ...\n",
      " $ salinity     : num  29.4 29.4 29.4 29.4 29.4 29.6 29.6 29.6 29.6 29.6 ...\n",
      " $ temperature  : num  17.5 17.5 17.5 17.5 17.5 20.8 20.8 20.8 20.8 20.8 ...\n",
      " $ NAP          : num  0.045 -1.036 -1.336 0.616 -0.684 ...\n",
      " $ penetrability: num  254 227 237 249 252 ...\n",
      " $ grainsize    : num  222 200 194 221 202 ...\n",
      " $ humus        : num  0.05 0.3 0.1 0.15 0.05 0.1 0.1 0.1 0.15 0 ...\n",
      " $ chalk        : num  2.05 2.5 3.45 1.6 2.45 2.5 1.85 1.7 2.3 2.6 ...\n",
      " $ sorting1     : num  69.8 59 59.2 67.8 57.8 ...\n",
      " $ Beach        : int  1 1 1 1 1 2 2 2 2 2 ...\n"
     ]
    }
   ],
   "source": [
    "str(Benthic)"
   ]
  },
  {
   "cell_type": "markdown",
   "id": "79d8238b",
   "metadata": {},
   "source": [
    "**Three diversity index**\n",
    "\n",
    "1. Total abundance per site.\n",
    "2. Species richness, defined as the number of different species per site.\n",
    "3. The Shannon index. This takes into account both the presence/absence nature of the data actual abundance. "
   ]
  },
  {
   "cell_type": "markdown",
   "id": "af640902",
   "metadata": {},
   "source": [
    "##### 1. Total abundace per site"
   ]
  },
  {
   "cell_type": "code",
   "execution_count": 106,
   "id": "78cc2475",
   "metadata": {},
   "outputs": [],
   "source": [
    "# To calculate the total abundacne per site we need to selecte all the site row.\n",
    "\n",
    "# Now we need to extract only the species data form the dataframe.\n",
    "Species = Benthic[, 2:76] # 2:76 are species data"
   ]
  },
  {
   "cell_type": "code",
   "execution_count": 107,
   "id": "9d8a0a5c",
   "metadata": {},
   "outputs": [
    {
     "data": {
      "text/html": [
       "<table>\n",
       "<thead><tr><th scope=col>C1</th><th scope=col>P1</th><th scope=col>P2</th><th scope=col>P3</th><th scope=col>P4</th><th scope=col>P5</th><th scope=col>P6</th><th scope=col>P7</th><th scope=col>P8</th><th scope=col>P9</th><th scope=col>...</th><th scope=col>M12</th><th scope=col>M14</th><th scope=col>M15</th><th scope=col>M16</th><th scope=col>M17</th><th scope=col>I1</th><th scope=col>I2</th><th scope=col>I3</th><th scope=col>I4</th><th scope=col>I5</th></tr></thead>\n",
       "<tbody>\n",
       "\t<tr><td>4  </td><td>0  </td><td>0  </td><td>0  </td><td>0  </td><td>0  </td><td>1  </td><td>0  </td><td>0  </td><td>0  </td><td>...</td><td>0  </td><td>0  </td><td>0  </td><td>0  </td><td>0  </td><td>0  </td><td>0  </td><td> 1 </td><td>0  </td><td>0  </td></tr>\n",
       "\t<tr><td>0  </td><td>0  </td><td>1  </td><td>0  </td><td>0  </td><td>0  </td><td>0  </td><td>0  </td><td>0  </td><td>0  </td><td>...</td><td>0  </td><td>1  </td><td>0  </td><td>0  </td><td>0  </td><td>0  </td><td>0  </td><td> 0 </td><td>0  </td><td>0  </td></tr>\n",
       "\t<tr><td>0  </td><td>0  </td><td>3  </td><td>0  </td><td>0  </td><td>0  </td><td>0  </td><td>0  </td><td>0  </td><td>0  </td><td>...</td><td>0  </td><td>0  </td><td>0  </td><td>0  </td><td>0  </td><td>0  </td><td>0  </td><td> 0 </td><td>0  </td><td>0  </td></tr>\n",
       "\t<tr><td>0  </td><td>0  </td><td>0  </td><td>0  </td><td>0  </td><td>0  </td><td>0  </td><td>0  </td><td>0  </td><td>0  </td><td>...</td><td>0  </td><td>0  </td><td>0  </td><td>0  </td><td>0  </td><td>0  </td><td>0  </td><td> 2 </td><td>0  </td><td>0  </td></tr>\n",
       "\t<tr><td>1  </td><td>0  </td><td>0  </td><td>0  </td><td>0  </td><td>0  </td><td>0  </td><td>0  </td><td>0  </td><td>0  </td><td>...</td><td>0  </td><td>0  </td><td>0  </td><td>0  </td><td>0  </td><td>0  </td><td>0  </td><td> 0 </td><td>0  </td><td>0  </td></tr>\n",
       "\t<tr><td>0  </td><td>0  </td><td>0  </td><td>0  </td><td>0  </td><td>1  </td><td>0  </td><td>0  </td><td>0  </td><td>0  </td><td>...</td><td>0  </td><td>0  </td><td>0  </td><td>0  </td><td>0  </td><td>0  </td><td>1  </td><td>24 </td><td>2  </td><td>0  </td></tr>\n",
       "</tbody>\n",
       "</table>\n"
      ],
      "text/latex": [
       "\\begin{tabular}{r|lllllllllllllllllllllllllllllllllllllllllllllllllllllllllllllllllllllllllll}\n",
       " C1 & P1 & P2 & P3 & P4 & P5 & P6 & P7 & P8 & P9 & ... & M12 & M14 & M15 & M16 & M17 & I1 & I2 & I3 & I4 & I5\\\\\n",
       "\\hline\n",
       "\t 4   & 0   & 0   & 0   & 0   & 0   & 1   & 0   & 0   & 0   & ... & 0   & 0   & 0   & 0   & 0   & 0   & 0   &  1  & 0   & 0  \\\\\n",
       "\t 0   & 0   & 1   & 0   & 0   & 0   & 0   & 0   & 0   & 0   & ... & 0   & 1   & 0   & 0   & 0   & 0   & 0   &  0  & 0   & 0  \\\\\n",
       "\t 0   & 0   & 3   & 0   & 0   & 0   & 0   & 0   & 0   & 0   & ... & 0   & 0   & 0   & 0   & 0   & 0   & 0   &  0  & 0   & 0  \\\\\n",
       "\t 0   & 0   & 0   & 0   & 0   & 0   & 0   & 0   & 0   & 0   & ... & 0   & 0   & 0   & 0   & 0   & 0   & 0   &  2  & 0   & 0  \\\\\n",
       "\t 1   & 0   & 0   & 0   & 0   & 0   & 0   & 0   & 0   & 0   & ... & 0   & 0   & 0   & 0   & 0   & 0   & 0   &  0  & 0   & 0  \\\\\n",
       "\t 0   & 0   & 0   & 0   & 0   & 1   & 0   & 0   & 0   & 0   & ... & 0   & 0   & 0   & 0   & 0   & 0   & 1   & 24  & 2   & 0  \\\\\n",
       "\\end{tabular}\n"
      ],
      "text/markdown": [
       "\n",
       "| C1 | P1 | P2 | P3 | P4 | P5 | P6 | P7 | P8 | P9 | ... | M12 | M14 | M15 | M16 | M17 | I1 | I2 | I3 | I4 | I5 |\n",
       "|---|---|---|---|---|---|---|---|---|---|---|---|---|---|---|---|---|---|---|---|---|\n",
       "| 4   | 0   | 0   | 0   | 0   | 0   | 1   | 0   | 0   | 0   | ... | 0   | 0   | 0   | 0   | 0   | 0   | 0   |  1  | 0   | 0   |\n",
       "| 0   | 0   | 1   | 0   | 0   | 0   | 0   | 0   | 0   | 0   | ... | 0   | 1   | 0   | 0   | 0   | 0   | 0   |  0  | 0   | 0   |\n",
       "| 0   | 0   | 3   | 0   | 0   | 0   | 0   | 0   | 0   | 0   | ... | 0   | 0   | 0   | 0   | 0   | 0   | 0   |  0  | 0   | 0   |\n",
       "| 0   | 0   | 0   | 0   | 0   | 0   | 0   | 0   | 0   | 0   | ... | 0   | 0   | 0   | 0   | 0   | 0   | 0   |  2  | 0   | 0   |\n",
       "| 1   | 0   | 0   | 0   | 0   | 0   | 0   | 0   | 0   | 0   | ... | 0   | 0   | 0   | 0   | 0   | 0   | 0   |  0  | 0   | 0   |\n",
       "| 0   | 0   | 0   | 0   | 0   | 1   | 0   | 0   | 0   | 0   | ... | 0   | 0   | 0   | 0   | 0   | 0   | 1   | 24  | 2   | 0   |\n",
       "\n"
      ],
      "text/plain": [
       "  C1 P1 P2 P3 P4 P5 P6 P7 P8 P9 ... M12 M14 M15 M16 M17 I1 I2 I3 I4 I5\n",
       "1 4  0  0  0  0  0  1  0  0  0  ... 0   0   0   0   0   0  0   1 0  0 \n",
       "2 0  0  1  0  0  0  0  0  0  0  ... 0   1   0   0   0   0  0   0 0  0 \n",
       "3 0  0  3  0  0  0  0  0  0  0  ... 0   0   0   0   0   0  0   0 0  0 \n",
       "4 0  0  0  0  0  0  0  0  0  0  ... 0   0   0   0   0   0  0   2 0  0 \n",
       "5 1  0  0  0  0  0  0  0  0  0  ... 0   0   0   0   0   0  0   0 0  0 \n",
       "6 0  0  0  0  0  1  0  0  0  0  ... 0   0   0   0   0   0  1  24 2  0 "
      ]
     },
     "metadata": {},
     "output_type": "display_data"
    }
   ],
   "source": [
    "head(Species)"
   ]
  },
  {
   "cell_type": "code",
   "execution_count": 108,
   "id": "eea72a1f",
   "metadata": {},
   "outputs": [
    {
     "data": {
      "text/html": [
       "<ol class=list-inline>\n",
       "\t<li>45</li>\n",
       "\t<li>75</li>\n",
       "</ol>\n"
      ],
      "text/latex": [
       "\\begin{enumerate*}\n",
       "\\item 45\n",
       "\\item 75\n",
       "\\end{enumerate*}\n"
      ],
      "text/markdown": [
       "1. 45\n",
       "2. 75\n",
       "\n",
       "\n"
      ],
      "text/plain": [
       "[1] 45 75"
      ]
     },
     "metadata": {},
     "output_type": "display_data"
    }
   ],
   "source": [
    "# getting the dimension of the above data\n",
    "dim(Species)"
   ]
  },
  {
   "cell_type": "code",
   "execution_count": 109,
   "id": "5bf338d5",
   "metadata": {},
   "outputs": [],
   "source": [
    "Sites = dim(Species)[1]"
   ]
  },
  {
   "cell_type": "markdown",
   "id": "4c5d3f97",
   "metadata": {},
   "source": [
    "In this data we have 45 sites."
   ]
  },
  {
   "cell_type": "code",
   "execution_count": 111,
   "id": "71aefef0",
   "metadata": {},
   "outputs": [],
   "source": [
    "# Now we need to calculate sum of the species per site.\n",
    "# Note: all the rows repsenent each site.\n",
    "\n",
    "APS = vector(length=Sites)\n",
    "\n",
    "for (i in 1:Sites){\n",
    "    \n",
    "    # Now we need to sum all the species per site\n",
    "    \n",
    "    APS[i] = sum(Species[i, ], na.rm=TRUE)\n",
    "}\n"
   ]
  },
  {
   "cell_type": "code",
   "execution_count": 112,
   "id": "6d1a96b3",
   "metadata": {},
   "outputs": [
    {
     "data": {
      "text/html": [
       "<ol class=list-inline>\n",
       "\t<li>143</li>\n",
       "\t<li>52</li>\n",
       "\t<li>70</li>\n",
       "\t<li>199</li>\n",
       "\t<li>67</li>\n",
       "\t<li>944</li>\n",
       "\t<li>241</li>\n",
       "\t<li>192</li>\n",
       "\t<li>211</li>\n",
       "\t<li>48</li>\n",
       "\t<li>35</li>\n",
       "\t<li>1</li>\n",
       "\t<li>47</li>\n",
       "\t<li>38</li>\n",
       "\t<li>10</li>\n",
       "\t<li>1</li>\n",
       "\t<li>47</li>\n",
       "\t<li>73</li>\n",
       "\t<li>8</li>\n",
       "\t<li>48</li>\n",
       "\t<li>6</li>\n",
       "\t<li>42</li>\n",
       "\t<li>29</li>\n",
       "\t<li>0</li>\n",
       "\t<li>43</li>\n",
       "\t<li>33</li>\n",
       "\t<li>34</li>\n",
       "\t<li>67</li>\n",
       "\t<li>46</li>\n",
       "\t<li>5</li>\n",
       "\t<li>7</li>\n",
       "\t<li>1</li>\n",
       "\t<li>1</li>\n",
       "\t<li>102</li>\n",
       "\t<li>352</li>\n",
       "\t<li>6</li>\n",
       "\t<li>99</li>\n",
       "\t<li>27</li>\n",
       "\t<li>85</li>\n",
       "\t<li>0</li>\n",
       "\t<li>19</li>\n",
       "\t<li>34</li>\n",
       "\t<li>23</li>\n",
       "\t<li>0</li>\n",
       "\t<li>11</li>\n",
       "</ol>\n"
      ],
      "text/latex": [
       "\\begin{enumerate*}\n",
       "\\item 143\n",
       "\\item 52\n",
       "\\item 70\n",
       "\\item 199\n",
       "\\item 67\n",
       "\\item 944\n",
       "\\item 241\n",
       "\\item 192\n",
       "\\item 211\n",
       "\\item 48\n",
       "\\item 35\n",
       "\\item 1\n",
       "\\item 47\n",
       "\\item 38\n",
       "\\item 10\n",
       "\\item 1\n",
       "\\item 47\n",
       "\\item 73\n",
       "\\item 8\n",
       "\\item 48\n",
       "\\item 6\n",
       "\\item 42\n",
       "\\item 29\n",
       "\\item 0\n",
       "\\item 43\n",
       "\\item 33\n",
       "\\item 34\n",
       "\\item 67\n",
       "\\item 46\n",
       "\\item 5\n",
       "\\item 7\n",
       "\\item 1\n",
       "\\item 1\n",
       "\\item 102\n",
       "\\item 352\n",
       "\\item 6\n",
       "\\item 99\n",
       "\\item 27\n",
       "\\item 85\n",
       "\\item 0\n",
       "\\item 19\n",
       "\\item 34\n",
       "\\item 23\n",
       "\\item 0\n",
       "\\item 11\n",
       "\\end{enumerate*}\n"
      ],
      "text/markdown": [
       "1. 143\n",
       "2. 52\n",
       "3. 70\n",
       "4. 199\n",
       "5. 67\n",
       "6. 944\n",
       "7. 241\n",
       "8. 192\n",
       "9. 211\n",
       "10. 48\n",
       "11. 35\n",
       "12. 1\n",
       "13. 47\n",
       "14. 38\n",
       "15. 10\n",
       "16. 1\n",
       "17. 47\n",
       "18. 73\n",
       "19. 8\n",
       "20. 48\n",
       "21. 6\n",
       "22. 42\n",
       "23. 29\n",
       "24. 0\n",
       "25. 43\n",
       "26. 33\n",
       "27. 34\n",
       "28. 67\n",
       "29. 46\n",
       "30. 5\n",
       "31. 7\n",
       "32. 1\n",
       "33. 1\n",
       "34. 102\n",
       "35. 352\n",
       "36. 6\n",
       "37. 99\n",
       "38. 27\n",
       "39. 85\n",
       "40. 0\n",
       "41. 19\n",
       "42. 34\n",
       "43. 23\n",
       "44. 0\n",
       "45. 11\n",
       "\n",
       "\n"
      ],
      "text/plain": [
       " [1] 143  52  70 199  67 944 241 192 211  48  35   1  47  38  10   1  47  73   8\n",
       "[20]  48   6  42  29   0  43  33  34  67  46   5   7   1   1 102 352   6  99  27\n",
       "[39]  85   0  19  34  23   0  11"
      ]
     },
     "metadata": {},
     "output_type": "display_data"
    }
   ],
   "source": [
    "APS"
   ]
  },
  {
   "cell_type": "markdown",
   "id": "5c217f2d",
   "metadata": {},
   "source": [
    "Note: Above calculation can be done with a single command by using rowSums()"
   ]
  },
  {
   "cell_type": "code",
   "execution_count": 113,
   "id": "eff05c17",
   "metadata": {},
   "outputs": [
    {
     "data": {
      "text/html": [
       "<ol class=list-inline>\n",
       "\t<li>143</li>\n",
       "\t<li>52</li>\n",
       "\t<li>70</li>\n",
       "\t<li>199</li>\n",
       "\t<li>67</li>\n",
       "\t<li>944</li>\n",
       "\t<li>241</li>\n",
       "\t<li>192</li>\n",
       "\t<li>211</li>\n",
       "\t<li>48</li>\n",
       "\t<li>35</li>\n",
       "\t<li>1</li>\n",
       "\t<li>47</li>\n",
       "\t<li>38</li>\n",
       "\t<li>10</li>\n",
       "\t<li>1</li>\n",
       "\t<li>47</li>\n",
       "\t<li>73</li>\n",
       "\t<li>8</li>\n",
       "\t<li>48</li>\n",
       "\t<li>6</li>\n",
       "\t<li>42</li>\n",
       "\t<li>29</li>\n",
       "\t<li>0</li>\n",
       "\t<li>43</li>\n",
       "\t<li>33</li>\n",
       "\t<li>34</li>\n",
       "\t<li>67</li>\n",
       "\t<li>46</li>\n",
       "\t<li>5</li>\n",
       "\t<li>7</li>\n",
       "\t<li>1</li>\n",
       "\t<li>1</li>\n",
       "\t<li>102</li>\n",
       "\t<li>352</li>\n",
       "\t<li>6</li>\n",
       "\t<li>99</li>\n",
       "\t<li>27</li>\n",
       "\t<li>85</li>\n",
       "\t<li>0</li>\n",
       "\t<li>19</li>\n",
       "\t<li>34</li>\n",
       "\t<li>23</li>\n",
       "\t<li>0</li>\n",
       "\t<li>11</li>\n",
       "</ol>\n"
      ],
      "text/latex": [
       "\\begin{enumerate*}\n",
       "\\item 143\n",
       "\\item 52\n",
       "\\item 70\n",
       "\\item 199\n",
       "\\item 67\n",
       "\\item 944\n",
       "\\item 241\n",
       "\\item 192\n",
       "\\item 211\n",
       "\\item 48\n",
       "\\item 35\n",
       "\\item 1\n",
       "\\item 47\n",
       "\\item 38\n",
       "\\item 10\n",
       "\\item 1\n",
       "\\item 47\n",
       "\\item 73\n",
       "\\item 8\n",
       "\\item 48\n",
       "\\item 6\n",
       "\\item 42\n",
       "\\item 29\n",
       "\\item 0\n",
       "\\item 43\n",
       "\\item 33\n",
       "\\item 34\n",
       "\\item 67\n",
       "\\item 46\n",
       "\\item 5\n",
       "\\item 7\n",
       "\\item 1\n",
       "\\item 1\n",
       "\\item 102\n",
       "\\item 352\n",
       "\\item 6\n",
       "\\item 99\n",
       "\\item 27\n",
       "\\item 85\n",
       "\\item 0\n",
       "\\item 19\n",
       "\\item 34\n",
       "\\item 23\n",
       "\\item 0\n",
       "\\item 11\n",
       "\\end{enumerate*}\n"
      ],
      "text/markdown": [
       "1. 143\n",
       "2. 52\n",
       "3. 70\n",
       "4. 199\n",
       "5. 67\n",
       "6. 944\n",
       "7. 241\n",
       "8. 192\n",
       "9. 211\n",
       "10. 48\n",
       "11. 35\n",
       "12. 1\n",
       "13. 47\n",
       "14. 38\n",
       "15. 10\n",
       "16. 1\n",
       "17. 47\n",
       "18. 73\n",
       "19. 8\n",
       "20. 48\n",
       "21. 6\n",
       "22. 42\n",
       "23. 29\n",
       "24. 0\n",
       "25. 43\n",
       "26. 33\n",
       "27. 34\n",
       "28. 67\n",
       "29. 46\n",
       "30. 5\n",
       "31. 7\n",
       "32. 1\n",
       "33. 1\n",
       "34. 102\n",
       "35. 352\n",
       "36. 6\n",
       "37. 99\n",
       "38. 27\n",
       "39. 85\n",
       "40. 0\n",
       "41. 19\n",
       "42. 34\n",
       "43. 23\n",
       "44. 0\n",
       "45. 11\n",
       "\n",
       "\n"
      ],
      "text/plain": [
       " [1] 143  52  70 199  67 944 241 192 211  48  35   1  47  38  10   1  47  73   8\n",
       "[20]  48   6  42  29   0  43  33  34  67  46   5   7   1   1 102 352   6  99  27\n",
       "[39]  85   0  19  34  23   0  11"
      ]
     },
     "metadata": {},
     "output_type": "display_data"
    }
   ],
   "source": [
    "# Since we need to sum all the rows data we can use rowSums() function.\n",
    "APS = rowSums(Species, na.rm=TRUE)\n",
    "APS"
   ]
  },
  {
   "cell_type": "markdown",
   "id": "1c18052b",
   "metadata": {},
   "source": [
    "`Conclusion:` From the above result we have found out that, three sites have no species at all, whereas at one site the total abundance is 944."
   ]
  },
  {
   "cell_type": "code",
   "execution_count": null,
   "id": "1d326040",
   "metadata": {},
   "outputs": [],
   "source": []
  },
  {
   "cell_type": "markdown",
   "id": "659f19c0",
   "metadata": {},
   "source": [
    "____\n",
    "##### 2. Richness per site\n",
    "\n",
    "In this section we need to count how many species are present on a site. This can be found by a logic, if there is no species then it means there will be a 0, if there is no 0 then it means site have a species."
   ]
  },
  {
   "cell_type": "code",
   "execution_count": 119,
   "id": "e4b2beb1",
   "metadata": {},
   "outputs": [
    {
     "data": {
      "text/html": [
       "<ol class=list-inline>\n",
       "\t<li>11</li>\n",
       "\t<li>10</li>\n",
       "\t<li>13</li>\n",
       "\t<li>11</li>\n",
       "\t<li>10</li>\n",
       "\t<li>8</li>\n",
       "\t<li>9</li>\n",
       "\t<li>8</li>\n",
       "\t<li>19</li>\n",
       "\t<li>17</li>\n",
       "\t<li>6</li>\n",
       "\t<li>1</li>\n",
       "\t<li>4</li>\n",
       "\t<li>3</li>\n",
       "\t<li>3</li>\n",
       "\t<li>1</li>\n",
       "\t<li>3</li>\n",
       "\t<li>3</li>\n",
       "\t<li>1</li>\n",
       "\t<li>4</li>\n",
       "\t<li>3</li>\n",
       "\t<li>22</li>\n",
       "\t<li>6</li>\n",
       "\t<li>0</li>\n",
       "\t<li>6</li>\n",
       "\t<li>5</li>\n",
       "\t<li>4</li>\n",
       "\t<li>1</li>\n",
       "\t<li>6</li>\n",
       "\t<li>4</li>\n",
       "\t<li>2</li>\n",
       "\t<li>1</li>\n",
       "\t<li>1</li>\n",
       "\t<li>3</li>\n",
       "\t<li>4</li>\n",
       "\t<li>3</li>\n",
       "\t<li>5</li>\n",
       "\t<li>7</li>\n",
       "\t<li>5</li>\n",
       "\t<li>0</li>\n",
       "\t<li>7</li>\n",
       "\t<li>11</li>\n",
       "\t<li>3</li>\n",
       "\t<li>0</li>\n",
       "\t<li>2</li>\n",
       "</ol>\n"
      ],
      "text/latex": [
       "\\begin{enumerate*}\n",
       "\\item 11\n",
       "\\item 10\n",
       "\\item 13\n",
       "\\item 11\n",
       "\\item 10\n",
       "\\item 8\n",
       "\\item 9\n",
       "\\item 8\n",
       "\\item 19\n",
       "\\item 17\n",
       "\\item 6\n",
       "\\item 1\n",
       "\\item 4\n",
       "\\item 3\n",
       "\\item 3\n",
       "\\item 1\n",
       "\\item 3\n",
       "\\item 3\n",
       "\\item 1\n",
       "\\item 4\n",
       "\\item 3\n",
       "\\item 22\n",
       "\\item 6\n",
       "\\item 0\n",
       "\\item 6\n",
       "\\item 5\n",
       "\\item 4\n",
       "\\item 1\n",
       "\\item 6\n",
       "\\item 4\n",
       "\\item 2\n",
       "\\item 1\n",
       "\\item 1\n",
       "\\item 3\n",
       "\\item 4\n",
       "\\item 3\n",
       "\\item 5\n",
       "\\item 7\n",
       "\\item 5\n",
       "\\item 0\n",
       "\\item 7\n",
       "\\item 11\n",
       "\\item 3\n",
       "\\item 0\n",
       "\\item 2\n",
       "\\end{enumerate*}\n"
      ],
      "text/markdown": [
       "1. 11\n",
       "2. 10\n",
       "3. 13\n",
       "4. 11\n",
       "5. 10\n",
       "6. 8\n",
       "7. 9\n",
       "8. 8\n",
       "9. 19\n",
       "10. 17\n",
       "11. 6\n",
       "12. 1\n",
       "13. 4\n",
       "14. 3\n",
       "15. 3\n",
       "16. 1\n",
       "17. 3\n",
       "18. 3\n",
       "19. 1\n",
       "20. 4\n",
       "21. 3\n",
       "22. 22\n",
       "23. 6\n",
       "24. 0\n",
       "25. 6\n",
       "26. 5\n",
       "27. 4\n",
       "28. 1\n",
       "29. 6\n",
       "30. 4\n",
       "31. 2\n",
       "32. 1\n",
       "33. 1\n",
       "34. 3\n",
       "35. 4\n",
       "36. 3\n",
       "37. 5\n",
       "38. 7\n",
       "39. 5\n",
       "40. 0\n",
       "41. 7\n",
       "42. 11\n",
       "43. 3\n",
       "44. 0\n",
       "45. 2\n",
       "\n",
       "\n"
      ],
      "text/plain": [
       " [1] 11 10 13 11 10  8  9  8 19 17  6  1  4  3  3  1  3  3  1  4  3 22  6  0  6\n",
       "[26]  5  4  1  6  4  2  1  1  3  4  3  5  7  5  0  7 11  3  0  2"
      ]
     },
     "metadata": {},
     "output_type": "display_data"
    }
   ],
   "source": [
    "# We can do this thing is a single row\n",
    "\n",
    "Richness = rowSums(Species > 0)\n",
    "Richness"
   ]
  },
  {
   "cell_type": "markdown",
   "id": "f192a229",
   "metadata": {},
   "source": [
    "#### 3. Shannon index\n",
    "\n",
    "Shannon index:"
   ]
  },
  {
   "cell_type": "code",
   "execution_count": 122,
   "id": "995cbc1b",
   "metadata": {},
   "outputs": [],
   "source": [
    "APS = rowSums(Species, na.rm=TRUE)\n",
    "prop = Species/APS\n",
    "SI = -rowSums(prop*log10(prop), na.rm=TRUE)"
   ]
  },
  {
   "cell_type": "code",
   "execution_count": 123,
   "id": "fb2dc0b2",
   "metadata": {},
   "outputs": [
    {
     "data": {
      "text/html": [
       "<ol class=list-inline>\n",
       "\t<li>0.761906390200748</li>\n",
       "\t<li>0.720972236287058</li>\n",
       "\t<li>0.846735236743312</li>\n",
       "\t<li>0.530839261527601</li>\n",
       "\t<li>0.744139390692219</li>\n",
       "\t<li>0.125131638883103</li>\n",
       "\t<li>0.401920060043369</li>\n",
       "\t<li>0.29160666732367</li>\n",
       "\t<li>1.01888184740715</li>\n",
       "\t<li>0.996640956926915</li>\n",
       "\t<li>0.590844337621623</li>\n",
       "\t<li>0</li>\n",
       "\t<li>0.195915088161936</li>\n",
       "\t<li>0.257959282888135</li>\n",
       "\t<li>0.409691001300806</li>\n",
       "\t<li>0</li>\n",
       "\t<li>0.335716858775699</li>\n",
       "\t<li>0.0858033698146211</li>\n",
       "\t<li>0</li>\n",
       "\t<li>0.374676541412811</li>\n",
       "\t<li>0.376777922831669</li>\n",
       "\t<li>1.23972435378997</li>\n",
       "\t<li>0.626654770672766</li>\n",
       "\t<li>0</li>\n",
       "\t<li>0.352524661717343</li>\n",
       "\t<li>0.390575157632839</li>\n",
       "\t<li>0.383591864451947</li>\n",
       "\t<li>0</li>\n",
       "\t<li>0.58227814977452</li>\n",
       "\t<li>0.578558006070426</li>\n",
       "\t<li>0.178111253971134</li>\n",
       "\t<li>0</li>\n",
       "\t<li>0</li>\n",
       "\t<li>0.120829093284051</li>\n",
       "\t<li>0.0848849498242823</li>\n",
       "\t<li>0.439247291135819</li>\n",
       "\t<li>0.560655666301601</li>\n",
       "\t<li>0.73993117329964</li>\n",
       "\t<li>0.205251949698905</li>\n",
       "\t<li>0</li>\n",
       "\t<li>0.657375707585256</li>\n",
       "\t<li>0.751996273028403</li>\n",
       "\t<li>0.457678508133062</li>\n",
       "\t<li>0</li>\n",
       "\t<li>0.254475988785994</li>\n",
       "</ol>\n"
      ],
      "text/latex": [
       "\\begin{enumerate*}\n",
       "\\item 0.761906390200748\n",
       "\\item 0.720972236287058\n",
       "\\item 0.846735236743312\n",
       "\\item 0.530839261527601\n",
       "\\item 0.744139390692219\n",
       "\\item 0.125131638883103\n",
       "\\item 0.401920060043369\n",
       "\\item 0.29160666732367\n",
       "\\item 1.01888184740715\n",
       "\\item 0.996640956926915\n",
       "\\item 0.590844337621623\n",
       "\\item 0\n",
       "\\item 0.195915088161936\n",
       "\\item 0.257959282888135\n",
       "\\item 0.409691001300806\n",
       "\\item 0\n",
       "\\item 0.335716858775699\n",
       "\\item 0.0858033698146211\n",
       "\\item 0\n",
       "\\item 0.374676541412811\n",
       "\\item 0.376777922831669\n",
       "\\item 1.23972435378997\n",
       "\\item 0.626654770672766\n",
       "\\item 0\n",
       "\\item 0.352524661717343\n",
       "\\item 0.390575157632839\n",
       "\\item 0.383591864451947\n",
       "\\item 0\n",
       "\\item 0.58227814977452\n",
       "\\item 0.578558006070426\n",
       "\\item 0.178111253971134\n",
       "\\item 0\n",
       "\\item 0\n",
       "\\item 0.120829093284051\n",
       "\\item 0.0848849498242823\n",
       "\\item 0.439247291135819\n",
       "\\item 0.560655666301601\n",
       "\\item 0.73993117329964\n",
       "\\item 0.205251949698905\n",
       "\\item 0\n",
       "\\item 0.657375707585256\n",
       "\\item 0.751996273028403\n",
       "\\item 0.457678508133062\n",
       "\\item 0\n",
       "\\item 0.254475988785994\n",
       "\\end{enumerate*}\n"
      ],
      "text/markdown": [
       "1. 0.761906390200748\n",
       "2. 0.720972236287058\n",
       "3. 0.846735236743312\n",
       "4. 0.530839261527601\n",
       "5. 0.744139390692219\n",
       "6. 0.125131638883103\n",
       "7. 0.401920060043369\n",
       "8. 0.29160666732367\n",
       "9. 1.01888184740715\n",
       "10. 0.996640956926915\n",
       "11. 0.590844337621623\n",
       "12. 0\n",
       "13. 0.195915088161936\n",
       "14. 0.257959282888135\n",
       "15. 0.409691001300806\n",
       "16. 0\n",
       "17. 0.335716858775699\n",
       "18. 0.0858033698146211\n",
       "19. 0\n",
       "20. 0.374676541412811\n",
       "21. 0.376777922831669\n",
       "22. 1.23972435378997\n",
       "23. 0.626654770672766\n",
       "24. 0\n",
       "25. 0.352524661717343\n",
       "26. 0.390575157632839\n",
       "27. 0.383591864451947\n",
       "28. 0\n",
       "29. 0.58227814977452\n",
       "30. 0.578558006070426\n",
       "31. 0.178111253971134\n",
       "32. 0\n",
       "33. 0\n",
       "34. 0.120829093284051\n",
       "35. 0.0848849498242823\n",
       "36. 0.439247291135819\n",
       "37. 0.560655666301601\n",
       "38. 0.73993117329964\n",
       "39. 0.205251949698905\n",
       "40. 0\n",
       "41. 0.657375707585256\n",
       "42. 0.751996273028403\n",
       "43. 0.457678508133062\n",
       "44. 0\n",
       "45. 0.254475988785994\n",
       "\n",
       "\n"
      ],
      "text/plain": [
       " [1] 0.76190639 0.72097224 0.84673524 0.53083926 0.74413939 0.12513164\n",
       " [7] 0.40192006 0.29160667 1.01888185 0.99664096 0.59084434 0.00000000\n",
       "[13] 0.19591509 0.25795928 0.40969100 0.00000000 0.33571686 0.08580337\n",
       "[19] 0.00000000 0.37467654 0.37677792 1.23972435 0.62665477 0.00000000\n",
       "[25] 0.35252466 0.39057516 0.38359186 0.00000000 0.58227815 0.57855801\n",
       "[31] 0.17811125 0.00000000 0.00000000 0.12082909 0.08488495 0.43924729\n",
       "[37] 0.56065567 0.73993117 0.20525195 0.00000000 0.65737571 0.75199627\n",
       "[43] 0.45767851 0.00000000 0.25447599"
      ]
     },
     "metadata": {},
     "output_type": "display_data"
    }
   ],
   "source": [
    "SI"
   ]
  },
  {
   "cell_type": "markdown",
   "id": "78a359a5",
   "metadata": {},
   "source": [
    "##### 4. Putting the code together in a function "
   ]
  },
  {
   "cell_type": "code",
   "execution_count": 124,
   "id": "1f754eb7",
   "metadata": {},
   "outputs": [],
   "source": [
    "DiversityIndex = function(Dataset, option=\"abundance site\"){\n",
    "    \n",
    "    if (option == \"abundance site\"){\n",
    "        \n",
    "        result = rowSums(Species, na.rm = TRUE)\n",
    "    }\n",
    "    else if (option == \"richness\"){\n",
    "        result = rowSums(Species > 0)\n",
    "        \n",
    "    }\n",
    "    else if (option == \"shannon\"){\n",
    "        APS = rowSums(Species, na.rm=TRUE)\n",
    "        prop = Species/APS\n",
    "        result = -rowSums(prop*log10(prop), na.rm=TRUE)\n",
    "    }\n",
    "    else{\n",
    "        print(\"Please use a valid option!!!!!\")\n",
    "    }\n",
    "    \n",
    "    # Now after all the condition we need to check the result is exists \n",
    "    if (exists('result')){result}\n",
    "}"
   ]
  },
  {
   "cell_type": "code",
   "execution_count": 125,
   "id": "b6191750",
   "metadata": {},
   "outputs": [
    {
     "data": {
      "text/html": [
       "<ol class=list-inline>\n",
       "\t<li>143</li>\n",
       "\t<li>52</li>\n",
       "\t<li>70</li>\n",
       "\t<li>199</li>\n",
       "\t<li>67</li>\n",
       "\t<li>944</li>\n",
       "\t<li>241</li>\n",
       "\t<li>192</li>\n",
       "\t<li>211</li>\n",
       "\t<li>48</li>\n",
       "\t<li>35</li>\n",
       "\t<li>1</li>\n",
       "\t<li>47</li>\n",
       "\t<li>38</li>\n",
       "\t<li>10</li>\n",
       "\t<li>1</li>\n",
       "\t<li>47</li>\n",
       "\t<li>73</li>\n",
       "\t<li>8</li>\n",
       "\t<li>48</li>\n",
       "\t<li>6</li>\n",
       "\t<li>42</li>\n",
       "\t<li>29</li>\n",
       "\t<li>0</li>\n",
       "\t<li>43</li>\n",
       "\t<li>33</li>\n",
       "\t<li>34</li>\n",
       "\t<li>67</li>\n",
       "\t<li>46</li>\n",
       "\t<li>5</li>\n",
       "\t<li>7</li>\n",
       "\t<li>1</li>\n",
       "\t<li>1</li>\n",
       "\t<li>102</li>\n",
       "\t<li>352</li>\n",
       "\t<li>6</li>\n",
       "\t<li>99</li>\n",
       "\t<li>27</li>\n",
       "\t<li>85</li>\n",
       "\t<li>0</li>\n",
       "\t<li>19</li>\n",
       "\t<li>34</li>\n",
       "\t<li>23</li>\n",
       "\t<li>0</li>\n",
       "\t<li>11</li>\n",
       "</ol>\n"
      ],
      "text/latex": [
       "\\begin{enumerate*}\n",
       "\\item 143\n",
       "\\item 52\n",
       "\\item 70\n",
       "\\item 199\n",
       "\\item 67\n",
       "\\item 944\n",
       "\\item 241\n",
       "\\item 192\n",
       "\\item 211\n",
       "\\item 48\n",
       "\\item 35\n",
       "\\item 1\n",
       "\\item 47\n",
       "\\item 38\n",
       "\\item 10\n",
       "\\item 1\n",
       "\\item 47\n",
       "\\item 73\n",
       "\\item 8\n",
       "\\item 48\n",
       "\\item 6\n",
       "\\item 42\n",
       "\\item 29\n",
       "\\item 0\n",
       "\\item 43\n",
       "\\item 33\n",
       "\\item 34\n",
       "\\item 67\n",
       "\\item 46\n",
       "\\item 5\n",
       "\\item 7\n",
       "\\item 1\n",
       "\\item 1\n",
       "\\item 102\n",
       "\\item 352\n",
       "\\item 6\n",
       "\\item 99\n",
       "\\item 27\n",
       "\\item 85\n",
       "\\item 0\n",
       "\\item 19\n",
       "\\item 34\n",
       "\\item 23\n",
       "\\item 0\n",
       "\\item 11\n",
       "\\end{enumerate*}\n"
      ],
      "text/markdown": [
       "1. 143\n",
       "2. 52\n",
       "3. 70\n",
       "4. 199\n",
       "5. 67\n",
       "6. 944\n",
       "7. 241\n",
       "8. 192\n",
       "9. 211\n",
       "10. 48\n",
       "11. 35\n",
       "12. 1\n",
       "13. 47\n",
       "14. 38\n",
       "15. 10\n",
       "16. 1\n",
       "17. 47\n",
       "18. 73\n",
       "19. 8\n",
       "20. 48\n",
       "21. 6\n",
       "22. 42\n",
       "23. 29\n",
       "24. 0\n",
       "25. 43\n",
       "26. 33\n",
       "27. 34\n",
       "28. 67\n",
       "29. 46\n",
       "30. 5\n",
       "31. 7\n",
       "32. 1\n",
       "33. 1\n",
       "34. 102\n",
       "35. 352\n",
       "36. 6\n",
       "37. 99\n",
       "38. 27\n",
       "39. 85\n",
       "40. 0\n",
       "41. 19\n",
       "42. 34\n",
       "43. 23\n",
       "44. 0\n",
       "45. 11\n",
       "\n",
       "\n"
      ],
      "text/plain": [
       " [1] 143  52  70 199  67 944 241 192 211  48  35   1  47  38  10   1  47  73   8\n",
       "[20]  48   6  42  29   0  43  33  34  67  46   5   7   1   1 102 352   6  99  27\n",
       "[39]  85   0  19  34  23   0  11"
      ]
     },
     "metadata": {},
     "output_type": "display_data"
    }
   ],
   "source": [
    "# Checking abundance site\n",
    "DiversityIndex(Species, \"abundance site\")"
   ]
  },
  {
   "cell_type": "code",
   "execution_count": 126,
   "id": "4c924c0c",
   "metadata": {},
   "outputs": [
    {
     "data": {
      "text/html": [
       "<ol class=list-inline>\n",
       "\t<li>11</li>\n",
       "\t<li>10</li>\n",
       "\t<li>13</li>\n",
       "\t<li>11</li>\n",
       "\t<li>10</li>\n",
       "\t<li>8</li>\n",
       "\t<li>9</li>\n",
       "\t<li>8</li>\n",
       "\t<li>19</li>\n",
       "\t<li>17</li>\n",
       "\t<li>6</li>\n",
       "\t<li>1</li>\n",
       "\t<li>4</li>\n",
       "\t<li>3</li>\n",
       "\t<li>3</li>\n",
       "\t<li>1</li>\n",
       "\t<li>3</li>\n",
       "\t<li>3</li>\n",
       "\t<li>1</li>\n",
       "\t<li>4</li>\n",
       "\t<li>3</li>\n",
       "\t<li>22</li>\n",
       "\t<li>6</li>\n",
       "\t<li>0</li>\n",
       "\t<li>6</li>\n",
       "\t<li>5</li>\n",
       "\t<li>4</li>\n",
       "\t<li>1</li>\n",
       "\t<li>6</li>\n",
       "\t<li>4</li>\n",
       "\t<li>2</li>\n",
       "\t<li>1</li>\n",
       "\t<li>1</li>\n",
       "\t<li>3</li>\n",
       "\t<li>4</li>\n",
       "\t<li>3</li>\n",
       "\t<li>5</li>\n",
       "\t<li>7</li>\n",
       "\t<li>5</li>\n",
       "\t<li>0</li>\n",
       "\t<li>7</li>\n",
       "\t<li>11</li>\n",
       "\t<li>3</li>\n",
       "\t<li>0</li>\n",
       "\t<li>2</li>\n",
       "</ol>\n"
      ],
      "text/latex": [
       "\\begin{enumerate*}\n",
       "\\item 11\n",
       "\\item 10\n",
       "\\item 13\n",
       "\\item 11\n",
       "\\item 10\n",
       "\\item 8\n",
       "\\item 9\n",
       "\\item 8\n",
       "\\item 19\n",
       "\\item 17\n",
       "\\item 6\n",
       "\\item 1\n",
       "\\item 4\n",
       "\\item 3\n",
       "\\item 3\n",
       "\\item 1\n",
       "\\item 3\n",
       "\\item 3\n",
       "\\item 1\n",
       "\\item 4\n",
       "\\item 3\n",
       "\\item 22\n",
       "\\item 6\n",
       "\\item 0\n",
       "\\item 6\n",
       "\\item 5\n",
       "\\item 4\n",
       "\\item 1\n",
       "\\item 6\n",
       "\\item 4\n",
       "\\item 2\n",
       "\\item 1\n",
       "\\item 1\n",
       "\\item 3\n",
       "\\item 4\n",
       "\\item 3\n",
       "\\item 5\n",
       "\\item 7\n",
       "\\item 5\n",
       "\\item 0\n",
       "\\item 7\n",
       "\\item 11\n",
       "\\item 3\n",
       "\\item 0\n",
       "\\item 2\n",
       "\\end{enumerate*}\n"
      ],
      "text/markdown": [
       "1. 11\n",
       "2. 10\n",
       "3. 13\n",
       "4. 11\n",
       "5. 10\n",
       "6. 8\n",
       "7. 9\n",
       "8. 8\n",
       "9. 19\n",
       "10. 17\n",
       "11. 6\n",
       "12. 1\n",
       "13. 4\n",
       "14. 3\n",
       "15. 3\n",
       "16. 1\n",
       "17. 3\n",
       "18. 3\n",
       "19. 1\n",
       "20. 4\n",
       "21. 3\n",
       "22. 22\n",
       "23. 6\n",
       "24. 0\n",
       "25. 6\n",
       "26. 5\n",
       "27. 4\n",
       "28. 1\n",
       "29. 6\n",
       "30. 4\n",
       "31. 2\n",
       "32. 1\n",
       "33. 1\n",
       "34. 3\n",
       "35. 4\n",
       "36. 3\n",
       "37. 5\n",
       "38. 7\n",
       "39. 5\n",
       "40. 0\n",
       "41. 7\n",
       "42. 11\n",
       "43. 3\n",
       "44. 0\n",
       "45. 2\n",
       "\n",
       "\n"
      ],
      "text/plain": [
       " [1] 11 10 13 11 10  8  9  8 19 17  6  1  4  3  3  1  3  3  1  4  3 22  6  0  6\n",
       "[26]  5  4  1  6  4  2  1  1  3  4  3  5  7  5  0  7 11  3  0  2"
      ]
     },
     "metadata": {},
     "output_type": "display_data"
    }
   ],
   "source": [
    "# checking richness per site\n",
    "DiversityIndex(Species, \"richness\")"
   ]
  },
  {
   "cell_type": "code",
   "execution_count": 127,
   "id": "a015f058",
   "metadata": {},
   "outputs": [
    {
     "data": {
      "text/html": [
       "<ol class=list-inline>\n",
       "\t<li>0.761906390200748</li>\n",
       "\t<li>0.720972236287058</li>\n",
       "\t<li>0.846735236743312</li>\n",
       "\t<li>0.530839261527601</li>\n",
       "\t<li>0.744139390692219</li>\n",
       "\t<li>0.125131638883103</li>\n",
       "\t<li>0.401920060043369</li>\n",
       "\t<li>0.29160666732367</li>\n",
       "\t<li>1.01888184740715</li>\n",
       "\t<li>0.996640956926915</li>\n",
       "\t<li>0.590844337621623</li>\n",
       "\t<li>0</li>\n",
       "\t<li>0.195915088161936</li>\n",
       "\t<li>0.257959282888135</li>\n",
       "\t<li>0.409691001300806</li>\n",
       "\t<li>0</li>\n",
       "\t<li>0.335716858775699</li>\n",
       "\t<li>0.0858033698146211</li>\n",
       "\t<li>0</li>\n",
       "\t<li>0.374676541412811</li>\n",
       "\t<li>0.376777922831669</li>\n",
       "\t<li>1.23972435378997</li>\n",
       "\t<li>0.626654770672766</li>\n",
       "\t<li>0</li>\n",
       "\t<li>0.352524661717343</li>\n",
       "\t<li>0.390575157632839</li>\n",
       "\t<li>0.383591864451947</li>\n",
       "\t<li>0</li>\n",
       "\t<li>0.58227814977452</li>\n",
       "\t<li>0.578558006070426</li>\n",
       "\t<li>0.178111253971134</li>\n",
       "\t<li>0</li>\n",
       "\t<li>0</li>\n",
       "\t<li>0.120829093284051</li>\n",
       "\t<li>0.0848849498242823</li>\n",
       "\t<li>0.439247291135819</li>\n",
       "\t<li>0.560655666301601</li>\n",
       "\t<li>0.73993117329964</li>\n",
       "\t<li>0.205251949698905</li>\n",
       "\t<li>0</li>\n",
       "\t<li>0.657375707585256</li>\n",
       "\t<li>0.751996273028403</li>\n",
       "\t<li>0.457678508133062</li>\n",
       "\t<li>0</li>\n",
       "\t<li>0.254475988785994</li>\n",
       "</ol>\n"
      ],
      "text/latex": [
       "\\begin{enumerate*}\n",
       "\\item 0.761906390200748\n",
       "\\item 0.720972236287058\n",
       "\\item 0.846735236743312\n",
       "\\item 0.530839261527601\n",
       "\\item 0.744139390692219\n",
       "\\item 0.125131638883103\n",
       "\\item 0.401920060043369\n",
       "\\item 0.29160666732367\n",
       "\\item 1.01888184740715\n",
       "\\item 0.996640956926915\n",
       "\\item 0.590844337621623\n",
       "\\item 0\n",
       "\\item 0.195915088161936\n",
       "\\item 0.257959282888135\n",
       "\\item 0.409691001300806\n",
       "\\item 0\n",
       "\\item 0.335716858775699\n",
       "\\item 0.0858033698146211\n",
       "\\item 0\n",
       "\\item 0.374676541412811\n",
       "\\item 0.376777922831669\n",
       "\\item 1.23972435378997\n",
       "\\item 0.626654770672766\n",
       "\\item 0\n",
       "\\item 0.352524661717343\n",
       "\\item 0.390575157632839\n",
       "\\item 0.383591864451947\n",
       "\\item 0\n",
       "\\item 0.58227814977452\n",
       "\\item 0.578558006070426\n",
       "\\item 0.178111253971134\n",
       "\\item 0\n",
       "\\item 0\n",
       "\\item 0.120829093284051\n",
       "\\item 0.0848849498242823\n",
       "\\item 0.439247291135819\n",
       "\\item 0.560655666301601\n",
       "\\item 0.73993117329964\n",
       "\\item 0.205251949698905\n",
       "\\item 0\n",
       "\\item 0.657375707585256\n",
       "\\item 0.751996273028403\n",
       "\\item 0.457678508133062\n",
       "\\item 0\n",
       "\\item 0.254475988785994\n",
       "\\end{enumerate*}\n"
      ],
      "text/markdown": [
       "1. 0.761906390200748\n",
       "2. 0.720972236287058\n",
       "3. 0.846735236743312\n",
       "4. 0.530839261527601\n",
       "5. 0.744139390692219\n",
       "6. 0.125131638883103\n",
       "7. 0.401920060043369\n",
       "8. 0.29160666732367\n",
       "9. 1.01888184740715\n",
       "10. 0.996640956926915\n",
       "11. 0.590844337621623\n",
       "12. 0\n",
       "13. 0.195915088161936\n",
       "14. 0.257959282888135\n",
       "15. 0.409691001300806\n",
       "16. 0\n",
       "17. 0.335716858775699\n",
       "18. 0.0858033698146211\n",
       "19. 0\n",
       "20. 0.374676541412811\n",
       "21. 0.376777922831669\n",
       "22. 1.23972435378997\n",
       "23. 0.626654770672766\n",
       "24. 0\n",
       "25. 0.352524661717343\n",
       "26. 0.390575157632839\n",
       "27. 0.383591864451947\n",
       "28. 0\n",
       "29. 0.58227814977452\n",
       "30. 0.578558006070426\n",
       "31. 0.178111253971134\n",
       "32. 0\n",
       "33. 0\n",
       "34. 0.120829093284051\n",
       "35. 0.0848849498242823\n",
       "36. 0.439247291135819\n",
       "37. 0.560655666301601\n",
       "38. 0.73993117329964\n",
       "39. 0.205251949698905\n",
       "40. 0\n",
       "41. 0.657375707585256\n",
       "42. 0.751996273028403\n",
       "43. 0.457678508133062\n",
       "44. 0\n",
       "45. 0.254475988785994\n",
       "\n",
       "\n"
      ],
      "text/plain": [
       " [1] 0.76190639 0.72097224 0.84673524 0.53083926 0.74413939 0.12513164\n",
       " [7] 0.40192006 0.29160667 1.01888185 0.99664096 0.59084434 0.00000000\n",
       "[13] 0.19591509 0.25795928 0.40969100 0.00000000 0.33571686 0.08580337\n",
       "[19] 0.00000000 0.37467654 0.37677792 1.23972435 0.62665477 0.00000000\n",
       "[25] 0.35252466 0.39057516 0.38359186 0.00000000 0.58227815 0.57855801\n",
       "[31] 0.17811125 0.00000000 0.00000000 0.12082909 0.08488495 0.43924729\n",
       "[37] 0.56065567 0.73993117 0.20525195 0.00000000 0.65737571 0.75199627\n",
       "[43] 0.45767851 0.00000000 0.25447599"
      ]
     },
     "metadata": {},
     "output_type": "display_data"
    }
   ],
   "source": [
    "# checking the shannon index\n",
    "DiversityIndex(Species, \"shannon\")"
   ]
  },
  {
   "cell_type": "code",
   "execution_count": 128,
   "id": "4855b9ec",
   "metadata": {},
   "outputs": [
    {
     "name": "stdout",
     "output_type": "stream",
     "text": [
      "[1] \"Please use a valid option!!!!!\"\n"
     ]
    }
   ],
   "source": [
    "# checking the wrong option\n",
    "DiversityIndex(Species, \"Wrong\")"
   ]
  },
  {
   "cell_type": "code",
   "execution_count": null,
   "id": "bbf11984",
   "metadata": {},
   "outputs": [],
   "source": []
  }
 ],
 "metadata": {
  "kernelspec": {
   "display_name": "R",
   "language": "R",
   "name": "ir"
  },
  "language_info": {
   "codemirror_mode": "r",
   "file_extension": ".r",
   "mimetype": "text/x-r-source",
   "name": "R",
   "pygments_lexer": "r",
   "version": "3.6.1"
  }
 },
 "nbformat": 4,
 "nbformat_minor": 5
}
