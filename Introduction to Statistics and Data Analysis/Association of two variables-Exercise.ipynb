{
 "cells": [
  {
   "cell_type": "markdown",
   "id": "e25a0365-9caf-4786-9a96-92ccb85099bd",
   "metadata": {},
   "source": [
    "# Exercise: Association of two variables."
   ]
  },
  {
   "cell_type": "markdown",
   "id": "f869dc34-25d5-4e92-8edd-f08f0a06c2c5",
   "metadata": {},
   "source": [
    "## Exercise 1\n",
    "\n",
    "A newspaper asks two of its staff to review the coffee quality at different\n",
    "trendy cafés. The coffee can be rated on a scale from 1 (miserable) to 10 (excellent).\n",
    "The results of the two coffee enthusiasts X and Y are as follows:"
   ]
  },
  {
   "cell_type": "markdown",
   "id": "fab5a822-1215-4b3b-824c-574c38836208",
   "metadata": {},
   "source": [
    "|$Cafe {i}$|$x_i$|$y_i$|\n",
    "|----|-----|--|\n",
    "|1|3|6|\n",
    "|2|8|7|\n",
    "|3|7|10|\n",
    "|4|9|8|\n",
    "|5|5|4|"
   ]
  },
  {
   "cell_type": "markdown",
   "id": "b1cc6ead-c1cb-4be2-a1ca-b13405e74132",
   "metadata": {},
   "source": [
    "* (a) Calculate and interpret Spearman’s rank correlation coefficient.\n",
    "* (b) Does Spearman’s R differ depending on whether ranks are assigned in a decreasing or increasing order?\n",
    "* (c) Suppose the coffee can only be rated as either good (>5) or bad (≤5). Do the\n",
    "chances of a good rating differ between the two journalists?"
   ]
  },
  {
   "cell_type": "markdown",
   "id": "7f297607-55d7-4d72-81b2-51057624dae5",
   "metadata": {},
   "source": [
    "**Creating the above dataset for calculation**"
   ]
  },
  {
   "cell_type": "code",
   "execution_count": 10,
   "id": "bde152b2-8fe2-4d62-b281-1dc0fda93cb6",
   "metadata": {},
   "outputs": [
    {
     "data": {
      "text/html": [
       "<table>\n",
       "<thead><tr><th scope=col>Cafe_i</th><th scope=col>X</th><th scope=col>Y</th></tr></thead>\n",
       "<tbody>\n",
       "\t<tr><td>1 </td><td>3 </td><td> 6</td></tr>\n",
       "\t<tr><td>2 </td><td>8 </td><td> 7</td></tr>\n",
       "\t<tr><td>3 </td><td>7 </td><td>10</td></tr>\n",
       "\t<tr><td>4 </td><td>9 </td><td> 8</td></tr>\n",
       "\t<tr><td>5 </td><td>5 </td><td> 4</td></tr>\n",
       "</tbody>\n",
       "</table>\n"
      ],
      "text/latex": [
       "\\begin{tabular}{lll}\n",
       " Cafe\\_i & X & Y\\\\\n",
       "\\hline\n",
       "\t 1  & 3  &  6\\\\\n",
       "\t 2  & 8  &  7\\\\\n",
       "\t 3  & 7  & 10\\\\\n",
       "\t 4  & 9  &  8\\\\\n",
       "\t 5  & 5  &  4\\\\\n",
       "\\end{tabular}\n"
      ],
      "text/markdown": [
       "\n",
       "| Cafe_i | X | Y |\n",
       "|---|---|---|\n",
       "| 1  | 3  |  6 |\n",
       "| 2  | 8  |  7 |\n",
       "| 3  | 7  | 10 |\n",
       "| 4  | 9  |  8 |\n",
       "| 5  | 5  |  4 |\n",
       "\n"
      ],
      "text/plain": [
       "     Cafe_i X Y \n",
       "[1,] 1      3  6\n",
       "[2,] 2      8  7\n",
       "[3,] 3      7 10\n",
       "[4,] 4      9  8\n",
       "[5,] 5      5  4"
      ]
     },
     "metadata": {},
     "output_type": "display_data"
    }
   ],
   "source": [
    "Cafe_i = c(1:5)\n",
    "Cafe_X = c(3, 8, 7, 9, 5)\n",
    "Cafe_y = c(6, 7, 10, 8, 4)\n",
    "\n",
    "# Now we will bind them\n",
    "\n",
    "Cafe_data = cbind(Cafe_i, X=Cafe_X, Y =Cafe_y)\n",
    "Cafe_data"
   ]
  },
  {
   "cell_type": "markdown",
   "id": "44dc0240-546e-4688-9fd7-9a088ecf7398",
   "metadata": {},
   "source": [
    "### Calculation and interpretion of Spearman's rank correlation coefficient"
   ]
  },
  {
   "cell_type": "code",
   "execution_count": 11,
   "id": "741c50f6-29e8-43d4-a31e-f486e4b03a75",
   "metadata": {},
   "outputs": [
    {
     "data": {
      "text/html": [
       "0.6"
      ],
      "text/latex": [
       "0.6"
      ],
      "text/markdown": [
       "0.6"
      ],
      "text/plain": [
       "[1] 0.6"
      ]
     },
     "metadata": {},
     "output_type": "display_data"
    }
   ],
   "source": [
    "# Now to calulate the Spearman's rank correlation coefficient we need to use spearman method on cor() function.\n",
    "# Note that this is an ordinal data so we can apply the rank correlation \n",
    "\n",
    "cor(Cafe_X, Cafe_y, method='spearman')"
   ]
  },
  {
   "cell_type": "markdown",
   "id": "a877530c-1299-4eaf-8571-3726283177db",
   "metadata": {},
   "source": [
    "`Interpretation:` From the above result we can say that there is a positive correlation b/w the X and Y variable with a moderate strongness.\n",
    "\n",
    "* we can say that as X increases Y will also increases. "
   ]
  },
  {
   "cell_type": "markdown",
   "id": "9ee2ba56-5a33-4b31-91e6-b6a9b94af8d1",
   "metadata": {},
   "source": [
    "### Spearman's rank correlation with different assign order."
   ]
  },
  {
   "cell_type": "code",
   "execution_count": 12,
   "id": "2c5215de-78a8-4172-858f-4efd0012a73f",
   "metadata": {},
   "outputs": [
    {
     "data": {
      "text/html": [
       "<table>\n",
       "<thead><tr><th scope=col>Cafe_i</th><th scope=col>X</th><th scope=col>Y</th></tr></thead>\n",
       "<tbody>\n",
       "\t<tr><td>1 </td><td>3 </td><td> 6</td></tr>\n",
       "\t<tr><td>5 </td><td>5 </td><td> 4</td></tr>\n",
       "\t<tr><td>3 </td><td>7 </td><td>10</td></tr>\n",
       "\t<tr><td>2 </td><td>8 </td><td> 7</td></tr>\n",
       "\t<tr><td>4 </td><td>9 </td><td> 8</td></tr>\n",
       "</tbody>\n",
       "</table>\n"
      ],
      "text/latex": [
       "\\begin{tabular}{lll}\n",
       " Cafe\\_i & X & Y\\\\\n",
       "\\hline\n",
       "\t 1  & 3  &  6\\\\\n",
       "\t 5  & 5  &  4\\\\\n",
       "\t 3  & 7  & 10\\\\\n",
       "\t 2  & 8  &  7\\\\\n",
       "\t 4  & 9  &  8\\\\\n",
       "\\end{tabular}\n"
      ],
      "text/markdown": [
       "\n",
       "| Cafe_i | X | Y |\n",
       "|---|---|---|\n",
       "| 1  | 3  |  6 |\n",
       "| 5  | 5  |  4 |\n",
       "| 3  | 7  | 10 |\n",
       "| 2  | 8  |  7 |\n",
       "| 4  | 9  |  8 |\n",
       "\n"
      ],
      "text/plain": [
       "     Cafe_i X Y \n",
       "[1,] 1      3  6\n",
       "[2,] 5      5  4\n",
       "[3,] 3      7 10\n",
       "[4,] 2      8  7\n",
       "[5,] 4      9  8"
      ]
     },
     "metadata": {},
     "output_type": "display_data"
    }
   ],
   "source": [
    "Cafe_data = Cafe_data[order(Cafe_data[,'X']),]\n",
    "Cafe_data"
   ]
  },
  {
   "cell_type": "code",
   "execution_count": 13,
   "id": "ebe6d3b8-cb53-45ee-9b98-6ff1198dfdf7",
   "metadata": {},
   "outputs": [],
   "source": [
    "CafeX = Cafe_data[,\"X\"]\n",
    "CafeY = Cafe_data[,\"Y\"]"
   ]
  },
  {
   "cell_type": "code",
   "execution_count": 14,
   "id": "fa9a0b21-f4f7-4b5c-8f5d-28046c7c8ff3",
   "metadata": {},
   "outputs": [
    {
     "name": "stdout",
     "output_type": "stream",
     "text": [
      "[1] \"Spearman's rank correlation on the accending orderd data = 0.6\"\n"
     ]
    }
   ],
   "source": [
    "# Now we will calculate the spearman's rank correlation on the accending ordered data.\n",
    "result = cor(CafeX, CafeY, method='spearman')\n",
    "print(paste(\"Spearman's rank correlation on the accending orderd data =\", result))\n"
   ]
  },
  {
   "cell_type": "code",
   "execution_count": 15,
   "id": "a8e28726-be83-434a-8a3d-a113e4a3bd67",
   "metadata": {},
   "outputs": [
    {
     "data": {
      "text/html": [
       "<table>\n",
       "<thead><tr><th scope=col>Cafe_i</th><th scope=col>X</th><th scope=col>Y</th></tr></thead>\n",
       "<tbody>\n",
       "\t<tr><td>4 </td><td>9 </td><td> 8</td></tr>\n",
       "\t<tr><td>2 </td><td>8 </td><td> 7</td></tr>\n",
       "\t<tr><td>3 </td><td>7 </td><td>10</td></tr>\n",
       "\t<tr><td>5 </td><td>5 </td><td> 4</td></tr>\n",
       "\t<tr><td>1 </td><td>3 </td><td> 6</td></tr>\n",
       "</tbody>\n",
       "</table>\n"
      ],
      "text/latex": [
       "\\begin{tabular}{lll}\n",
       " Cafe\\_i & X & Y\\\\\n",
       "\\hline\n",
       "\t 4  & 9  &  8\\\\\n",
       "\t 2  & 8  &  7\\\\\n",
       "\t 3  & 7  & 10\\\\\n",
       "\t 5  & 5  &  4\\\\\n",
       "\t 1  & 3  &  6\\\\\n",
       "\\end{tabular}\n"
      ],
      "text/markdown": [
       "\n",
       "| Cafe_i | X | Y |\n",
       "|---|---|---|\n",
       "| 4  | 9  |  8 |\n",
       "| 2  | 8  |  7 |\n",
       "| 3  | 7  | 10 |\n",
       "| 5  | 5  |  4 |\n",
       "| 1  | 3  |  6 |\n",
       "\n"
      ],
      "text/plain": [
       "     Cafe_i X Y \n",
       "[1,] 4      9  8\n",
       "[2,] 2      8  7\n",
       "[3,] 3      7 10\n",
       "[4,] 5      5  4\n",
       "[5,] 1      3  6"
      ]
     },
     "metadata": {},
     "output_type": "display_data"
    }
   ],
   "source": [
    "Cafe_data = Cafe_data[order(Cafe_data[,'X'], decreasing=TRUE),]\n",
    "Cafe_data"
   ]
  },
  {
   "cell_type": "code",
   "execution_count": 16,
   "id": "1cdd8be7-fa45-44b1-86e5-eccc90045712",
   "metadata": {},
   "outputs": [],
   "source": [
    "CafeX = Cafe_data[,\"X\"]\n",
    "CafeY = Cafe_data[,\"Y\"]"
   ]
  },
  {
   "cell_type": "code",
   "execution_count": null,
   "id": "7926586b-05ba-4962-a3aa-4f2cd697c45d",
   "metadata": {},
   "outputs": [],
   "source": []
  },
  {
   "cell_type": "code",
   "execution_count": 17,
   "id": "627e43a4-a705-4596-a7c1-c88549d387a4",
   "metadata": {},
   "outputs": [
    {
     "name": "stdout",
     "output_type": "stream",
     "text": [
      "[1] \"Spearman's rank correlation on the accending orderd data = 0.6\"\n"
     ]
    }
   ],
   "source": [
    "# Now we will calculate the spearman's rank correlation on the decreasing ordered data.\n",
    "result = cor(CafeX, CafeY, method='spearman')\n",
    "print(paste(\"Spearman's rank correlation on the accending orderd data =\", result))"
   ]
  },
  {
   "cell_type": "markdown",
   "id": "64d7d25c-3fc3-4f47-b725-5ee8062b3278",
   "metadata": {},
   "source": [
    "`Conclusion:` As we can see that there is no difference in all of three calculation hence we can say that Spearman's R is not differ whether ranks are assigned in a decreasing or increasing order."
   ]
  },
  {
   "cell_type": "markdown",
   "id": "e3b339d3-929c-4d7e-b4c8-bd2c33f6426e",
   "metadata": {},
   "source": [
    "### if cofee are rated as good ($>5$) or bad ($\\leq5$)\n",
    "\n",
    "Now we need to make some modification on the dataset as asked, we need to put two condition on the dataset."
   ]
  },
  {
   "cell_type": "code",
   "execution_count": 20,
   "id": "79ec76f3-62d6-4742-b61d-96de1376a051",
   "metadata": {},
   "outputs": [],
   "source": [
    "Cafe_data2 = Cafe_data"
   ]
  },
  {
   "cell_type": "code",
   "execution_count": null,
   "id": "c5d09e65-07ee-4c11-90f7-3fb699cffd90",
   "metadata": {},
   "outputs": [],
   "source": []
  },
  {
   "cell_type": "code",
   "execution_count": 18,
   "id": "3c6f64ed-38ae-4c3d-8c57-75e3bd9c2c04",
   "metadata": {},
   "outputs": [
    {
     "ename": "ERROR",
     "evalue": "Error in table(c(Cafe_data2[, 2], Cafe_data2[, 3]), c(rep(\"X\", 5), rep(\"Y\", : object 'Cafe_data2' not found\n",
     "output_type": "error",
     "traceback": [
      "Error in table(c(Cafe_data2[, 2], Cafe_data2[, 3]), c(rep(\"X\", 5), rep(\"Y\", : object 'Cafe_data2' not found\nTraceback:\n",
      "1. addmargins(table(c(Cafe_data2[, 2], Cafe_data2[, 3]), c(rep(\"X\", \n .     5), rep(\"Y\", 5))))",
      "2. table(c(Cafe_data2[, 2], Cafe_data2[, 3]), c(rep(\"X\", 5), rep(\"Y\", \n .     5)))"
     ]
    }
   ],
   "source": [
    "# NOw we need to create a contingency table for this \n",
    "addmargins(table(c(Cafe_data2[,2],Cafe_data2[,3]), c(rep(\"X\",5),rep(\"Y\",5))))"
   ]
  },
  {
   "cell_type": "markdown",
   "id": "04efd031-1538-4aa5-aacb-5c3513c9f733",
   "metadata": {
    "tags": []
   },
   "source": [
    "**Question:** Do the chance of a good rating differ b/w thetwo journalists.\n",
    "\n",
    "`hint:` for this we need to calcuate the odd ratio. which gives us the ratio of chances of having an event or having a no-event.\n",
    "`Note:` we can only perform the odd ratio only on the 2 x 2 table so we need to extract the necessary data."
   ]
  },
  {
   "cell_type": "code",
   "execution_count": null,
   "id": "30966741-8c36-4a23-a695-e95de091bc88",
   "metadata": {
    "tags": []
   },
   "outputs": [],
   "source": [
    "Cafe_data3 = table(c(Cafe_data2[,2],Cafe_data2[,3]), c(rep(\"X\",5),rep(\"Y\",5)))\n",
    "Cafe_data3"
   ]
  },
  {
   "cell_type": "code",
   "execution_count": 68,
   "id": "b61a123e-30ff-4048-8b64-a5a41225bb9a",
   "metadata": {},
   "outputs": [],
   "source": [
    "# \n",
    "Odd.ratio = function(Dataset){\n",
    "    \n",
    "    if (all(dim(Dataset) == c(2,2))){\n",
    "        \n",
    "        risk1 = (Dataset[1,1]/sum(Dataset[,1]))/(Dataset[1,2]/sum(Dataset[,2]))\n",
    "        risk2 = (Dataset[2,1]/sum(Dataset[,1]))/(Dataset[2,2]/sum(Dataset[,2]))\n",
    "        \n",
    "\t\t# odd ratio is the ratio of having event to having no-event.\n",
    "        #print(paste(\"Relative risk1 = \",risk1))\n",
    "        #print(paste(\"Relative risk1 = \",risk2))\n",
    "        \n",
    "        OR = risk1/risk2\n",
    "        OR\n",
    "    }\n",
    "    else{print(\"Dataset should have a 2 x 2 dimension \")}\n",
    "}"
   ]
  },
  {
   "cell_type": "code",
   "execution_count": null,
   "id": "1e9df357-6448-465b-aad1-58c82498d34b",
   "metadata": {},
   "outputs": [],
   "source": [
    "Cafe_data3"
   ]
  },
  {
   "cell_type": "code",
   "execution_count": null,
   "id": "aeb1a724-0e3f-440b-95ac-3f0ffb583448",
   "metadata": {},
   "outputs": [],
   "source": [
    "OR = Odd.ratio(Cafe_data3)\n",
    "OR"
   ]
  },
  {
   "cell_type": "markdown",
   "id": "9365b6f8-f1da-4565-9b18-84cc4f57f5d5",
   "metadata": {},
   "source": [
    "* Above result shows that Bad rating is 2.66 times higher for X journalists compare to Y.\n",
    "* To calculate the Good rating we will inverse our result."
   ]
  },
  {
   "cell_type": "code",
   "execution_count": null,
   "id": "ce945a24-8931-4545-962a-a27357396ad3",
   "metadata": {},
   "outputs": [],
   "source": [
    "1/OR"
   ]
  },
  {
   "cell_type": "markdown",
   "id": "3ed5e749-5b78-4e87-b51c-939ad6504774",
   "metadata": {},
   "source": [
    "* above result shows that there is a 0.34 times higher good rating by Y journalists than good rating by X."
   ]
  },
  {
   "cell_type": "markdown",
   "id": "bb65a974-f4cd-49ff-8860-2096bdb34f73",
   "metadata": {},
   "source": [
    "___\n",
    "___"
   ]
  },
  {
   "cell_type": "code",
   "execution_count": null,
   "id": "19b021a6-09d1-4aa9-905d-7d4a4cae0b62",
   "metadata": {},
   "outputs": [],
   "source": [
    "table(Cafe_data2)"
   ]
  },
  {
   "cell_type": "markdown",
   "id": "61c0dd25-b950-4d5e-a34c-6b79717159c1",
   "metadata": {},
   "source": [
    "## Exercise 2"
   ]
  },
  {
   "cell_type": "markdown",
   "id": "99423864-7a98-4fce-b2a3-41a71b50afbb",
   "metadata": {},
   "source": [
    "A total of 150 customers of a petrol station are asked about their satisfaction with their car and motorbike insurance. The results are summarized below:"
   ]
  },
  {
   "cell_type": "markdown",
   "id": "0708b949-d258-4e45-837e-387594b69537",
   "metadata": {},
   "source": [
    "|-|Satisfied|Unsatisfied|Total|\n",
    "|----|-----|--|--|\n",
    "|Car|33|25|58|\n",
    "|Car (diesel engine)|29|31|60|\n",
    "|Motorbike|12|20|32|\n",
    "|___|___|___|___|\n",
    "|Total|74|76|150|"
   ]
  },
  {
   "cell_type": "markdown",
   "id": "8333284c-2b3e-4d76-9f90-5db0556a3629",
   "metadata": {},
   "source": [
    "* (a) Determine and interpret Pearson’s χ2 statistic, Cramer’s V , and Ccorr.\n",
    "* (b) Combine the categories “car” and “car (diesel engine)” and produce the corresponding 2 × 2 table. Calculate χ2 as efficiently as possible and give a meaningful interpretation of the odds ratio.\n",
    "* (c) Compare the results from (a) and (b)"
   ]
  },
  {
   "cell_type": "code",
   "execution_count": 7,
   "id": "ec0f9625-5f66-408a-8ecc-595e624f5dfe",
   "metadata": {},
   "outputs": [
    {
     "data": {
      "text/html": [
       "<table>\n",
       "<thead><tr><th></th><th scope=col>Satisfied</th><th scope=col>Unsatisfied</th></tr></thead>\n",
       "<tbody>\n",
       "\t<tr><th scope=row>Car</th><td>33</td><td>25</td></tr>\n",
       "\t<tr><th scope=row>Car (diesel engine)</th><td>29</td><td>31</td></tr>\n",
       "\t<tr><th scope=row>Motorbike</th><td>12</td><td>20</td></tr>\n",
       "</tbody>\n",
       "</table>\n"
      ],
      "text/latex": [
       "\\begin{tabular}{r|ll}\n",
       "  & Satisfied & Unsatisfied\\\\\n",
       "\\hline\n",
       "\tCar & 33 & 25\\\\\n",
       "\tCar (diesel engine) & 29 & 31\\\\\n",
       "\tMotorbike & 12 & 20\\\\\n",
       "\\end{tabular}\n"
      ],
      "text/markdown": [
       "\n",
       "| <!--/--> | Satisfied | Unsatisfied |\n",
       "|---|---|---|\n",
       "| Car | 33 | 25 |\n",
       "| Car (diesel engine) | 29 | 31 |\n",
       "| Motorbike | 12 | 20 |\n",
       "\n"
      ],
      "text/plain": [
       "                    Satisfied Unsatisfied\n",
       "Car                 33        25         \n",
       "Car (diesel engine) 29        31         \n",
       "Motorbike           12        20         "
      ]
     },
     "metadata": {},
     "output_type": "display_data"
    }
   ],
   "source": [
    "# first we will make  the contingency table\n",
    "\n",
    "Petrol_data = matrix(c(33,25,29,31, 12,20), ncol=2, byrow=T)\n",
    "\n",
    "colnames(Petrol_data) = c(\"Satisfied\", \"Unsatisfied\")\n",
    "rownames(Petrol_data) = c(\"Car\", \"Car (diesel engine)\", \"Motorbike\")\n",
    "\n",
    "Petrol_data"
   ]
  },
  {
   "cell_type": "code",
   "execution_count": 8,
   "id": "ff3147c8-fb48-4adb-bcc3-5d0e8ecf3fb1",
   "metadata": {},
   "outputs": [
    {
     "data": {
      "text/html": [
       "<table>\n",
       "<thead><tr><th></th><th scope=col>Satisfied</th><th scope=col>Unsatisfied</th><th scope=col>Sum</th></tr></thead>\n",
       "<tbody>\n",
       "\t<tr><th scope=row>Car</th><td>33 </td><td>25 </td><td> 58</td></tr>\n",
       "\t<tr><th scope=row>Car (diesel engine)</th><td>29 </td><td>31 </td><td> 60</td></tr>\n",
       "\t<tr><th scope=row>Motorbike</th><td>12 </td><td>20 </td><td> 32</td></tr>\n",
       "\t<tr><th scope=row>Sum</th><td>74 </td><td>76 </td><td>150</td></tr>\n",
       "</tbody>\n",
       "</table>\n"
      ],
      "text/latex": [
       "\\begin{tabular}{r|lll}\n",
       "  & Satisfied & Unsatisfied & Sum\\\\\n",
       "\\hline\n",
       "\tCar & 33  & 25  &  58\\\\\n",
       "\tCar (diesel engine) & 29  & 31  &  60\\\\\n",
       "\tMotorbike & 12  & 20  &  32\\\\\n",
       "\tSum & 74  & 76  & 150\\\\\n",
       "\\end{tabular}\n"
      ],
      "text/markdown": [
       "\n",
       "| <!--/--> | Satisfied | Unsatisfied | Sum |\n",
       "|---|---|---|---|\n",
       "| Car | 33  | 25  |  58 |\n",
       "| Car (diesel engine) | 29  | 31  |  60 |\n",
       "| Motorbike | 12  | 20  |  32 |\n",
       "| Sum | 74  | 76  | 150 |\n",
       "\n"
      ],
      "text/plain": [
       "                    Satisfied Unsatisfied Sum\n",
       "Car                 33        25           58\n",
       "Car (diesel engine) 29        31           60\n",
       "Motorbike           12        20           32\n",
       "Sum                 74        76          150"
      ]
     },
     "metadata": {},
     "output_type": "display_data"
    }
   ],
   "source": [
    "# contingency table \n",
    "addmargins(Petrol_data)"
   ]
  },
  {
   "cell_type": "markdown",
   "id": "55db4885-6125-4a52-9ce5-140bcea11b95",
   "metadata": {},
   "source": [
    "### Pearson's $\\chi^2$ Statistic"
   ]
  },
  {
   "cell_type": "code",
   "execution_count": 9,
   "id": "d40f7161-8069-4d3c-b2b7-81c347555732",
   "metadata": {},
   "outputs": [
    {
     "data": {
      "text/plain": [
       "\n",
       "\tPearson's Chi-squared test\n",
       "\n",
       "data:  Petrol_data\n",
       "X-squared = 3.144, df = 2, p-value = 0.2076\n"
      ]
     },
     "metadata": {},
     "output_type": "display_data"
    }
   ],
   "source": [
    "chisq.test(Petrol_data)"
   ]
  },
  {
   "cell_type": "code",
   "execution_count": 10,
   "id": "776f167d-8a64-4c44-a563-72f53c8710dd",
   "metadata": {},
   "outputs": [],
   "source": [
    "chisq.max.value = function(Dataset){\n",
    "    \n",
    "    # now first we need to get the dimension of the dataset.\n",
    "    n = sum(Dataset)\n",
    "    maxvalue = n*(min(dim(Dataset))-1)\n",
    "    maxvalue\n",
    "}"
   ]
  },
  {
   "cell_type": "code",
   "execution_count": 11,
   "id": "0307be5c-5f50-4b23-8ee4-1157f5065b95",
   "metadata": {},
   "outputs": [
    {
     "data": {
      "text/html": [
       "150"
      ],
      "text/latex": [
       "150"
      ],
      "text/markdown": [
       "150"
      ],
      "text/plain": [
       "[1] 150"
      ]
     },
     "metadata": {},
     "output_type": "display_data"
    }
   ],
   "source": [
    "chisq.max.value(Petrol_data)"
   ]
  },
  {
   "cell_type": "markdown",
   "id": "29434882-8e85-4f48-a08d-98889ddaf8d3",
   "metadata": {},
   "source": [
    "`Conclusion:` From this result we can say that there is no clear relationship by the satisfaction and the petorl on the petrol station."
   ]
  },
  {
   "cell_type": "markdown",
   "id": "8bf7f75f-1833-4bd3-9e17-884bb191415a",
   "metadata": {},
   "source": [
    "___\n",
    "### Carmer's V Statistic"
   ]
  },
  {
   "cell_type": "code",
   "execution_count": 12,
   "id": "6f460423-9c99-4136-842f-85eb8e3ffddb",
   "metadata": {},
   "outputs": [
    {
     "name": "stderr",
     "output_type": "stream",
     "text": [
      "Loading required package: grid\n"
     ]
    }
   ],
   "source": [
    "# To calculate the Carmer's V Statistic we need to import the vcd data\n",
    "library(vcd)"
   ]
  },
  {
   "cell_type": "code",
   "execution_count": 13,
   "id": "0b6aebf2-6d64-4288-8796-b703ec867bf1",
   "metadata": {},
   "outputs": [
    {
     "data": {
      "text/plain": [
       "                    X^2 df P(> X^2)\n",
       "Likelihood Ratio 3.1684  2  0.20512\n",
       "Pearson          3.1440  2  0.20763\n",
       "\n",
       "Phi-Coefficient   : NA \n",
       "Contingency Coeff.: 0.143 \n",
       "Cramer's V        : 0.145 "
      ]
     },
     "metadata": {},
     "output_type": "display_data"
    }
   ],
   "source": [
    "assocstats(Petrol_data)"
   ]
  },
  {
   "cell_type": "markdown",
   "id": "3164c3da-82d4-4239-aea2-3923734ef4bb",
   "metadata": {},
   "source": [
    "`Conclusion:` From the above result we can say that there is a very weak relationship b/w the satifation to the customers with petrol on a petrol station."
   ]
  },
  {
   "cell_type": "markdown",
   "id": "2313eb5f-a3ad-4c00-8c70-cd0ea3fec49d",
   "metadata": {},
   "source": [
    "___\n",
    "### Correlation Coefficient $C_{corr}$"
   ]
  },
  {
   "cell_type": "code",
   "execution_count": 14,
   "id": "13e39c05-4bbf-4048-a4d0-aec3232d741a",
   "metadata": {},
   "outputs": [
    {
     "data": {
      "text/html": [
       "0.202631407516001"
      ],
      "text/latex": [
       "0.202631407516001"
      ],
      "text/markdown": [
       "0.202631407516001"
      ],
      "text/plain": [
       "[1] 0.2026314"
      ]
     },
     "metadata": {},
     "output_type": "display_data"
    }
   ],
   "source": [
    "# to get the correlation coefficient we need to assocstats function from vcd library \n",
    "# from this we need to get the conttingency value and devide it by Cmax\n",
    "\n",
    "Cmax =  sqrt(min(dim(Petrol_data)-1)/ min(dim(Petrol_data)))\n",
    "assocstats(Petrol_data)$cont/Cmax"
   ]
  },
  {
   "cell_type": "markdown",
   "id": "3e9fd6bf-a589-47e3-8567-9e16ea890576",
   "metadata": {},
   "source": [
    "`Conclusion:` Our Correlation coefficient comes as : 0.20 which show a weak relationship b/w the Satisfaction and the Petrol Station."
   ]
  },
  {
   "cell_type": "markdown",
   "id": "57014383-6177-407c-931f-4e9b0bc49163",
   "metadata": {},
   "source": [
    "___\n",
    "___"
   ]
  },
  {
   "cell_type": "markdown",
   "id": "0aeca115-c66b-42d3-a726-db9be72c0119",
   "metadata": {},
   "source": [
    "### Odd Ratio on Car and Car (diesel engine) variables"
   ]
  },
  {
   "cell_type": "code",
   "execution_count": 15,
   "id": "51e948d4-a3bf-4020-a873-e316a04dfa09",
   "metadata": {},
   "outputs": [
    {
     "data": {
      "text/html": [
       "<table>\n",
       "<thead><tr><th></th><th scope=col>Satisfied</th><th scope=col>Unsatisfied</th></tr></thead>\n",
       "<tbody>\n",
       "\t<tr><th scope=row>Car</th><td>33</td><td>25</td></tr>\n",
       "\t<tr><th scope=row>Car (diesel engine)</th><td>29</td><td>31</td></tr>\n",
       "</tbody>\n",
       "</table>\n"
      ],
      "text/latex": [
       "\\begin{tabular}{r|ll}\n",
       "  & Satisfied & Unsatisfied\\\\\n",
       "\\hline\n",
       "\tCar & 33 & 25\\\\\n",
       "\tCar (diesel engine) & 29 & 31\\\\\n",
       "\\end{tabular}\n"
      ],
      "text/markdown": [
       "\n",
       "| <!--/--> | Satisfied | Unsatisfied |\n",
       "|---|---|---|\n",
       "| Car | 33 | 25 |\n",
       "| Car (diesel engine) | 29 | 31 |\n",
       "\n"
      ],
      "text/plain": [
       "                    Satisfied Unsatisfied\n",
       "Car                 33        25         \n",
       "Car (diesel engine) 29        31         "
      ]
     },
     "metadata": {},
     "output_type": "display_data"
    }
   ],
   "source": [
    "Petrol_data[1:2,]"
   ]
  },
  {
   "cell_type": "code",
   "execution_count": 16,
   "id": "8e204f78-6bef-4764-a137-96335d9df88c",
   "metadata": {},
   "outputs": [
    {
     "data": {
      "text/plain": [
       "\n",
       "\tPearson's Chi-squared test with Yates' continuity correction\n",
       "\n",
       "data:  Petrol_data[1:2, ]\n",
       "X-squared = 0.55785, df = 1, p-value = 0.4551\n"
      ]
     },
     "metadata": {},
     "output_type": "display_data"
    }
   ],
   "source": [
    "# performing the chi-square test on the above data.\n",
    "chisq.test(Petrol_data[1:2,])"
   ]
  },
  {
   "cell_type": "code",
   "execution_count": 17,
   "id": "b44d64ce-d7b7-4e45-acff-256339f129be",
   "metadata": {},
   "outputs": [
    {
     "data": {
      "text/html": [
       "118"
      ],
      "text/latex": [
       "118"
      ],
      "text/markdown": [
       "118"
      ],
      "text/plain": [
       "[1] 118"
      ]
     },
     "metadata": {},
     "output_type": "display_data"
    }
   ],
   "source": [
    "chisq.max.value(Petrol_data[1:2,])"
   ]
  },
  {
   "cell_type": "markdown",
   "id": "b2184490-7679-43f6-882d-eb6c63a00596",
   "metadata": {},
   "source": [
    "Now as asked in the questions we will calculate the odd ratio. for that we will use a custom function which is written bellow. "
   ]
  },
  {
   "cell_type": "code",
   "execution_count": 98,
   "id": "515358a6-662a-4084-b534-e36fd01a1807",
   "metadata": {},
   "outputs": [],
   "source": [
    "Odd.ratio = function(Dataset){\n",
    "    \n",
    "    if (all(dim(Dataset) == c(2,2))){ \n",
    "\t\t# odd ratio is the ratio of having event to having no-event.\n",
    "        OR = (Dataset[1,1]*Dataset[2,2]) / (Dataset[1,2] * Dataset[2,1])\n",
    "        OR\n",
    "    }\n",
    "    else{print(\"Dataset should have a 2 x 2 dimension \")}\n",
    "}"
   ]
  },
  {
   "cell_type": "code",
   "execution_count": 99,
   "id": "a0999077-c8e9-4a60-b62c-a33a28e6d21f",
   "metadata": {},
   "outputs": [
    {
     "data": {
      "text/html": [
       "1.41103448275862"
      ],
      "text/latex": [
       "1.41103448275862"
      ],
      "text/markdown": [
       "1.41103448275862"
      ],
      "text/plain": [
       "[1] 1.411034"
      ]
     },
     "metadata": {},
     "output_type": "display_data"
    }
   ],
   "source": [
    "Odd.ratio(Petrol_data[1:2,])"
   ]
  },
  {
   "cell_type": "markdown",
   "id": "91cea220-bfdd-49ae-a80e-9a8a094eb2c9",
   "metadata": {},
   "source": [
    "* The above interpretation show that the chance of Satisfaction for a car customers is 1.41 times higher than the Unsatisfaction for a car custmer."
   ]
  },
  {
   "cell_type": "markdown",
   "id": "4654355f-dabb-4f88-a22d-0fadca094bd4",
   "metadata": {},
   "source": [
    "### Comparing the result of above section"
   ]
  },
  {
   "cell_type": "markdown",
   "id": "608a7be1-54b8-4a7e-af9d-46ae14177a01",
   "metadata": {},
   "source": [
    "Later"
   ]
  },
  {
   "cell_type": "markdown",
   "id": "edb68368-0ae8-483b-83ea-2c8d7feec4bc",
   "metadata": {},
   "source": [
    "___\n",
    "___"
   ]
  },
  {
   "cell_type": "markdown",
   "id": "930534ed-cb53-4624-b86a-b4dff76071b3",
   "metadata": {},
   "source": [
    "## Exercise 3\n",
    "\n",
    "There has been a big debate about the usefulness of speed limits on\n",
    "public roads. Consider the following table which lists the speed limits for country\n",
    "roads (in miles/h) and traffic deaths (per 100 million km) for different countries in\n",
    "1986 when the debate was particularly serious:\n",
    "\n",
    "* (a) Draw the scatter plot for the two variables.\n",
    "* (b) Calculate the Bravais–Pearson and Spearman correlation coefficients. \n",
    "* (c) What are the effects on the correlation coefficients if the speed limit is given in\n",
    "km/h rather than miles/h (1 mile/h ≈ 1.61 km/h)?\n",
    "* (d) Consider one more observation: the speed limit for England was 70miles/h and\n",
    "the death rate was 3.1.\n",
    "    * (i) Add this observation to the scatter plot.\n",
    "    * (ii) Calculate the Bravais–Pearson correlation coefficient given this additional\n",
    "observation."
   ]
  },
  {
   "cell_type": "markdown",
   "id": "ca11e04a-d8c6-49cf-88c3-e7f173282de0",
   "metadata": {},
   "source": [
    "|Country|Speed Limit| Traffic deaths|\n",
    "|-------|-----------|---------------|\n",
    "|Denmark|55|4.1|\n",
    "|Japan|55|4.7|\n",
    "|Canada|60|4.3|\n",
    "|Netherlands|60|5.1|\n",
    "|Italy|75|6.1|"
   ]
  },
  {
   "cell_type": "code",
   "execution_count": 21,
   "id": "213880c8-c8af-4c5e-abe0-da751190ceb7",
   "metadata": {},
   "outputs": [],
   "source": [
    "# first we will make a the data with contingency with cbind metod.\n",
    "\n",
    "Country = c(\"Denmark\",\"Japan\",\"Canda\",\"Netherlands\",\"Italy\")\n",
    "Speed_limi = c(55, 55, 60, 60, 75)\n",
    "Traffic_deaths = c(4.1, 4.7, 4.3, 5.1, 6.1)"
   ]
  },
  {
   "cell_type": "code",
   "execution_count": 28,
   "id": "4ffc1df6-8c4a-4ce9-87de-1f5ce57e0c29",
   "metadata": {},
   "outputs": [
    {
     "data": {
      "text/html": [
       "<table>\n",
       "<thead><tr><th scope=col>Country</th><th scope=col>Speed_limi</th><th scope=col>Traffic_deaths</th></tr></thead>\n",
       "<tbody>\n",
       "\t<tr><td>Denmark    </td><td>55         </td><td>4.1        </td></tr>\n",
       "\t<tr><td>Japan      </td><td>55         </td><td>4.7        </td></tr>\n",
       "\t<tr><td>Canda      </td><td>60         </td><td>4.3        </td></tr>\n",
       "\t<tr><td>Netherlands</td><td>60         </td><td>5.1        </td></tr>\n",
       "\t<tr><td>Italy      </td><td>75         </td><td>6.1        </td></tr>\n",
       "</tbody>\n",
       "</table>\n"
      ],
      "text/latex": [
       "\\begin{tabular}{lll}\n",
       " Country & Speed\\_limi & Traffic\\_deaths\\\\\n",
       "\\hline\n",
       "\t Denmark     & 55          & 4.1        \\\\\n",
       "\t Japan       & 55          & 4.7        \\\\\n",
       "\t Canda       & 60          & 4.3        \\\\\n",
       "\t Netherlands & 60          & 5.1        \\\\\n",
       "\t Italy       & 75          & 6.1        \\\\\n",
       "\\end{tabular}\n"
      ],
      "text/markdown": [
       "\n",
       "| Country | Speed_limi | Traffic_deaths |\n",
       "|---|---|---|\n",
       "| Denmark     | 55          | 4.1         |\n",
       "| Japan       | 55          | 4.7         |\n",
       "| Canda       | 60          | 4.3         |\n",
       "| Netherlands | 60          | 5.1         |\n",
       "| Italy       | 75          | 6.1         |\n",
       "\n"
      ],
      "text/plain": [
       "     Country     Speed_limi Traffic_deaths\n",
       "[1,] Denmark     55         4.1           \n",
       "[2,] Japan       55         4.7           \n",
       "[3,] Canda       60         4.3           \n",
       "[4,] Netherlands 60         5.1           \n",
       "[5,] Italy       75         6.1           "
      ]
     },
     "metadata": {},
     "output_type": "display_data"
    }
   ],
   "source": [
    "Trafficdata = cbind(Country, Speed_limi, Traffic_deaths)\n",
    "Trafficdata"
   ]
  },
  {
   "cell_type": "markdown",
   "id": "6b284950-ddb1-4b2d-8263-6992fb686255",
   "metadata": {},
   "source": [
    "### Scatter plot b/w Speed limit and Traffic Deaths\n",
    "\n",
    "first we will plot the scatter plot b/w the speed limits and traffic deaths and we will see the realtionship and their direction."
   ]
  },
  {
   "cell_type": "code",
   "execution_count": 23,
   "id": "3c94d751-237a-48ff-9f17-357c892465b4",
   "metadata": {},
   "outputs": [
    {
     "data": {
      "image/png": "[encoded data removed]",
      "text/plain": [
       "Plot with title \"Traffic deaths related to speed limits.\""
      ]
     },
     "metadata": {},
     "output_type": "display_data"
    }
   ],
   "source": [
    "plot(x = Speed_limi,, y=Traffic_deaths, xlab=\"Speed Limits\", ylab=\"Traffic deaths\", pch=16, main=\"Traffic deaths related to speed limits.\")"
   ]
  },
  {
   "cell_type": "markdown",
   "id": "23cf2ba0-1f37-4c91-880b-9ad9b527fd53",
   "metadata": {},
   "source": [
    "**`Conlusion 1:`** From the above result we can say that there is a positive correlation b/w the speed limits and traffic deaths this shows that as we increases the speed limits there is a high chance of high number of deaths."
   ]
  },
  {
   "cell_type": "markdown",
   "id": "6acccba9-56cb-4dd3-a2b2-2777fca8c8c5",
   "metadata": {},
   "source": [
    "___"
   ]
  },
  {
   "cell_type": "markdown",
   "id": "44f75aac-dd4a-4b91-b124-da700479cd45",
   "metadata": {},
   "source": [
    "### Bravais-Pearson and Spearman correlation coefficients \n",
    "\n",
    "Now we will check the correlation b/w the speed limit and the traffic deaths which will define that how much traffic deaths are stronglly related to the speed limit. "
   ]
  },
  {
   "cell_type": "code",
   "execution_count": 24,
   "id": "5c211b09-2d3d-48ea-92b8-4a5369a877ba",
   "metadata": {},
   "outputs": [
    {
     "name": "stdout",
     "output_type": "stream",
     "text": [
      "[1] \"Pearson correlation Coefficient:  0.890832976662577\"\n",
      "[1] \"Spearson Correlation Coefficient:  0.737864787372622\"\n"
     ]
    }
   ],
   "source": [
    "# To calculate the Bravais-Pearson and Spearman Correlation coefficients \n",
    "# we need to use cor() function and need to use pearson and spearman method on method argument in the cor() function.\n",
    "\n",
    "pearson_cor = cor(Speed_limi, Traffic_deaths, method='pearson')\n",
    "spearman_cor = cor(Speed_limi, Traffic_deaths, method='spearman')\n",
    "\n",
    "\n",
    "print(paste(\"Pearson correlation Coefficient: \", pearson_cor))\n",
    "print(paste(\"Spearson Correlation Coefficient: \", spearman_cor))"
   ]
  },
  {
   "cell_type": "markdown",
   "id": "a40994b4-9d8d-43ed-a76b-7bf5ff3f3e2d",
   "metadata": {},
   "source": [
    "**`Conclusion 2:`** Both the correlation coefficient shows that there is a strong relationship b/w the Speed limits and traffic deaths."
   ]
  },
  {
   "cell_type": "markdown",
   "id": "e2ab4a87-5fff-4a41-8e7d-4368c3101c6f",
   "metadata": {},
   "source": [
    "___"
   ]
  },
  {
   "cell_type": "markdown",
   "id": "015da07e-e6bb-44b6-b2b1-ef5d0ea56056",
   "metadata": {},
   "source": [
    "### Note: \n",
    "**There will be no change in the correlation coefficient, if we changes the units of the speed limits.** "
   ]
  },
  {
   "cell_type": "markdown",
   "id": "f1f40d2d-8e2d-4bfb-8685-5da88fa1bb3e",
   "metadata": {},
   "source": [
    "### Bravais-Pearson and Spearman correlation coefficients with new data."
   ]
  },
  {
   "cell_type": "markdown",
   "id": "437742d2-c8ed-4c66-af98-b254c58d0cf4",
   "metadata": {},
   "source": [
    "if we add one more observation to over dataset like England was 70 miles/h and the death rate was 3.1, if we add this what will happan in the result."
   ]
  },
  {
   "cell_type": "markdown",
   "id": "7ad578ce-71da-43e6-ab61-6bd8ae88ab9b",
   "metadata": {},
   "source": [
    "#### addition into the dataset."
   ]
  },
  {
   "cell_type": "code",
   "execution_count": 32,
   "id": "14f5269f-91b5-4429-aab4-e7668a5dee5c",
   "metadata": {},
   "outputs": [],
   "source": [
    "Trafficdata = rbind(Trafficdata, c(\"England\", 70, 3.1))"
   ]
  },
  {
   "cell_type": "code",
   "execution_count": 33,
   "id": "34d6c89d-725d-4545-bdc8-7d1da989fdae",
   "metadata": {},
   "outputs": [
    {
     "data": {
      "text/html": [
       "<table>\n",
       "<thead><tr><th scope=col>Country</th><th scope=col>Speed_limi</th><th scope=col>Traffic_deaths</th></tr></thead>\n",
       "<tbody>\n",
       "\t<tr><td>Denmark    </td><td>55         </td><td>4.1        </td></tr>\n",
       "\t<tr><td>Japan      </td><td>55         </td><td>4.7        </td></tr>\n",
       "\t<tr><td>Canda      </td><td>60         </td><td>4.3        </td></tr>\n",
       "\t<tr><td>Netherlands</td><td>60         </td><td>5.1        </td></tr>\n",
       "\t<tr><td>Italy      </td><td>75         </td><td>6.1        </td></tr>\n",
       "\t<tr><td>England    </td><td>70         </td><td>3.1        </td></tr>\n",
       "</tbody>\n",
       "</table>\n"
      ],
      "text/latex": [
       "\\begin{tabular}{lll}\n",
       " Country & Speed\\_limi & Traffic\\_deaths\\\\\n",
       "\\hline\n",
       "\t Denmark     & 55          & 4.1        \\\\\n",
       "\t Japan       & 55          & 4.7        \\\\\n",
       "\t Canda       & 60          & 4.3        \\\\\n",
       "\t Netherlands & 60          & 5.1        \\\\\n",
       "\t Italy       & 75          & 6.1        \\\\\n",
       "\t England     & 70          & 3.1        \\\\\n",
       "\\end{tabular}\n"
      ],
      "text/markdown": [
       "\n",
       "| Country | Speed_limi | Traffic_deaths |\n",
       "|---|---|---|\n",
       "| Denmark     | 55          | 4.1         |\n",
       "| Japan       | 55          | 4.7         |\n",
       "| Canda       | 60          | 4.3         |\n",
       "| Netherlands | 60          | 5.1         |\n",
       "| Italy       | 75          | 6.1         |\n",
       "| England     | 70          | 3.1         |\n",
       "\n"
      ],
      "text/plain": [
       "     Country     Speed_limi Traffic_deaths\n",
       "[1,] Denmark     55         4.1           \n",
       "[2,] Japan       55         4.7           \n",
       "[3,] Canda       60         4.3           \n",
       "[4,] Netherlands 60         5.1           \n",
       "[5,] Italy       75         6.1           \n",
       "[6,] England     70         3.1           "
      ]
     },
     "metadata": {},
     "output_type": "display_data"
    }
   ],
   "source": [
    "Trafficdata"
   ]
  },
  {
   "cell_type": "markdown",
   "id": "d8b41947-0167-441a-a78b-20d5e6b65d5a",
   "metadata": {},
   "source": [
    "#### Plotting Scatter Plot"
   ]
  },
  {
   "cell_type": "code",
   "execution_count": 36,
   "id": "fba4b531-63ee-4de9-ae4e-28205faa1dad",
   "metadata": {},
   "outputs": [
    {
     "data": {
      "image/png": "[encoded data removed]",
      "text/plain": [
       "plot without title"
      ]
     },
     "metadata": {},
     "output_type": "display_data"
    }
   ],
   "source": [
    "plot(x= Trafficdata[,\"Speed_limi\"],y= Trafficdata[,\"Traffic_deaths\"] , xlab='Speed limits', ylab='Traffic deaths')"
   ]
  },
  {
   "cell_type": "markdown",
   "id": "c047e7b6-734b-4544-8225-14323ef4207d",
   "metadata": {},
   "source": [
    "#### Correlation Coefficient:"
   ]
  },
  {
   "cell_type": "code",
   "execution_count": 40,
   "id": "3a28dd50-51bd-42a1-9196-ec03d5d2343d",
   "metadata": {},
   "outputs": [
    {
     "name": "stdout",
     "output_type": "stream",
     "text": [
      "[1] \"Pearson correlation Coefficient:  0.241191535097474\"\n",
      "[1] \"Spearson Correlation Coefficient:  0.264820448851425\"\n"
     ]
    }
   ],
   "source": [
    "Speed_limi = append(Speed_limi, 70)\n",
    "Traffic_deaths =  append(Traffic_deaths, 3.1)\n",
    "\n",
    "pearson_cor = cor(Speed_limi, Traffic_deaths, method='pearson')\n",
    "spearman_cor = cor(Speed_limi, Traffic_deaths, method='spearman')\n",
    "\n",
    "\n",
    "print(paste(\"Pearson correlation Coefficient: \", pearson_cor))\n",
    "print(paste(\"Spearson Correlation Coefficient: \", spearman_cor))"
   ]
  },
  {
   "cell_type": "markdown",
   "id": "2923ae99-31e0-4f5a-a5e0-dd4f12229130",
   "metadata": {},
   "source": [
    "`Conclusion:` From one single data entry we can see that there is a drop of .50 in value which shows a weak realtionship b/w the Speed limits and the Traffic deaths.\n",
    "\n",
    "Note: This new entry can be outlier which need to be filter during the analysis, outliers can make our analysis difficult and may lead us to wrong assumption, so we need to take care of the outlier.\n",
    "\n",
    "To find out the outlier we can use the box-plot."
   ]
  },
  {
   "cell_type": "markdown",
   "id": "51ce5cfe-434d-41e0-817f-2ddc7a028873",
   "metadata": {},
   "source": [
    "____\n",
    "____"
   ]
  },
  {
   "cell_type": "markdown",
   "id": "3a95159e-4e47-4c41-9627-2cc8c6045e58",
   "metadata": {},
   "source": [
    "## Exercies 4:\n",
    "\n",
    "The famous passenger liner Titanic hit an iceberg in 1912 and sank. A\n",
    "total of 337 passengers travelled in first class, 285 in second class, and 721in third\n",
    "class. In addition, there were 885 staff members on board. Not all passengers could\n",
    "be rescued. Only the following were rescued: 135 from the first class, 160 from the\n",
    "second class, 541 from the third class and 674 staff.\n",
    "\n",
    "1. Determine and interpret the contingency table for the variables “travel class”\n",
    "and “rescue status”.\n",
    "2. Use a contingency table to summarize the conditional relative frequency distributions of rescue status given travel class. Could there be an association of the\n",
    "two variables?\n",
    "3. What would the contingency table from (a) look like under the independence\n",
    "assumption? Calculate Cramer’s V statistic. Is there any association between\n",
    "travel class and rescue status?\n",
    "4. Combine the categories “first class” and “second class” as well as “third class”\n",
    "and “staff”. Create a contingency table based on these new categories. Determine\n",
    "and interpret Cramer’s V , the odds ratio, and relative risks of your choice.\n",
    "5. Given the results from (1) to (4), what are your conclusions?"
   ]
  },
  {
   "cell_type": "markdown",
   "id": "ea8c693c-e149-48ce-977a-dd01938727d3",
   "metadata": {},
   "source": [
    "### Creating dataset"
   ]
  },
  {
   "cell_type": "code",
   "execution_count": 29,
   "id": "9791a1b1-5600-4884-bdeb-e46f7572d73c",
   "metadata": {},
   "outputs": [],
   "source": [
    "Titanic = matrix(c(135, 202, 160, 125, 541, 180, 674, 207), ncol=2, byrow=T)\n",
    "colnames(Titanic) = c(\"Rescued\", \"NotRescued\")\n",
    "rownames(Titanic) = c(\"First Class\", \"Second Class\", \"Third Class\",\"Staff\")"
   ]
  },
  {
   "cell_type": "code",
   "execution_count": 30,
   "id": "1d66540b-387a-4d25-b6b0-49722d12fc6a",
   "metadata": {},
   "outputs": [
    {
     "data": {
      "text/html": [
       "<table>\n",
       "<thead><tr><th></th><th scope=col>Rescued</th><th scope=col>NotRescued</th></tr></thead>\n",
       "<tbody>\n",
       "\t<tr><th scope=row>First Class</th><td>135</td><td>202</td></tr>\n",
       "\t<tr><th scope=row>Second Class</th><td>160</td><td>125</td></tr>\n",
       "\t<tr><th scope=row>Third Class</th><td>541</td><td>180</td></tr>\n",
       "\t<tr><th scope=row>Staff</th><td>674</td><td>207</td></tr>\n",
       "</tbody>\n",
       "</table>\n"
      ],
      "text/latex": [
       "\\begin{tabular}{r|ll}\n",
       "  & Rescued & NotRescued\\\\\n",
       "\\hline\n",
       "\tFirst Class & 135 & 202\\\\\n",
       "\tSecond Class & 160 & 125\\\\\n",
       "\tThird Class & 541 & 180\\\\\n",
       "\tStaff & 674 & 207\\\\\n",
       "\\end{tabular}\n"
      ],
      "text/markdown": [
       "\n",
       "| <!--/--> | Rescued | NotRescued |\n",
       "|---|---|---|\n",
       "| First Class | 135 | 202 |\n",
       "| Second Class | 160 | 125 |\n",
       "| Third Class | 541 | 180 |\n",
       "| Staff | 674 | 207 |\n",
       "\n"
      ],
      "text/plain": [
       "             Rescued NotRescued\n",
       "First Class  135     202       \n",
       "Second Class 160     125       \n",
       "Third Class  541     180       \n",
       "Staff        674     207       "
      ]
     },
     "metadata": {},
     "output_type": "display_data"
    }
   ],
   "source": [
    "Titanic"
   ]
  },
  {
   "cell_type": "markdown",
   "id": "4b429ba8-56a4-4f5b-a732-79bb68b81b3e",
   "metadata": {},
   "source": [
    "### Contingency table and its interpretation"
   ]
  },
  {
   "cell_type": "code",
   "execution_count": 54,
   "id": "6734df2e-9a41-470d-b906-3539fd295944",
   "metadata": {},
   "outputs": [
    {
     "data": {
      "text/html": [
       "<table>\n",
       "<thead><tr><th></th><th scope=col>Rescued</th><th scope=col>NotRescued</th><th scope=col>Sum</th></tr></thead>\n",
       "<tbody>\n",
       "\t<tr><th scope=row>First Class</th><td> 135</td><td>202 </td><td> 337</td></tr>\n",
       "\t<tr><th scope=row>Second Class</th><td> 160</td><td>125 </td><td> 285</td></tr>\n",
       "\t<tr><th scope=row>Third Class</th><td> 541</td><td>180 </td><td> 721</td></tr>\n",
       "\t<tr><th scope=row>Staff</th><td> 674</td><td>207 </td><td> 881</td></tr>\n",
       "\t<tr><th scope=row>Sum</th><td>1510</td><td>714 </td><td>2224</td></tr>\n",
       "</tbody>\n",
       "</table>\n"
      ],
      "text/latex": [
       "\\begin{tabular}{r|lll}\n",
       "  & Rescued & NotRescued & Sum\\\\\n",
       "\\hline\n",
       "\tFirst Class &  135 & 202  &  337\\\\\n",
       "\tSecond Class &  160 & 125  &  285\\\\\n",
       "\tThird Class &  541 & 180  &  721\\\\\n",
       "\tStaff &  674 & 207  &  881\\\\\n",
       "\tSum & 1510 & 714  & 2224\\\\\n",
       "\\end{tabular}\n"
      ],
      "text/markdown": [
       "\n",
       "| <!--/--> | Rescued | NotRescued | Sum |\n",
       "|---|---|---|---|\n",
       "| First Class |  135 | 202  |  337 |\n",
       "| Second Class |  160 | 125  |  285 |\n",
       "| Third Class |  541 | 180  |  721 |\n",
       "| Staff |  674 | 207  |  881 |\n",
       "| Sum | 1510 | 714  | 2224 |\n",
       "\n"
      ],
      "text/plain": [
       "             Rescued NotRescued Sum \n",
       "First Class   135    202         337\n",
       "Second Class  160    125         285\n",
       "Third Class   541    180         721\n",
       "Staff         674    207         881\n",
       "Sum          1510    714        2224"
      ]
     },
     "metadata": {},
     "output_type": "display_data"
    }
   ],
   "source": [
    "addmargins(Titanic)"
   ]
  },
  {
   "cell_type": "markdown",
   "id": "b2a7a60f-4b1c-437f-b6b2-69cdd6bfa8e7",
   "metadata": {},
   "source": [
    "From the above output we can say that there are 2224 people on the titanic during the collison with iceberg, and from them there were only 1510 people were saved from all of them.\n",
    "\n",
    "**Note:** Both the variables, Travel class (X), and Rescue Status (Y) are Categorical variable so we cant perform Pearson and Spearman's Correlation coefficient to measure the association of b/w them. \n",
    " * For Categorical variable we need to perfomr the Chi-Square test and Carmer's V test to measure the association of two variables. "
   ]
  },
  {
   "cell_type": "code",
   "execution_count": 39,
   "id": "81babc9d-7231-4ec0-8b2d-43660928c924",
   "metadata": {},
   "outputs": [],
   "source": [
    "First_class = cbind(class= c(rep(1, 337)), status = c(rep(1, 135), rep(0, 202)))\n",
    "Second_class = cbind(class = c(rep(2, 285,)), status = c(rep(1, 160), rep(0, 125)))\n",
    "Third_class = cbind(class = c(rep(3, 721,)), status = c(rep(1, 541), rep(0, 180)))\n",
    "Staff = cbind(class = c(rep(4, 881,)), status = c(rep(1, 674), rep(0, 207)))"
   ]
  },
  {
   "cell_type": "code",
   "execution_count": 41,
   "id": "1ec322a0-cac1-490a-b90c-1f751540a7ce",
   "metadata": {},
   "outputs": [],
   "source": [
    "Titanic2 = rbind(First_class, Second_class, Third_class, Staff)\n",
    "\n",
    "Titanic_class = Titanic2[, 'class']\n",
    "Titanic_status = Titanic2[,'status']"
   ]
  },
  {
   "cell_type": "code",
   "execution_count": null,
   "id": "c2ead66f-3005-48d7-87f8-bf147793699d",
   "metadata": {},
   "outputs": [],
   "source": []
  },
  {
   "cell_type": "code",
   "execution_count": 106,
   "id": "e0d60692-f0b4-4425-b46e-4b819f76e30f",
   "metadata": {},
   "outputs": [
    {
     "data": {
      "text/plain": [
       "   \n",
       "      0   1\n",
       "  1 202 135\n",
       "  2 125 160\n",
       "  3 180 541\n",
       "  4 207 674"
      ]
     },
     "metadata": {},
     "output_type": "display_data"
    }
   ],
   "source": [
    "table(Titanic2[,1], Titanic2[,2])"
   ]
  },
  {
   "cell_type": "code",
   "execution_count": null,
   "id": "d4023a3e-5115-4d56-aa5e-dbad85b80b32",
   "metadata": {},
   "outputs": [],
   "source": []
  },
  {
   "cell_type": "markdown",
   "id": "ddc6c87f-e714-4d78-8040-709eb68aed12",
   "metadata": {},
   "source": [
    "### Conditional relative frequency"
   ]
  },
  {
   "cell_type": "code",
   "execution_count": 55,
   "id": "2a48b67d-102a-4a8e-b871-d92947ab4182",
   "metadata": {},
   "outputs": [
    {
     "data": {
      "text/html": [
       "<table>\n",
       "<thead><tr><th></th><th scope=col>Rescued</th><th scope=col>NotRescued</th><th scope=col>Sum</th></tr></thead>\n",
       "<tbody>\n",
       "\t<tr><th scope=row>First Class</th><td>0.06070144</td><td>0.09082734</td><td>0.1515288 </td></tr>\n",
       "\t<tr><th scope=row>Second Class</th><td>0.07194245</td><td>0.05620504</td><td>0.1281475 </td></tr>\n",
       "\t<tr><th scope=row>Third Class</th><td>0.24325540</td><td>0.08093525</td><td>0.3241906 </td></tr>\n",
       "\t<tr><th scope=row>Staff</th><td>0.30305755</td><td>0.09307554</td><td>0.3961331 </td></tr>\n",
       "\t<tr><th scope=row>Sum</th><td>0.67895683</td><td>0.32104317</td><td>1.0000000 </td></tr>\n",
       "</tbody>\n",
       "</table>\n"
      ],
      "text/latex": [
       "\\begin{tabular}{r|lll}\n",
       "  & Rescued & NotRescued & Sum\\\\\n",
       "\\hline\n",
       "\tFirst Class & 0.06070144 & 0.09082734 & 0.1515288 \\\\\n",
       "\tSecond Class & 0.07194245 & 0.05620504 & 0.1281475 \\\\\n",
       "\tThird Class & 0.24325540 & 0.08093525 & 0.3241906 \\\\\n",
       "\tStaff & 0.30305755 & 0.09307554 & 0.3961331 \\\\\n",
       "\tSum & 0.67895683 & 0.32104317 & 1.0000000 \\\\\n",
       "\\end{tabular}\n"
      ],
      "text/markdown": [
       "\n",
       "| <!--/--> | Rescued | NotRescued | Sum |\n",
       "|---|---|---|---|\n",
       "| First Class | 0.06070144 | 0.09082734 | 0.1515288  |\n",
       "| Second Class | 0.07194245 | 0.05620504 | 0.1281475  |\n",
       "| Third Class | 0.24325540 | 0.08093525 | 0.3241906  |\n",
       "| Staff | 0.30305755 | 0.09307554 | 0.3961331  |\n",
       "| Sum | 0.67895683 | 0.32104317 | 1.0000000  |\n",
       "\n"
      ],
      "text/plain": [
       "             Rescued    NotRescued Sum      \n",
       "First Class  0.06070144 0.09082734 0.1515288\n",
       "Second Class 0.07194245 0.05620504 0.1281475\n",
       "Third Class  0.24325540 0.08093525 0.3241906\n",
       "Staff        0.30305755 0.09307554 0.3961331\n",
       "Sum          0.67895683 0.32104317 1.0000000"
      ]
     },
     "metadata": {},
     "output_type": "display_data"
    }
   ],
   "source": [
    "addmargins(prop.table(Titanic))"
   ]
  },
  {
   "cell_type": "markdown",
   "id": "6032f6ba-7798-4d8b-b9ef-1ccdb838d2c7",
   "metadata": {},
   "source": [
    "From the proportion table we can say that 68 percent people were saved, there were 30% from staff, 24% from third class, 7% from second class, 6% from  first class.  "
   ]
  },
  {
   "cell_type": "markdown",
   "id": "823a316c-e5b9-49a2-8388-6b96c668851f",
   "metadata": {},
   "source": [
    "### Association of travel class and rescue status."
   ]
  },
  {
   "cell_type": "markdown",
   "id": "b5fd9c8c-3a55-4c30-9342-fc39abf0a898",
   "metadata": {},
   "source": [
    "Now we we will check the relation b/w the rescue status and the travel class, to check this we will use the correlation coefficient method of pearson and spearman both."
   ]
  },
  {
   "cell_type": "code",
   "execution_count": 73,
   "id": "1b7e42c2-833a-4638-92ae-4f54e732a11a",
   "metadata": {},
   "outputs": [],
   "source": [
    "Titanicdata = data.frame(Titanic)"
   ]
  },
  {
   "cell_type": "code",
   "execution_count": null,
   "id": "071fb21e-8036-4c11-bb44-a0b78f408a82",
   "metadata": {},
   "outputs": [],
   "source": []
  },
  {
   "cell_type": "code",
   "execution_count": 75,
   "id": "77c4d34f-c428-4387-ae83-a0b6252f1687",
   "metadata": {},
   "outputs": [],
   "source": [
    "Titanicdata[\"Class_level\"] = c(1,2,3,4)"
   ]
  },
  {
   "cell_type": "code",
   "execution_count": 76,
   "id": "0f43fb39-3d44-4b41-b9da-b1b83773c0e4",
   "metadata": {},
   "outputs": [
    {
     "data": {
      "text/html": [
       "<table>\n",
       "<thead><tr><th></th><th scope=col>Rescued</th><th scope=col>NotRescued</th><th scope=col>Class_level</th></tr></thead>\n",
       "<tbody>\n",
       "\t<tr><th scope=row>First Class</th><td>135</td><td>202</td><td>1  </td></tr>\n",
       "\t<tr><th scope=row>Second Class</th><td>160</td><td>125</td><td>2  </td></tr>\n",
       "\t<tr><th scope=row>Third Class</th><td>541</td><td>180</td><td>3  </td></tr>\n",
       "\t<tr><th scope=row>Staff</th><td>674</td><td>207</td><td>4  </td></tr>\n",
       "</tbody>\n",
       "</table>\n"
      ],
      "text/latex": [
       "\\begin{tabular}{r|lll}\n",
       "  & Rescued & NotRescued & Class\\_level\\\\\n",
       "\\hline\n",
       "\tFirst Class & 135 & 202 & 1  \\\\\n",
       "\tSecond Class & 160 & 125 & 2  \\\\\n",
       "\tThird Class & 541 & 180 & 3  \\\\\n",
       "\tStaff & 674 & 207 & 4  \\\\\n",
       "\\end{tabular}\n"
      ],
      "text/markdown": [
       "\n",
       "| <!--/--> | Rescued | NotRescued | Class_level |\n",
       "|---|---|---|---|\n",
       "| First Class | 135 | 202 | 1   |\n",
       "| Second Class | 160 | 125 | 2   |\n",
       "| Third Class | 541 | 180 | 3   |\n",
       "| Staff | 674 | 207 | 4   |\n",
       "\n"
      ],
      "text/plain": [
       "             Rescued NotRescued Class_level\n",
       "First Class  135     202        1          \n",
       "Second Class 160     125        2          \n",
       "Third Class  541     180        3          \n",
       "Staff        674     207        4          "
      ]
     },
     "metadata": {},
     "output_type": "display_data"
    }
   ],
   "source": [
    "Titanicdata"
   ]
  },
  {
   "cell_type": "markdown",
   "id": "40e3276e-40ab-4238-97d2-3a7bd8705b74",
   "metadata": {},
   "source": [
    "**Association b/w two variables:** There might be a relation b/w the two variables but we can say about the direction and strongness of the relation b/w the vairables, for that we need to perform the chi-square test or Carmer's V test."
   ]
  },
  {
   "cell_type": "markdown",
   "id": "71b0dcbb-5481-4d7b-be8a-1050a80058a6",
   "metadata": {},
   "source": [
    "### Assumpation of independency\n",
    "\n",
    "if these two variables are independent then our Contingency table would be look like this."
   ]
  },
  {
   "cell_type": "code",
   "execution_count": 109,
   "id": "e633e56e-6df8-4f14-b79d-7b3ea54baf2e",
   "metadata": {},
   "outputs": [
    {
     "data": {
      "text/html": [
       "<table>\n",
       "<thead><tr><th></th><th scope=col>Rescued</th><th scope=col>Not Rescued</th><th scope=col>Sum</th></tr></thead>\n",
       "<tbody>\n",
       "\t<tr><th scope=row>First Class</th><td> 168.5</td><td> 168.5</td><td> 337  </td></tr>\n",
       "\t<tr><th scope=row>Second Class</th><td> 142.5</td><td> 142.5</td><td> 285  </td></tr>\n",
       "\t<tr><th scope=row>Third Class</th><td> 360.5</td><td> 360.5</td><td> 721  </td></tr>\n",
       "\t<tr><th scope=row>Staff</th><td> 440.5</td><td> 440.5</td><td> 881  </td></tr>\n",
       "\t<tr><th scope=row>Sum</th><td>1112.0</td><td>1112.0</td><td>2224  </td></tr>\n",
       "</tbody>\n",
       "</table>\n"
      ],
      "text/latex": [
       "\\begin{tabular}{r|lll}\n",
       "  & Rescued & Not Rescued & Sum\\\\\n",
       "\\hline\n",
       "\tFirst Class &  168.5 &  168.5 &  337  \\\\\n",
       "\tSecond Class &  142.5 &  142.5 &  285  \\\\\n",
       "\tThird Class &  360.5 &  360.5 &  721  \\\\\n",
       "\tStaff &  440.5 &  440.5 &  881  \\\\\n",
       "\tSum & 1112.0 & 1112.0 & 2224  \\\\\n",
       "\\end{tabular}\n"
      ],
      "text/markdown": [
       "\n",
       "| <!--/--> | Rescued | Not Rescued | Sum |\n",
       "|---|---|---|---|\n",
       "| First Class |  168.5 |  168.5 |  337   |\n",
       "| Second Class |  142.5 |  142.5 |  285   |\n",
       "| Third Class |  360.5 |  360.5 |  721   |\n",
       "| Staff |  440.5 |  440.5 |  881   |\n",
       "| Sum | 1112.0 | 1112.0 | 2224   |\n",
       "\n"
      ],
      "text/plain": [
       "              Rescue_Status\n",
       "Travel_class   Rescued Not Rescued Sum \n",
       "  First Class   168.5   168.5       337\n",
       "  Second Class  142.5   142.5       285\n",
       "  Third Class   360.5   360.5       721\n",
       "  Staff         440.5   440.5       881\n",
       "  Sum          1112.0  1112.0      2224"
      ]
     },
     "metadata": {},
     "output_type": "display_data"
    }
   ],
   "source": [
    "titanic_independent = matrix(c(168.5, 168.5, 142.5, 142.5, 360.5, 360.5, 440.5, 440.5), ncol=2, byrow=T)\n",
    "dimnames(titanic_independent) = list(Travel_class = c(\"First Class\", \"Second Class\", \"Third Class\", \"Staff\"), \n",
    "                                    Rescue_Status = c(\"Rescued\", \"Not Rescued\"))\n",
    "addmargins(titanic_independent)"
   ]
  },
  {
   "cell_type": "markdown",
   "id": "80f6b72d-9bc3-4ff1-a455-cc70a77c01d9",
   "metadata": {},
   "source": [
    "If our two variables were independent then our Contingency table would look like this, but our table is not like this then we can say that our variable are somehow related to each other, but yet we can't say about strongness and direction of the association b/w the travel class and Rescue status.  "
   ]
  },
  {
   "cell_type": "code",
   "execution_count": 112,
   "id": "5c51b258-f12b-48b4-892d-c803a2197e6d",
   "metadata": {},
   "outputs": [
    {
     "data": {
      "text/plain": [
       "\n",
       "\tPearson's Chi-squared test\n",
       "\n",
       "data:  titanic_independent\n",
       "X-squared = 0, df = 3, p-value = 1\n"
      ]
     },
     "metadata": {},
     "output_type": "display_data"
    }
   ],
   "source": [
    "chisq.test(titanic_independent)"
   ]
  },
  {
   "cell_type": "markdown",
   "id": "b1f8281d-38e4-4849-8b56-f9d6abfa80d0",
   "metadata": {},
   "source": [
    "### Pearson $\\chi^2$ test"
   ]
  },
  {
   "cell_type": "markdown",
   "id": "2ea8c655-568b-4077-a5b0-54024e4753d5",
   "metadata": {},
   "source": [
    "Now we will perform a chi-square test to check the relation b/w the two categorical varibable."
   ]
  },
  {
   "cell_type": "code",
   "execution_count": 111,
   "id": "2e30d224-400f-40d9-abcc-b9f4ca635c39",
   "metadata": {},
   "outputs": [
    {
     "data": {
      "text/html": [
       "<table>\n",
       "<thead><tr><th></th><th scope=col>Rescued</th><th scope=col>NotRescued</th></tr></thead>\n",
       "<tbody>\n",
       "\t<tr><th scope=row>First Class</th><td>135</td><td>202</td></tr>\n",
       "\t<tr><th scope=row>Second Class</th><td>160</td><td>125</td></tr>\n",
       "\t<tr><th scope=row>Third Class</th><td>541</td><td>180</td></tr>\n",
       "\t<tr><th scope=row>Staff</th><td>674</td><td>207</td></tr>\n",
       "</tbody>\n",
       "</table>\n"
      ],
      "text/latex": [
       "\\begin{tabular}{r|ll}\n",
       "  & Rescued & NotRescued\\\\\n",
       "\\hline\n",
       "\tFirst Class & 135 & 202\\\\\n",
       "\tSecond Class & 160 & 125\\\\\n",
       "\tThird Class & 541 & 180\\\\\n",
       "\tStaff & 674 & 207\\\\\n",
       "\\end{tabular}\n"
      ],
      "text/markdown": [
       "\n",
       "| <!--/--> | Rescued | NotRescued |\n",
       "|---|---|---|\n",
       "| First Class | 135 | 202 |\n",
       "| Second Class | 160 | 125 |\n",
       "| Third Class | 541 | 180 |\n",
       "| Staff | 674 | 207 |\n",
       "\n"
      ],
      "text/plain": [
       "             Rescued NotRescued\n",
       "First Class  135     202       \n",
       "Second Class 160     125       \n",
       "Third Class  541     180       \n",
       "Staff        674     207       "
      ]
     },
     "metadata": {},
     "output_type": "display_data"
    }
   ],
   "source": [
    "Titanic"
   ]
  },
  {
   "cell_type": "code",
   "execution_count": 113,
   "id": "c0bb0401-c35d-4c90-ad37-e7de14c92a9d",
   "metadata": {},
   "outputs": [],
   "source": [
    "# performing the chi-square test\n",
    "chitest = chisq.test(Titanic, correct = F)"
   ]
  },
  {
   "cell_type": "code",
   "execution_count": 114,
   "id": "af9b93d3-a10f-42c7-b2d0-d7cfd8d9ba6e",
   "metadata": {},
   "outputs": [
    {
     "data": {
      "text/plain": [
       "\n",
       "\tPearson's Chi-squared test\n",
       "\n",
       "data:  Titanic\n",
       "X-squared = 184.67, df = 3, p-value < 2.2e-16\n"
      ]
     },
     "metadata": {},
     "output_type": "display_data"
    }
   ],
   "source": [
    "chitest"
   ]
  },
  {
   "cell_type": "markdown",
   "id": "ca95422a-fdc2-468e-b47f-57583b0d464b",
   "metadata": {},
   "source": [
    "From the above test we can say that our p-value of chi-square test si very very close to zero, So we can say that both the varibale are independent to each other but before making this statement we will also perform Carmer's V test to see this."
   ]
  },
  {
   "cell_type": "markdown",
   "id": "b18cd927-e386-4b4b-a656-bc73977f7113",
   "metadata": {},
   "source": [
    "### Carmer's V test"
   ]
  },
  {
   "cell_type": "code",
   "execution_count": 123,
   "id": "d8813669-0dd2-4ad0-a884-7483bff4a814",
   "metadata": {},
   "outputs": [],
   "source": [
    "V =  (chitest$statistic/ sum(Titanic))"
   ]
  },
  {
   "cell_type": "code",
   "execution_count": 124,
   "id": "dd005715-d16e-4bf7-8257-1a272c5b3714",
   "metadata": {},
   "outputs": [
    {
     "data": {
      "text/html": [
       "<strong>X-squared:</strong> 0.0830368894743302"
      ],
      "text/latex": [
       "\\textbf{X-squared:} 0.0830368894743302"
      ],
      "text/markdown": [
       "**X-squared:** 0.0830368894743302"
      ],
      "text/plain": [
       " X-squared \n",
       "0.08303689 "
      ]
     },
     "metadata": {},
     "output_type": "display_data"
    }
   ],
   "source": [
    "V"
   ]
  },
  {
   "cell_type": "markdown",
   "id": "d94dbf27-8a65-44d4-87ed-c35af4da0fd1",
   "metadata": {},
   "source": [
    "above values is very close to zero which shows that there is no relation b/w these two variable proportions, or in other words we can say that both the variables are independent to each other."
   ]
  },
  {
   "cell_type": "markdown",
   "id": "03dcccb9-a82c-4715-944b-3722753e263c",
   "metadata": {},
   "source": [
    "`Conclusion:`  Form the above both tests we can say taht there is no realtion b/w the travel class and the rescue status."
   ]
  },
  {
   "cell_type": "markdown",
   "id": "ab94639b-fa89-4acf-a50c-3d98fd880230",
   "metadata": {},
   "source": [
    "### New 2 x 2 contingency table\n",
    "\n",
    "**Combining the categories \"first class\" and \"second class\" as well as \"third class\" and \"staff\".**"
   ]
  },
  {
   "cell_type": "code",
   "execution_count": 125,
   "id": "ea2ae590-ecdc-4a41-81de-eb94d52a4a80",
   "metadata": {},
   "outputs": [],
   "source": [
    "# combining the "
   ]
  },
  {
   "cell_type": "code",
   "execution_count": 31,
   "id": "9011f0ab-07d7-4c69-9ef6-c8e2141dd2de",
   "metadata": {},
   "outputs": [
    {
     "data": {
      "text/html": [
       "<table>\n",
       "<thead><tr><th></th><th scope=col>Rescued</th><th scope=col>NotRescued</th></tr></thead>\n",
       "<tbody>\n",
       "\t<tr><th scope=row>First Class</th><td>135</td><td>202</td></tr>\n",
       "\t<tr><th scope=row>Second Class</th><td>160</td><td>125</td></tr>\n",
       "\t<tr><th scope=row>Third Class</th><td>541</td><td>180</td></tr>\n",
       "\t<tr><th scope=row>Staff</th><td>674</td><td>207</td></tr>\n",
       "</tbody>\n",
       "</table>\n"
      ],
      "text/latex": [
       "\\begin{tabular}{r|ll}\n",
       "  & Rescued & NotRescued\\\\\n",
       "\\hline\n",
       "\tFirst Class & 135 & 202\\\\\n",
       "\tSecond Class & 160 & 125\\\\\n",
       "\tThird Class & 541 & 180\\\\\n",
       "\tStaff & 674 & 207\\\\\n",
       "\\end{tabular}\n"
      ],
      "text/markdown": [
       "\n",
       "| <!--/--> | Rescued | NotRescued |\n",
       "|---|---|---|\n",
       "| First Class | 135 | 202 |\n",
       "| Second Class | 160 | 125 |\n",
       "| Third Class | 541 | 180 |\n",
       "| Staff | 674 | 207 |\n",
       "\n"
      ],
      "text/plain": [
       "             Rescued NotRescued\n",
       "First Class  135     202       \n",
       "Second Class 160     125       \n",
       "Third Class  541     180       \n",
       "Staff        674     207       "
      ]
     },
     "metadata": {},
     "output_type": "display_data"
    }
   ],
   "source": [
    "Titanic"
   ]
  },
  {
   "cell_type": "code",
   "execution_count": 32,
   "id": "7338ef02-c1f8-46f7-bc36-cbd445c35650",
   "metadata": {},
   "outputs": [
    {
     "data": {
      "text/html": [
       "<table>\n",
       "<thead><tr><th></th><th scope=col>Rescued</th><th scope=col>Not rescued</th></tr></thead>\n",
       "<tbody>\n",
       "\t<tr><th scope=row>First and Second Class</th><td> 195</td><td>327 </td></tr>\n",
       "\t<tr><th scope=row>Third Class and Staff</th><td>1215</td><td>387 </td></tr>\n",
       "</tbody>\n",
       "</table>\n"
      ],
      "text/latex": [
       "\\begin{tabular}{r|ll}\n",
       "  & Rescued & Not rescued\\\\\n",
       "\\hline\n",
       "\tFirst and Second Class &  195 & 327 \\\\\n",
       "\tThird Class and Staff & 1215 & 387 \\\\\n",
       "\\end{tabular}\n"
      ],
      "text/markdown": [
       "\n",
       "| <!--/--> | Rescued | Not rescued |\n",
       "|---|---|---|\n",
       "| First and Second Class |  195 | 327  |\n",
       "| Third Class and Staff | 1215 | 387  |\n",
       "\n"
      ],
      "text/plain": [
       "                        Status\n",
       "Classes                  Rescued Not rescued\n",
       "  First and Second Class  195    327        \n",
       "  Third Class and Staff  1215    387        "
      ]
     },
     "metadata": {},
     "output_type": "display_data"
    }
   ],
   "source": [
    "Titanic3 = matrix(c(195, 327, 1215, 387), ncol=2, byrow=T)\n",
    "dimnames(Titanic3) = list(Classes = c(\"First and Second Class\", \"Third Class and Staff\"), Status = c(\"Rescued\", \"Not rescued\"))\n",
    "\n",
    "Titanic3"
   ]
  },
  {
   "cell_type": "markdown",
   "id": "3cbea529-9be4-4000-9afb-e22b732329b4",
   "metadata": {},
   "source": [
    "#### chi-Square test"
   ]
  },
  {
   "cell_type": "code",
   "execution_count": 37,
   "id": "d76c40b3-9034-4feb-aced-7e14f95727cc",
   "metadata": {},
   "outputs": [
    {
     "data": {
      "text/plain": [
       "\n",
       "\tPearson's Chi-squared test\n",
       "\n",
       "data:  Titanic3\n",
       "X-squared = 261.33, df = 1, p-value < 2.2e-16\n"
      ]
     },
     "metadata": {},
     "output_type": "display_data"
    }
   ],
   "source": [
    "chitest2 = chisq.test(Titanic3, correct = F)\n",
    "chitest2"
   ]
  },
  {
   "cell_type": "markdown",
   "id": "c5a394e6-d601-4cec-87b5-54edb809c723",
   "metadata": {},
   "source": [
    "#### Carmer's V test"
   ]
  },
  {
   "cell_type": "code",
   "execution_count": 36,
   "id": "6df5b4b8-ff17-4e1c-8cf1-c185a163603a",
   "metadata": {},
   "outputs": [
    {
     "data": {
      "text/html": [
       "<strong>X-squared:</strong> 0.117503128410277"
      ],
      "text/latex": [
       "\\textbf{X-squared:} 0.117503128410277"
      ],
      "text/markdown": [
       "**X-squared:** 0.117503128410277"
      ],
      "text/plain": [
       "X-squared \n",
       "0.1175031 "
      ]
     },
     "metadata": {},
     "output_type": "display_data"
    }
   ],
   "source": [
    "V2 = chitest2$statistic/ chisq.max.value(Titanic)\n",
    "V2"
   ]
  },
  {
   "cell_type": "markdown",
   "id": "12f08e50-1a0d-4c70-9cfe-158e8581f840",
   "metadata": {},
   "source": [
    "`Conclusion:` From above test we can say that after combining the travel classes, these two variables travel class and Rescue status are independent to each other or they are very very weakly related to each other..\n",
    "\n",
    "Now we will see the relative risk and odd ratio."
   ]
  },
  {
   "cell_type": "markdown",
   "id": "469cc098-404a-45aa-8240-af2cf17104e0",
   "metadata": {},
   "source": [
    "Note: we can perform the above carmer test by using the `assocstats()` fucntion from the `vcd` libarary.  We will use the 'Titanic_class' and 'Titaninc_status' R variables which is assigned on above cells. we will use these two variable on assocstats() function."
   ]
  },
  {
   "cell_type": "code",
   "execution_count": 44,
   "id": "c7ca7cf9-c78a-4402-84d0-9c193b7ec3fb",
   "metadata": {},
   "outputs": [],
   "source": [
    "library(vcd)"
   ]
  },
  {
   "cell_type": "markdown",
   "id": "24f876b8-7c26-449f-a7b8-3f9d01184bfe",
   "metadata": {},
   "source": [
    "`xtabs:` From this library we will use the xtabs() function to create a table fromat of the data with joint absolute frequency. if we dont want to use the xtabs we can use contingency table directly if we have that.\n",
    "\n",
    "Now since we already have a contingency table of the titanic dataset so now we will use that table to obtain the association."
   ]
  },
  {
   "cell_type": "code",
   "execution_count": 51,
   "id": "3027a5c6-fd53-4fd1-b3b4-a25ad7d35014",
   "metadata": {},
   "outputs": [
    {
     "data": {
      "text/html": [
       "<table>\n",
       "<thead><tr><th></th><th scope=col>Rescued</th><th scope=col>NotRescued</th></tr></thead>\n",
       "<tbody>\n",
       "\t<tr><th scope=row>First Class</th><td>135</td><td>202</td></tr>\n",
       "\t<tr><th scope=row>Second Class</th><td>160</td><td>125</td></tr>\n",
       "\t<tr><th scope=row>Third Class</th><td>541</td><td>180</td></tr>\n",
       "\t<tr><th scope=row>Staff</th><td>674</td><td>207</td></tr>\n",
       "</tbody>\n",
       "</table>\n"
      ],
      "text/latex": [
       "\\begin{tabular}{r|ll}\n",
       "  & Rescued & NotRescued\\\\\n",
       "\\hline\n",
       "\tFirst Class & 135 & 202\\\\\n",
       "\tSecond Class & 160 & 125\\\\\n",
       "\tThird Class & 541 & 180\\\\\n",
       "\tStaff & 674 & 207\\\\\n",
       "\\end{tabular}\n"
      ],
      "text/markdown": [
       "\n",
       "| <!--/--> | Rescued | NotRescued |\n",
       "|---|---|---|\n",
       "| First Class | 135 | 202 |\n",
       "| Second Class | 160 | 125 |\n",
       "| Third Class | 541 | 180 |\n",
       "| Staff | 674 | 207 |\n",
       "\n"
      ],
      "text/plain": [
       "             Rescued NotRescued\n",
       "First Class  135     202       \n",
       "Second Class 160     125       \n",
       "Third Class  541     180       \n",
       "Staff        674     207       "
      ]
     },
     "metadata": {},
     "output_type": "display_data"
    }
   ],
   "source": [
    "Titanic"
   ]
  },
  {
   "cell_type": "code",
   "execution_count": 52,
   "id": "f83c1866-f1fd-421f-a40b-6ca6c5a08428",
   "metadata": {},
   "outputs": [
    {
     "data": {
      "text/plain": [
       "                    X^2 df P(> X^2)\n",
       "Likelihood Ratio 176.26  3        0\n",
       "Pearson          184.67  3        0\n",
       "\n",
       "Phi-Coefficient   : NA \n",
       "Contingency Coeff.: 0.277 \n",
       "Cramer's V        : 0.288 "
      ]
     },
     "metadata": {},
     "output_type": "display_data"
    }
   ],
   "source": [
    "# Perfoming the carmer's V test by using the assocstats from the vcd libraray.\n",
    "assocstats(Titanic)"
   ]
  },
  {
   "cell_type": "markdown",
   "id": "4754451c-f496-46a8-b7c3-af1acb0acddb",
   "metadata": {},
   "source": [
    "From the above test we can see that in this result we have somthing different result than the above result. in this we have 184.67 as the pearson's chi-squre value and in this the probability of having greater than this value is 0.\n",
    "\n",
    "* both the contingency coefficient and the Cramer's V values both shows that both the variables have a very weak positive association b/w the \"Rescue status\" and \"Travel Class\"\n",
    "\n",
    "* So from the above result we can't say that the rescue operation is performed according to their rank of travel class."
   ]
  },
  {
   "cell_type": "markdown",
   "id": "5c755f2f-e402-48ec-88e9-d0ec52684447",
   "metadata": {},
   "source": [
    "#### relative risk b/w Rescue status and Travel Class"
   ]
  },
  {
   "cell_type": "code",
   "execution_count": 67,
   "id": "c788c737-756b-48b1-8bce-f8b8931b67d6",
   "metadata": {},
   "outputs": [],
   "source": [
    "Relative.risk = function(Dataset){\n",
    "    \n",
    "    if (all(dim(Dataset) == c(2,2))){\n",
    "        \n",
    "        risk1 = (Dataset[1,1]/sum(Dataset[,1]))/(Dataset[1,2]/sum(Dataset[,2]))\n",
    "        risk2 = (Dataset[2,1]/sum(Dataset[,1]))/(Dataset[2,2]/sum(Dataset[,2]))\n",
    "        \n",
    "        #print(paste(\"Relative risk1 = \",risk1))\n",
    "        #print(paste(\"Relative risk1 = \",risk2))\n",
    "        \n",
    "        list(risk1= risk1, risk2=risk2)\n",
    "    }\n",
    "    else{print(\"Dataset should have a 2 x 2 dimension \")}\n",
    "}"
   ]
  },
  {
   "cell_type": "code",
   "execution_count": 141,
   "id": "20691123-f530-4464-9964-b8858907ce60",
   "metadata": {},
   "outputs": [
    {
     "data": {
      "text/html": [
       "<table>\n",
       "<thead><tr><th></th><th scope=col>Rescued</th><th scope=col>Not rescued</th></tr></thead>\n",
       "<tbody>\n",
       "\t<tr><th scope=row>First and Second Class</th><td> 195</td><td>327 </td></tr>\n",
       "\t<tr><th scope=row>Third Class and Staff</th><td>1215</td><td>387 </td></tr>\n",
       "</tbody>\n",
       "</table>\n"
      ],
      "text/latex": [
       "\\begin{tabular}{r|ll}\n",
       "  & Rescued & Not rescued\\\\\n",
       "\\hline\n",
       "\tFirst and Second Class &  195 & 327 \\\\\n",
       "\tThird Class and Staff & 1215 & 387 \\\\\n",
       "\\end{tabular}\n"
      ],
      "text/markdown": [
       "\n",
       "| <!--/--> | Rescued | Not rescued |\n",
       "|---|---|---|\n",
       "| First and Second Class |  195 | 327  |\n",
       "| Third Class and Staff | 1215 | 387  |\n",
       "\n"
      ],
      "text/plain": [
       "                        Status\n",
       "Classes                  Rescued Not rescued\n",
       "  First and Second Class  195    327        \n",
       "  Third Class and Staff  1215    387        "
      ]
     },
     "metadata": {},
     "output_type": "display_data"
    }
   ],
   "source": [
    "Titanic3"
   ]
  },
  {
   "cell_type": "code",
   "execution_count": 140,
   "id": "8645c567-afde-4298-aab8-eff85efd9884",
   "metadata": {},
   "outputs": [
    {
     "data": {
      "text/html": [
       "<dl>\n",
       "\t<dt>$risk1</dt>\n",
       "\t\t<dd>0.30197150107359</dd>\n",
       "\t<dt>$risk2</dt>\n",
       "\t\t<dd>1.58980702622464</dd>\n",
       "</dl>\n"
      ],
      "text/latex": [
       "\\begin{description}\n",
       "\\item[\\$risk1] 0.30197150107359\n",
       "\\item[\\$risk2] 1.58980702622464\n",
       "\\end{description}\n"
      ],
      "text/markdown": [
       "$risk1\n",
       ":   0.30197150107359\n",
       "$risk2\n",
       ":   1.58980702622464\n",
       "\n",
       "\n"
      ],
      "text/plain": [
       "$risk1\n",
       "[1] 0.3019715\n",
       "\n",
       "$risk2\n",
       "[1] 1.589807\n"
      ]
     },
     "metadata": {},
     "output_type": "display_data"
    }
   ],
   "source": [
    "Relative.risk(Titanic3)"
   ]
  },
  {
   "cell_type": "markdown",
   "id": "6db516e0-dd44-4d0a-ba38-0da4a577657e",
   "metadata": {},
   "source": [
    "`risk1:` risk1 defines that: the proportion of  First and second Class members are .30 times less Rescued Compare to Third and Satff memebers which are not rescued.\n",
    "\n",
    "`risk2:` risk2 defines that: The proportion of the Third and Staff members are 1.65 times greater Rescued Compare to which are not rescued in First and Second Class."
   ]
  },
  {
   "cell_type": "markdown",
   "id": "6cc25f3e-dcd1-4499-a8d4-2a1446d83b77",
   "metadata": {},
   "source": [
    "#### odd ratio"
   ]
  },
  {
   "cell_type": "code",
   "execution_count": 143,
   "id": "2dede3e6-8ac9-496e-bd95-16633ae7cef9",
   "metadata": {},
   "outputs": [
    {
     "data": {
      "text/html": [
       "0.189942235813795"
      ],
      "text/latex": [
       "0.189942235813795"
      ],
      "text/markdown": [
       "0.189942235813795"
      ],
      "text/plain": [
       "[1] 0.1899422"
      ]
     },
     "metadata": {},
     "output_type": "display_data"
    }
   ],
   "source": [
    "Odd.ratio(Titanic3)"
   ]
  },
  {
   "cell_type": "markdown",
   "id": "d8f3130f-1b20-46a2-b328-a303759db93e",
   "metadata": {},
   "source": [
    "The is a 0.18 times less chances to rescue from the first and second class compare to not rescuing from third class and staff members."
   ]
  },
  {
   "cell_type": "markdown",
   "id": "d56e22a1-e5de-4aad-8190-d68bf60cbc53",
   "metadata": {},
   "source": [
    "____\n",
    "____\n",
    "\n",
    "## Exercise 5\n",
    "\n",
    "To study the association of the monthly average temperature (in $^◦C,\n",
    "X$) and hotel occupation (in %, Y), we consider data from three cities: Polenca\n",
    "(Mallorca, Spain) as a summer holiday destination, Davos (Switzerland) as a winter\n",
    "skiing destination, and Basel (Switzerland) as a business destination."
   ]
  },
  {
   "cell_type": "markdown",
   "id": "0452205a-4695-438f-b76a-a752d7729325",
   "metadata": {},
   "source": [
    "* (a) Calculate the Bravais–Pearson correlation coefficient. The following summary\n",
    "statistics are available:$\\Sigma_{i=1}^{36}x_iy_i = 22776, \\bar x = 12.22, \\bar y = 51.28,  \\bar s_x^2 = 76.95,\n",
    "\\text {and   } \\bar s_y^2 = 706.98$\n",
    "* (b) Interpret the scatter plot in Fig.4.7 which visualizes temperature and hotel occupancy for Davos (D), Polenca (P), and Basel (B).\n",
    "* (c) Use R to calculate the correlation coefficient separately for each city. Interpret\n",
    "the results and discuss the use of the correlation coefficient if more than two\n",
    "variables are available."
   ]
  },
  {
   "cell_type": "markdown",
   "id": "784bc55f-e64a-4b04-89a5-00353488734f",
   "metadata": {},
   "source": [
    "|Months||Davos||Polenca ||Basel|\n",
    "|---|---|---|---|---|---|---|\n",
    "||X |Y |X | Y |X | Y|\n",
    "|Jan |−6| 91| 10| 13| 1| 23|\n",
    "|Feb| −5| 89 |10| 21| 0| 82|\n",
    "|Mar |2 |76 |14 |42 |5 |40|\n",
    "|Apr |4| 52| 17| 64| 9| 45|\n",
    "|May |7 |42 |22 |79 |14 |39|\n",
    "|Jun| 15| 36| 24| 81| 20| 43|\n",
    "|Jul |17 |37 |26 |86 |23 |50|\n",
    "|Aug| 19| 39| 27| 92| 24| 95|\n",
    "|Sep |13 |26 |22 |36 |21 |64|\n",
    "|Oct| 9| 27| 19| 23| 14| 78|\n",
    "|Nov |4 |68 |14 |13 |9 |9|\n",
    "|Dec |0| 92| 12| 41| 4| 12|"
   ]
  },
  {
   "cell_type": "code",
   "execution_count": 1,
   "id": "85f7583f-3100-42f4-9660-3d8c60a8e7e2",
   "metadata": {},
   "outputs": [
    {
     "data": {
      "text/html": [
       "<table>\n",
       "<thead><tr><th scope=col>Months</th><th scope=col>Davos.X</th><th scope=col>Davos.Y</th><th scope=col>Polenca.X</th><th scope=col>Polenca.Y</th><th scope=col>Basel.X</th><th scope=col>Basel.Y</th></tr></thead>\n",
       "<tbody>\n",
       "\t<tr><td>Jan</td><td>-6 </td><td>91 </td><td>10 </td><td>13 </td><td> 1 </td><td>23 </td></tr>\n",
       "\t<tr><td>Feb</td><td>-5 </td><td>89 </td><td>10 </td><td>21 </td><td> 0 </td><td>82 </td></tr>\n",
       "\t<tr><td>Mar</td><td> 2 </td><td>76 </td><td>14 </td><td>42 </td><td> 5 </td><td>40 </td></tr>\n",
       "\t<tr><td>Apr</td><td> 4 </td><td>52 </td><td>17 </td><td>64 </td><td> 9 </td><td>45 </td></tr>\n",
       "\t<tr><td>May</td><td> 7 </td><td>42 </td><td>22 </td><td>79 </td><td>14 </td><td>39 </td></tr>\n",
       "\t<tr><td>Jun</td><td>15 </td><td>36 </td><td>24 </td><td>81 </td><td>20 </td><td>43 </td></tr>\n",
       "\t<tr><td>Jul</td><td>17 </td><td>37 </td><td>26 </td><td>86 </td><td>23 </td><td>50 </td></tr>\n",
       "\t<tr><td>Aug</td><td>19 </td><td>39 </td><td>27 </td><td>92 </td><td>24 </td><td>95 </td></tr>\n",
       "\t<tr><td>Sep</td><td>13 </td><td>26 </td><td>22 </td><td>36 </td><td>21 </td><td>64 </td></tr>\n",
       "\t<tr><td>Oct</td><td> 9 </td><td>27 </td><td>19 </td><td>23 </td><td>14 </td><td>78 </td></tr>\n",
       "\t<tr><td>Nov</td><td> 4 </td><td>68 </td><td>14 </td><td>13 </td><td> 9 </td><td> 9 </td></tr>\n",
       "\t<tr><td>Dec</td><td> 0 </td><td>92 </td><td>12 </td><td>41 </td><td> 4 </td><td>12 </td></tr>\n",
       "</tbody>\n",
       "</table>\n"
      ],
      "text/latex": [
       "\\begin{tabular}{r|lllllll}\n",
       " Months & Davos.X & Davos.Y & Polenca.X & Polenca.Y & Basel.X & Basel.Y\\\\\n",
       "\\hline\n",
       "\t Jan & -6  & 91  & 10  & 13  &  1  & 23 \\\\\n",
       "\t Feb & -5  & 89  & 10  & 21  &  0  & 82 \\\\\n",
       "\t Mar &  2  & 76  & 14  & 42  &  5  & 40 \\\\\n",
       "\t Apr &  4  & 52  & 17  & 64  &  9  & 45 \\\\\n",
       "\t May &  7  & 42  & 22  & 79  & 14  & 39 \\\\\n",
       "\t Jun & 15  & 36  & 24  & 81  & 20  & 43 \\\\\n",
       "\t Jul & 17  & 37  & 26  & 86  & 23  & 50 \\\\\n",
       "\t Aug & 19  & 39  & 27  & 92  & 24  & 95 \\\\\n",
       "\t Sep & 13  & 26  & 22  & 36  & 21  & 64 \\\\\n",
       "\t Oct &  9  & 27  & 19  & 23  & 14  & 78 \\\\\n",
       "\t Nov &  4  & 68  & 14  & 13  &  9  &  9 \\\\\n",
       "\t Dec &  0  & 92  & 12  & 41  &  4  & 12 \\\\\n",
       "\\end{tabular}\n"
      ],
      "text/markdown": [
       "\n",
       "| Months | Davos.X | Davos.Y | Polenca.X | Polenca.Y | Basel.X | Basel.Y |\n",
       "|---|---|---|---|---|---|---|\n",
       "| Jan | -6  | 91  | 10  | 13  |  1  | 23  |\n",
       "| Feb | -5  | 89  | 10  | 21  |  0  | 82  |\n",
       "| Mar |  2  | 76  | 14  | 42  |  5  | 40  |\n",
       "| Apr |  4  | 52  | 17  | 64  |  9  | 45  |\n",
       "| May |  7  | 42  | 22  | 79  | 14  | 39  |\n",
       "| Jun | 15  | 36  | 24  | 81  | 20  | 43  |\n",
       "| Jul | 17  | 37  | 26  | 86  | 23  | 50  |\n",
       "| Aug | 19  | 39  | 27  | 92  | 24  | 95  |\n",
       "| Sep | 13  | 26  | 22  | 36  | 21  | 64  |\n",
       "| Oct |  9  | 27  | 19  | 23  | 14  | 78  |\n",
       "| Nov |  4  | 68  | 14  | 13  |  9  |  9  |\n",
       "| Dec |  0  | 92  | 12  | 41  |  4  | 12  |\n",
       "\n"
      ],
      "text/plain": [
       "   Months Davos.X Davos.Y Polenca.X Polenca.Y Basel.X Basel.Y\n",
       "1  Jan    -6      91      10        13         1      23     \n",
       "2  Feb    -5      89      10        21         0      82     \n",
       "3  Mar     2      76      14        42         5      40     \n",
       "4  Apr     4      52      17        64         9      45     \n",
       "5  May     7      42      22        79        14      39     \n",
       "6  Jun    15      36      24        81        20      43     \n",
       "7  Jul    17      37      26        86        23      50     \n",
       "8  Aug    19      39      27        92        24      95     \n",
       "9  Sep    13      26      22        36        21      64     \n",
       "10 Oct     9      27      19        23        14      78     \n",
       "11 Nov     4      68      14        13         9       9     \n",
       "12 Dec     0      92      12        41         4      12     "
      ]
     },
     "metadata": {},
     "output_type": "display_data"
    }
   ],
   "source": [
    "# first creating the matrix of numaric values.\n",
    "\n",
    "MATemp = matrix(c(−6, 91, 10, 13, 1, 23,\n",
    "        −5, 89, 10, 21, 0, 82,\n",
    "        2, 76, 14, 42, 5, 40,\n",
    "        4, 52, 17, 64, 9, 45,\n",
    "        7, 42, 22, 79, 14, 39,\n",
    "         15, 36, 24, 81, 20, 43,\n",
    "         17, 37, 26, 86, 23, 50,\n",
    "         19, 39, 27, 92, 24, 95,\n",
    "         13, 26, 22, 36, 21, 64,\n",
    "         9, 27, 19, 23, 14, 78,\n",
    "         4, 68, 14, 13, 9, 9,\n",
    "         0, 92, 12, 41, 4, 12), ncol=6, byrow=T)\n",
    " \n",
    "# adding the column of months.\n",
    "months = c(\"Jan\", 'Feb', 'Mar',\"Apr\",'May','Jun','Jul','Aug','Sep','Oct','Nov','Dec')\n",
    "\n",
    "# Now we will add the name of the columns.\n",
    "MATemp = data.frame(months, MATemp)\n",
    "colnames(MATemp) = c(\"Months\",\"Davos.X\",\"Davos.Y\", \"Polenca.X\",\"Polenca.Y\" ,\"Basel.X\",\"Basel.Y\")\n",
    "MATemp"
   ]
  },
  {
   "cell_type": "markdown",
   "id": "11cad4fb-c083-49a3-86f9-48f306dce897",
   "metadata": {},
   "source": [
    "Now we will calculate all of the above calculation on the data points. but first we need to merge all the X and Y values."
   ]
  },
  {
   "cell_type": "markdown",
   "id": "f49aa555-310a-49f5-981f-5535c2474c6a",
   "metadata": {},
   "source": [
    "### Scatter plot\n",
    "\n",
    "Now we will plot a scatter plot to to visualizes temperature and hotel occupancy for Davos, Polenca and Basel."
   ]
  },
  {
   "cell_type": "code",
   "execution_count": 2,
   "id": "d78a9be4-13da-4e26-be3f-097a72b4a4e8",
   "metadata": {},
   "outputs": [
    {
     "data": {
      "image/png": "[encoded data removed]",
      "text/plain": [
       "plot without title"
      ]
     },
     "metadata": {},
     "output_type": "display_data"
    }
   ],
   "source": [
    "par(mar = c(5,6,5,6))\n",
    "plot(MATemp$Davos.X, MATemp$Davos.Y, pch=10, xlab='Temperature', ylab='Occupancy', col=4)\n",
    "par(new=T)\n",
    "plot(MATemp$Basel.X, MATemp$Basel.Y, pch=12 , axes=F, xlab='', ylab='',col=2)\n",
    "par(new=T)\n",
    "plot(MATemp$Polenca.X, MATemp$Polenca.Y, pch=14, axes=F,  xlab='', ylab='', col=3)\n",
    "\n",
    "legend(x='topright', pch = c(10, 12, 14), col=c(4,2,3), legend=c(\"Davos\", \"Basel\", \"Polenca\"),\n",
    "      xpd=TRUE,inset = c(-0.25, 0.0))\n",
    "\n",
    "# Note here xpd=TRUE is to put the legend outside the box\n",
    "# to set the legends outside the figure first we need to set the margin on the plot by using the  mar parameter in par() function "
   ]
  },
  {
   "cell_type": "markdown",
   "id": "b122a73d-3de1-4efd-b738-3bd902c68ec8",
   "metadata": {},
   "source": [
    "*  `Davos :` There is a significant change in the occpancy in Davos hotel, from  this observation we can say that Davos hotel is more suitable for winter season or we can say that, this hotel has more occupancy in winter season than summer season or spring season.\n",
    "\n",
    "* `Basel :` In this hotel also we can say that occupancy increasing as the temperature, so we can say that occupancy is proportional to the temperature for this hotel. In other words this hotel seems to be more suitable for summer seasons.\n",
    "\n",
    "* `Polenca :` In this hotel also we can say that occupancy increasing as the temperature, so we can say that here also occupancy is proportional to the temperature for this hotel. In other words this hotel seems to be more suitable for summer seasons."
   ]
  },
  {
   "cell_type": "markdown",
   "id": "e34066ea-34b3-4627-981b-54443e8fa5d3",
   "metadata": {},
   "source": [
    "### Correlation Coefficient for Davos hotel"
   ]
  },
  {
   "cell_type": "code",
   "execution_count": 3,
   "id": "0b76679d-03f1-43f6-af52-71d79f93a444",
   "metadata": {},
   "outputs": [
    {
     "name": "stdout",
     "output_type": "stream",
     "text": [
      "[1] \"Davos hotel Pearson correlation Coefficient:  -0.870419740889853\"\n",
      "[1] \"Davos hotel Spearson Correlation Coefficient:  -0.844134394347707\"\n"
     ]
    }
   ],
   "source": [
    "pearson_cor = cor(MATemp$Davos.X, MATemp$Davos.Y, method='pearson')\n",
    "spearman_cor = cor(MATemp$Davos.X, MATemp$Davos.Y, method='spearman')\n",
    "\n",
    "\n",
    "print(paste(\"Davos hotel Pearson correlation Coefficient: \", pearson_cor))\n",
    "print(paste(\"Davos hotel Spearson Correlation Coefficient: \", spearman_cor))"
   ]
  },
  {
   "cell_type": "markdown",
   "id": "3da8d218-194e-49d6-8eaa-2190a0f99c78",
   "metadata": {},
   "source": [
    "`Conclusion:` From above result we can clearly say that there is a negative correlation b/w the Davos hotel occupancy and temperature, and we can say that there is more occupancy in low temperature or in other words, in winter season there is more occupancy compare to the summer or spring season."
   ]
  },
  {
   "cell_type": "markdown",
   "id": "0c71e92d-e549-4479-87fc-ff53def3f757",
   "metadata": {},
   "source": [
    "### Correlation Coefficient for Basel hotel"
   ]
  },
  {
   "cell_type": "code",
   "execution_count": 7,
   "id": "583e3d77-ec9e-413c-b36b-60c4abe74f88",
   "metadata": {},
   "outputs": [
    {
     "name": "stdout",
     "output_type": "stream",
     "text": [
      "[1] \"Basel hotel Pearson correlation Coefficient:  0.415172754434581\"\n",
      "[1] \"Basel hotel Spearson Correlation Coefficient:  0.428072810551727\"\n"
     ]
    }
   ],
   "source": [
    "pearson_cor = cor(MATemp$Basel.X, MATemp$Basel.Y, method='pearson')\n",
    "spearman_cor = cor(MATemp$Basel.X, MATemp$Basel.Y, method='spearman')\n",
    "\n",
    "\n",
    "print(paste(\"Basel hotel Pearson correlation Coefficient: \", pearson_cor))\n",
    "print(paste(\"Basel hotel Spearson Correlation Coefficient: \", spearman_cor))"
   ]
  },
  {
   "cell_type": "markdown",
   "id": "24f22c6b-7a19-4621-a237-35e870998b2c",
   "metadata": {},
   "source": [
    "`Conclusion:` Above result shows that there is a moderate correlation b/w the Basel hotel and temperature, it means that there is moderate level of  increament in the occupancy in the hotel during summer season. "
   ]
  },
  {
   "cell_type": "markdown",
   "id": "d7412f9e-48d0-4aac-b706-45db9f5778f7",
   "metadata": {},
   "source": [
    "### Correlation Coefficient for Polenca hotel"
   ]
  },
  {
   "cell_type": "code",
   "execution_count": 8,
   "id": "a82405ef-56e5-4d67-babd-7eba4069b0d1",
   "metadata": {},
   "outputs": [
    {
     "name": "stdout",
     "output_type": "stream",
     "text": [
      "[1] \"Polenca hotel Pearson correlation Coefficient:  0.818308870004014\"\n",
      "[1] \"Polenca hotel Spearson Correlation Coefficient:  0.816906472605911\"\n"
     ]
    }
   ],
   "source": [
    "pearson_cor = cor(MATemp$Polenca.X, MATemp$Polenca.Y, method='pearson')\n",
    "spearman_cor = cor(MATemp$Polenca.X, MATemp$Polenca.Y, method='spearman')\n",
    "\n",
    "\n",
    "print(paste(\"Polenca hotel Pearson correlation Coefficient: \", pearson_cor))\n",
    "print(paste(\"Polenca hotel Spearson Correlation Coefficient: \", spearman_cor))"
   ]
  },
  {
   "cell_type": "markdown",
   "id": "d33703c0-2bc2-43aa-81ed-75d691c55f57",
   "metadata": {},
   "source": [
    "`Conclusion:` Above result shows that there is a positive strong correlation b/w the Polenca hotel and the temperature, it shows that in this hotel there is a strong increment of occupancy in the hotel during the summer (or in high temperature) season."
   ]
  },
  {
   "cell_type": "markdown",
   "id": "a3fcd1c6-b61d-4e42-88d3-eabd99a8c72d",
   "metadata": {},
   "source": [
    "### Correlation Coefficient on more than two variables."
   ]
  },
  {
   "cell_type": "markdown",
   "id": "37f08c30-e765-418d-81dd-0e7917c81d6f",
   "metadata": {},
   "source": [
    "Note: if there are more than two variable are available in the dataset then we can find out the multiple correlation coefficient by using the bellow funciton."
   ]
  },
  {
   "cell_type": "markdown",
   "id": "8425b718-2027-4458-b659-08ab57e061ae",
   "metadata": {},
   "source": [
    "<img src=\"https://www.real-statistics.com/wp-content/uploads/2012/12/multiple-correlation-coefficient.png\" alt=\"Girl in a jacket\" width=\"200\" height=\"400\">"
   ]
  },
  {
   "cell_type": "markdown",
   "id": "1df8e523-eee8-42b6-a74e-669dd954e18a",
   "metadata": {},
   "source": [
    "where $r_{xz}, r_{yz}, r_{xy}$ correlation coefficient b/w x and z, y and z, x and y respectively . Here x and y are viewed as the independent variables and z is the dependent variable.\n",
    "\n",
    "We also define the multiple coefficient of determination to be the square of the multiple correlation coefficient.\n",
    "\n",
    "Often the subscripts are dropped and the multiple correlation coefficient and multiple coefficient of determination are written simply as $R$ and $R^2$ respectively. These definitions may also be expanded to more than two independent variables. With just one independent variable the multiple correlation coefficient is simply $r$.\n",
    "\n",
    "Unfortunately, $R$ is not an unbiased estimate of the population multiple correlation coefficient, which is evident for small samples. A relatively unbiased version of $R$ is given by $R$ **adjusted**."
   ]
  },
  {
   "cell_type": "markdown",
   "id": "2666a130-df42-4e0d-88d4-a212b5fdf1e8",
   "metadata": {},
   "source": [
    "____\n",
    "____"
   ]
  },
  {
   "cell_type": "markdown",
   "id": "b422e0f9-ad38-4030-9401-7e273ba38242",
   "metadata": {},
   "source": [
    "## Exercise 6\n",
    "\n"
   ]
  },
  {
   "cell_type": "markdown",
   "id": "8dcffe17-f15e-4096-9d70-031e29d7eba6",
   "metadata": {},
   "source": [
    "Consider a neighbourhood survey on the use of a local park. Respondents were asked whether the park may be used for summer music concerts and\n",
    "whether dog owners should put their dogs on a lead. The results are summarized in\n",
    "the following contingency table:"
   ]
  },
  {
   "cell_type": "markdown",
   "id": "053f53a5-9e57-43aa-81d9-b9d285e6229c",
   "metadata": {},
   "source": [
    "||Put dogs on a lead|||||\n",
    "|----|-----|-----|------|---|----|\n",
    "|||Agree| No opinion| Disagree |Total|\n",
    "|**Use for concerts**| Agree| 82| 4| 0| 86|\n",
    "||No opinion| 8 |43| 9| 60|\n",
    "||Disagree |0| 2| 10| 12|\n",
    "||Total| 90| 49| 19| 158|"
   ]
  },
  {
   "cell_type": "markdown",
   "id": "77477853-c5ad-453d-b907-a49bd76f3bd8",
   "metadata": {},
   "source": [
    "* (a) Calculate and interpret Goodman and Kruskal’s γ.\n",
    "* (b) Now ignore the ordinal structure of the data and calculate Cramer’s V .\n",
    "* (c) Create the contingency table which is obtained when the categories “no opinion”\n",
    "and “agree” are combined.\n",
    "* (d) What is the relative risk of disagreement with summer concerts depending on\n",
    "the opinion about using leads?\n",
    "* (e) Calculate the odds ratio and offer two interpretations of it.\n",
    "* (f) Determine γ for the table calculated in (c).\n",
    "* (g) What is your final interpretation and what may be the best measure to use in this\n",
    "example?"
   ]
  },
  {
   "cell_type": "markdown",
   "id": "02d3f11c-8f90-4be6-a155-9cf98e74fa35",
   "metadata": {},
   "source": [
    "___"
   ]
  },
  {
   "cell_type": "markdown",
   "id": "87481a80-3284-4cb3-be27-1ee194588cc4",
   "metadata": {},
   "source": [
    "Note: Now From the above observation we can interprate this problem in two way:\n",
    "\n",
    "1. First way is that we make this as the ordinal occurding to highest to lowest grade, in this we will use the rank correlation mehtod to see the association b/w the two variable.\n",
    "2. Second way is that we perfrom chi-Square and Carmer's V test on this to see the association.\n",
    "\n",
    "\n",
    "In this section we will see the concordant and discordant pairs which are based on the rank correlation of equal or non-equal underlying scaled values of X and Y variables."
   ]
  },
  {
   "cell_type": "code",
   "execution_count": 2,
   "id": "336d68ea-519e-4336-bd23-1e15d8ab45e2",
   "metadata": {},
   "outputs": [],
   "source": [
    "# Creating the table of dataset\n",
    "\n",
    "Dog_Data = matrix(c( 82, 4, 0, \n",
    " 8, 43, 9, \n",
    " 0, 2, 10 ), ncol=3, byrow=T)\n",
    "\n",
    "dimnames(Dog_Data) = list(Dogs_on_lead=c(\"Agree\", \"No Opinion\", \"Disagree\"), Use_for_concert=c(\"Agree\", \"No Opinion\", \"Disagree\"))\n",
    "\n"
   ]
  },
  {
   "cell_type": "code",
   "execution_count": 3,
   "id": "879bb520-f90a-4fb0-b6e8-1d5ad5ee5b74",
   "metadata": {},
   "outputs": [
    {
     "data": {
      "text/html": [
       "<table>\n",
       "<thead><tr><th></th><th scope=col>Agree</th><th scope=col>No Opinion</th><th scope=col>Disagree</th></tr></thead>\n",
       "<tbody>\n",
       "\t<tr><th scope=row>Agree</th><td>82</td><td> 4</td><td> 0</td></tr>\n",
       "\t<tr><th scope=row>No Opinion</th><td> 8</td><td>43</td><td> 9</td></tr>\n",
       "\t<tr><th scope=row>Disagree</th><td> 0</td><td> 2</td><td>10</td></tr>\n",
       "</tbody>\n",
       "</table>\n"
      ],
      "text/latex": [
       "\\begin{tabular}{r|lll}\n",
       "  & Agree & No Opinion & Disagree\\\\\n",
       "\\hline\n",
       "\tAgree & 82 &  4 &  0\\\\\n",
       "\tNo Opinion &  8 & 43 &  9\\\\\n",
       "\tDisagree &  0 &  2 & 10\\\\\n",
       "\\end{tabular}\n"
      ],
      "text/markdown": [
       "\n",
       "| <!--/--> | Agree | No Opinion | Disagree |\n",
       "|---|---|---|---|\n",
       "| Agree | 82 |  4 |  0 |\n",
       "| No Opinion |  8 | 43 |  9 |\n",
       "| Disagree |  0 |  2 | 10 |\n",
       "\n"
      ],
      "text/plain": [
       "            Use_for_concert\n",
       "Dogs_on_lead Agree No Opinion Disagree\n",
       "  Agree      82     4          0      \n",
       "  No Opinion  8    43          9      \n",
       "  Disagree    0     2         10      "
      ]
     },
     "metadata": {},
     "output_type": "display_data"
    }
   ],
   "source": [
    "Dog_Data"
   ]
  },
  {
   "cell_type": "code",
   "execution_count": 4,
   "id": "644982dc-d02c-4136-9a5f-dcf80d550951",
   "metadata": {},
   "outputs": [
    {
     "data": {
      "text/html": [
       "<table>\n",
       "<thead><tr><th></th><th scope=col>Agree</th><th scope=col>No Opinion</th><th scope=col>Disagree</th><th scope=col>Sum</th></tr></thead>\n",
       "<tbody>\n",
       "\t<tr><th scope=row>Agree</th><td>82 </td><td> 4 </td><td> 0 </td><td> 86</td></tr>\n",
       "\t<tr><th scope=row>No Opinion</th><td> 8 </td><td>43 </td><td> 9 </td><td> 60</td></tr>\n",
       "\t<tr><th scope=row>Disagree</th><td> 0 </td><td> 2 </td><td>10 </td><td> 12</td></tr>\n",
       "\t<tr><th scope=row>Sum</th><td>90 </td><td>49 </td><td>19 </td><td>158</td></tr>\n",
       "</tbody>\n",
       "</table>\n"
      ],
      "text/latex": [
       "\\begin{tabular}{r|llll}\n",
       "  & Agree & No Opinion & Disagree & Sum\\\\\n",
       "\\hline\n",
       "\tAgree & 82  &  4  &  0  &  86\\\\\n",
       "\tNo Opinion &  8  & 43  &  9  &  60\\\\\n",
       "\tDisagree &  0  &  2  & 10  &  12\\\\\n",
       "\tSum & 90  & 49  & 19  & 158\\\\\n",
       "\\end{tabular}\n"
      ],
      "text/markdown": [
       "\n",
       "| <!--/--> | Agree | No Opinion | Disagree | Sum |\n",
       "|---|---|---|---|---|\n",
       "| Agree | 82  |  4  |  0  |  86 |\n",
       "| No Opinion |  8  | 43  |  9  |  60 |\n",
       "| Disagree |  0  |  2  | 10  |  12 |\n",
       "| Sum | 90  | 49  | 19  | 158 |\n",
       "\n"
      ],
      "text/plain": [
       "            Use_for_concert\n",
       "Dogs_on_lead Agree No Opinion Disagree Sum\n",
       "  Agree      82     4          0        86\n",
       "  No Opinion  8    43          9        60\n",
       "  Disagree    0     2         10        12\n",
       "  Sum        90    49         19       158"
      ]
     },
     "metadata": {},
     "output_type": "display_data"
    }
   ],
   "source": [
    "# making a contingency table\n",
    "addmargins(Dog_Data)"
   ]
  },
  {
   "cell_type": "markdown",
   "id": "08c23b6a-010a-4f9a-953e-42aa10f8d887",
   "metadata": {},
   "source": [
    "### Goddman and Kruskal's test\n",
    "\n",
    "if we have concordant and discordant pair in our problem then we can use these pairs to find out the relation b/w the two variables, here we have concordant and discordant pairs of Dogs on lead and use for concerts two different variables.\n",
    "\n",
    "Note: This test will be performed by using the `org.gamma()` function from `ryouready` library."
   ]
  },
  {
   "cell_type": "code",
   "execution_count": 7,
   "id": "63f4d5c1-3516-4504-b0e4-18b820b8e919",
   "metadata": {
    "collapsed": true,
    "jupyter": {
     "outputs_hidden": true
    },
    "tags": []
   },
   "outputs": [
    {
     "name": "stderr",
     "output_type": "stream",
     "text": [
      "Warning message:\n",
      "\"package 'ryouready' was built under R version 3.6.3\"Registered S3 methods overwritten by 'ggplot2':\n",
      "  method         from \n",
      "  [.quosures     rlang\n",
      "  c.quosures     rlang\n",
      "  print.quosures rlang\n"
     ]
    }
   ],
   "source": [
    "library(ryouready)"
   ]
  },
  {
   "cell_type": "code",
   "execution_count": 9,
   "id": "f92c1a64-b66e-4762-803d-a9015dc95e46",
   "metadata": {},
   "outputs": [
    {
     "data": {
      "text/plain": [
       "Goodman-Kruskal Gamma: 0.983 "
      ]
     },
     "metadata": {},
     "output_type": "display_data"
    }
   ],
   "source": [
    "ord.gamma(Dog_Data)"
   ]
  },
  {
   "cell_type": "markdown",
   "id": "fff63e19-ee91-4aad-a0f8-990f36b20794",
   "metadata": {},
   "source": [
    "`Conclusion:` Form this result we can say that there is a positive very strong  relation b/w the 'Dogs on lead' and the 'use for concerts'.  "
   ]
  },
  {
   "cell_type": "code",
   "execution_count": 10,
   "id": "46587b0f-2555-4a78-bd44-ee0cd41de109",
   "metadata": {},
   "outputs": [
    {
     "data": {
      "text/plain": [
       "Kendall's (and Stuart's) Tau statistics\n",
       "\tTau-b: 0.831\n",
       "\tTau-c: 0.697"
      ]
     },
     "metadata": {},
     "output_type": "display_data"
    }
   ],
   "source": [
    "ord.tau(Dog_Data)"
   ]
  },
  {
   "cell_type": "markdown",
   "id": "cf4733af-01a3-4b86-bda7-a8f0f42c4c54",
   "metadata": {},
   "source": [
    "`Tau-b:` Tau-b statistic tests the strength of association of the cross tabulations, both variables have to be ordinal, tau-b make some adjustment for ties. the range of the tau-b vaues is from -1 to 1.\n",
    "\n",
    "`Tau-c:` Tau-c (also called Stuart-Kendall Tau-c) is more suitable than Tau-b fro the analysis of data based on non-square. So use Tau-b if the underlying scale of both variables has the same number of possible values. and Tau-c if they differ.\n",
    "    \n",
    "**For example:** One variable might be scored on a 5-point scale (veru good, good, average, bad, very bad), whereas the other might be based on a finer 10-point scale."
   ]
  },
  {
   "cell_type": "markdown",
   "id": "d75cb588-7578-4c2b-b77c-6e624a0c4150",
   "metadata": {},
   "source": [
    "`Conclusion:` From this result also we can say that there is a positive moderate to strong relation b/w the 'Dogs on lead' adn 'use for concerts'."
   ]
  },
  {
   "cell_type": "markdown",
   "id": "1ed22a5e-124a-4a44-8350-d1c9590ee3ea",
   "metadata": {},
   "source": [
    "`Conclusion Final:`  From both of above result we know that in our dataset there are concordant pairs are available that why we have a positive strong association b/w the variable.\n",
    "\n",
    "In other words we can say that most of the people are agree to use the park for concert and they want to put the dogs on lead."
   ]
  },
  {
   "cell_type": "markdown",
   "id": "fc2419a7-6f13-4ab8-abbb-66ce2ed00c34",
   "metadata": {},
   "source": [
    "### Chi-Square and Carmer's V test"
   ]
  },
  {
   "cell_type": "markdown",
   "id": "38b62c71-1369-4c98-95b8-0bcbf99fdd79",
   "metadata": {},
   "source": [
    "Now we will see that another association test by ingoring all the oridinal variable and we will use only the nominal variable."
   ]
  },
  {
   "cell_type": "code",
   "execution_count": 5,
   "id": "c3311cf3-500c-42a0-93f9-e53a3ce1dba7",
   "metadata": {},
   "outputs": [
    {
     "data": {
      "text/html": [
       "<table>\n",
       "<thead><tr><th></th><th scope=col>Agree</th><th scope=col>No Opinion</th><th scope=col>Disagree</th></tr></thead>\n",
       "<tbody>\n",
       "\t<tr><th scope=row>Agree</th><td>82</td><td> 4</td><td> 0</td></tr>\n",
       "\t<tr><th scope=row>No Opinion</th><td> 8</td><td>43</td><td> 9</td></tr>\n",
       "\t<tr><th scope=row>Disagree</th><td> 0</td><td> 2</td><td>10</td></tr>\n",
       "</tbody>\n",
       "</table>\n"
      ],
      "text/latex": [
       "\\begin{tabular}{r|lll}\n",
       "  & Agree & No Opinion & Disagree\\\\\n",
       "\\hline\n",
       "\tAgree & 82 &  4 &  0\\\\\n",
       "\tNo Opinion &  8 & 43 &  9\\\\\n",
       "\tDisagree &  0 &  2 & 10\\\\\n",
       "\\end{tabular}\n"
      ],
      "text/markdown": [
       "\n",
       "| <!--/--> | Agree | No Opinion | Disagree |\n",
       "|---|---|---|---|\n",
       "| Agree | 82 |  4 |  0 |\n",
       "| No Opinion |  8 | 43 |  9 |\n",
       "| Disagree |  0 |  2 | 10 |\n",
       "\n"
      ],
      "text/plain": [
       "            Use_for_concert\n",
       "Dogs_on_lead Agree No Opinion Disagree\n",
       "  Agree      82     4          0      \n",
       "  No Opinion  8    43          9      \n",
       "  Disagree    0     2         10      "
      ]
     },
     "metadata": {},
     "output_type": "display_data"
    }
   ],
   "source": [
    "Dog_Data"
   ]
  },
  {
   "cell_type": "code",
   "execution_count": 20,
   "id": "6ee58724-41b4-4369-8def-a62f7f377181",
   "metadata": {},
   "outputs": [
    {
     "name": "stderr",
     "output_type": "stream",
     "text": [
      "Warning message in chisq.test(Dog_Data):\n",
      "\"Chi-squared approximation may be incorrect\""
     ]
    },
    {
     "data": {
      "text/plain": [
       "\n",
       "\tPearson's Chi-squared test\n",
       "\n",
       "data:  Dog_Data\n",
       "X-squared = 162.7, df = 4, p-value < 2.2e-16\n"
      ]
     },
     "metadata": {},
     "output_type": "display_data"
    }
   ],
   "source": [
    "dog_chitest = chisq.test(Dog_Data)\n",
    "dog_chitest"
   ]
  },
  {
   "cell_type": "markdown",
   "id": "de0a7bfe-dd86-4505-bf47-bfaa92e1e9a7",
   "metadata": {},
   "source": [
    "Note: Now we can see the warning which shows that this result may be incorrect. but we will interprate this result, \n",
    "\n",
    "* From the p-value which is very very close to the zero, it looks like that both the variable \"Dog on the lead\" and \"Use for concert\" are independent to each other.\n",
    "\n",
    "* value $\\chi^2$ shows the strongness of the association but the range of the association can be tested by using the carmer's V test."
   ]
  },
  {
   "cell_type": "markdown",
   "id": "06e98cd4-9f18-4eb6-821c-dddf65c649ad",
   "metadata": {},
   "source": [
    "**Cramer's V test**\n",
    "\n",
    "To perform the Cramer's V test we will use assocstats() function from the vcd library."
   ]
  },
  {
   "cell_type": "code",
   "execution_count": 53,
   "id": "e142a019-133c-418a-8398-dbc61ef1de70",
   "metadata": {},
   "outputs": [],
   "source": [
    "library(vcd)"
   ]
  },
  {
   "cell_type": "code",
   "execution_count": 54,
   "id": "8218c4ae-fef5-496a-b0d5-ca168a9ad022",
   "metadata": {},
   "outputs": [
    {
     "data": {
      "text/plain": [
       "                    X^2 df P(> X^2)\n",
       "Likelihood Ratio 158.32  4        0\n",
       "Pearson          162.70  4        0\n",
       "\n",
       "Phi-Coefficient   : NA \n",
       "Contingency Coeff.: 0.712 \n",
       "Cramer's V        : 0.718 "
      ]
     },
     "metadata": {},
     "output_type": "display_data"
    }
   ],
   "source": [
    "# Performing the association test on the voting dataset on \"dogs on lead\" and \"use for concert\"\n",
    "assocstats(Dog_Data)"
   ]
  },
  {
   "cell_type": "markdown",
   "id": "02ab7162-9ebe-4c0d-b876-192f24e8c446",
   "metadata": {},
   "source": [
    "From The above test we have found that pearson chi-square test value  is 162.7 which is equal to the previous test, it means taht above test was correct.\n",
    "\n",
    "* From both the Contingency coefficient and Cramer's V value we can say that there is a strong positive association b/w the \"Dogs on lead\" and \"use for concert\" (X and Y ) variables.\n",
    "\n",
    "* In other words we can say that 71%  people are agreed to use the park for concert and put dogs on lead."
   ]
  },
  {
   "cell_type": "markdown",
   "id": "86e86624-9d8a-4817-b8b4-1551f446a7af",
   "metadata": {},
   "source": [
    "### Merging 'Agree' and 'No Opinion' rows and column \n",
    "\n",
    "By combining the Agree and No opinion value we will have a 2x2 contingency table."
   ]
  },
  {
   "cell_type": "code",
   "execution_count": 66,
   "id": "5c2ddbef-ce39-46a3-a93e-2598278585e4",
   "metadata": {},
   "outputs": [
    {
     "data": {
      "text/html": [
       "<table>\n",
       "<thead><tr><th></th><th scope=col>Agree and No Opinion</th><th scope=col>Disagree</th></tr></thead>\n",
       "<tbody>\n",
       "\t<tr><th scope=row>Agree and No Opinion</th><td>137</td><td> 9 </td></tr>\n",
       "\t<tr><th scope=row>Disagree</th><td>  2</td><td>10 </td></tr>\n",
       "</tbody>\n",
       "</table>\n"
      ],
      "text/latex": [
       "\\begin{tabular}{r|ll}\n",
       "  & Agree and No Opinion & Disagree\\\\\n",
       "\\hline\n",
       "\tAgree and No Opinion & 137 &  9 \\\\\n",
       "\tDisagree &   2 & 10 \\\\\n",
       "\\end{tabular}\n"
      ],
      "text/markdown": [
       "\n",
       "| <!--/--> | Agree and No Opinion | Disagree |\n",
       "|---|---|---|\n",
       "| Agree and No Opinion | 137 |  9  |\n",
       "| Disagree |   2 | 10  |\n",
       "\n"
      ],
      "text/plain": [
       "                      Concerts\n",
       "Dogs                   Agree and No Opinion Disagree\n",
       "  Agree and No Opinion 137                   9      \n",
       "  Disagree               2                  10      "
      ]
     },
     "metadata": {},
     "output_type": "display_data"
    }
   ],
   "source": [
    "DogData.x= cbind(rowSums(Dog_Data[,1:2]), Dog_Data[,3])\n",
    "DogData.x = rbind(colSums(DogData.x[1:2,]), DogData.x[3,])\n",
    "\n",
    "# Now we need to give name of new column and rows.\n",
    "\n",
    "dimnames(DogData.x) = list(Dogs = c(\"Agree and No Opinion\", \"Disagree\"), Concerts = c(\"Agree and No Opinion\", \"Disagree\"))\n",
    "DogData.x"
   ]
  },
  {
   "cell_type": "code",
   "execution_count": 91,
   "id": "81502b64-a603-4dab-a178-1c168b37ba2d",
   "metadata": {},
   "outputs": [],
   "source": [
    "# Relative risk\n",
    "\n",
    "Relative.risk = function(Dataset, For='X', nrow=1, ncol=FALSE, inverse = FALSE ){\n",
    "    \n",
    "    # for: X or Y is used to select the row or column calculate the relative risk by using a row or column. \n",
    "    # use: X or Y is used to select the row or column which will be used to find out the relative risk by using both the values. \n",
    "    # ncol: ncol is used to select the column for which we need to calculate the relative risk.\n",
    "    # nrow: nrow is used to select the row for which we need to calculate the relative risk.\n",
    "    \n",
    "    # Note: only one of them (nrow or ncol) is used to calculate the relative risk.\n",
    "    # Note: this funcction is only for 2x2 table.\n",
    "    \n",
    "    if (!is.null(Dataset)){\n",
    "        \n",
    "        if(all(dim(Dataset) == c(2,2))){\n",
    "            \n",
    "            if (For == 'X'){\n",
    "                \n",
    "                # risk = (for nrow using 1 column/ sum(all row using col 1)) / (for nrow using col 2 / sum(all row using col 2) \n",
    "                risk = (Dataset[nrow, 1]/sum(Dataset[, 1])) / (Dataset[nrow, 2]/sum(Dataset[,2])) \n",
    "                \n",
    "                \n",
    "                \n",
    "            }\n",
    "            else if (For == \"Y\"){\n",
    "                \n",
    "                # risk = (for nrow using 1 column/ sum(all row using col 1)) / (for nrow using col 2 / sum(all row using col 2) \n",
    "                risk = (Dataset[1, ncol]/sum(Dataset[1, ])) / (Dataset[2, ncol]/sum(Dataset[2,])) \n",
    "                \n",
    "            }\n",
    "            else{\n",
    "                print(\"Wrong selection for the relative risk in argument 'For'\")\n",
    "            }\n",
    "            \n",
    "        }\n",
    "        else{\n",
    "            print(\"Dataset should be a 2x2 dimensional.\")\n",
    "        }\n",
    "    }\n",
    "    \n",
    "    # Now we will return the risk\n",
    "    if (inverse){\n",
    "        risk = 1/risk\n",
    "        risk\n",
    "                }\n",
    "    else{ risk}\n",
    "}"
   ]
  },
  {
   "cell_type": "code",
   "execution_count": 92,
   "id": "2491b69f-0148-4a48-9e31-aa7051ba05a6",
   "metadata": {},
   "outputs": [
    {
     "data": {
      "text/html": [
       "0.0273381294964029"
      ],
      "text/latex": [
       "0.0273381294964029"
      ],
      "text/markdown": [
       "0.0273381294964029"
      ],
      "text/plain": [
       "[1] 0.02733813"
      ]
     },
     "metadata": {},
     "output_type": "display_data"
    }
   ],
   "source": [
    "Relative.risk(DogData.x, nrow=2, inverse=F)"
   ]
  },
  {
   "cell_type": "markdown",
   "id": "f8794e2a-dbbb-41e5-8ca7-aa7191690316",
   "metadata": {},
   "source": [
    "### Relative risk of disagreement with concert\n",
    "\n",
    "Calculate the relative risk of disagreement with summer concerts depending on the opinion about using leads."
   ]
  },
  {
   "cell_type": "code",
   "execution_count": 76,
   "id": "c2d0faa2-dd92-4ebc-9cce-35aac09e061b",
   "metadata": {},
   "outputs": [
    {
     "data": {
      "text/html": [
       "<table>\n",
       "<thead><tr><th></th><th scope=col>Agree and No Opinion</th><th scope=col>Disagree</th><th scope=col>Sum</th></tr></thead>\n",
       "<tbody>\n",
       "\t<tr><th scope=row>Agree and No Opinion</th><td>137</td><td> 9 </td><td>146</td></tr>\n",
       "\t<tr><th scope=row>Disagree</th><td>  2</td><td>10 </td><td> 12</td></tr>\n",
       "\t<tr><th scope=row>Sum</th><td>139</td><td>19 </td><td>158</td></tr>\n",
       "</tbody>\n",
       "</table>\n"
      ],
      "text/latex": [
       "\\begin{tabular}{r|lll}\n",
       "  & Agree and No Opinion & Disagree & Sum\\\\\n",
       "\\hline\n",
       "\tAgree and No Opinion & 137 &  9  & 146\\\\\n",
       "\tDisagree &   2 & 10  &  12\\\\\n",
       "\tSum & 139 & 19  & 158\\\\\n",
       "\\end{tabular}\n"
      ],
      "text/markdown": [
       "\n",
       "| <!--/--> | Agree and No Opinion | Disagree | Sum |\n",
       "|---|---|---|---|\n",
       "| Agree and No Opinion | 137 |  9  | 146 |\n",
       "| Disagree |   2 | 10  |  12 |\n",
       "| Sum | 139 | 19  | 158 |\n",
       "\n"
      ],
      "text/plain": [
       "                      Concerts\n",
       "Dogs                   Agree and No Opinion Disagree Sum\n",
       "  Agree and No Opinion 137                   9       146\n",
       "  Disagree               2                  10        12\n",
       "  Sum                  139                  19       158"
      ]
     },
     "metadata": {},
     "output_type": "display_data"
    }
   ],
   "source": [
    "addmargins(DogData.x)"
   ]
  },
  {
   "cell_type": "markdown",
   "id": "beacc7f7-6734-4c34-84fc-02c369a4fe13",
   "metadata": {},
   "source": [
    "Note: To calculate the relative risk of disagreement with summer concerts depending on the opinion about using dogs on lead. we need to compute the relative risk by using the Disagree values (we need to use the row of diagree using the lead on dogs.)\n",
    "\n",
    "* In this we have 2 disagreement of using park as concert but agree on dog on lead.\n",
    "* and 10 disagreement on both (\"use for concert\", \"Dogs on lead\")\n",
    "\n",
    "So Now we need to find out the relative risk on disagree row using the lead. "
   ]
  },
  {
   "cell_type": "code",
   "execution_count": 93,
   "id": "755260d5-6ec4-4918-b0c5-4113f5e28c4a",
   "metadata": {},
   "outputs": [
    {
     "data": {
      "text/html": [
       "0.0273381294964029"
      ],
      "text/latex": [
       "0.0273381294964029"
      ],
      "text/markdown": [
       "0.0273381294964029"
      ],
      "text/plain": [
       "[1] 0.02733813"
      ]
     },
     "metadata": {},
     "output_type": "display_data"
    }
   ],
   "source": [
    "# Now we need to calculate the relative risk for that we will use the custom function which is defined in above Exercise.\n",
    "\n",
    "# calculating the relative risk\n",
    "Relative.risk(Dataset = DogData.x, nrow=2, For='X')\n",
    "\n",
    "# In this we have put the Dataset of the DogData.x which is a 2x2 table.\n",
    "# nrow defines that we need to calculate the relative risk by using the 2nd row which defines the disagree people on using park for concert.\n",
    "# For = 'X'  defines that we need to calculate the relative risk for X variable using Y variable."
   ]
  },
  {
   "cell_type": "markdown",
   "id": "4e0ba29d-f0b5-41b4-be45-967e7e87b682",
   "metadata": {},
   "source": [
    "`risk:` The above result show that the proportion of the diagreement on usimg park for concert with dogs on lead are 0.03 times lower with compare to disagreement on not using park for concert."
   ]
  },
  {
   "cell_type": "code",
   "execution_count": 94,
   "id": "d2e3284c-5de4-4ad7-b31c-9430ceaac9c2",
   "metadata": {},
   "outputs": [
    {
     "data": {
      "text/html": [
       "36.578947368421"
      ],
      "text/latex": [
       "36.578947368421"
      ],
      "text/markdown": [
       "36.578947368421"
      ],
      "text/plain": [
       "[1] 36.57895"
      ]
     },
     "metadata": {},
     "output_type": "display_data"
    }
   ],
   "source": [
    "# inversing the first relative risk\n",
    "Relative.risk(Dataset = DogData.x, nrow=2, For='X', inverse = T)"
   ]
  },
  {
   "cell_type": "markdown",
   "id": "ee9be77f-8c45-4046-8ec6-40d86a63bb92",
   "metadata": {},
   "source": [
    "`inverse risk:` after inverting the relative risk we find out that the proportion of the disagreement on using park for concert without dogs on lead are 36.58 times higher than compare to those who are disagree on using park for concert but want to put dogs on lead.\n",
    "\n",
    "\n",
    "`In other words:` In Simple words, if a person vote for 'using park for concert' than there is 36.58 times higher chances that he will also vote for 'putting dogs on lead' or he wont say anything about. "
   ]
  },
  {
   "cell_type": "markdown",
   "id": "2219abc2-081f-4323-879d-ccde736e4376",
   "metadata": {},
   "source": [
    "### Odd ratio\n",
    "\n",
    "Now we will find out the odd ratio and we will interprete it."
   ]
  },
  {
   "cell_type": "code",
   "execution_count": 101,
   "id": "d97c90a8-eea5-4c93-a120-690600a19f67",
   "metadata": {},
   "outputs": [
    {
     "data": {
      "text/html": [
       "76.1111111111111"
      ],
      "text/latex": [
       "76.1111111111111"
      ],
      "text/markdown": [
       "76.1111111111111"
      ],
      "text/plain": [
       "[1] 76.11111"
      ]
     },
     "metadata": {},
     "output_type": "display_data"
    }
   ],
   "source": [
    "Odd.ratio(DogData.x)"
   ]
  },
  {
   "cell_type": "markdown",
   "id": "b721f8c4-327c-4775-88e0-beff7e4940ed",
   "metadata": {},
   "source": [
    "`Interpretation:`\n",
    "\n",
    "* The chance of not disagreeing with the concert proposal is 76.1 times higher for those who also do not disagree with the leash proposal.\n",
    "\n",
    "* The chance of not disagreeing with the leash proposal is 76.1 times higher for those who also do not disagree with the concert proposal.\n",
    "\n",
    "* In simpler words: The chance of agreeing or having no opinion for one of the questions is 76.1 times higher if the person also has no opinion or agrees with the other question."
   ]
  },
  {
   "cell_type": "markdown",
   "id": "1c742f89-2561-4221-8401-006a5f3b1212",
   "metadata": {},
   "source": [
    "### Goddman and Kruskal's $\\gamma$ for DogData.x"
   ]
  },
  {
   "cell_type": "code",
   "execution_count": 104,
   "id": "3214931c-89fd-4474-9f5f-1239397579e2",
   "metadata": {
    "collapsed": true,
    "jupyter": {
     "outputs_hidden": true
    },
    "tags": []
   },
   "outputs": [
    {
     "name": "stderr",
     "output_type": "stream",
     "text": [
      "Warning message:\n",
      "\"package 'ryouready' was built under R version 3.6.3\"Registered S3 methods overwritten by 'ggplot2':\n",
      "  method         from \n",
      "  [.quosures     rlang\n",
      "  c.quosures     rlang\n",
      "  print.quosures rlang\n"
     ]
    }
   ],
   "source": [
    "library(ryouready)"
   ]
  },
  {
   "cell_type": "code",
   "execution_count": 105,
   "id": "6c517d33-d7ba-414d-8244-1e7704fe36d4",
   "metadata": {},
   "outputs": [
    {
     "data": {
      "text/plain": [
       "Goodman-Kruskal Gamma: 0.974 "
      ]
     },
     "metadata": {},
     "output_type": "display_data"
    }
   ],
   "source": [
    "ord.gamma(DogData.x)"
   ]
  },
  {
   "cell_type": "markdown",
   "id": "0da7fb92-6e02-49b6-bdb0-520e4986d6f7",
   "metadata": {},
   "source": [
    "`Interpretation:` From the aboce result we can say that there is a very strong positive association b/w the 'leash proposal' and 'concert proposal'. "
   ]
  },
  {
   "cell_type": "markdown",
   "id": "18345a09-9b55-4451-8c6b-d206942df729",
   "metadata": {},
   "source": [
    "### Final Interpretation:\n",
    "\n",
    "* Finally, we can say that both the proposal are very strongly associated and the decision to make for each proposal is highly dependent on the other proposal.\n",
    "\n",
    "* if one person choose the concert the proposal then ther is very much probability that he will choose the second proposal.\n",
    "\n",
    "* Most of the people would love to choose both the proposal.\n",
    "\n",
    "* In general, it makes sense to use all the information available, i.e. to use the\n",
    "ordinal structure of the data and all three categories. While it is clear that γ is\n",
    "superior to V in our example, one may argue that the relative risks or the odds\n",
    "ratio could be more useful because they provide an intuitive quantification on\n",
    "how the two variables relate to each other rather than just giving a summary\n",
    "of strength and direction of association. However, as we have seen earlier, the\n",
    "interpretations of the relative risks and the odds ratio are quite clumsy in this\n",
    "example. It can be difficult to follow the somewhat complicated interpretation.\n",
    "A simple summary would be to say that agreement with both questions was\n",
    "strongly associated (γ = 0.98)"
   ]
  },
  {
   "cell_type": "markdown",
   "id": "05d85a4a-5f85-4085-8c1e-5ae5d2042bbc",
   "metadata": {},
   "source": [
    "___\n",
    "___"
   ]
  },
  {
   "cell_type": "markdown",
   "id": "63ef522f-406e-4b7c-bac7-b4b779314138",
   "metadata": {},
   "source": [
    "## Exercise 7"
   ]
  },
  {
   "cell_type": "markdown",
   "id": "a004cb69-5abe-426c-b825-a80856368b3c",
   "metadata": {},
   "source": [
    "Make yourself familiar with the Olympic decathlon data described in\n",
    "Appendix A.4. Read in and attach the data in R.\n",
    "\n",
    "* (a) Use R to calculate and interpret the Bravais–Pearson correlation coefficient\n",
    "between the results of the discus and the shot-put events.\n",
    "* (b) There are 10 continuous variables. How many different correlation coefficients\n",
    "can you calculate? How would you summarize them?\n",
    "* (c) Apply the cor command to the whole data and interpret the output.\n",
    "* (d) Omit the two rows which contain missing data and interpret the output again."
   ]
  },
  {
   "cell_type": "markdown",
   "id": "81653cbd-ebd9-4648-8db9-a8843c7269ec",
   "metadata": {},
   "source": [
    "Now we will import or load the Olympic decathlon dataset."
   ]
  },
  {
   "cell_type": "code",
   "execution_count": 140,
   "id": "fd31ee10-4306-499b-b440-fd9555e2d493",
   "metadata": {},
   "outputs": [
    {
     "data": {
      "text/html": [
       "<table>\n",
       "<thead><tr><th></th><th scope=col>X.100m</th><th scope=col>X.Long.jump</th><th scope=col>X.Shot.put</th><th scope=col>X.High.jump</th><th scope=col>X.400m</th><th scope=col>X.110m.hurdle</th><th scope=col>X.Discus</th><th scope=col>X.Pole.vault</th><th scope=col>X.Javeline</th><th scope=col>X.1500m</th></tr></thead>\n",
       "<tbody>\n",
       "\t<tr><th scope=row>Roman Sebrle</th><td>10.85 </td><td>7.84  </td><td>16.36 </td><td>2.12  </td><td>48.36 </td><td>14.05 </td><td>48.72 </td><td>5.0   </td><td>70.52 </td><td>280.01</td></tr>\n",
       "\t<tr><th scope=row>Bryan Clay</th><td>10.44 </td><td>7.96  </td><td>15.23 </td><td>2.06  </td><td>49.19 </td><td>14.13 </td><td>50.11 </td><td>4.9   </td><td>69.71 </td><td>282.00</td></tr>\n",
       "\t<tr><th scope=row>Dmitriy Karpov</th><td>10.50 </td><td>7.81  </td><td>15.93 </td><td>2.09  </td><td>46.81 </td><td>13.97 </td><td>51.65 </td><td>4.6   </td><td>55.54 </td><td>278.11</td></tr>\n",
       "\t<tr><th scope=row>Dean Macey</th><td>10.89 </td><td>7.47  </td><td>15.73 </td><td>2.15  </td><td>48.97 </td><td>14.56 </td><td>48.34 </td><td>4.4   </td><td>58.46 </td><td>265.42</td></tr>\n",
       "\t<tr><th scope=row>Chiel Warners</th><td>10.62 </td><td>7.74  </td><td>14.48 </td><td>1.97  </td><td>47.97 </td><td>14.01 </td><td>43.73 </td><td>4.9   </td><td>55.39 </td><td>278.05</td></tr>\n",
       "\t<tr><th scope=row>Attila Zsivoczky</th><td>10.91 </td><td>7.14  </td><td>15.31 </td><td>2.12  </td><td>49.40 </td><td>14.95 </td><td>45.62 </td><td>4.7   </td><td>63.45 </td><td>269.54</td></tr>\n",
       "</tbody>\n",
       "</table>\n"
      ],
      "text/latex": [
       "\\begin{tabular}{r|llllllllll}\n",
       "  & X.100m & X.Long.jump & X.Shot.put & X.High.jump & X.400m & X.110m.hurdle & X.Discus & X.Pole.vault & X.Javeline & X.1500m\\\\\n",
       "\\hline\n",
       "\tRoman Sebrle & 10.85  & 7.84   & 16.36  & 2.12   & 48.36  & 14.05  & 48.72  & 5.0    & 70.52  & 280.01\\\\\n",
       "\tBryan Clay & 10.44  & 7.96   & 15.23  & 2.06   & 49.19  & 14.13  & 50.11  & 4.9    & 69.71  & 282.00\\\\\n",
       "\tDmitriy Karpov & 10.50  & 7.81   & 15.93  & 2.09   & 46.81  & 13.97  & 51.65  & 4.6    & 55.54  & 278.11\\\\\n",
       "\tDean Macey & 10.89  & 7.47   & 15.73  & 2.15   & 48.97  & 14.56  & 48.34  & 4.4    & 58.46  & 265.42\\\\\n",
       "\tChiel Warners & 10.62  & 7.74   & 14.48  & 1.97   & 47.97  & 14.01  & 43.73  & 4.9    & 55.39  & 278.05\\\\\n",
       "\tAttila Zsivoczky & 10.91  & 7.14   & 15.31  & 2.12   & 49.40  & 14.95  & 45.62  & 4.7    & 63.45  & 269.54\\\\\n",
       "\\end{tabular}\n"
      ],
      "text/markdown": [
       "\n",
       "| <!--/--> | X.100m | X.Long.jump | X.Shot.put | X.High.jump | X.400m | X.110m.hurdle | X.Discus | X.Pole.vault | X.Javeline | X.1500m |\n",
       "|---|---|---|---|---|---|---|---|---|---|---|\n",
       "| Roman Sebrle | 10.85  | 7.84   | 16.36  | 2.12   | 48.36  | 14.05  | 48.72  | 5.0    | 70.52  | 280.01 |\n",
       "| Bryan Clay | 10.44  | 7.96   | 15.23  | 2.06   | 49.19  | 14.13  | 50.11  | 4.9    | 69.71  | 282.00 |\n",
       "| Dmitriy Karpov | 10.50  | 7.81   | 15.93  | 2.09   | 46.81  | 13.97  | 51.65  | 4.6    | 55.54  | 278.11 |\n",
       "| Dean Macey | 10.89  | 7.47   | 15.73  | 2.15   | 48.97  | 14.56  | 48.34  | 4.4    | 58.46  | 265.42 |\n",
       "| Chiel Warners | 10.62  | 7.74   | 14.48  | 1.97   | 47.97  | 14.01  | 43.73  | 4.9    | 55.39  | 278.05 |\n",
       "| Attila Zsivoczky | 10.91  | 7.14   | 15.31  | 2.12   | 49.40  | 14.95  | 45.62  | 4.7    | 63.45  | 269.54 |\n",
       "\n"
      ],
      "text/plain": [
       "                 X.100m X.Long.jump X.Shot.put X.High.jump X.400m X.110m.hurdle\n",
       "Roman Sebrle     10.85  7.84        16.36      2.12        48.36  14.05        \n",
       "Bryan Clay       10.44  7.96        15.23      2.06        49.19  14.13        \n",
       "Dmitriy Karpov   10.50  7.81        15.93      2.09        46.81  13.97        \n",
       "Dean Macey       10.89  7.47        15.73      2.15        48.97  14.56        \n",
       "Chiel Warners    10.62  7.74        14.48      1.97        47.97  14.01        \n",
       "Attila Zsivoczky 10.91  7.14        15.31      2.12        49.40  14.95        \n",
       "                 X.Discus X.Pole.vault X.Javeline X.1500m\n",
       "Roman Sebrle     48.72    5.0          70.52      280.01 \n",
       "Bryan Clay       50.11    4.9          69.71      282.00 \n",
       "Dmitriy Karpov   51.65    4.6          55.54      278.11 \n",
       "Dean Macey       48.34    4.4          58.46      265.42 \n",
       "Chiel Warners    43.73    4.9          55.39      278.05 \n",
       "Attila Zsivoczky 45.62    4.7          63.45      269.54 "
      ]
     },
     "metadata": {},
     "output_type": "display_data"
    }
   ],
   "source": [
    "# loading the decathlon dataset from the local current directory\n",
    "decathlon = read.csv(file='decathlon.csv',row.names=1)\n",
    "head(decathlon)"
   ]
  },
  {
   "cell_type": "code",
   "execution_count": 141,
   "id": "94724518-ce07-4906-989f-0fc578f2caa6",
   "metadata": {},
   "outputs": [
    {
     "name": "stdout",
     "output_type": "stream",
     "text": [
      "'data.frame':\t30 obs. of  10 variables:\n",
      " $ X.100m       : num  10.8 10.4 10.5 10.9 10.6 ...\n",
      " $ X.Long.jump  : num  7.84 7.96 7.81 7.47 7.74 7.14 7.19 7.53 7.48 7.49 ...\n",
      " $ X.Shot.put   : num  16.4 15.2 15.9 15.7 14.5 ...\n",
      " $ X.High.jump  : num  2.12 2.06 2.09 2.15 1.97 2.12 2.03 1.88 2.12 1.94 ...\n",
      " $ X.400m       : num  48.4 49.2 46.8 49 48 ...\n",
      " $ X.110m.hurdle: num  14.1 14.1 14 14.6 14 ...\n",
      " $ X.Discus     : num  48.7 50.1 51.6 48.3 43.7 ...\n",
      " $ X.Pole.vault : num  5 4.9 4.6 4.4 4.9 4.7 4.8 5.4 4.4 5.1 ...\n",
      " $ X.Javeline   : num  70.5 69.7 55.5 58.5 55.4 ...\n",
      " $ X.1500m      : num  280 282 278 265 278 ...\n"
     ]
    }
   ],
   "source": [
    "# checking the structure of all the datapoints.\n",
    "str(decathlon)\n"
   ]
  },
  {
   "cell_type": "markdown",
   "id": "3b5f6126-45b5-4b4e-bf1e-0400903a4f17",
   "metadata": {},
   "source": [
    "From above result we have only one categorical column and others are numeric columns.\n",
    "\n",
    "* First columns contains the name of the player.\n",
    "* Other 10 column contains the numeric data type which is continuous data."
   ]
  },
  {
   "cell_type": "markdown",
   "id": "000cb1b8-0595-4ca9-98c7-c238458c4b33",
   "metadata": {},
   "source": [
    "After loading the data we will use the attach() function to create the all the variable presented in the dataset."
   ]
  },
  {
   "cell_type": "code",
   "execution_count": 149,
   "id": "78fa24c8-e80f-4657-98f5-40cabae541c1",
   "metadata": {},
   "outputs": [
    {
     "name": "stderr",
     "output_type": "stream",
     "text": [
      "The following objects are masked from decathlon (pos = 3):\n",
      "\n",
      "    X.100m, X.110m.hurdle, X.1500m, X.400m, X.Discus, X.High.jump,\n",
      "    X.Javeline, X.Long.jump, X.Pole.vault, X.Shot.put\n",
      "\n",
      "The following objects are masked from decathlon (pos = 4):\n",
      "\n",
      "    X.100m, X.110m.hurdle, X.1500m, X.400m, X.Discus, X.High.jump,\n",
      "    X.Javeline, X.Long.jump, X.Pole.vault, X.Shot.put\n",
      "\n"
     ]
    }
   ],
   "source": [
    "attach(decathlon)"
   ]
  },
  {
   "cell_type": "markdown",
   "id": "99169f95-4bcf-49c4-8d8e-7f4890af5344",
   "metadata": {},
   "source": [
    "### Bravais-Pearson Correlation coefficient b/w the results of the discus and the shot-put events"
   ]
  },
  {
   "cell_type": "code",
   "execution_count": 150,
   "id": "be2df0b6-0f5f-4113-b903-1ce8693af81a",
   "metadata": {},
   "outputs": [
    {
     "data": {
      "text/html": [
       "0.529840008193147"
      ],
      "text/latex": [
       "0.529840008193147"
      ],
      "text/markdown": [
       "0.529840008193147"
      ],
      "text/plain": [
       "[1] 0.52984"
      ]
     },
     "metadata": {},
     "output_type": "display_data"
    }
   ],
   "source": [
    "# Now we need to calculate the pearson correlation coefficient b/w the results of the discus and the shot-put events.\n",
    "\n",
    "cor(X.Discus,X.High.jump)"
   ]
  },
  {
   "cell_type": "markdown",
   "id": "76ce9251-924e-417e-ade4-4ff0cc5d97f0",
   "metadata": {},
   "source": [
    "From above output it has shown that there is a moderate relation b/w the *X.Discus* and *X.High.jump* variable."
   ]
  },
  {
   "cell_type": "markdown",
   "id": "cc756ed6-bd7b-486a-9c7c-f2d614a1d361",
   "metadata": {},
   "source": [
    "### How many correlation coefficient in the dataset"
   ]
  },
  {
   "cell_type": "markdown",
   "id": "23a4aa1d-bfa2-4185-aee5-124db74e8aa6",
   "metadata": {},
   "source": [
    "There are 10 variables. For the first variable, we can calculate the correlation with\n",
    "9 other variables. For the second variable, we can also calculate the correlation\n",
    "with 9 other variables. However, we have already calculated one out of the\n",
    "9 correlations, i.e. when analysing variable number one. So it is sufficient to\n",
    "calculate 8 correlations for the second variable. Similarly, we need another 7\n",
    "correlations for the third variable, 6 correlations for the fourth variable, and so on.\n",
    "In total, we therefore need to have 9 + 8 + 7 + · · · + 1 = 45 correlations. Since\n",
    "the correlation coefficient describes the relationship between two variables, it makes sense to summarize the results in a contingency table"
   ]
  },
  {
   "cell_type": "markdown",
   "id": "c8aa676c-3581-4571-957a-849a80f63246",
   "metadata": {},
   "source": [
    "### correlation coefficient b/w all variable."
   ]
  },
  {
   "cell_type": "code",
   "execution_count": 161,
   "id": "31fe5bc4-f307-40d5-a01b-c60a18de483a",
   "metadata": {},
   "outputs": [
    {
     "data": {
      "text/html": [
       "<table>\n",
       "<thead><tr><th></th><th scope=col>X.100m</th><th scope=col>X.Long.jump</th><th scope=col>X.Shot.put</th><th scope=col>X.High.jump</th><th scope=col>X.400m</th><th scope=col>X.110m.hurdle</th><th scope=col>X.Discus</th><th scope=col>X.Pole.vault</th><th scope=col>X.Javeline</th><th scope=col>X.1500m</th></tr></thead>\n",
       "<tbody>\n",
       "\t<tr><th scope=row>X.100m</th><td> 1.00000000 </td><td>-0.70496966 </td><td>-0.36969566 </td><td>-0.309283792</td><td> 0.63478518 </td><td> 0.54255793 </td><td>-0.2333169  </td><td>-0.26045206 </td><td>-0.01168981 </td><td> 0.058434406</td></tr>\n",
       "\t<tr><th scope=row>X.Long.jump</th><td>-0.70496966 </td><td> 1.00000000 </td><td> 0.19545125 </td><td> 0.345662087</td><td>-0.67111115 </td><td>-0.53816329 </td><td> 0.2499092  </td><td> 0.28507937 </td><td> 0.09379205 </td><td>-0.147426053</td></tr>\n",
       "\t<tr><th scope=row>X.Shot.put</th><td>-0.36969566 </td><td> 0.19545125 </td><td> 1.00000000 </td><td> 0.612582295</td><td>-0.19930019 </td><td>-0.24506987 </td><td> 0.6657743  </td><td> 0.02369214 </td><td> 0.38334308 </td><td> 0.129543822</td></tr>\n",
       "\t<tr><th scope=row>X.High.jump</th><td>-0.30928379 </td><td> 0.34566209 </td><td> 0.61258229 </td><td> 1.000000000</td><td>-0.16915905 </td><td>-0.32595769 </td><td> 0.5169633  </td><td>-0.04238205 </td><td> 0.20448124 </td><td>-0.003496111</td></tr>\n",
       "\t<tr><th scope=row>X.400m</th><td> 0.63478518 </td><td>-0.67111115 </td><td>-0.19930019 </td><td>-0.169159053</td><td> 1.00000000 </td><td> 0.51988045 </td><td>-0.1441863  </td><td>-0.11542821 </td><td>-0.05465387 </td><td> 0.551223700</td></tr>\n",
       "\t<tr><th scope=row>X.110m.hurdle</th><td> 0.54255793 </td><td>-0.53816329 </td><td>-0.24506987 </td><td>-0.325957691</td><td> 0.51988045 </td><td> 1.00000000 </td><td>-0.2168722  </td><td>-0.15097483 </td><td>-0.07981966 </td><td> 0.179045379</td></tr>\n",
       "\t<tr><th scope=row>X.Discus</th><td>-0.23331691 </td><td> 0.24990923 </td><td> 0.66577435 </td><td> 0.516963291</td><td>-0.14418633 </td><td>-0.21687217 </td><td> 1.0000000  </td><td>-0.18421149 </td><td> 0.25485350 </td><td> 0.220171580</td></tr>\n",
       "\t<tr><th scope=row>X.Pole.vault</th><td>-0.26045206 </td><td> 0.28507937 </td><td> 0.02369214 </td><td>-0.042382049</td><td>-0.11542821 </td><td>-0.15097483 </td><td>-0.1842115  </td><td> 1.00000000 </td><td>-0.06610479 </td><td> 0.179471438</td></tr>\n",
       "\t<tr><th scope=row>X.Javeline</th><td>-0.01168981 </td><td> 0.09379205 </td><td> 0.38334308 </td><td> 0.204481236</td><td>-0.05465387 </td><td>-0.07981966 </td><td> 0.2548535  </td><td>-0.06610479 </td><td> 1.00000000 </td><td>-0.251505647</td></tr>\n",
       "\t<tr><th scope=row>X.1500m</th><td> 0.05843441 </td><td>-0.14742605 </td><td> 0.12954382 </td><td>-0.003496111</td><td> 0.55122370 </td><td> 0.17904538 </td><td> 0.2201716  </td><td> 0.17947144 </td><td>-0.25150565 </td><td> 1.000000000</td></tr>\n",
       "</tbody>\n",
       "</table>\n"
      ],
      "text/latex": [
       "\\begin{tabular}{r|llllllllll}\n",
       "  & X.100m & X.Long.jump & X.Shot.put & X.High.jump & X.400m & X.110m.hurdle & X.Discus & X.Pole.vault & X.Javeline & X.1500m\\\\\n",
       "\\hline\n",
       "\tX.100m &  1.00000000  & -0.70496966  & -0.36969566  & -0.309283792 &  0.63478518  &  0.54255793  & -0.2333169   & -0.26045206  & -0.01168981  &  0.058434406\\\\\n",
       "\tX.Long.jump & -0.70496966  &  1.00000000  &  0.19545125  &  0.345662087 & -0.67111115  & -0.53816329  &  0.2499092   &  0.28507937  &  0.09379205  & -0.147426053\\\\\n",
       "\tX.Shot.put & -0.36969566  &  0.19545125  &  1.00000000  &  0.612582295 & -0.19930019  & -0.24506987  &  0.6657743   &  0.02369214  &  0.38334308  &  0.129543822\\\\\n",
       "\tX.High.jump & -0.30928379  &  0.34566209  &  0.61258229  &  1.000000000 & -0.16915905  & -0.32595769  &  0.5169633   & -0.04238205  &  0.20448124  & -0.003496111\\\\\n",
       "\tX.400m &  0.63478518  & -0.67111115  & -0.19930019  & -0.169159053 &  1.00000000  &  0.51988045  & -0.1441863   & -0.11542821  & -0.05465387  &  0.551223700\\\\\n",
       "\tX.110m.hurdle &  0.54255793  & -0.53816329  & -0.24506987  & -0.325957691 &  0.51988045  &  1.00000000  & -0.2168722   & -0.15097483  & -0.07981966  &  0.179045379\\\\\n",
       "\tX.Discus & -0.23331691  &  0.24990923  &  0.66577435  &  0.516963291 & -0.14418633  & -0.21687217  &  1.0000000   & -0.18421149  &  0.25485350  &  0.220171580\\\\\n",
       "\tX.Pole.vault & -0.26045206  &  0.28507937  &  0.02369214  & -0.042382049 & -0.11542821  & -0.15097483  & -0.1842115   &  1.00000000  & -0.06610479  &  0.179471438\\\\\n",
       "\tX.Javeline & -0.01168981  &  0.09379205  &  0.38334308  &  0.204481236 & -0.05465387  & -0.07981966  &  0.2548535   & -0.06610479  &  1.00000000  & -0.251505647\\\\\n",
       "\tX.1500m &  0.05843441  & -0.14742605  &  0.12954382  & -0.003496111 &  0.55122370  &  0.17904538  &  0.2201716   &  0.17947144  & -0.25150565  &  1.000000000\\\\\n",
       "\\end{tabular}\n"
      ],
      "text/markdown": [
       "\n",
       "| <!--/--> | X.100m | X.Long.jump | X.Shot.put | X.High.jump | X.400m | X.110m.hurdle | X.Discus | X.Pole.vault | X.Javeline | X.1500m |\n",
       "|---|---|---|---|---|---|---|---|---|---|---|\n",
       "| X.100m |  1.00000000  | -0.70496966  | -0.36969566  | -0.309283792 |  0.63478518  |  0.54255793  | -0.2333169   | -0.26045206  | -0.01168981  |  0.058434406 |\n",
       "| X.Long.jump | -0.70496966  |  1.00000000  |  0.19545125  |  0.345662087 | -0.67111115  | -0.53816329  |  0.2499092   |  0.28507937  |  0.09379205  | -0.147426053 |\n",
       "| X.Shot.put | -0.36969566  |  0.19545125  |  1.00000000  |  0.612582295 | -0.19930019  | -0.24506987  |  0.6657743   |  0.02369214  |  0.38334308  |  0.129543822 |\n",
       "| X.High.jump | -0.30928379  |  0.34566209  |  0.61258229  |  1.000000000 | -0.16915905  | -0.32595769  |  0.5169633   | -0.04238205  |  0.20448124  | -0.003496111 |\n",
       "| X.400m |  0.63478518  | -0.67111115  | -0.19930019  | -0.169159053 |  1.00000000  |  0.51988045  | -0.1441863   | -0.11542821  | -0.05465387  |  0.551223700 |\n",
       "| X.110m.hurdle |  0.54255793  | -0.53816329  | -0.24506987  | -0.325957691 |  0.51988045  |  1.00000000  | -0.2168722   | -0.15097483  | -0.07981966  |  0.179045379 |\n",
       "| X.Discus | -0.23331691  |  0.24990923  |  0.66577435  |  0.516963291 | -0.14418633  | -0.21687217  |  1.0000000   | -0.18421149  |  0.25485350  |  0.220171580 |\n",
       "| X.Pole.vault | -0.26045206  |  0.28507937  |  0.02369214  | -0.042382049 | -0.11542821  | -0.15097483  | -0.1842115   |  1.00000000  | -0.06610479  |  0.179471438 |\n",
       "| X.Javeline | -0.01168981  |  0.09379205  |  0.38334308  |  0.204481236 | -0.05465387  | -0.07981966  |  0.2548535   | -0.06610479  |  1.00000000  | -0.251505647 |\n",
       "| X.1500m |  0.05843441  | -0.14742605  |  0.12954382  | -0.003496111 |  0.55122370  |  0.17904538  |  0.2201716   |  0.17947144  | -0.25150565  |  1.000000000 |\n",
       "\n"
      ],
      "text/plain": [
       "              X.100m      X.Long.jump X.Shot.put  X.High.jump  X.400m     \n",
       "X.100m         1.00000000 -0.70496966 -0.36969566 -0.309283792  0.63478518\n",
       "X.Long.jump   -0.70496966  1.00000000  0.19545125  0.345662087 -0.67111115\n",
       "X.Shot.put    -0.36969566  0.19545125  1.00000000  0.612582295 -0.19930019\n",
       "X.High.jump   -0.30928379  0.34566209  0.61258229  1.000000000 -0.16915905\n",
       "X.400m         0.63478518 -0.67111115 -0.19930019 -0.169159053  1.00000000\n",
       "X.110m.hurdle  0.54255793 -0.53816329 -0.24506987 -0.325957691  0.51988045\n",
       "X.Discus      -0.23331691  0.24990923  0.66577435  0.516963291 -0.14418633\n",
       "X.Pole.vault  -0.26045206  0.28507937  0.02369214 -0.042382049 -0.11542821\n",
       "X.Javeline    -0.01168981  0.09379205  0.38334308  0.204481236 -0.05465387\n",
       "X.1500m        0.05843441 -0.14742605  0.12954382 -0.003496111  0.55122370\n",
       "              X.110m.hurdle X.Discus   X.Pole.vault X.Javeline  X.1500m     \n",
       "X.100m         0.54255793   -0.2333169 -0.26045206  -0.01168981  0.058434406\n",
       "X.Long.jump   -0.53816329    0.2499092  0.28507937   0.09379205 -0.147426053\n",
       "X.Shot.put    -0.24506987    0.6657743  0.02369214   0.38334308  0.129543822\n",
       "X.High.jump   -0.32595769    0.5169633 -0.04238205   0.20448124 -0.003496111\n",
       "X.400m         0.51988045   -0.1441863 -0.11542821  -0.05465387  0.551223700\n",
       "X.110m.hurdle  1.00000000   -0.2168722 -0.15097483  -0.07981966  0.179045379\n",
       "X.Discus      -0.21687217    1.0000000 -0.18421149   0.25485350  0.220171580\n",
       "X.Pole.vault  -0.15097483   -0.1842115  1.00000000  -0.06610479  0.179471438\n",
       "X.Javeline    -0.07981966    0.2548535 -0.06610479   1.00000000 -0.251505647\n",
       "X.1500m        0.17904538    0.2201716  0.17947144  -0.25150565  1.000000000"
      ]
     },
     "metadata": {},
     "output_type": "display_data"
    }
   ],
   "source": [
    "# To remove all the presented na values from the datse we can use na.omits which will remove all the na values.\n",
    "decathlon_correlation = cor(na.omit(decathlon))\n",
    "decathlon_correlation"
   ]
  },
  {
   "cell_type": "code",
   "execution_count": 162,
   "id": "54494f78-78ca-4603-92e8-906848bbc6ea",
   "metadata": {},
   "outputs": [
    {
     "data": {
      "text/html": [
       "<table>\n",
       "<thead><tr><th></th><th scope=col>X.100m</th><th scope=col>X.Long.jump</th><th scope=col>X.Shot.put</th><th scope=col>X.High.jump</th><th scope=col>X.400m</th><th scope=col>X.110m.hurdle</th><th scope=col>X.Discus</th><th scope=col>X.Pole.vault</th><th scope=col>X.Javeline</th><th scope=col>X.1500m</th></tr></thead>\n",
       "<tbody>\n",
       "\t<tr><th scope=row>X.100m</th><td> 1.00</td><td>-0.70</td><td>-0.37</td><td>-0.31</td><td> 0.63</td><td> 0.54</td><td>-0.23</td><td>-0.26</td><td>-0.01</td><td> 0.06</td></tr>\n",
       "\t<tr><th scope=row>X.Long.jump</th><td>-0.70</td><td> 1.00</td><td> 0.20</td><td> 0.35</td><td>-0.67</td><td>-0.54</td><td> 0.25</td><td> 0.29</td><td> 0.09</td><td>-0.15</td></tr>\n",
       "\t<tr><th scope=row>X.Shot.put</th><td>-0.37</td><td> 0.20</td><td> 1.00</td><td> 0.61</td><td>-0.20</td><td>-0.25</td><td> 0.67</td><td> 0.02</td><td> 0.38</td><td> 0.13</td></tr>\n",
       "\t<tr><th scope=row>X.High.jump</th><td>-0.31</td><td> 0.35</td><td> 0.61</td><td> 1.00</td><td>-0.17</td><td>-0.33</td><td> 0.52</td><td>-0.04</td><td> 0.20</td><td> 0.00</td></tr>\n",
       "\t<tr><th scope=row>X.400m</th><td> 0.63</td><td>-0.67</td><td>-0.20</td><td>-0.17</td><td> 1.00</td><td> 0.52</td><td>-0.14</td><td>-0.12</td><td>-0.05</td><td> 0.55</td></tr>\n",
       "\t<tr><th scope=row>X.110m.hurdle</th><td> 0.54</td><td>-0.54</td><td>-0.25</td><td>-0.33</td><td> 0.52</td><td> 1.00</td><td>-0.22</td><td>-0.15</td><td>-0.08</td><td> 0.18</td></tr>\n",
       "\t<tr><th scope=row>X.Discus</th><td>-0.23</td><td> 0.25</td><td> 0.67</td><td> 0.52</td><td>-0.14</td><td>-0.22</td><td> 1.00</td><td>-0.18</td><td> 0.25</td><td> 0.22</td></tr>\n",
       "\t<tr><th scope=row>X.Pole.vault</th><td>-0.26</td><td> 0.29</td><td> 0.02</td><td>-0.04</td><td>-0.12</td><td>-0.15</td><td>-0.18</td><td> 1.00</td><td>-0.07</td><td> 0.18</td></tr>\n",
       "\t<tr><th scope=row>X.Javeline</th><td>-0.01</td><td> 0.09</td><td> 0.38</td><td> 0.20</td><td>-0.05</td><td>-0.08</td><td> 0.25</td><td>-0.07</td><td> 1.00</td><td>-0.25</td></tr>\n",
       "\t<tr><th scope=row>X.1500m</th><td> 0.06</td><td>-0.15</td><td> 0.13</td><td> 0.00</td><td> 0.55</td><td> 0.18</td><td> 0.22</td><td> 0.18</td><td>-0.25</td><td> 1.00</td></tr>\n",
       "</tbody>\n",
       "</table>\n"
      ],
      "text/latex": [
       "\\begin{tabular}{r|llllllllll}\n",
       "  & X.100m & X.Long.jump & X.Shot.put & X.High.jump & X.400m & X.110m.hurdle & X.Discus & X.Pole.vault & X.Javeline & X.1500m\\\\\n",
       "\\hline\n",
       "\tX.100m &  1.00 & -0.70 & -0.37 & -0.31 &  0.63 &  0.54 & -0.23 & -0.26 & -0.01 &  0.06\\\\\n",
       "\tX.Long.jump & -0.70 &  1.00 &  0.20 &  0.35 & -0.67 & -0.54 &  0.25 &  0.29 &  0.09 & -0.15\\\\\n",
       "\tX.Shot.put & -0.37 &  0.20 &  1.00 &  0.61 & -0.20 & -0.25 &  0.67 &  0.02 &  0.38 &  0.13\\\\\n",
       "\tX.High.jump & -0.31 &  0.35 &  0.61 &  1.00 & -0.17 & -0.33 &  0.52 & -0.04 &  0.20 &  0.00\\\\\n",
       "\tX.400m &  0.63 & -0.67 & -0.20 & -0.17 &  1.00 &  0.52 & -0.14 & -0.12 & -0.05 &  0.55\\\\\n",
       "\tX.110m.hurdle &  0.54 & -0.54 & -0.25 & -0.33 &  0.52 &  1.00 & -0.22 & -0.15 & -0.08 &  0.18\\\\\n",
       "\tX.Discus & -0.23 &  0.25 &  0.67 &  0.52 & -0.14 & -0.22 &  1.00 & -0.18 &  0.25 &  0.22\\\\\n",
       "\tX.Pole.vault & -0.26 &  0.29 &  0.02 & -0.04 & -0.12 & -0.15 & -0.18 &  1.00 & -0.07 &  0.18\\\\\n",
       "\tX.Javeline & -0.01 &  0.09 &  0.38 &  0.20 & -0.05 & -0.08 &  0.25 & -0.07 &  1.00 & -0.25\\\\\n",
       "\tX.1500m &  0.06 & -0.15 &  0.13 &  0.00 &  0.55 &  0.18 &  0.22 &  0.18 & -0.25 &  1.00\\\\\n",
       "\\end{tabular}\n"
      ],
      "text/markdown": [
       "\n",
       "| <!--/--> | X.100m | X.Long.jump | X.Shot.put | X.High.jump | X.400m | X.110m.hurdle | X.Discus | X.Pole.vault | X.Javeline | X.1500m |\n",
       "|---|---|---|---|---|---|---|---|---|---|---|\n",
       "| X.100m |  1.00 | -0.70 | -0.37 | -0.31 |  0.63 |  0.54 | -0.23 | -0.26 | -0.01 |  0.06 |\n",
       "| X.Long.jump | -0.70 |  1.00 |  0.20 |  0.35 | -0.67 | -0.54 |  0.25 |  0.29 |  0.09 | -0.15 |\n",
       "| X.Shot.put | -0.37 |  0.20 |  1.00 |  0.61 | -0.20 | -0.25 |  0.67 |  0.02 |  0.38 |  0.13 |\n",
       "| X.High.jump | -0.31 |  0.35 |  0.61 |  1.00 | -0.17 | -0.33 |  0.52 | -0.04 |  0.20 |  0.00 |\n",
       "| X.400m |  0.63 | -0.67 | -0.20 | -0.17 |  1.00 |  0.52 | -0.14 | -0.12 | -0.05 |  0.55 |\n",
       "| X.110m.hurdle |  0.54 | -0.54 | -0.25 | -0.33 |  0.52 |  1.00 | -0.22 | -0.15 | -0.08 |  0.18 |\n",
       "| X.Discus | -0.23 |  0.25 |  0.67 |  0.52 | -0.14 | -0.22 |  1.00 | -0.18 |  0.25 |  0.22 |\n",
       "| X.Pole.vault | -0.26 |  0.29 |  0.02 | -0.04 | -0.12 | -0.15 | -0.18 |  1.00 | -0.07 |  0.18 |\n",
       "| X.Javeline | -0.01 |  0.09 |  0.38 |  0.20 | -0.05 | -0.08 |  0.25 | -0.07 |  1.00 | -0.25 |\n",
       "| X.1500m |  0.06 | -0.15 |  0.13 |  0.00 |  0.55 |  0.18 |  0.22 |  0.18 | -0.25 |  1.00 |\n",
       "\n"
      ],
      "text/plain": [
       "              X.100m X.Long.jump X.Shot.put X.High.jump X.400m X.110m.hurdle\n",
       "X.100m         1.00  -0.70       -0.37      -0.31        0.63   0.54        \n",
       "X.Long.jump   -0.70   1.00        0.20       0.35       -0.67  -0.54        \n",
       "X.Shot.put    -0.37   0.20        1.00       0.61       -0.20  -0.25        \n",
       "X.High.jump   -0.31   0.35        0.61       1.00       -0.17  -0.33        \n",
       "X.400m         0.63  -0.67       -0.20      -0.17        1.00   0.52        \n",
       "X.110m.hurdle  0.54  -0.54       -0.25      -0.33        0.52   1.00        \n",
       "X.Discus      -0.23   0.25        0.67       0.52       -0.14  -0.22        \n",
       "X.Pole.vault  -0.26   0.29        0.02      -0.04       -0.12  -0.15        \n",
       "X.Javeline    -0.01   0.09        0.38       0.20       -0.05  -0.08        \n",
       "X.1500m        0.06  -0.15        0.13       0.00        0.55   0.18        \n",
       "              X.Discus X.Pole.vault X.Javeline X.1500m\n",
       "X.100m        -0.23    -0.26        -0.01       0.06  \n",
       "X.Long.jump    0.25     0.29         0.09      -0.15  \n",
       "X.Shot.put     0.67     0.02         0.38       0.13  \n",
       "X.High.jump    0.52    -0.04         0.20       0.00  \n",
       "X.400m        -0.14    -0.12        -0.05       0.55  \n",
       "X.110m.hurdle -0.22    -0.15        -0.08       0.18  \n",
       "X.Discus       1.00    -0.18         0.25       0.22  \n",
       "X.Pole.vault  -0.18     1.00        -0.07       0.18  \n",
       "X.Javeline     0.25    -0.07         1.00      -0.25  \n",
       "X.1500m        0.22     0.18        -0.25       1.00  "
      ]
     },
     "metadata": {},
     "output_type": "display_data"
    }
   ],
   "source": [
    "# rounding the all the values upto 2 decimals.\n",
    "round(decathlon_correlation, 2)"
   ]
  },
  {
   "cell_type": "markdown",
   "id": "1362fe9e-a6ba-44a8-a8bf-0431e44d028e",
   "metadata": {},
   "source": [
    "Now this result looks good and it shows all the correlation b/w all the valriable clearly."
   ]
  },
  {
   "cell_type": "markdown",
   "id": "48d97999-9213-4e96-9446-6fb12beaad7d",
   "metadata": {},
   "source": [
    "___\n",
    "___"
   ]
  },
  {
   "cell_type": "markdown",
   "id": "082e0c73-52d3-44b2-a833-92cba383ac39",
   "metadata": {},
   "source": [
    "## Exercise 8\n",
    "\n",
    "Load the pizza delivery and work on the bellow questions."
   ]
  },
  {
   "cell_type": "markdown",
   "id": "1c5c06f4-b71b-4fdd-b506-5b304f827457",
   "metadata": {},
   "source": [
    "* (a) Read in the data and create two new binary variables which describe whether\n",
    "a pizza was hot (>65 ◦C) and the delivery time was short (<30min). Create a\n",
    "contingency table for the two new variables.\n",
    "* (b) Calculate and interpret the odds ratio for the contingency table from (a).\n",
    "* (c) Use Cramer’s V , Stuart’s τc, Goodman and Kruskal’s γ, and a stacked bar chart to\n",
    "explore the association between the categorical time and temperature variables.\n",
    "* (d) Draw a scatter plot for the continuous time and temperature variables. Determine\n",
    "both the Bravais–Pearson and Spearman correlation coefficients.\n",
    "* (e) Use methods of your choice to explore the relationship between temperature\n",
    "and driver, operator, number of ordered pizzas and bill. Is it clear which of the\n",
    "variables influence the pizza temperature?"
   ]
  },
  {
   "cell_type": "markdown",
   "id": "01fe09d8-62e4-422f-af27-bdfb78458b5f",
   "metadata": {},
   "source": [
    "### Loading Pizza delivery dataset"
   ]
  },
  {
   "cell_type": "code",
   "execution_count": 163,
   "id": "8592783a-4ba9-486c-9c35-77283ce24569",
   "metadata": {},
   "outputs": [],
   "source": [
    "Pizza = read.csv(file='pizza_delivery.csv', header=T)"
   ]
  },
  {
   "cell_type": "code",
   "execution_count": 164,
   "id": "983f5474-a8ba-4735-a7d7-3353b4349cbd",
   "metadata": {},
   "outputs": [
    {
     "data": {
      "text/html": [
       "<table>\n",
       "<thead><tr><th scope=col>day</th><th scope=col>date</th><th scope=col>time</th><th scope=col>operator</th><th scope=col>branch</th><th scope=col>driver</th><th scope=col>temperature</th><th scope=col>bill</th><th scope=col>pizzas</th><th scope=col>free_wine</th><th scope=col>got_wine</th><th scope=col>discount_customer</th></tr></thead>\n",
       "<tbody>\n",
       "\t<tr><td>Thursday </td><td>01-May-14</td><td>35.12837 </td><td>Laura    </td><td>East     </td><td>Bruno    </td><td>68.28772 </td><td>58.4     </td><td>4        </td><td>0        </td><td>0        </td><td>1        </td></tr>\n",
       "\t<tr><td>Thursday </td><td>01-May-14</td><td>25.20307 </td><td>Melissa  </td><td>East     </td><td>Salvatore</td><td>70.99779 </td><td>26.4     </td><td>2        </td><td>0        </td><td>0        </td><td>0        </td></tr>\n",
       "\t<tr><td>Thursday </td><td>01-May-14</td><td>45.64340 </td><td>Melissa  </td><td>West     </td><td>Salvatore</td><td>53.39415 </td><td>58.1     </td><td>3        </td><td>1        </td><td>0        </td><td>0        </td></tr>\n",
       "\t<tr><td>Thursday </td><td>01-May-14</td><td>29.37430 </td><td>Melissa  </td><td>East     </td><td>Salvatore</td><td>70.30660 </td><td>35.2     </td><td>3        </td><td>0        </td><td>0        </td><td>0        </td></tr>\n",
       "\t<tr><td>Thursday </td><td>01-May-14</td><td>29.99461 </td><td>Melissa  </td><td>West     </td><td>Salvatore</td><td>71.50169 </td><td>38.4     </td><td>2        </td><td>0        </td><td>0        </td><td>0        </td></tr>\n",
       "\t<tr><td>Thursday </td><td>01-May-14</td><td>40.25432 </td><td>Melissa  </td><td>Centre   </td><td>Bruno    </td><td>60.75950 </td><td>61.8     </td><td>4        </td><td>1        </td><td>1        </td><td>0        </td></tr>\n",
       "</tbody>\n",
       "</table>\n"
      ],
      "text/latex": [
       "\\begin{tabular}{r|llllllllllll}\n",
       " day & date & time & operator & branch & driver & temperature & bill & pizzas & free\\_wine & got\\_wine & discount\\_customer\\\\\n",
       "\\hline\n",
       "\t Thursday  & 01-May-14 & 35.12837  & Laura     & East      & Bruno     & 68.28772  & 58.4      & 4         & 0         & 0         & 1        \\\\\n",
       "\t Thursday  & 01-May-14 & 25.20307  & Melissa   & East      & Salvatore & 70.99779  & 26.4      & 2         & 0         & 0         & 0        \\\\\n",
       "\t Thursday  & 01-May-14 & 45.64340  & Melissa   & West      & Salvatore & 53.39415  & 58.1      & 3         & 1         & 0         & 0        \\\\\n",
       "\t Thursday  & 01-May-14 & 29.37430  & Melissa   & East      & Salvatore & 70.30660  & 35.2      & 3         & 0         & 0         & 0        \\\\\n",
       "\t Thursday  & 01-May-14 & 29.99461  & Melissa   & West      & Salvatore & 71.50169  & 38.4      & 2         & 0         & 0         & 0        \\\\\n",
       "\t Thursday  & 01-May-14 & 40.25432  & Melissa   & Centre    & Bruno     & 60.75950  & 61.8      & 4         & 1         & 1         & 0        \\\\\n",
       "\\end{tabular}\n"
      ],
      "text/markdown": [
       "\n",
       "| day | date | time | operator | branch | driver | temperature | bill | pizzas | free_wine | got_wine | discount_customer |\n",
       "|---|---|---|---|---|---|---|---|---|---|---|---|\n",
       "| Thursday  | 01-May-14 | 35.12837  | Laura     | East      | Bruno     | 68.28772  | 58.4      | 4         | 0         | 0         | 1         |\n",
       "| Thursday  | 01-May-14 | 25.20307  | Melissa   | East      | Salvatore | 70.99779  | 26.4      | 2         | 0         | 0         | 0         |\n",
       "| Thursday  | 01-May-14 | 45.64340  | Melissa   | West      | Salvatore | 53.39415  | 58.1      | 3         | 1         | 0         | 0         |\n",
       "| Thursday  | 01-May-14 | 29.37430  | Melissa   | East      | Salvatore | 70.30660  | 35.2      | 3         | 0         | 0         | 0         |\n",
       "| Thursday  | 01-May-14 | 29.99461  | Melissa   | West      | Salvatore | 71.50169  | 38.4      | 2         | 0         | 0         | 0         |\n",
       "| Thursday  | 01-May-14 | 40.25432  | Melissa   | Centre    | Bruno     | 60.75950  | 61.8      | 4         | 1         | 1         | 0         |\n",
       "\n"
      ],
      "text/plain": [
       "  day      date      time     operator branch driver    temperature bill pizzas\n",
       "1 Thursday 01-May-14 35.12837 Laura    East   Bruno     68.28772    58.4 4     \n",
       "2 Thursday 01-May-14 25.20307 Melissa  East   Salvatore 70.99779    26.4 2     \n",
       "3 Thursday 01-May-14 45.64340 Melissa  West   Salvatore 53.39415    58.1 3     \n",
       "4 Thursday 01-May-14 29.37430 Melissa  East   Salvatore 70.30660    35.2 3     \n",
       "5 Thursday 01-May-14 29.99461 Melissa  West   Salvatore 71.50169    38.4 2     \n",
       "6 Thursday 01-May-14 40.25432 Melissa  Centre Bruno     60.75950    61.8 4     \n",
       "  free_wine got_wine discount_customer\n",
       "1 0         0        1                \n",
       "2 0         0        0                \n",
       "3 1         0        0                \n",
       "4 0         0        0                \n",
       "5 0         0        0                \n",
       "6 1         1        0                "
      ]
     },
     "metadata": {},
     "output_type": "display_data"
    }
   ],
   "source": [
    "# checking the head of the pizaa dataset\n",
    "head(Pizza)"
   ]
  },
  {
   "cell_type": "code",
   "execution_count": 165,
   "id": "8bd6ac6d-ef6c-497f-93bb-c21fd943c043",
   "metadata": {},
   "outputs": [
    {
     "name": "stdout",
     "output_type": "stream",
     "text": [
      "'data.frame':\t1266 obs. of  12 variables:\n",
      " $ day              : Factor w/ 7 levels \"Friday\",\"Monday\",..: 5 5 5 5 5 5 5 5 5 5 ...\n",
      " $ date             : Factor w/ 31 levels \"01-May-14\",\"02-May-14\",..: 1 1 1 1 1 1 1 1 1 1 ...\n",
      " $ time             : num  35.1 25.2 45.6 29.4 30 ...\n",
      " $ operator         : Factor w/ 2 levels \"Laura\",\"Melissa\": 1 2 2 2 2 2 1 2 1 2 ...\n",
      " $ branch           : Factor w/ 3 levels \"Centre\",\"East\",..: 2 2 3 2 3 1 3 3 1 1 ...\n",
      " $ driver           : Factor w/ 5 levels \"Bruno\",\"Domenico\",..: 1 5 5 5 5 1 1 4 4 1 ...\n",
      " $ temperature      : num  68.3 71 53.4 70.3 71.5 ...\n",
      " $ bill             : num  58.4 26.4 58.1 35.2 38.4 61.8 57.9 35.8 36.6 44.8 ...\n",
      " $ pizzas           : int  4 2 3 3 2 4 3 2 2 5 ...\n",
      " $ free_wine        : int  0 0 1 0 0 1 1 0 0 0 ...\n",
      " $ got_wine         : int  0 0 0 0 0 1 1 0 0 0 ...\n",
      " $ discount_customer: int  1 0 0 0 0 0 0 0 0 0 ...\n"
     ]
    }
   ],
   "source": [
    "# checking the structure of the dataset\n",
    "str(Pizza)"
   ]
  },
  {
   "cell_type": "markdown",
   "id": "303a81f4-2a10-4589-bb9d-c62a2f8a276e",
   "metadata": {},
   "source": [
    "* There are total 12 variables presented in the pizza dataset.\n",
    "* Form 12 variables there are 5 variable are nominal variables.\n",
    "* 3 of them are numeric continuous variable.\n",
    "* and remaning 4 variables are discrete continuous variables."
   ]
  },
  {
   "cell_type": "markdown",
   "id": "2cca2df0-6578-4be0-8868-c58d4f923f48",
   "metadata": {},
   "source": [
    "___"
   ]
  },
  {
   "cell_type": "markdown",
   "id": "98beabbf-2c70-4f5b-809f-b0e8c8cc0a0e",
   "metadata": {},
   "source": [
    "### Creating new variable of Pizza was hot and time was short.\n",
    "\n",
    "* Create two new binary variables which describe whether a pizza was hot ($>65  {^oC}$) and te delivery time was short ($< 30 \\text { min }$).\n",
    "\n",
    "* Create a contingency table for the two new variable."
   ]
  },
  {
   "cell_type": "code",
   "execution_count": 169,
   "id": "9e41dc65-a751-4851-a3d6-aa33a2b2b064",
   "metadata": {},
   "outputs": [],
   "source": [
    "# Creating the binary variable for hot pizza\n",
    "hot_pizza = (Pizza$temperature > 65)"
   ]
  },
  {
   "cell_type": "code",
   "execution_count": 170,
   "id": "9e40af2d-fc7c-422e-b49e-a654a40f515e",
   "metadata": {},
   "outputs": [],
   "source": [
    "# Creating the binary variable for the pizza which is delivered in short time.\n",
    "short_time = (Pizza$time < 30)"
   ]
  },
  {
   "cell_type": "markdown",
   "id": "ffb3c1fc-0cf6-458c-b870-ae3ca11abd01",
   "metadata": {},
   "source": [
    "Now we have created the two new binary variable for hot pizza and the short delivery time. Now we need to make the contingency table for the newly created dataset."
   ]
  },
  {
   "cell_type": "markdown",
   "id": "a60ff2f6-0ae3-4a4f-b311-879a655d94b9",
   "metadata": {},
   "source": [
    "#### Creating the contingency table"
   ]
  },
  {
   "cell_type": "code",
   "execution_count": 173,
   "id": "1ff2608f-8821-4167-8926-7a641fd37f53",
   "metadata": {},
   "outputs": [
    {
     "data": {
      "text/plain": [
       "         short_time\n",
       "hot_pizza FALSE TRUE\n",
       "    FALSE   691  101\n",
       "    TRUE    261  213"
      ]
     },
     "metadata": {},
     "output_type": "display_data"
    }
   ],
   "source": [
    "table(hot_pizza, short_time)"
   ]
  },
  {
   "cell_type": "code",
   "execution_count": 184,
   "id": "945e81dd-ce3c-4711-85a2-da81f23d8fbe",
   "metadata": {},
   "outputs": [
    {
     "data": {
      "text/plain": [
       "          short_time FALSE TRUE  Sum\n",
       "hot_pizza                           \n",
       "FALSE                  691  101  792\n",
       "TRUE                   261  213  474\n",
       "Sum                    952  314 1266"
      ]
     },
     "metadata": {},
     "output_type": "display_data"
    }
   ],
   "source": [
    "# making the contingency table.\n",
    "A =  table(hot_pizza, short_time)\n",
    "ftable(addmargins(A, margin = seq_along(dim(A))))"
   ]
  },
  {
   "cell_type": "markdown",
   "id": "1fe3673d-2232-43fd-b08d-946740ac84ba",
   "metadata": {},
   "source": [
    "* From the above contingency table we can see that there are total 1266 pizzas delivered.\n",
    "* From them only 261 were hot during the delivery and 691 were bellow the temperature of 65 degree celcius.\n",
    "* From them only 314 were delevered Fast (within 30 min) and remaining 952 were late (> 30 min)."
   ]
  },
  {
   "cell_type": "markdown",
   "id": "6c1a4fd4-2a1a-4e57-b76a-9f84cb6230b8",
   "metadata": {},
   "source": [
    "### odd ratio of hot pizza and fast delivery"
   ]
  },
  {
   "cell_type": "code",
   "execution_count": 185,
   "id": "1201580b-412e-4f18-a3ab-bbeed7763d99",
   "metadata": {},
   "outputs": [
    {
     "data": {
      "text/html": [
       "5.58336178445431"
      ],
      "text/latex": [
       "5.58336178445431"
      ],
      "text/markdown": [
       "5.58336178445431"
      ],
      "text/plain": [
       "[1] 5.583362"
      ]
     },
     "metadata": {},
     "output_type": "display_data"
    }
   ],
   "source": [
    "# Now we will calculate the odd ratio which will define proportion of the hot pizza with fast delivery.\n",
    "Odd.ratio(A)"
   ]
  },
  {
   "cell_type": "markdown",
   "id": "a701fb1f-b8fa-4076-9c86-2b4ece79e644",
   "metadata": {},
   "source": [
    "* The Chance of delivering no-hot pizza is 5.58 times greater for those who are delivering late delivery. "
   ]
  },
  {
   "cell_type": "code",
   "execution_count": 186,
   "id": "511abc29-197e-49b7-9b4b-9eceb4819d5d",
   "metadata": {},
   "outputs": [
    {
     "data": {
      "text/html": [
       "0.179103564949756"
      ],
      "text/latex": [
       "0.179103564949756"
      ],
      "text/markdown": [
       "0.179103564949756"
      ],
      "text/plain": [
       "[1] 0.1791036"
      ]
     },
     "metadata": {},
     "output_type": "display_data"
    }
   ],
   "source": [
    "# inverting the odd ratio\n",
    "1/Odd.ratio(A)"
   ]
  },
  {
   "cell_type": "markdown",
   "id": "db4afaa4-a737-465f-aa2e-22a69d7f466c",
   "metadata": {},
   "source": [
    "* The Chance of delivering hot pizaa is 0.18 times greater for those who are delivering fast delivery. "
   ]
  },
  {
   "cell_type": "markdown",
   "id": "d27db4ec-cb3e-44f9-911f-c4a0c272fcd2",
   "metadata": {},
   "source": [
    "### Calculate Cramer's V, Stuart's $\\tau _c$, Goodman and Kruskal's $\\gamma$"
   ]
  },
  {
   "cell_type": "markdown",
   "id": "bca6577b-7480-41cd-84a9-1bd17285df44",
   "metadata": {},
   "source": [
    "#### Cramer's V "
   ]
  },
  {
   "cell_type": "code",
   "execution_count": 187,
   "id": "302dab74-d774-4fe7-b5ae-363a9543519b",
   "metadata": {},
   "outputs": [],
   "source": [
    "# we will calculate the cramer's V by using the assocstats from vcd library.\n",
    "library(vcd)"
   ]
  },
  {
   "cell_type": "code",
   "execution_count": 188,
   "id": "2f24130c-0fa3-4f80-9def-6a6c663d71e5",
   "metadata": {},
   "outputs": [
    {
     "data": {
      "text/plain": [
       "                    X^2 df P(> X^2)\n",
       "Likelihood Ratio 161.54  1        0\n",
       "Pearson          164.69  1        0\n",
       "\n",
       "Phi-Coefficient   : 0.361 \n",
       "Contingency Coeff.: 0.339 \n",
       "Cramer's V        : 0.361 "
      ]
     },
     "metadata": {},
     "output_type": "display_data"
    }
   ],
   "source": [
    "# here A is the contingency table for two newly created binary variables. \n",
    "assocstats(A)"
   ]
  },
  {
   "cell_type": "markdown",
   "id": "ee611766-3e83-4c34-9994-715c9b6fe5e3",
   "metadata": {},
   "source": [
    "`Conclusion:` Cramer's V test show that there is a weak association b/w these two new binary variable, so it means that it is not necessary that if one who is not delivering fast delivery it will be less hot."
   ]
  },
  {
   "cell_type": "markdown",
   "id": "22720a02-6e58-4223-ba9f-6baf837ef92f",
   "metadata": {},
   "source": [
    "### Stuart $\\tau _c$"
   ]
  },
  {
   "cell_type": "code",
   "execution_count": 189,
   "id": "baa78c79-05a0-4218-af21-d8c365f54240",
   "metadata": {},
   "outputs": [],
   "source": [
    "# To caluate the stuart tau-c we need to use the ord.tau() from ryouready library.\n",
    "library(ryouready)"
   ]
  },
  {
   "cell_type": "code",
   "execution_count": 191,
   "id": "900a7c43-1b9f-411f-aaca-45106b83113f",
   "metadata": {},
   "outputs": [
    {
     "data": {
      "text/plain": [
       "Kendall's (and Stuart's) Tau statistics\n",
       "\tTau-b: 0.361\n",
       "\tTau-c: 0.302"
      ]
     },
     "metadata": {},
     "output_type": "display_data"
    }
   ],
   "source": [
    "ord.tau(A)"
   ]
  },
  {
   "cell_type": "markdown",
   "id": "69c6da80-985b-49b2-b8b8-64b4fdbd067b",
   "metadata": {},
   "source": [
    "`Conclusion:` Stuart tau-c shows that there is a weak association b/w these two new binary variables."
   ]
  },
  {
   "cell_type": "markdown",
   "id": "3c7dfc9d-4ec1-4d4c-9fef-f59446408aec",
   "metadata": {},
   "source": [
    "### Goodman and Kruskal's $\\gamma$"
   ]
  },
  {
   "cell_type": "code",
   "execution_count": 192,
   "id": "fffcfdfb-9107-4020-b9ab-c89fd4bd36ec",
   "metadata": {},
   "outputs": [
    {
     "data": {
      "text/plain": [
       "Goodman-Kruskal Gamma: 0.696 "
      ]
     },
     "metadata": {},
     "output_type": "display_data"
    }
   ],
   "source": [
    "# To caluate the Goodman and Kruskal gamma, we need to use the ord.gamma() from ryouready library.\n",
    "ord.gamma(A)"
   ]
  },
  {
   "cell_type": "markdown",
   "id": "d73218ff-53f9-464a-b0d2-8badb66a68ee",
   "metadata": {},
   "source": [
    "`Conclusion:` The above result shows that there is a moderate association b/w the two newly created binary variables. This result seems good because in reality fast delivery will lead to the hot pizza delivery."
   ]
  },
  {
   "cell_type": "markdown",
   "id": "84dd6730-9d2b-41f9-8395-ddea83420e83",
   "metadata": {},
   "source": [
    "____"
   ]
  },
  {
   "cell_type": "markdown",
   "id": "82f6b2c9-f4f6-4f62-bc44-d244cbf8b8f5",
   "metadata": {},
   "source": [
    "### Visualition interpretation "
   ]
  },
  {
   "cell_type": "markdown",
   "id": "14d830cf-427e-4b4e-b63d-54e9a62c3953",
   "metadata": {},
   "source": [
    "#### Stacked barchart\n",
    "\n",
    "Create a stacked barchart to explore the association b/w the categorical time and temperature variables."
   ]
  },
  {
   "cell_type": "code",
   "execution_count": 198,
   "id": "86bda870-1d50-47bb-9b5c-57db7e6aae55",
   "metadata": {},
   "outputs": [],
   "source": [
    "# To plot the barcharts we need to use the load lattice library\n",
    "library(lattice)"
   ]
  },
  {
   "cell_type": "code",
   "execution_count": 206,
   "id": "d86bce35-1b68-4d0e-867c-99fe0e297c3f",
   "metadata": {},
   "outputs": [
    {
     "data": {
      "image/png": "[encoded data removed]",
      "text/plain": [
       "plot without title"
      ]
     },
     "metadata": {},
     "output_type": "display_data"
    }
   ],
   "source": [
    "# using barcharts \n",
    "barchart(A, stack=T, horizontal=F, xlab='Hot Pizza with Fast Delivery', auto.key=T)"
   ]
  },
  {
   "cell_type": "code",
   "execution_count": 212,
   "id": "0822138d-700e-4d19-b961-72645f11ea75",
   "metadata": {},
   "outputs": [
    {
     "data": {
      "image/png": "[encoded data removed]",
      "text/plain": [
       "plot without title"
      ]
     },
     "metadata": {},
     "output_type": "display_data"
    }
   ],
   "source": [
    "barchart(table(hotpizza=hot_pizza, fastdelivery=short_time),horizontal=F,stack=T,\n",
    "         auto.key=list(space=\"top\", columns=2,points=FALSE,cex=1.5,rectangles=TRUE,title=\"timecat\"),\n",
    "         ylab=list(label=\"absolute frequencies\",  cex=1.75), \n",
    "         xlab=list(cex=1.75),\n",
    "         par.names.text=list(cex=2))"
   ]
  },
  {
   "cell_type": "markdown",
   "id": "94371f73-e0b5-49d4-91be-3b65d7c58765",
   "metadata": {},
   "source": [
    "### Scatter plot b/w the time and temperature"
   ]
  },
  {
   "cell_type": "code",
   "execution_count": 216,
   "id": "f1291fcd-e182-449a-8658-86a57366052c",
   "metadata": {},
   "outputs": [
    {
     "data": {
      "image/png": "[encoded data removed]",
      "text/plain": [
       "plot without title"
      ]
     },
     "metadata": {},
     "output_type": "display_data"
    }
   ],
   "source": [
    "plot(y=Pizza$temperature, x = Pizza$time, ylab=\"Pizza temerature\", xlab=\"Pizza delivery time\")"
   ]
  },
  {
   "cell_type": "markdown",
   "id": "85223f9c-0011-469a-89dc-b45d1b02a9ca",
   "metadata": {},
   "source": [
    "From above result we can show say that there is a negative association b/w the pizza delivery time and pizza delivery temperature.\n",
    "\n",
    "`Interpreatation:` Pizza delivery temperature will decrease as the delivery time increases."
   ]
  },
  {
   "cell_type": "markdown",
   "id": "4a4e872d-529e-4b4b-812f-c25276c12258",
   "metadata": {},
   "source": [
    "### Pearson and Spearman Correlation coefficient"
   ]
  },
  {
   "cell_type": "code",
   "execution_count": 218,
   "id": "f7fe2c6e-d3e8-4cdc-8c03-8b8a3c06902b",
   "metadata": {},
   "outputs": [
    {
     "name": "stdout",
     "output_type": "stream",
     "text": [
      "[1] \"Pearson Correlation Coefficient :  -0.43\"\n",
      "[1] \"Spearman Correlation Coefficient :  -0.39\"\n"
     ]
    }
   ],
   "source": [
    "# Now we will check the association strongness and their direction by using the pearson and Spearman Correlation coefficient.\n",
    "\n",
    "pearson_cor = cor(Pizza$time, Pizza$temperature, method='pearson')\n",
    "spearman_cor = cor(Pizza$time, Pizza$temperature, method='spearman')\n",
    "\n",
    "print(paste(\"Pearson Correlation Coefficient : \", round(pearson_cor, 2)))\n",
    "print(paste(\"Spearman Correlation Coefficient : \", round(spearman_cor, 2) ))"
   ]
  },
  {
   "cell_type": "markdown",
   "id": "68ba1a1c-df15-4f61-88e5-29706657f31a",
   "metadata": {},
   "source": [
    "`Conclusion:` Both the (pearson and spearman) correlation coefficient shows that there is a moderate negative association b/w the time and temperature variables."
   ]
  },
  {
   "cell_type": "markdown",
   "id": "699391ed-7b4d-4765-91e1-1f546a77a302",
   "metadata": {},
   "source": [
    "___"
   ]
  },
  {
   "cell_type": "markdown",
   "id": "573ebf2d-463d-4f87-8aba-c96799015470",
   "metadata": {},
   "source": [
    "### find the which variable influence the pizza temperature?\n",
    "\n",
    "* Explore the realtionship b/w temperature and dirver, operator, number of orderd pizzas and bill. Is it clear which of the variables influence the pizza temperature."
   ]
  },
  {
   "cell_type": "markdown",
   "id": "7b6f8658-3a29-485d-a3c7-e94c9c546b01",
   "metadata": {},
   "source": [
    "To find the relation b/w the multiple number of variable we can use plot, corplot (correlation matrix plot) which will help us to visualise the relation and strongness of the association b/w those variable."
   ]
  },
  {
   "cell_type": "code",
   "execution_count": 219,
   "id": "bb4d3300-a564-4a2e-b864-a7931f8cf6bf",
   "metadata": {},
   "outputs": [
    {
     "data": {
      "text/html": [
       "<table>\n",
       "<thead><tr><th scope=col>day</th><th scope=col>date</th><th scope=col>time</th><th scope=col>operator</th><th scope=col>branch</th><th scope=col>driver</th><th scope=col>temperature</th><th scope=col>bill</th><th scope=col>pizzas</th><th scope=col>free_wine</th><th scope=col>got_wine</th><th scope=col>discount_customer</th></tr></thead>\n",
       "<tbody>\n",
       "\t<tr><td>Thursday </td><td>01-May-14</td><td>35.12837 </td><td>Laura    </td><td>East     </td><td>Bruno    </td><td>68.28772 </td><td>58.4     </td><td>4        </td><td>0        </td><td>0        </td><td>1        </td></tr>\n",
       "\t<tr><td>Thursday </td><td>01-May-14</td><td>25.20307 </td><td>Melissa  </td><td>East     </td><td>Salvatore</td><td>70.99779 </td><td>26.4     </td><td>2        </td><td>0        </td><td>0        </td><td>0        </td></tr>\n",
       "\t<tr><td>Thursday </td><td>01-May-14</td><td>45.64340 </td><td>Melissa  </td><td>West     </td><td>Salvatore</td><td>53.39415 </td><td>58.1     </td><td>3        </td><td>1        </td><td>0        </td><td>0        </td></tr>\n",
       "\t<tr><td>Thursday </td><td>01-May-14</td><td>29.37430 </td><td>Melissa  </td><td>East     </td><td>Salvatore</td><td>70.30660 </td><td>35.2     </td><td>3        </td><td>0        </td><td>0        </td><td>0        </td></tr>\n",
       "\t<tr><td>Thursday </td><td>01-May-14</td><td>29.99461 </td><td>Melissa  </td><td>West     </td><td>Salvatore</td><td>71.50169 </td><td>38.4     </td><td>2        </td><td>0        </td><td>0        </td><td>0        </td></tr>\n",
       "\t<tr><td>Thursday </td><td>01-May-14</td><td>40.25432 </td><td>Melissa  </td><td>Centre   </td><td>Bruno    </td><td>60.75950 </td><td>61.8     </td><td>4        </td><td>1        </td><td>1        </td><td>0        </td></tr>\n",
       "</tbody>\n",
       "</table>\n"
      ],
      "text/latex": [
       "\\begin{tabular}{r|llllllllllll}\n",
       " day & date & time & operator & branch & driver & temperature & bill & pizzas & free\\_wine & got\\_wine & discount\\_customer\\\\\n",
       "\\hline\n",
       "\t Thursday  & 01-May-14 & 35.12837  & Laura     & East      & Bruno     & 68.28772  & 58.4      & 4         & 0         & 0         & 1        \\\\\n",
       "\t Thursday  & 01-May-14 & 25.20307  & Melissa   & East      & Salvatore & 70.99779  & 26.4      & 2         & 0         & 0         & 0        \\\\\n",
       "\t Thursday  & 01-May-14 & 45.64340  & Melissa   & West      & Salvatore & 53.39415  & 58.1      & 3         & 1         & 0         & 0        \\\\\n",
       "\t Thursday  & 01-May-14 & 29.37430  & Melissa   & East      & Salvatore & 70.30660  & 35.2      & 3         & 0         & 0         & 0        \\\\\n",
       "\t Thursday  & 01-May-14 & 29.99461  & Melissa   & West      & Salvatore & 71.50169  & 38.4      & 2         & 0         & 0         & 0        \\\\\n",
       "\t Thursday  & 01-May-14 & 40.25432  & Melissa   & Centre    & Bruno     & 60.75950  & 61.8      & 4         & 1         & 1         & 0        \\\\\n",
       "\\end{tabular}\n"
      ],
      "text/markdown": [
       "\n",
       "| day | date | time | operator | branch | driver | temperature | bill | pizzas | free_wine | got_wine | discount_customer |\n",
       "|---|---|---|---|---|---|---|---|---|---|---|---|\n",
       "| Thursday  | 01-May-14 | 35.12837  | Laura     | East      | Bruno     | 68.28772  | 58.4      | 4         | 0         | 0         | 1         |\n",
       "| Thursday  | 01-May-14 | 25.20307  | Melissa   | East      | Salvatore | 70.99779  | 26.4      | 2         | 0         | 0         | 0         |\n",
       "| Thursday  | 01-May-14 | 45.64340  | Melissa   | West      | Salvatore | 53.39415  | 58.1      | 3         | 1         | 0         | 0         |\n",
       "| Thursday  | 01-May-14 | 29.37430  | Melissa   | East      | Salvatore | 70.30660  | 35.2      | 3         | 0         | 0         | 0         |\n",
       "| Thursday  | 01-May-14 | 29.99461  | Melissa   | West      | Salvatore | 71.50169  | 38.4      | 2         | 0         | 0         | 0         |\n",
       "| Thursday  | 01-May-14 | 40.25432  | Melissa   | Centre    | Bruno     | 60.75950  | 61.8      | 4         | 1         | 1         | 0         |\n",
       "\n"
      ],
      "text/plain": [
       "  day      date      time     operator branch driver    temperature bill pizzas\n",
       "1 Thursday 01-May-14 35.12837 Laura    East   Bruno     68.28772    58.4 4     \n",
       "2 Thursday 01-May-14 25.20307 Melissa  East   Salvatore 70.99779    26.4 2     \n",
       "3 Thursday 01-May-14 45.64340 Melissa  West   Salvatore 53.39415    58.1 3     \n",
       "4 Thursday 01-May-14 29.37430 Melissa  East   Salvatore 70.30660    35.2 3     \n",
       "5 Thursday 01-May-14 29.99461 Melissa  West   Salvatore 71.50169    38.4 2     \n",
       "6 Thursday 01-May-14 40.25432 Melissa  Centre Bruno     60.75950    61.8 4     \n",
       "  free_wine got_wine discount_customer\n",
       "1 0         0        1                \n",
       "2 0         0        0                \n",
       "3 1         0        0                \n",
       "4 0         0        0                \n",
       "5 0         0        0                \n",
       "6 1         1        0                "
      ]
     },
     "metadata": {},
     "output_type": "display_data"
    }
   ],
   "source": [
    "head(Pizza)"
   ]
  },
  {
   "cell_type": "code",
   "execution_count": 238,
   "id": "85cd3a80-b2a2-4390-acd2-cfac9c551a18",
   "metadata": {},
   "outputs": [
    {
     "data": {
      "text/html": [
       "<table>\n",
       "<thead><tr><th scope=col>Pizza.temperature</th><th scope=col>Pizza.pizzas</th><th scope=col>Pizza.bill</th></tr></thead>\n",
       "<tbody>\n",
       "\t<tr><td>68.28772</td><td>4       </td><td>58.4    </td></tr>\n",
       "\t<tr><td>70.99779</td><td>2       </td><td>26.4    </td></tr>\n",
       "\t<tr><td>53.39415</td><td>3       </td><td>58.1    </td></tr>\n",
       "\t<tr><td>70.30660</td><td>3       </td><td>35.2    </td></tr>\n",
       "\t<tr><td>71.50169</td><td>2       </td><td>38.4    </td></tr>\n",
       "\t<tr><td>60.75950</td><td>4       </td><td>61.8    </td></tr>\n",
       "</tbody>\n",
       "</table>\n"
      ],
      "text/latex": [
       "\\begin{tabular}{r|lll}\n",
       " Pizza.temperature & Pizza.pizzas & Pizza.bill\\\\\n",
       "\\hline\n",
       "\t 68.28772 & 4        & 58.4    \\\\\n",
       "\t 70.99779 & 2        & 26.4    \\\\\n",
       "\t 53.39415 & 3        & 58.1    \\\\\n",
       "\t 70.30660 & 3        & 35.2    \\\\\n",
       "\t 71.50169 & 2        & 38.4    \\\\\n",
       "\t 60.75950 & 4        & 61.8    \\\\\n",
       "\\end{tabular}\n"
      ],
      "text/markdown": [
       "\n",
       "| Pizza.temperature | Pizza.pizzas | Pizza.bill |\n",
       "|---|---|---|\n",
       "| 68.28772 | 4        | 58.4     |\n",
       "| 70.99779 | 2        | 26.4     |\n",
       "| 53.39415 | 3        | 58.1     |\n",
       "| 70.30660 | 3        | 35.2     |\n",
       "| 71.50169 | 2        | 38.4     |\n",
       "| 60.75950 | 4        | 61.8     |\n",
       "\n"
      ],
      "text/plain": [
       "  Pizza.temperature Pizza.pizzas Pizza.bill\n",
       "1 68.28772          4            58.4      \n",
       "2 70.99779          2            26.4      \n",
       "3 53.39415          3            58.1      \n",
       "4 70.30660          3            35.2      \n",
       "5 71.50169          2            38.4      \n",
       "6 60.75950          4            61.8      "
      ]
     },
     "metadata": {},
     "output_type": "display_data"
    }
   ],
   "source": [
    "Pizza2 = data.frame(Pizza$temperature, Pizza$pizzas, Pizza$bill)\n",
    "head(Pizza2)"
   ]
  },
  {
   "cell_type": "markdown",
   "id": "db966c6d-a8f5-4ff3-9a83-af523d09b1fb",
   "metadata": {},
   "source": [
    "**Relation b/w the temperature, number of pizzas and bill**\n",
    "\n",
    "Since temperature, number of pizzas and bill are the continuous and numeric type of variable, that's why we can use the plot() function on it and also we can perform the correlation test on those variables."
   ]
  },
  {
   "cell_type": "code",
   "execution_count": 239,
   "id": "d2a0608a-5024-4878-a3cb-4b1253404e25",
   "metadata": {},
   "outputs": [
    {
     "data": {
      "image/png": "[encoded data removed]",
      "text/plain": [
       "plot without title"
      ]
     },
     "metadata": {},
     "output_type": "display_data"
    }
   ],
   "source": [
    "# We can visualise the direction of the association b/w the variable by using the plot \n",
    "plot(Pizza2)"
   ]
  },
  {
   "cell_type": "code",
   "execution_count": 241,
   "id": "71929004-b1fe-4782-bd9b-dcd59861d27a",
   "metadata": {},
   "outputs": [
    {
     "data": {
      "text/html": [
       "<table>\n",
       "<thead><tr><th></th><th scope=col>Pizza.temperature</th><th scope=col>Pizza.pizzas</th><th scope=col>Pizza.bill</th></tr></thead>\n",
       "<tbody>\n",
       "\t<tr><th scope=row>Pizza.temperature</th><td> 1.00</td><td>-0.37</td><td>-0.42</td></tr>\n",
       "\t<tr><th scope=row>Pizza.pizzas</th><td>-0.37</td><td> 1.00</td><td> 0.39</td></tr>\n",
       "\t<tr><th scope=row>Pizza.bill</th><td>-0.42</td><td> 0.39</td><td> 1.00</td></tr>\n",
       "</tbody>\n",
       "</table>\n"
      ],
      "text/latex": [
       "\\begin{tabular}{r|lll}\n",
       "  & Pizza.temperature & Pizza.pizzas & Pizza.bill\\\\\n",
       "\\hline\n",
       "\tPizza.temperature &  1.00 & -0.37 & -0.42\\\\\n",
       "\tPizza.pizzas & -0.37 &  1.00 &  0.39\\\\\n",
       "\tPizza.bill & -0.42 &  0.39 &  1.00\\\\\n",
       "\\end{tabular}\n"
      ],
      "text/markdown": [
       "\n",
       "| <!--/--> | Pizza.temperature | Pizza.pizzas | Pizza.bill |\n",
       "|---|---|---|---|\n",
       "| Pizza.temperature |  1.00 | -0.37 | -0.42 |\n",
       "| Pizza.pizzas | -0.37 |  1.00 |  0.39 |\n",
       "| Pizza.bill | -0.42 |  0.39 |  1.00 |\n",
       "\n"
      ],
      "text/plain": [
       "                  Pizza.temperature Pizza.pizzas Pizza.bill\n",
       "Pizza.temperature  1.00             -0.37        -0.42     \n",
       "Pizza.pizzas      -0.37              1.00         0.39     \n",
       "Pizza.bill        -0.42              0.39         1.00     "
      ]
     },
     "metadata": {},
     "output_type": "display_data"
    }
   ],
   "source": [
    "round(cor(Pizza2), 2)"
   ]
  },
  {
   "cell_type": "markdown",
   "id": "dde9365d-6765-4bcb-b8a4-9d6adcf8c383",
   "metadata": {},
   "source": [
    "**Relation b/w the tempearture and driver, opeartor**"
   ]
  },
  {
   "cell_type": "code",
   "execution_count": 243,
   "id": "f0a3e213-41d6-4b7d-84e6-125e0b1cacae",
   "metadata": {},
   "outputs": [
    {
     "data": {
      "image/png": "[encoded data removed]",
      "text/plain": [
       "plot without title"
      ]
     },
     "metadata": {},
     "output_type": "display_data"
    }
   ],
   "source": [
    "boxplot(Pizza$temperature~Pizza$driver)"
   ]
  },
  {
   "cell_type": "markdown",
   "id": "83d20ad9-d673-46bb-bdd2-965c8743b637",
   "metadata": {},
   "source": [
    "`Conclusion:` Above result shows that there might be a relation b/w the pizza temperature and the driver, because there are two driver (Domenico, Mario) whose delivery temperature is higher than others but they might work behind different opeartor."
   ]
  },
  {
   "cell_type": "code",
   "execution_count": 244,
   "id": "58a31fab-2856-41e1-af5b-2171cbb1c9a6",
   "metadata": {},
   "outputs": [
    {
     "data": {
      "image/png": "[encoded data removed]",
      "text/plain": [
       "plot without title"
      ]
     },
     "metadata": {},
     "output_type": "display_data"
    }
   ],
   "source": [
    "boxplot(Pizza$temperature~Pizza$operator)"
   ]
  },
  {
   "cell_type": "markdown",
   "id": "569b64e6-b3a5-4cf3-8594-8cec7b7260d6",
   "metadata": {},
   "source": [
    "`Conclusion:` Above result shows that there is not much effect of the operator on the delivery tempearture because both the operator gives us a same delivery temperature."
   ]
  },
  {
   "cell_type": "markdown",
   "id": "92a59dd8-e697-44c5-866a-ef78b2e4c922",
   "metadata": {},
   "source": [
    "`Final Conclusion:` The correlation coefficients are −0.37 and −0.42 for number of pizzas and\n",
    "bill, respectively. More pizzas and a higher bill are associated with a lower\n",
    "temperature. \n",
    "\n",
    "* The box plots show variation in the delivery times\n",
    "of the different drivers, but almost identical delivery times for the two operators.\n",
    "\n",
    "* These results give us a first idea about the relationship in the data. However,\n",
    "they do not tell us the full story. \n",
    "* For example: is the pizza temperature for higher\n",
    "bills low because a higher bill means more pizzas, and therefore, a less efficient\n",
    "preparation of the food? \n",
    "* Is one driver faster because he mainly delivers for a\n",
    "particular branch? \n",
    "* Could it be that the operators have a different performance\n",
    "but because they deal with different branches and drivers, these differences are\n",
    "not visible? \n",
    "\n",
    "Note: To address these questions, a multivariate perspective is needed.\n",
    "Regression models Which will be discussed in later chapters."
   ]
  },
  {
   "cell_type": "code",
   "execution_count": null,
   "id": "2db8c9a1-d20d-4b22-a010-1bbe5bfa4471",
   "metadata": {},
   "outputs": [],
   "source": []
  }
 ],
 "metadata": {
  "kernelspec": {
   "display_name": "R",
   "language": "R",
   "name": "ir"
  },
  "language_info": {
   "codemirror_mode": "r",
   "file_extension": ".r",
   "mimetype": "text/x-r-source",
   "name": "R",
   "pygments_lexer": "r",
   "version": "3.6.1"
  },
  "toc-autonumbering": true
 },
 "nbformat": 4,
 "nbformat_minor": 5
}
