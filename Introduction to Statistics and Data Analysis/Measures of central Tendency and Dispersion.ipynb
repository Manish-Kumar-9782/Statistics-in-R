{
 "cells": [
  {
   "cell_type": "markdown",
   "id": "f9b37ab4-38e6-4be3-a354-c1f7e83613a5",
   "metadata": {},
   "source": [
    "# Central Tendency"
   ]
  },
  {
   "cell_type": "code",
   "execution_count": 1,
   "id": "374230ce-b094-478f-be0e-f2bfceddad33",
   "metadata": {},
   "outputs": [],
   "source": [
    "tempvalues = c(22, 24, 21, 22, 25, 26, 25, 24, 23, 25, 25, 26, 27, 25, 26,25, \n",
    "               26, 27, 27, 28, 29, 29, 29, 28, 30, 29, 30, 31, 30, 28, 29)"
   ]
  },
  {
   "cell_type": "markdown",
   "id": "7ef0194c-17b7-40d6-90d7-20f38fcef5d6",
   "metadata": {},
   "source": [
    "## mean and median"
   ]
  },
  {
   "cell_type": "code",
   "execution_count": 2,
   "id": "134d4c23-cb74-44c1-b23b-a7b8f719609d",
   "metadata": {},
   "outputs": [],
   "source": [
    "# mean temperature\n",
    "mean_temp = mean(tempvalues)"
   ]
  },
  {
   "cell_type": "code",
   "execution_count": 3,
   "id": "e60aabc6-b8d5-466b-a5dc-41c72523bed0",
   "metadata": {},
   "outputs": [
    {
     "data": {
      "text/html": [
       "26.4838709677419"
      ],
      "text/latex": [
       "26.4838709677419"
      ],
      "text/markdown": [
       "26.4838709677419"
      ],
      "text/plain": [
       "[1] 26.48387"
      ]
     },
     "metadata": {},
     "output_type": "display_data"
    }
   ],
   "source": [
    "mean_temp"
   ]
  },
  {
   "cell_type": "code",
   "execution_count": 4,
   "id": "04cdb020-4385-4fca-b2aa-39eed5129dfb",
   "metadata": {},
   "outputs": [],
   "source": [
    "# Now we will calculate the deviation values around the mean\n",
    "Deviations = vector(length = length(tempvalues))\n",
    "count = 0\n",
    "for (x in tempvalues){\n",
    "    \n",
    "    count = count + 1\n",
    "    \n",
    "    Deviations[count] = x - mean_temp\n",
    "    \n",
    "}"
   ]
  },
  {
   "cell_type": "code",
   "execution_count": 6,
   "id": "d3761e96-7794-4670-9b52-17089015426f",
   "metadata": {},
   "outputs": [
    {
     "name": "stdout",
     "output_type": "stream",
     "text": [
      " [1] -4.483871 -2.483871 -5.483871 -4.483871 -1.483871 -0.483871 -1.483871\n",
      " [8] -2.483871 -3.483871 -1.483871 -1.483871 -0.483871  0.516129 -1.483871\n",
      "[15] -0.483871 -1.483871 -0.483871  0.516129  0.516129  1.516129  2.516129\n",
      "[22]  2.516129  2.516129  1.516129  3.516129  2.516129  3.516129  4.516129\n",
      "[29]  3.516129  1.516129  2.516129\n"
     ]
    }
   ],
   "source": [
    "print(Deviations)"
   ]
  },
  {
   "cell_type": "code",
   "execution_count": 7,
   "id": "a6f4eec8-0a2f-4307-9b09-7d9d66718882",
   "metadata": {},
   "outputs": [
    {
     "data": {
      "text/html": [
       "-1.4210854715202e-14"
      ],
      "text/latex": [
       "-1.4210854715202e-14"
      ],
      "text/markdown": [
       "-1.4210854715202e-14"
      ],
      "text/plain": [
       "[1] -1.421085e-14"
      ]
     },
     "metadata": {},
     "output_type": "display_data"
    }
   ],
   "source": [
    "sum(Deviations)"
   ]
  },
  {
   "cell_type": "code",
   "execution_count": 8,
   "id": "76f77a19-3658-4961-a722-b228bf66e007",
   "metadata": {},
   "outputs": [
    {
     "data": {
      "text/html": [
       "31"
      ],
      "text/latex": [
       "31"
      ],
      "text/markdown": [
       "31"
      ],
      "text/plain": [
       "[1] 31"
      ]
     },
     "metadata": {},
     "output_type": "display_data"
    }
   ],
   "source": [
    "length(tempvalues)"
   ]
  },
  {
   "cell_type": "code",
   "execution_count": 9,
   "id": "237a8429-04cc-41cb-bc30-8959c91de78c",
   "metadata": {},
   "outputs": [
    {
     "data": {
      "text/html": [
       "26"
      ],
      "text/latex": [
       "26"
      ],
      "text/markdown": [
       "26"
      ],
      "text/plain": [
       "[1] 26"
      ]
     },
     "metadata": {},
     "output_type": "display_data"
    }
   ],
   "source": [
    "median(tempvalues)"
   ]
  },
  {
   "cell_type": "markdown",
   "id": "35ac1f6d-c660-4836-a14f-f7a69ff12022",
   "metadata": {},
   "source": [
    "### Comparing the mean with median \n",
    "\n",
    "Now we will compare the mean and median values by using the kernel density estimator."
   ]
  },
  {
   "cell_type": "code",
   "execution_count": 11,
   "id": "c89d8352-2a20-4bbe-97fe-6267f929823e",
   "metadata": {},
   "outputs": [
    {
     "data": {
      "image/png": "[encoded data removed]",
      "text/plain": [
       "Plot with title \"KDE for temperature\""
      ]
     },
     "metadata": {},
     "output_type": "display_data"
    }
   ],
   "source": [
    "# Now we have both mean and median values of the temperature data.\n",
    "# Now first we will plot the kernel density estimator\n",
    "\n",
    "plot(density(tempvalues), main = \"KDE for temperature\", xlab='Temperature', ylab='Proportion')\n"
   ]
  },
  {
   "cell_type": "markdown",
   "id": "bf5b71e5-de1c-4d76-b3ce-84aabf20bd20",
   "metadata": {},
   "source": [
    "Now in the above graph we will plot the tick marks for the data points."
   ]
  },
  {
   "cell_type": "code",
   "execution_count": 41,
   "id": "8bd8f89f-cf68-414b-9c96-3f2d3cd3c239",
   "metadata": {},
   "outputs": [
    {
     "data": {
      "image/png": "[encoded data removed]",
      "text/plain": [
       "Plot with title \"KDE for temperature\""
      ]
     },
     "metadata": {},
     "output_type": "display_data"
    }
   ],
   "source": [
    "plot(density(tempvalues), main = \"KDE for temperature\", xlab='Temperature', ylab='Proportion', col=4)\n",
    "\n",
    "# plotting the data point ticks on the graph\n",
    "points(mean_temp, 0.01, pch=16, col=2)\n",
    "points(median(tempvalues), 0.01, pch=7, col=3)"
   ]
  },
  {
   "cell_type": "markdown",
   "id": "ea1e899a-9a06-4828-8c7c-f2aa972c3713",
   "metadata": {},
   "source": [
    "### quartiles"
   ]
  },
  {
   "cell_type": "markdown",
   "id": "7951909e-9d9f-4173-937b-d1d30b4ecfd7",
   "metadata": {},
   "source": [
    "In this section we will check the quratiles or quantiles of the temperature dataset."
   ]
  },
  {
   "cell_type": "code",
   "execution_count": 43,
   "id": "77a25bef-fa67-45a3-89d7-4370bdb787fb",
   "metadata": {},
   "outputs": [
    {
     "data": {
      "text/html": [
       "<dl class=dl-horizontal>\n",
       "\t<dt>0%</dt>\n",
       "\t\t<dd>21</dd>\n",
       "\t<dt>25%</dt>\n",
       "\t\t<dd>25</dd>\n",
       "\t<dt>50%</dt>\n",
       "\t\t<dd>26</dd>\n",
       "\t<dt>75%</dt>\n",
       "\t\t<dd>29</dd>\n",
       "\t<dt>100%</dt>\n",
       "\t\t<dd>31</dd>\n",
       "</dl>\n"
      ],
      "text/latex": [
       "\\begin{description*}\n",
       "\\item[0\\textbackslash{}\\%] 21\n",
       "\\item[25\\textbackslash{}\\%] 25\n",
       "\\item[50\\textbackslash{}\\%] 26\n",
       "\\item[75\\textbackslash{}\\%] 29\n",
       "\\item[100\\textbackslash{}\\%] 31\n",
       "\\end{description*}\n"
      ],
      "text/markdown": [
       "0%\n",
       ":   2125%\n",
       ":   2550%\n",
       ":   2675%\n",
       ":   29100%\n",
       ":   31\n",
       "\n"
      ],
      "text/plain": [
       "  0%  25%  50%  75% 100% \n",
       "  21   25   26   29   31 "
      ]
     },
     "metadata": {},
     "output_type": "display_data"
    }
   ],
   "source": [
    "quantile(tempvalues)"
   ]
  },
  {
   "cell_type": "markdown",
   "id": "9802e632-d60b-4961-9ce5-06173cbbd9fe",
   "metadata": {},
   "source": [
    "`Note:` quantile function offers us nine different ways to get the quantiles, each of which can be chosen by the `type` argument"
   ]
  },
  {
   "cell_type": "code",
   "execution_count": null,
   "id": "a2b84ba8-57a4-49eb-82c2-78b4ea7930b4",
   "metadata": {},
   "outputs": [],
   "source": []
  }
 ],
 "metadata": {
  "kernelspec": {
   "display_name": "R",
   "language": "R",
   "name": "ir"
  },
  "language_info": {
   "codemirror_mode": "r",
   "file_extension": ".r",
   "mimetype": "text/x-r-source",
   "name": "R",
   "pygments_lexer": "r",
   "version": "3.6.1"
  }
 },
 "nbformat": 4,
 "nbformat_minor": 5
}
