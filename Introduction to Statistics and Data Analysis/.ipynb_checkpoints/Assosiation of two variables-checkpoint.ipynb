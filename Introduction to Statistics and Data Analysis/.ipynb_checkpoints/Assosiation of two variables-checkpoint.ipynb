{
 "cells": [
  {
   "cell_type": "markdown",
   "id": "99d0268d-da60-4a95-9e01-9fa3b12bbf6b",
   "metadata": {},
   "source": [
    "# Assosiation of two variables"
   ]
  },
  {
   "cell_type": "markdown",
   "id": "7315b945-0cd4-4bdb-b61a-c1e037580eb5",
   "metadata": {},
   "source": [
    "## Summarizing the distribution of two discrete variables"
   ]
  },
  {
   "cell_type": "markdown",
   "id": "c2dea5e2-b7fd-4758-8584-75cb4578dedd",
   "metadata": {},
   "source": [
    "when two variables are discrete, then it is possible to list all combinations of values of the two variables and to count how often these combinations occur in the data.\n",
    "\n",
    "Consider the salary example in which two variable are binary:\n",
    "\n",
    "* X(Male, Female)\n",
    "* Y(low-salary, high-salary)\n",
    "\n",
    "There are four possible combinations of variable categories. A complete descrtipiton of the joint occurence of these two variables can be given by counting, for each combination, the number of units for which this combination is measured, in the following we generalize this concept to two variable where each can have an arbitrary but fixed number of values or categories."
   ]
  },
  {
   "cell_type": "markdown",
   "id": "1ad1725b-4f3d-4fe0-ac46-365c796399e5",
   "metadata": {},
   "source": [
    "### Conteingency tables for discrete data"
   ]
  },
  {
   "cell_type": "markdown",
   "id": "627e752b-98c5-4005-9d2d-2b5a63b33f6b",
   "metadata": {},
   "source": [
    "Suppose we have data on two discrete variables. this can be described in a two dimensional contingency table.\n",
    "\n",
    "**Example 4.1.1** \n",
    "\n",
    "An airline conducts a customer satisfaction survey. The survey\n",
    "includes questions about travel class and satisfaction levels with respect to different\n",
    "categories such as seat comfort, in-flight service, meals, safety, and other indicators.\n",
    "Consider the information on X, denoting the travel class (Economy = “E”, Business\n",
    "= “B”, First = “F”), and “Y”, denoting the overall satisfaction with the flight on a\n",
    "scale from 1 to 4 as 1 (poor), 2 (fair), 3 (good), and 4 (very good). "
   ]
  },
  {
   "cell_type": "code",
   "execution_count": 2,
   "id": "6cea6c12-ed14-4ecd-b5e7-aa1eeee6427f",
   "metadata": {},
   "outputs": [],
   "source": [
    "passenger_number = c(1:12)\n",
    "travel_class = c('E', \"E\", 'E', 'B', 'E', 'B', 'F', 'E', 'E', \"B\", 'E', 'B')\n",
    "satisfaction = c(2, 4, 1, 3, 1, 2, 4, 3, 2, 4, 3, 3)"
   ]
  },
  {
   "cell_type": "code",
   "execution_count": 3,
   "id": "d7da4226-5e44-4cbc-b3b4-ce0472dd4e5c",
   "metadata": {},
   "outputs": [],
   "source": [
    "passenger = matrix(c(passenger_number, travel_class, satisfaction), ncol=12, byrow=T)"
   ]
  },
  {
   "cell_type": "code",
   "execution_count": 4,
   "id": "8343bedb-acad-4f3e-b699-a52166e12560",
   "metadata": {},
   "outputs": [
    {
     "data": {
      "text/html": [
       "<table>\n",
       "<tbody>\n",
       "\t<tr><td>1 </td><td>2 </td><td>3 </td><td>4 </td><td>5 </td><td>6 </td><td>7 </td><td>8 </td><td>9 </td><td>10</td><td>11</td><td>12</td></tr>\n",
       "\t<tr><td>E </td><td>E </td><td>E </td><td>B </td><td>E </td><td>B </td><td>F </td><td>E </td><td>E </td><td>B </td><td>E </td><td>B </td></tr>\n",
       "\t<tr><td>2 </td><td>4 </td><td>1 </td><td>3 </td><td>1 </td><td>2 </td><td>4 </td><td>3 </td><td>2 </td><td>4 </td><td>3 </td><td>3 </td></tr>\n",
       "</tbody>\n",
       "</table>\n"
      ],
      "text/latex": [
       "\\begin{tabular}{llllllllllll}\n",
       "\t 1  & 2  & 3  & 4  & 5  & 6  & 7  & 8  & 9  & 10 & 11 & 12\\\\\n",
       "\t E  & E  & E  & B  & E  & B  & F  & E  & E  & B  & E  & B \\\\\n",
       "\t 2  & 4  & 1  & 3  & 1  & 2  & 4  & 3  & 2  & 4  & 3  & 3 \\\\\n",
       "\\end{tabular}\n"
      ],
      "text/markdown": [
       "\n",
       "| 1  | 2  | 3  | 4  | 5  | 6  | 7  | 8  | 9  | 10 | 11 | 12 |\n",
       "| E  | E  | E  | B  | E  | B  | F  | E  | E  | B  | E  | B  |\n",
       "| 2  | 4  | 1  | 3  | 1  | 2  | 4  | 3  | 2  | 4  | 3  | 3  |\n",
       "\n"
      ],
      "text/plain": [
       "     [,1] [,2] [,3] [,4] [,5] [,6] [,7] [,8] [,9] [,10] [,11] [,12]\n",
       "[1,] 1    2    3    4    5    6    7    8    9    10    11    12   \n",
       "[2,] E    E    E    B    E    B    F    E    E    B     E     B    \n",
       "[3,] 2    4    1    3    1    2    4    3    2    4     3     3    "
      ]
     },
     "metadata": {},
     "output_type": "display_data"
    }
   ],
   "source": [
    "passenger"
   ]
  },
  {
   "cell_type": "code",
   "execution_count": 5,
   "id": "06470456-943b-4853-9198-414043f239bd",
   "metadata": {},
   "outputs": [],
   "source": [
    "rownames(passenger) = c(\"Passenger Number\",\"Travel Class\",\"Satisfaction\")"
   ]
  },
  {
   "cell_type": "code",
   "execution_count": 6,
   "id": "8040c04e-d7d0-4149-b80c-ebf469701a76",
   "metadata": {},
   "outputs": [
    {
     "data": {
      "text/html": [
       "<table>\n",
       "<tbody>\n",
       "\t<tr><th scope=row>Passenger Number</th><td>1 </td><td>2 </td><td>3 </td><td>4 </td><td>5 </td><td>6 </td><td>7 </td><td>8 </td><td>9 </td><td>10</td><td>11</td><td>12</td></tr>\n",
       "\t<tr><th scope=row>Travel Class</th><td>E </td><td>E </td><td>E </td><td>B </td><td>E </td><td>B </td><td>F </td><td>E </td><td>E </td><td>B </td><td>E </td><td>B </td></tr>\n",
       "\t<tr><th scope=row>Satisfaction</th><td>2 </td><td>4 </td><td>1 </td><td>3 </td><td>1 </td><td>2 </td><td>4 </td><td>3 </td><td>2 </td><td>4 </td><td>3 </td><td>3 </td></tr>\n",
       "</tbody>\n",
       "</table>\n"
      ],
      "text/latex": [
       "\\begin{tabular}{r|llllllllllll}\n",
       "\tPassenger Number & 1  & 2  & 3  & 4  & 5  & 6  & 7  & 8  & 9  & 10 & 11 & 12\\\\\n",
       "\tTravel Class & E  & E  & E  & B  & E  & B  & F  & E  & E  & B  & E  & B \\\\\n",
       "\tSatisfaction & 2  & 4  & 1  & 3  & 1  & 2  & 4  & 3  & 2  & 4  & 3  & 3 \\\\\n",
       "\\end{tabular}\n"
      ],
      "text/markdown": [
       "\n",
       "| Passenger Number | 1  | 2  | 3  | 4  | 5  | 6  | 7  | 8  | 9  | 10 | 11 | 12 |\n",
       "| Travel Class | E  | E  | E  | B  | E  | B  | F  | E  | E  | B  | E  | B  |\n",
       "| Satisfaction | 2  | 4  | 1  | 3  | 1  | 2  | 4  | 3  | 2  | 4  | 3  | 3  |\n",
       "\n"
      ],
      "text/plain": [
       "                 [,1] [,2] [,3] [,4] [,5] [,6] [,7] [,8] [,9] [,10] [,11] [,12]\n",
       "Passenger Number 1    2    3    4    5    6    7    8    9    10    11    12   \n",
       "Travel Class     E    E    E    B    E    B    F    E    E    B     E     B    \n",
       "Satisfaction     2    4    1    3    1    2    4    3    2    4     3     3    "
      ]
     },
     "metadata": {},
     "output_type": "display_data"
    }
   ],
   "source": [
    "passenger"
   ]
  },
  {
   "cell_type": "markdown",
   "id": "e3a8b1ef-65a7-4bf2-9d22-b40f37903d22",
   "metadata": {},
   "source": [
    "We can calculate the absolute frequencies for each of the combination of observed values.\n",
    "\n",
    "For example: \n",
    "    * There are 2 passengers who were flying in the economy class and rated the flight quality as poor, there were no passengers from both business class and first class who rated the flight quality as poor.\n",
    "    \n",
    "    Similarlily we can make a frequencies for each combination of observed values. \n",
    "    \n",
    "Now we will make absolute frequencies for each observartion by using the table function in which we will pass X and Y variable separately.\n",
    "\n",
    "like: table(X, Y)"
   ]
  },
  {
   "cell_type": "code",
   "execution_count": 7,
   "id": "82450e63-c125-479e-b351-bdad6fb25eba",
   "metadata": {},
   "outputs": [
    {
     "data": {
      "text/plain": [
       "   \n",
       "    1 2 3 4\n",
       "  B 0 1 2 1\n",
       "  E 2 2 2 1\n",
       "  F 0 0 0 1"
      ]
     },
     "metadata": {},
     "output_type": "display_data"
    }
   ],
   "source": [
    "# Now by using the table function  with both variable 'Travel Class' and 'Satisfaction'\n",
    "table(passenger['Travel Class',], passenger['Satisfaction',])"
   ]
  },
  {
   "cell_type": "markdown",
   "id": "fdc644b4-f221-4fe1-92fd-dec23f895828",
   "metadata": {},
   "source": [
    "**Contingency table**\n",
    "\n",
    "To make a contingency table we should have the sum of each categories in respective row and column for that we need to pass the table output in the addmargins function."
   ]
  },
  {
   "cell_type": "code",
   "execution_count": 8,
   "id": "befef526-da18-4668-9b0a-bbe8f79158de",
   "metadata": {},
   "outputs": [
    {
     "data": {
      "text/html": [
       "<table>\n",
       "<thead><tr><th></th><th scope=col>1</th><th scope=col>2</th><th scope=col>3</th><th scope=col>4</th><th scope=col>Sum</th></tr></thead>\n",
       "<tbody>\n",
       "\t<tr><th scope=row>B</th><td>0 </td><td>1 </td><td>2 </td><td>1 </td><td> 4</td></tr>\n",
       "\t<tr><th scope=row>E</th><td>2 </td><td>2 </td><td>2 </td><td>1 </td><td> 7</td></tr>\n",
       "\t<tr><th scope=row>F</th><td>0 </td><td>0 </td><td>0 </td><td>1 </td><td> 1</td></tr>\n",
       "\t<tr><th scope=row>Sum</th><td>2 </td><td>3 </td><td>4 </td><td>3 </td><td>12</td></tr>\n",
       "</tbody>\n",
       "</table>\n"
      ],
      "text/latex": [
       "\\begin{tabular}{r|lllll}\n",
       "  & 1 & 2 & 3 & 4 & Sum\\\\\n",
       "\\hline\n",
       "\tB & 0  & 1  & 2  & 1  &  4\\\\\n",
       "\tE & 2  & 2  & 2  & 1  &  7\\\\\n",
       "\tF & 0  & 0  & 0  & 1  &  1\\\\\n",
       "\tSum & 2  & 3  & 4  & 3  & 12\\\\\n",
       "\\end{tabular}\n"
      ],
      "text/markdown": [
       "\n",
       "| <!--/--> | 1 | 2 | 3 | 4 | Sum |\n",
       "|---|---|---|---|---|---|\n",
       "| B | 0  | 1  | 2  | 1  |  4 |\n",
       "| E | 2  | 2  | 2  | 1  |  7 |\n",
       "| F | 0  | 0  | 0  | 1  |  1 |\n",
       "| Sum | 2  | 3  | 4  | 3  | 12 |\n",
       "\n"
      ],
      "text/plain": [
       "     \n",
       "      1 2 3 4 Sum\n",
       "  B   0 1 2 1  4 \n",
       "  E   2 2 2 1  7 \n",
       "  F   0 0 0 1  1 \n",
       "  Sum 2 3 4 3 12 "
      ]
     },
     "metadata": {},
     "output_type": "display_data"
    }
   ],
   "source": [
    "addmargins(table(passenger['Travel Class',], passenger['Satisfaction',]))"
   ]
  },
  {
   "cell_type": "markdown",
   "id": "76ecd891-af3e-4b5d-a095-70675566e801",
   "metadata": {},
   "source": [
    "Now this table gives us a total of each categories observed values with the total number of observed on the last column and last row."
   ]
  },
  {
   "cell_type": "markdown",
   "id": "d66fe6e6-216a-44c4-ac08-866389cf4f5b",
   "metadata": {},
   "source": [
    "* The frequencies $n_{ij}$ represent the joint frequency distribution of X and Y.\n",
    "* The frequencies $n_{i+}$ represent the marginal frequency distribution of X.\n",
    "* The frequencies $n_{+j}$ represent the marginal frequency distribution of Y.\n",
    "* We define $f_{ij}^{X|Y} = n_{ij}/n_{+j}$ to be the conditional frequency distribution of\n",
    "X given Y = y j.\n",
    "* We define $f_{ji}^{Y|X} = n_{ij}/n_{i+}$ to be the conditional frequency distribution of Y\n",
    "given X = xi\n",
    "* The frequencies $f_{ij}$ represent the joint relative frequency distribution of X\n",
    "and Y.\n",
    "* The frequencies $f_{i+} = \\Sigma_{j=1}^l f_{ij}$ represent the marginal relative frequency\n",
    "distribution of X.\n",
    "* The frequencies $f_{+j} = \\Sigma_{i=1}^k f_{ij}$ represent the marginal relative frequency\n",
    "distribution of Y.\n",
    "* We define $f_{ij}^{X|Y} = f_{ij}/f_{+j}$ to be the conditional relative frequency distribution of X given Y = y j.\n",
    "* We define $f_{ji}^{Y|X} = f_{ij}/f_{i+}$ to be the conditional relative frequency distribution of Y given X = xi."
   ]
  },
  {
   "cell_type": "markdown",
   "id": "20a4f8b5-d0c3-4868-a7c7-4ce4021e5c24",
   "metadata": {},
   "source": [
    "Note: For a bivariate joint frequency distribution, there will only be two marginal freqency distributions but possible more than two conditional frequency distributions."
   ]
  },
  {
   "cell_type": "markdown",
   "id": "8e23848a-7213-4b88-a6be-f3c19b10c0cc",
   "metadata": {},
   "source": [
    "**Example 2:**\n",
    "\n",
    "suppose that, Now we have total 100 passenger in which 62 passengers in economy, 25 in business, 14 in first class and they gave satisfaction level as 10 poor, 36 fair, 40 good, 14 very good.\n",
    "\n",
    "This thing can be shown in the table in very good way to do this first we need to make the data and put that into the table with two variables."
   ]
  },
  {
   "cell_type": "code",
   "execution_count": 9,
   "id": "49b7853d-d3d1-45a3-b436-9364abd76909",
   "metadata": {},
   "outputs": [],
   "source": [
    "Travel_Class = c(rep('Economy', 62), rep('Business', 25), rep('First',13))\n",
    "Rating = c(rep('Poor', 10), rep('Fair',36), rep('Good', 40), rep('Very Good', 14))"
   ]
  },
  {
   "cell_type": "code",
   "execution_count": 10,
   "id": "282c11e4-bb24-4944-81b4-bbf8e5a948c3",
   "metadata": {},
   "outputs": [],
   "source": [
    "passengers = cbind(Travel_Class, Rating)"
   ]
  },
  {
   "cell_type": "code",
   "execution_count": 11,
   "id": "d09e1eb5-3209-4bb7-b73e-ded6742c2eac",
   "metadata": {},
   "outputs": [
    {
     "data": {
      "text/html": [
       "<table>\n",
       "<thead><tr><th scope=col>Travel_Class</th><th scope=col>Rating</th></tr></thead>\n",
       "<tbody>\n",
       "\t<tr><td>Economy</td><td>Poor   </td></tr>\n",
       "\t<tr><td>Economy</td><td>Poor   </td></tr>\n",
       "\t<tr><td>Economy</td><td>Poor   </td></tr>\n",
       "\t<tr><td>Economy</td><td>Poor   </td></tr>\n",
       "\t<tr><td>Economy</td><td>Poor   </td></tr>\n",
       "\t<tr><td>Economy</td><td>Poor   </td></tr>\n",
       "</tbody>\n",
       "</table>\n"
      ],
      "text/latex": [
       "\\begin{tabular}{ll}\n",
       " Travel\\_Class & Rating\\\\\n",
       "\\hline\n",
       "\t Economy & Poor   \\\\\n",
       "\t Economy & Poor   \\\\\n",
       "\t Economy & Poor   \\\\\n",
       "\t Economy & Poor   \\\\\n",
       "\t Economy & Poor   \\\\\n",
       "\t Economy & Poor   \\\\\n",
       "\\end{tabular}\n"
      ],
      "text/markdown": [
       "\n",
       "| Travel_Class | Rating |\n",
       "|---|---|\n",
       "| Economy | Poor    |\n",
       "| Economy | Poor    |\n",
       "| Economy | Poor    |\n",
       "| Economy | Poor    |\n",
       "| Economy | Poor    |\n",
       "| Economy | Poor    |\n",
       "\n"
      ],
      "text/plain": [
       "     Travel_Class Rating\n",
       "[1,] Economy      Poor  \n",
       "[2,] Economy      Poor  \n",
       "[3,] Economy      Poor  \n",
       "[4,] Economy      Poor  \n",
       "[5,] Economy      Poor  \n",
       "[6,] Economy      Poor  "
      ]
     },
     "metadata": {},
     "output_type": "display_data"
    }
   ],
   "source": [
    "head(passengers)"
   ]
  },
  {
   "cell_type": "markdown",
   "id": "03be2d6f-5771-4b6e-a309-5a48a5fac2c2",
   "metadata": {},
   "source": [
    "Making table of the given data of passenger data."
   ]
  },
  {
   "cell_type": "code",
   "execution_count": 12,
   "id": "293a8515-e689-4dbd-bdde-95100e9625d9",
   "metadata": {},
   "outputs": [],
   "source": [
    "passenger_table = addmargins(table(passengers[,'Travel_Class'], passengers[,'Rating']))"
   ]
  },
  {
   "cell_type": "code",
   "execution_count": 13,
   "id": "58691929-7b53-4351-98ae-28839b1ca243",
   "metadata": {},
   "outputs": [],
   "source": [
    "passenger_table[1,1:4] = c(10, 33, 15, 4)\n",
    "passenger_table[2,1:4] = c(0, 3, 20, 2)\n",
    "passenger_table[3,1:4] = c(0,0,5,8)"
   ]
  },
  {
   "cell_type": "code",
   "execution_count": 14,
   "id": "8bd84be7-7221-4a22-8c73-09ff846c2bb6",
   "metadata": {},
   "outputs": [
    {
     "data": {
      "text/html": [
       "<table>\n",
       "<thead><tr><th></th><th scope=col>Fair</th><th scope=col>Good</th><th scope=col>Poor</th><th scope=col>Very Good</th><th scope=col>Sum</th></tr></thead>\n",
       "<tbody>\n",
       "\t<tr><th scope=row>Business</th><td>10 </td><td>33 </td><td>15 </td><td> 4 </td><td> 25</td></tr>\n",
       "\t<tr><th scope=row>Economy</th><td> 0 </td><td> 3 </td><td>20 </td><td> 2 </td><td> 62</td></tr>\n",
       "\t<tr><th scope=row>First</th><td> 0 </td><td> 0 </td><td> 5 </td><td> 8 </td><td> 13</td></tr>\n",
       "\t<tr><th scope=row>Sum</th><td>36 </td><td>40 </td><td>10 </td><td>14 </td><td>100</td></tr>\n",
       "</tbody>\n",
       "</table>\n"
      ],
      "text/latex": [
       "\\begin{tabular}{r|lllll}\n",
       "  & Fair & Good & Poor & Very Good & Sum\\\\\n",
       "\\hline\n",
       "\tBusiness & 10  & 33  & 15  &  4  &  25\\\\\n",
       "\tEconomy &  0  &  3  & 20  &  2  &  62\\\\\n",
       "\tFirst &  0  &  0  &  5  &  8  &  13\\\\\n",
       "\tSum & 36  & 40  & 10  & 14  & 100\\\\\n",
       "\\end{tabular}\n"
      ],
      "text/markdown": [
       "\n",
       "| <!--/--> | Fair | Good | Poor | Very Good | Sum |\n",
       "|---|---|---|---|---|---|\n",
       "| Business | 10  | 33  | 15  |  4  |  25 |\n",
       "| Economy |  0  |  3  | 20  |  2  |  62 |\n",
       "| First |  0  |  0  |  5  |  8  |  13 |\n",
       "| Sum | 36  | 40  | 10  | 14  | 100 |\n",
       "\n"
      ],
      "text/plain": [
       "          \n",
       "           Fair Good Poor Very Good Sum\n",
       "  Business 10   33   15    4         25\n",
       "  Economy   0    3   20    2         62\n",
       "  First     0    0    5    8         13\n",
       "  Sum      36   40   10   14        100"
      ]
     },
     "metadata": {},
     "output_type": "display_data"
    }
   ],
   "source": [
    "passenger_table"
   ]
  },
  {
   "cell_type": "code",
   "execution_count": 29,
   "id": "6b919d0b-343f-49e4-afec-713ac78a63f6",
   "metadata": {},
   "outputs": [],
   "source": [
    "passengers_data = passenger_table[1:3, 1:4]"
   ]
  },
  {
   "cell_type": "code",
   "execution_count": 31,
   "id": "8fbf3a7e-1016-4ef3-82f7-f8e52a77210d",
   "metadata": {},
   "outputs": [
    {
     "data": {
      "text/html": [
       "<table>\n",
       "<thead><tr><th></th><th scope=col>Fair</th><th scope=col>Good</th><th scope=col>Poor</th><th scope=col>Very Good</th><th scope=col>Sum</th></tr></thead>\n",
       "<tbody>\n",
       "\t<tr><th scope=row>Business</th><td>10 </td><td>33 </td><td>15 </td><td> 4 </td><td> 62</td></tr>\n",
       "\t<tr><th scope=row>Economy</th><td> 0 </td><td> 3 </td><td>20 </td><td> 2 </td><td> 25</td></tr>\n",
       "\t<tr><th scope=row>First</th><td> 0 </td><td> 0 </td><td> 5 </td><td> 8 </td><td> 13</td></tr>\n",
       "\t<tr><th scope=row>Sum</th><td>10 </td><td>36 </td><td>40 </td><td>14 </td><td>100</td></tr>\n",
       "</tbody>\n",
       "</table>\n"
      ],
      "text/latex": [
       "\\begin{tabular}{r|lllll}\n",
       "  & Fair & Good & Poor & Very Good & Sum\\\\\n",
       "\\hline\n",
       "\tBusiness & 10  & 33  & 15  &  4  &  62\\\\\n",
       "\tEconomy &  0  &  3  & 20  &  2  &  25\\\\\n",
       "\tFirst &  0  &  0  &  5  &  8  &  13\\\\\n",
       "\tSum & 10  & 36  & 40  & 14  & 100\\\\\n",
       "\\end{tabular}\n"
      ],
      "text/markdown": [
       "\n",
       "| <!--/--> | Fair | Good | Poor | Very Good | Sum |\n",
       "|---|---|---|---|---|---|\n",
       "| Business | 10  | 33  | 15  |  4  |  62 |\n",
       "| Economy |  0  |  3  | 20  |  2  |  25 |\n",
       "| First |  0  |  0  |  5  |  8  |  13 |\n",
       "| Sum | 10  | 36  | 40  | 14  | 100 |\n",
       "\n"
      ],
      "text/plain": [
       "          \n",
       "           Fair Good Poor Very Good Sum\n",
       "  Business 10   33   15    4         62\n",
       "  Economy   0    3   20    2         25\n",
       "  First     0    0    5    8         13\n",
       "  Sum      10   36   40   14        100"
      ]
     },
     "metadata": {},
     "output_type": "display_data"
    }
   ],
   "source": [
    "addmargins(passengers_data)"
   ]
  },
  {
   "cell_type": "markdown",
   "id": "62f2da84-0b2d-4e76-98f6-3e9967e4c273",
   "metadata": {},
   "source": [
    "Now we have our original sample on which we will do some more analytics step in furthur cells."
   ]
  },
  {
   "cell_type": "code",
   "execution_count": null,
   "id": "9063e658-6738-4864-8873-8c2136ab79ad",
   "metadata": {},
   "outputs": [],
   "source": []
  },
  {
   "cell_type": "markdown",
   "id": "814ae80c-d0a3-4e81-abca-dbcc91b9940b",
   "metadata": {},
   "source": [
    "### Graphical Representation of Two Nominal or Ordinal Variables.\n",
    "\n",
    "Bar charts can be used to graphically summarize the association b/w two nominal or two ordinal variables. The bar chart is drawn for X and the categories of Y are represented bars or stacked bars for each categories.\n",
    "\n",
    "In this way, we summarize the joint distribution of the contigency table."
   ]
  },
  {
   "cell_type": "code",
   "execution_count": 15,
   "id": "c4c919c4-bc3e-49a7-b74e-f085a2a013db",
   "metadata": {},
   "outputs": [],
   "source": [
    "library(lattice)"
   ]
  },
  {
   "cell_type": "code",
   "execution_count": 16,
   "id": "da609bad-4eb5-4d8d-800e-2c3aaa51ed4a",
   "metadata": {},
   "outputs": [
    {
     "data": {
      "image/png": "[encoded data removed]",
      "text/plain": [
       "plot without title"
      ]
     },
     "metadata": {},
     "output_type": "display_data"
    }
   ],
   "source": [
    "barchart(passenger_table[1:3,1:4], horizontal=F,ylab='Absoulute Frequency', xlab='Class')"
   ]
  },
  {
   "cell_type": "code",
   "execution_count": 17,
   "id": "53f5a6fc-f336-43b5-a0d1-52d93073e9ca",
   "metadata": {},
   "outputs": [
    {
     "data": {
      "image/png": "[encoded data removed]",
      "text/plain": [
       "plot without title"
      ]
     },
     "metadata": {},
     "output_type": "display_data"
    }
   ],
   "source": [
    "barchart(passenger_table[1:3,1:4], horizontal=F, stack=F, legends='right',ylab='Absoulute Frequency', xlab='Class')"
   ]
  },
  {
   "cell_type": "markdown",
   "id": "1af72ecb-d0d1-4f32-b690-f3f273c33999",
   "metadata": {},
   "source": [
    "Note: There are several options available in R like ggplot2, can be used to make such graphics."
   ]
  },
  {
   "cell_type": "markdown",
   "id": "66d0332f-cd46-42bc-88e9-75fa728c9fc9",
   "metadata": {},
   "source": [
    "**Independence and Expected Frequencies:** An important statistical concept is independence. in this section we see it descriptive aspects.\n",
    "\n",
    "* Two variable are considered to be independent if the observation on one variable do not influence the observations on the other variable.\n",
    "\n",
    "* For Example: supppose two different person roll a die separately: then the outcomes of their rools do not depend on each other.\n",
    "\n",
    "* So we can say that the two observations are independent in the context of contingency tables, two variables are independent of each other when the joint relative freqency equals the product of the marginal relative frequencies of two variables."
   ]
  },
  {
   "cell_type": "markdown",
   "id": "2937837c-01a6-4cff-b559-f4b907f0b1ba",
   "metadata": {},
   "source": [
    "## Measure of Association for Two Discrete Variable"
   ]
  },
  {
   "cell_type": "markdown",
   "id": "065d6832-6c84-4e1c-a180-e9df9f2c29ab",
   "metadata": {},
   "source": [
    "* When two variables are not independent, then they are associated. Their association can be weak or strong.\n",
    "* Measure of association describe the degree of the association b/w two variables and be have a direction as well.\n",
    "* Note that if variables are defined on a nominal scale, then nothing can be said about the direction of association, only about the strength.\n",
    "* if variables are defined on ordinal scale, then we can describe both direction and strength also.\n",
    "\n",
    "\n",
    "**Example:**\n",
    "\n",
    "Now suppose that we conduct a vaccination for a dieses and vaccinate some people, now we want to find out the is there a relation b/w the dieses and vaccination effect on the person/people. NOte data is given billow."
   ]
  },
  {
   "cell_type": "code",
   "execution_count": 18,
   "id": "b2351c97-7ae5-494e-a0ca-fe6ba17f2824",
   "metadata": {},
   "outputs": [],
   "source": [
    "dieses_data = matrix(c(90, 10, 40, 60), ncol=2, byrow=T)"
   ]
  },
  {
   "cell_type": "code",
   "execution_count": 19,
   "id": "03bb0db6-604c-475d-9191-c33fd74c7748",
   "metadata": {},
   "outputs": [
    {
     "data": {
      "text/html": [
       "<table>\n",
       "<tbody>\n",
       "\t<tr><td>90</td><td>10</td></tr>\n",
       "\t<tr><td>40</td><td>60</td></tr>\n",
       "</tbody>\n",
       "</table>\n"
      ],
      "text/latex": [
       "\\begin{tabular}{ll}\n",
       "\t 90 & 10\\\\\n",
       "\t 40 & 60\\\\\n",
       "\\end{tabular}\n"
      ],
      "text/markdown": [
       "\n",
       "| 90 | 10 |\n",
       "| 40 | 60 |\n",
       "\n"
      ],
      "text/plain": [
       "     [,1] [,2]\n",
       "[1,] 90   10  \n",
       "[2,] 40   60  "
      ]
     },
     "metadata": {},
     "output_type": "display_data"
    }
   ],
   "source": [
    "dieses_data"
   ]
  },
  {
   "cell_type": "code",
   "execution_count": 20,
   "id": "d32a1e51-497a-48a2-88ad-4c2994724844",
   "metadata": {},
   "outputs": [],
   "source": [
    "colnames(dieses_data) =  c(\"Not affected\", \"Affected\")\n",
    "rownames(dieses_data) = c(\"Vaccinated\", \"Not Vaccinated\")"
   ]
  },
  {
   "cell_type": "code",
   "execution_count": 21,
   "id": "29ecd3f5-8320-4830-85e8-41c2eb3a18c7",
   "metadata": {},
   "outputs": [
    {
     "data": {
      "text/html": [
       "<table>\n",
       "<thead><tr><th></th><th scope=col>Not affected</th><th scope=col>Affected</th></tr></thead>\n",
       "<tbody>\n",
       "\t<tr><th scope=row>Vaccinated</th><td>90</td><td>10</td></tr>\n",
       "\t<tr><th scope=row>Not Vaccinated</th><td>40</td><td>60</td></tr>\n",
       "</tbody>\n",
       "</table>\n"
      ],
      "text/latex": [
       "\\begin{tabular}{r|ll}\n",
       "  & Not affected & Affected\\\\\n",
       "\\hline\n",
       "\tVaccinated & 90 & 10\\\\\n",
       "\tNot Vaccinated & 40 & 60\\\\\n",
       "\\end{tabular}\n"
      ],
      "text/markdown": [
       "\n",
       "| <!--/--> | Not affected | Affected |\n",
       "|---|---|---|\n",
       "| Vaccinated | 90 | 10 |\n",
       "| Not Vaccinated | 40 | 60 |\n",
       "\n"
      ],
      "text/plain": [
       "               Not affected Affected\n",
       "Vaccinated     90           10      \n",
       "Not Vaccinated 40           60      "
      ]
     },
     "metadata": {},
     "output_type": "display_data"
    }
   ],
   "source": [
    "dieses_data"
   ]
  },
  {
   "cell_type": "code",
   "execution_count": 22,
   "id": "ecdb0e64-b995-4963-9967-4ff6adad30a4",
   "metadata": {},
   "outputs": [
    {
     "data": {
      "text/html": [
       "<table>\n",
       "<thead><tr><th></th><th scope=col>Not affected</th><th scope=col>Affected</th><th scope=col>Sum</th></tr></thead>\n",
       "<tbody>\n",
       "\t<tr><th scope=row>Vaccinated</th><td> 90</td><td>10 </td><td>100</td></tr>\n",
       "\t<tr><th scope=row>Not Vaccinated</th><td> 40</td><td>60 </td><td>100</td></tr>\n",
       "\t<tr><th scope=row>Sum</th><td>130</td><td>70 </td><td>200</td></tr>\n",
       "</tbody>\n",
       "</table>\n"
      ],
      "text/latex": [
       "\\begin{tabular}{r|lll}\n",
       "  & Not affected & Affected & Sum\\\\\n",
       "\\hline\n",
       "\tVaccinated &  90 & 10  & 100\\\\\n",
       "\tNot Vaccinated &  40 & 60  & 100\\\\\n",
       "\tSum & 130 & 70  & 200\\\\\n",
       "\\end{tabular}\n"
      ],
      "text/markdown": [
       "\n",
       "| <!--/--> | Not affected | Affected | Sum |\n",
       "|---|---|---|---|\n",
       "| Vaccinated |  90 | 10  | 100 |\n",
       "| Not Vaccinated |  40 | 60  | 100 |\n",
       "| Sum | 130 | 70  | 200 |\n",
       "\n"
      ],
      "text/plain": [
       "               Not affected Affected Sum\n",
       "Vaccinated      90          10       100\n",
       "Not Vaccinated  40          60       100\n",
       "Sum            130          70       200"
      ]
     },
     "metadata": {},
     "output_type": "display_data"
    }
   ],
   "source": [
    "# Now we will use the addmargines to get the contingency table\n",
    "addmargins(dieses_data)"
   ]
  },
  {
   "cell_type": "markdown",
   "id": "8c6dd5a5-a00d-4a70-94ac-67eef01b58f6",
   "metadata": {},
   "source": [
    "Now first we need to find out that is there any independency b/w Vaccination effect on the dieses.\n",
    "\n",
    "we can check the indepency of b/w two variable by using $a = {(a+b)(a+c)}/{n}$\n",
    "\n",
    "* where a= 90, b = 10, c=40, d = 60 and n=200\n",
    "* if above condition satisfied then both variables are independent to each other."
   ]
  },
  {
   "cell_type": "code",
   "execution_count": 23,
   "id": "38c8a824-fc13-4382-bbb5-8b5ee38193c9",
   "metadata": {},
   "outputs": [],
   "source": [
    "a = 100*130/200"
   ]
  },
  {
   "cell_type": "code",
   "execution_count": 24,
   "id": "de6f3d26-ac1b-475d-b8be-1a778fd73c78",
   "metadata": {},
   "outputs": [
    {
     "data": {
      "text/html": [
       "65"
      ],
      "text/latex": [
       "65"
      ],
      "text/markdown": [
       "65"
      ],
      "text/plain": [
       "[1] 65"
      ]
     },
     "metadata": {},
     "output_type": "display_data"
    }
   ],
   "source": [
    "a"
   ]
  },
  {
   "cell_type": "markdown",
   "id": "f2185e65-13dc-49ed-b730-da5ad9126511",
   "metadata": {},
   "source": [
    "Where 65 is less than 90 it means both variables are dependent to each other, but it is very important to know that how much they are dependent to each other, for this we can use various method but for now we will use three different kind of methods.\n",
    "\n",
    "* **1. Pearson Chi-Square Statistic**\n",
    "* **2. Cramer's V Statistic**\n",
    "* **3. Contingency Cofficient C**\n"
   ]
  },
  {
   "cell_type": "markdown",
   "id": "c23846d5-8ed7-4020-a45b-b36796de4310",
   "metadata": {},
   "source": [
    "### Pearson Chi-Square Statistics"
   ]
  },
  {
   "cell_type": "markdown",
   "id": "00a66a61-70e5-4de6-bcbe-47aa1a2cee2e",
   "metadata": {},
   "source": [
    "We Now introduce Pearson's chi statistic which is used for measuring the association b/w variable in contingency table and plays an important role in the construction of statistical tests.\n",
    "\n",
    "* The idea behind the $\\chi^2$ (chi-square)  cofficient is that when the relatinship b/w two variables is stronger, then the deviations b/w observed and expected frequencies are expected to be higher and this indicated a stronger relationship c/w the two variables.\n",
    "\n",
    "* if observed and expected frequencies are identical or similar then this is an indication that the association b/w the two variables is weak and the variables may even be independent.\n",
    "\n",
    "* The statistic for a $K*l$ contingency table sums up all the differences b/w the observed and expected frequencies, squares them, and scales them with respect to the expected frequencies.\n",
    "\n",
    "* The Squaring of the difference makes the statistic independent of the positive and negative signs of the difference b/w observed and expected frequencies.\n",
    "\n",
    "Now we will calculate the relationship b/w the vaccination effect on the person VS notvaccinated person."
   ]
  },
  {
   "cell_type": "markdown",
   "id": "6fcdc6f7-2e5a-4b1d-9cd3-1e302a7865de",
   "metadata": {},
   "source": [
    "`Note:` In this test we need to check the strongness of the relation, but how are we going to do it, for this we need a strong point which is given by $0 \\leq \\chi^2 \\leq n(min(k,l)-1)$.\n",
    "\n",
    "* if our $\\chi^2$ result is equal to this 0 means there is no relationship b/w two variables.\n",
    "* if our $\\chi^2$ result is equal to the max value means there is a very strong relationship b/w two variables.\n",
    "* if our $\\chi^2$ result is in b/w (0, max) then our relationship b/w variable can be weak, moderate or strong from left to right."
   ]
  },
  {
   "cell_type": "markdown",
   "id": "21065c2e-3cd8-4cfb-a81a-13d59232a7eb",
   "metadata": {},
   "source": [
    "Now we will make a function which will return the max value for the relation b/w the two variable in the chi-square test."
   ]
  },
  {
   "cell_type": "code",
   "execution_count": 42,
   "id": "3b46609d-92f8-4153-ad4f-65236ec94bf6",
   "metadata": {},
   "outputs": [],
   "source": [
    "chisq.max.value = function(Dataset){\n",
    "    \n",
    "    # now first we need to get the dimension of the dataset.\n",
    "    n = sum(dieses_data)\n",
    "    maxvalue = n*(min(dim(dieses_data))-1)\n",
    "    maxvalue\n",
    "}"
   ]
  },
  {
   "cell_type": "markdown",
   "id": "71e43339-0c83-4c82-9ce3-44c567ff8bcd",
   "metadata": {},
   "source": [
    "**Example1: Perfom a chi-square test on the diseases effect on vaccinated person Vs notvaccinated person.**"
   ]
  },
  {
   "cell_type": "code",
   "execution_count": 26,
   "id": "03c50acb-7d9b-407b-bcdc-911434c84653",
   "metadata": {},
   "outputs": [
    {
     "data": {
      "text/html": [
       "<table>\n",
       "<thead><tr><th></th><th scope=col>Not affected</th><th scope=col>Affected</th></tr></thead>\n",
       "<tbody>\n",
       "\t<tr><th scope=row>Vaccinated</th><td>90</td><td>10</td></tr>\n",
       "\t<tr><th scope=row>Not Vaccinated</th><td>40</td><td>60</td></tr>\n",
       "</tbody>\n",
       "</table>\n"
      ],
      "text/latex": [
       "\\begin{tabular}{r|ll}\n",
       "  & Not affected & Affected\\\\\n",
       "\\hline\n",
       "\tVaccinated & 90 & 10\\\\\n",
       "\tNot Vaccinated & 40 & 60\\\\\n",
       "\\end{tabular}\n"
      ],
      "text/markdown": [
       "\n",
       "| <!--/--> | Not affected | Affected |\n",
       "|---|---|---|\n",
       "| Vaccinated | 90 | 10 |\n",
       "| Not Vaccinated | 40 | 60 |\n",
       "\n"
      ],
      "text/plain": [
       "               Not affected Affected\n",
       "Vaccinated     90           10      \n",
       "Not Vaccinated 40           60      "
      ]
     },
     "metadata": {},
     "output_type": "display_data"
    }
   ],
   "source": [
    "# first we will see the dataset\n",
    "dieses_data"
   ]
  },
  {
   "cell_type": "code",
   "execution_count": 25,
   "id": "7f2a2cbc-118f-4fd3-9847-bd7e9586f204",
   "metadata": {},
   "outputs": [
    {
     "data": {
      "text/plain": [
       "\n",
       "\tPearson's Chi-squared test with Yates' continuity correction\n",
       "\n",
       "data:  dieses_data\n",
       "X-squared = 52.769, df = 1, p-value = 3.751e-13\n"
      ]
     },
     "metadata": {},
     "output_type": "display_data"
    }
   ],
   "source": [
    "# to perform a chi-square statistic we will use chisq.test() function.\n",
    "\n",
    "chisq.test(dieses_data)"
   ]
  },
  {
   "cell_type": "markdown",
   "id": "d11f3d90-8754-4ef1-82c8-53f3a91ebc3b",
   "metadata": {},
   "source": [
    "Now we will check that how much there is a realation b/w the vaccinaion effect on the dieases."
   ]
  },
  {
   "cell_type": "code",
   "execution_count": 43,
   "id": "c9bcd954-59a5-4f2a-bd9a-10116316c784",
   "metadata": {},
   "outputs": [
    {
     "data": {
      "text/html": [
       "200"
      ],
      "text/latex": [
       "200"
      ],
      "text/markdown": [
       "200"
      ],
      "text/plain": [
       "[1] 200"
      ]
     },
     "metadata": {},
     "output_type": "display_data"
    }
   ],
   "source": [
    "chisq.max.value(dieses_data)"
   ]
  },
  {
   "cell_type": "markdown",
   "id": "6e18ca47-98b3-45a7-bd01-ba00a9454cb1",
   "metadata": {},
   "source": [
    "Now from the above result we can say that there is a moderate effect of the vaccination on dieases.\n",
    "\n",
    "___"
   ]
  },
  {
   "cell_type": "markdown",
   "id": "e01ef608-177e-4258-9b60-faac5d992bd1",
   "metadata": {},
   "source": [
    "**Example2: Perfrom a chi-Square test on the passengers data set and check the relationship b/w Satisfaction and class**"
   ]
  },
  {
   "cell_type": "code",
   "execution_count": 35,
   "id": "d8535b43-81ee-4af7-9d74-92d78a469184",
   "metadata": {},
   "outputs": [
    {
     "data": {
      "text/plain": [
       "          \n",
       "           Fair Good Poor Very Good\n",
       "  Business   10   33   15         4\n",
       "  Economy     0    3   20         2\n",
       "  First       0    0    5         8"
      ]
     },
     "metadata": {},
     "output_type": "display_data"
    }
   ],
   "source": [
    "# Now first we will see the contingency table of the passengers dataset\n",
    "\n",
    "passengers_data"
   ]
  },
  {
   "cell_type": "code",
   "execution_count": 62,
   "id": "f04fa8fe-a6a6-47d6-a188-f072acfc8e15",
   "metadata": {},
   "outputs": [
    {
     "name": "stderr",
     "output_type": "stream",
     "text": [
      "Warning message in chisq.test(passengers_data):\n",
      "\"Chi-squared approximation may be incorrect\""
     ]
    },
    {
     "data": {
      "text/plain": [
       "\n",
       "\tPearson's Chi-squared test\n",
       "\n",
       "data:  passengers_data\n",
       "X-squared = 57.951, df = 6, p-value = 1.173e-10\n"
      ]
     },
     "metadata": {},
     "output_type": "display_data"
    }
   ],
   "source": [
    "# Now we will perform a chi-square test on the passengers data and we will see that how much they are related to each other.\n",
    "chisq.test(passengers_data)"
   ]
  },
  {
   "cell_type": "code",
   "execution_count": 44,
   "id": "14b02c1a-ef2c-4349-86bc-c0bf964dbed0",
   "metadata": {},
   "outputs": [
    {
     "data": {
      "text/html": [
       "200"
      ],
      "text/latex": [
       "200"
      ],
      "text/markdown": [
       "200"
      ],
      "text/plain": [
       "[1] 200"
      ]
     },
     "metadata": {},
     "output_type": "display_data"
    }
   ],
   "source": [
    "# Now we will check the max chi-squre values to compare the relationship degree.\n",
    "chisq.max.value(passengers_data)"
   ]
  },
  {
   "cell_type": "markdown",
   "id": "5560bdc6-dd9a-4cae-b6d1-a936cdb6f70d",
   "metadata": {},
   "source": [
    "As we can say that there is also a moderate relationship b/w the passengers satisfaction with the class of the airline."
   ]
  },
  {
   "cell_type": "markdown",
   "id": "871854e3-720f-4eee-bb2c-73f991e436c6",
   "metadata": {},
   "source": [
    "___"
   ]
  },
  {
   "cell_type": "markdown",
   "id": "67a7b733-6315-4594-b696-235168702cb4",
   "metadata": {},
   "source": [
    "### Carmer's Satatistic\n",
    "\n",
    "* A problem with the Pearson's $\\chi^2$ coeffcient is that the range of its maximum values depends on the smaple size and the size of the contingency table.These values may vary in different situations.\n",
    "\n",
    "* To overcome this problem, the coefficient can be standardized to lie b/w 0 and 1 that it is independent of the sample size as well as the dimension of the contingency table.\n",
    "\n",
    "* Since $n(min(k,l)-1)$ was teh max value of the $\\chi^2$  statistic, divding $\\chi^2$ by its max value automatically leads to a sxaled version of the max value 1.\n",
    "\n",
    "$$ V = \\sqrt \\frac{\\chi^2}{n(min(k,l)-1)}$$"
   ]
  },
  {
   "cell_type": "markdown",
   "id": "1dedafee-8104-44cf-933c-b09cfbca69e0",
   "metadata": {},
   "source": [
    "We can perform this test by using the assocstats fucntion from vcd library."
   ]
  },
  {
   "cell_type": "markdown",
   "id": "36e81968-532f-4c9a-b1a7-0100ea4f9e0b",
   "metadata": {},
   "source": [
    "`Note:` vcd library need to be installed seperatly from web if we dont have it already, we can do this by using the bellow command."
   ]
  },
  {
   "cell_type": "code",
   "execution_count": 49,
   "id": "cbb3fdbc-a11c-41d6-9133-f5d7e1fa116b",
   "metadata": {},
   "outputs": [
    {
     "name": "stderr",
     "output_type": "stream",
     "text": [
      "also installing the dependency 'lmtest'\n",
      "\n"
     ]
    },
    {
     "name": "stdout",
     "output_type": "stream",
     "text": [
      "\n",
      "  There are binary versions available but the source versions are later:\n",
      "       binary source needs_compilation\n",
      "lmtest 0.9-38 0.9-39              TRUE\n",
      "vcd     1.4-8  1.4-9             FALSE\n",
      "\n",
      "  Binaries will be installed\n",
      "package 'lmtest' successfully unpacked and MD5 sums checked\n",
      "\n",
      "The downloaded binary packages are in\n",
      "\tC:\\Users\\manis\\AppData\\Local\\Temp\\RtmpWUO63T\\downloaded_packages\n"
     ]
    },
    {
     "name": "stderr",
     "output_type": "stream",
     "text": [
      "installing the source package 'vcd'\n",
      "\n",
      "Loading required package: grid\n"
     ]
    }
   ],
   "source": [
    "# performing the carmer's statistic test.\n",
    "install.packages(\"vcd\")\n",
    "\n",
    "library(vcd)"
   ]
  },
  {
   "cell_type": "markdown",
   "id": "c0157847-9376-42f2-843f-b86b7f4486d8",
   "metadata": {},
   "source": [
    "**Example1: Perfom a Carmers'V test on the diseases effect on vaccinated person Vs notvaccinated person.**`"
   ]
  },
  {
   "cell_type": "code",
   "execution_count": 53,
   "id": "f5327e4f-2ba5-4bb5-b37f-6d7d7192b622",
   "metadata": {},
   "outputs": [
    {
     "data": {
      "text/html": [
       "<table>\n",
       "<thead><tr><th></th><th scope=col>Not affected</th><th scope=col>Affected</th></tr></thead>\n",
       "<tbody>\n",
       "\t<tr><th scope=row>Vaccinated</th><td>90</td><td>10</td></tr>\n",
       "\t<tr><th scope=row>Not Vaccinated</th><td>40</td><td>60</td></tr>\n",
       "</tbody>\n",
       "</table>\n"
      ],
      "text/latex": [
       "\\begin{tabular}{r|ll}\n",
       "  & Not affected & Affected\\\\\n",
       "\\hline\n",
       "\tVaccinated & 90 & 10\\\\\n",
       "\tNot Vaccinated & 40 & 60\\\\\n",
       "\\end{tabular}\n"
      ],
      "text/markdown": [
       "\n",
       "| <!--/--> | Not affected | Affected |\n",
       "|---|---|---|\n",
       "| Vaccinated | 90 | 10 |\n",
       "| Not Vaccinated | 40 | 60 |\n",
       "\n"
      ],
      "text/plain": [
       "               Not affected Affected\n",
       "Vaccinated     90           10      \n",
       "Not Vaccinated 40           60      "
      ]
     },
     "metadata": {},
     "output_type": "display_data"
    }
   ],
   "source": [
    "dieses_data"
   ]
  },
  {
   "cell_type": "code",
   "execution_count": 54,
   "id": "013c70e2-cb3d-4d04-b70e-139ddbdb1cb5",
   "metadata": {},
   "outputs": [
    {
     "data": {
      "text/plain": [
       "                    X^2 df   P(> X^2)\n",
       "Likelihood Ratio 59.360  1 1.3101e-14\n",
       "Pearson          54.945  1 1.2390e-13\n",
       "\n",
       "Phi-Coefficient   : 0.524 \n",
       "Contingency Coeff.: 0.464 \n",
       "Cramer's V        : 0.524 "
      ]
     },
     "metadata": {},
     "output_type": "display_data"
    }
   ],
   "source": [
    "assocstats(dieses_data)"
   ]
  },
  {
   "cell_type": "markdown",
   "id": "9632443e-b806-444a-b473-ca5355f96815",
   "metadata": {},
   "source": [
    "Now from the above result we can say that (Carmer'V = 0.52) which is shows that there is a moderate relationship b/w the Vaccination effect and Notvaccination effect on the person."
   ]
  },
  {
   "cell_type": "markdown",
   "id": "0b5d6798-7ff8-4001-a749-527014c63c5d",
   "metadata": {},
   "source": [
    "___"
   ]
  },
  {
   "cell_type": "markdown",
   "id": "03c33fec-8269-4481-92d3-58a7039183f6",
   "metadata": {},
   "source": [
    "**Example2: Perfrom Carmer's V on the passengers data set and check the relationship b/w Satisfaction and class**"
   ]
  },
  {
   "cell_type": "code",
   "execution_count": 52,
   "id": "a2588ba6-f6d8-4669-87f2-6574dbd4d639",
   "metadata": {},
   "outputs": [
    {
     "data": {
      "text/plain": [
       "          \n",
       "           Fair Good Poor Very Good\n",
       "  Business   10   33   15         4\n",
       "  Economy     0    3   20         2\n",
       "  First       0    0    5         8"
      ]
     },
     "metadata": {},
     "output_type": "display_data"
    }
   ],
   "source": [
    "passengers_data"
   ]
  },
  {
   "cell_type": "code",
   "execution_count": 51,
   "id": "43b78104-5039-43f4-abc4-be3f3b6e2ccc",
   "metadata": {},
   "outputs": [
    {
     "data": {
      "text/plain": [
       "                    X^2 df   P(> X^2)\n",
       "Likelihood Ratio 56.280  6 2.5552e-10\n",
       "Pearson          57.951  6 1.1726e-10\n",
       "\n",
       "Phi-Coefficient   : NA \n",
       "Contingency Coeff.: 0.606 \n",
       "Cramer's V        : 0.538 "
      ]
     },
     "metadata": {},
     "output_type": "display_data"
    }
   ],
   "source": [
    "# Now our vcd library has been installed so now we need to perform the test.\n",
    "assocstats(passengers_data)"
   ]
  },
  {
   "cell_type": "markdown",
   "id": "efcba068-6fd9-43ec-a78d-cd333f7ee52e",
   "metadata": {},
   "source": [
    "Now from the above result we can see that Carmer's V statistic is about .54 which is the near to mean of the 1 (max) value of the strongness range, so from this result we can say that there is a moderate relation b/w the Rating and Class."
   ]
  },
  {
   "cell_type": "markdown",
   "id": "e6da8e04-f3fa-49a2-ac00-1f9878eb32ce",
   "metadata": {},
   "source": [
    "___"
   ]
  },
  {
   "cell_type": "markdown",
   "id": "2a2261a5-de30-49a7-8ba4-124117970be7",
   "metadata": {},
   "source": [
    "### Contingency Coefficient C\n",
    "\n",
    "Another option to statndardize $\\chi^2$ is given by a corrected version of Pearson's contingency coefficient.\n",
    "\n",
    "It always lies b/w 0 and 1. The closer the value of C is to 1, the stronger the association."
   ]
  },
  {
   "cell_type": "code",
   "execution_count": 58,
   "id": "f344bffc-ecaa-4295-97ec-3695ff683450",
   "metadata": {},
   "outputs": [
    {
     "data": {
      "text/html": [
       "0.816496580927726"
      ],
      "text/latex": [
       "0.816496580927726"
      ],
      "text/markdown": [
       "0.816496580927726"
      ],
      "text/plain": [
       "[1] 0.8164966"
      ]
     },
     "metadata": {},
     "output_type": "display_data"
    }
   ],
   "source": [
    "Cmax = sqrt(min(dim(passengers_data)-1)/ min(dim(passengers_data)))\n",
    "Cmax"
   ]
  },
  {
   "cell_type": "code",
   "execution_count": 60,
   "id": "d78af244-ddef-41b6-9dc1-4834f7587f88",
   "metadata": {},
   "outputs": [
    {
     "data": {
      "text/html": [
       "0.741846493574275"
      ],
      "text/latex": [
       "0.741846493574275"
      ],
      "text/markdown": [
       "0.741846493574275"
      ],
      "text/plain": [
       "[1] 0.7418465"
      ]
     },
     "metadata": {},
     "output_type": "display_data"
    }
   ],
   "source": [
    "# Now we will check the contingency cofficient\n",
    "assocstats(passengers_data)$cont/Cmax"
   ]
  },
  {
   "cell_type": "markdown",
   "id": "b405a62c-7825-441b-be90-f92adc882ae5",
   "metadata": {},
   "source": [
    "This result shows that there is a moderate to strong relationship b/w the Rating given by people and Class of the airline."
   ]
  },
  {
   "cell_type": "markdown",
   "id": "41086381-a086-423e-882c-547eed79ad67",
   "metadata": {},
   "source": [
    "## Association b/w Oridinal and Continuous Variables.\n",
    "\n",
    "### Graphical Representation of Two Continuous Variables.\n",
    "\n",
    "A Simple way to graphically summarize the association b/w two continuous variables is to plot the paired observations of the two variables in a two-dimensional coordinate system.\n",
    "\n",
    "If n paried observations for two continuous variables X and Y are avarlable s $(x_i, y_i)$, where i= 1,2,3,4.....n, then all such observation can be plotted as scatter plot."
   ]
  },
  {
   "cell_type": "markdown",
   "id": "8b337c91-feb4-475d-bd1b-23671d3a12ff",
   "metadata": {},
   "source": [
    "**Example 4.3.1** \n",
    "\n",
    "To explore the possible relationship between the overall number of\n",
    "tweets with the number of followers on Twitter, we take a sample of 10 prime\n",
    "ministers and heads of state in different countries as of June 2014 and obtain the\n",
    "following data:"
   ]
  },
  {
   "cell_type": "code",
   "execution_count": 65,
   "id": "d6babd3f-678e-47ae-b933-4992683af02e",
   "metadata": {},
   "outputs": [],
   "source": [
    "Names = c(\"Angela Merkel\", \"Barack Obama\", \"Jacob Zuma\" , \"Dilma Rouseff\",\n",
    "         \"Sauli Niinisto\", \"Valdimir Putin\", \"Francois Hollande\",\"David Cameron\",\n",
    "         \"Enrique P.Nieto\", \"John Key\")\n",
    "\n",
    "Tweets = c(25, 11800, 99, 1934, 199, 2539, 4334, 953, 3245, 2468)\n",
    "Followers = c(7194, 43400000, 324000, 2330000, 39000, 189000, 639000, 688000, 2690000, 110000)   "
   ]
  },
  {
   "cell_type": "code",
   "execution_count": 66,
   "id": "4032d66d-a467-4b71-96f7-541308e5cec8",
   "metadata": {},
   "outputs": [
    {
     "data": {
      "text/html": [
       "<table>\n",
       "<thead><tr><th scope=col>Names</th><th scope=col>Tweets</th><th scope=col>Followers</th></tr></thead>\n",
       "<tbody>\n",
       "\t<tr><td>Angela Merkel    </td><td>25               </td><td>7194             </td></tr>\n",
       "\t<tr><td>Barack Obama     </td><td>11800            </td><td>43400000         </td></tr>\n",
       "\t<tr><td>Jacob Zuma       </td><td>99               </td><td>324000           </td></tr>\n",
       "\t<tr><td>Dilma Rouseff    </td><td>1934             </td><td>2330000          </td></tr>\n",
       "\t<tr><td>Sauli Niinisto   </td><td>199              </td><td>39000            </td></tr>\n",
       "\t<tr><td>Valdimir Putin   </td><td>2539             </td><td>189000           </td></tr>\n",
       "\t<tr><td>Francois Hollande</td><td>4334             </td><td>639000           </td></tr>\n",
       "\t<tr><td>David Cameron    </td><td>953              </td><td>688000           </td></tr>\n",
       "\t<tr><td>Enrique P.Nieto  </td><td>3245             </td><td>2690000          </td></tr>\n",
       "\t<tr><td>John Key         </td><td>2468             </td><td>110000           </td></tr>\n",
       "</tbody>\n",
       "</table>\n"
      ],
      "text/latex": [
       "\\begin{tabular}{lll}\n",
       " Names & Tweets & Followers\\\\\n",
       "\\hline\n",
       "\t Angela Merkel     & 25                & 7194             \\\\\n",
       "\t Barack Obama      & 11800             & 43400000         \\\\\n",
       "\t Jacob Zuma        & 99                & 324000           \\\\\n",
       "\t Dilma Rouseff     & 1934              & 2330000          \\\\\n",
       "\t Sauli Niinisto    & 199               & 39000            \\\\\n",
       "\t Valdimir Putin    & 2539              & 189000           \\\\\n",
       "\t Francois Hollande & 4334              & 639000           \\\\\n",
       "\t David Cameron     & 953               & 688000           \\\\\n",
       "\t Enrique P.Nieto   & 3245              & 2690000          \\\\\n",
       "\t John Key          & 2468              & 110000           \\\\\n",
       "\\end{tabular}\n"
      ],
      "text/markdown": [
       "\n",
       "| Names | Tweets | Followers |\n",
       "|---|---|---|\n",
       "| Angela Merkel     | 25                | 7194              |\n",
       "| Barack Obama      | 11800             | 43400000          |\n",
       "| Jacob Zuma        | 99                | 324000            |\n",
       "| Dilma Rouseff     | 1934              | 2330000           |\n",
       "| Sauli Niinisto    | 199               | 39000             |\n",
       "| Valdimir Putin    | 2539              | 189000            |\n",
       "| Francois Hollande | 4334              | 639000            |\n",
       "| David Cameron     | 953               | 688000            |\n",
       "| Enrique P.Nieto   | 3245              | 2690000           |\n",
       "| John Key          | 2468              | 110000            |\n",
       "\n"
      ],
      "text/plain": [
       "      Names             Tweets Followers\n",
       " [1,] Angela Merkel     25     7194     \n",
       " [2,] Barack Obama      11800  43400000 \n",
       " [3,] Jacob Zuma        99     324000   \n",
       " [4,] Dilma Rouseff     1934   2330000  \n",
       " [5,] Sauli Niinisto    199    39000    \n",
       " [6,] Valdimir Putin    2539   189000   \n",
       " [7,] Francois Hollande 4334   639000   \n",
       " [8,] David Cameron     953    688000   \n",
       " [9,] Enrique P.Nieto   3245   2690000  \n",
       "[10,] John Key          2468   110000   "
      ]
     },
     "metadata": {},
     "output_type": "display_data"
    }
   ],
   "source": [
    "Twitter_data = cbind(Names, Tweets, Followers)\n",
    "Twitter_data"
   ]
  },
  {
   "cell_type": "markdown",
   "id": "7f0613f3-49ba-44f3-8ce5-823135ef496e",
   "metadata": {},
   "source": [
    "Now we will plot a scatter plot b/w the Tweets and Followers by using a scatter plot."
   ]
  },
  {
   "cell_type": "code",
   "execution_count": 71,
   "id": "5908cb0b-1302-4075-84d0-f3ad9308e01a",
   "metadata": {},
   "outputs": [
    {
     "data": {
      "image/png": "[encoded data removed]",
      "text/plain": [
       "Plot with title \"Relation b/w Tweets and Followers\""
      ]
     },
     "metadata": {},
     "output_type": "display_data"
    }
   ],
   "source": [
    "plot(Tweets, Followers, xlab='Tweets', ylab='Followers', main=\"Relation b/w Tweets and Followers\")"
   ]
  },
  {
   "cell_type": "markdown",
   "id": "84640fbf-4dd8-42f0-bbb2-8d3e9a212d3c",
   "metadata": {},
   "source": [
    "### Correlation Coefficient\n",
    "\n",
    "Suppose two variables X and Y are measured on acontinuous scale and are linearly related like $ Y = ax + b$ where a and b are constant values.\n",
    "\n",
    "The correlation coefficient $r(X,Y) =r$ measures the degree of linear relationship b/w X and Y."
   ]
  },
  {
   "cell_type": "markdown",
   "id": "c2ef3a67-8f68-464f-af3a-99a1c17cff4e",
   "metadata": {},
   "source": [
    "**Example 4.3.3** \n",
    "\n",
    "In a decathlon competition, a group of athletes are competing with\n",
    "each other in 10 different track and field events. Suppose we are interested in how\n",
    "the results of the 100-m race relate to the results of the long jump competition. The\n",
    "correlation coefficient for the 100-m race (X, in seconds) and the long jump event\n",
    "(Y, in metres) for 5 athletes participating in the 2004 Olympic Games are listed in Table."
   ]
  },
  {
   "cell_type": "code",
   "execution_count": 74,
   "id": "930953c5-5349-40cb-9e65-2e3984bac8d9",
   "metadata": {},
   "outputs": [
    {
     "data": {
      "text/html": [
       "<table>\n",
       "<thead><tr><th scope=col>Player</th><th scope=col>race.100m</th><th scope=col>long.jump</th></tr></thead>\n",
       "<tbody>\n",
       "\t<tr><td>Roman Seble   </td><td>10.85         </td><td>7.84          </td></tr>\n",
       "\t<tr><td>Bryan Clay    </td><td>10.44         </td><td>7.96          </td></tr>\n",
       "\t<tr><td>Dimitiy Karpov</td><td>10.5          </td><td>7.81          </td></tr>\n",
       "\t<tr><td>Dean Macey    </td><td>10.89         </td><td>7.47          </td></tr>\n",
       "\t<tr><td>Chiel Warners </td><td>10.62         </td><td>7.74          </td></tr>\n",
       "</tbody>\n",
       "</table>\n"
      ],
      "text/latex": [
       "\\begin{tabular}{lll}\n",
       " Player & race.100m & long.jump\\\\\n",
       "\\hline\n",
       "\t Roman Seble    & 10.85          & 7.84          \\\\\n",
       "\t Bryan Clay     & 10.44          & 7.96          \\\\\n",
       "\t Dimitiy Karpov & 10.5           & 7.81          \\\\\n",
       "\t Dean Macey     & 10.89          & 7.47          \\\\\n",
       "\t Chiel Warners  & 10.62          & 7.74          \\\\\n",
       "\\end{tabular}\n"
      ],
      "text/markdown": [
       "\n",
       "| Player | race.100m | long.jump |\n",
       "|---|---|---|\n",
       "| Roman Seble    | 10.85          | 7.84           |\n",
       "| Bryan Clay     | 10.44          | 7.96           |\n",
       "| Dimitiy Karpov | 10.5           | 7.81           |\n",
       "| Dean Macey     | 10.89          | 7.47           |\n",
       "| Chiel Warners  | 10.62          | 7.74           |\n",
       "\n"
      ],
      "text/plain": [
       "     Player         race.100m long.jump\n",
       "[1,] Roman Seble    10.85     7.84     \n",
       "[2,] Bryan Clay     10.44     7.96     \n",
       "[3,] Dimitiy Karpov 10.5      7.81     \n",
       "[4,] Dean Macey     10.89     7.47     \n",
       "[5,] Chiel Warners  10.62     7.74     "
      ]
     },
     "metadata": {},
     "output_type": "display_data"
    }
   ],
   "source": [
    "# making the data for Olympic Games.\n",
    "Player = c(\"Roman Seble\", \"Bryan Clay\", \"Dimitiy Karpov\", \"Dean Macey\", \"Chiel Warners\")\n",
    "race.100m = c(10.85, 10.44, 10.50, 10.89, 10.62)\n",
    "long.jump = c(7.84, 7.96, 7.81, 7.47, 7.74)\n",
    "\n",
    "cbind(Player, race.100m, long.jump)"
   ]
  },
  {
   "cell_type": "code",
   "execution_count": 75,
   "id": "1f9bd6e4-a817-4dca-b707-250ddc444489",
   "metadata": {},
   "outputs": [
    {
     "data": {
      "text/html": [
       "-0.69327872927702"
      ],
      "text/latex": [
       "-0.69327872927702"
      ],
      "text/markdown": [
       "-0.69327872927702"
      ],
      "text/plain": [
       "[1] -0.6932787"
      ]
     },
     "metadata": {},
     "output_type": "display_data"
    }
   ],
   "source": [
    "# Now we will see  the correlation coefficient b/w the 100m race and longjump by using cor()  function.\n",
    "\n",
    "cor(race.100m, long.jump, method='pearson')"
   ]
  },
  {
   "cell_type": "markdown",
   "id": "b1de346e-1a37-4d45-b709-169a5b3800cc",
   "metadata": {},
   "source": [
    "From the above result we have got that Correlation coefficient is -0.69 which is negative, so we can say that...\n",
    "\n",
    "* There is a negative correlation b/w the 100m race and long jump.\n",
    "* Shorter running times result in longer long jump result.\n",
    "* This association is moderate to strong.\n",
    "\n"
   ]
  },
  {
   "cell_type": "code",
   "execution_count": 78,
   "id": "f54bbf72-8c2c-49fd-bb14-2a2edad80d96",
   "metadata": {},
   "outputs": [
    {
     "data": {
      "image/png": "[encoded data removed]",
      "text/plain": [
       "plot without title"
      ]
     },
     "metadata": {},
     "output_type": "display_data"
    }
   ],
   "source": [
    "plot(long.jump, race.100m, xlab='100m race', ylab='long jump', ylim=c(10.2, 11.2), xlim=c(7.2, 8.2))"
   ]
  },
  {
   "cell_type": "markdown",
   "id": "73b2b589-3087-449a-9fb1-3448c7cf4c7c",
   "metadata": {},
   "source": [
    "From above figure we can say that there is a negative linear relationship b/w the 100m race and long jump. if any one who runs shorter can make a longer long jump and instead of this if any one who run longer will jump shorter in long jump."
   ]
  },
  {
   "cell_type": "markdown",
   "id": "b863831c-72db-495c-9aa6-3248102d1e39",
   "metadata": {},
   "source": [
    "### Spearman's Rank Correlation Coefficient"
   ]
  },
  {
   "cell_type": "markdown",
   "id": "9d64dab2-a70e-4927-9fdb-83531cb6485d",
   "metadata": {},
   "source": [
    "To measure the degree of agreement, or in general the degree of association one can use Spearman's rank correlation coefficient. As the name sys, this correlation coefficient uses only the ranks of the values and not the values and not the values themselves.\n",
    "\n",
    "We introduce the following notations let $R(x_i)$ denote the rank of the $i$th observation on C, the rank $x_i$ among the ordered values of X. Similarly $R(y_i)$ denotes the rank of the $i$th observartion of y.\n",
    "\n",
    "The difference b/w the two rank values $d_i = R(x_i) - R(y_i)$"
   ]
  },
  {
   "cell_type": "markdown",
   "id": "fe9521f3-7b28-44d8-a4f8-fd2cd57f5119",
   "metadata": {},
   "source": [
    "We can get the Spearman's Rank correlation Coefficient by using the Spearman method on the cor() function."
   ]
  },
  {
   "cell_type": "code",
   "execution_count": 80,
   "id": "f8572425-f88e-40f3-9c4d-ad31e2eec572",
   "metadata": {},
   "outputs": [
    {
     "data": {
      "text/html": [
       "-0.7"
      ],
      "text/latex": [
       "-0.7"
      ],
      "text/markdown": [
       "-0.7"
      ],
      "text/plain": [
       "[1] -0.7"
      ]
     },
     "metadata": {},
     "output_type": "display_data"
    }
   ],
   "source": [
    "cor(race.100m, long.jump, method=\"spearman\")"
   ]
  },
  {
   "cell_type": "markdown",
   "id": "c1b9393e-f6f5-4b68-9d8f-f234272de032",
   "metadata": {},
   "source": [
    "As we expected that there is alos a negative relation which denote the degree of relation from moderate to strong in b/w the 100m race and long jump."
   ]
  },
  {
   "cell_type": "markdown",
   "id": "e527b4b6-43f0-4412-a441-e350b10343b6",
   "metadata": {},
   "source": [
    "**Difference b/w the Correlation coefficient and rank correlation coefficient**\n",
    "\n",
    "* Pearson's correlation coefficient can be used for continuous variables only, but not for nominal or ordinal variables.\n",
    "\n",
    "* The rank correlation coefficient can be used for either two continuous or two ordinal variables or a combination of an ordinal and a continuous variables, but not for two nominal variables.\n",
    "\n",
    "* The rank corelation coefficient responds to any type of relationship whereas Pearson's correlation measures the degree of a linear relationship only.\n",
    "\n",
    "* Another difference b/w the two correlation coefficient is that pearson's uses the entire information contained in the continuous data in contrast to  the rank correlation coefficient which uses only ordinal information contained in the ordered data."
   ]
  },
  {
   "cell_type": "markdown",
   "id": "f6751ae7-12e1-4c4e-8d56-c673e1f5f438",
   "metadata": {},
   "source": [
    "### Measures Using Discordant and Concordant Pairs\n",
    "\n",
    "Another concept which uses ranks to measure the asociation b/w ordinal variables is based on concordant and discordant observation pairs.\n",
    "\n",
    "Suppose that we have two variables X and Y and they have some underlying scale values like showing in bellow tabel (contingency table.) "
   ]
  },
  {
   "cell_type": "markdown",
   "id": "9573205f-17a5-4e2d-ae1c-364fb11e8a49",
   "metadata": {},
   "source": [
    "Suppose we have a dataset like mention bellow."
   ]
  },
  {
   "cell_type": "markdown",
   "id": "3d90339d-be02-42bb-abf0-05c17d134d7b",
   "metadata": {},
   "source": [
    "||Put dogs on a lead|||||\n",
    "|----|-----|-----|------|---|----|\n",
    "|||Agree (1)| No opinion (2)| Disagree (3)|Total|\n",
    "|**Use for concerts**| Agree(1)| 82| 4| 0| 86|\n",
    "||No opinion (2)| 8 |43| 9| 60|\n",
    "||Disagree (3)|0| 2| 10| 12|\n",
    "||Total| 90| 49| 19| 158|"
   ]
  },
  {
   "cell_type": "markdown",
   "id": "b60cf0f2-0de4-4728-90c4-e1256fb51c62",
   "metadata": {},
   "source": [
    "As we can see a 3x3 (Square table) contingency table which has two variable (Put Dogs on lead X) and (Use for concert Y), and we have 3 underlying scaled values which are ordered in accending order.\n",
    "\n",
    "Now if $x_i > x_j$ and $y_i > y_j$ or $x_i < x_j$ and $y_i < y_j$ then this pair will be called concordant pair, if this do not happen then we will call it discordant pair."
   ]
  },
  {
   "cell_type": "markdown",
   "id": "2c60b327-e23d-40f8-b508-5bd296e9867e",
   "metadata": {},
   "source": [
    "* concordant if $i_2 > i_1 \\text { and } j_2 > j1 (\\text { or } i_2 < i_1 and j_2 < j_1)$,\n",
    "* discordant if $i_2 < i_1 \\text { and } j_2 > j_1 (\\text { or } i_2 > i_1 and j_2 < j_1)$,\n",
    "* tied if $i_1 = i_2 (or j_1 = j_2)$."
   ]
  },
  {
   "cell_type": "code",
   "execution_count": 81,
   "id": "95608e3a-2458-45eb-a51a-56082d4bfae5",
   "metadata": {},
   "outputs": [],
   "source": [
    "Payment_Timeline = matrix(c(7, 11, 26, 10, 15, 31), ncol=3, byrow=T)"
   ]
  },
  {
   "cell_type": "code",
   "execution_count": 82,
   "id": "e65ffe57-c40a-412e-8e0d-a6cd54f5ed76",
   "metadata": {},
   "outputs": [
    {
     "data": {
      "text/html": [
       "<table>\n",
       "<tbody>\n",
       "\t<tr><td> 7</td><td>11</td><td>26</td></tr>\n",
       "\t<tr><td>10</td><td>15</td><td>31</td></tr>\n",
       "</tbody>\n",
       "</table>\n"
      ],
      "text/latex": [
       "\\begin{tabular}{lll}\n",
       "\t  7 & 11 & 26\\\\\n",
       "\t 10 & 15 & 31\\\\\n",
       "\\end{tabular}\n"
      ],
      "text/markdown": [
       "\n",
       "|  7 | 11 | 26 |\n",
       "| 10 | 15 | 31 |\n",
       "\n"
      ],
      "text/plain": [
       "     [,1] [,2] [,3]\n",
       "[1,]  7   11   26  \n",
       "[2,] 10   15   31  "
      ]
     },
     "metadata": {},
     "output_type": "display_data"
    }
   ],
   "source": [
    "# now checking our created data.\n",
    "Payment_Timeline"
   ]
  },
  {
   "cell_type": "code",
   "execution_count": 83,
   "id": "029ac28f-57e3-4aa9-8e78-128f256ee42e",
   "metadata": {},
   "outputs": [],
   "source": [
    "# Now we need to name our columns and row \n",
    "colnames(Payment_Timeline) = c(\"Unsatisfied\", \"Satisfied\", \"Very Satisfied\")\n",
    "rownames(Payment_Timeline) = c(\"Not enough\", \"enough\")"
   ]
  },
  {
   "cell_type": "code",
   "execution_count": 84,
   "id": "9d5bf33d-ca49-46c5-b56a-bc26b62d024a",
   "metadata": {},
   "outputs": [
    {
     "data": {
      "text/html": [
       "<table>\n",
       "<thead><tr><th></th><th scope=col>Unsatisfied</th><th scope=col>Satisfied</th><th scope=col>Very Satisfied</th></tr></thead>\n",
       "<tbody>\n",
       "\t<tr><th scope=row>Not enough</th><td> 7</td><td>11</td><td>26</td></tr>\n",
       "\t<tr><th scope=row>enough</th><td>10</td><td>15</td><td>31</td></tr>\n",
       "</tbody>\n",
       "</table>\n"
      ],
      "text/latex": [
       "\\begin{tabular}{r|lll}\n",
       "  & Unsatisfied & Satisfied & Very Satisfied\\\\\n",
       "\\hline\n",
       "\tNot enough &  7 & 11 & 26\\\\\n",
       "\tenough & 10 & 15 & 31\\\\\n",
       "\\end{tabular}\n"
      ],
      "text/markdown": [
       "\n",
       "| <!--/--> | Unsatisfied | Satisfied | Very Satisfied |\n",
       "|---|---|---|---|\n",
       "| Not enough |  7 | 11 | 26 |\n",
       "| enough | 10 | 15 | 31 |\n",
       "\n"
      ],
      "text/plain": [
       "           Unsatisfied Satisfied Very Satisfied\n",
       "Not enough  7          11        26            \n",
       "enough     10          15        31            "
      ]
     },
     "metadata": {},
     "output_type": "display_data"
    }
   ],
   "source": [
    "Payment_Timeline"
   ]
  },
  {
   "cell_type": "code",
   "execution_count": 85,
   "id": "0f8dfbfb-ec9f-40c6-ab25-8062674a30b2",
   "metadata": {},
   "outputs": [
    {
     "data": {
      "text/html": [
       "<table>\n",
       "<thead><tr><th></th><th scope=col>Unsatisfied</th><th scope=col>Satisfied</th><th scope=col>Very Satisfied</th><th scope=col>Sum</th></tr></thead>\n",
       "<tbody>\n",
       "\t<tr><th scope=row>Not enough</th><td> 7 </td><td>11 </td><td>26 </td><td> 44</td></tr>\n",
       "\t<tr><th scope=row>enough</th><td>10 </td><td>15 </td><td>31 </td><td> 56</td></tr>\n",
       "\t<tr><th scope=row>Sum</th><td>17 </td><td>26 </td><td>57 </td><td>100</td></tr>\n",
       "</tbody>\n",
       "</table>\n"
      ],
      "text/latex": [
       "\\begin{tabular}{r|llll}\n",
       "  & Unsatisfied & Satisfied & Very Satisfied & Sum\\\\\n",
       "\\hline\n",
       "\tNot enough &  7  & 11  & 26  &  44\\\\\n",
       "\tenough & 10  & 15  & 31  &  56\\\\\n",
       "\tSum & 17  & 26  & 57  & 100\\\\\n",
       "\\end{tabular}\n"
      ],
      "text/markdown": [
       "\n",
       "| <!--/--> | Unsatisfied | Satisfied | Very Satisfied | Sum |\n",
       "|---|---|---|---|---|\n",
       "| Not enough |  7  | 11  | 26  |  44 |\n",
       "| enough | 10  | 15  | 31  |  56 |\n",
       "| Sum | 17  | 26  | 57  | 100 |\n",
       "\n"
      ],
      "text/plain": [
       "           Unsatisfied Satisfied Very Satisfied Sum\n",
       "Not enough  7          11        26              44\n",
       "enough     10          15        31              56\n",
       "Sum        17          26        57             100"
      ]
     },
     "metadata": {},
     "output_type": "display_data"
    }
   ],
   "source": [
    "# NOw if we want to create a contingency table then\n",
    "addmargins(Payment_Timeline)"
   ]
  },
  {
   "cell_type": "markdown",
   "id": "85f02101-8873-4f86-abc5-984019aa46a8",
   "metadata": {},
   "source": [
    "Now we will import `ryouready` library or install it befor importing if we dont have this library in our packages."
   ]
  },
  {
   "cell_type": "code",
   "execution_count": 86,
   "id": "6f89b3d1-809a-4e3f-9c49-a823d92a185f",
   "metadata": {
    "collapsed": true,
    "jupyter": {
     "outputs_hidden": true
    },
    "tags": []
   },
   "outputs": [
    {
     "name": "stderr",
     "output_type": "stream",
     "text": [
      "also installing the dependencies 'Rcpp', 'matrixStats', 'RcppArmadillo', 'SparseM', 'MatrixModels', 'conquer', 'sp', 'minqa', 'nloptr', 'RcppEigen', 'carData', 'abind', 'pbkrtest', 'quantreg', 'maptools', 'lme4', 'car'\n",
      "\n"
     ]
    },
    {
     "name": "stdout",
     "output_type": "stream",
     "text": [
      "\n",
      "  There are binary versions available but the source versions are later:\n",
      "                  binary     source needs_compilation\n",
      "Rcpp               1.0.6      1.0.7              TRUE\n",
      "matrixStats       0.58.0     0.61.0              TRUE\n",
      "RcppArmadillo 0.10.4.0.0 0.10.7.3.0              TRUE\n",
      "conquer            1.0.2      1.2.1              TRUE\n",
      "nloptr           1.2.2.2    1.2.2.3              TRUE\n",
      "quantreg            5.85       5.86              TRUE\n",
      "maptools           1.1-1      1.1-2              TRUE\n",
      "lme4              1.1-26   1.1-27.1              TRUE\n",
      "car               3.0-10     3.0-12             FALSE\n",
      "\n",
      "  Binaries will be installed\n",
      "package 'Rcpp' successfully unpacked and MD5 sums checked\n"
     ]
    },
    {
     "name": "stderr",
     "output_type": "stream",
     "text": [
      "Warning message:\n",
      "\"cannot remove prior installation of package 'Rcpp'\"Warning message in file.copy(savedcopy, lib, recursive = TRUE):\n",
      "\"problem copying I:\\Programs\\Anaconda\\envs\\Python and R\\Lib\\R\\library\\00LOCK\\Rcpp\\libs\\x64\\Rcpp.dll to I:\\Programs\\Anaconda\\envs\\Python and R\\Lib\\R\\library\\Rcpp\\libs\\x64\\Rcpp.dll: Permission denied\"Warning message:\n",
      "\"restored 'Rcpp'\""
     ]
    },
    {
     "name": "stdout",
     "output_type": "stream",
     "text": [
      "package 'matrixStats' successfully unpacked and MD5 sums checked\n",
      "package 'RcppArmadillo' successfully unpacked and MD5 sums checked\n",
      "package 'SparseM' successfully unpacked and MD5 sums checked\n",
      "package 'MatrixModels' successfully unpacked and MD5 sums checked\n",
      "package 'conquer' successfully unpacked and MD5 sums checked\n",
      "package 'sp' successfully unpacked and MD5 sums checked\n",
      "package 'minqa' successfully unpacked and MD5 sums checked\n",
      "package 'nloptr' successfully unpacked and MD5 sums checked\n",
      "package 'RcppEigen' successfully unpacked and MD5 sums checked\n",
      "package 'carData' successfully unpacked and MD5 sums checked\n",
      "package 'abind' successfully unpacked and MD5 sums checked\n",
      "package 'pbkrtest' successfully unpacked and MD5 sums checked\n",
      "package 'quantreg' successfully unpacked and MD5 sums checked\n",
      "package 'maptools' successfully unpacked and MD5 sums checked\n",
      "package 'lme4' successfully unpacked and MD5 sums checked\n",
      "package 'ryouready' successfully unpacked and MD5 sums checked\n",
      "\n",
      "The downloaded binary packages are in\n",
      "\tC:\\Users\\manis\\AppData\\Local\\Temp\\RtmpWUO63T\\downloaded_packages\n"
     ]
    },
    {
     "name": "stderr",
     "output_type": "stream",
     "text": [
      "installing the source package 'car'\n",
      "\n"
     ]
    }
   ],
   "source": [
    "install.packages(\"ryouready\")"
   ]
  },
  {
   "cell_type": "code",
   "execution_count": 87,
   "id": "a8335c6e-e5a7-4813-9d57-bfb8054b5f88",
   "metadata": {
    "collapsed": true,
    "jupyter": {
     "outputs_hidden": true
    },
    "tags": []
   },
   "outputs": [
    {
     "name": "stderr",
     "output_type": "stream",
     "text": [
      "Warning message:\n",
      "\"package 'ryouready' was built under R version 3.6.3\"Registered S3 methods overwritten by 'ggplot2':\n",
      "  method         from \n",
      "  [.quosures     rlang\n",
      "  c.quosures     rlang\n",
      "  print.quosures rlang\n"
     ]
    }
   ],
   "source": [
    "library(ryouready)"
   ]
  },
  {
   "cell_type": "markdown",
   "id": "a485c5dd-f1e7-49f0-8624-ce83c6845944",
   "metadata": {},
   "source": [
    "Discordants and Concordants Pairs can be measured by two different method.\n",
    "\n",
    "1. Goodman's Kruskal gamma for ordinal data\n",
    "2. Kendall's Tau statistics for ordinal data"
   ]
  },
  {
   "cell_type": "code",
   "execution_count": 92,
   "id": "10755309-f3d6-4fc6-9601-b28139a92378",
   "metadata": {},
   "outputs": [
    {
     "data": {
      "text/plain": [
       "Goodman-Kruskal Gamma: -0.068 "
      ]
     },
     "metadata": {},
     "output_type": "display_data"
    }
   ],
   "source": [
    "# Now we will calculate the Goodman's Kruskal gamma \n",
    "\n",
    "ord.gamma(Payment_Timeline)"
   ]
  },
  {
   "cell_type": "code",
   "execution_count": 93,
   "id": "b1f4c2ce-0802-43ce-be48-0b8b9b4feff8",
   "metadata": {},
   "outputs": [
    {
     "data": {
      "text/plain": [
       "Kendall's (and Stuart's) Tau statistics\n",
       "\tTau-b: -0.036\n",
       "\tTau-c: -0.039"
      ]
     },
     "metadata": {},
     "output_type": "display_data"
    }
   ],
   "source": [
    "# Now we will calculate the Kendalls's Tau statistics\n",
    "ord.tau(Payment_Timeline)"
   ]
  },
  {
   "cell_type": "markdown",
   "id": "fabc66a3-2d7e-4fe4-9427-8ed2e73004fb",
   "metadata": {},
   "source": [
    "From the above two result it is clear that there is no clear relationship b/w the two variables. \n"
   ]
  },
  {
   "cell_type": "markdown",
   "id": "32b29c6e-c9d8-40dc-b985-6caf3644caea",
   "metadata": {},
   "source": [
    "`Tau-b:` Tau-b statistic tests the strength of association of the cross tabulations, both variables have to be ordinal, tau-b make some adjustment for ties. the range of the tau-b vaues is from -1 to 1.\n",
    "\n",
    "`Tau-c:` Tau-c (also called Stuart-Kendall Tau-c) is more suitable than Tau-b fro the analysis of data based on non-square. So use Tau-b if the underlying scale of both variables has the same number of possible values. and Tau-c if they differ.\n",
    "    \n",
    "**For example:** One variable might be scored on a 5-point scale (veru good, good, average, bad, very bad), whereas the other might be based on a finer 10-point scale."
   ]
  },
  {
   "cell_type": "markdown",
   "id": "b131ffe4-6616-451b-bfb6-8d0e8a1493bd",
   "metadata": {},
   "source": [
    "### Relative Risk and Odd Ratio\n",
    "\n",
    "We introduce the concepts of odds ratios and relative risks. Consider 2 x 2 contingency table as introduced above. Now suppose we ahve two variables X and Y with their condition distribution $f_{i|j}^{X|Y}$ and $f_{j|i}^{Y|X}$.\n",
    "\n",
    "||$x_1$|$x_2$|\n",
    "|---|---|---|\n",
    "|$y_1$|a|b|\n",
    "|$y_1$-|c|d|\n",
    "\n",
    "* The relative risks are defined as the ratio of two conditional distributions.\n",
    "\n",
    " $$\\frac{f_{1|1}^{X|Y}}{f_{1|2}^{X|Y}} = \\frac{n_{11}/n_{+1}}{n_{12}/n_{+2}} = \\frac{a/(a+c)}{b/(b+d)}$$\n",
    " $$\\text {and}$$\n",
    " $$\\frac{f_{2|1}^{X|Y}}{f_{2|2}^{X|Y}} = \\frac{n_{21}/n_{+1}}{n_{22}/n_{+2}} = \\frac{c/(a+c)}{d/(b+d)}$$\n",
    " \n",
    " * The odds ratio is defined as the ratio of these relative risks.\n",
    " \n",
    " $$ {OR} = \\frac {{f_{1|1}^{X|Y}}/{f_{1|2}^{X|Y}}}{{f_{2|1}^{X|Y}}/{f_{2|2}^{X|Y}}} = \\frac {a*d}{b*c} $$"
   ]
  },
  {
   "cell_type": "markdown",
   "id": "1ba84450-87f1-4310-a0b7-56f1bda4a2f6",
   "metadata": {},
   "source": [
    "* Alternatively the odds ration can be defined as the ratio of the chances for \"event\" a/b (for example number of smokers with the diesease divided by the number of non-smokers with the disease)  and non disease, c/d (number of smokers with no disease divided by the number of non-smokers with no diease.)\n",
    "\n",
    "* the relative risks compare proportions, while the odds ration compares odds."
   ]
  },
  {
   "cell_type": "markdown",
   "id": "3a9c0374-fd90-4f25-b964-e61d18fe6dd0",
   "metadata": {},
   "source": [
    "**Example:**\n",
    "\n",
    "A classical example refers to the possible association of smoking\n",
    "with a particular disease. Consider the following data on 240 individuals:\n",
    "\n",
    "\n",
    "|||Smoking||Total (row)|\n",
    "|--|--|--|--|--|\n",
    "|||Yes | No||\n",
    "|Diesase|Yes|34| 66| 100|\n",
    "||No|22| 118| 140|\n",
    "|Total(Column)||56| 184| 240|"
   ]
  },
  {
   "cell_type": "code",
   "execution_count": 1,
   "id": "488798b2-fb40-4ad2-86dd-502ada3bc30e",
   "metadata": {},
   "outputs": [
    {
     "data": {
      "text/html": [
       "<table>\n",
       "<thead><tr><th></th><th scope=col>Smoking Yes</th><th scope=col>Smoking No</th></tr></thead>\n",
       "<tbody>\n",
       "\t<tr><th scope=row>Dieases Yes</th><td>34 </td><td> 66</td></tr>\n",
       "\t<tr><th scope=row>Dieases No</th><td>22 </td><td>118</td></tr>\n",
       "</tbody>\n",
       "</table>\n"
      ],
      "text/latex": [
       "\\begin{tabular}{r|ll}\n",
       "  & Smoking Yes & Smoking No\\\\\n",
       "\\hline\n",
       "\tDieases Yes & 34  &  66\\\\\n",
       "\tDieases No & 22  & 118\\\\\n",
       "\\end{tabular}\n"
      ],
      "text/markdown": [
       "\n",
       "| <!--/--> | Smoking Yes | Smoking No |\n",
       "|---|---|---|\n",
       "| Dieases Yes | 34  |  66 |\n",
       "| Dieases No | 22  | 118 |\n",
       "\n"
      ],
      "text/plain": [
       "            Smoking Yes Smoking No\n",
       "Dieases Yes 34           66       \n",
       "Dieases No  22          118       "
      ]
     },
     "metadata": {},
     "output_type": "display_data"
    }
   ],
   "source": [
    "# first we need to create this dataset\n",
    "\n",
    "Smoking_data = matrix(c(34, 66, 22, 118), ncol=2, byrow=T)\n",
    "colnames(Smoking_data) = c(\"Smoking Yes\", \"Smoking No\")\n",
    "rownames(Smoking_data) = c(\"Dieases Yes\", \"Dieases No\")\n",
    "Smoking_data"
   ]
  },
  {
   "cell_type": "code",
   "execution_count": 116,
   "id": "e0642b5b-4e52-4416-94df-b3cb569ad7b5",
   "metadata": {},
   "outputs": [
    {
     "data": {
      "text/html": [
       "<table>\n",
       "<thead><tr><th></th><th scope=col>Smoking Yes</th><th scope=col>Smoking No</th><th scope=col>Sum</th></tr></thead>\n",
       "<tbody>\n",
       "\t<tr><th scope=row>Dieases Yes</th><td>34 </td><td> 66</td><td>100</td></tr>\n",
       "\t<tr><th scope=row>Dieases No</th><td>22 </td><td>118</td><td>140</td></tr>\n",
       "\t<tr><th scope=row>Sum</th><td>56 </td><td>184</td><td>240</td></tr>\n",
       "</tbody>\n",
       "</table>\n"
      ],
      "text/latex": [
       "\\begin{tabular}{r|lll}\n",
       "  & Smoking Yes & Smoking No & Sum\\\\\n",
       "\\hline\n",
       "\tDieases Yes & 34  &  66 & 100\\\\\n",
       "\tDieases No & 22  & 118 & 140\\\\\n",
       "\tSum & 56  & 184 & 240\\\\\n",
       "\\end{tabular}\n"
      ],
      "text/markdown": [
       "\n",
       "| <!--/--> | Smoking Yes | Smoking No | Sum |\n",
       "|---|---|---|---|\n",
       "| Dieases Yes | 34  |  66 | 100 |\n",
       "| Dieases No | 22  | 118 | 140 |\n",
       "| Sum | 56  | 184 | 240 |\n",
       "\n"
      ],
      "text/plain": [
       "            Smoking Yes Smoking No Sum\n",
       "Dieases Yes 34           66        100\n",
       "Dieases No  22          118        140\n",
       "Sum         56          184        240"
      ]
     },
     "metadata": {},
     "output_type": "display_data"
    }
   ],
   "source": [
    "# contingency table\n",
    "addmargins(Smoking_data)"
   ]
  },
  {
   "cell_type": "markdown",
   "id": "eb3bfbe9-c9fa-4241-bf37-b56e9d57584f",
   "metadata": {},
   "source": [
    "Now we need to calculate the relative risk and odd ratio for that we will make some function. "
   ]
  },
  {
   "cell_type": "markdown",
   "id": "a552b618-6bea-41cc-97af-d1b278728fe6",
   "metadata": {},
   "source": [
    "**relative risks**\n",
    "\n",
    "for a 2 x 2 contingency table, to calculate the relative risks we will use this formula. $$\\frac{a/(a+c)}{b/(b+d)}$$\n",
    "* Position of a,b,c and d are mentioned above"
   ]
  },
  {
   "cell_type": "code",
   "execution_count": 132,
   "id": "1a1288aa-2d38-43f3-b682-20c5f61b150b",
   "metadata": {},
   "outputs": [],
   "source": [
    "# relative risk only for 2 x 2\n",
    "\n",
    "Rilative.risk = function(Dataset){\n",
    "    \n",
    "    if (all(dim(Smoking_data) == c(2,2))){\n",
    "        \n",
    "        risk1 = (Dataset[1,1]/sum(Dataset[,1]))/(Dataset[1,2]/sum(Dataset[,2]))\n",
    "        risk2 = (Dataset[2,1]/sum(Dataset[,1]))/(Dataset[2,2]/sum(Dataset[,2]))\n",
    "        \n",
    "        #print(paste(\"Relative risk1 = \",risk1))\n",
    "        #print(paste(\"Relative risk1 = \",risk2))\n",
    "        \n",
    "        list(risk1= risk1, risk2=risk2)\n",
    "    }\n",
    "    else{print(\"Dataset should have a 2 x 2 dimension \")}\n",
    "}"
   ]
  },
  {
   "cell_type": "code",
   "execution_count": 2,
   "id": "21731007-435d-4e2e-91ca-07e04f8f0b07",
   "metadata": {},
   "outputs": [
    {
     "data": {
      "text/html": [
       "<table>\n",
       "<thead><tr><th></th><th scope=col>Smoking Yes</th><th scope=col>Smoking No</th></tr></thead>\n",
       "<tbody>\n",
       "\t<tr><th scope=row>Dieases Yes</th><td>34 </td><td> 66</td></tr>\n",
       "\t<tr><th scope=row>Dieases No</th><td>22 </td><td>118</td></tr>\n",
       "</tbody>\n",
       "</table>\n"
      ],
      "text/latex": [
       "\\begin{tabular}{r|ll}\n",
       "  & Smoking Yes & Smoking No\\\\\n",
       "\\hline\n",
       "\tDieases Yes & 34  &  66\\\\\n",
       "\tDieases No & 22  & 118\\\\\n",
       "\\end{tabular}\n"
      ],
      "text/markdown": [
       "\n",
       "| <!--/--> | Smoking Yes | Smoking No |\n",
       "|---|---|---|\n",
       "| Dieases Yes | 34  |  66 |\n",
       "| Dieases No | 22  | 118 |\n",
       "\n"
      ],
      "text/plain": [
       "            Smoking Yes Smoking No\n",
       "Dieases Yes 34           66       \n",
       "Dieases No  22          118       "
      ]
     },
     "metadata": {},
     "output_type": "display_data"
    }
   ],
   "source": [
    "Smoking_data"
   ]
  },
  {
   "cell_type": "code",
   "execution_count": 133,
   "id": "b987c8c1-88d2-44b0-b273-3f0d4846c700",
   "metadata": {},
   "outputs": [
    {
     "data": {
      "text/html": [
       "<dl>\n",
       "\t<dt>$risk1</dt>\n",
       "\t\t<dd>1.69264069264069</dd>\n",
       "\t<dt>$risk2</dt>\n",
       "\t\t<dd>0.612590799031477</dd>\n",
       "</dl>\n"
      ],
      "text/latex": [
       "\\begin{description}\n",
       "\\item[\\$risk1] 1.69264069264069\n",
       "\\item[\\$risk2] 0.612590799031477\n",
       "\\end{description}\n"
      ],
      "text/markdown": [
       "$risk1\n",
       ":   1.69264069264069\n",
       "$risk2\n",
       ":   0.612590799031477\n",
       "\n",
       "\n"
      ],
      "text/plain": [
       "$risk1\n",
       "[1] 1.692641\n",
       "\n",
       "$risk2\n",
       "[1] 0.6125908\n"
      ]
     },
     "metadata": {},
     "output_type": "display_data"
    }
   ],
   "source": [
    "Rilative.risk(Smoking_data)"
   ]
  },
  {
   "cell_type": "markdown",
   "id": "dacb8551-96bd-4c88-af28-39b697103d81",
   "metadata": {},
   "source": [
    "Thus, the proportion of individuals with the disease is 1.69 times higher among\n",
    "smokers when compared with non-smokers. Similarly, the proportion of healthy\n",
    "individuals is 0.61 times smaller among smokers when compared with non-smokers."
   ]
  },
  {
   "cell_type": "markdown",
   "id": "9498efad-012f-42d5-88d4-974e2c0b3d45",
   "metadata": {},
   "source": [
    "**Odd Ratio**\n",
    "\n",
    "This is the ration of chance of event and chance of no event.\n",
    "\n",
    "The relative risks are calculated to compare the proportion of sick or healthy\n",
    "patients between smokers and non-smokers. Using these two relative risks, the odds\n",
    "ratio is obtained as"
   ]
  },
  {
   "cell_type": "code",
   "execution_count": 134,
   "id": "fb3c7cf1-90bb-4aa0-8afb-7349fd5b3b47",
   "metadata": {},
   "outputs": [],
   "source": [
    "Odd.ratio = function(Dataset){\n",
    "    \n",
    "    if (all(dim(Smoking_data) == c(2,2))){\n",
    "        \n",
    "        risk1 = (Dataset[1,1]/sum(Dataset[,1]))/(Dataset[1,2]/sum(Dataset[,2]))\n",
    "        risk2 = (Dataset[2,1]/sum(Dataset[,1]))/(Dataset[2,2]/sum(Dataset[,2]))\n",
    "        \n",
    "        #print(paste(\"Relative risk1 = \",risk1))\n",
    "        #print(paste(\"Relative risk1 = \",risk2))\n",
    "        \n",
    "        OR = risk1/risk2\n",
    "        OR\n",
    "    }\n",
    "    else{print(\"Dataset should have a 2 x 2 dimension \")}\n",
    "}"
   ]
  },
  {
   "cell_type": "code",
   "execution_count": 135,
   "id": "6e535d4f-8d59-4edc-9110-a632d23745a4",
   "metadata": {},
   "outputs": [
    {
     "data": {
      "text/html": [
       "2.76308539944904"
      ],
      "text/latex": [
       "2.76308539944904"
      ],
      "text/markdown": [
       "2.76308539944904"
      ],
      "text/plain": [
       "[1] 2.763085"
      ]
     },
     "metadata": {},
     "output_type": "display_data"
    }
   ],
   "source": [
    "Odd.ratio(Smoking_data)"
   ]
  },
  {
   "cell_type": "markdown",
   "id": "9744dfca-7943-4bef-8541-7f264f4a2eb0",
   "metadata": {},
   "source": [
    "We can interpret this outcome as follows: \n",
    "\n",
    "* The chances of smoking are 2.76 times higher for individuals with the disease compared with healthy individuals. \n",
    "\n",
    "* We can also say that the chances of having the particular disease is 2.76 times higher for smokers compared with non-smokers. If we interchange either one of the “Yes” and “No” columns or the “Yes” and “No” rows, we obtain O R = 1/2.76 ≈ 0.36, \n",
    "\n",
    "* giving us further interpretations: the chances of smoking are 0.36 times lower for individuals without disease compared with individuals with the disease.\n",
    "* The chance of having the particular disease is 0.36 times lower for non-smokers compared with smokers."
   ]
  },
  {
   "cell_type": "markdown",
   "id": "18530d40-ae23-44a9-8e49-2b114f4f3513",
   "metadata": {},
   "source": [
    "## Visualization of Variables from Different Scales\n",
    "\n",
    "In this section we will take the Pizza delivery time dataset which is disscused in other section (Measure of Central tendency and Dispersion)"
   ]
  },
  {
   "cell_type": "code",
   "execution_count": 99,
   "id": "094359c7-1cc7-4c74-8356-c1802eecab93",
   "metadata": {},
   "outputs": [],
   "source": [
    "# first we will import the dataset from the local directory\n",
    "Pizza = read.table(file='pizza_delivery.csv', sep=',', header=TRUE)"
   ]
  },
  {
   "cell_type": "code",
   "execution_count": 100,
   "id": "9b1a5bd1-2287-4fcb-9d0b-5c3c2e59c7bb",
   "metadata": {},
   "outputs": [
    {
     "data": {
      "text/html": [
       "<table>\n",
       "<thead><tr><th scope=col>day</th><th scope=col>date</th><th scope=col>time</th><th scope=col>operator</th><th scope=col>branch</th><th scope=col>driver</th><th scope=col>temperature</th><th scope=col>bill</th><th scope=col>pizzas</th><th scope=col>free_wine</th><th scope=col>got_wine</th><th scope=col>discount_customer</th></tr></thead>\n",
       "<tbody>\n",
       "\t<tr><td>Thursday </td><td>01-May-14</td><td>35.12837 </td><td>Laura    </td><td>East     </td><td>Bruno    </td><td>68.28772 </td><td>58.4     </td><td>4        </td><td>0        </td><td>0        </td><td>1        </td></tr>\n",
       "\t<tr><td>Thursday </td><td>01-May-14</td><td>25.20307 </td><td>Melissa  </td><td>East     </td><td>Salvatore</td><td>70.99779 </td><td>26.4     </td><td>2        </td><td>0        </td><td>0        </td><td>0        </td></tr>\n",
       "\t<tr><td>Thursday </td><td>01-May-14</td><td>45.64340 </td><td>Melissa  </td><td>West     </td><td>Salvatore</td><td>53.39415 </td><td>58.1     </td><td>3        </td><td>1        </td><td>0        </td><td>0        </td></tr>\n",
       "\t<tr><td>Thursday </td><td>01-May-14</td><td>29.37430 </td><td>Melissa  </td><td>East     </td><td>Salvatore</td><td>70.30660 </td><td>35.2     </td><td>3        </td><td>0        </td><td>0        </td><td>0        </td></tr>\n",
       "\t<tr><td>Thursday </td><td>01-May-14</td><td>29.99461 </td><td>Melissa  </td><td>West     </td><td>Salvatore</td><td>71.50169 </td><td>38.4     </td><td>2        </td><td>0        </td><td>0        </td><td>0        </td></tr>\n",
       "\t<tr><td>Thursday </td><td>01-May-14</td><td>40.25432 </td><td>Melissa  </td><td>Centre   </td><td>Bruno    </td><td>60.75950 </td><td>61.8     </td><td>4        </td><td>1        </td><td>1        </td><td>0        </td></tr>\n",
       "</tbody>\n",
       "</table>\n"
      ],
      "text/latex": [
       "\\begin{tabular}{r|llllllllllll}\n",
       " day & date & time & operator & branch & driver & temperature & bill & pizzas & free\\_wine & got\\_wine & discount\\_customer\\\\\n",
       "\\hline\n",
       "\t Thursday  & 01-May-14 & 35.12837  & Laura     & East      & Bruno     & 68.28772  & 58.4      & 4         & 0         & 0         & 1        \\\\\n",
       "\t Thursday  & 01-May-14 & 25.20307  & Melissa   & East      & Salvatore & 70.99779  & 26.4      & 2         & 0         & 0         & 0        \\\\\n",
       "\t Thursday  & 01-May-14 & 45.64340  & Melissa   & West      & Salvatore & 53.39415  & 58.1      & 3         & 1         & 0         & 0        \\\\\n",
       "\t Thursday  & 01-May-14 & 29.37430  & Melissa   & East      & Salvatore & 70.30660  & 35.2      & 3         & 0         & 0         & 0        \\\\\n",
       "\t Thursday  & 01-May-14 & 29.99461  & Melissa   & West      & Salvatore & 71.50169  & 38.4      & 2         & 0         & 0         & 0        \\\\\n",
       "\t Thursday  & 01-May-14 & 40.25432  & Melissa   & Centre    & Bruno     & 60.75950  & 61.8      & 4         & 1         & 1         & 0        \\\\\n",
       "\\end{tabular}\n"
      ],
      "text/markdown": [
       "\n",
       "| day | date | time | operator | branch | driver | temperature | bill | pizzas | free_wine | got_wine | discount_customer |\n",
       "|---|---|---|---|---|---|---|---|---|---|---|---|\n",
       "| Thursday  | 01-May-14 | 35.12837  | Laura     | East      | Bruno     | 68.28772  | 58.4      | 4         | 0         | 0         | 1         |\n",
       "| Thursday  | 01-May-14 | 25.20307  | Melissa   | East      | Salvatore | 70.99779  | 26.4      | 2         | 0         | 0         | 0         |\n",
       "| Thursday  | 01-May-14 | 45.64340  | Melissa   | West      | Salvatore | 53.39415  | 58.1      | 3         | 1         | 0         | 0         |\n",
       "| Thursday  | 01-May-14 | 29.37430  | Melissa   | East      | Salvatore | 70.30660  | 35.2      | 3         | 0         | 0         | 0         |\n",
       "| Thursday  | 01-May-14 | 29.99461  | Melissa   | West      | Salvatore | 71.50169  | 38.4      | 2         | 0         | 0         | 0         |\n",
       "| Thursday  | 01-May-14 | 40.25432  | Melissa   | Centre    | Bruno     | 60.75950  | 61.8      | 4         | 1         | 1         | 0         |\n",
       "\n"
      ],
      "text/plain": [
       "  day      date      time     operator branch driver    temperature bill pizzas\n",
       "1 Thursday 01-May-14 35.12837 Laura    East   Bruno     68.28772    58.4 4     \n",
       "2 Thursday 01-May-14 25.20307 Melissa  East   Salvatore 70.99779    26.4 2     \n",
       "3 Thursday 01-May-14 45.64340 Melissa  West   Salvatore 53.39415    58.1 3     \n",
       "4 Thursday 01-May-14 29.37430 Melissa  East   Salvatore 70.30660    35.2 3     \n",
       "5 Thursday 01-May-14 29.99461 Melissa  West   Salvatore 71.50169    38.4 2     \n",
       "6 Thursday 01-May-14 40.25432 Melissa  Centre Bruno     60.75950    61.8 4     \n",
       "  free_wine got_wine discount_customer\n",
       "1 0         0        1                \n",
       "2 0         0        0                \n",
       "3 1         0        0                \n",
       "4 0         0        0                \n",
       "5 0         0        0                \n",
       "6 1         1        0                "
      ]
     },
     "metadata": {},
     "output_type": "display_data"
    }
   ],
   "source": [
    "head(Pizza)"
   ]
  },
  {
   "cell_type": "code",
   "execution_count": 104,
   "id": "3ade2590-f13c-4e19-a934-30ec30b6462e",
   "metadata": {},
   "outputs": [
    {
     "data": {
      "image/png": "[encoded data removed]",
      "text/plain": [
       "plot without title"
      ]
     },
     "metadata": {},
     "output_type": "display_data"
    }
   ],
   "source": [
    "# Now we will use a boxplot to show the some statistic values\n",
    "boxplot(Pizza$time ~ Pizza$branch, xlab='Branch', ylab=\"Time in minutes\")"
   ]
  },
  {
   "cell_type": "markdown",
   "id": "221fe4bb-6cb3-4d37-9135-004fe3e931ac",
   "metadata": {},
   "source": [
    "We can also ge the ECDF plot to check the comulative distribution."
   ]
  },
  {
   "cell_type": "code",
   "execution_count": 113,
   "id": "262ad20e-e475-4c6a-b758-7dd75bb06f3d",
   "metadata": {},
   "outputs": [
    {
     "data": {
      "image/png": "[encoded data removed]",
      "text/plain": [
       "Plot with title \"ecdf(x)\""
      ]
     },
     "metadata": {},
     "output_type": "display_data"
    }
   ],
   "source": [
    "plot.ecdf(Pizza$time[Pizza$branch == 'East'], lty=1)\n",
    "plot.ecdf(Pizza$time[Pizza$branch == 'West'], add=T, lty=2)\n",
    "plot.ecdf(Pizza$time[Pizza$branch == 'Centre'],add=T, lty=3)"
   ]
  },
  {
   "cell_type": "markdown",
   "id": "06adacf5-66f8-4b23-af27-3f70270bba08",
   "metadata": {},
   "source": []
  },
  {
   "cell_type": "code",
   "execution_count": null,
   "id": "6d3a556f-f513-4c21-8319-37a10ed06647",
   "metadata": {},
   "outputs": [],
   "source": []
  }
 ],
 "metadata": {
  "kernelspec": {
   "display_name": "R",
   "language": "R",
   "name": "ir"
  },
  "language_info": {
   "codemirror_mode": "r",
   "file_extension": ".r",
   "mimetype": "text/x-r-source",
   "name": "R",
   "pygments_lexer": "r",
   "version": "3.6.1"
  },
  "toc-autonumbering": true
 },
 "nbformat": 4,
 "nbformat_minor": 5
}
