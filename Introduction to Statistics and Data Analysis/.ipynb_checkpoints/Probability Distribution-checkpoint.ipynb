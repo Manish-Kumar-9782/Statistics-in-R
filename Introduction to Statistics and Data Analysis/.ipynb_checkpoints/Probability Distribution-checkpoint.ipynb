{
 "cells": [
  {
   "cell_type": "markdown",
   "id": "0fb2ff14-202f-4d47-b0e1-b5792f61fd8c",
   "metadata": {},
   "source": [
    "# Probability Distribution\n",
    "\n",
    "In this section we will see different type of distribution which will be used to define the probability for an interval of outcomes for various type of situation (problem).\n",
    "\n",
    "In this section we will two categories of the distribution.\n",
    "\n",
    "1. Discrete random variable distribution.\n",
    "2. Continuous random variable distribution.\n",
    "\n",
    "\n",
    "* In Discrete distribution we will see the a random variable which has outcomes as discrete values.\n",
    "* in Continuous distribution we will see that a rancom variable is continuous in a given range which gives us the probabiltiy for a given range.\n",
    "\n",
    "**Different type of Discrete Random Variable Distribution.**\n",
    "\n",
    "1. Discrete uniform distribution.\n",
    "2. Degenrate distribution.\n",
    "3. Bernuoulli distriution.\n",
    "4. Binomial Distribution.\n",
    "5. Poisson Distribution.\n",
    "6. Multinomial Distribution.\n",
    "7. Geometric Distribution.\n",
    "8. Hypergeometric Distribution.\n",
    "\n",
    "**Different type of Continuous Random Variable Distribution.**\n",
    "\n",
    "1. Continuous uniform Distribution.\n",
    "2. Normal Distribution.\n",
    "3. Exponentinal Distribution.\n",
    "\n",
    "\n",
    "**Sampling distribution.**\n",
    "\n",
    "1. $\\chi^2$-Distribution.\n",
    "2. *t*-Distribution.\n",
    "3. *F*-Distribution."
   ]
  },
  {
   "cell_type": "markdown",
   "id": "7583d848-0197-42c6-bf94-fc5ba2af86fa",
   "metadata": {},
   "source": [
    "___"
   ]
  },
  {
   "cell_type": "markdown",
   "id": "7e2ff32d-bc4c-44d8-8ff3-ddf75b8a7ae2",
   "metadata": {},
   "source": [
    "## Discrete Uniform Distribution.\n",
    "\n",
    "The discrete uniform distribution assumes that all possible outcomes have equal probability of occurrence.\n",
    "\n",
    "`Defination:` A discrete random Variable $X$ with *k* proosible outcomes $x_1,  x_2, x_3,......,x_k$ is said to follow a discrete uniform distribution if the probability mass function of $X$ is given by.\n",
    "\n",
    "$$P(X=x_1)= \\frac{1}{k},  \\quad \\forall i = 1,2,3,....k.$$\n",
    "\n",
    "if the outcomes are the natural numbers $x_i = i (1,2,3,....,k)$ the mean and variance of $X$ are obtained as.\n",
    "\n",
    "$$E(X) = \\frac{k+1}{2}$$,\n",
    "$$Var(X) = \\frac{1}{12}{(k^2-1)}$$"
   ]
  },
  {
   "cell_type": "markdown",
   "id": "c7bcace0-aa60-4143-aea7-9d00a8ce99db",
   "metadata": {},
   "source": [
    "***Example 1** \n",
    "\n",
    "If we roll a fair die, the outcomes “1”, “2”, . . ., “6” have equal probability of occurring, and hence, the random variable X “number of dots observed on the upper surface of the die” has a uniform discrete distribution with PMF\n",
    "\n",
    "We can obtain the pmf and cdf fucntion with the help of the `barchart` function which need a sample which can be created by using the sample function."
   ]
  },
  {
   "cell_type": "code",
   "execution_count": 1,
   "id": "671b9e09-abd3-4ec3-80ee-3b87afbe653c",
   "metadata": {},
   "outputs": [],
   "source": [
    "# Now we will create a sample of outcomes of rolled a fair die by using the sample function with uniform probabitlity\n",
    "\n",
    "Die_Sample = sample(x = c(1,2,3,4,5,6), size=1000, replace=T, prob=c(rep(1/4, 6)))"
   ]
  },
  {
   "cell_type": "code",
   "execution_count": 2,
   "id": "78823f22-9e8c-4066-8f0d-bf2741c6ecfe",
   "metadata": {},
   "outputs": [
    {
     "data": {
      "image/png": "[encoded data removed]",
      "text/plain": [
       "plot without title"
      ]
     },
     "metadata": {},
     "output_type": "display_data"
    }
   ],
   "source": [
    "# Now we have a die sample so we need to make a barchart which can be done by using the barplot\n",
    "barplot(table(Die_Sample), ylab=\"Absolute Frequency\", xlab= \"X:Random Variable\" )  "
   ]
  },
  {
   "cell_type": "markdown",
   "id": "0fc2bd36-d0ad-4709-ad4e-b5a6a1f9834e",
   "metadata": {},
   "source": [
    "From above outcomes we can see that 1000 generated random numbers are not exactly uniformly distributed, from above observation we can say that 1,4,6 occurs more than the other numbers.\n",
    "\n",
    "Note: we expect that the deviance from a perfect uniform distribution is getting smaller as we generate more and more random numbers but will probably never be zero for a finite number of draws.\n",
    "\n",
    "The random numbers reflect the practical situation that a sample distribution is only an approximation to the theoritical distribution from which the smaple was drawn."
   ]
  },
  {
   "cell_type": "markdown",
   "id": "d568f723-5e36-4a9b-b16b-6cef7f6bd8f9",
   "metadata": {},
   "source": [
    "### Degenerate Distribution.\n",
    "\n",
    "A random variable X has degenerate distribution at a, if a is the only possible outcomes with with $P(X=a)=1$\n",
    "\n",
    "Note: we will note see this kind of distribution in our practical situation. So we will not see this distribution in this section."
   ]
  },
  {
   "cell_type": "markdown",
   "id": "e5644079-2539-4b29-b13f-25a9a5f74477",
   "metadata": {},
   "source": [
    "### Bernoulli Distribution\n",
    "\n",
    "a random variable X has a Bernoulli distribution if PMF of X is given as \n",
    "\n",
    "$$P(X=x) = \\begin{cases} p \\qquad \\text {if  } x = 1 \n",
    "                \\\\ 1-p \\quad \\text {if } x=0 \\end{cases}$$\n",
    "\n",
    "The Cululative distribution Funtion CDF of $X$ is \n",
    "\n",
    "$$F(x) = \\begin{cases}\n",
    "                0  \\qquad \\text {if } x<0\n",
    "                \\\\1  \\qquad \\text {if } 0\\leq x<1 \n",
    "                \\\\1-p  \\quad \\text {if } x\\geq1\n",
    "                \\end{cases}$$\n",
    "                \n",
    "Variance and Expactations\n",
    "\n",
    "$$E(X) = p\n",
    "\\\\ Var(X) = p(1-p)$$\n"
   ]
  },
  {
   "cell_type": "markdown",
   "id": "139f7196-18c6-4c8b-9401-c3bc39c50277",
   "metadata": {},
   "source": [
    "Note: Bernoulli distribution is useful when there are only two possible outcomes, and our interest lies in any of the two outcomes.\n",
    "\n",
    "The outcomes of an event $A$ is usually coded as $1$ which occurs with probability $p$. if the event of interese does not occur, the complementary event $A$ occurs, the outcome is coded as $0$ which occurs with probability 1$-p$. so $p$ is the probability that the event of interest $A$ occurs."
   ]
  },
  {
   "cell_type": "markdown",
   "id": "5616720a-0832-435c-8b67-8e31769d0b01",
   "metadata": {},
   "source": [
    "**Example 2** \n",
    "\n",
    "A company organizes a raffle at an end-of-year function. There are\n",
    "300 lottery tickets in total, and 50 of them are marked as winning tickets. The event\n",
    "A of interest is “ticket wins” (coded as X = 1), and the probability p of having a\n",
    "winning ticket is a priori. "
   ]
  },
  {
   "cell_type": "markdown",
   "id": "57003155-d816-40fb-933a-5b6a1869bc3e",
   "metadata": {},
   "source": [
    "Let event $A$: winning the tickets then.\n",
    "\n",
    "$$P(X=1) = \\frac{50}{300} = \\frac{1}{6} \\quad \\text {Probability of the event}$$\n",
    "\n",
    "Probability of not winning the tickets.\n",
    "$$P(X=0) = 1-p = 1-\\frac{1}{6} = \\frac{5}{6}$$\n",
    "\n",
    "\n",
    "Expactation:\n",
    "    $$E(X) = \\frac{1}{6}$$\n",
    "    \n",
    "Variance:\n",
    "\n",
    "$$Var(X) = \\frac{1}{6}* \\frac{5}{6} = \\frac{5}{36}$$\n",
    "\n",
    "\n",
    "We can make a bernoulli distribution by using code within binomial distribution with 1 value."
   ]
  },
  {
   "cell_type": "code",
   "execution_count": null,
   "id": "4edc5643-891d-46a4-87a4-b3dbe1e7a17e",
   "metadata": {},
   "outputs": [],
   "source": []
  },
  {
   "cell_type": "markdown",
   "id": "c3b903a7-3235-4d20-b744-bb6365071196",
   "metadata": {},
   "source": [
    "### Binomial Distribution\n",
    "\n",
    "Consider _n_ independent trial or repetitions of a bernoulli experiment. In each trial or repetition, we may observe either $A$ or $\\bar{A}$. At the end of the experiment, we have thus observed $A$ b/w 0 and n times.\n",
    "\n",
    "Suppose we are interested in the probability of $A$ occuring $k$ times, then the binomial distribution is useful. if we are interested in the probabiltiy of $A$ occuring 1 time this distribution will transform into a bernoulli distribution.\n",
    "\n",
    "Probabilty of event $A$ occuring $k$ times: (PMF)\n",
    "\n",
    "$$P(X=k)  =  {{n}\\choose{k}} p^k(1-p)^{n-k} $$\n",
    "\n",
    "Note: Please note that we can use the product $p^k(1-p)^{n-k}$ because the experiment (draws)  are independent. The binomial coefficient ${{n}\\choose{k}}$ is necessary to count the number of possible orders of the experiment (eg. the black and white balls)."
   ]
  },
  {
   "cell_type": "markdown",
   "id": "96afaf09-60a8-4e0c-9237-e6ad0ae61441",
   "metadata": {},
   "source": [
    "`Defination:` A discrete random variable X is said to follow a binomial distribution with parameters n a dn p if its PMF which is given in above equation. we can represent this relationship by notation $X\\sim Bin(n,p)$"
   ]
  },
  {
   "cell_type": "markdown",
   "id": "9231013e-e74f-4b76-94e0-c829d8f3a1e9",
   "metadata": {},
   "source": [
    "Expactation and Variance of a Binomial distribution:\n",
    "\n",
    "$$E(X) = np$$\n",
    "$$Var(X) = np(1-p)$$"
   ]
  },
  {
   "cell_type": "markdown",
   "id": "b4c23b84-4981-4dcb-9776-8e27ce4999b8",
   "metadata": {},
   "source": [
    "___"
   ]
  },
  {
   "cell_type": "markdown",
   "id": "aa9b0b94-91cb-4e37-b9c9-27f9d1bf0947",
   "metadata": {},
   "source": [
    "**Example 3**\n",
    "\n",
    "Consider an unfair coin where the probability of observing a tail (T )\n",
    "is p(T ) = 0.6. Let us denote tails by “1” and heads by “0”. Suppose the coin is\n",
    "tossed three times. In total, there are the $2^3$ = 8 following possible outcomes:"
   ]
  },
  {
   "cell_type": "markdown",
   "id": "d686e504-eb22-45db-a3d5-e39fb8b52cde",
   "metadata": {},
   "source": [
    "|Outcome| X = x|\n",
    "|-------|------|\n",
    "|1, 1, 1 |3|\n",
    "|1, 1, 0 |2|\n",
    "|1, 0, 1 |2|\n",
    "|0, 1, 1 |2|\n",
    "|1, 0, 0 |1|\n",
    "|0, 1, 0 |1|\n",
    "|0, 0, 1 |1|\n",
    "|0, 0, 0 |0|\n",
    "\n",
    "Note: This table only represent the possible outcomes and their corresponding random variable values. "
   ]
  },
  {
   "cell_type": "markdown",
   "id": "2be67028-774e-425d-857b-6909203d2ef2",
   "metadata": {},
   "source": [
    "Now we will use the binomial distribution by using the R code, which will illustrate the distribution."
   ]
  },
  {
   "cell_type": "code",
   "execution_count": 3,
   "id": "6b0458b2-24ec-43e5-8189-f91fee9a7213",
   "metadata": {},
   "outputs": [
    {
     "name": "stdout",
     "output_type": "stream",
     "text": [
      "[1] 1 1 3 1 2 3 2 2\n"
     ]
    }
   ],
   "source": [
    "# Now suppose that we have a random variable X\n",
    "# X: number of occuring head in a trial.\n",
    "\n",
    "rand_X = rbinom(n=8, size=3, prob=0.6)\n",
    "\n",
    "# Here n is the total number of observation , if there is only one trial then this will a bernoulli distribution. \n",
    "# In this observation we will get the Random variable values.\n",
    "# size: in this size defines the number of trials, in this section we are throwing the coins three times.\n",
    "# prob: this is the probsbility of the occuring of the event.\n",
    "\n",
    "print(rand_X)"
   ]
  },
  {
   "cell_type": "markdown",
   "id": "02d5d131-b4ca-40c2-927a-bfd702b65fda",
   "metadata": {},
   "source": [
    "Note: Please note that these outcomes are the value of random variable X, here X represent the number of occuring head in a trial, and each trial has a bernoulli distribution with '1' and '0' outcomes. "
   ]
  },
  {
   "cell_type": "markdown",
   "id": "1a962885-e9bd-4b92-b37e-f5b29297c744",
   "metadata": {},
   "source": [
    "**Plotting the pdf function of the binomial distribution**\n",
    "\n",
    "We can plot the binomial pdf function by using the plot function but before that we need to generate some pdf values by using `dbinom` function which will give us the pdf values, this values can be used to plot the data which will define the pdf function."
   ]
  },
  {
   "cell_type": "code",
   "execution_count": 4,
   "id": "82f1d25e-ca44-470d-87c0-ae73008befd7",
   "metadata": {},
   "outputs": [
    {
     "data": {
      "image/png": "[encoded data removed]",
      "text/plain": [
       "plot without title"
      ]
     },
     "metadata": {},
     "output_type": "display_data"
    }
   ],
   "source": [
    "# generation the pdf value points by using the dbinom funtion,\n",
    "k = seq(0, 10, by=1)\n",
    "Pdf = dbinom(k, size=3, prob=0.6)\n",
    "plot(k, Pdf, type='h')"
   ]
  },
  {
   "cell_type": "code",
   "execution_count": 5,
   "id": "b443b5c5-3c4f-4ed6-afba-7a9a7ef15e4c",
   "metadata": {},
   "outputs": [
    {
     "data": {
      "text/html": [
       "3"
      ],
      "text/latex": [
       "3"
      ],
      "text/markdown": [
       "3"
      ],
      "text/plain": [
       "[1] 3"
      ]
     },
     "metadata": {},
     "output_type": "display_data"
    }
   ],
   "source": [
    "qbinom(0.8, 3, 0.6)"
   ]
  },
  {
   "cell_type": "code",
   "execution_count": 6,
   "id": "36c41126-b77d-4c2d-820c-2c264f7829a3",
   "metadata": {},
   "outputs": [
    {
     "data": {
      "text/html": [
       "0.288"
      ],
      "text/latex": [
       "0.288"
      ],
      "text/markdown": [
       "0.288"
      ],
      "text/plain": [
       "[1] 0.288"
      ]
     },
     "metadata": {},
     "output_type": "display_data"
    }
   ],
   "source": [
    "# probability of P(X = 2) = ?\n",
    "# We can compute this by manually\n",
    "k=1\n",
    "n=3\n",
    "Px_2 = choose(n,k)*(0.6)^k*(0.4)^(n-k)\n",
    "Px_2"
   ]
  },
  {
   "cell_type": "code",
   "execution_count": 7,
   "id": "6620594e-4aa9-405e-a51e-a56cd00b4d3a",
   "metadata": {},
   "outputs": [
    {
     "data": {
      "text/html": [
       "0.064"
      ],
      "text/latex": [
       "0.064"
      ],
      "text/markdown": [
       "0.064"
      ],
      "text/plain": [
       "[1] 0.064"
      ]
     },
     "metadata": {},
     "output_type": "display_data"
    }
   ],
   "source": [
    "# pbinom gives us the cdf value up to the xn outcomes.\n",
    "pbinom(0, 3, 0.6)"
   ]
  },
  {
   "cell_type": "markdown",
   "id": "00ef99f5-8beb-43e2-86f6-908923e3e83b",
   "metadata": {},
   "source": [
    "The above result gives us the probability of $P(X \\leq 0 )$"
   ]
  },
  {
   "cell_type": "code",
   "execution_count": 8,
   "id": "a209b1e8-67e0-461b-b038-c96ed4cfd96f",
   "metadata": {},
   "outputs": [
    {
     "data": {
      "text/html": [
       "0.352"
      ],
      "text/latex": [
       "0.352"
      ],
      "text/markdown": [
       "0.352"
      ],
      "text/plain": [
       "[1] 0.352"
      ]
     },
     "metadata": {},
     "output_type": "display_data"
    }
   ],
   "source": [
    "pbinom(1, 3, 0.6)\n",
    "# This pbinom will give us the cdf value of the distribution upto the outcoume 1."
   ]
  },
  {
   "cell_type": "markdown",
   "id": "6ea8b99c-4444-456b-9751-615d4cab30b7",
   "metadata": {},
   "source": [
    "Note: The above result gives us the probability of  $P(X \\leq 1)$. So if we want to find out the probability of a given outcome then we need to use $P(X \\leq x_n )$ - $P(X \\leq x_{n-1} )$"
   ]
  },
  {
   "cell_type": "code",
   "execution_count": 10,
   "id": "25de9a6a-46df-4fac-8756-ca78cc31dabf",
   "metadata": {},
   "outputs": [
    {
     "data": {
      "text/html": [
       "0.288"
      ],
      "text/latex": [
       "0.288"
      ],
      "text/markdown": [
       "0.288"
      ],
      "text/plain": [
       "[1] 0.288"
      ]
     },
     "metadata": {},
     "output_type": "display_data"
    }
   ],
   "source": [
    "# Here we can findout the probability of P(X = 1) by using the below code\n",
    "pbinom(1, 3, 0.6) - pbinom(0, 3, 0.6)\n",
    "\n"
   ]
  },
  {
   "cell_type": "markdown",
   "id": "81be2406",
   "metadata": {},
   "source": [
    "Note: pbinom(1,3, 0.6) will give us the cdf value upto $P(X\\leq 1)$ and pbinom(0,3, 0.6) will give us the cdf value upto $P(X\\leq 0)$ so to get the value of $P(X=1)$  we need to subtract both where $(x_1 = 1) > (x_0 = 0)$"
   ]
  },
  {
   "cell_type": "markdown",
   "id": "5993702e",
   "metadata": {},
   "source": [
    "Each distribution function in R have four latter before their name These are `d,p,q,r`.\n",
    "\n",
    "* **d** - it means we want to make a pdf or pmf values of a given distribution.\n",
    "    * Note if we are given a single value in it which belongs to the Random variable set then this will return $P(X=a)$\n",
    "* **p** - This denotes the cumulative probabitily given by cdf function of a given distribution.\n",
    "    * Note if we are given a single value in it which belongs to the Random variable set then this will return $P(X\\leq a)$\n",
    "* **q** - This gives us the quantile value of the given distribution.\n",
    "* **r** - This will give us the random number generated by the distribution in a given parameters."
   ]
  },
  {
   "cell_type": "markdown",
   "id": "114b015a",
   "metadata": {},
   "source": [
    "NOw we we want to check the 25% or 75% quantile then we can use qbinom function."
   ]
  },
  {
   "cell_type": "code",
   "execution_count": 13,
   "id": "5311cbc0",
   "metadata": {},
   "outputs": [
    {
     "data": {
      "text/html": [
       "1"
      ],
      "text/latex": [
       "1"
      ],
      "text/markdown": [
       "1"
      ],
      "text/plain": [
       "[1] 1"
      ]
     },
     "metadata": {},
     "output_type": "display_data"
    }
   ],
   "source": [
    "qbinom(.25,3,0.6)"
   ]
  },
  {
   "cell_type": "code",
   "execution_count": 19,
   "id": "48345755",
   "metadata": {},
   "outputs": [
    {
     "data": {
      "text/html": [
       "<ol class=list-inline>\n",
       "\t<li>0</li>\n",
       "\t<li>0.25</li>\n",
       "\t<li>0.5</li>\n",
       "\t<li>0.75</li>\n",
       "\t<li>1</li>\n",
       "</ol>\n"
      ],
      "text/latex": [
       "\\begin{enumerate*}\n",
       "\\item 0\n",
       "\\item 0.25\n",
       "\\item 0.5\n",
       "\\item 0.75\n",
       "\\item 1\n",
       "\\end{enumerate*}\n"
      ],
      "text/markdown": [
       "1. 0\n",
       "2. 0.25\n",
       "3. 0.5\n",
       "4. 0.75\n",
       "5. 1\n",
       "\n",
       "\n"
      ],
      "text/plain": [
       "[1] 0.00 0.25 0.50 0.75 1.00"
      ]
     },
     "metadata": {},
     "output_type": "display_data"
    }
   ],
   "source": [
    "vec = seq(0,1,.25)\n",
    "vec"
   ]
  },
  {
   "cell_type": "code",
   "execution_count": 20,
   "id": "9cfe0512",
   "metadata": {},
   "outputs": [
    {
     "data": {
      "text/html": [
       "<ol class=list-inline>\n",
       "\t<li>0</li>\n",
       "\t<li>1</li>\n",
       "\t<li>2</li>\n",
       "\t<li>2</li>\n",
       "\t<li>3</li>\n",
       "</ol>\n"
      ],
      "text/latex": [
       "\\begin{enumerate*}\n",
       "\\item 0\n",
       "\\item 1\n",
       "\\item 2\n",
       "\\item 2\n",
       "\\item 3\n",
       "\\end{enumerate*}\n"
      ],
      "text/markdown": [
       "1. 0\n",
       "2. 1\n",
       "3. 2\n",
       "4. 2\n",
       "5. 3\n",
       "\n",
       "\n"
      ],
      "text/plain": [
       "[1] 0 1 2 2 3"
      ]
     },
     "metadata": {},
     "output_type": "display_data"
    }
   ],
   "source": [
    "qbinom(vec, 3, 0.6)"
   ]
  },
  {
   "cell_type": "markdown",
   "id": "21c619fa",
   "metadata": {},
   "source": [
    "Note: Above three output shown are taken from the cdf distribution it means that in greater quantile all the less quantiles are included. For example\n",
    "\n",
    "* At 0 quantile there are no outcomes so we have 0 as outcomes.\n",
    "* At .25 quantile we have data which incudes 0 and 1.\n",
    "* At .50 quantile we have data which includes 0,1, and 2 also.\n",
    "* At .75 quantile we have data which includes 0,1,and 2 also, note that in there is no new outcomes added upto .75 quantile\n",
    "* At 1 quantile we have all the outcomes in which we have 0,1,2 and 3 also.\n",
    "\n",
    "This outcome can be plotted in the graph."
   ]
  },
  {
   "cell_type": "code",
   "execution_count": 28,
   "id": "e5689190",
   "metadata": {},
   "outputs": [],
   "source": [
    "# first we need to generate random number using the binomal distribution fucntion (rbinom)\n",
    "dist1 = rbinom(1000,3,0.6) # we are taking the 1000  iteration so we can get the better result in terms of probabiltiy.\n",
    "\n",
    "# Now we need to make the table.\n",
    "freq = table(dist1)\n"
   ]
  },
  {
   "cell_type": "code",
   "execution_count": 33,
   "id": "f57d5a94",
   "metadata": {},
   "outputs": [
    {
     "data": {
      "text/plain": [
       "dist1\n",
       "    0     1     2     3 \n",
       "0.061 0.263 0.451 0.225 "
      ]
     },
     "metadata": {},
     "output_type": "display_data"
    }
   ],
   "source": [
    "# checking the freq\n",
    "refreq = freq/1000\n",
    "refreq"
   ]
  },
  {
   "cell_type": "code",
   "execution_count": 56,
   "id": "90c848ff",
   "metadata": {},
   "outputs": [],
   "source": [
    "getcdf_value = function(relative_freq){\n",
    "\n",
    "# Now first we need to sum in cumulative order\n",
    "# and also a vector to stroe the value\n",
    "\n",
    "cdfvalue = vector(length = length(relative_freq))\n",
    "\n",
    "for (i in 1:length(relative_freq)){\n",
    "\n",
    "    if (i == 1){\n",
    "    \n",
    "        # we all cdf values are False then we need to initilize the cdfvalue\n",
    "        \n",
    "        cdfvalue[i] = relative_freq[i]\n",
    "        } else{\n",
    "        \n",
    "        cdfvalue[i] = cdfvalue[i-1] +relative_freq[i]\n",
    "        }\n",
    "    }\n",
    "\n",
    "    return(cdfvalue)\n",
    "}"
   ]
  },
  {
   "cell_type": "code",
   "execution_count": 58,
   "id": "84d36823",
   "metadata": {},
   "outputs": [
    {
     "name": "stdout",
     "output_type": "stream",
     "text": [
      "[1] 0.061 0.324 0.775 1.000\n"
     ]
    }
   ],
   "source": [
    "cdfvalues = getcdf_value(relative_freq = refreq)\n",
    "print(cdfvalues)"
   ]
  },
  {
   "cell_type": "markdown",
   "id": "37e13421",
   "metadata": {},
   "source": [
    "Now we have got the cumulative distribution values now we can get the distribution plot."
   ]
  },
  {
   "cell_type": "code",
   "execution_count": 67,
   "id": "56e21fa0",
   "metadata": {},
   "outputs": [
    {
     "data": {
      "image/png": "[encoded data removed]",
      "text/plain": [
       "plot without title"
      ]
     },
     "metadata": {},
     "output_type": "display_data"
    }
   ],
   "source": [
    "plot(x=c(0:3), y= cdfvalues, type='l', xlim=c(0,3), ylab='Cdf Values', xlab='Outcomes', axes=FALSE)\n",
    "axis(2, at= c(0.0, 0.324, 0.775, 1), labels = c(0.0, 0.3, 0.7, 1.0))\n",
    "axis(1, at = c(0.0, 1.0, 2.0, 3.0), labels= c(0,1,2,3))"
   ]
  },
  {
   "cell_type": "markdown",
   "id": "876834f3",
   "metadata": {},
   "source": [
    "Now from the above diagram we can see that a cdf of the the experiment can be show in this way which describe the cumulative probability of the outcomes. it means that we are intrested in getting of $P(X\\leq a) \\text { where } a$ is the outcome i.g. ***0,1,2,3***."
   ]
  },
  {
   "cell_type": "markdown",
   "id": "bc314050",
   "metadata": {},
   "source": [
    "___"
   ]
  },
  {
   "cell_type": "markdown",
   "id": "c9ef996f",
   "metadata": {},
   "source": [
    "**Example:** Now suppose that we are tossing a coing 10 times then if we want to get that what is the probability of getting 8 times, 6 times and 4 times head then also we can use the binomal distribution. Note that this time we are we will check the probabilty with 0.5 of success event."
   ]
  },
  {
   "cell_type": "code",
   "execution_count": 72,
   "id": "6d42f2c4",
   "metadata": {},
   "outputs": [
    {
     "data": {
      "text/plain": [
       "tosscoin_10\n",
       "  0   1   2   3   4   5   6   7   8   9  10 \n",
       "  1   5  37 130 203 233 219 122  31  18   1 "
      ]
     },
     "metadata": {},
     "output_type": "display_data"
    }
   ],
   "source": [
    "# frist of all we need to generate the ranodom number using the rbinom distribution.\n",
    "tosscoin_10  =  rbinom(1000, 10, 0.5) \n",
    "# here first argument shows that we are making this experiment by 1000 times to get the better result.\n",
    "# second argument shows that have (0 to 10) values in our sample space of the random variable X.\n",
    "# Third argument show that the probabiltiy of success event.(getting head)\n",
    "\n",
    "# Now we will count the absolute frequency of the X random variable values by using the table function.\n",
    "\n",
    "coin10_abfreq = table(tosscoin_10)\n",
    "# checking the table\n",
    "coin10_abfreq"
   ]
  },
  {
   "cell_type": "code",
   "execution_count": 73,
   "id": "6c2515a5",
   "metadata": {},
   "outputs": [
    {
     "data": {
      "text/plain": [
       "tosscoin_10\n",
       "    0     1     2     3     4     5     6     7     8     9    10 \n",
       "0.001 0.005 0.037 0.130 0.203 0.233 0.219 0.122 0.031 0.018 0.001 "
      ]
     },
     "metadata": {},
     "output_type": "display_data"
    }
   ],
   "source": [
    "# getting the relative freq\n",
    "coin10_refreq = coin10_abfreq/1000\n",
    "coin10_refreq "
   ]
  },
  {
   "cell_type": "markdown",
   "id": "938ce64e",
   "metadata": {},
   "source": [
    "Now from the above experiment we can see that  getting 4, 5, and 6 head 10 toss of coin is maximum. this can be seen by using the histogram plot which can show the absolute frequeny or absolulate frequency."
   ]
  },
  {
   "cell_type": "code",
   "execution_count": 104,
   "id": "8bf11ca3",
   "metadata": {},
   "outputs": [
    {
     "data": {
      "image/png": "[encoded data removed]",
      "text/plain": [
       "Plot with title \"Histogram of tosscoin_10\""
      ]
     },
     "metadata": {},
     "output_type": "display_data"
    }
   ],
   "source": [
    "r = hist(tosscoin_10, freq = F, col='lightblue', border='red', axes=F, ylim = c(0.0, 0.25))\n",
    "# in this we will give the generated random sample with False freq parameter which will give us the relative frequency \n",
    "axis(2, at = seq(0,0.40, by=0.05), labels = seq(0,0.40, by=0.05))\n",
    "axis(1, at = r$mids, labels = c(1,2,3,4,5,6,7,8,9,10))"
   ]
  },
  {
   "cell_type": "markdown",
   "id": "c056ad72",
   "metadata": {},
   "source": [
    "Note: From above histogram we can see that there are 60% chances that we will get 4 or 5 or 6 head in a trial but 5% chances to get 8 coins in this trial, this distribution can be categorised as normal distribution of Random Variable X. because The values of the Random Variable X follows the normal distribution (approximately)"
   ]
  },
  {
   "cell_type": "markdown",
   "id": "f9bd85bb",
   "metadata": {},
   "source": [
    "**Cumulative Distribution**\n",
    "\n",
    "Now we will plot the cumulative distribution of the above Random Variable."
   ]
  },
  {
   "cell_type": "code",
   "execution_count": 140,
   "id": "37ff24c9",
   "metadata": {},
   "outputs": [
    {
     "data": {
      "text/html": [
       "<ol class=list-inline>\n",
       "\t<li>0.001</li>\n",
       "\t<li>0.006</li>\n",
       "\t<li>0.043</li>\n",
       "\t<li>0.173</li>\n",
       "\t<li>0.376</li>\n",
       "\t<li>0.609</li>\n",
       "\t<li>0.828</li>\n",
       "\t<li>0.95</li>\n",
       "\t<li>0.981</li>\n",
       "\t<li>0.999</li>\n",
       "\t<li>1</li>\n",
       "</ol>\n"
      ],
      "text/latex": [
       "\\begin{enumerate*}\n",
       "\\item 0.001\n",
       "\\item 0.006\n",
       "\\item 0.043\n",
       "\\item 0.173\n",
       "\\item 0.376\n",
       "\\item 0.609\n",
       "\\item 0.828\n",
       "\\item 0.95\n",
       "\\item 0.981\n",
       "\\item 0.999\n",
       "\\item 1\n",
       "\\end{enumerate*}\n"
      ],
      "text/markdown": [
       "1. 0.001\n",
       "2. 0.006\n",
       "3. 0.043\n",
       "4. 0.173\n",
       "5. 0.376\n",
       "6. 0.609\n",
       "7. 0.828\n",
       "8. 0.95\n",
       "9. 0.981\n",
       "10. 0.999\n",
       "11. 1\n",
       "\n",
       "\n"
      ],
      "text/plain": [
       " [1] 0.001 0.006 0.043 0.173 0.376 0.609 0.828 0.950 0.981 0.999 1.000"
      ]
     },
     "metadata": {},
     "output_type": "display_data"
    }
   ],
   "source": [
    "cdfvalues = getcdf_value(coin10_refreq)\n",
    "cdfvalues"
   ]
  },
  {
   "cell_type": "code",
   "execution_count": 135,
   "id": "bac4b006",
   "metadata": {},
   "outputs": [
    {
     "data": {
      "image/png": "[encoded data removed]",
      "text/plain": [
       "plot without title"
      ]
     },
     "metadata": {},
     "output_type": "display_data"
    }
   ],
   "source": [
    "# Now we will plot the cdf by using the cdfvalues.\n",
    "plot(x=0:10, y=cdfvalues, type='l', xlab='values of Random Variable X')\n",
    "abline(a=0, b=0, h=0, v=c(4,6))"
   ]
  },
  {
   "cell_type": "markdown",
   "id": "aa649941",
   "metadata": {},
   "source": [
    "* To get the probility of getting 4 or 5 or 6  and 8 coins in a trial can use the pbinom fucntion."
   ]
  },
  {
   "cell_type": "code",
   "execution_count": 129,
   "id": "dd57a34a",
   "metadata": {},
   "outputs": [
    {
     "data": {
      "text/html": [
       "0.0439453125"
      ],
      "text/latex": [
       "0.0439453125"
      ],
      "text/markdown": [
       "0.0439453125"
      ],
      "text/plain": [
       "[1] 0.04394531"
      ]
     },
     "metadata": {},
     "output_type": "display_data"
    }
   ],
   "source": [
    "# getting the probability of getting only 8 coins\n",
    "pbinom(8,10, 0.5) - pbinom(7, 10, 0.5)"
   ]
  },
  {
   "cell_type": "markdown",
   "id": "12e81362",
   "metadata": {},
   "source": [
    "The above equation follow the equation $\\rightarrow P(a < X \\leq b) = P(X \\leq b) - P(X \\leq a)= F(b)-F(a)$"
   ]
  },
  {
   "cell_type": "markdown",
   "id": "7a6ea832",
   "metadata": {},
   "source": [
    "From above result show that there are only approximately 5% chances that we will get exactly 8 coins."
   ]
  },
  {
   "cell_type": "markdown",
   "id": "d3870cd7",
   "metadata": {},
   "source": [
    "* Now we will calculate the probability of have in b/w 4 to 6 coins in a trial or we can say that $P(4\\leq X \\leq 6)$"
   ]
  },
  {
   "cell_type": "code",
   "execution_count": 138,
   "id": "3b16b6ad",
   "metadata": {},
   "outputs": [
    {
     "data": {
      "text/html": [
       "<strong>4:</strong> 0.654171875"
      ],
      "text/latex": [
       "\\textbf{4:} 0.654171875"
      ],
      "text/markdown": [
       "**4:** 0.654171875"
      ],
      "text/plain": [
       "        4 \n",
       "0.6541719 "
      ]
     },
     "metadata": {},
     "output_type": "display_data"
    }
   ],
   "source": [
    "pbinom(6,10, 0.5) - pbinom(4, 10, 0.5) + coin10_refreq[5]"
   ]
  },
  {
   "cell_type": "markdown",
   "id": "e45730f9",
   "metadata": {},
   "source": [
    "Here in this above code:\n",
    "\n",
    "* pbinom(4,10, 0.5) $\\rightarrow  P(X \\leq a)$ \n",
    "* pbinom(6,10, 0.5) $\\rightarrow  P(X \\leq b)$ \n",
    "* coin10_refreq[5] $\\rightarrow  P(X = a)$ \n",
    "\n",
    " So $P(4\\leq X \\leq 6) = P(X \\leq 6) -  P(X \\leq 4)  +   P(X = 4)= 0.654171875$\n",
    " \n",
    " $$\\text {and}$$\n",
    " \n",
    " $P(4 < X \\leq 6) = P(X \\leq 6) -  P(X \\leq 4) =  0.452$"
   ]
  },
  {
   "cell_type": "markdown",
   "id": "cbadd62e",
   "metadata": {},
   "source": [
    "We can verify this relation by adding $P(X=4)+P(X=5)+P(X=6)$"
   ]
  },
  {
   "cell_type": "code",
   "execution_count": 141,
   "id": "8c9e2c8a",
   "metadata": {},
   "outputs": [
    {
     "data": {
      "text/html": [
       "<strong>4:</strong> 0.655"
      ],
      "text/latex": [
       "\\textbf{4:} 0.655"
      ],
      "text/markdown": [
       "**4:** 0.655"
      ],
      "text/plain": [
       "    4 \n",
       "0.655 "
      ]
     },
     "metadata": {},
     "output_type": "display_data"
    }
   ],
   "source": [
    "coin10_refreq[5] + coin10_refreq[6]+ coin10_refreq[7]\n",
    "# here 5,6,7 are just the index number which reference to the probability of 4,5,6 respectively."
   ]
  },
  {
   "cell_type": "markdown",
   "id": "18d105e0",
   "metadata": {},
   "source": [
    "As you can see that both result are same. which show the probabilty of having 4 or 5 or 6 head on 10 train of tossing a coin."
   ]
  },
  {
   "cell_type": "code",
   "execution_count": null,
   "id": "4c6da599",
   "metadata": {},
   "outputs": [],
   "source": []
  },
  {
   "cell_type": "markdown",
   "id": "938f54a4",
   "metadata": {},
   "source": [
    "____\n",
    "___"
   ]
  },
  {
   "cell_type": "markdown",
   "id": "f6f918fd",
   "metadata": {},
   "source": [
    "### Poisson Distribution\n",
    "\n",
    "Consider a situation in which the number of events is very large and the probability of success is very small: for example the number of alpha particles emitted by a radioactive substance entering a particular region in a given short time interval.\n",
    "\n",
    "* Note that the number of emiited alpha particles is very high but only a few paritcles are transmitted through the region in a given short time interval.\n",
    "\n",
    "* Some other examples where poisson distributions are useful are the number of flu cases in a country within one year, the nuymber of tropical stroms within a given area in one year, or the number of bacteria found in a biological investigation.\n",
    "\n",
    "\n",
    "**Defination:** \n",
    "\n",
    "A discrete random variable $X$ is said to follow a poisson distribution with parameter $\\lambda>0$ if its PMF is given by\n",
    "\n",
    "$$P(X = x) = \\frac {\\lambda^x}{x!} e^{-\\lambda} \\qquad (x\\text { = 0,1,2,3,......)}  $$\n",
    "\n",
    "* Note in this above equation $\\lambda$ refer to the mean of the random sample.\n"
   ]
  },
  {
   "cell_type": "markdown",
   "id": "26606fbe",
   "metadata": {},
   "source": [
    "***Example: 1*** \n",
    "\n",
    "Suppose a country experiences $X = 4$ tropical storms on average per\n",
    "year. Then the probability of suffering from only two tropical storms is obtained by\n",
    "using the probability distribution."
   ]
  },
  {
   "cell_type": "markdown",
   "id": "649b7a8a",
   "metadata": {},
   "source": [
    "* We can solve this kind of question by using the Poisson distribution.\n",
    "* First of all we need to calculate the mean of the sample (in this which is already is given)\n",
    "* Now we need to compute the probability for exactly $X=2$.\n",
    "\n",
    "First we will calculate the probability of X=2 by using the formula then we will calculate probability with random sample generated by poisson distribution."
   ]
  },
  {
   "cell_type": "markdown",
   "id": "fb53b324",
   "metadata": {},
   "source": [
    "**1. By using Formula**"
   ]
  },
  {
   "cell_type": "code",
   "execution_count": 157,
   "id": "c846818a",
   "metadata": {},
   "outputs": [
    {
     "name": "stdout",
     "output_type": "stream",
     "text": [
      "[1] \"Probability of suffring from exactly 2 stroms =  0.146525\"\n"
     ]
    }
   ],
   "source": [
    "L=4 # L is for lambda which is mean of the sample\n",
    "x=2 # x is the value of the random variable for which we need to calculate the probability.\n",
    "\n",
    "# applying the formulla\n",
    "Px_2 = (L**x/factorial(x))*exp(-L)\n",
    "print(paste(\"Probability of suffring from exactly 2 stroms = \", round(Px_2,6)))"
   ]
  },
  {
   "cell_type": "markdown",
   "id": "91b979dd",
   "metadata": {},
   "source": [
    "**2. By using random sample**\n",
    "\n",
    "Now we will compute this probability by using randomly generated numbers which follows a poisson distribution."
   ]
  },
  {
   "cell_type": "code",
   "execution_count": 171,
   "id": "0c099dbe",
   "metadata": {},
   "outputs": [],
   "source": [
    "# now first of all we need to genereate a random sample by uisng the poisson distribution with rpois function.\n",
    "\n",
    "# rpois need to arguments, one is number random value and another is value of the lambda\n",
    "\n",
    "Stroms = rpois(1000, lambda = 4)"
   ]
  },
  {
   "cell_type": "markdown",
   "id": "e264ac32",
   "metadata": {},
   "source": [
    "Now we will plot this Stroms data by using the kernel density function"
   ]
  },
  {
   "cell_type": "code",
   "execution_count": 177,
   "id": "23dea5ed",
   "metadata": {},
   "outputs": [
    {
     "data": {
      "image/png": "[encoded data removed]",
      "text/plain": [
       "Plot with title \"Poisson Distribution of Probability with lambda = 4\""
      ]
     },
     "metadata": {},
     "output_type": "display_data"
    }
   ],
   "source": [
    "# plotting the poisson distribution with band width 0.5. which will smooth the curve.\n",
    "plot(density(Stroms, bw=0.5), main=\"Poisson Distribution of Probability with lambda = 4\", xlab=\"Random Variable Values\",\n",
    "            ylab='Probability')\n",
    "\n",
    "abline(a=-1, b=0, h=-2, v=2, col='red', lwd=2)"
   ]
  },
  {
   "cell_type": "markdown",
   "id": "48e988ce",
   "metadata": {},
   "source": [
    "Now we will calculate the probability of getting the exactly 2 stroms by using the ppois function. by using the relation \n",
    "\n",
    "$$P(X = a_n) = P(X \\leq a_n) - P(X \\leq a_{n-1})$$"
   ]
  },
  {
   "cell_type": "code",
   "execution_count": 184,
   "id": "b3a7b916",
   "metadata": {},
   "outputs": [
    {
     "data": {
      "text/html": [
       "0.146525111109873"
      ],
      "text/latex": [
       "0.146525111109873"
      ],
      "text/markdown": [
       "0.146525111109873"
      ],
      "text/plain": [
       "[1] 0.1465251"
      ]
     },
     "metadata": {},
     "output_type": "display_data"
    }
   ],
   "source": [
    "# probability of suffering from exactly 2 stroms.\n",
    "ppois(2, lambda = 4) - ppois(1,lambda=4)"
   ]
  },
  {
   "cell_type": "code",
   "execution_count": 185,
   "id": "6e7d697b",
   "metadata": {},
   "outputs": [
    {
     "data": {
      "text/html": [
       "0.146525111109873"
      ],
      "text/latex": [
       "0.146525111109873"
      ],
      "text/markdown": [
       "0.146525111109873"
      ],
      "text/plain": [
       "[1] 0.1465251"
      ]
     },
     "metadata": {},
     "output_type": "display_data"
    }
   ],
   "source": [
    "# above result can be obtaind by uisng the density funciton of poisson distribution.\n",
    "dpois(2,4)"
   ]
  },
  {
   "cell_type": "markdown",
   "id": "f6919960-a53f-4c88-aeba-5174de04feda",
   "metadata": {},
   "source": [
    "____\n",
    "____"
   ]
  },
  {
   "cell_type": "markdown",
   "id": "df7ecff8-2eb6-4317-9008-39419e15d093",
   "metadata": {},
   "source": [
    "### Multinomial Distribution\n",
    "\n",
    "We now consider random experiments where $k$ distinct or disjoint events $A_1, A_2, ....., A_k$ respectively, with restriction $\\Sigma^{k}_{j=1}p_j=1$.\n",
    "\n",
    "* For Example: if eight parties compete in a political election, we may be interested in the probability that a person votes for partiy $A_j, j=1,2,3,4,...,8$.\n",
    "\n",
    "* Similarliy one might be interested in the probability whether tuberculosis is detected in the lungs $(A_1)$, in other organs $(A_2)$ or both $(A_3)$.\n",
    "\n",
    "* Practically, we often use the multinomial distribution to model the distribution of categorical variables. This can be interpreted as a generalization of the bionmial distribution (where only two distinct event can occur) to the situation where more than two events or outcomes can occur. if the experiment is repeated n times independently, we are interested in the probability that\n",
    "\n",
    "    * $A_1$ occurs $n_1$-times, $A_2$ occurs $n_2$-times, . . . , $A_k$ occurs $n_k$-times with $\\Sigma^{k}_{j=1} n_j = n$. Since several events can occur, the outcome of one (of the $n$) experiments is conveniently described by binary indicator variables. Let $V_i j, i = 1, . . . , n, j = 1, . . . , k, $denote the event “$A_j$ is observed in experiment i”, i.e.\n",
    "\n",
    "\n",
    "$$V_{ij} = \\begin{cases}\n",
    "            1 \\quad \\text {if} \\quad A_j \\quad \\text {occurs in experiment i} \\\\\n",
    "            0 \\quad \\text {if} \\quad A_j \\quad \\text {does not occurs in experiment i}\n",
    "    \\end{cases}$$\n",
    "    \n",
    "with probability $P(V_{ij}=1) = p_j, j=1,2,3,...,k$, then the outcomes of one experiment is a vector of length k,\n",
    "\n",
    "$$V_i = (v_{i1},.....,v_{ij},.......,v_{ik}) = (0,......,1,.....,0),$$\n",
    "\n",
    "with “1” being present in only one position, i.e. in position $j$, if $A_j$  occurs in experiment i. Now, define (for each j = 1, . . . , k) $X_j = \\Sigma^{n}_{i=1} V_{ij} $. Then, $X _j$ is counting\n",
    "how often event $A_j$ was observed in the n independent experiments (i.e. how often\n",
    "V$_{ij}$ was 1 in the $n$ experiments).\n",
    "\n",
    "\n",
    "**Definition:**\n",
    "\n",
    "The ranodm vector $X = (X_1, X_2,.....,X_k)$ is said to follow multnomial distribution if its PMF is given as \n",
    "\n",
    "$$P(X_1=n_1, X_2=n_2,....,X_k=n_k) = \\frac {n!}{n_1!n_2!....n_k!}*{P^{n_1}_{1}P^{n_2}_{2}....P^{n_k}_{k}}$$\n",
    "\n",
    "with the restrictions $\\Sigma^{k}_{j=1}n_j = n \\text { and } \\Sigma^{k}_{j=1}p_j = 1$. we also write $X \\sim M(n; p_1, ...,p_k)$. The mean of $X$ is the (Compenent-wise) vector \n",
    "    \n",
    "$$E(X) = (E(X_1), E(X_2),....,E(X_k)) = (np_1,np_2,....,np_k)$$"
   ]
  },
  {
   "cell_type": "markdown",
   "id": "25a8802d-2aa9-4301-80fe-14301722a0be",
   "metadata": {},
   "source": [
    "The $(i,j)th$ element of the covariance matrix V(X) is \n",
    "\n",
    "$$Cov(X_i, X_j) = \\begin {cases}\n",
    "            np_i(1-p_i) \\quad \\text { if } i=j \\\\\n",
    "            -np_ip_j \\qquad \\text { if } i \\neq j\n",
    "        \\end{cases}$$"
   ]
  },
  {
   "cell_type": "markdown",
   "id": "9eb92481-99f4-471e-b1a9-331005d96d60",
   "metadata": {},
   "source": [
    "***Remark:*** Die to the restriction that $\\Sigma^{k}_{j=1}n_j = \\Sigma^{k}_{j=1}X_j =n, X_1, X_2,...,X_k$are not stochastically independent which is reflected by the negative covariance. This is also intuitively clear: if on $X_j$ gets higher, another $X_{j'}, i \\neq j$, has to become lower to satisfy the restrictions."
   ]
  },
  {
   "cell_type": "markdown",
   "id": "db4b16b6-26c6-4911-aba7-f4ebc3abda41",
   "metadata": {},
   "source": [
    "We use the multinomial distribution to describe the randomness of categorical variables. Suppose we are interested in the cariable \"poltical party\" there might be eight political parties, and we could thus summarize this variable by eight binary variables, each of them describing the event of party $A_j, j=1,2,...,8$ being voted for. in this sense, $X= (X_1, X_2,...,X_8)$ follow a multinomial distribution."
   ]
  },
  {
   "cell_type": "markdown",
   "id": "28a643fb-0580-4089-9d83-56943e793fe3",
   "metadata": {},
   "source": [
    "___\n",
    "\n",
    "**Example:** Consider a simple example of the urn model. The urn contains 50\n",
    "balls of three colours: 25 red balls, 15 white balls, and 10 black balls. The balls are\n",
    "drawn from the urn with replacement. The balls are placed back into the urn after\n",
    "every draw, which means the draws are independent. Therefore, the probability of\n",
    "drawing a red ball in every draw is $p_1 = \\frac {50}{25} = 0.5.$ Analogously, $p_2 = 0.3$ (for white\n",
    "balls) and $p_3 = 0.2$ (for black balls). Consider n = 4 draws. The probability of the\n",
    "random event of drawing “2 red balls, 1 white ball, and 1 black ball” is:"
   ]
  },
  {
   "cell_type": "markdown",
   "id": "ed20e0f6-f06a-475b-a02a-524f2cba3ec3",
   "metadata": {},
   "source": [
    "To caculate this we will use the `dmultinomial` function to calculate the probability of the multinomial distribution."
   ]
  },
  {
   "cell_type": "code",
   "execution_count": 1,
   "id": "4ff75bc6-dc04-4899-a4d9-7b85886830ea",
   "metadata": {},
   "outputs": [
    {
     "data": {
      "text/html": [
       "0.18"
      ],
      "text/latex": [
       "0.18"
      ],
      "text/markdown": [
       "0.18"
      ],
      "text/plain": [
       "[1] 0.18"
      ]
     },
     "metadata": {},
     "output_type": "display_data"
    }
   ],
   "source": [
    "dmultinom(c(2,1,1), prob=c(0.5, 0.3, 0.2))"
   ]
  },
  {
   "cell_type": "markdown",
   "id": "ea1adaae-12e0-41e9-b792-a24eca126a1a",
   "metadata": {},
   "source": [
    "Here in this above code the first argument contains the value of the random variable $X$ and second argument contains the individual probability of random variable values.\n",
    "\n",
    "$$P(X_1=2, X_2=1, X_3=1) $$"
   ]
  },
  {
   "cell_type": "markdown",
   "id": "bb1c9c38-4559-42f6-874e-79737fe81e79",
   "metadata": {},
   "source": [
    "___\n",
    "___"
   ]
  },
  {
   "cell_type": "markdown",
   "id": "fa5ffe5c-be8a-406b-8ff6-51f2818231ee",
   "metadata": {},
   "source": [
    "### Geomatric Dostribution\n",
    "\n",
    "Consider a situation in which we are interested in determining how many independent Bernoulli trials are needed until the event of interest occurs for the first time. For instance, we may be interested in how many tickets to by in a ragffle until we win for the first time, or how many different drugs to try to successfully tackle a severe migraine, etc. The geometric distribution can be used to determine the probability that the event of interest happens at the $k_{th}$ trial for the first time."
   ]
  },
  {
   "cell_type": "markdown",
   "id": "e699de67-12a6-4efd-b60f-c07f42cd67de",
   "metadata": {},
   "source": [
    "**Defination:** A discrete random ariable X is said to follow a geometric distribution with parameter p if its PMF is given by\n",
    "\n",
    "$$P(X=k) = p(1-p)^{k-1}, \\quad k=1,2,3.....$$\n",
    "\n",
    "The mean (expectation) and variance are given by.\n",
    "\n",
    "$$E(X) = \\frac {1}{p}\\\\ Var(X) = \\frac {1}{p}(\\frac{1}{p-1})$$"
   ]
  },
  {
   "cell_type": "markdown",
   "id": "71418e2b-be86-44fb-8a4d-8e8ada18bff1",
   "metadata": {},
   "source": [
    "**Example:** Let us consider an experiment where a coin is tossed until “head” is\n",
    "obtained for the first time. The probability of getting a head is p = 0.5 for each toss."
   ]
  },
  {
   "cell_type": "markdown",
   "id": "894276ef-0757-4ed0-909f-053705e7ffcf",
   "metadata": {},
   "source": [
    "Now we will calculate the probability of getting head in tossing coin upto 4 times. we will use the function `dgeom` which stands for PDF/PMF function of the geomatric distribution if we provide it a single value instead of the vector of value it will give us the probability of that vaule.  "
   ]
  },
  {
   "cell_type": "code",
   "execution_count": 6,
   "id": "e8d7cf45-7fae-4cf2-a32a-f08dc4d34545",
   "metadata": {},
   "outputs": [
    {
     "name": "stdout",
     "output_type": "stream",
     "text": [
      "[1] \"Probability of getting head on 1 tiral : 0.5\"\n",
      "[1] \"Probability of getting head on 2 tiral : 0.25\"\n",
      "[1] \"Probability of getting head on 3 tiral : 0.125\"\n",
      "[1] \"Probability of getting head on 4 tiral : 0.0625\"\n"
     ]
    }
   ],
   "source": [
    "print(paste(\"Probability of getting head on 1 tiral :\", dgeom(0, 0.5)))\n",
    "print(paste(\"Probability of getting head on 2 tiral :\", dgeom(1,0.5)))\n",
    "print(paste(\"Probability of getting head on 3 tiral :\", dgeom(2,0.5)))\n",
    "print(paste(\"Probability of getting head on 4 tiral :\", dgeom(3,0.5)))"
   ]
  },
  {
   "cell_type": "markdown",
   "id": "e83822cf-b148-4d31-9323-99acd4c5d566",
   "metadata": {},
   "source": [
    "Note here we need to define the number of faliure befor getting the success so here 0,1,2,3 are the number of faliure in number of trials. So in R we need to specify $k-1$ in the degom function rather than $k$."
   ]
  },
  {
   "cell_type": "markdown",
   "id": "75ea9d88-ff58-4b85-ad57-ab33a554cf2c",
   "metadata": {},
   "source": [
    "____\n",
    "____"
   ]
  },
  {
   "cell_type": "markdown",
   "id": "5b81a0be-66ec-4f5c-90fd-27e3d971a564",
   "metadata": {},
   "source": [
    "### Hypergeometric Distribution\n",
    "\n",
    "Consider an urn with we randomly draw n balls without replacement, $M$ white balls, $N-M$ black balls and we have total $N$ balls.\n",
    "\n",
    "we do not place a ball back into the urn once it is derawn. The order in which the balls are drawn is assumed to be of no interest; only the number of drawn white balls is of relevance. we define the following random variable.\n",
    "\n",
    "$$X: \\quad \\text {\"number if white balls } (x) \\text { mong the } n \\text { drawn balls\"}$$\n",
    "\n",
    "* To be more precise, among the n drawn balls, $x$ are white and $n-x$ are black.\n",
    "* There are $M \\choose x$ jpossibilities to choos $x$ white balls from the total of M white balls, and analogouslyu, ther are ${N-M}\\choose {n-x}$ possibilities to choose $(n-x)$ black balls from the total of $N-M$ black balls.\n",
    "\n",
    "* In Total we draw n balls odut of N balls. \n",
    "* The number of combinations for all possible events is $N \\choose n$.\n",
    "* The number of faviourable events is $M \\choose x$${N-M}\\choose {n-x}$ because we draw, independent of each other, $x$ out of $M$ balls and $n-x$ out of $N-M$ balls.\n",
    "\n",
    "The PMF of the Hypergeomatric distribution:\n",
    "\n",
    "$$P(X=x) = \\frac {{m\\choose x} {N-M \\choose n-x}} {N \\choose n}$$"
   ]
  },
  {
   "cell_type": "markdown",
   "id": "0b2d6491-c262-4db0-9c40-f220d62b6af1",
   "metadata": {},
   "source": [
    "**Defination:** A random variable X is said to follow a hypergeometric distribution with parameters $n,M,N$ and denoted by $X \\sim H(n,M,N)$ which follow the above PMF."
   ]
  },
  {
   "cell_type": "markdown",
   "id": "7660e0c6-79a7-49c3-a720-fe29d086bfd8",
   "metadata": {},
   "source": [
    "___"
   ]
  },
  {
   "cell_type": "markdown",
   "id": "be3bd221-c023-433d-ac1f-79a386923c64",
   "metadata": {},
   "source": [
    "**Example:** The German national lottery draws 6 out of 49 balls from a rotating\n",
    "bowl. Each ball is associated with a number between 1 and 49. A simple bet is to\n",
    "choose 6 numbers between 1 and 49. If 3 or more chosen numbers correspond to\n",
    "the numbers drawn in the lottery, then one wins a certain amount of money. What\n",
    "is the probability of choosing 4 correct numbers? We can utilize the hypergeometric\n",
    "distribution with x = 4, M = 6, N = 49, and n = 6 to calculate such probabilities.\n",
    "The interpretation is that we “draw” (i.e. bet on) 4 out of the 6 winning balls and\n",
    "“draw” (i.e. bet on) another 2 out of the remaining 43 (49 − 6) losing balls. In total,\n",
    "we draw 6 out of 49 balls. Calculating the number of the favourable combinations and\n",
    "all possible combinations leads to the application of the hypergeometric distribution\n",
    "as follows:"
   ]
  },
  {
   "cell_type": "markdown",
   "id": "a26cba64-165a-49cf-87ca-c5d069ec5930",
   "metadata": {},
   "source": [
    "It can be calculated by using the `dhyper` fucntion which stands for the density function of hypergeometic distribution."
   ]
  },
  {
   "cell_type": "code",
   "execution_count": 8,
   "id": "fb3f26cc-b2a6-4269-b53b-3d547560e442",
   "metadata": {},
   "outputs": [
    {
     "data": {
      "text/html": [
       "0.000968619724401408"
      ],
      "text/latex": [
       "0.000968619724401408"
      ],
      "text/markdown": [
       "0.000968619724401408"
      ],
      "text/plain": [
       "[1] 0.0009686197"
      ]
     },
     "metadata": {},
     "output_type": "display_data"
    }
   ],
   "source": [
    "# calculating the probability of drawing 4 out of 6 winning balls, \n",
    "# there are total 49 balls, 6 are winning are remaining balls are not winning balls\n",
    "# so we need to calculate that what is the probability of winning the match with having 4 winning balls.\n",
    "\n",
    "# so we will use dhyper() function with parameters dhyper(x,M,N-M, n)\n",
    "\n",
    "# here x is the value of random variable X=4,\n",
    "# M is the total number of winning balls.\n",
    "# N-M is the remaining balls.\n",
    "# n is the number of total number of balls are going to be draw\n",
    "\n",
    "dhyper(4,6,43,6)"
   ]
  },
  {
   "cell_type": "markdown",
   "id": "c3c57f6b-ed08-4300-b73f-52362c7e0a69",
   "metadata": {},
   "source": [
    "We can generate random number by using the `rhyper` function and then we will plot to check the curve of the distribution."
   ]
  },
  {
   "cell_type": "markdown",
   "id": "100c9f42-568d-4123-9415-d500f3082095",
   "metadata": {},
   "source": [
    "***Generating hypergeometric distribution random sample***"
   ]
  },
  {
   "cell_type": "code",
   "execution_count": 78,
   "id": "12f673da-c314-4ef5-9048-e16e71632d65",
   "metadata": {},
   "outputs": [
    {
     "data": {
      "text/plain": [
       "hyper_dist\n",
       "   0    1    2    3    4    5 \n",
       "4363 4119 1334  179    4    1 "
      ]
     },
     "metadata": {},
     "output_type": "display_data"
    }
   ],
   "source": [
    "# here we need to pass 4 parameters.\n",
    "# rhyper(nn,m,n,k)\n",
    "# m \tthe number of white balls in the urn.\n",
    "# n \t the number of black balls in the urn.\n",
    "# k \t the number of balls drawn from the urn.\n",
    "# nn\t number of observations. If length(nn) > 1, the length is taken to be the number required.\n",
    "\n",
    "hyper_dist = rhyper(10000,6,43,6)\n",
    "# here we are making 1000 observation from which we will see the white balls drawn from the total balls (number of white + black balls)\n",
    "table(hyper_dist)"
   ]
  },
  {
   "cell_type": "code",
   "execution_count": 79,
   "id": "35dbafbd-9c4c-42e8-aa86-d33a191803f2",
   "metadata": {},
   "outputs": [
    {
     "data": {
      "image/png": "[encoded data removed]",
      "text/plain": [
       "plot without title"
      ]
     },
     "metadata": {},
     "output_type": "display_data"
    }
   ],
   "source": [
    "# Now we will make a histogram to check the absolute frequency of each event\n",
    "hresult = barplot(table(hyper_dist))"
   ]
  },
  {
   "cell_type": "markdown",
   "id": "0cbea1c4-9cc3-490f-af20-7f4158122b71",
   "metadata": {},
   "source": [
    "We can also plot a histogram with relative frequency which will refer to the probability of the event."
   ]
  },
  {
   "cell_type": "code",
   "execution_count": 80,
   "id": "3803ed17-0922-4fcf-80b7-746e0232fd7c",
   "metadata": {},
   "outputs": [
    {
     "data": {
      "text/plain": [
       "hyper_dist\n",
       "    0     1     2     3     4     5 \n",
       "4.363 4.119 1.334 0.179 0.004 0.001 "
      ]
     },
     "metadata": {},
     "output_type": "display_data"
    }
   ],
   "source": [
    "refreq = table(hyper_dist)/1000\n",
    "refreq"
   ]
  },
  {
   "cell_type": "code",
   "execution_count": 81,
   "id": "6a043b3a-235e-432e-811a-834849327ee6",
   "metadata": {},
   "outputs": [
    {
     "data": {
      "image/png": "[encoded data removed]",
      "text/plain": [
       "plot without title"
      ]
     },
     "metadata": {},
     "output_type": "display_data"
    }
   ],
   "source": [
    "# Now we can use the barplot to plot the bars for each relative frequency related to their events.\n",
    "barplot(refreq, width=0.5)"
   ]
  },
  {
   "cell_type": "markdown",
   "id": "983614f3-9cf3-4c05-ba0a-73ee062c8bc8",
   "metadata": {},
   "source": [
    "`Conclusion:` From above result we can make some statement, Please note that all the events are shown as white balls draws from the all ball sample.\n",
    " \n",
    "* There are high probability that we will get 0 white ball or 1 white it is approximately in b/w 42% to 45% for each event.\n",
    "* as we go to win 2 or more than 2 the probability of winning become very low, as shown in the figure that probability of winning the match with 4 with ball is almost very low. "
   ]
  },
  {
   "cell_type": "code",
   "execution_count": 86,
   "id": "6c5f4c2f-2ed3-4129-83da-986dd86b7169",
   "metadata": {},
   "outputs": [
    {
     "data": {
      "image/png": "[encoded data removed]",
      "text/plain": [
       "Plot with title \"Hyper Geometric Distribution\""
      ]
     },
     "metadata": {},
     "output_type": "display_data"
    }
   ],
   "source": [
    "plot(density(hyper_dist, bw=0.6), xlim = c(0,5), lwd=2, col=4, main=\"Hyper Geometric Distribution\", xlab=\"Number of white Balls\",\n",
    "    ylab='Probability')\n",
    "# b2=0.6 to make the curve smoother ."
   ]
  },
  {
   "cell_type": "markdown",
   "id": "ac719cd1-b7d5-4204-b8b9-afbed3ea97fe",
   "metadata": {},
   "source": [
    "___\n",
    "___"
   ]
  },
  {
   "cell_type": "markdown",
   "id": "2f5b5706-ef44-4fe2-b88e-e9b60bea98dd",
   "metadata": {},
   "source": [
    "## Standard Continuous Distribution"
   ]
  },
  {
   "cell_type": "markdown",
   "id": "a5069752-91d1-48d0-b73b-14dbd55af949",
   "metadata": {},
   "source": [
    "Now we will discuss some standard probability distributions of absolute continuous random variables. Characteristics of continuous random variables are that the number of possible outcomes in uncountably infinite and that they have a continuous distribution function F(x).\n",
    "\n",
    "* It Follows that the point probabilities are zero. i.g. $P(X=x) = 0$\n",
    "* We assume a unique densitey function f exists, such that $F(x) = \\int^{x}_{-\\infty} f(t)dt $"
   ]
  },
  {
   "cell_type": "markdown",
   "id": "b425a1e2-00cb-45a3-9034-d7275614a484",
   "metadata": {},
   "source": [
    "### Continuous Uniform Distribution\n",
    "\n",
    "A continuous analogue to the discrete uniform distribution is the continuous uniform distribution on a closed interval in real number.\n",
    "\n",
    "**Defination:** \n",
    "\n",
    "A continuous random variable X is said to follow a (continuous) uniform distribution in the interval [a, b], i.e. $X\\sim U(a,b)$ if its probability density function (PDF) is given by \n",
    "\n",
    "$$f(x) = \\begin{cases} \n",
    "        \\frac {1}{b-a} \\quad \\text { if } a\\leq x \\leq b \\quad (a < b)\\\\\n",
    "        0 \\quad \\text {otherwise}\n",
    "        \\end{cases}$$\n",
    "        \n",
    "The mean and Variance of $X\\sim U(a,b)$ are.\n",
    "\n",
    "$$E(X) = \\frac {a+b}{2} \\\\ \n",
    "Var(X) = \\frac {(b-a)^2}{12}$$"
   ]
  },
  {
   "cell_type": "markdown",
   "id": "65238f9f-2b85-4875-9dfa-b52d06731e81",
   "metadata": {},
   "source": [
    "Example 8.2.1 Suppose a train arrives at a subway station regularly every 10 min.\n",
    "If a passenger arrives at the station without knowing the timetable, then the waiting\n",
    "time to catch the train is uniformly distributed with density\n",
    "\n",
    "\n",
    "$$f(x) = \\begin{cases} \n",
    "        \\frac {1}{10} \\quad \\text { if } 0\\leq x \\leq 10 \\\\\n",
    "        0 \\quad \\text {otherwise}\n",
    "        \\end{cases}$$\n",
    "        \n",
    "The “average” waiting time is $E(X) = (10 + 0)/2 = 5 \\text { min}$. The probability of waiting for the train for less than 3 min is obviously 0.3 (or 30 %) which can be calculated\n",
    "in R using the `punif(x,a,b)` command"
   ]
  },
  {
   "cell_type": "code",
   "execution_count": 90,
   "id": "07510b10-6996-4ce2-ab45-ffefa8d0a96a",
   "metadata": {},
   "outputs": [
    {
     "name": "stdout",
     "output_type": "stream",
     "text": [
      "[1] \"The probability of wating time less than 3 min :  0.3\"\n"
     ]
    }
   ],
   "source": [
    "print(paste('The probability of wating time less than 3 min : ',  punif(3,0,10)))"
   ]
  },
  {
   "cell_type": "markdown",
   "id": "8fc4d17e-5fad-4ff9-83e5-9da5a2453e4c",
   "metadata": {},
   "source": [
    "* Here 3 is used for to calculate the probability of waiting for the train fro less than 3 min.\n",
    "* 0 is the minimum waiting time for train.\n",
    "* 10 is the maximum waiting time for train.\n"
   ]
  },
  {
   "cell_type": "markdown",
   "id": "1c037eac-6385-495a-b26e-6b4578188963",
   "metadata": {},
   "source": [
    "___\n",
    "___"
   ]
  },
  {
   "cell_type": "markdown",
   "id": "f2db2746-18a8-4097-be32-c00511e2b9a1",
   "metadata": {},
   "source": [
    "### Normal Distribution\n",
    "\n",
    "the normal idstribution is one of the most important distributions used in statistics. The Normal distribution is also called as Gaussion Distribution."
   ]
  },
  {
   "cell_type": "markdown",
   "id": "9a2b2d4a-5d2e-464b-bc66-335cfdd1af64",
   "metadata": {},
   "source": [
    "**Definition:** A random variable X is said to follow a normal distribution with parameters $\\mu$ and $\\sigma^2$ if its PDF is given by.\n",
    "\n",
    "$$f(x) = \\frac {1}{\\sigma^2 \\sqrt {2\\pi} }e^{-\\frac{(x-\\mu)^2}{2\\sigma^2}}; \\qquad -\\infty < x < \\infty, -\\infty < \\mu < \\infty, \\sigma^2 > 0$$\n",
    "\n",
    "Normal distribution is denoted as $X \\sim N(\\mu, \\sigma^2)$ where $\\mu$ and $\\sigma^2$ are the mean and Variance of the distribution.\n",
    "\n",
    "Mean and the Variance of the Distribution:\n",
    "    \n",
    "$$E(X) = \\mu \\\\ Var(X) = \\sigma^2$$"
   ]
  },
  {
   "cell_type": "markdown",
   "id": "a5e54cce-8558-42d8-9a40-9e3edf0643b0",
   "metadata": {},
   "source": [
    "`Note:` There is a very special case of the Normal distribution which is used in many application which is called standard distribution with its parameter $\\mu =  0$ and $\\sigma^2 = 1$, and it is denoted as $X \\sim N(0,1)$.\n",
    "\n",
    "The PDF of standard distribution is given by:\n",
    "\n",
    "$$\\phi (x) = \\frac {1}{\\sqrt{2\\pi}}e^{-\\frac{x^2}{2}}; \\qquad -\\infty < x < \\infty$$"
   ]
  },
  {
   "cell_type": "markdown",
   "id": "c337806c-01f3-44fb-adfd-ad4a12939723",
   "metadata": {},
   "source": [
    "**Note:** The difference b/w the Normal distribution and Standard Normal distribution is that Normal distribution relie on its two parameters $\\mu$ and $\\sigma^2$ whereas standard normal distribution relie only on a single variable $x$."
   ]
  },
  {
   "cell_type": "markdown",
   "id": "06462ff1-5c96-44cb-8933-f5469d020597",
   "metadata": {},
   "source": [
    "* The density of a normal distribution has its maximum at $x=\\mu$.\n",
    "* The density is also symmetric around $\\mu$.\n",
    "* The inflexion points of the density are at $\\mu-\\sigma$ and $\\mu+\\sigma$.\n",
    "* The lower $\\sigma$ indicates a higher concentration around the mean $\\mu$.\n",
    "* A higher $\\sigma$ indicates a flatter density.\n",
    "\n",
    "The cumulative distribution function of $X\\sim N(\\mu, \\sigma^2)$ is.\n",
    "\n",
    "$$f(x) = \\int^{a}_{-\\infty} \\phi(t)dt$$\n",
    "\n",
    "It is denoted as $\\Phi(x)$"
   ]
  },
  {
   "cell_type": "code",
   "execution_count": 103,
   "id": "64b03000-68fb-4855-baa6-b40b68d4c910",
   "metadata": {},
   "outputs": [
    {
     "data": {
      "image/png": "[encoded data removed]",
      "text/plain": [
       "Plot with title \"Normal Distribution \""
      ]
     },
     "metadata": {},
     "output_type": "display_data"
    }
   ],
   "source": [
    "plot(density(rnorm(100000, 10,5), bw=1), lwd=3, col=3, main='Normal Distribution ')"
   ]
  },
  {
   "cell_type": "markdown",
   "id": "1fa7eaf1-526b-436a-bf3b-201503186ad4",
   "metadata": {},
   "source": [
    "Above plot shows a normal distribution with $\\mu=10$ and $\\sigma^2 = 5$. each normal distribution will be similar in shape but it can be different in size, some of them are flat and some of them have a high altitude but they all have same shape."
   ]
  },
  {
   "cell_type": "markdown",
   "id": "23256839-a4ed-4d89-a190-0ae2e60ccd21",
   "metadata": {},
   "source": [
    "Now we will use a normal distribution used by seeing an example."
   ]
  },
  {
   "cell_type": "markdown",
   "id": "52860db4-3cbc-41a5-8fe8-95e39605114c",
   "metadata": {},
   "source": [
    "**Example:** An orange farmer sells his oranges in wooden boxes. The weights of\n",
    "the boxes vary and are assumed to be normally distributed with $μ = 15$ kg and $σ^2 =\n",
    "9/4kg^2$. The farmer wants to avoid customers being unsatisfied because the boxes are\n",
    "too low in weight. He therefore asks the following question: What is the probability\n",
    "that a box with a weight of less than 13 kg is sold?"
   ]
  },
  {
   "cell_type": "markdown",
   "id": "3643e34b-b6db-49eb-ab1a-42c33aefd660",
   "metadata": {},
   "source": [
    "`Task:` Calculate the probability that a box with a weight of less than 13 kg is sold by using both Normal Distribution and Standard Normal Distribution. "
   ]
  },
  {
   "cell_type": "markdown",
   "id": "3e4f9705-f604-40b6-ab8d-035f79d494ef",
   "metadata": {},
   "source": [
    "**Using Normal Distribution**\n",
    "\n",
    "First we will use the normal distribution. in this we need to specify all the parameters like $\\mu$ and $\\sigma^2$."
   ]
  },
  {
   "cell_type": "code",
   "execution_count": 105,
   "id": "d449e7cc-2e41-41e4-a41f-411c046da696",
   "metadata": {},
   "outputs": [
    {
     "name": "stdout",
     "output_type": "stream",
     "text": [
      "[1] \"Probability that a box with a weight of less than 13 kg will be sold :  0.0912112197258678\"\n"
     ]
    }
   ],
   "source": [
    "# Since we need to calculate for less equal to 13 kg , so we need to use pnorm function \n",
    "Px = pnorm(13, 15, sqrt(9/4))\n",
    "\n",
    "# First parameter is the value of X less equl 13 for which  we need to calculate the probability\n",
    "# 2nd and 3rd ard the parameters of the normal distribution.\n",
    "\n",
    "print(paste(\"Probability that a box with a weight of less than 13 kg will be sold : \", Px))"
   ]
  },
  {
   "cell_type": "markdown",
   "id": "5c8cdafe-5fad-4d27-8de2-6be6c91e5a97",
   "metadata": {},
   "source": [
    "**Using Standard Normal Distribution**\n",
    "\n",
    "To use the Standard Normal Distribution we need to first transform our normal distribution into a standard normal distribution and need to find out the value of $x \\text { or } z$ which is the parameter of the standard normal distribution $\\Phi(x/z)$.\n",
    "\n",
    "For that we need to use this formula:\n",
    "\n",
    "$$x/z = \\frac{X-\\mu}{\\sigma}$$"
   ]
  },
  {
   "cell_type": "code",
   "execution_count": 106,
   "id": "a7555f96-19f6-4db6-9ce5-243bc22c03e6",
   "metadata": {},
   "outputs": [
    {
     "data": {
      "text/html": [
       "-1.33333333333333"
      ],
      "text/latex": [
       "-1.33333333333333"
      ],
      "text/markdown": [
       "-1.33333333333333"
      ],
      "text/plain": [
       "[1] -1.333333"
      ]
     },
     "metadata": {},
     "output_type": "display_data"
    }
   ],
   "source": [
    "# here X = 13, mean = 15, Variance = 9/4\n",
    "x = (13-15)/sqrt(9/4)\n",
    "x"
   ]
  },
  {
   "cell_type": "code",
   "execution_count": 107,
   "id": "e7591ac5-1b7f-4598-98ee-27eb72476765",
   "metadata": {},
   "outputs": [
    {
     "data": {
      "text/html": [
       "0.0912112197258678"
      ],
      "text/latex": [
       "0.0912112197258678"
      ],
      "text/markdown": [
       "0.0912112197258678"
      ],
      "text/plain": [
       "[1] 0.09121122"
      ]
     },
     "metadata": {},
     "output_type": "display_data"
    }
   ],
   "source": [
    "# Now we have got the value of x which is the parameter of the standard normal distribution.\n",
    "pnorm(x)"
   ]
  },
  {
   "cell_type": "markdown",
   "id": "cfe69ed5-6eb7-4c72-9a82-a6b61219d2c5",
   "metadata": {},
   "source": [
    "`Note:` Here we didn't mention the mean and variance because they are already predefined or we can say that by default it calculate standrad normal distribution result if we dont't provide mean and variance value to the funciton."
   ]
  },
  {
   "cell_type": "markdown",
   "id": "3671c087-3c18-4f60-ba88-ce32e1d1fb2c",
   "metadata": {},
   "source": [
    "#### Distribution of Arithmatic mean\n",
    "\n",
    "Assume that a random variable X which is distributed as normally denoted as $X \\sim N(\\mu, \\sigma^2)$. Consider a random sample $X = (X_1, X_2,....,X_n)$ of independent and identicallyu distributed random variables $X_i$ with $X_i \\sim N(\\mu, \\sigma^2).$ Then the arithmatic mean of the random variables $\\bar{X} = \\Sigma^{n}_{i=1}X_i$ follows a normal distribution with mean."
   ]
  },
  {
   "cell_type": "markdown",
   "id": "dc63e165-6158-4c76-9923-5351a492f9c9",
   "metadata": {},
   "source": [
    "$$E(\\bar{X}) = \\frac{1}{n}\\Sigma^{n}_{i=1}E(X_i) = \\mu$$\n",
    "\n",
    "$$Var(\\bar{X}) = \\frac{1}{n^2}\\Sigma^{n}_{i=1}Var(X_i) = \\frac {\\sigma^2}{\\mu}$$\n",
    "\n",
    "Where $Cov(x_i, X_j) = 0$ for $i \\neq j$. and we get\n",
    "\n",
    "$$\\bar{X} = N(\\mu, \\frac {\\sigma^2}{n})$$"
   ]
  },
  {
   "cell_type": "markdown",
   "id": "e7a4f750-fbe6-437b-80d8-c5752c2d8549",
   "metadata": {},
   "source": [
    "`Remark:` Sum of normal random variables also follows a normal distribution.\n",
    "\n",
    "$$X_1 + X_2 \\sim N(\\mu_1 + \\mu_2, \\sigma^2_1 + \\sigma^2_2)$$"
   ]
  },
  {
   "cell_type": "markdown",
   "id": "92ec3e97-8561-43c8-a42b-8e41e0316602",
   "metadata": {},
   "source": [
    "`Note:` In general, it cannot be taken for granted taht the sum of two random variables follows the same distributions as the two variables temselves.\n",
    "\n",
    "for example, consider the sum of two independent uniform distributions with $X_1 \\sim U[0, 10]$ and $X_2 \\sim U[20, 30]$\n",
    " \n",
    "* It holds that $E(X_1 + X_2) = E(X_1) + E(X_2) $ and $ Var(X_1 + X_2) = Var(X_1) + Var(X_2)$, but $X_1 + X_2$ is obviously not uniformly distributed."
   ]
  },
  {
   "cell_type": "code",
   "execution_count": null,
   "id": "6441b486-b148-40f7-b3f5-b1979934fc28",
   "metadata": {},
   "outputs": [],
   "source": []
  }
 ],
 "metadata": {
  "kernelspec": {
   "display_name": "R",
   "language": "R",
   "name": "ir"
  },
  "language_info": {
   "codemirror_mode": "r",
   "file_extension": ".r",
   "mimetype": "text/x-r-source",
   "name": "R",
   "pygments_lexer": "r",
   "version": "3.6.1"
  }
 },
 "nbformat": 4,
 "nbformat_minor": 5
}
