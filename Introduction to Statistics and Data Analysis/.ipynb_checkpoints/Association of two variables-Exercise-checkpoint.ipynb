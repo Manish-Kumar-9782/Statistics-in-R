{
 "cells": [
  {
   "cell_type": "markdown",
   "id": "e25a0365-9caf-4786-9a96-92ccb85099bd",
   "metadata": {},
   "source": [
    "# Exercise: Association of two variables."
   ]
  },
  {
   "cell_type": "markdown",
   "id": "f869dc34-25d5-4e92-8edd-f08f0a06c2c5",
   "metadata": {},
   "source": [
    "## Exercise 1\n",
    "\n",
    "A newspaper asks two of its staff to review the coffee quality at different\n",
    "trendy cafés. The coffee can be rated on a scale from 1 (miserable) to 10 (excellent).\n",
    "The results of the two coffee enthusiasts X and Y are as follows:"
   ]
  },
  {
   "cell_type": "markdown",
   "id": "fab5a822-1215-4b3b-824c-574c38836208",
   "metadata": {},
   "source": [
    "|$Cafe {i}$|$x_i$|$y_i$|\n",
    "|----|-----|--|\n",
    "|1|3|6|\n",
    "|2|8|7|\n",
    "|3|7|10|\n",
    "|4|9|8|\n",
    "|5|5|4|"
   ]
  },
  {
   "cell_type": "markdown",
   "id": "b1cc6ead-c1cb-4be2-a1ca-b13405e74132",
   "metadata": {},
   "source": [
    "* (a) Calculate and interpret Spearman’s rank correlation coefficient.\n",
    "* (b) Does Spearman’s R differ depending on whether ranks are assigned in a decreasing or increasing order?\n",
    "* (c) Suppose the coffee can only be rated as either good (>5) or bad (≤5). Do the\n",
    "chances of a good rating differ between the two journalists?"
   ]
  },
  {
   "cell_type": "markdown",
   "id": "7f297607-55d7-4d72-81b2-51057624dae5",
   "metadata": {},
   "source": [
    "**Creating the above dataset for calculation**"
   ]
  },
  {
   "cell_type": "code",
   "execution_count": 10,
   "id": "bde152b2-8fe2-4d62-b281-1dc0fda93cb6",
   "metadata": {},
   "outputs": [
    {
     "data": {
      "text/html": [
       "<table>\n",
       "<thead><tr><th scope=col>Cafe_i</th><th scope=col>X</th><th scope=col>Y</th></tr></thead>\n",
       "<tbody>\n",
       "\t<tr><td>1 </td><td>3 </td><td> 6</td></tr>\n",
       "\t<tr><td>2 </td><td>8 </td><td> 7</td></tr>\n",
       "\t<tr><td>3 </td><td>7 </td><td>10</td></tr>\n",
       "\t<tr><td>4 </td><td>9 </td><td> 8</td></tr>\n",
       "\t<tr><td>5 </td><td>5 </td><td> 4</td></tr>\n",
       "</tbody>\n",
       "</table>\n"
      ],
      "text/latex": [
       "\\begin{tabular}{lll}\n",
       " Cafe\\_i & X & Y\\\\\n",
       "\\hline\n",
       "\t 1  & 3  &  6\\\\\n",
       "\t 2  & 8  &  7\\\\\n",
       "\t 3  & 7  & 10\\\\\n",
       "\t 4  & 9  &  8\\\\\n",
       "\t 5  & 5  &  4\\\\\n",
       "\\end{tabular}\n"
      ],
      "text/markdown": [
       "\n",
       "| Cafe_i | X | Y |\n",
       "|---|---|---|\n",
       "| 1  | 3  |  6 |\n",
       "| 2  | 8  |  7 |\n",
       "| 3  | 7  | 10 |\n",
       "| 4  | 9  |  8 |\n",
       "| 5  | 5  |  4 |\n",
       "\n"
      ],
      "text/plain": [
       "     Cafe_i X Y \n",
       "[1,] 1      3  6\n",
       "[2,] 2      8  7\n",
       "[3,] 3      7 10\n",
       "[4,] 4      9  8\n",
       "[5,] 5      5  4"
      ]
     },
     "metadata": {},
     "output_type": "display_data"
    }
   ],
   "source": [
    "Cafe_i = c(1:5)\n",
    "Cafe_X = c(3, 8, 7, 9, 5)\n",
    "Cafe_y = c(6, 7, 10, 8, 4)\n",
    "\n",
    "# Now we will bind them\n",
    "\n",
    "Cafe_data = cbind(Cafe_i, X=Cafe_X, Y =Cafe_y)\n",
    "Cafe_data"
   ]
  },
  {
   "cell_type": "markdown",
   "id": "44dc0240-546e-4688-9fd7-9a088ecf7398",
   "metadata": {},
   "source": [
    "### Calculation and interpretion of Spearman's rank correlation coefficient"
   ]
  },
  {
   "cell_type": "code",
   "execution_count": 11,
   "id": "741c50f6-29e8-43d4-a31e-f486e4b03a75",
   "metadata": {},
   "outputs": [
    {
     "data": {
      "text/html": [
       "0.6"
      ],
      "text/latex": [
       "0.6"
      ],
      "text/markdown": [
       "0.6"
      ],
      "text/plain": [
       "[1] 0.6"
      ]
     },
     "metadata": {},
     "output_type": "display_data"
    }
   ],
   "source": [
    "# Now to calulate the Spearman's rank correlation coefficient we need to use spearman method on cor() function.\n",
    "# Note that this is an ordinal data so we can apply the rank correlation \n",
    "\n",
    "cor(Cafe_X, Cafe_y, method='spearman')"
   ]
  },
  {
   "cell_type": "markdown",
   "id": "a877530c-1299-4eaf-8571-3726283177db",
   "metadata": {},
   "source": [
    "`Interpretation:` From the above result we can say that there is a positive correlation b/w the X and Y variable with a moderate strongness.\n",
    "\n",
    "* we can say that as X increases Y will also increases. "
   ]
  },
  {
   "cell_type": "markdown",
   "id": "9ee2ba56-5a33-4b31-91e6-b6a9b94af8d1",
   "metadata": {},
   "source": [
    "### Spearman's rank correlation with different assign order."
   ]
  },
  {
   "cell_type": "code",
   "execution_count": 12,
   "id": "2c5215de-78a8-4172-858f-4efd0012a73f",
   "metadata": {},
   "outputs": [
    {
     "data": {
      "text/html": [
       "<table>\n",
       "<thead><tr><th scope=col>Cafe_i</th><th scope=col>X</th><th scope=col>Y</th></tr></thead>\n",
       "<tbody>\n",
       "\t<tr><td>1 </td><td>3 </td><td> 6</td></tr>\n",
       "\t<tr><td>5 </td><td>5 </td><td> 4</td></tr>\n",
       "\t<tr><td>3 </td><td>7 </td><td>10</td></tr>\n",
       "\t<tr><td>2 </td><td>8 </td><td> 7</td></tr>\n",
       "\t<tr><td>4 </td><td>9 </td><td> 8</td></tr>\n",
       "</tbody>\n",
       "</table>\n"
      ],
      "text/latex": [
       "\\begin{tabular}{lll}\n",
       " Cafe\\_i & X & Y\\\\\n",
       "\\hline\n",
       "\t 1  & 3  &  6\\\\\n",
       "\t 5  & 5  &  4\\\\\n",
       "\t 3  & 7  & 10\\\\\n",
       "\t 2  & 8  &  7\\\\\n",
       "\t 4  & 9  &  8\\\\\n",
       "\\end{tabular}\n"
      ],
      "text/markdown": [
       "\n",
       "| Cafe_i | X | Y |\n",
       "|---|---|---|\n",
       "| 1  | 3  |  6 |\n",
       "| 5  | 5  |  4 |\n",
       "| 3  | 7  | 10 |\n",
       "| 2  | 8  |  7 |\n",
       "| 4  | 9  |  8 |\n",
       "\n"
      ],
      "text/plain": [
       "     Cafe_i X Y \n",
       "[1,] 1      3  6\n",
       "[2,] 5      5  4\n",
       "[3,] 3      7 10\n",
       "[4,] 2      8  7\n",
       "[5,] 4      9  8"
      ]
     },
     "metadata": {},
     "output_type": "display_data"
    }
   ],
   "source": [
    "Cafe_data = Cafe_data[order(Cafe_data[,'X']),]\n",
    "Cafe_data"
   ]
  },
  {
   "cell_type": "code",
   "execution_count": 13,
   "id": "ebe6d3b8-cb53-45ee-9b98-6ff1198dfdf7",
   "metadata": {},
   "outputs": [],
   "source": [
    "CafeX = Cafe_data[,\"X\"]\n",
    "CafeY = Cafe_data[,\"Y\"]"
   ]
  },
  {
   "cell_type": "code",
   "execution_count": 14,
   "id": "fa9a0b21-f4f7-4b5c-8f5d-28046c7c8ff3",
   "metadata": {},
   "outputs": [
    {
     "name": "stdout",
     "output_type": "stream",
     "text": [
      "[1] \"Spearman's rank correlation on the accending orderd data = 0.6\"\n"
     ]
    }
   ],
   "source": [
    "# Now we will calculate the spearman's rank correlation on the accending ordered data.\n",
    "result = cor(CafeX, CafeY, method='spearman')\n",
    "print(paste(\"Spearman's rank correlation on the accending orderd data =\", result))\n"
   ]
  },
  {
   "cell_type": "code",
   "execution_count": 15,
   "id": "a8e28726-be83-434a-8a3d-a113e4a3bd67",
   "metadata": {},
   "outputs": [
    {
     "data": {
      "text/html": [
       "<table>\n",
       "<thead><tr><th scope=col>Cafe_i</th><th scope=col>X</th><th scope=col>Y</th></tr></thead>\n",
       "<tbody>\n",
       "\t<tr><td>4 </td><td>9 </td><td> 8</td></tr>\n",
       "\t<tr><td>2 </td><td>8 </td><td> 7</td></tr>\n",
       "\t<tr><td>3 </td><td>7 </td><td>10</td></tr>\n",
       "\t<tr><td>5 </td><td>5 </td><td> 4</td></tr>\n",
       "\t<tr><td>1 </td><td>3 </td><td> 6</td></tr>\n",
       "</tbody>\n",
       "</table>\n"
      ],
      "text/latex": [
       "\\begin{tabular}{lll}\n",
       " Cafe\\_i & X & Y\\\\\n",
       "\\hline\n",
       "\t 4  & 9  &  8\\\\\n",
       "\t 2  & 8  &  7\\\\\n",
       "\t 3  & 7  & 10\\\\\n",
       "\t 5  & 5  &  4\\\\\n",
       "\t 1  & 3  &  6\\\\\n",
       "\\end{tabular}\n"
      ],
      "text/markdown": [
       "\n",
       "| Cafe_i | X | Y |\n",
       "|---|---|---|\n",
       "| 4  | 9  |  8 |\n",
       "| 2  | 8  |  7 |\n",
       "| 3  | 7  | 10 |\n",
       "| 5  | 5  |  4 |\n",
       "| 1  | 3  |  6 |\n",
       "\n"
      ],
      "text/plain": [
       "     Cafe_i X Y \n",
       "[1,] 4      9  8\n",
       "[2,] 2      8  7\n",
       "[3,] 3      7 10\n",
       "[4,] 5      5  4\n",
       "[5,] 1      3  6"
      ]
     },
     "metadata": {},
     "output_type": "display_data"
    }
   ],
   "source": [
    "Cafe_data = Cafe_data[order(Cafe_data[,'X'], decreasing=TRUE),]\n",
    "Cafe_data"
   ]
  },
  {
   "cell_type": "code",
   "execution_count": 16,
   "id": "1cdd8be7-fa45-44b1-86e5-eccc90045712",
   "metadata": {},
   "outputs": [],
   "source": [
    "CafeX = Cafe_data[,\"X\"]\n",
    "CafeY = Cafe_data[,\"Y\"]"
   ]
  },
  {
   "cell_type": "code",
   "execution_count": null,
   "id": "7926586b-05ba-4962-a3aa-4f2cd697c45d",
   "metadata": {},
   "outputs": [],
   "source": []
  },
  {
   "cell_type": "code",
   "execution_count": 17,
   "id": "627e43a4-a705-4596-a7c1-c88549d387a4",
   "metadata": {},
   "outputs": [
    {
     "name": "stdout",
     "output_type": "stream",
     "text": [
      "[1] \"Spearman's rank correlation on the accending orderd data = 0.6\"\n"
     ]
    }
   ],
   "source": [
    "# Now we will calculate the spearman's rank correlation on the decreasing ordered data.\n",
    "result = cor(CafeX, CafeY, method='spearman')\n",
    "print(paste(\"Spearman's rank correlation on the accending orderd data =\", result))"
   ]
  },
  {
   "cell_type": "markdown",
   "id": "64d7d25c-3fc3-4f47-b725-5ee8062b3278",
   "metadata": {},
   "source": [
    "`Conclusion:` As we can see that there is no difference in all of three calculation hence we can say that Spearman's R is not differ whether ranks are assigned in a decreasing or increasing order."
   ]
  },
  {
   "cell_type": "markdown",
   "id": "e3b339d3-929c-4d7e-b4c8-bd2c33f6426e",
   "metadata": {},
   "source": [
    "### if cofee are rated as good ($>5$) or bad ($\\leq5$)\n",
    "\n",
    "Now we need to make some modification on the dataset as asked, we need to put two condition on the dataset."
   ]
  },
  {
   "cell_type": "code",
   "execution_count": 20,
   "id": "79ec76f3-62d6-4742-b61d-96de1376a051",
   "metadata": {},
   "outputs": [],
   "source": [
    "Cafe_data2 = Cafe_data"
   ]
  },
  {
   "cell_type": "code",
   "execution_count": null,
   "id": "c5d09e65-07ee-4c11-90f7-3fb699cffd90",
   "metadata": {},
   "outputs": [],
   "source": []
  },
  {
   "cell_type": "code",
   "execution_count": 18,
   "id": "3c6f64ed-38ae-4c3d-8c57-75e3bd9c2c04",
   "metadata": {},
   "outputs": [
    {
     "ename": "ERROR",
     "evalue": "Error in table(c(Cafe_data2[, 2], Cafe_data2[, 3]), c(rep(\"X\", 5), rep(\"Y\", : object 'Cafe_data2' not found\n",
     "output_type": "error",
     "traceback": [
      "Error in table(c(Cafe_data2[, 2], Cafe_data2[, 3]), c(rep(\"X\", 5), rep(\"Y\", : object 'Cafe_data2' not found\nTraceback:\n",
      "1. addmargins(table(c(Cafe_data2[, 2], Cafe_data2[, 3]), c(rep(\"X\", \n .     5), rep(\"Y\", 5))))",
      "2. table(c(Cafe_data2[, 2], Cafe_data2[, 3]), c(rep(\"X\", 5), rep(\"Y\", \n .     5)))"
     ]
    }
   ],
   "source": [
    "# NOw we need to create a contingency table for this \n",
    "addmargins(table(c(Cafe_data2[,2],Cafe_data2[,3]), c(rep(\"X\",5),rep(\"Y\",5))))"
   ]
  },
  {
   "cell_type": "markdown",
   "id": "04efd031-1538-4aa5-aacb-5c3513c9f733",
   "metadata": {
    "tags": []
   },
   "source": [
    "**Question:** Do the chance of a good rating differ b/w thetwo journalists.\n",
    "\n",
    "`hint:` for this we need to calcuate the odd ratio. which gives us the ratio of chances of having an event or having a no-event.\n",
    "`Note:` we can only perform the odd ratio only on the 2 x 2 table so we need to extract the necessary data."
   ]
  },
  {
   "cell_type": "code",
   "execution_count": null,
   "id": "30966741-8c36-4a23-a695-e95de091bc88",
   "metadata": {
    "tags": []
   },
   "outputs": [],
   "source": [
    "Cafe_data3 = table(c(Cafe_data2[,2],Cafe_data2[,3]), c(rep(\"X\",5),rep(\"Y\",5)))\n",
    "Cafe_data3"
   ]
  },
  {
   "cell_type": "code",
   "execution_count": 142,
   "id": "b61a123e-30ff-4048-8b64-a5a41225bb9a",
   "metadata": {},
   "outputs": [],
   "source": [
    "# \n",
    "Odd.ratio = function(Dataset){\n",
    "    \n",
    "    if (all(dim(Dataset) == c(2,2))){\n",
    "        \n",
    "        risk1 = (Dataset[1,1]/sum(Dataset[,1]))/(Dataset[1,2]/sum(Dataset[,2]))\n",
    "        risk2 = (Dataset[2,1]/sum(Dataset[,1]))/(Dataset[2,2]/sum(Dataset[,2]))\n",
    "        \n",
    "\t\t# odd ratio is the ratio of having event to having no-event.\n",
    "        #print(paste(\"Relative risk1 = \",risk1))\n",
    "        #print(paste(\"Relative risk1 = \",risk2))\n",
    "        \n",
    "        OR = risk1/risk2\n",
    "        OR\n",
    "    }\n",
    "    else{print(\"Dataset should have a 2 x 2 dimension \")}\n",
    "}"
   ]
  },
  {
   "cell_type": "code",
   "execution_count": null,
   "id": "1e9df357-6448-465b-aad1-58c82498d34b",
   "metadata": {},
   "outputs": [],
   "source": [
    "Cafe_data3"
   ]
  },
  {
   "cell_type": "code",
   "execution_count": null,
   "id": "aeb1a724-0e3f-440b-95ac-3f0ffb583448",
   "metadata": {},
   "outputs": [],
   "source": [
    "OR = Odd.ratio(Cafe_data3)\n",
    "OR"
   ]
  },
  {
   "cell_type": "markdown",
   "id": "9365b6f8-f1da-4565-9b18-84cc4f57f5d5",
   "metadata": {},
   "source": [
    "* Above result shows that Bad rating is 2.66 times higher for X journalists compare to Y.\n",
    "* To calculate the Good rating we will inverse our result."
   ]
  },
  {
   "cell_type": "code",
   "execution_count": null,
   "id": "ce945a24-8931-4545-962a-a27357396ad3",
   "metadata": {},
   "outputs": [],
   "source": [
    "1/OR"
   ]
  },
  {
   "cell_type": "markdown",
   "id": "3ed5e749-5b78-4e87-b51c-939ad6504774",
   "metadata": {},
   "source": [
    "* above result shows that there is a 0.34 times higher good rating by Y journalists than good rating by X."
   ]
  },
  {
   "cell_type": "markdown",
   "id": "bb65a974-f4cd-49ff-8860-2096bdb34f73",
   "metadata": {},
   "source": [
    "___\n",
    "___"
   ]
  },
  {
   "cell_type": "code",
   "execution_count": null,
   "id": "19b021a6-09d1-4aa9-905d-7d4a4cae0b62",
   "metadata": {},
   "outputs": [],
   "source": [
    "table(Cafe_data2)"
   ]
  },
  {
   "cell_type": "markdown",
   "id": "61c0dd25-b950-4d5e-a34c-6b79717159c1",
   "metadata": {},
   "source": [
    "## Exercise 2"
   ]
  },
  {
   "cell_type": "markdown",
   "id": "99423864-7a98-4fce-b2a3-41a71b50afbb",
   "metadata": {},
   "source": [
    "A total of 150 customers of a petrol station are asked about their satisfaction with their car and motorbike insurance. The results are summarized below:"
   ]
  },
  {
   "cell_type": "markdown",
   "id": "0708b949-d258-4e45-837e-387594b69537",
   "metadata": {},
   "source": [
    "|-|Satisfied|Unsatisfied|Total|\n",
    "|----|-----|--|--|\n",
    "|Car|33|25|58|\n",
    "|Car (diesel engine)|29|31|60|\n",
    "|Motorbike|12|20|32|\n",
    "|___|___|___|___|\n",
    "|Total|74|76|150|"
   ]
  },
  {
   "cell_type": "markdown",
   "id": "8333284c-2b3e-4d76-9f90-5db0556a3629",
   "metadata": {},
   "source": [
    "* (a) Determine and interpret Pearson’s χ2 statistic, Cramer’s V , and Ccorr.\n",
    "* (b) Combine the categories “car” and “car (diesel engine)” and produce the corresponding 2 × 2 table. Calculate χ2 as efficiently as possible and give a meaningful interpretation of the odds ratio.\n",
    "* (c) Compare the results from (a) and (b)"
   ]
  },
  {
   "cell_type": "code",
   "execution_count": null,
   "id": "ec0f9625-5f66-408a-8ecc-595e624f5dfe",
   "metadata": {},
   "outputs": [],
   "source": [
    "# first we will make  the contingency table\n",
    "\n",
    "Petrol_data = matrix(c(33,25,29,31, 12,20), ncol=2, byrow=T)\n",
    "\n",
    "colnames(Petrol_data) = c(\"Satisfied\", \"Unsatisfied\")\n",
    "rownames(Petrol_data) = c(\"Car\", \"Car (diesel engine)\", \"Motorbike\")\n",
    "\n",
    "Petrol_data"
   ]
  },
  {
   "cell_type": "code",
   "execution_count": null,
   "id": "ff3147c8-fb48-4adb-bcc3-5d0e8ecf3fb1",
   "metadata": {},
   "outputs": [],
   "source": [
    "# contingency table \n",
    "addmargins(Petrol_data)"
   ]
  },
  {
   "cell_type": "markdown",
   "id": "55db4885-6125-4a52-9ce5-140bcea11b95",
   "metadata": {},
   "source": [
    "### Pearson's $\\chi^2$ Statistic"
   ]
  },
  {
   "cell_type": "code",
   "execution_count": null,
   "id": "d40f7161-8069-4d3c-b2b7-81c347555732",
   "metadata": {},
   "outputs": [],
   "source": [
    "chisq.test(Petrol_data)"
   ]
  },
  {
   "cell_type": "code",
   "execution_count": null,
   "id": "776f167d-8a64-4c44-a563-72f53c8710dd",
   "metadata": {},
   "outputs": [],
   "source": [
    "chisq.max.value = function(Dataset){\n",
    "    \n",
    "    # now first we need to get the dimension of the dataset.\n",
    "    n = sum(Dataset)\n",
    "    maxvalue = n*(min(dim(Dataset))-1)\n",
    "    maxvalue\n",
    "}"
   ]
  },
  {
   "cell_type": "code",
   "execution_count": null,
   "id": "0307be5c-5f50-4b23-8ee4-1157f5065b95",
   "metadata": {},
   "outputs": [],
   "source": [
    "chisq.max.value(Petrol_data)"
   ]
  },
  {
   "cell_type": "markdown",
   "id": "29434882-8e85-4f48-a08d-98889ddaf8d3",
   "metadata": {},
   "source": [
    "`Conclusion:` From this result we can say that there is no clear relationship by the satisfaction and the petorl on the petrol station."
   ]
  },
  {
   "cell_type": "markdown",
   "id": "8bf7f75f-1833-4bd3-9e17-884bb191415a",
   "metadata": {},
   "source": [
    "___\n",
    "### Carmer's V Statistic"
   ]
  },
  {
   "cell_type": "code",
   "execution_count": null,
   "id": "6f460423-9c99-4136-842f-85eb8e3ffddb",
   "metadata": {},
   "outputs": [],
   "source": [
    "# To calculate the Carmer's V Statistic we need to import the vcd data\n",
    "library(vcd)"
   ]
  },
  {
   "cell_type": "code",
   "execution_count": null,
   "id": "0b6aebf2-6d64-4288-8796-b703ec867bf1",
   "metadata": {},
   "outputs": [],
   "source": [
    "assocstats(Petrol_data)"
   ]
  },
  {
   "cell_type": "markdown",
   "id": "3164c3da-82d4-4239-aea2-3923734ef4bb",
   "metadata": {},
   "source": [
    "`Conclusion:` From the above result we can say that there is a very weak relationship b/w the satifation to the customers with petrol on a petrol station."
   ]
  },
  {
   "cell_type": "markdown",
   "id": "2313eb5f-a3ad-4c00-8c70-cd0ea3fec49d",
   "metadata": {},
   "source": [
    "___\n",
    "### Correlation Coefficient $C_{corr}$"
   ]
  },
  {
   "cell_type": "code",
   "execution_count": null,
   "id": "13e39c05-4bbf-4048-a4d0-aec3232d741a",
   "metadata": {},
   "outputs": [],
   "source": [
    "# to get the correlation coefficient we need to assocstats function from vcd library \n",
    "# from this we need to get the conttingency value and devide it by Cmax\n",
    "\n",
    "Cmax =  sqrt(min(dim(Petrol_data)-1)/ min(dim(Petrol_data)))\n",
    "assocstats(Petrol_data)$cont/Cmax"
   ]
  },
  {
   "cell_type": "markdown",
   "id": "3e9fd6bf-a589-47e3-8567-9e16ea890576",
   "metadata": {},
   "source": [
    "`Conclusion:` Our Correlation coefficient comes as : 0.20 which show a weak relationship b/w the Satisfaction and the Petrol Station."
   ]
  },
  {
   "cell_type": "markdown",
   "id": "57014383-6177-407c-931f-4e9b0bc49163",
   "metadata": {},
   "source": [
    "___\n",
    "___"
   ]
  },
  {
   "cell_type": "markdown",
   "id": "0aeca115-c66b-42d3-a726-db9be72c0119",
   "metadata": {},
   "source": [
    "### Odd Ratio on Car and Car (diesel engine) variables"
   ]
  },
  {
   "cell_type": "code",
   "execution_count": null,
   "id": "51e948d4-a3bf-4020-a873-e316a04dfa09",
   "metadata": {},
   "outputs": [],
   "source": [
    "Petrol_data[1:2,]"
   ]
  },
  {
   "cell_type": "code",
   "execution_count": null,
   "id": "8e204f78-6bef-4764-a137-96335d9df88c",
   "metadata": {},
   "outputs": [],
   "source": [
    "# performing the chi-square test on the above data.\n",
    "chisq.test(Petrol_data[1:2,])"
   ]
  },
  {
   "cell_type": "code",
   "execution_count": null,
   "id": "b44d64ce-d7b7-4e45-acff-256339f129be",
   "metadata": {},
   "outputs": [],
   "source": [
    "chisq.max.value(Petrol_data[1:2,])"
   ]
  },
  {
   "cell_type": "markdown",
   "id": "b2184490-7679-43f6-882d-eb6c63a00596",
   "metadata": {},
   "source": [
    "Now as asked in the questions we will calculate the odd ratio. for that we will use a custom function which is written bellow. "
   ]
  },
  {
   "cell_type": "code",
   "execution_count": null,
   "id": "515358a6-662a-4084-b534-e36fd01a1807",
   "metadata": {},
   "outputs": [],
   "source": [
    "Odd.ratio = function(Dataset){\n",
    "    \n",
    "    if (all(dim(Dataset) == c(2,2))){\n",
    "        \n",
    "        risk1 = (Dataset[1,1]/sum(Dataset[,1]))/(Dataset[1,2]/sum(Dataset[,2]))\n",
    "        risk2 = (Dataset[2,1]/sum(Dataset[,1]))/(Dataset[2,2]/sum(Dataset[,2]))\n",
    "        \n",
    "\t\t# odd ratio is the ratio of having event to having no-event.\n",
    "        #print(paste(\"Relative risk1 = \",risk1))\n",
    "        #print(paste(\"Relative risk1 = \",risk2))\n",
    "        \n",
    "        OR = risk1/risk2\n",
    "        OR\n",
    "    }\n",
    "    else{print(\"Dataset should have a 2 x 2 dimension \")}\n",
    "}"
   ]
  },
  {
   "cell_type": "code",
   "execution_count": null,
   "id": "a0999077-c8e9-4a60-b62c-a33a28e6d21f",
   "metadata": {},
   "outputs": [],
   "source": [
    "Odd.ratio(Petrol_data[1:2,])"
   ]
  },
  {
   "cell_type": "markdown",
   "id": "91cea220-bfdd-49ae-a80e-9a8a094eb2c9",
   "metadata": {},
   "source": [
    "* The above interpretation show that the chance of Satisfaction for a car customers is 1.41 times higher than the Unsatisfaction for a car custmer."
   ]
  },
  {
   "cell_type": "markdown",
   "id": "4654355f-dabb-4f88-a22d-0fadca094bd4",
   "metadata": {},
   "source": [
    "### Comparing the result of above section"
   ]
  },
  {
   "cell_type": "markdown",
   "id": "608a7be1-54b8-4a7e-af9d-46ae14177a01",
   "metadata": {},
   "source": [
    "Later"
   ]
  },
  {
   "cell_type": "markdown",
   "id": "edb68368-0ae8-483b-83ea-2c8d7feec4bc",
   "metadata": {},
   "source": [
    "___\n",
    "___"
   ]
  },
  {
   "cell_type": "markdown",
   "id": "930534ed-cb53-4624-b86a-b4dff76071b3",
   "metadata": {},
   "source": [
    "## Exercise 3\n",
    "\n",
    "There has been a big debate about the usefulness of speed limits on\n",
    "public roads. Consider the following table which lists the speed limits for country\n",
    "roads (in miles/h) and traffic deaths (per 100 million km) for different countries in\n",
    "1986 when the debate was particularly serious:\n",
    "\n",
    "* (a) Draw the scatter plot for the two variables.\n",
    "* (b) Calculate the Bravais–Pearson and Spearman correlation coefficients. \n",
    "* (c) What are the effects on the correlation coefficients if the speed limit is given in\n",
    "km/h rather than miles/h (1 mile/h ≈ 1.61 km/h)?\n",
    "* (d) Consider one more observation: the speed limit for England was 70miles/h and\n",
    "the death rate was 3.1.\n",
    "    * (i) Add this observation to the scatter plot.\n",
    "    * (ii) Calculate the Bravais–Pearson correlation coefficient given this additional\n",
    "observation."
   ]
  },
  {
   "cell_type": "markdown",
   "id": "ca11e04a-d8c6-49cf-88c3-e7f173282de0",
   "metadata": {},
   "source": [
    "|Country|Speed Limit| Traffic deaths|\n",
    "|-------|-----------|---------------|\n",
    "|Denmark|55|4.1|\n",
    "|Japan|55|4.7|\n",
    "|Canada|60|4.3|\n",
    "|Netherlands|60|5.1|\n",
    "|Italy|75|6.1|"
   ]
  },
  {
   "cell_type": "code",
   "execution_count": 21,
   "id": "213880c8-c8af-4c5e-abe0-da751190ceb7",
   "metadata": {},
   "outputs": [],
   "source": [
    "# first we will make a the data with contingency with cbind metod.\n",
    "\n",
    "Country = c(\"Denmark\",\"Japan\",\"Canda\",\"Netherlands\",\"Italy\")\n",
    "Speed_limi = c(55, 55, 60, 60, 75)\n",
    "Traffic_deaths = c(4.1, 4.7, 4.3, 5.1, 6.1)"
   ]
  },
  {
   "cell_type": "code",
   "execution_count": 28,
   "id": "4ffc1df6-8c4a-4ce9-87de-1f5ce57e0c29",
   "metadata": {},
   "outputs": [
    {
     "data": {
      "text/html": [
       "<table>\n",
       "<thead><tr><th scope=col>Country</th><th scope=col>Speed_limi</th><th scope=col>Traffic_deaths</th></tr></thead>\n",
       "<tbody>\n",
       "\t<tr><td>Denmark    </td><td>55         </td><td>4.1        </td></tr>\n",
       "\t<tr><td>Japan      </td><td>55         </td><td>4.7        </td></tr>\n",
       "\t<tr><td>Canda      </td><td>60         </td><td>4.3        </td></tr>\n",
       "\t<tr><td>Netherlands</td><td>60         </td><td>5.1        </td></tr>\n",
       "\t<tr><td>Italy      </td><td>75         </td><td>6.1        </td></tr>\n",
       "</tbody>\n",
       "</table>\n"
      ],
      "text/latex": [
       "\\begin{tabular}{lll}\n",
       " Country & Speed\\_limi & Traffic\\_deaths\\\\\n",
       "\\hline\n",
       "\t Denmark     & 55          & 4.1        \\\\\n",
       "\t Japan       & 55          & 4.7        \\\\\n",
       "\t Canda       & 60          & 4.3        \\\\\n",
       "\t Netherlands & 60          & 5.1        \\\\\n",
       "\t Italy       & 75          & 6.1        \\\\\n",
       "\\end{tabular}\n"
      ],
      "text/markdown": [
       "\n",
       "| Country | Speed_limi | Traffic_deaths |\n",
       "|---|---|---|\n",
       "| Denmark     | 55          | 4.1         |\n",
       "| Japan       | 55          | 4.7         |\n",
       "| Canda       | 60          | 4.3         |\n",
       "| Netherlands | 60          | 5.1         |\n",
       "| Italy       | 75          | 6.1         |\n",
       "\n"
      ],
      "text/plain": [
       "     Country     Speed_limi Traffic_deaths\n",
       "[1,] Denmark     55         4.1           \n",
       "[2,] Japan       55         4.7           \n",
       "[3,] Canda       60         4.3           \n",
       "[4,] Netherlands 60         5.1           \n",
       "[5,] Italy       75         6.1           "
      ]
     },
     "metadata": {},
     "output_type": "display_data"
    }
   ],
   "source": [
    "Trafficdata = cbind(Country, Speed_limi, Traffic_deaths)\n",
    "Trafficdata"
   ]
  },
  {
   "cell_type": "markdown",
   "id": "6b284950-ddb1-4b2d-8263-6992fb686255",
   "metadata": {},
   "source": [
    "### Scatter plot b/w Speed limit and Traffic Deaths\n",
    "\n",
    "first we will plot the scatter plot b/w the speed limits and traffic deaths and we will see the realtionship and their direction."
   ]
  },
  {
   "cell_type": "code",
   "execution_count": 23,
   "id": "3c94d751-237a-48ff-9f17-357c892465b4",
   "metadata": {},
   "outputs": [
    {
     "data": {
      "image/png": "[encoded data removed]",
      "text/plain": [
       "Plot with title \"Traffic deaths related to speed limits.\""
      ]
     },
     "metadata": {},
     "output_type": "display_data"
    }
   ],
   "source": [
    "plot(x = Speed_limi,, y=Traffic_deaths, xlab=\"Speed Limits\", ylab=\"Traffic deaths\", pch=16, main=\"Traffic deaths related to speed limits.\")"
   ]
  },
  {
   "cell_type": "markdown",
   "id": "23cf2ba0-1f37-4c91-880b-9ad9b527fd53",
   "metadata": {},
   "source": [
    "**`Conlusion 1:`** From the above result we can say that there is a positive correlation b/w the speed limits and traffic deaths this shows that as we increases the speed limits there is a high chance of high number of deaths."
   ]
  },
  {
   "cell_type": "markdown",
   "id": "6acccba9-56cb-4dd3-a2b2-2777fca8c8c5",
   "metadata": {},
   "source": [
    "___"
   ]
  },
  {
   "cell_type": "markdown",
   "id": "44f75aac-dd4a-4b91-b124-da700479cd45",
   "metadata": {},
   "source": [
    "### Bravais-Pearson and Spearman correlation coefficients \n",
    "\n",
    "Now we will check the correlation b/w the speed limit and the traffic deaths which will define that how much traffic deaths are stronglly related to the speed limit. "
   ]
  },
  {
   "cell_type": "code",
   "execution_count": 24,
   "id": "5c211b09-2d3d-48ea-92b8-4a5369a877ba",
   "metadata": {},
   "outputs": [
    {
     "name": "stdout",
     "output_type": "stream",
     "text": [
      "[1] \"Pearson correlation Coefficient:  0.890832976662577\"\n",
      "[1] \"Spearson Correlation Coefficient:  0.737864787372622\"\n"
     ]
    }
   ],
   "source": [
    "# To calculate the Bravais-Pearson and Spearman Correlation coefficients \n",
    "# we need to use cor() function and need to use pearson and spearman method on method argument in the cor() function.\n",
    "\n",
    "pearson_cor = cor(Speed_limi, Traffic_deaths, method='pearson')\n",
    "spearman_cor = cor(Speed_limi, Traffic_deaths, method='spearman')\n",
    "\n",
    "\n",
    "print(paste(\"Pearson correlation Coefficient: \", pearson_cor))\n",
    "print(paste(\"Spearson Correlation Coefficient: \", spearman_cor))"
   ]
  },
  {
   "cell_type": "markdown",
   "id": "a40994b4-9d8d-43ed-a76b-7bf5ff3f3e2d",
   "metadata": {},
   "source": [
    "**`Conclusion 2:`** Both the correlation coefficient shows that there is a strong relationship b/w the Speed limits and traffic deaths."
   ]
  },
  {
   "cell_type": "markdown",
   "id": "e2ab4a87-5fff-4a41-8e7d-4368c3101c6f",
   "metadata": {},
   "source": [
    "___"
   ]
  },
  {
   "cell_type": "markdown",
   "id": "015da07e-e6bb-44b6-b2b1-ef5d0ea56056",
   "metadata": {},
   "source": [
    "### Note: \n",
    "**There will be no change in the correlation coefficient, if we changes the units of the speed limits.** "
   ]
  },
  {
   "cell_type": "markdown",
   "id": "f1f40d2d-8e2d-4bfb-8685-5da88fa1bb3e",
   "metadata": {},
   "source": [
    "### Bravais-Pearson and Spearman correlation coefficients with new data."
   ]
  },
  {
   "cell_type": "markdown",
   "id": "437742d2-c8ed-4c66-af98-b254c58d0cf4",
   "metadata": {},
   "source": [
    "if we add one more observation to over dataset like England was 70 miles/h and the death rate was 3.1, if we add this what will happan in the result."
   ]
  },
  {
   "cell_type": "markdown",
   "id": "7ad578ce-71da-43e6-ab61-6bd8ae88ab9b",
   "metadata": {},
   "source": [
    "#### addition into the dataset."
   ]
  },
  {
   "cell_type": "code",
   "execution_count": 32,
   "id": "14f5269f-91b5-4429-aab4-e7668a5dee5c",
   "metadata": {},
   "outputs": [],
   "source": [
    "Trafficdata = rbind(Trafficdata, c(\"England\", 70, 3.1))"
   ]
  },
  {
   "cell_type": "code",
   "execution_count": 33,
   "id": "34d6c89d-725d-4545-bdc8-7d1da989fdae",
   "metadata": {},
   "outputs": [
    {
     "data": {
      "text/html": [
       "<table>\n",
       "<thead><tr><th scope=col>Country</th><th scope=col>Speed_limi</th><th scope=col>Traffic_deaths</th></tr></thead>\n",
       "<tbody>\n",
       "\t<tr><td>Denmark    </td><td>55         </td><td>4.1        </td></tr>\n",
       "\t<tr><td>Japan      </td><td>55         </td><td>4.7        </td></tr>\n",
       "\t<tr><td>Canda      </td><td>60         </td><td>4.3        </td></tr>\n",
       "\t<tr><td>Netherlands</td><td>60         </td><td>5.1        </td></tr>\n",
       "\t<tr><td>Italy      </td><td>75         </td><td>6.1        </td></tr>\n",
       "\t<tr><td>England    </td><td>70         </td><td>3.1        </td></tr>\n",
       "</tbody>\n",
       "</table>\n"
      ],
      "text/latex": [
       "\\begin{tabular}{lll}\n",
       " Country & Speed\\_limi & Traffic\\_deaths\\\\\n",
       "\\hline\n",
       "\t Denmark     & 55          & 4.1        \\\\\n",
       "\t Japan       & 55          & 4.7        \\\\\n",
       "\t Canda       & 60          & 4.3        \\\\\n",
       "\t Netherlands & 60          & 5.1        \\\\\n",
       "\t Italy       & 75          & 6.1        \\\\\n",
       "\t England     & 70          & 3.1        \\\\\n",
       "\\end{tabular}\n"
      ],
      "text/markdown": [
       "\n",
       "| Country | Speed_limi | Traffic_deaths |\n",
       "|---|---|---|\n",
       "| Denmark     | 55          | 4.1         |\n",
       "| Japan       | 55          | 4.7         |\n",
       "| Canda       | 60          | 4.3         |\n",
       "| Netherlands | 60          | 5.1         |\n",
       "| Italy       | 75          | 6.1         |\n",
       "| England     | 70          | 3.1         |\n",
       "\n"
      ],
      "text/plain": [
       "     Country     Speed_limi Traffic_deaths\n",
       "[1,] Denmark     55         4.1           \n",
       "[2,] Japan       55         4.7           \n",
       "[3,] Canda       60         4.3           \n",
       "[4,] Netherlands 60         5.1           \n",
       "[5,] Italy       75         6.1           \n",
       "[6,] England     70         3.1           "
      ]
     },
     "metadata": {},
     "output_type": "display_data"
    }
   ],
   "source": [
    "Trafficdata"
   ]
  },
  {
   "cell_type": "markdown",
   "id": "d8b41947-0167-441a-a78b-20d5e6b65d5a",
   "metadata": {},
   "source": [
    "#### Plotting Scatter Plot"
   ]
  },
  {
   "cell_type": "code",
   "execution_count": 36,
   "id": "fba4b531-63ee-4de9-ae4e-28205faa1dad",
   "metadata": {},
   "outputs": [
    {
     "data": {
      "image/png": "[encoded data removed]",
      "text/plain": [
       "plot without title"
      ]
     },
     "metadata": {},
     "output_type": "display_data"
    }
   ],
   "source": [
    "plot(x= Trafficdata[,\"Speed_limi\"],y= Trafficdata[,\"Traffic_deaths\"] , xlab='Speed limits', ylab='Traffic deaths')"
   ]
  },
  {
   "cell_type": "markdown",
   "id": "c047e7b6-734b-4544-8225-14323ef4207d",
   "metadata": {},
   "source": [
    "#### Correlation Coefficient:"
   ]
  },
  {
   "cell_type": "code",
   "execution_count": 40,
   "id": "3a28dd50-51bd-42a1-9196-ec03d5d2343d",
   "metadata": {},
   "outputs": [
    {
     "name": "stdout",
     "output_type": "stream",
     "text": [
      "[1] \"Pearson correlation Coefficient:  0.241191535097474\"\n",
      "[1] \"Spearson Correlation Coefficient:  0.264820448851425\"\n"
     ]
    }
   ],
   "source": [
    "Speed_limi = append(Speed_limi, 70)\n",
    "Traffic_deaths =  append(Traffic_deaths, 3.1)\n",
    "\n",
    "pearson_cor = cor(Speed_limi, Traffic_deaths, method='pearson')\n",
    "spearman_cor = cor(Speed_limi, Traffic_deaths, method='spearman')\n",
    "\n",
    "\n",
    "print(paste(\"Pearson correlation Coefficient: \", pearson_cor))\n",
    "print(paste(\"Spearson Correlation Coefficient: \", spearman_cor))"
   ]
  },
  {
   "cell_type": "markdown",
   "id": "2923ae99-31e0-4f5a-a5e0-dd4f12229130",
   "metadata": {},
   "source": [
    "`Conclusion:` From one single data entry we can see that there is a drop of .50 in value which shows a weak realtionship b/w the Speed limits and the Traffic deaths.\n",
    "\n",
    "Note: This new entry can be outlier which need to be filter during the analysis, outliers can make our analysis difficult and may lead us to wrong assumption, so we need to take care of the outlier.\n",
    "\n",
    "To find out the outlier we can use the box-plot."
   ]
  },
  {
   "cell_type": "markdown",
   "id": "51ce5cfe-434d-41e0-817f-2ddc7a028873",
   "metadata": {},
   "source": [
    "____\n",
    "____"
   ]
  },
  {
   "cell_type": "markdown",
   "id": "3a95159e-4e47-4c41-9627-2cc8c6045e58",
   "metadata": {},
   "source": [
    "## Exercies 4:\n",
    "\n",
    "The famous passenger liner Titanic hit an iceberg in 1912 and sank. A\n",
    "total of 337 passengers travelled in first class, 285 in second class, and 721in third\n",
    "class. In addition, there were 885 staff members on board. Not all passengers could\n",
    "be rescued. Only the following were rescued: 135 from the first class, 160 from the\n",
    "second class, 541 from the third class and 674 staff.\n",
    "\n",
    "1. Determine and interpret the contingency table for the variables “travel class”\n",
    "and “rescue status”.\n",
    "2. Use a contingency table to summarize the conditional relative frequency distributions of rescue status given travel class. Could there be an association of the\n",
    "two variables?\n",
    "3. What would the contingency table from (a) look like under the independence\n",
    "assumption? Calculate Cramer’s V statistic. Is there any association between\n",
    "travel class and rescue status?\n",
    "4. Combine the categories “first class” and “second class” as well as “third class”\n",
    "and “staff”. Create a contingency table based on these new categories. Determine\n",
    "and interpret Cramer’s V , the odds ratio, and relative risks of your choice.\n",
    "5. Given the results from (1) to (4), what are your conclusions?"
   ]
  },
  {
   "cell_type": "markdown",
   "id": "ea8c693c-e149-48ce-977a-dd01938727d3",
   "metadata": {},
   "source": [
    "### Creating dataset"
   ]
  },
  {
   "cell_type": "code",
   "execution_count": 71,
   "id": "9791a1b1-5600-4884-bdeb-e46f7572d73c",
   "metadata": {},
   "outputs": [],
   "source": [
    "Titanic = matrix(c(135, 202, 160, 125, 541, 180, 674, 207), ncol=2, byrow=T)\n",
    "colnames(Titanic) = c(\"Rescued\", \"NotRescued\")\n",
    "rownames(Titanic) = c(\"First Class\", \"Second Class\", \"Third Class\",\"Staff\")"
   ]
  },
  {
   "cell_type": "code",
   "execution_count": 72,
   "id": "1d66540b-387a-4d25-b6b0-49722d12fc6a",
   "metadata": {},
   "outputs": [
    {
     "data": {
      "text/html": [
       "<table>\n",
       "<thead><tr><th></th><th scope=col>Rescued</th><th scope=col>NotRescued</th></tr></thead>\n",
       "<tbody>\n",
       "\t<tr><th scope=row>First Class</th><td>135</td><td>202</td></tr>\n",
       "\t<tr><th scope=row>Second Class</th><td>160</td><td>125</td></tr>\n",
       "\t<tr><th scope=row>Third Class</th><td>541</td><td>180</td></tr>\n",
       "\t<tr><th scope=row>Staff</th><td>674</td><td>207</td></tr>\n",
       "</tbody>\n",
       "</table>\n"
      ],
      "text/latex": [
       "\\begin{tabular}{r|ll}\n",
       "  & Rescued & NotRescued\\\\\n",
       "\\hline\n",
       "\tFirst Class & 135 & 202\\\\\n",
       "\tSecond Class & 160 & 125\\\\\n",
       "\tThird Class & 541 & 180\\\\\n",
       "\tStaff & 674 & 207\\\\\n",
       "\\end{tabular}\n"
      ],
      "text/markdown": [
       "\n",
       "| <!--/--> | Rescued | NotRescued |\n",
       "|---|---|---|\n",
       "| First Class | 135 | 202 |\n",
       "| Second Class | 160 | 125 |\n",
       "| Third Class | 541 | 180 |\n",
       "| Staff | 674 | 207 |\n",
       "\n"
      ],
      "text/plain": [
       "             Rescued NotRescued\n",
       "First Class  135     202       \n",
       "Second Class 160     125       \n",
       "Third Class  541     180       \n",
       "Staff        674     207       "
      ]
     },
     "metadata": {},
     "output_type": "display_data"
    }
   ],
   "source": [
    "Titanic"
   ]
  },
  {
   "cell_type": "markdown",
   "id": "4b429ba8-56a4-4f5b-a732-79bb68b81b3e",
   "metadata": {},
   "source": [
    "### Contingency table and its interpretation"
   ]
  },
  {
   "cell_type": "code",
   "execution_count": 54,
   "id": "6734df2e-9a41-470d-b906-3539fd295944",
   "metadata": {},
   "outputs": [
    {
     "data": {
      "text/html": [
       "<table>\n",
       "<thead><tr><th></th><th scope=col>Rescued</th><th scope=col>NotRescued</th><th scope=col>Sum</th></tr></thead>\n",
       "<tbody>\n",
       "\t<tr><th scope=row>First Class</th><td> 135</td><td>202 </td><td> 337</td></tr>\n",
       "\t<tr><th scope=row>Second Class</th><td> 160</td><td>125 </td><td> 285</td></tr>\n",
       "\t<tr><th scope=row>Third Class</th><td> 541</td><td>180 </td><td> 721</td></tr>\n",
       "\t<tr><th scope=row>Staff</th><td> 674</td><td>207 </td><td> 881</td></tr>\n",
       "\t<tr><th scope=row>Sum</th><td>1510</td><td>714 </td><td>2224</td></tr>\n",
       "</tbody>\n",
       "</table>\n"
      ],
      "text/latex": [
       "\\begin{tabular}{r|lll}\n",
       "  & Rescued & NotRescued & Sum\\\\\n",
       "\\hline\n",
       "\tFirst Class &  135 & 202  &  337\\\\\n",
       "\tSecond Class &  160 & 125  &  285\\\\\n",
       "\tThird Class &  541 & 180  &  721\\\\\n",
       "\tStaff &  674 & 207  &  881\\\\\n",
       "\tSum & 1510 & 714  & 2224\\\\\n",
       "\\end{tabular}\n"
      ],
      "text/markdown": [
       "\n",
       "| <!--/--> | Rescued | NotRescued | Sum |\n",
       "|---|---|---|---|\n",
       "| First Class |  135 | 202  |  337 |\n",
       "| Second Class |  160 | 125  |  285 |\n",
       "| Third Class |  541 | 180  |  721 |\n",
       "| Staff |  674 | 207  |  881 |\n",
       "| Sum | 1510 | 714  | 2224 |\n",
       "\n"
      ],
      "text/plain": [
       "             Rescued NotRescued Sum \n",
       "First Class   135    202         337\n",
       "Second Class  160    125         285\n",
       "Third Class   541    180         721\n",
       "Staff         674    207         881\n",
       "Sum          1510    714        2224"
      ]
     },
     "metadata": {},
     "output_type": "display_data"
    }
   ],
   "source": [
    "addmargins(Titanic)"
   ]
  },
  {
   "cell_type": "markdown",
   "id": "b2a7a60f-4b1c-437f-b6b2-69cdd6bfa8e7",
   "metadata": {},
   "source": [
    "From the above output we can say that there are 2224 people on the titanic during the collison with iceberg, and from them there were only 1510 people were saved from all of them.\n",
    "\n",
    "**Note:** Both the variables, Travel class (X), and Rescue Status (Y) are Categorical variable so we cant perform Pearson and Spearman's Correlation coefficient to measure the association of b/w them. \n",
    " * For Categorical variable we need to perfomr the Chi-Square test and Carmer's V test to measure the association of two variables. "
   ]
  },
  {
   "cell_type": "code",
   "execution_count": 101,
   "id": "81babc9d-7231-4ec0-8b2d-43660928c924",
   "metadata": {},
   "outputs": [],
   "source": [
    "First_class = cbind(class= c(rep(1, 337)), status = c(rep(1, 135), rep(0, 202)))\n",
    "Second_class = cbind(class = c(rep(2, 285,)), status = c(rep(1, 160), rep(0, 125)))\n",
    "Third_class = cbind(class = c(rep(3, 721,)), status = c(rep(1, 541), rep(0, 180)))\n",
    "Staff = cbind(class = c(rep(4, 881,)), status = c(rep(1, 674), rep(0, 207)))"
   ]
  },
  {
   "cell_type": "code",
   "execution_count": 102,
   "id": "1ec322a0-cac1-490a-b90c-1f751540a7ce",
   "metadata": {},
   "outputs": [],
   "source": [
    "Titanic2 = rbind(First_class, Second_class, Third_class, Staff)"
   ]
  },
  {
   "cell_type": "code",
   "execution_count": 106,
   "id": "e0d60692-f0b4-4425-b46e-4b819f76e30f",
   "metadata": {},
   "outputs": [
    {
     "data": {
      "text/plain": [
       "   \n",
       "      0   1\n",
       "  1 202 135\n",
       "  2 125 160\n",
       "  3 180 541\n",
       "  4 207 674"
      ]
     },
     "metadata": {},
     "output_type": "display_data"
    }
   ],
   "source": [
    "table(Titanic2[,1], Titanic2[,2])"
   ]
  },
  {
   "cell_type": "code",
   "execution_count": null,
   "id": "d4023a3e-5115-4d56-aa5e-dbad85b80b32",
   "metadata": {},
   "outputs": [],
   "source": []
  },
  {
   "cell_type": "markdown",
   "id": "ddc6c87f-e714-4d78-8040-709eb68aed12",
   "metadata": {},
   "source": [
    "### Conditional relative frequency"
   ]
  },
  {
   "cell_type": "code",
   "execution_count": 55,
   "id": "2a48b67d-102a-4a8e-b871-d92947ab4182",
   "metadata": {},
   "outputs": [
    {
     "data": {
      "text/html": [
       "<table>\n",
       "<thead><tr><th></th><th scope=col>Rescued</th><th scope=col>NotRescued</th><th scope=col>Sum</th></tr></thead>\n",
       "<tbody>\n",
       "\t<tr><th scope=row>First Class</th><td>0.06070144</td><td>0.09082734</td><td>0.1515288 </td></tr>\n",
       "\t<tr><th scope=row>Second Class</th><td>0.07194245</td><td>0.05620504</td><td>0.1281475 </td></tr>\n",
       "\t<tr><th scope=row>Third Class</th><td>0.24325540</td><td>0.08093525</td><td>0.3241906 </td></tr>\n",
       "\t<tr><th scope=row>Staff</th><td>0.30305755</td><td>0.09307554</td><td>0.3961331 </td></tr>\n",
       "\t<tr><th scope=row>Sum</th><td>0.67895683</td><td>0.32104317</td><td>1.0000000 </td></tr>\n",
       "</tbody>\n",
       "</table>\n"
      ],
      "text/latex": [
       "\\begin{tabular}{r|lll}\n",
       "  & Rescued & NotRescued & Sum\\\\\n",
       "\\hline\n",
       "\tFirst Class & 0.06070144 & 0.09082734 & 0.1515288 \\\\\n",
       "\tSecond Class & 0.07194245 & 0.05620504 & 0.1281475 \\\\\n",
       "\tThird Class & 0.24325540 & 0.08093525 & 0.3241906 \\\\\n",
       "\tStaff & 0.30305755 & 0.09307554 & 0.3961331 \\\\\n",
       "\tSum & 0.67895683 & 0.32104317 & 1.0000000 \\\\\n",
       "\\end{tabular}\n"
      ],
      "text/markdown": [
       "\n",
       "| <!--/--> | Rescued | NotRescued | Sum |\n",
       "|---|---|---|---|\n",
       "| First Class | 0.06070144 | 0.09082734 | 0.1515288  |\n",
       "| Second Class | 0.07194245 | 0.05620504 | 0.1281475  |\n",
       "| Third Class | 0.24325540 | 0.08093525 | 0.3241906  |\n",
       "| Staff | 0.30305755 | 0.09307554 | 0.3961331  |\n",
       "| Sum | 0.67895683 | 0.32104317 | 1.0000000  |\n",
       "\n"
      ],
      "text/plain": [
       "             Rescued    NotRescued Sum      \n",
       "First Class  0.06070144 0.09082734 0.1515288\n",
       "Second Class 0.07194245 0.05620504 0.1281475\n",
       "Third Class  0.24325540 0.08093525 0.3241906\n",
       "Staff        0.30305755 0.09307554 0.3961331\n",
       "Sum          0.67895683 0.32104317 1.0000000"
      ]
     },
     "metadata": {},
     "output_type": "display_data"
    }
   ],
   "source": [
    "addmargins(prop.table(Titanic))"
   ]
  },
  {
   "cell_type": "markdown",
   "id": "6032f6ba-7798-4d8b-b9ef-1ccdb838d2c7",
   "metadata": {},
   "source": [
    "From the proportion table we can say that 68 percent people were saved, there were 30% from staff, 24% from third class, 7% from second class, 6% from  first class.  "
   ]
  },
  {
   "cell_type": "markdown",
   "id": "823a316c-e5b9-49a2-8388-6b96c668851f",
   "metadata": {},
   "source": [
    "### Association of travel class and rescue status."
   ]
  },
  {
   "cell_type": "markdown",
   "id": "b5fd9c8c-3a55-4c30-9342-fc39abf0a898",
   "metadata": {},
   "source": [
    "Now we we will check the relation b/w the rescue status and the travel class, to check this we will use the correlation coefficient method of pearson and spearman both."
   ]
  },
  {
   "cell_type": "code",
   "execution_count": 73,
   "id": "1b7e42c2-833a-4638-92ae-4f54e732a11a",
   "metadata": {},
   "outputs": [],
   "source": [
    "Titanicdata = data.frame(Titanic)"
   ]
  },
  {
   "cell_type": "code",
   "execution_count": null,
   "id": "071fb21e-8036-4c11-bb44-a0b78f408a82",
   "metadata": {},
   "outputs": [],
   "source": []
  },
  {
   "cell_type": "code",
   "execution_count": 75,
   "id": "77c4d34f-c428-4387-ae83-a0b6252f1687",
   "metadata": {},
   "outputs": [],
   "source": [
    "Titanicdata[\"Class_level\"] = c(1,2,3,4)"
   ]
  },
  {
   "cell_type": "code",
   "execution_count": 76,
   "id": "0f43fb39-3d44-4b41-b9da-b1b83773c0e4",
   "metadata": {},
   "outputs": [
    {
     "data": {
      "text/html": [
       "<table>\n",
       "<thead><tr><th></th><th scope=col>Rescued</th><th scope=col>NotRescued</th><th scope=col>Class_level</th></tr></thead>\n",
       "<tbody>\n",
       "\t<tr><th scope=row>First Class</th><td>135</td><td>202</td><td>1  </td></tr>\n",
       "\t<tr><th scope=row>Second Class</th><td>160</td><td>125</td><td>2  </td></tr>\n",
       "\t<tr><th scope=row>Third Class</th><td>541</td><td>180</td><td>3  </td></tr>\n",
       "\t<tr><th scope=row>Staff</th><td>674</td><td>207</td><td>4  </td></tr>\n",
       "</tbody>\n",
       "</table>\n"
      ],
      "text/latex": [
       "\\begin{tabular}{r|lll}\n",
       "  & Rescued & NotRescued & Class\\_level\\\\\n",
       "\\hline\n",
       "\tFirst Class & 135 & 202 & 1  \\\\\n",
       "\tSecond Class & 160 & 125 & 2  \\\\\n",
       "\tThird Class & 541 & 180 & 3  \\\\\n",
       "\tStaff & 674 & 207 & 4  \\\\\n",
       "\\end{tabular}\n"
      ],
      "text/markdown": [
       "\n",
       "| <!--/--> | Rescued | NotRescued | Class_level |\n",
       "|---|---|---|---|\n",
       "| First Class | 135 | 202 | 1   |\n",
       "| Second Class | 160 | 125 | 2   |\n",
       "| Third Class | 541 | 180 | 3   |\n",
       "| Staff | 674 | 207 | 4   |\n",
       "\n"
      ],
      "text/plain": [
       "             Rescued NotRescued Class_level\n",
       "First Class  135     202        1          \n",
       "Second Class 160     125        2          \n",
       "Third Class  541     180        3          \n",
       "Staff        674     207        4          "
      ]
     },
     "metadata": {},
     "output_type": "display_data"
    }
   ],
   "source": [
    "Titanicdata"
   ]
  },
  {
   "cell_type": "markdown",
   "id": "40e3276e-40ab-4238-97d2-3a7bd8705b74",
   "metadata": {},
   "source": [
    "**Association b/w two variables:** There might be a relation b/w the two variables but we can say about the direction and strongness of the relation b/w the vairables, for that we need to perform the chi-square test or Carmer's V test."
   ]
  },
  {
   "cell_type": "markdown",
   "id": "71b0dcbb-5481-4d7b-be8a-1050a80058a6",
   "metadata": {},
   "source": [
    "### Assumpation of independency\n",
    "\n",
    "if these two variables are independent then our Contingency table would be look like this."
   ]
  },
  {
   "cell_type": "code",
   "execution_count": 109,
   "id": "e633e56e-6df8-4f14-b79d-7b3ea54baf2e",
   "metadata": {},
   "outputs": [
    {
     "data": {
      "text/html": [
       "<table>\n",
       "<thead><tr><th></th><th scope=col>Rescued</th><th scope=col>Not Rescued</th><th scope=col>Sum</th></tr></thead>\n",
       "<tbody>\n",
       "\t<tr><th scope=row>First Class</th><td> 168.5</td><td> 168.5</td><td> 337  </td></tr>\n",
       "\t<tr><th scope=row>Second Class</th><td> 142.5</td><td> 142.5</td><td> 285  </td></tr>\n",
       "\t<tr><th scope=row>Third Class</th><td> 360.5</td><td> 360.5</td><td> 721  </td></tr>\n",
       "\t<tr><th scope=row>Staff</th><td> 440.5</td><td> 440.5</td><td> 881  </td></tr>\n",
       "\t<tr><th scope=row>Sum</th><td>1112.0</td><td>1112.0</td><td>2224  </td></tr>\n",
       "</tbody>\n",
       "</table>\n"
      ],
      "text/latex": [
       "\\begin{tabular}{r|lll}\n",
       "  & Rescued & Not Rescued & Sum\\\\\n",
       "\\hline\n",
       "\tFirst Class &  168.5 &  168.5 &  337  \\\\\n",
       "\tSecond Class &  142.5 &  142.5 &  285  \\\\\n",
       "\tThird Class &  360.5 &  360.5 &  721  \\\\\n",
       "\tStaff &  440.5 &  440.5 &  881  \\\\\n",
       "\tSum & 1112.0 & 1112.0 & 2224  \\\\\n",
       "\\end{tabular}\n"
      ],
      "text/markdown": [
       "\n",
       "| <!--/--> | Rescued | Not Rescued | Sum |\n",
       "|---|---|---|---|\n",
       "| First Class |  168.5 |  168.5 |  337   |\n",
       "| Second Class |  142.5 |  142.5 |  285   |\n",
       "| Third Class |  360.5 |  360.5 |  721   |\n",
       "| Staff |  440.5 |  440.5 |  881   |\n",
       "| Sum | 1112.0 | 1112.0 | 2224   |\n",
       "\n"
      ],
      "text/plain": [
       "              Rescue_Status\n",
       "Travel_class   Rescued Not Rescued Sum \n",
       "  First Class   168.5   168.5       337\n",
       "  Second Class  142.5   142.5       285\n",
       "  Third Class   360.5   360.5       721\n",
       "  Staff         440.5   440.5       881\n",
       "  Sum          1112.0  1112.0      2224"
      ]
     },
     "metadata": {},
     "output_type": "display_data"
    }
   ],
   "source": [
    "titanic_independent = matrix(c(168.5, 168.5, 142.5, 142.5, 360.5, 360.5, 440.5, 440.5), ncol=2, byrow=T)\n",
    "dimnames(titanic_independent) = list(Travel_class = c(\"First Class\", \"Second Class\", \"Third Class\", \"Staff\"), \n",
    "                                    Rescue_Status = c(\"Rescued\", \"Not Rescued\"))\n",
    "addmargins(titanic_independent)"
   ]
  },
  {
   "cell_type": "markdown",
   "id": "80f6b72d-9bc3-4ff1-a455-cc70a77c01d9",
   "metadata": {},
   "source": [
    "If our two variables were independent then our Contingency table would look like this, but our table is not like this then we can say that our variable are somehow related to each other, but yet we can't say about strongness and direction of the association b/w the travel class and Rescue status.  "
   ]
  },
  {
   "cell_type": "code",
   "execution_count": 112,
   "id": "5c51b258-f12b-48b4-892d-c803a2197e6d",
   "metadata": {},
   "outputs": [
    {
     "data": {
      "text/plain": [
       "\n",
       "\tPearson's Chi-squared test\n",
       "\n",
       "data:  titanic_independent\n",
       "X-squared = 0, df = 3, p-value = 1\n"
      ]
     },
     "metadata": {},
     "output_type": "display_data"
    }
   ],
   "source": [
    "chisq.test(titanic_independent)"
   ]
  },
  {
   "cell_type": "markdown",
   "id": "b1f8281d-38e4-4849-8b56-f9d6abfa80d0",
   "metadata": {},
   "source": [
    "### Pearson $\\chi^2$ test"
   ]
  },
  {
   "cell_type": "markdown",
   "id": "2ea8c655-568b-4077-a5b0-54024e4753d5",
   "metadata": {},
   "source": [
    "Now we will perform a chi-square test to check the relation b/w the two categorical varibable."
   ]
  },
  {
   "cell_type": "code",
   "execution_count": 111,
   "id": "2e30d224-400f-40d9-abcc-b9f4ca635c39",
   "metadata": {},
   "outputs": [
    {
     "data": {
      "text/html": [
       "<table>\n",
       "<thead><tr><th></th><th scope=col>Rescued</th><th scope=col>NotRescued</th></tr></thead>\n",
       "<tbody>\n",
       "\t<tr><th scope=row>First Class</th><td>135</td><td>202</td></tr>\n",
       "\t<tr><th scope=row>Second Class</th><td>160</td><td>125</td></tr>\n",
       "\t<tr><th scope=row>Third Class</th><td>541</td><td>180</td></tr>\n",
       "\t<tr><th scope=row>Staff</th><td>674</td><td>207</td></tr>\n",
       "</tbody>\n",
       "</table>\n"
      ],
      "text/latex": [
       "\\begin{tabular}{r|ll}\n",
       "  & Rescued & NotRescued\\\\\n",
       "\\hline\n",
       "\tFirst Class & 135 & 202\\\\\n",
       "\tSecond Class & 160 & 125\\\\\n",
       "\tThird Class & 541 & 180\\\\\n",
       "\tStaff & 674 & 207\\\\\n",
       "\\end{tabular}\n"
      ],
      "text/markdown": [
       "\n",
       "| <!--/--> | Rescued | NotRescued |\n",
       "|---|---|---|\n",
       "| First Class | 135 | 202 |\n",
       "| Second Class | 160 | 125 |\n",
       "| Third Class | 541 | 180 |\n",
       "| Staff | 674 | 207 |\n",
       "\n"
      ],
      "text/plain": [
       "             Rescued NotRescued\n",
       "First Class  135     202       \n",
       "Second Class 160     125       \n",
       "Third Class  541     180       \n",
       "Staff        674     207       "
      ]
     },
     "metadata": {},
     "output_type": "display_data"
    }
   ],
   "source": [
    "Titanic"
   ]
  },
  {
   "cell_type": "code",
   "execution_count": 113,
   "id": "c0bb0401-c35d-4c90-ad37-e7de14c92a9d",
   "metadata": {},
   "outputs": [],
   "source": [
    "# performing the chi-square test\n",
    "chitest = chisq.test(Titanic, correct = F)"
   ]
  },
  {
   "cell_type": "code",
   "execution_count": 114,
   "id": "af9b93d3-a10f-42c7-b2d0-d7cfd8d9ba6e",
   "metadata": {},
   "outputs": [
    {
     "data": {
      "text/plain": [
       "\n",
       "\tPearson's Chi-squared test\n",
       "\n",
       "data:  Titanic\n",
       "X-squared = 184.67, df = 3, p-value < 2.2e-16\n"
      ]
     },
     "metadata": {},
     "output_type": "display_data"
    }
   ],
   "source": [
    "chitest"
   ]
  },
  {
   "cell_type": "markdown",
   "id": "ca95422a-fdc2-468e-b47f-57583b0d464b",
   "metadata": {},
   "source": [
    "From the above test we can say that our p-value of chi-square test si very very close to zero, So we can say that both the varibale or independent to each other but before making this statement we will also perform Carmer's V test to see this."
   ]
  },
  {
   "cell_type": "markdown",
   "id": "b18cd927-e386-4b4b-a656-bc73977f7113",
   "metadata": {},
   "source": [
    "### Carmer's V test"
   ]
  },
  {
   "cell_type": "code",
   "execution_count": 123,
   "id": "d8813669-0dd2-4ad0-a884-7483bff4a814",
   "metadata": {},
   "outputs": [],
   "source": [
    "V =  (chitest$statistic/ sum(Titanic))"
   ]
  },
  {
   "cell_type": "code",
   "execution_count": 124,
   "id": "dd005715-d16e-4bf7-8257-1a272c5b3714",
   "metadata": {},
   "outputs": [
    {
     "data": {
      "text/html": [
       "<strong>X-squared:</strong> 0.0830368894743302"
      ],
      "text/latex": [
       "\\textbf{X-squared:} 0.0830368894743302"
      ],
      "text/markdown": [
       "**X-squared:** 0.0830368894743302"
      ],
      "text/plain": [
       " X-squared \n",
       "0.08303689 "
      ]
     },
     "metadata": {},
     "output_type": "display_data"
    }
   ],
   "source": [
    "V"
   ]
  },
  {
   "cell_type": "markdown",
   "id": "d94dbf27-8a65-44d4-87ed-c35af4da0fd1",
   "metadata": {},
   "source": [
    "above values is very close to zero which shows that there is no relation b/w these two variable proportions, or in other words we can say that both the variables are independent to each other."
   ]
  },
  {
   "cell_type": "markdown",
   "id": "03dcccb9-a82c-4715-944b-3722753e263c",
   "metadata": {},
   "source": [
    "`Conclusion:`  Form the above both tests we can say taht there is no realtion b/w the travel class and the rescue status."
   ]
  },
  {
   "cell_type": "markdown",
   "id": "ab94639b-fa89-4acf-a50c-3d98fd880230",
   "metadata": {},
   "source": [
    "### New 2 x 2 contingency table\n",
    "\n",
    "**Combining the categories \"first class\" and \"second class\" as well as \"third class\" and \"staff\".**"
   ]
  },
  {
   "cell_type": "code",
   "execution_count": 125,
   "id": "ea2ae590-ecdc-4a41-81de-eb94d52a4a80",
   "metadata": {},
   "outputs": [],
   "source": [
    "# combining the "
   ]
  },
  {
   "cell_type": "code",
   "execution_count": 130,
   "id": "9011f0ab-07d7-4c69-9ef6-c8e2141dd2de",
   "metadata": {},
   "outputs": [
    {
     "data": {
      "text/html": [
       "<table>\n",
       "<thead><tr><th></th><th scope=col>Rescued</th><th scope=col>NotRescued</th></tr></thead>\n",
       "<tbody>\n",
       "\t<tr><th scope=row>First Class</th><td>135</td><td>202</td></tr>\n",
       "\t<tr><th scope=row>Second Class</th><td>160</td><td>125</td></tr>\n",
       "\t<tr><th scope=row>Third Class</th><td>541</td><td>180</td></tr>\n",
       "\t<tr><th scope=row>Staff</th><td>674</td><td>207</td></tr>\n",
       "</tbody>\n",
       "</table>\n"
      ],
      "text/latex": [
       "\\begin{tabular}{r|ll}\n",
       "  & Rescued & NotRescued\\\\\n",
       "\\hline\n",
       "\tFirst Class & 135 & 202\\\\\n",
       "\tSecond Class & 160 & 125\\\\\n",
       "\tThird Class & 541 & 180\\\\\n",
       "\tStaff & 674 & 207\\\\\n",
       "\\end{tabular}\n"
      ],
      "text/markdown": [
       "\n",
       "| <!--/--> | Rescued | NotRescued |\n",
       "|---|---|---|\n",
       "| First Class | 135 | 202 |\n",
       "| Second Class | 160 | 125 |\n",
       "| Third Class | 541 | 180 |\n",
       "| Staff | 674 | 207 |\n",
       "\n"
      ],
      "text/plain": [
       "             Rescued NotRescued\n",
       "First Class  135     202       \n",
       "Second Class 160     125       \n",
       "Third Class  541     180       \n",
       "Staff        674     207       "
      ]
     },
     "metadata": {},
     "output_type": "display_data"
    }
   ],
   "source": [
    "Titanic"
   ]
  },
  {
   "cell_type": "code",
   "execution_count": 131,
   "id": "7338ef02-c1f8-46f7-bc36-cbd445c35650",
   "metadata": {},
   "outputs": [
    {
     "data": {
      "text/html": [
       "<table>\n",
       "<thead><tr><th></th><th scope=col>Rescued</th><th scope=col>Not rescued</th></tr></thead>\n",
       "<tbody>\n",
       "\t<tr><th scope=row>First and Second Class</th><td> 195</td><td>327 </td></tr>\n",
       "\t<tr><th scope=row>Third Class and Staff</th><td>1215</td><td>387 </td></tr>\n",
       "</tbody>\n",
       "</table>\n"
      ],
      "text/latex": [
       "\\begin{tabular}{r|ll}\n",
       "  & Rescued & Not rescued\\\\\n",
       "\\hline\n",
       "\tFirst and Second Class &  195 & 327 \\\\\n",
       "\tThird Class and Staff & 1215 & 387 \\\\\n",
       "\\end{tabular}\n"
      ],
      "text/markdown": [
       "\n",
       "| <!--/--> | Rescued | Not rescued |\n",
       "|---|---|---|\n",
       "| First and Second Class |  195 | 327  |\n",
       "| Third Class and Staff | 1215 | 387  |\n",
       "\n"
      ],
      "text/plain": [
       "                        Status\n",
       "Classes                  Rescued Not rescued\n",
       "  First and Second Class  195    327        \n",
       "  Third Class and Staff  1215    387        "
      ]
     },
     "metadata": {},
     "output_type": "display_data"
    }
   ],
   "source": [
    "Titanic3 = matrix(c(195, 327, 1215, 387), ncol=2, byrow=T)\n",
    "dimnames(Titanic3) = list(Classes = c(\"First and Second Class\", \"Third Class and Staff\"), Status = c(\"Rescued\", \"Not rescued\"))\n",
    "\n",
    "Titanic3"
   ]
  },
  {
   "cell_type": "markdown",
   "id": "3cbea529-9be4-4000-9afb-e22b732329b4",
   "metadata": {},
   "source": [
    "#### chi-Square test"
   ]
  },
  {
   "cell_type": "code",
   "execution_count": 134,
   "id": "d76c40b3-9034-4feb-aced-7e14f95727cc",
   "metadata": {},
   "outputs": [
    {
     "data": {
      "text/plain": [
       "\n",
       "\tPearson's Chi-squared test\n",
       "\n",
       "data:  Titanic3\n",
       "X-squared = 261.33, df = 1, p-value < 2.2e-16\n"
      ]
     },
     "metadata": {},
     "output_type": "display_data"
    }
   ],
   "source": [
    "chitest2 = chisq.test(Titanic3, correct = F)\n",
    "chitest2"
   ]
  },
  {
   "cell_type": "markdown",
   "id": "c5a394e6-d601-4cec-87b5-54edb809c723",
   "metadata": {},
   "source": [
    "#### Carmer's V test"
   ]
  },
  {
   "cell_type": "code",
   "execution_count": 135,
   "id": "6df5b4b8-ff17-4e1c-8cf1-c185a163603a",
   "metadata": {},
   "outputs": [
    {
     "data": {
      "text/html": [
       "<strong>X-squared:</strong> 0.123035290764809"
      ],
      "text/latex": [
       "\\textbf{X-squared:} 0.123035290764809"
      ],
      "text/markdown": [
       "**X-squared:** 0.123035290764809"
      ],
      "text/plain": [
       "X-squared \n",
       "0.1230353 "
      ]
     },
     "metadata": {},
     "output_type": "display_data"
    }
   ],
   "source": [
    "V2 = chitest2$statistic/ sum(Titanic3)\n",
    "V2"
   ]
  },
  {
   "cell_type": "markdown",
   "id": "12f08e50-1a0d-4c70-9cfe-158e8581f840",
   "metadata": {},
   "source": [
    "`Conclusion:` From above test we can say that after combining the travel classes, these two variables travel class and Rescue status are independent to each other.\n",
    "\n",
    "Now we will see the relative risk and odd ratio."
   ]
  },
  {
   "cell_type": "markdown",
   "id": "5c755f2f-e402-48ec-88e9-d0ec52684447",
   "metadata": {},
   "source": [
    "#### relative risk b/w Rescue status and Travel Class"
   ]
  },
  {
   "cell_type": "code",
   "execution_count": 139,
   "id": "c788c737-756b-48b1-8bce-f8b8931b67d6",
   "metadata": {},
   "outputs": [],
   "source": [
    "Relative.risk = function(Dataset){\n",
    "    \n",
    "    if (all(dim(Dataset) == c(2,2))){\n",
    "        \n",
    "        risk1 = (Dataset[1,1]/sum(Dataset[,1]))/(Dataset[1,2]/sum(Dataset[,2]))\n",
    "        risk2 = (Dataset[2,1]/sum(Dataset[,1]))/(Dataset[2,2]/sum(Dataset[,2]))\n",
    "        \n",
    "        #print(paste(\"Relative risk1 = \",risk1))\n",
    "        #print(paste(\"Relative risk1 = \",risk2))\n",
    "        \n",
    "        list(risk1= risk1, risk2=risk2)\n",
    "    }\n",
    "    else{print(\"Dataset should have a 2 x 2 dimension \")}\n",
    "}"
   ]
  },
  {
   "cell_type": "code",
   "execution_count": 141,
   "id": "20691123-f530-4464-9964-b8858907ce60",
   "metadata": {},
   "outputs": [
    {
     "data": {
      "text/html": [
       "<table>\n",
       "<thead><tr><th></th><th scope=col>Rescued</th><th scope=col>Not rescued</th></tr></thead>\n",
       "<tbody>\n",
       "\t<tr><th scope=row>First and Second Class</th><td> 195</td><td>327 </td></tr>\n",
       "\t<tr><th scope=row>Third Class and Staff</th><td>1215</td><td>387 </td></tr>\n",
       "</tbody>\n",
       "</table>\n"
      ],
      "text/latex": [
       "\\begin{tabular}{r|ll}\n",
       "  & Rescued & Not rescued\\\\\n",
       "\\hline\n",
       "\tFirst and Second Class &  195 & 327 \\\\\n",
       "\tThird Class and Staff & 1215 & 387 \\\\\n",
       "\\end{tabular}\n"
      ],
      "text/markdown": [
       "\n",
       "| <!--/--> | Rescued | Not rescued |\n",
       "|---|---|---|\n",
       "| First and Second Class |  195 | 327  |\n",
       "| Third Class and Staff | 1215 | 387  |\n",
       "\n"
      ],
      "text/plain": [
       "                        Status\n",
       "Classes                  Rescued Not rescued\n",
       "  First and Second Class  195    327        \n",
       "  Third Class and Staff  1215    387        "
      ]
     },
     "metadata": {},
     "output_type": "display_data"
    }
   ],
   "source": [
    "Titanic3"
   ]
  },
  {
   "cell_type": "code",
   "execution_count": 140,
   "id": "8645c567-afde-4298-aab8-eff85efd9884",
   "metadata": {},
   "outputs": [
    {
     "data": {
      "text/html": [
       "<dl>\n",
       "\t<dt>$risk1</dt>\n",
       "\t\t<dd>0.30197150107359</dd>\n",
       "\t<dt>$risk2</dt>\n",
       "\t\t<dd>1.58980702622464</dd>\n",
       "</dl>\n"
      ],
      "text/latex": [
       "\\begin{description}\n",
       "\\item[\\$risk1] 0.30197150107359\n",
       "\\item[\\$risk2] 1.58980702622464\n",
       "\\end{description}\n"
      ],
      "text/markdown": [
       "$risk1\n",
       ":   0.30197150107359\n",
       "$risk2\n",
       ":   1.58980702622464\n",
       "\n",
       "\n"
      ],
      "text/plain": [
       "$risk1\n",
       "[1] 0.3019715\n",
       "\n",
       "$risk2\n",
       "[1] 1.589807\n"
      ]
     },
     "metadata": {},
     "output_type": "display_data"
    }
   ],
   "source": [
    "Relative.risk(Titanic3)"
   ]
  },
  {
   "cell_type": "markdown",
   "id": "6db516e0-dd44-4d0a-ba38-0da4a577657e",
   "metadata": {},
   "source": [
    "`risk1:` risk1 defines that: the proportion of  First and second Class members are .30 times less Rescued Compare to Third and Satff memebers which are not rescued.\n",
    "\n",
    "`risk2:` risk2 defines that: The proportion of the Third and Staff members are 1.65 times greater Rescued Compare to which are not rescued in First and Second Class."
   ]
  },
  {
   "cell_type": "markdown",
   "id": "6cc25f3e-dcd1-4499-a8d4-2a1446d83b77",
   "metadata": {},
   "source": [
    "#### odd ratio"
   ]
  },
  {
   "cell_type": "code",
   "execution_count": 143,
   "id": "2dede3e6-8ac9-496e-bd95-16633ae7cef9",
   "metadata": {},
   "outputs": [
    {
     "data": {
      "text/html": [
       "0.189942235813795"
      ],
      "text/latex": [
       "0.189942235813795"
      ],
      "text/markdown": [
       "0.189942235813795"
      ],
      "text/plain": [
       "[1] 0.1899422"
      ]
     },
     "metadata": {},
     "output_type": "display_data"
    }
   ],
   "source": [
    "Odd.ratio(Titanic3)"
   ]
  },
  {
   "cell_type": "markdown",
   "id": "d8f3130f-1b20-46a2-b328-a303759db93e",
   "metadata": {},
   "source": [
    "The is a 0.18 times less chances to rescue from the first and second class compare to not rescuing from third class and staff members."
   ]
  },
  {
   "cell_type": "markdown",
   "id": "d56e22a1-e5de-4aad-8190-d68bf60cbc53",
   "metadata": {},
   "source": [
    "____\n",
    "____\n",
    "\n",
    "## Exercise 5\n",
    "\n",
    "To study the association of the monthly average temperature (in $^◦C,\n",
    "X$) and hotel occupation (in %, Y), we consider data from three cities: Polenca\n",
    "(Mallorca, Spain) as a summer holiday destination, Davos (Switzerland) as a winter\n",
    "skiing destination, and Basel (Switzerland) as a business destination."
   ]
  },
  {
   "cell_type": "markdown",
   "id": "0452205a-4695-438f-b76a-a752d7729325",
   "metadata": {},
   "source": [
    "* (a) Calculate the Bravais–Pearson correlation coefficient. The following summary\n",
    "statistics are available:$\\Sigma_{i=1}^{36}x_iy_i = 22776, \\bar x = 12.22, \\bar y = 51.28,  \\bar s_x^2 = 76.95,\n",
    "\\text {and   } \\bar s_y^2 = 706.98$\n",
    "* (b) Interpret the scatter plot in Fig.4.7 which visualizes temperature and hotel occupancy for Davos (D), Polenca (P), and Basel (B).\n",
    "* (c) Use R to calculate the correlation coefficient separately for each city. Interpret\n",
    "the results and discuss the use of the correlation coefficient if more than two\n",
    "variables are available."
   ]
  },
  {
   "cell_type": "markdown",
   "id": "784bc55f-e64a-4b04-89a5-00353488734f",
   "metadata": {},
   "source": [
    "|Months||Davos||Polenca ||Basel|\n",
    "|---|---|---|---|---|---|---|\n",
    "||X |Y |X | Y |X | Y|\n",
    "|Jan |−6| 91| 10| 13| 1| 23|\n",
    "|Feb| −5| 89 |10| 21| 0| 82|\n",
    "|Mar |2 |76 |14 |42 |5 |40|\n",
    "|Apr |4| 52| 17| 64| 9| 45|\n",
    "|May |7 |42 |22 |79 |14 |39|\n",
    "|Jun| 15| 36| 24| 81| 20| 43|\n",
    "|Jul |17 |37 |26 |86 |23 |50|\n",
    "|Aug| 19| 39| 27| 92| 24| 95|\n",
    "|Sep |13 |26 |22 |36 |21 |64|\n",
    "|Oct| 9| 27| 19| 23| 14| 78|\n",
    "|Nov |4 |68 |14 |13 |9 |9|\n",
    "|Dec |0| 92| 12| 41| 4| 12|"
   ]
  },
  {
   "cell_type": "code",
   "execution_count": 1,
   "id": "85f7583f-3100-42f4-9660-3d8c60a8e7e2",
   "metadata": {},
   "outputs": [
    {
     "data": {
      "text/html": [
       "<table>\n",
       "<thead><tr><th scope=col>Months</th><th scope=col>Davos.X</th><th scope=col>Davos.Y</th><th scope=col>Polenca.X</th><th scope=col>Polenca.Y</th><th scope=col>Basel.X</th><th scope=col>Basel.Y</th></tr></thead>\n",
       "<tbody>\n",
       "\t<tr><td>Jan</td><td>-6 </td><td>91 </td><td>10 </td><td>13 </td><td> 1 </td><td>23 </td></tr>\n",
       "\t<tr><td>Feb</td><td>-5 </td><td>89 </td><td>10 </td><td>21 </td><td> 0 </td><td>82 </td></tr>\n",
       "\t<tr><td>Mar</td><td> 2 </td><td>76 </td><td>14 </td><td>42 </td><td> 5 </td><td>40 </td></tr>\n",
       "\t<tr><td>Apr</td><td> 4 </td><td>52 </td><td>17 </td><td>64 </td><td> 9 </td><td>45 </td></tr>\n",
       "\t<tr><td>May</td><td> 7 </td><td>42 </td><td>22 </td><td>79 </td><td>14 </td><td>39 </td></tr>\n",
       "\t<tr><td>Jun</td><td>15 </td><td>36 </td><td>24 </td><td>81 </td><td>20 </td><td>43 </td></tr>\n",
       "\t<tr><td>Jul</td><td>17 </td><td>37 </td><td>26 </td><td>86 </td><td>23 </td><td>50 </td></tr>\n",
       "\t<tr><td>Aug</td><td>19 </td><td>39 </td><td>27 </td><td>92 </td><td>24 </td><td>95 </td></tr>\n",
       "\t<tr><td>Sep</td><td>13 </td><td>26 </td><td>22 </td><td>36 </td><td>21 </td><td>64 </td></tr>\n",
       "\t<tr><td>Oct</td><td> 9 </td><td>27 </td><td>19 </td><td>23 </td><td>14 </td><td>78 </td></tr>\n",
       "\t<tr><td>Nov</td><td> 4 </td><td>68 </td><td>14 </td><td>13 </td><td> 9 </td><td> 9 </td></tr>\n",
       "\t<tr><td>Dec</td><td> 0 </td><td>92 </td><td>12 </td><td>41 </td><td> 4 </td><td>12 </td></tr>\n",
       "</tbody>\n",
       "</table>\n"
      ],
      "text/latex": [
       "\\begin{tabular}{r|lllllll}\n",
       " Months & Davos.X & Davos.Y & Polenca.X & Polenca.Y & Basel.X & Basel.Y\\\\\n",
       "\\hline\n",
       "\t Jan & -6  & 91  & 10  & 13  &  1  & 23 \\\\\n",
       "\t Feb & -5  & 89  & 10  & 21  &  0  & 82 \\\\\n",
       "\t Mar &  2  & 76  & 14  & 42  &  5  & 40 \\\\\n",
       "\t Apr &  4  & 52  & 17  & 64  &  9  & 45 \\\\\n",
       "\t May &  7  & 42  & 22  & 79  & 14  & 39 \\\\\n",
       "\t Jun & 15  & 36  & 24  & 81  & 20  & 43 \\\\\n",
       "\t Jul & 17  & 37  & 26  & 86  & 23  & 50 \\\\\n",
       "\t Aug & 19  & 39  & 27  & 92  & 24  & 95 \\\\\n",
       "\t Sep & 13  & 26  & 22  & 36  & 21  & 64 \\\\\n",
       "\t Oct &  9  & 27  & 19  & 23  & 14  & 78 \\\\\n",
       "\t Nov &  4  & 68  & 14  & 13  &  9  &  9 \\\\\n",
       "\t Dec &  0  & 92  & 12  & 41  &  4  & 12 \\\\\n",
       "\\end{tabular}\n"
      ],
      "text/markdown": [
       "\n",
       "| Months | Davos.X | Davos.Y | Polenca.X | Polenca.Y | Basel.X | Basel.Y |\n",
       "|---|---|---|---|---|---|---|\n",
       "| Jan | -6  | 91  | 10  | 13  |  1  | 23  |\n",
       "| Feb | -5  | 89  | 10  | 21  |  0  | 82  |\n",
       "| Mar |  2  | 76  | 14  | 42  |  5  | 40  |\n",
       "| Apr |  4  | 52  | 17  | 64  |  9  | 45  |\n",
       "| May |  7  | 42  | 22  | 79  | 14  | 39  |\n",
       "| Jun | 15  | 36  | 24  | 81  | 20  | 43  |\n",
       "| Jul | 17  | 37  | 26  | 86  | 23  | 50  |\n",
       "| Aug | 19  | 39  | 27  | 92  | 24  | 95  |\n",
       "| Sep | 13  | 26  | 22  | 36  | 21  | 64  |\n",
       "| Oct |  9  | 27  | 19  | 23  | 14  | 78  |\n",
       "| Nov |  4  | 68  | 14  | 13  |  9  |  9  |\n",
       "| Dec |  0  | 92  | 12  | 41  |  4  | 12  |\n",
       "\n"
      ],
      "text/plain": [
       "   Months Davos.X Davos.Y Polenca.X Polenca.Y Basel.X Basel.Y\n",
       "1  Jan    -6      91      10        13         1      23     \n",
       "2  Feb    -5      89      10        21         0      82     \n",
       "3  Mar     2      76      14        42         5      40     \n",
       "4  Apr     4      52      17        64         9      45     \n",
       "5  May     7      42      22        79        14      39     \n",
       "6  Jun    15      36      24        81        20      43     \n",
       "7  Jul    17      37      26        86        23      50     \n",
       "8  Aug    19      39      27        92        24      95     \n",
       "9  Sep    13      26      22        36        21      64     \n",
       "10 Oct     9      27      19        23        14      78     \n",
       "11 Nov     4      68      14        13         9       9     \n",
       "12 Dec     0      92      12        41         4      12     "
      ]
     },
     "metadata": {},
     "output_type": "display_data"
    }
   ],
   "source": [
    "# first creating the matrix of numaric values.\n",
    "\n",
    "MATemp = matrix(c(−6, 91, 10, 13, 1, 23,\n",
    "        −5, 89, 10, 21, 0, 82,\n",
    "        2, 76, 14, 42, 5, 40,\n",
    "        4, 52, 17, 64, 9, 45,\n",
    "        7, 42, 22, 79, 14, 39,\n",
    "         15, 36, 24, 81, 20, 43,\n",
    "         17, 37, 26, 86, 23, 50,\n",
    "         19, 39, 27, 92, 24, 95,\n",
    "         13, 26, 22, 36, 21, 64,\n",
    "         9, 27, 19, 23, 14, 78,\n",
    "         4, 68, 14, 13, 9, 9,\n",
    "         0, 92, 12, 41, 4, 12), ncol=6, byrow=T)\n",
    " \n",
    "# adding the column of months.\n",
    "months = c(\"Jan\", 'Feb', 'Mar',\"Apr\",'May','Jun','Jul','Aug','Sep','Oct','Nov','Dec')\n",
    "\n",
    "# Now we will add the name of the columns.\n",
    "MATemp = data.frame(months, MATemp)\n",
    "colnames(MATemp) = c(\"Months\",\"Davos.X\",\"Davos.Y\", \"Polenca.X\",\"Polenca.Y\" ,\"Basel.X\",\"Basel.Y\")\n",
    "MATemp"
   ]
  },
  {
   "cell_type": "markdown",
   "id": "11cad4fb-c083-49a3-86f9-48f306dce897",
   "metadata": {},
   "source": [
    "Now we will calculate all of the above calculation on the data points. but first we need to merge all the X and Y values."
   ]
  },
  {
   "cell_type": "markdown",
   "id": "f49aa555-310a-49f5-981f-5535c2474c6a",
   "metadata": {},
   "source": [
    "### Scatter plot\n",
    "\n",
    "Now we will plot a scatter plot to to visualizes temperature and hotel occupancy for Davos, Polenca and Basel."
   ]
  },
  {
   "cell_type": "code",
   "execution_count": 2,
   "id": "d78a9be4-13da-4e26-be3f-097a72b4a4e8",
   "metadata": {},
   "outputs": [
    {
     "data": {
      "image/png": "[encoded data removed]",
      "text/plain": [
       "plot without title"
      ]
     },
     "metadata": {},
     "output_type": "display_data"
    }
   ],
   "source": [
    "par(mar = c(5,6,5,6))\n",
    "plot(MATemp$Davos.X, MATemp$Davos.Y, pch=10, xlab='Temperature', ylab='Occupancy', col=4)\n",
    "par(new=T)\n",
    "plot(MATemp$Basel.X, MATemp$Basel.Y, pch=12 , axes=F, xlab='', ylab='',col=2)\n",
    "par(new=T)\n",
    "plot(MATemp$Polenca.X, MATemp$Polenca.Y, pch=14, axes=F,  xlab='', ylab='', col=3)\n",
    "\n",
    "legend(x='topright', pch = c(10, 12, 14), col=c(4,2,3), legend=c(\"Davos\", \"Basel\", \"Polenca\"),\n",
    "      xpd=TRUE,inset = c(-0.25, 0.0))\n",
    "\n",
    "# Note here xpd=TRUE is to put the legend outside the box\n",
    "# to set the legends outside the figure first we need to set the margin on the plot by using the  mar parameter in par() function "
   ]
  },
  {
   "cell_type": "markdown",
   "id": "b122a73d-3de1-4efd-b738-3bd902c68ec8",
   "metadata": {},
   "source": [
    "*  `Davos :` There is a significant change in the occpancy in Davos hotel, from  this observation we can say that Davos hotel is more suitable for winter season or we can say that, this hotel has more occupancy in winter season than summer season or spring season.\n",
    "\n",
    "* `Basel :` In this hotel also we can say that occupancy increasing as the temperature, so we can say that occupancy is proportional to the temperature for this hotel. In other words this hotel seems to be more suitable for summer seasons.\n",
    "\n",
    "* `Polenca :` In this hotel also we can say that occupancy increasing as the temperature, so we can say that here also occupancy is proportional to the temperature for this hotel. In other words this hotel seems to be more suitable for summer seasons."
   ]
  },
  {
   "cell_type": "markdown",
   "id": "e34066ea-34b3-4627-981b-54443e8fa5d3",
   "metadata": {},
   "source": [
    "### Correlation Coefficient for Davos hotel"
   ]
  },
  {
   "cell_type": "code",
   "execution_count": 3,
   "id": "0b76679d-03f1-43f6-af52-71d79f93a444",
   "metadata": {},
   "outputs": [
    {
     "name": "stdout",
     "output_type": "stream",
     "text": [
      "[1] \"Davos hotel Pearson correlation Coefficient:  -0.870419740889853\"\n",
      "[1] \"Davos hotel Spearson Correlation Coefficient:  -0.844134394347707\"\n"
     ]
    }
   ],
   "source": [
    "pearson_cor = cor(MATemp$Davos.X, MATemp$Davos.Y, method='pearson')\n",
    "spearman_cor = cor(MATemp$Davos.X, MATemp$Davos.Y, method='spearman')\n",
    "\n",
    "\n",
    "print(paste(\"Davos hotel Pearson correlation Coefficient: \", pearson_cor))\n",
    "print(paste(\"Davos hotel Spearson Correlation Coefficient: \", spearman_cor))"
   ]
  },
  {
   "cell_type": "markdown",
   "id": "3da8d218-194e-49d6-8eaa-2190a0f99c78",
   "metadata": {},
   "source": [
    "`Conclusion:` From above result we can clearly say that there is a negative correlation b/w the Davos hotel occupancy and temperature, and we can say that there is more occupancy in low temperature or in other words, in winter season there is more occupancy compare to the summer or spring season."
   ]
  },
  {
   "cell_type": "markdown",
   "id": "0c71e92d-e549-4479-87fc-ff53def3f757",
   "metadata": {},
   "source": [
    "### Correlation Coefficient for Basel hotel"
   ]
  },
  {
   "cell_type": "code",
   "execution_count": 7,
   "id": "583e3d77-ec9e-413c-b36b-60c4abe74f88",
   "metadata": {},
   "outputs": [
    {
     "name": "stdout",
     "output_type": "stream",
     "text": [
      "[1] \"Basel hotel Pearson correlation Coefficient:  0.415172754434581\"\n",
      "[1] \"Basel hotel Spearson Correlation Coefficient:  0.428072810551727\"\n"
     ]
    }
   ],
   "source": [
    "pearson_cor = cor(MATemp$Basel.X, MATemp$Basel.Y, method='pearson')\n",
    "spearman_cor = cor(MATemp$Basel.X, MATemp$Basel.Y, method='spearman')\n",
    "\n",
    "\n",
    "print(paste(\"Basel hotel Pearson correlation Coefficient: \", pearson_cor))\n",
    "print(paste(\"Basel hotel Spearson Correlation Coefficient: \", spearman_cor))"
   ]
  },
  {
   "cell_type": "markdown",
   "id": "24f22c6b-7a19-4621-a237-35e870998b2c",
   "metadata": {},
   "source": [
    "`Conclusion:` Above result shows that there is a moderate correlation b/w the Basel hotel and temperature, it means that there is moderate level of  increament in the occupancy in the hotel during summer season. "
   ]
  },
  {
   "cell_type": "markdown",
   "id": "d7412f9e-48d0-4aac-b706-45db9f5778f7",
   "metadata": {},
   "source": [
    "### Correlation Coefficient for Polenca hotel"
   ]
  },
  {
   "cell_type": "code",
   "execution_count": 8,
   "id": "a82405ef-56e5-4d67-babd-7eba4069b0d1",
   "metadata": {},
   "outputs": [
    {
     "name": "stdout",
     "output_type": "stream",
     "text": [
      "[1] \"Polenca hotel Pearson correlation Coefficient:  0.818308870004014\"\n",
      "[1] \"Polenca hotel Spearson Correlation Coefficient:  0.816906472605911\"\n"
     ]
    }
   ],
   "source": [
    "pearson_cor = cor(MATemp$Polenca.X, MATemp$Polenca.Y, method='pearson')\n",
    "spearman_cor = cor(MATemp$Polenca.X, MATemp$Polenca.Y, method='spearman')\n",
    "\n",
    "\n",
    "print(paste(\"Polenca hotel Pearson correlation Coefficient: \", pearson_cor))\n",
    "print(paste(\"Polenca hotel Spearson Correlation Coefficient: \", spearman_cor))"
   ]
  },
  {
   "cell_type": "markdown",
   "id": "d33703c0-2bc2-43aa-81ed-75d691c55f57",
   "metadata": {},
   "source": [
    "`Conclusion:` Above result shows that there is a positive strong correlation b/w the Polenca hotel and the temperature, it shows that in this hotel there is a strong increment of occupancy in the hotel during the summer (or in high temperature) season."
   ]
  },
  {
   "cell_type": "markdown",
   "id": "a3fcd1c6-b61d-4e42-88d3-eabd99a8c72d",
   "metadata": {},
   "source": [
    "### Correlation Coefficient on more than two variables."
   ]
  },
  {
   "cell_type": "markdown",
   "id": "37f08c30-e765-418d-81dd-0e7917c81d6f",
   "metadata": {},
   "source": [
    "Note: if there are more than two variable are available in the dataset then we can find out the multiple correlation coefficient by using the bellow funciton."
   ]
  },
  {
   "cell_type": "markdown",
   "id": "8425b718-2027-4458-b659-08ab57e061ae",
   "metadata": {},
   "source": [
    "<img src=\"https://www.real-statistics.com/wp-content/uploads/2012/12/multiple-correlation-coefficient.png\" alt=\"Girl in a jacket\" width=\"200\" height=\"400\">"
   ]
  },
  {
   "cell_type": "markdown",
   "id": "1df8e523-eee8-42b6-a74e-669dd954e18a",
   "metadata": {},
   "source": [
    "where $r_{xz}, r_{yz}, r_{xy}$ correlation coefficient b/w x and z, y and z, x and y respectively . Here x and y are viewed as the independent variables and z is the dependent variable.\n",
    "\n",
    "We also define the multiple coefficient of determination to be the square of the multiple correlation coefficient.\n",
    "\n",
    "Often the subscripts are dropped and the multiple correlation coefficient and multiple coefficient of determination are written simply as $R$ and $R^2$ respectively. These definitions may also be expanded to more than two independent variables. With just one independent variable the multiple correlation coefficient is simply $r$.\n",
    "\n",
    "Unfortunately, $R$ is not an unbiased estimate of the population multiple correlation coefficient, which is evident for small samples. A relatively unbiased version of $R$ is given by $R$ **adjusted**."
   ]
  },
  {
   "cell_type": "code",
   "execution_count": null,
   "id": "cea3ac65-273d-4dff-a68d-91019eaa4f34",
   "metadata": {},
   "outputs": [],
   "source": []
  }
 ],
 "metadata": {
  "kernelspec": {
   "display_name": "R",
   "language": "R",
   "name": "ir"
  },
  "language_info": {
   "codemirror_mode": "r",
   "file_extension": ".r",
   "mimetype": "text/x-r-source",
   "name": "R",
   "pygments_lexer": "r",
   "version": "3.6.1"
  },
  "toc-autonumbering": true
 },
 "nbformat": 4,
 "nbformat_minor": 5
}
