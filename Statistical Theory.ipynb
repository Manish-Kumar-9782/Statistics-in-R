{
 "cells": [
  {
   "cell_type": "markdown",
   "id": "a92713ad-fe1a-42bf-9e9e-4a735a7e6b02",
   "metadata": {},
   "source": [
    "# 1. Sample Versus Population\n",
    "\n",
    "A population is a well-defined set of individuals, events, or objects. a sample is a selection of individuals, events, or objects taken from a well-defined population.\n",
    "\n",
    "* A sample is generally taken from a population with each individaul, event, or objecct being independent and having an equally likel chance of selection. \n",
    "* The sample average is an example of a random sample etimate of a poppulation value, eg. population mean.\n",
    "\n",
    "* Population characteristics or parameters are inferred from sample estimates, which are called statistics.\n",
    "    * Example of population parameters are population proportion, population mean, population correlation.\n",
    "    \n",
    "* Because a sample is only a part of the population, how can the smaple estimate accurately reflect the population characteristic? There is an expectation taht the sample estimate will be close to the population value if the sample is representative of the population.\n",
    "The difference b/w the sample estimate and the population values is called **sample error**.\n",
    "\n",
    "* In a random sample all objects have an equal chance of being selected from the population. if the sample is reasonably large, this equally likely chance of any individual, event, or object being selected makes it likely that the random sample will represent the population well.\n",
    "\n",
    "* The difference b/w a known population value and a random sample value cab be observed. Different samples may lead to different sample estimates of population parameters, so most estimates from samples contins some error of estimation or sampling error.\n",
    "\n",
    "* Basically, a random sample error is part of a population parameters or characteristics.\n",
    "\n",
    "* Different random samples lead to different sample estimates."
   ]
  },
  {
   "cell_type": "markdown",
   "id": "0636fd35-28b9-44f9-9315-ac574e2439d4",
   "metadata": {},
   "source": [
    "**Task: Simulate a program to check the probability of voted people form a population to win the election**"
   ]
  },
  {
   "cell_type": "markdown",
   "id": "acdd5695-4ea7-44fc-a89d-d21842fe217f",
   "metadata": {},
   "source": [
    "To Simulate the probability of voted people we need to take sample of some people from population.\n",
    "\n",
    "1. we will genereate a random sample with a proposition of population.\n",
    "2. we will consider the PropPop is the real probability (theoritical probability) so we need to generate samples and need to check that our proposition of people is approximated to the real probability.\n",
    "3. we will perform this approximation on different sample size."
   ]
  },
  {
   "cell_type": "code",
   "execution_count": 1,
   "id": "f1341490-5ad6-4467-b82e-0caf53faaea3",
   "metadata": {},
   "outputs": [],
   "source": [
    "# setting a random seed\n",
    "set.seed(13579)"
   ]
  },
  {
   "cell_type": "code",
   "execution_count": 22,
   "id": "b0a53faa-f1af-4b0f-9cb8-d918c5e992e5",
   "metadata": {},
   "outputs": [],
   "source": [
    "# we will make a function which will take the sequence of samplesize and population proposition.\n",
    "FavorProp  = function(Population, ProPop,probabilities , SampleSizes = 100, replacement=TRUE){\n",
    "    \n",
    "    # Now we need to generate a random sample from the population (0, 1 )\n",
    "    # 0 is used for whoes are not in favor\n",
    "    # 1 is used for whoes are in favor\n",
    "    \n",
    "    SimData = NULL  # to store all the final result \n",
    "    for (SampleSize in SampleSizes){\n",
    "        \n",
    "        # NOw need to generate random samples uing SampleSize\n",
    "        SampleData = sample(x=Population, prob = probabilities, size=SampleSize, replace= replacement)\n",
    "        \n",
    "        # Now we need to add all the data to get the proposition of people whoes are in our favor\n",
    "        InFavor = sum(SampleData)\n",
    "        \n",
    "        # Now we need to get the proposition probability \n",
    "        InFavorProb = round(InFavor/SampleSize, 3)\n",
    "        \n",
    "        # Now we need to count the error with real probability and approximated probability\n",
    "        Error = ProPop - InFavorProb\n",
    "        \n",
    "        # Now we need to combine  SAmpleSize, InFavor, InFavorProb(Sample prop), True prop\n",
    "        FavorDataRow = c(SampleSize, InFavor, InFavorProb, ProPop, Error)\n",
    "        \n",
    "        \n",
    "        if (is.null(SimData)){\n",
    "            \n",
    "            # if SimData is null then we need to initiate it\n",
    "            SimData = rbind(FavorDataRow)\n",
    "        }\n",
    "        else{\n",
    "            # if SimData is having some data already then we need to apped the next row\n",
    "            SimData = rbind(SimData, FavorDataRow)\n",
    "        }\n",
    "    }\n",
    "    # before returning we need to rename all the data column names and row names.\n",
    "    colnames(SimData) = c(\"SampleSize\",\"No.in Favor\", \"Sample Prop.\", \"True Prop\", \"Est. Error\")\n",
    "    rownames(SimData) = 1:length(SampleSizes)\n",
    "    # Now finally we need to return the final data.\n",
    "    data.frame(SimData)\n",
    "}"
   ]
  },
  {
   "cell_type": "code",
   "execution_count": 23,
   "id": "2a97f79d-85c7-42e3-b70d-0268dbf4ec5f",
   "metadata": {},
   "outputs": [],
   "source": [
    "FavorData = FavorProp(Population = c(0,1), ProPop=0.677, probabilities = c(1-.677,.677), SampleSizes = seq(50,1000,100))"
   ]
  },
  {
   "cell_type": "code",
   "execution_count": 24,
   "id": "3162428a-b33f-42f9-9cc2-1049e3eeca11",
   "metadata": {},
   "outputs": [
    {
     "data": {
      "text/html": [
       "<table>\n",
       "<thead><tr><th scope=col>SampleSize</th><th scope=col>No.in.Favor</th><th scope=col>Sample.Prop.</th><th scope=col>True.Prop</th><th scope=col>Est..Error</th></tr></thead>\n",
       "<tbody>\n",
       "\t<tr><td> 50   </td><td> 39   </td><td>0.780 </td><td>0.677 </td><td>-0.103</td></tr>\n",
       "\t<tr><td>150   </td><td>108   </td><td>0.720 </td><td>0.677 </td><td>-0.043</td></tr>\n",
       "\t<tr><td>250   </td><td>171   </td><td>0.684 </td><td>0.677 </td><td>-0.007</td></tr>\n",
       "\t<tr><td>350   </td><td>224   </td><td>0.640 </td><td>0.677 </td><td> 0.037</td></tr>\n",
       "\t<tr><td>450   </td><td>321   </td><td>0.713 </td><td>0.677 </td><td>-0.036</td></tr>\n",
       "\t<tr><td>550   </td><td>371   </td><td>0.675 </td><td>0.677 </td><td> 0.002</td></tr>\n",
       "\t<tr><td>650   </td><td>415   </td><td>0.638 </td><td>0.677 </td><td> 0.039</td></tr>\n",
       "\t<tr><td>750   </td><td>517   </td><td>0.689 </td><td>0.677 </td><td>-0.012</td></tr>\n",
       "\t<tr><td>850   </td><td>586   </td><td>0.689 </td><td>0.677 </td><td>-0.012</td></tr>\n",
       "\t<tr><td>950   </td><td>658   </td><td>0.693 </td><td>0.677 </td><td>-0.016</td></tr>\n",
       "</tbody>\n",
       "</table>\n"
      ],
      "text/latex": [
       "\\begin{tabular}{r|lllll}\n",
       " SampleSize & No.in.Favor & Sample.Prop. & True.Prop & Est..Error\\\\\n",
       "\\hline\n",
       "\t  50    &  39    & 0.780  & 0.677  & -0.103\\\\\n",
       "\t 150    & 108    & 0.720  & 0.677  & -0.043\\\\\n",
       "\t 250    & 171    & 0.684  & 0.677  & -0.007\\\\\n",
       "\t 350    & 224    & 0.640  & 0.677  &  0.037\\\\\n",
       "\t 450    & 321    & 0.713  & 0.677  & -0.036\\\\\n",
       "\t 550    & 371    & 0.675  & 0.677  &  0.002\\\\\n",
       "\t 650    & 415    & 0.638  & 0.677  &  0.039\\\\\n",
       "\t 750    & 517    & 0.689  & 0.677  & -0.012\\\\\n",
       "\t 850    & 586    & 0.689  & 0.677  & -0.012\\\\\n",
       "\t 950    & 658    & 0.693  & 0.677  & -0.016\\\\\n",
       "\\end{tabular}\n"
      ],
      "text/markdown": [
       "\n",
       "| SampleSize | No.in.Favor | Sample.Prop. | True.Prop | Est..Error |\n",
       "|---|---|---|---|---|\n",
       "|  50    |  39    | 0.780  | 0.677  | -0.103 |\n",
       "| 150    | 108    | 0.720  | 0.677  | -0.043 |\n",
       "| 250    | 171    | 0.684  | 0.677  | -0.007 |\n",
       "| 350    | 224    | 0.640  | 0.677  |  0.037 |\n",
       "| 450    | 321    | 0.713  | 0.677  | -0.036 |\n",
       "| 550    | 371    | 0.675  | 0.677  |  0.002 |\n",
       "| 650    | 415    | 0.638  | 0.677  |  0.039 |\n",
       "| 750    | 517    | 0.689  | 0.677  | -0.012 |\n",
       "| 850    | 586    | 0.689  | 0.677  | -0.012 |\n",
       "| 950    | 658    | 0.693  | 0.677  | -0.016 |\n",
       "\n"
      ],
      "text/plain": [
       "   SampleSize No.in.Favor Sample.Prop. True.Prop Est..Error\n",
       "1   50         39         0.780        0.677     -0.103    \n",
       "2  150        108         0.720        0.677     -0.043    \n",
       "3  250        171         0.684        0.677     -0.007    \n",
       "4  350        224         0.640        0.677      0.037    \n",
       "5  450        321         0.713        0.677     -0.036    \n",
       "6  550        371         0.675        0.677      0.002    \n",
       "7  650        415         0.638        0.677      0.039    \n",
       "8  750        517         0.689        0.677     -0.012    \n",
       "9  850        586         0.689        0.677     -0.012    \n",
       "10 950        658         0.693        0.677     -0.016    "
      ]
     },
     "metadata": {},
     "output_type": "display_data"
    }
   ],
   "source": [
    "FavorData"
   ]
  },
  {
   "cell_type": "code",
   "execution_count": 25,
   "id": "762a165f-baa9-4561-970d-5d4c1fc00781",
   "metadata": {},
   "outputs": [
    {
     "data": {
      "text/html": [
       "<table>\n",
       "<thead><tr><th scope=col>SampleSize</th><th scope=col>No.in.Favor</th><th scope=col>Sample.Prop.</th><th scope=col>True.Prop</th><th scope=col>Est..Error</th></tr></thead>\n",
       "<tbody>\n",
       "\t<tr><td>  10  </td><td>   6  </td><td>0.600 </td><td>0.677 </td><td> 0.077</td></tr>\n",
       "\t<tr><td> 100  </td><td>  68  </td><td>0.680 </td><td>0.677 </td><td>-0.003</td></tr>\n",
       "\t<tr><td> 500  </td><td> 340  </td><td>0.680 </td><td>0.677 </td><td>-0.003</td></tr>\n",
       "\t<tr><td>1000  </td><td> 681  </td><td>0.681 </td><td>0.677 </td><td>-0.004</td></tr>\n",
       "\t<tr><td>1500  </td><td>1011  </td><td>0.674 </td><td>0.677 </td><td> 0.003</td></tr>\n",
       "</tbody>\n",
       "</table>\n"
      ],
      "text/latex": [
       "\\begin{tabular}{r|lllll}\n",
       " SampleSize & No.in.Favor & Sample.Prop. & True.Prop & Est..Error\\\\\n",
       "\\hline\n",
       "\t   10   &    6   & 0.600  & 0.677  &  0.077\\\\\n",
       "\t  100   &   68   & 0.680  & 0.677  & -0.003\\\\\n",
       "\t  500   &  340   & 0.680  & 0.677  & -0.003\\\\\n",
       "\t 1000   &  681   & 0.681  & 0.677  & -0.004\\\\\n",
       "\t 1500   & 1011   & 0.674  & 0.677  &  0.003\\\\\n",
       "\\end{tabular}\n"
      ],
      "text/markdown": [
       "\n",
       "| SampleSize | No.in.Favor | Sample.Prop. | True.Prop | Est..Error |\n",
       "|---|---|---|---|---|\n",
       "|   10   |    6   | 0.600  | 0.677  |  0.077 |\n",
       "|  100   |   68   | 0.680  | 0.677  | -0.003 |\n",
       "|  500   |  340   | 0.680  | 0.677  | -0.003 |\n",
       "| 1000   |  681   | 0.681  | 0.677  | -0.004 |\n",
       "| 1500   | 1011   | 0.674  | 0.677  |  0.003 |\n",
       "\n"
      ],
      "text/plain": [
       "  SampleSize No.in.Favor Sample.Prop. True.Prop Est..Error\n",
       "1   10          6        0.600        0.677      0.077    \n",
       "2  100         68        0.680        0.677     -0.003    \n",
       "3  500        340        0.680        0.677     -0.003    \n",
       "4 1000        681        0.681        0.677     -0.004    \n",
       "5 1500       1011        0.674        0.677      0.003    "
      ]
     },
     "metadata": {},
     "output_type": "display_data"
    }
   ],
   "source": [
    "set.seed(13579)\n",
    "FavorData = FavorProp(Population = c(0,1), ProPop=0.677, probabilities = c(1-.677,.677), \n",
    "                      SampleSizes = c(10, 100, 500, 1000, 1500))\n",
    "FavorData"
   ]
  },
  {
   "cell_type": "code",
   "execution_count": 29,
   "id": "a34439a0-d888-45d6-a03e-a20eb604669b",
   "metadata": {},
   "outputs": [],
   "source": [
    "set.seed(13579)\n",
    "FavorData = FavorProp(Population = c(0,1), ProPop=0.098, probabilities = c(1-0.098,0.098), \n",
    "                      SampleSizes = seq(500,50000,500))\n",
    "#FavorData"
   ]
  },
  {
   "cell_type": "code",
   "execution_count": 27,
   "id": "36537a1d-6dc3-42b4-a090-77baa39ea642",
   "metadata": {},
   "outputs": [
    {
     "data": {
      "text/html": [
       "'data.frame'"
      ],
      "text/latex": [
       "'data.frame'"
      ],
      "text/markdown": [
       "'data.frame'"
      ],
      "text/plain": [
       "[1] \"data.frame\""
      ]
     },
     "metadata": {},
     "output_type": "display_data"
    }
   ],
   "source": [
    "class(FavorData)"
   ]
  },
  {
   "cell_type": "code",
   "execution_count": 37,
   "id": "5dfab5d5-4d95-47a8-b0e5-18ba77a72519",
   "metadata": {},
   "outputs": [
    {
     "data": {
      "image/png": "[encoded data removed]",
      "text/plain": [
       "plot without title"
      ]
     },
     "metadata": {},
     "output_type": "display_data"
    }
   ],
   "source": [
    "plot(x = FavorData$SampleSize, y= FavorData$Sample.Prop., xlab=\"Sample Size\", ylab=\"Approximated Sample Propbabilty\", col=3, type='l',\n",
    "    ylim= c(0.06,0.12))\n",
    "points(x = FavorData$SampleSize, y= FavorData$Sample.Prop., pch=16, cex=0.5, col=2)\n",
    "abline(a=1, b=0, h=0.098, lty=2, col=4, lwd=2)"
   ]
  },
  {
   "cell_type": "markdown",
   "id": "f1821414-0ff6-4158-9d06-052d939d46ab",
   "metadata": {},
   "source": [
    "From the Graph of simulation we can say that by increasing the sample size we can reach upto true prop. value. this a simple random sampling exercise. we will see one more exercise."
   ]
  },
  {
   "cell_type": "markdown",
   "id": "d7b5e6c8-be8d-4ef7-aa0b-04d2880bf999",
   "metadata": {},
   "source": [
    "___"
   ]
  },
  {
   "cell_type": "markdown",
   "id": "ee703803-6e04-4c65-b079-835043bcbeb5",
   "metadata": {},
   "source": [
    "# 2. Generating Random Numbers"
   ]
  },
  {
   "cell_type": "code",
   "execution_count": null,
   "id": "9e77c2a9-45e2-42e4-a1ba-a0f8f86011b3",
   "metadata": {},
   "outputs": [],
   "source": []
  }
 ],
 "metadata": {
  "kernelspec": {
   "display_name": "R",
   "language": "R",
   "name": "ir"
  },
  "language_info": {
   "codemirror_mode": "r",
   "file_extension": ".r",
   "mimetype": "text/x-r-source",
   "name": "R",
   "pygments_lexer": "r",
   "version": "3.6.1"
  }
 },
 "nbformat": 4,
 "nbformat_minor": 5
}
