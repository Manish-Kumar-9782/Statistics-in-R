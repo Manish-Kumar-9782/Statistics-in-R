{
 "cells": [
  {
   "cell_type": "markdown",
   "id": "8a41b1fc",
   "metadata": {},
   "source": [
    "# An introduction to Basic Plotting Tools\n",
    "\n",
    "Wehave demonstrated the use of R tools for importing data, manipulating data, extracting subsets of data, and making simple calculations, such as mean, variance, standard deviation, and many more.\n",
    "\n",
    "In this section, we introduce basic grph plotting tols if you are intersted in only simple graphing, this chapter will suffice."
   ]
  },
  {
   "cell_type": "markdown",
   "id": "9d17dbcd",
   "metadata": {},
   "source": [
    "### 1. The plot Function"
   ]
  },
  {
   "cell_type": "markdown",
   "id": "0bce7a70",
   "metadata": {},
   "source": [
    "In this section we will use the vegetation data. vegetation data are grassland data from a monitoring program conducted in two temperate communities in Yellowstone Nation Park and the aNational Bison Range, USA.\n",
    "\n",
    "To Quantify biodiversity, species richness was calcullated.\n",
    "\n",
    "* Now we want to model richness as a function of BARESOIL and also we want to plot of species richness versus the substrate variable \"exposed soil\" denoted by BARESOIL.\n",
    "\n",
    "Now first of all we need to export the vegetation dataset ."
   ]
  },
  {
   "cell_type": "code",
   "execution_count": 1,
   "id": "c17a932a",
   "metadata": {},
   "outputs": [],
   "source": [
    "veg = read.table(file=\"RBook/RBook/vegetation2.txt\", header=TRUE)"
   ]
  },
  {
   "cell_type": "code",
   "execution_count": 2,
   "id": "c9b767d4",
   "metadata": {},
   "outputs": [
    {
     "data": {
      "text/html": [
       "<table>\n",
       "<thead><tr><th scope=col>TransectName</th><th scope=col>Samples</th><th scope=col>Transect</th><th scope=col>Time</th><th scope=col>R</th><th scope=col>ROCK</th><th scope=col>LITTER</th><th scope=col>ML</th><th scope=col>BARESOIL</th><th scope=col>FallPrec</th><th scope=col>...</th><th scope=col>SprTmax</th><th scope=col>SumTmax</th><th scope=col>WinTmax</th><th scope=col>FallTmin</th><th scope=col>SprTmin</th><th scope=col>SumTmin</th><th scope=col>WinTmin</th><th scope=col>PCTSAND</th><th scope=col>PCTSILT</th><th scope=col>PCTOrgC</th></tr></thead>\n",
       "<tbody>\n",
       "\t<tr><td>A_22_58</td><td>1      </td><td>1      </td><td>1958   </td><td> 8     </td><td>27     </td><td>30     </td><td>0      </td><td>26     </td><td>30.22  </td><td>...    </td><td>15.77  </td><td>25.17  </td><td>3.47   </td><td> 0.49  </td><td> 0.36  </td><td>6.97   </td><td> -8.54 </td><td>24     </td><td>30     </td><td>0.03459</td></tr>\n",
       "\t<tr><td>A_22_62</td><td>2      </td><td>1      </td><td>1962   </td><td> 6     </td><td>26     </td><td>20     </td><td>0      </td><td>28     </td><td>99.56  </td><td>...    </td><td>15.21  </td><td>24.85  </td><td>1.16   </td><td>-0.18  </td><td> 0.18  </td><td>6.40   </td><td>-10.76 </td><td>24     </td><td>30     </td><td>0.03459</td></tr>\n",
       "\t<tr><td>A_22_67</td><td>3      </td><td>1      </td><td>1967   </td><td> 8     </td><td>30     </td><td>24     </td><td>0      </td><td>30     </td><td>43.43  </td><td>...    </td><td>12.76  </td><td>25.51  </td><td>3.09   </td><td> 1.23  </td><td>-1.86  </td><td>7.12   </td><td> -8.50 </td><td>24     </td><td>30     </td><td>0.03459</td></tr>\n",
       "\t<tr><td>A_22_74</td><td>4      </td><td>1      </td><td>1974   </td><td> 8     </td><td>18     </td><td>35     </td><td>0      </td><td>16     </td><td>54.86  </td><td>...    </td><td>14.00  </td><td>26.67  </td><td>2.46   </td><td> 1.43  </td><td>-0.53  </td><td>7.20   </td><td> -8.28 </td><td>24     </td><td>30     </td><td>0.03459</td></tr>\n",
       "\t<tr><td>A_22_81</td><td>5      </td><td>1      </td><td>1981   </td><td>10     </td><td>23     </td><td>22     </td><td>4      </td><td> 9     </td><td>24.38  </td><td>...    </td><td>14.33  </td><td>26.02  </td><td>5.72   </td><td> 1.09  </td><td> 0.75  </td><td>6.90   </td><td> -7.56 </td><td>24     </td><td>30     </td><td>0.03459</td></tr>\n",
       "\t<tr><td>A_22_94</td><td>6      </td><td>1      </td><td>1994   </td><td> 7     </td><td>26     </td><td>26     </td><td>0      </td><td>23     </td><td>10.16  </td><td>...    </td><td>16.91  </td><td>26.78  </td><td>3.64   </td><td> 0.28  </td><td> 0.64  </td><td>6.94   </td><td> -9.21 </td><td>24     </td><td>30     </td><td>0.03459</td></tr>\n",
       "</tbody>\n",
       "</table>\n"
      ],
      "text/latex": [
       "\\begin{tabular}{r|llllllllllllllllllllllll}\n",
       " TransectName & Samples & Transect & Time & R & ROCK & LITTER & ML & BARESOIL & FallPrec & ... & SprTmax & SumTmax & WinTmax & FallTmin & SprTmin & SumTmin & WinTmin & PCTSAND & PCTSILT & PCTOrgC\\\\\n",
       "\\hline\n",
       "\t A\\_22\\_58 & 1           & 1           & 1958        &  8          & 27          & 30          & 0           & 26          & 30.22       & ...         & 15.77       & 25.17       & 3.47        &  0.49       &  0.36       & 6.97        &  -8.54      & 24          & 30          & 0.03459    \\\\\n",
       "\t A\\_22\\_62 & 2           & 1           & 1962        &  6          & 26          & 20          & 0           & 28          & 99.56       & ...         & 15.21       & 24.85       & 1.16        & -0.18       &  0.18       & 6.40        & -10.76      & 24          & 30          & 0.03459    \\\\\n",
       "\t A\\_22\\_67 & 3           & 1           & 1967        &  8          & 30          & 24          & 0           & 30          & 43.43       & ...         & 12.76       & 25.51       & 3.09        &  1.23       & -1.86       & 7.12        &  -8.50      & 24          & 30          & 0.03459    \\\\\n",
       "\t A\\_22\\_74 & 4           & 1           & 1974        &  8          & 18          & 35          & 0           & 16          & 54.86       & ...         & 14.00       & 26.67       & 2.46        &  1.43       & -0.53       & 7.20        &  -8.28      & 24          & 30          & 0.03459    \\\\\n",
       "\t A\\_22\\_81 & 5           & 1           & 1981        & 10          & 23          & 22          & 4           &  9          & 24.38       & ...         & 14.33       & 26.02       & 5.72        &  1.09       &  0.75       & 6.90        &  -7.56      & 24          & 30          & 0.03459    \\\\\n",
       "\t A\\_22\\_94 & 6           & 1           & 1994        &  7          & 26          & 26          & 0           & 23          & 10.16       & ...         & 16.91       & 26.78       & 3.64        &  0.28       &  0.64       & 6.94        &  -9.21      & 24          & 30          & 0.03459    \\\\\n",
       "\\end{tabular}\n"
      ],
      "text/markdown": [
       "\n",
       "| TransectName | Samples | Transect | Time | R | ROCK | LITTER | ML | BARESOIL | FallPrec | ... | SprTmax | SumTmax | WinTmax | FallTmin | SprTmin | SumTmin | WinTmin | PCTSAND | PCTSILT | PCTOrgC |\n",
       "|---|---|---|---|---|---|---|---|---|---|---|---|---|---|---|---|---|---|---|---|---|\n",
       "| A_22_58 | 1       | 1       | 1958    |  8      | 27      | 30      | 0       | 26      | 30.22   | ...     | 15.77   | 25.17   | 3.47    |  0.49   |  0.36   | 6.97    |  -8.54  | 24      | 30      | 0.03459 |\n",
       "| A_22_62 | 2       | 1       | 1962    |  6      | 26      | 20      | 0       | 28      | 99.56   | ...     | 15.21   | 24.85   | 1.16    | -0.18   |  0.18   | 6.40    | -10.76  | 24      | 30      | 0.03459 |\n",
       "| A_22_67 | 3       | 1       | 1967    |  8      | 30      | 24      | 0       | 30      | 43.43   | ...     | 12.76   | 25.51   | 3.09    |  1.23   | -1.86   | 7.12    |  -8.50  | 24      | 30      | 0.03459 |\n",
       "| A_22_74 | 4       | 1       | 1974    |  8      | 18      | 35      | 0       | 16      | 54.86   | ...     | 14.00   | 26.67   | 2.46    |  1.43   | -0.53   | 7.20    |  -8.28  | 24      | 30      | 0.03459 |\n",
       "| A_22_81 | 5       | 1       | 1981    | 10      | 23      | 22      | 4       |  9      | 24.38   | ...     | 14.33   | 26.02   | 5.72    |  1.09   |  0.75   | 6.90    |  -7.56  | 24      | 30      | 0.03459 |\n",
       "| A_22_94 | 6       | 1       | 1994    |  7      | 26      | 26      | 0       | 23      | 10.16   | ...     | 16.91   | 26.78   | 3.64    |  0.28   |  0.64   | 6.94    |  -9.21  | 24      | 30      | 0.03459 |\n",
       "\n"
      ],
      "text/plain": [
       "  TransectName Samples Transect Time R  ROCK LITTER ML BARESOIL FallPrec ...\n",
       "1 A_22_58      1       1        1958  8 27   30     0  26       30.22    ...\n",
       "2 A_22_62      2       1        1962  6 26   20     0  28       99.56    ...\n",
       "3 A_22_67      3       1        1967  8 30   24     0  30       43.43    ...\n",
       "4 A_22_74      4       1        1974  8 18   35     0  16       54.86    ...\n",
       "5 A_22_81      5       1        1981 10 23   22     4   9       24.38    ...\n",
       "6 A_22_94      6       1        1994  7 26   26     0  23       10.16    ...\n",
       "  SprTmax SumTmax WinTmax FallTmin SprTmin SumTmin WinTmin PCTSAND PCTSILT\n",
       "1 15.77   25.17   3.47     0.49     0.36   6.97     -8.54  24      30     \n",
       "2 15.21   24.85   1.16    -0.18     0.18   6.40    -10.76  24      30     \n",
       "3 12.76   25.51   3.09     1.23    -1.86   7.12     -8.50  24      30     \n",
       "4 14.00   26.67   2.46     1.43    -0.53   7.20     -8.28  24      30     \n",
       "5 14.33   26.02   5.72     1.09     0.75   6.90     -7.56  24      30     \n",
       "6 16.91   26.78   3.64     0.28     0.64   6.94     -9.21  24      30     \n",
       "  PCTOrgC\n",
       "1 0.03459\n",
       "2 0.03459\n",
       "3 0.03459\n",
       "4 0.03459\n",
       "5 0.03459\n",
       "6 0.03459"
      ]
     },
     "metadata": {},
     "output_type": "display_data"
    }
   ],
   "source": [
    "# checking the head of the dataset\n",
    "head(veg)"
   ]
  },
  {
   "cell_type": "code",
   "execution_count": 3,
   "id": "90c89fc7",
   "metadata": {},
   "outputs": [
    {
     "name": "stdout",
     "output_type": "stream",
     "text": [
      "'data.frame':\t58 obs. of  24 variables:\n",
      " $ TransectName: Factor w/ 58 levels \"A_22_02\",\"A_22_58\",..: 2 3 4 5 6 7 1 9 10 11 ...\n",
      " $ Samples     : int  1 2 3 4 5 6 7 8 9 10 ...\n",
      " $ Transect    : int  1 1 1 1 1 1 1 2 2 2 ...\n",
      " $ Time        : int  1958 1962 1967 1974 1981 1994 2002 1958 1962 1967 ...\n",
      " $ R           : int  8 6 8 8 10 7 6 5 8 6 ...\n",
      " $ ROCK        : num  27 26 30 18 23 26 39 25 24 21 ...\n",
      " $ LITTER      : num  30 20 24 35 22 26 19 26 24 16 ...\n",
      " $ ML          : int  0 0 0 0 4 0 4 0 2 1 ...\n",
      " $ BARESOIL    : num  26 28 30 16 9 23 19 33 29 41 ...\n",
      " $ FallPrec    : num  30.2 99.6 43.4 54.9 24.4 ...\n",
      " $ SprPrec     : num  75.4 56.1 65 58.7 87.6 ...\n",
      " $ SumPrec     : num  125.5 95 112.3 70.3 81.8 ...\n",
      " $ WinPrec     : num  39.6 107.4 76.7 90.7 46 ...\n",
      " $ FallTmax    : num  17 14.6 18.4 17.2 18.5 ...\n",
      " $ SprTmax     : num  15.8 15.2 12.8 14 14.3 ...\n",
      " $ SumTmax     : num  25.2 24.9 25.5 26.7 26 ...\n",
      " $ WinTmax     : num  3.47 1.16 3.09 2.46 5.72 ...\n",
      " $ FallTmin    : num  0.49 -0.18 1.23 1.43 1.09 ...\n",
      " $ SprTmin     : num  0.36 0.18 -1.86 -0.53 0.75 ...\n",
      " $ SumTmin     : num  6.97 6.4 7.12 7.2 6.9 ...\n",
      " $ WinTmin     : num  -8.54 -10.76 -8.5 -8.28 -7.56 ...\n",
      " $ PCTSAND     : int  24 24 24 24 24 24 24 20 20 20 ...\n",
      " $ PCTSILT     : int  30 30 30 30 30 30 30 34 34 34 ...\n",
      " $ PCTOrgC     : num  0.0346 0.0346 0.0346 0.0346 0.0346 ...\n"
     ]
    }
   ],
   "source": [
    "# checking the structure of the  dataset\n",
    "str(veg)"
   ]
  },
  {
   "cell_type": "markdown",
   "id": "9da28741",
   "metadata": {},
   "source": [
    "This dataset contain all numaric values except one."
   ]
  },
  {
   "cell_type": "code",
   "execution_count": 4,
   "id": "4925e05a",
   "metadata": {},
   "outputs": [
    {
     "data": {
      "image/png": "[encoded data removed]",
      "text/plain": [
       "plot without title"
      ]
     },
     "metadata": {},
     "output_type": "display_data"
    }
   ],
   "source": [
    "# Now we will plot b/w veg$R and veg$BARESOIL\n",
    "plot(veg$R, veg$BARESOIL)"
   ]
  },
  {
   "cell_type": "markdown",
   "id": "0a6aebbd",
   "metadata": {},
   "source": [
    "`Note:` In this plot we should notice that R is an response(dependent) variable and BARESOIL is an explanatory(independent) variable so now we should consider about the order of passing the R and BARESOIL variable into the plot function.\n",
    "\n",
    "Now we should reverse the order of the variables."
   ]
  },
  {
   "cell_type": "code",
   "execution_count": 5,
   "id": "51655f66",
   "metadata": {},
   "outputs": [
    {
     "data": {
      "image/png": "[encoded data removed]",
      "text/plain": [
       "plot without title"
      ]
     },
     "metadata": {},
     "output_type": "display_data"
    }
   ],
   "source": [
    "# Correcting the order of the variable\n",
    "plot(veg$BARESOIL, veg$R)"
   ]
  },
  {
   "cell_type": "markdown",
   "id": "b001e38c",
   "metadata": {},
   "source": [
    "Now this plot looks good and the relation become more clear b/w the richness of spicies and exposed soil. We can also use x and y argument to avoid the confusion of ordering of passing variable in any plot or any other function."
   ]
  },
  {
   "cell_type": "code",
   "execution_count": 6,
   "id": "04dedced",
   "metadata": {},
   "outputs": [
    {
     "data": {
      "image/png": "[encoded data removed]",
      "text/plain": [
       "plot without title"
      ]
     },
     "metadata": {},
     "output_type": "display_data"
    }
   ],
   "source": [
    "plot(x=veg$BARESOIL, y=veg$R)"
   ]
  },
  {
   "cell_type": "markdown",
   "id": "f7aac14d",
   "metadata": {},
   "source": [
    "**Passing the variable name without using the attachment and using data argument**\n"
   ]
  },
  {
   "cell_type": "code",
   "execution_count": 7,
   "id": "cd5b95ef",
   "metadata": {},
   "outputs": [
    {
     "ename": "ERROR",
     "evalue": "Error in plot(BARESOIL, R, data = veg): object 'BARESOIL' not found\n",
     "output_type": "error",
     "traceback": [
      "Error in plot(BARESOIL, R, data = veg): object 'BARESOIL' not found\nTraceback:\n",
      "1. plot(BARESOIL, R, data = veg)"
     ]
    }
   ],
   "source": [
    "# passing variable directly as did above\n",
    "plot(BARESOIL, R , data=veg)"
   ]
  },
  {
   "cell_type": "markdown",
   "id": "139b1911",
   "metadata": {},
   "source": [
    "`Note:` We can pass the variable directly without using attachment command we need to define the relation b/w the R and BARESOIL by using `~` tilde symbole."
   ]
  },
  {
   "cell_type": "code",
   "execution_count": null,
   "id": "1fef8ec1",
   "metadata": {},
   "outputs": [],
   "source": [
    "# Plotting the plot with ~ and data argument without attachment '$'.\n",
    "plot(R ~ BARESOIL, data=veg)"
   ]
  },
  {
   "cell_type": "markdown",
   "id": "6b5fe1ec",
   "metadata": {},
   "source": [
    "Now as we can see that this plot is more clear then others plots. To make it more clear and very simple we can pass another argument which is available in the plot fucntion like xlab, ylab, xlim, ylim and main argument."
   ]
  },
  {
   "cell_type": "markdown",
   "id": "75bbf2fa",
   "metadata": {},
   "source": [
    "**Extending the Plot commands**"
   ]
  },
  {
   "cell_type": "code",
   "execution_count": null,
   "id": "2fbf38a2",
   "metadata": {},
   "outputs": [],
   "source": [
    "plot(x=veg$BARESOIL, y=veg$R, xlab='Exposed Soil', ylab='Species Richness', \n",
    "    xlim=c(min(veg$BARESOIL, na.rm=TRUE), max(veg$BARESOIL, na.rm=TRUE)),\n",
    "    ylim=c(min(veg$R, na.rm=TRUE), max(veg$R, na.rm=TRUE)),\n",
    "    main=\"Species Richness VS Exposed Soil\")"
   ]
  },
  {
   "cell_type": "markdown",
   "id": "757ca0dd",
   "metadata": {},
   "source": [
    "#### Explanation of above code\n",
    "```ruby\n",
    "plot(x=veg$BARESOIL, y=veg$R, xlab='Exposed Soil', ylab='Species Richness', \n",
    "    xlim=c(min(veg$BARESOIL, na.rm=TRUE), max(veg$BARESOIL, na.rm=TRUE)),\n",
    "    ylim=c(min(veg$R, na.rm=TRUE), max(veg$R, na.rm=TRUE)),\n",
    "    main=\"Species Richness VS Exposed Soil\")\n",
    "```"
   ]
  },
  {
   "cell_type": "markdown",
   "id": "3e36b2ee",
   "metadata": {},
   "source": [
    "* x and y are used to pass the variables..\n",
    "* xlab: used to set the x-axis label \n",
    "* ylab: used to set the y-axis label\n",
    "* xlim: used to set the x-axis values limits.\n",
    "* ylim: used to set the y-axis values limits.\n",
    "* main: used to set the main title of the plot.\n",
    "\n",
    "Note: function used in xlim and ylim are min() and max() function to get the minimum and maximum values presented in BARESOIL and R data and we have removed all the 'NA' values by using the `na.rm=TRUE`."
   ]
  },
  {
   "cell_type": "markdown",
   "id": "bc405d2f",
   "metadata": {},
   "source": [
    "## 2. Symbols, Colours, and Sizes\n",
    "\n",
    "We can change the size of the symbols, colours of the elements used in a plot by using their respective arguments."
   ]
  },
  {
   "cell_type": "markdown",
   "id": "ae791e6a",
   "metadata": {},
   "source": [
    "### 1. Cahnging plotting Characters"
   ]
  },
  {
   "cell_type": "markdown",
   "id": "039f84c9",
   "metadata": {},
   "source": [
    "By default R used a circle element to plot (in scatter plot) to show the relationship b/w two variable. we can change this symbole or characer by using the `pch` argument, Now we will see an example in which we will change the character of the point element."
   ]
  },
  {
   "cell_type": "code",
   "execution_count": 9,
   "id": "1d4e42bc",
   "metadata": {},
   "outputs": [
    {
     "data": {
      "image/png": "[encoded data removed]",
      "text/plain": [
       "Plot with title \"Species Richness VS Exposed Soil\""
      ]
     },
     "metadata": {},
     "output_type": "display_data"
    }
   ],
   "source": [
    "# we will use chp=16 to show a solid dot to show the plot\n",
    "plot(x=veg$BARESOIL, y=veg$R, xlab='Exposed Soil', ylab='Species Richness', \n",
    "    xlim=c(min(veg$BARESOIL, na.rm=TRUE), max(veg$BARESOIL, na.rm=TRUE)),\n",
    "    ylim=c(min(veg$R, na.rm=TRUE), max(veg$R, na.rm=TRUE)),\n",
    "    main=\"Species Richness VS Exposed Soil\", pch=16)"
   ]
  },
  {
   "cell_type": "markdown",
   "id": "d40f0a6a",
   "metadata": {},
   "source": [
    "As we can see that now we have a solid dot instead of the circle.\n",
    "\n",
    "Note1 : We can use a different kind of point element to show the dirrent kind of information in plot. this can be very usefull in to show a few type of different kind of categories. We can show this by using a vector.\n",
    "\n",
    "NOte2 : pch argument do not support any factored value we need to pass numeric value. "
   ]
  },
  {
   "cell_type": "markdown",
   "id": "182090f7",
   "metadata": {},
   "source": [
    "#### 1.1 Use of vector for pch\n",
    "\n",
    "**Task: Show different point symbol for per Transect**"
   ]
  },
  {
   "cell_type": "code",
   "execution_count": 10,
   "id": "f5426e34",
   "metadata": {},
   "outputs": [
    {
     "data": {
      "image/png": "[encoded data removed]",
      "text/plain": [
       "Plot with title \"Species Richness VS Exposed Soil\""
      ]
     },
     "metadata": {},
     "output_type": "display_data"
    }
   ],
   "source": [
    "# Now to show different kind of symbole we need to use Transect vector which contains numeric values.\n",
    "plot(x=veg$BARESOIL, y=veg$R, xlab='Exposed Soil', ylab='Species Richness', \n",
    "    xlim=c(min(veg$BARESOIL, na.rm=TRUE), max(veg$BARESOIL, na.rm=TRUE)),\n",
    "    ylim=c(min(veg$R, na.rm=TRUE), max(veg$R, na.rm=TRUE)),\n",
    "    main=\"Species Richness VS Exposed Soil\", pch=veg$Transect)\n"
   ]
  },
  {
   "cell_type": "markdown",
   "id": "4a176ca4",
   "metadata": {},
   "source": [
    "As we can see that there are differnet kind of symbole for each Transect but there is a too much infomation which can make confusion and can make our analysis difficult so we should avoid this kind of plot.\n",
    "\n",
    "Note: There are some problem during using this type of vector on pch argument which will be discussed later."
   ]
  },
  {
   "cell_type": "markdown",
   "id": "dfdbf546",
   "metadata": {},
   "source": [
    "**Task 2: Use to different kind of symbol for two groupded Transect**"
   ]
  },
  {
   "cell_type": "code",
   "execution_count": 11,
   "id": "e294f2be",
   "metadata": {},
   "outputs": [],
   "source": [
    "# In this we will divide our Transect data into two group\n",
    "# One group is before 1974 and another is after 1974.\n",
    "\n",
    "# Now we need to make one more column in which we will encode our Time data according to our symbol\n",
    "# we will use dot and star (16, 8).\n",
    "\n",
    "# Creating a new time column\n",
    "veg$Time2[veg$Time <= 1974]  = 8\n",
    "veg$Time2[veg$Time > 1974] = 16"
   ]
  },
  {
   "cell_type": "code",
   "execution_count": 13,
   "id": "44c570ad",
   "metadata": {},
   "outputs": [
    {
     "data": {
      "text/html": [
       "<ol class=list-inline>\n",
       "\t<li>8</li>\n",
       "\t<li>8</li>\n",
       "\t<li>8</li>\n",
       "\t<li>8</li>\n",
       "\t<li>16</li>\n",
       "\t<li>16</li>\n",
       "\t<li>16</li>\n",
       "\t<li>8</li>\n",
       "\t<li>8</li>\n",
       "\t<li>8</li>\n",
       "\t<li>8</li>\n",
       "\t<li>16</li>\n",
       "\t<li>16</li>\n",
       "\t<li>16</li>\n",
       "\t<li>8</li>\n",
       "\t<li>8</li>\n",
       "\t<li>8</li>\n",
       "\t<li>8</li>\n",
       "\t<li>16</li>\n",
       "\t<li>16</li>\n",
       "\t<li>16</li>\n",
       "\t<li>16</li>\n",
       "\t<li>8</li>\n",
       "\t<li>8</li>\n",
       "\t<li>8</li>\n",
       "\t<li>8</li>\n",
       "\t<li>16</li>\n",
       "\t<li>16</li>\n",
       "\t<li>16</li>\n",
       "\t<li>16</li>\n",
       "\t<li>8</li>\n",
       "\t<li>8</li>\n",
       "\t<li>8</li>\n",
       "\t<li>8</li>\n",
       "\t<li>16</li>\n",
       "\t<li>16</li>\n",
       "\t<li>16</li>\n",
       "\t<li>16</li>\n",
       "\t<li>8</li>\n",
       "\t<li>8</li>\n",
       "\t<li>8</li>\n",
       "\t<li>8</li>\n",
       "\t<li>16</li>\n",
       "\t<li>16</li>\n",
       "\t<li>16</li>\n",
       "\t<li>16</li>\n",
       "\t<li>8</li>\n",
       "\t<li>8</li>\n",
       "\t<li>8</li>\n",
       "\t<li>16</li>\n",
       "\t<li>16</li>\n",
       "\t<li>16</li>\n",
       "\t<li>8</li>\n",
       "\t<li>8</li>\n",
       "\t<li>8</li>\n",
       "\t<li>16</li>\n",
       "\t<li>16</li>\n",
       "\t<li>16</li>\n",
       "</ol>\n"
      ],
      "text/latex": [
       "\\begin{enumerate*}\n",
       "\\item 8\n",
       "\\item 8\n",
       "\\item 8\n",
       "\\item 8\n",
       "\\item 16\n",
       "\\item 16\n",
       "\\item 16\n",
       "\\item 8\n",
       "\\item 8\n",
       "\\item 8\n",
       "\\item 8\n",
       "\\item 16\n",
       "\\item 16\n",
       "\\item 16\n",
       "\\item 8\n",
       "\\item 8\n",
       "\\item 8\n",
       "\\item 8\n",
       "\\item 16\n",
       "\\item 16\n",
       "\\item 16\n",
       "\\item 16\n",
       "\\item 8\n",
       "\\item 8\n",
       "\\item 8\n",
       "\\item 8\n",
       "\\item 16\n",
       "\\item 16\n",
       "\\item 16\n",
       "\\item 16\n",
       "\\item 8\n",
       "\\item 8\n",
       "\\item 8\n",
       "\\item 8\n",
       "\\item 16\n",
       "\\item 16\n",
       "\\item 16\n",
       "\\item 16\n",
       "\\item 8\n",
       "\\item 8\n",
       "\\item 8\n",
       "\\item 8\n",
       "\\item 16\n",
       "\\item 16\n",
       "\\item 16\n",
       "\\item 16\n",
       "\\item 8\n",
       "\\item 8\n",
       "\\item 8\n",
       "\\item 16\n",
       "\\item 16\n",
       "\\item 16\n",
       "\\item 8\n",
       "\\item 8\n",
       "\\item 8\n",
       "\\item 16\n",
       "\\item 16\n",
       "\\item 16\n",
       "\\end{enumerate*}\n"
      ],
      "text/markdown": [
       "1. 8\n",
       "2. 8\n",
       "3. 8\n",
       "4. 8\n",
       "5. 16\n",
       "6. 16\n",
       "7. 16\n",
       "8. 8\n",
       "9. 8\n",
       "10. 8\n",
       "11. 8\n",
       "12. 16\n",
       "13. 16\n",
       "14. 16\n",
       "15. 8\n",
       "16. 8\n",
       "17. 8\n",
       "18. 8\n",
       "19. 16\n",
       "20. 16\n",
       "21. 16\n",
       "22. 16\n",
       "23. 8\n",
       "24. 8\n",
       "25. 8\n",
       "26. 8\n",
       "27. 16\n",
       "28. 16\n",
       "29. 16\n",
       "30. 16\n",
       "31. 8\n",
       "32. 8\n",
       "33. 8\n",
       "34. 8\n",
       "35. 16\n",
       "36. 16\n",
       "37. 16\n",
       "38. 16\n",
       "39. 8\n",
       "40. 8\n",
       "41. 8\n",
       "42. 8\n",
       "43. 16\n",
       "44. 16\n",
       "45. 16\n",
       "46. 16\n",
       "47. 8\n",
       "48. 8\n",
       "49. 8\n",
       "50. 16\n",
       "51. 16\n",
       "52. 16\n",
       "53. 8\n",
       "54. 8\n",
       "55. 8\n",
       "56. 16\n",
       "57. 16\n",
       "58. 16\n",
       "\n",
       "\n"
      ],
      "text/plain": [
       " [1]  8  8  8  8 16 16 16  8  8  8  8 16 16 16  8  8  8  8 16 16 16 16  8  8  8\n",
       "[26]  8 16 16 16 16  8  8  8  8 16 16 16 16  8  8  8  8 16 16 16 16  8  8  8 16\n",
       "[51] 16 16  8  8  8 16 16 16"
      ]
     },
     "metadata": {},
     "output_type": "display_data"
    }
   ],
   "source": [
    "# Now if we check our new data it will show us only 8 and 16..\n",
    "veg$Time2"
   ]
  },
  {
   "cell_type": "markdown",
   "id": "05809130",
   "metadata": {},
   "source": [
    "Now if we use this new encoded data in plotting we will see only two symbols."
   ]
  },
  {
   "cell_type": "code",
   "execution_count": 15,
   "id": "68cb5dc6",
   "metadata": {},
   "outputs": [
    {
     "data": {
      "image/png": "[encoded data removed]",
      "text/plain": [
       "Plot with title \"Species Richness VS Exposed Soil\""
      ]
     },
     "metadata": {},
     "output_type": "display_data"
    }
   ],
   "source": [
    "# Now to show different kind of symbole we need to use Transect vector which contains numeric values.\n",
    "# This time we will plot the pch according to Time values.\n",
    "plot(x=veg$BARESOIL, y=veg$R, xlab='Exposed Soil', ylab='Species Richness', \n",
    "    xlim=c(min(veg$BARESOIL, na.rm=TRUE), max(veg$BARESOIL, na.rm=TRUE)),\n",
    "    ylim=c(min(veg$R, na.rm=TRUE), max(veg$R, na.rm=TRUE)),\n",
    "    main=\"Species Richness VS Exposed Soil\", pch=veg$Time2)"
   ]
  },
  {
   "cell_type": "markdown",
   "id": "15cc2796",
   "metadata": {},
   "source": [
    "Note: here in above code we should avoid the values greater then 21 in a vector which is passed into pch argument.\n",
    "\n",
    "* if we pass `veg$Time` vector without encoded it will rease errors and we will not see any point in the graph. "
   ]
  },
  {
   "cell_type": "markdown",
   "id": "00b1ee5d",
   "metadata": {},
   "source": [
    "### 2. Changing the colour of plotting symbols.\n",
    "\n",
    "As we changed the symbol of the data point by using the `pch` argument similarly we can change the color of the data point by using the `col` argument.\n",
    "\n",
    "Note: col also takes numeric values to show the diffent kind of color in the graph, we can see the 1000+ color values in the full R documentation on color.\n",
    "\n",
    "* From now we will use dot point istead of circle."
   ]
  },
  {
   "cell_type": "markdown",
   "id": "325426c7",
   "metadata": {},
   "source": [
    "**Task1: Change the point color as red.**"
   ]
  },
  {
   "cell_type": "code",
   "execution_count": 16,
   "id": "75ded3f9",
   "metadata": {},
   "outputs": [
    {
     "data": {
      "image/png": "[encoded data removed]",
      "text/plain": [
       "Plot with title \"Species Richness VS Exposed Soil\""
      ]
     },
     "metadata": {},
     "output_type": "display_data"
    }
   ],
   "source": [
    "# Now to show different kind of symbole we need to use Transect vector which contains numeric values.\n",
    "# plotting data with dot point as red dot.\n",
    "plot(x=veg$BARESOIL, y=veg$R, xlab='Exposed Soil', ylab='Species Richness', \n",
    "    xlim=c(min(veg$BARESOIL, na.rm=TRUE), max(veg$BARESOIL, na.rm=TRUE)),\n",
    "    ylim=c(min(veg$R, na.rm=TRUE), max(veg$R, na.rm=TRUE)),\n",
    "    main=\"Species Richness VS Exposed Soil\", pch=16, col=2)"
   ]
  },
  {
   "cell_type": "markdown",
   "id": "2cb406d6",
   "metadata": {},
   "source": [
    "As you can see that we have changed the color of the data point. \n",
    "\n",
    "* We can use different color for differnt kind of data by passing a vector as we did in the `pch` argument.\n",
    "\n",
    "---\n",
    "\n",
    "**Task 2: Use different colors in plot with diffent dot points.**"
   ]
  },
  {
   "cell_type": "code",
   "execution_count": null,
   "id": "7be2f3c7",
   "metadata": {},
   "outputs": [],
   "source": []
  },
  {
   "cell_type": "code",
   "execution_count": 17,
   "id": "9b79080c",
   "metadata": {},
   "outputs": [
    {
     "data": {
      "image/png": "[encoded data removed]",
      "text/plain": [
       "Plot with title \"Species Richness VS Exposed Soil\""
      ]
     },
     "metadata": {},
     "output_type": "display_data"
    }
   ],
   "source": [
    "# In this againb we will plot different dot point for per Transedct and also we will use differnt color for per Transect.\n",
    "\n",
    "# Now to show different kind of symbole we need to use Transect vector which contains numeric values.\n",
    "# In this we need to use the veg$Transect vector in both pch and col argument\n",
    "\n",
    "# Note : if there are any 0 present in the veg$Transect vector then there will be no dot for that point.\n",
    "# because 0 is used for white color.\n",
    "\n",
    "plot(x=veg$BARESOIL, y=veg$R, xlab='Exposed Soil', ylab='Species Richness', \n",
    "    xlim=c(min(veg$BARESOIL, na.rm=TRUE), max(veg$BARESOIL, na.rm=TRUE)),\n",
    "    ylim=c(min(veg$R, na.rm=TRUE), max(veg$R, na.rm=TRUE)),\n",
    "    main=\"Species Richness VS Exposed Soil\", pch=veg$Transect, col=veg$Transect)"
   ]
  },
  {
   "cell_type": "markdown",
   "id": "b350312d",
   "metadata": {},
   "source": [
    "Note: Again there is too much information which makes our analysis complex to make it simple we will divide our data into two different categories as we did before and will plot them with red and green color."
   ]
  },
  {
   "cell_type": "code",
   "execution_count": 20,
   "id": "df8be57d",
   "metadata": {},
   "outputs": [],
   "source": [
    "# creating equilent vector to show differnt color \n",
    "veg$CTime[veg$Time <= 1974]  = 2\n",
    "veg$CTime[veg$Time > 1974] = 3"
   ]
  },
  {
   "cell_type": "code",
   "execution_count": 21,
   "id": "e7b0244d",
   "metadata": {},
   "outputs": [
    {
     "data": {
      "image/png": "[encoded data removed]",
      "text/plain": [
       "Plot with title \"Species Richness VS Exposed Soil\""
      ]
     },
     "metadata": {},
     "output_type": "display_data"
    }
   ],
   "source": [
    "# Now to show different kind of symbole we need to use Transect vector which contains numeric values.\n",
    "# This time we will plot the pch according to Time values.\n",
    "\n",
    "# Now we will pass a vector of containg red and green color values in col argument.\n",
    "# Note: length of the col vector should be equal and should have corresponding color value.\n",
    "# Which is created in above cell.\n",
    "\n",
    "plot(x=veg$BARESOIL, y=veg$R, xlab='Exposed Soil', ylab='Species Richness', \n",
    "    xlim=c(min(veg$BARESOIL, na.rm=TRUE), max(veg$BARESOIL, na.rm=TRUE)),\n",
    "    ylim=c(min(veg$R, na.rm=TRUE), max(veg$R, na.rm=TRUE)),\n",
    "    main=\"Species Richness VS Exposed Soil\", pch=veg$Time2, col=veg$CTime)"
   ]
  },
  {
   "cell_type": "markdown",
   "id": "227ccf2e",
   "metadata": {},
   "source": [
    "Now this plot look good and we can make get some usefull information according to our need. we can perform this kind of operation on other data presented in our dataframe."
   ]
  },
  {
   "cell_type": "markdown",
   "id": "a3b3473e",
   "metadata": {},
   "source": [
    "### 3. Altering the Size of Plotting Symbols\n",
    "\n",
    "The size of the plotting symbols can be changed with `cex` option, and again, this can be added as an argument to the plot command.\n",
    "\n",
    "`Note:` There is no need to create a plot for per Transect we will apply it on veg$Time data to make it simple with dot points only.\n",
    "\n",
    "`Note2:` we can pass vector or a single value as in **cex** option as we did in the **col and pch** argument."
   ]
  },
  {
   "cell_type": "code",
   "execution_count": 22,
   "id": "7a6585be",
   "metadata": {},
   "outputs": [],
   "source": [
    "# creating equilent vector for two diffent size \n",
    "veg$Size1[veg$Time <= 1974]  = 1\n",
    "veg$Size1[veg$Time > 1974] = 1.5"
   ]
  },
  {
   "cell_type": "code",
   "execution_count": 23,
   "id": "6e58e55e",
   "metadata": {},
   "outputs": [
    {
     "data": {
      "image/png": "[encoded data removed]",
      "text/plain": [
       "Plot with title \"Species Richness VS Exposed Soil\""
      ]
     },
     "metadata": {},
     "output_type": "display_data"
    }
   ],
   "source": [
    "plot(x=veg$BARESOIL, y=veg$R, xlab='Exposed Soil', ylab='Species Richness', \n",
    "    xlim=c(min(veg$BARESOIL, na.rm=TRUE), max(veg$BARESOIL, na.rm=TRUE)),\n",
    "    ylim=c(min(veg$R, na.rm=TRUE), max(veg$R, na.rm=TRUE)),\n",
    "    main=\"Species Richness VS Exposed Soil\", pch=16, col=veg$CTime, cex=veg$Size1)"
   ]
  },
  {
   "cell_type": "markdown",
   "id": "a3d8db3d",
   "metadata": {},
   "source": [
    "Now we have got a plot with two different size and color as expected.\n",
    "\n",
    "___"
   ]
  },
  {
   "cell_type": "markdown",
   "id": "1f7b3dab",
   "metadata": {},
   "source": [
    "## 3. Adding a Smoothing Line\n",
    "\n",
    "Sometimes it is very difficult to see the pattarn in the grap which show the relation b/w two variable as we did in above graph. To solve this proble we can add a smooth line which can show the relation very clear.\n",
    "\n",
    "* Smooth line or curve and be added by using the lines function which will superimposes the fitted smoothing curve over the plot.\n",
    "\n",
    "* `Note:` There are a few step before adding or making a smooth line.\n",
    "    1.  First of all we will make a Regression fitting to which will create reduce our scattered data into a data which follow a line or curve.\n",
    "    2. Now we will extract the Regression model fitted value to make curve from them.\n",
    "    3. Now we will sort or ordered them into low to high to make it smooth.\n",
    "    4. Finaly will use lines() function to make smooth curve or line."
   ]
  },
  {
   "cell_type": "code",
   "execution_count": 27,
   "id": "0c522a0b",
   "metadata": {},
   "outputs": [],
   "source": [
    "# Using loess function which is a Local Polynomial Regression Fitting model.\n",
    "# We will perform this b/w R and BARESOIL in which R is a function of BARESOIL (R ~ BARESOIL)\n",
    "M.Loess = loess(R ~ BARESOIL, data=veg)"
   ]
  },
  {
   "cell_type": "code",
   "execution_count": 28,
   "id": "415af0f0",
   "metadata": {},
   "outputs": [],
   "source": [
    "# Now we need to extract the loess model fitted values by using fitted() function.\n",
    "Fit = fitted(M.Loess)"
   ]
  },
  {
   "cell_type": "code",
   "execution_count": 32,
   "id": "df2cf71b",
   "metadata": {},
   "outputs": [
    {
     "data": {
      "image/png": "[encoded data removed]",
      "text/plain": [
       "plot without title"
      ]
     },
     "metadata": {},
     "output_type": "display_data"
    }
   ],
   "source": [
    "plot(y=Fit, x=veg$BARESOIL, col=2, pch=16)"
   ]
  },
  {
   "cell_type": "markdown",
   "id": "50a598e5",
   "metadata": {},
   "source": [
    "Now As you can see that we have got the loess model fitted values which will be used to make a smooth curve or line.\n",
    "\n",
    "* Now we will create a smooth line by using the lines() function using this fitted values."
   ]
  },
  {
   "cell_type": "code",
   "execution_count": 35,
   "id": "23174a98",
   "metadata": {},
   "outputs": [
    {
     "data": {
      "image/png": "[encoded data removed]",
      "text/plain": [
       "plot without title"
      ]
     },
     "metadata": {},
     "output_type": "display_data"
    }
   ],
   "source": [
    "# We will create lines over the above plot.\n",
    "plot(y=Fit, x=veg$BARESOIL, col=2, pch=16)\n",
    "lines(veg$BARESOIL, Fit)"
   ]
  },
  {
   "cell_type": "markdown",
   "id": "a99adeeb",
   "metadata": {},
   "source": [
    "Note: As we can see in the resulted graph there are many lines which looks dirty and can cause wrong infromation during the analysis so we need to avoid this. This problem can be solved by sorting the fitted values or we can make a sorted order which can be used to sort both the x, and y variable which will give us a final and smooth curve."
   ]
  },
  {
   "cell_type": "code",
   "execution_count": 36,
   "id": "50e3b0b0",
   "metadata": {},
   "outputs": [
    {
     "data": {
      "image/png": "[encoded data removed]",
      "text/plain": [
       "plot without title"
      ]
     },
     "metadata": {},
     "output_type": "display_data"
    }
   ],
   "source": [
    "# Now we will create another sorted vector from the fitted values\n",
    "order1 = order(Fit)\n",
    "# this order1 values will be used to make a smooth line by placing them in the variables.\n",
    "\n",
    "plot(y=Fit, x=veg$BARESOIL, col=2, pch=16)\n",
    "lines(veg$BARESOIL[order1], Fit[order1])"
   ]
  },
  {
   "cell_type": "markdown",
   "id": "bb145534",
   "metadata": {},
   "source": [
    "`Note:` We can also make smooth line by sorting the BARESOIL data"
   ]
  },
  {
   "cell_type": "code",
   "execution_count": 37,
   "id": "1ee257d8",
   "metadata": {},
   "outputs": [
    {
     "data": {
      "image/png": "[encoded data removed]",
      "text/plain": [
       "plot without title"
      ]
     },
     "metadata": {},
     "output_type": "display_data"
    }
   ],
   "source": [
    "# Now we will create another sorted vector from BARESOIL data.\n",
    "order1 = order(veg$BARESOIL)\n",
    "# this order1 values will be used to make a smooth line by placing them in the variables.\n",
    "\n",
    "plot(y=Fit, x=veg$BARESOIL, col=2, pch=16)\n",
    "lines(veg$BARESOIL[order1], Fit[order1])"
   ]
  },
  {
   "cell_type": "markdown",
   "id": "0a393930",
   "metadata": {},
   "source": [
    "`Note:` Independent variable gives us more smooth line insted of fitted values, So from now we will use the independent variable data point to make a smooth line.\n",
    "\n",
    "* Now we will place all the above code at one place to see the final result."
   ]
  },
  {
   "cell_type": "code",
   "execution_count": 43,
   "id": "d4ae2a41",
   "metadata": {},
   "outputs": [
    {
     "data": {
      "image/png": "[encoded data removed]",
      "text/plain": [
       "Plot with title \"Species Richness VS Exposed Soil\""
      ]
     },
     "metadata": {},
     "output_type": "display_data"
    }
   ],
   "source": [
    "# 1. First of all creating the scattered plot by using the R and BARESOIL data.\n",
    "plot(x=veg$BARESOIL, y=veg$R, xlab='Exposed Soil', ylab='Species Richness', \n",
    "    xlim=c(min(veg$BARESOIL, na.rm=TRUE), max(veg$BARESOIL, na.rm=TRUE)),\n",
    "    ylim=c(min(veg$R, na.rm=TRUE), max(veg$R, na.rm=TRUE)),\n",
    "    main=\"Species Richness VS Exposed Soil\", pch=16, col=2)\n",
    "\n",
    "# 2. Now we will make a Regression model by using the Loess function.\n",
    "M.Loess = loess(R ~ BARESOIL, data=veg)\n",
    "\n",
    "# 3. Extracting the fitted data from the Regressed model.\n",
    "Fit = fitted(M.Loess)\n",
    "\n",
    "# 4. Sorting or making the data into low to high order by using BARESOIL data.\n",
    "order1 = order(veg$BARESOIL)\n",
    "\n",
    "# 5. Usign this order to make a smooth line\n",
    "lines(veg$BARESOIL[order1], Fit[order1], col=3, lwd=3)\n",
    "    # lwd is used to increase the size of line width."
   ]
  },
  {
   "cell_type": "markdown",
   "id": "cdd90dfc",
   "metadata": {},
   "source": [
    "`Conclusion:` Form the above graph b/w R and BARESOIL data we have found that there is decrement in Richness of Species as BARESOIL expose becomes high.\n",
    "\n",
    "* In another word, The smoothing function seems to indicate that there is a negative effect of BARESOIL on species richness."
   ]
  },
  {
   "cell_type": "code",
   "execution_count": 45,
   "id": "2616ed82",
   "metadata": {},
   "outputs": [
    {
     "data": {
      "text/html": [
       "'Hello.jph'"
      ],
      "text/latex": [
       "'Hello.jph'"
      ],
      "text/markdown": [
       "'Hello.jph'"
      ],
      "text/plain": [
       "[1] \"Hello.jph\""
      ]
     },
     "metadata": {},
     "output_type": "display_data"
    }
   ],
   "source": [
    "paste(\"Hello\",\".jph\", sep=\"\")"
   ]
  },
  {
   "cell_type": "code",
   "execution_count": null,
   "id": "eb988c3b",
   "metadata": {},
   "outputs": [],
   "source": []
  }
 ],
 "metadata": {
  "kernelspec": {
   "display_name": "R",
   "language": "R",
   "name": "ir"
  },
  "language_info": {
   "codemirror_mode": "r",
   "file_extension": ".r",
   "mimetype": "text/x-r-source",
   "name": "R",
   "pygments_lexer": "r",
   "version": "3.6.1"
  }
 },
 "nbformat": 4,
 "nbformat_minor": 5
}
